{
 "cells": [
  {
   "cell_type": "code",
   "execution_count": 513,
   "metadata": {},
   "outputs": [],
   "source": [
    "import tensorflow as tf\n",
    "from tensorflow import keras\n",
    "from tensorflow.keras import layers\n",
    "import numpy as np\n",
    "import pandas as pd"
   ]
  },
  {
   "cell_type": "code",
   "execution_count": 514,
   "metadata": {},
   "outputs": [],
   "source": [
    "import matplotlib.pyplot as plt\n",
    "import seaborn as sns\n",
    "import plotly.express as px\n",
    "import plotly.graph_objects as go\n",
    "sns.set()"
   ]
  },
  {
   "cell_type": "markdown",
   "metadata": {},
   "source": [
    "# CUSTOM LAYERS"
   ]
  },
  {
   "cell_type": "code",
   "execution_count": 515,
   "metadata": {},
   "outputs": [],
   "source": [
    "class InputLayer(tf.keras.layers.Layer):\n",
    "  def __init__(self, name):\n",
    "    super(InputLayer, self).__init__(name=name)\n",
    "    self.a = tf.Variable(initial_value=tf.zeros(shape=[2,14]), trainable=False, name= self.name + \"_activation\")\n",
    "    \n",
    "  def call(self, inputs):\n",
    "    a1a1 = tf.reshape(inputs[0],shape=(1,1))   #1\n",
    "    a1a2 = tf.reshape(inputs[1],shape=(1,1))   #2 \n",
    "    a1a2a2 = tf.reshape(inputs[2],shape=(1,1)) #3\n",
    "    a1a2a1 = tf.reshape(inputs[3],shape=(1,1)) #4\n",
    "    a2a2 = tf.reshape(inputs[4],shape=(1,1))   #5\n",
    "    a2a1 = tf.reshape(inputs[5],shape=(1,1))   #6\n",
    "    a2a1a1 = tf.reshape(inputs[6],shape=(1,1)) #7\n",
    "    a2a1a2 = tf.reshape(inputs[7],shape=(1,1)) #8\n",
    "\n",
    "    to_hidden = []\n",
    "    to_hidden.append((tf.concat([a1a2a2, a2a2], axis = 1)))   #[\"TrRi\"] [3,5]\n",
    "    to_hidden.append((tf.concat([a1a2a1, a2a1], axis = 1)))   #[\"RiTr\"] [4,6] \n",
    "    to_hidden.append((tf.concat([a1a1, a2a1], axis = 1)))     #[\"Plu\"]  [1,6] \n",
    "    to_hidden.append((tf.concat([a1a2, a1a2a2], axis = 1)))   #[\"TTra\"] [2,3] \n",
    "    to_hidden.append((tf.concat([a2a1, a2a1a1], axis = 1)))   #[\"TTrb\"] [6,7] \n",
    "    to_hidden.append((tf.concat([a1a2, a2a1], axis = 1)))     #[\"Tr\"]   [2,6]\n",
    "    to_hidden.append((tf.concat([a1a2a1, a2a1a2], axis = 1))) #[\"MeTr\"] [4,8] \n",
    "    to_hidden.append((tf.concat([a1a2a1, a1a2], axis = 1)))   #[\"MoTr\"] [4,2] \n",
    "    to_hidden.append((tf.concat([a1a1, a1a2a1], axis = 1)))   #[\"RiRi\"] [1,4] \n",
    "    to_hidden.append((tf.concat([a1a1, a1a2], axis = 1)))     #[\"MoFo\"] [1,2] \n",
    "    to_hidden.append((tf.concat([a1a2a2, a1a2a1], axis = 1))) #[\"MMof\"] [3,4] \n",
    "    to_hidden.append((tf.concat([a1a1, a1a2a2], axis = 1)))   #[\"MoRi\"] [1,3] \n",
    "    to_hidden.append((tf.concat([a1a2a2, a2a1a1], axis = 1))) #[\"MeRi\"] [3,7] \n",
    "    to_hidden.append((tf.concat([a1a1, a2a2], axis = 1)))     #[\"Ri\"]   [1,5] \n",
    "\n",
    "    output = tf.concat(to_hidden,axis = 0)\n",
    "    output = tf.transpose(output)\n",
    "    self.a.assign(output)\n",
    "    return self.a.value()"
   ]
  },
  {
   "cell_type": "code",
   "execution_count": 516,
   "metadata": {},
   "outputs": [],
   "source": [
    "class HiddenLayer(tf.keras.layers.Layer):\n",
    "  def __init__(self, name, weights_init_val, bias_init_val):\n",
    "    super(HiddenLayer, self).__init__(name = name)\n",
    "    self.units = 14\n",
    "    self.weights_init_val = weights_init_val\n",
    "    self.bias_init_val = bias_init_val\n",
    "\n",
    "  def build(self, input_shape):\n",
    "    shape = [int(input_shape[0]), self.units]\n",
    "    self.w = self.add_weight(initializer = tf.initializers.Constant(self.weights_init_val) ,\n",
    "                              shape= shape,\n",
    "                              name = self.name + \"_weights\")\n",
    "    self.b = self.add_weight(initializer = tf.initializers.Constant(self.bias_init_val) ,\n",
    "                              shape= [1, self.units],\n",
    "                              name = self.name + \"_biases\")\n",
    "\n",
    "    self.deltaA = tf.Variable(initial_value=tf.zeros(shape = [1, self.units]),trainable=False, name= self.name + \"_adjustements\")\n",
    "    self.a = tf.Variable(initial_value=tf.zeros(shape = [1, self.units]),trainable=False, name= self.name + \"_activation\")\n",
    "\n",
    "  def call(self, inputs, temperature):\n",
    "     # i pesi dei neuroni sono considerati in colonna\n",
    "    net = tf.math.reduce_sum(inputs * self.w, axis=0) \n",
    "    self.a.assign( 1/( 1 + tf.exp( -( (net + self.b)/temperature)) ) )\n",
    "    return self.a.value()\n"
   ]
  },
  {
   "cell_type": "code",
   "execution_count": 517,
   "metadata": {},
   "outputs": [],
   "source": [
    "class OutputLayer(tf.keras.layers.Layer):\n",
    "  def __init__(self, name, weights_init_val, bias_init_val):\n",
    "    super(OutputLayer, self).__init__(name = name)\n",
    "    self.units = 14\n",
    "    self.weights_init_val = weights_init_val\n",
    "    self.bias_init_val = bias_init_val\n",
    "\n",
    "  def build(self, input_shape):\n",
    "    shape = [int(input_shape[-1]), self.units]\n",
    "    self.w = self.add_weight(initializer = tf.initializers.Constant(self.weights_init_val) ,\n",
    "                              shape= shape,\n",
    "                              name = self.name + \"_weights\")\n",
    "    self.b = self.add_weight(initializer = tf.initializers.Constant(self.bias_init_val) ,\n",
    "                              shape= [1, self.units],\n",
    "                              name = self.name + \"_biases\")\n",
    "\n",
    "    self.deltaA = tf.Variable(initial_value=tf.zeros(shape = [1, self.units]),trainable=False, name= self.name + \"_adjustements\")\n",
    "    self.a = tf.Variable(initial_value=tf.zeros(shape = [1, self.units]),trainable=False, name= self.name + \"_activation\")\n",
    "\n",
    "  def call(self, inputs, temperature):\n",
    "     # i pesi dei neuroni sono considerati in colonna\n",
    "     \n",
    "    net = tf.matmul(inputs,self.w) \n",
    "    self.a.assign( 1/( 1 + tf.exp( -( (net + self.b)/temperature)) ) )\n",
    "    return self.a.value()"
   ]
  },
  {
   "cell_type": "markdown",
   "metadata": {},
   "source": [
    "### Testing foward pass"
   ]
  },
  {
   "cell_type": "code",
   "execution_count": 518,
   "metadata": {},
   "outputs": [
    {
     "data": {
      "text/plain": [
       "<tf.Tensor: shape=(8,), dtype=float32, numpy=array([0.1, 0.2, 0.3, 0.4, 0.5, 0.6, 0.7, 0.8], dtype=float32)>"
      ]
     },
     "execution_count": 518,
     "metadata": {},
     "output_type": "execute_result"
    }
   ],
   "source": [
    "x = tf.constant([0.1, 0.2, 0.3, 0.4, 0.5, 0.6, 0.7, 0.8])\n",
    "#x = tf.constant([0.0, 0.0, 0.0, 0.0, 1.0, 1.0, 1.0, 1.0])\n",
    "x"
   ]
  },
  {
   "cell_type": "code",
   "execution_count": 519,
   "metadata": {},
   "outputs": [
    {
     "data": {
      "text/plain": [
       "<__main__.InputLayer at 0x7f693caa8ac0>"
      ]
     },
     "execution_count": 519,
     "metadata": {},
     "output_type": "execute_result"
    }
   ],
   "source": [
    "input_layer = InputLayer(name = \"InputLayer\")\n",
    "input_layer"
   ]
  },
  {
   "cell_type": "code",
   "execution_count": 520,
   "metadata": {},
   "outputs": [
    {
     "data": {
      "text/plain": [
       "<tf.Tensor: shape=(2, 14), dtype=float32, numpy=\n",
       "array([[0.3, 0.4, 0.1, 0.2, 0.6, 0.2, 0.4, 0.4, 0.1, 0.1, 0.3, 0.1, 0.3,\n",
       "        0.1],\n",
       "       [0.5, 0.6, 0.6, 0.3, 0.7, 0.6, 0.8, 0.2, 0.4, 0.2, 0.4, 0.3, 0.7,\n",
       "        0.5]], dtype=float32)>"
      ]
     },
     "execution_count": 520,
     "metadata": {},
     "output_type": "execute_result"
    }
   ],
   "source": [
    "res_input = input_layer(x)\n",
    "res_input"
   ]
  },
  {
   "cell_type": "code",
   "execution_count": 521,
   "metadata": {},
   "outputs": [
    {
     "data": {
      "text/plain": [
       "<tf.Variable 'InputLayer_activation:0' shape=(2, 14) dtype=float32, numpy=\n",
       "array([[0.3, 0.4, 0.1, 0.2, 0.6, 0.2, 0.4, 0.4, 0.1, 0.1, 0.3, 0.1, 0.3,\n",
       "        0.1],\n",
       "       [0.5, 0.6, 0.6, 0.3, 0.7, 0.6, 0.8, 0.2, 0.4, 0.2, 0.4, 0.3, 0.7,\n",
       "        0.5]], dtype=float32)>"
      ]
     },
     "execution_count": 521,
     "metadata": {},
     "output_type": "execute_result"
    }
   ],
   "source": [
    "input_layer.a"
   ]
  },
  {
   "cell_type": "code",
   "execution_count": 522,
   "metadata": {},
   "outputs": [
    {
     "data": {
      "text/plain": [
       "<__main__.HiddenLayer at 0x7f694c722340>"
      ]
     },
     "execution_count": 522,
     "metadata": {},
     "output_type": "execute_result"
    }
   ],
   "source": [
    "hidden_layer = HiddenLayer(name = \"HiddenLayer\",weights_init_val=0.5, bias_init_val=0.0)\n",
    "hidden_layer"
   ]
  },
  {
   "cell_type": "code",
   "execution_count": 523,
   "metadata": {},
   "outputs": [
    {
     "data": {
      "text/plain": [
       "<tf.Tensor: shape=(1, 14), dtype=float32, numpy=\n",
       "array([[0.59868765, 0.62245935, 0.5866176 , 0.5621765 , 0.65701044,\n",
       "        0.59868765, 0.6456563 , 0.5744425 , 0.5621765 , 0.5374298 ,\n",
       "        0.5866176 , 0.54983395, 0.62245935, 0.5744425 ]], dtype=float32)>"
      ]
     },
     "execution_count": 523,
     "metadata": {},
     "output_type": "execute_result"
    }
   ],
   "source": [
    "res_hidden = hidden_layer(inputs = res_input, temperature = 1)\n",
    "res_hidden"
   ]
  },
  {
   "cell_type": "code",
   "execution_count": 524,
   "metadata": {},
   "outputs": [
    {
     "data": {
      "text/plain": [
       "<tf.Variable 'HiddenLayer/HiddenLayer_weights:0' shape=(2, 14) dtype=float32, numpy=\n",
       "array([[0.5, 0.5, 0.5, 0.5, 0.5, 0.5, 0.5, 0.5, 0.5, 0.5, 0.5, 0.5, 0.5,\n",
       "        0.5],\n",
       "       [0.5, 0.5, 0.5, 0.5, 0.5, 0.5, 0.5, 0.5, 0.5, 0.5, 0.5, 0.5, 0.5,\n",
       "        0.5]], dtype=float32)>"
      ]
     },
     "execution_count": 524,
     "metadata": {},
     "output_type": "execute_result"
    }
   ],
   "source": [
    "hidden_layer.w"
   ]
  },
  {
   "cell_type": "code",
   "execution_count": 525,
   "metadata": {},
   "outputs": [
    {
     "data": {
      "text/plain": [
       "<tf.Variable 'HiddenLayer/HiddenLayer_activation:0' shape=(1, 14) dtype=float32, numpy=\n",
       "array([[0.59868765, 0.62245935, 0.5866176 , 0.5621765 , 0.65701044,\n",
       "        0.59868765, 0.6456563 , 0.5744425 , 0.5621765 , 0.5374298 ,\n",
       "        0.5866176 , 0.54983395, 0.62245935, 0.5744425 ]], dtype=float32)>"
      ]
     },
     "execution_count": 525,
     "metadata": {},
     "output_type": "execute_result"
    }
   ],
   "source": [
    "hidden_layer.a"
   ]
  },
  {
   "cell_type": "code",
   "execution_count": 526,
   "metadata": {},
   "outputs": [
    {
     "data": {
      "text/plain": [
       "<__main__.OutputLayer at 0x7f693c5c4880>"
      ]
     },
     "execution_count": 526,
     "metadata": {},
     "output_type": "execute_result"
    }
   ],
   "source": [
    "output_layer = OutputLayer(name = \"OutputLayer\",weights_init_val=0.59, bias_init_val=0.0)\n",
    "output_layer"
   ]
  },
  {
   "cell_type": "code",
   "execution_count": 527,
   "metadata": {},
   "outputs": [
    {
     "data": {
      "text/plain": [
       "<tf.Tensor: shape=(1, 14), dtype=float32, numpy=\n",
       "array([[0.99249333, 0.99249333, 0.99249333, 0.99249333, 0.99249333,\n",
       "        0.99249333, 0.99249333, 0.99249333, 0.99249333, 0.99249333,\n",
       "        0.99249333, 0.99249333, 0.99249333, 0.99249333]], dtype=float32)>"
      ]
     },
     "execution_count": 527,
     "metadata": {},
     "output_type": "execute_result"
    }
   ],
   "source": [
    "res_output = output_layer(inputs = res_hidden, temperature = 1)\n",
    "res_output"
   ]
  },
  {
   "cell_type": "code",
   "execution_count": 528,
   "metadata": {},
   "outputs": [
    {
     "data": {
      "text/plain": [
       "<tf.Variable 'OutputLayer/OutputLayer_weights:0' shape=(14, 14) dtype=float32, numpy=\n",
       "array([[0.59, 0.59, 0.59, 0.59, 0.59, 0.59, 0.59, 0.59, 0.59, 0.59, 0.59,\n",
       "        0.59, 0.59, 0.59],\n",
       "       [0.59, 0.59, 0.59, 0.59, 0.59, 0.59, 0.59, 0.59, 0.59, 0.59, 0.59,\n",
       "        0.59, 0.59, 0.59],\n",
       "       [0.59, 0.59, 0.59, 0.59, 0.59, 0.59, 0.59, 0.59, 0.59, 0.59, 0.59,\n",
       "        0.59, 0.59, 0.59],\n",
       "       [0.59, 0.59, 0.59, 0.59, 0.59, 0.59, 0.59, 0.59, 0.59, 0.59, 0.59,\n",
       "        0.59, 0.59, 0.59],\n",
       "       [0.59, 0.59, 0.59, 0.59, 0.59, 0.59, 0.59, 0.59, 0.59, 0.59, 0.59,\n",
       "        0.59, 0.59, 0.59],\n",
       "       [0.59, 0.59, 0.59, 0.59, 0.59, 0.59, 0.59, 0.59, 0.59, 0.59, 0.59,\n",
       "        0.59, 0.59, 0.59],\n",
       "       [0.59, 0.59, 0.59, 0.59, 0.59, 0.59, 0.59, 0.59, 0.59, 0.59, 0.59,\n",
       "        0.59, 0.59, 0.59],\n",
       "       [0.59, 0.59, 0.59, 0.59, 0.59, 0.59, 0.59, 0.59, 0.59, 0.59, 0.59,\n",
       "        0.59, 0.59, 0.59],\n",
       "       [0.59, 0.59, 0.59, 0.59, 0.59, 0.59, 0.59, 0.59, 0.59, 0.59, 0.59,\n",
       "        0.59, 0.59, 0.59],\n",
       "       [0.59, 0.59, 0.59, 0.59, 0.59, 0.59, 0.59, 0.59, 0.59, 0.59, 0.59,\n",
       "        0.59, 0.59, 0.59],\n",
       "       [0.59, 0.59, 0.59, 0.59, 0.59, 0.59, 0.59, 0.59, 0.59, 0.59, 0.59,\n",
       "        0.59, 0.59, 0.59],\n",
       "       [0.59, 0.59, 0.59, 0.59, 0.59, 0.59, 0.59, 0.59, 0.59, 0.59, 0.59,\n",
       "        0.59, 0.59, 0.59],\n",
       "       [0.59, 0.59, 0.59, 0.59, 0.59, 0.59, 0.59, 0.59, 0.59, 0.59, 0.59,\n",
       "        0.59, 0.59, 0.59],\n",
       "       [0.59, 0.59, 0.59, 0.59, 0.59, 0.59, 0.59, 0.59, 0.59, 0.59, 0.59,\n",
       "        0.59, 0.59, 0.59]], dtype=float32)>"
      ]
     },
     "execution_count": 528,
     "metadata": {},
     "output_type": "execute_result"
    }
   ],
   "source": [
    "output_layer.w"
   ]
  },
  {
   "cell_type": "code",
   "execution_count": 529,
   "metadata": {},
   "outputs": [
    {
     "data": {
      "text/plain": [
       "<tf.Variable 'OutputLayer/OutputLayer_activation:0' shape=(1, 14) dtype=float32, numpy=\n",
       "array([[0.99249333, 0.99249333, 0.99249333, 0.99249333, 0.99249333,\n",
       "        0.99249333, 0.99249333, 0.99249333, 0.99249333, 0.99249333,\n",
       "        0.99249333, 0.99249333, 0.99249333, 0.99249333]], dtype=float32)>"
      ]
     },
     "execution_count": 529,
     "metadata": {},
     "output_type": "execute_result"
    }
   ],
   "source": [
    "output_layer.a"
   ]
  },
  {
   "cell_type": "code",
   "execution_count": 530,
   "metadata": {},
   "outputs": [
    {
     "data": {
      "text/plain": [
       "<tf.Tensor: shape=(), dtype=float32, numpy=2.2692394>"
      ]
     },
     "execution_count": 530,
     "metadata": {},
     "output_type": "execute_result"
    }
   ],
   "source": [
    "error = tf.math.reduce_sum(tf.math.square(res_hidden - res_output))\n",
    "error"
   ]
  },
  {
   "cell_type": "markdown",
   "metadata": {},
   "source": [
    "### Test back propagation"
   ]
  },
  {
   "cell_type": "code",
   "execution_count": 531,
   "metadata": {},
   "outputs": [],
   "source": [
    "#alpha = 1"
   ]
  },
  {
   "cell_type": "code",
   "execution_count": 532,
   "metadata": {},
   "outputs": [],
   "source": [
    "#delta_Ao = res_output * (res_hidden - res_output) * (1 - res_output) + output_layer.deltaA * (res_hidden - res_output)\n",
    "#delta_Ao"
   ]
  },
  {
   "cell_type": "code",
   "execution_count": 533,
   "metadata": {},
   "outputs": [],
   "source": [
    "#res_hidden"
   ]
  },
  {
   "cell_type": "code",
   "execution_count": 534,
   "metadata": {},
   "outputs": [],
   "source": [
    "#tf.transpose(res_hidden)"
   ]
  },
  {
   "cell_type": "code",
   "execution_count": 535,
   "metadata": {},
   "outputs": [],
   "source": [
    "#delta_Ao"
   ]
  },
  {
   "cell_type": "code",
   "execution_count": 536,
   "metadata": {},
   "outputs": [],
   "source": [
    "#delta_Wo = alpha * tf.matmul(tf.transpose(res_hidden),delta_Ao)   #dubbio scambiare righe e colonne\n",
    "#delta_Wo"
   ]
  },
  {
   "cell_type": "code",
   "execution_count": 537,
   "metadata": {},
   "outputs": [],
   "source": [
    "#output_layer.w.assign_add(delta_Wo)\n",
    "#output_layer.w"
   ]
  },
  {
   "cell_type": "code",
   "execution_count": 538,
   "metadata": {},
   "outputs": [],
   "source": [
    "#delta_Ah = res_hidden * (1 - res_hidden) * (tf.matmul(delta_Ao , output_layer.w)) # dubbio scambiare righe per colonne\n",
    "#delta_Ah"
   ]
  },
  {
   "cell_type": "code",
   "execution_count": 539,
   "metadata": {},
   "outputs": [],
   "source": [
    "#delta_Wh = tf.transpose(alpha * tf.transpose(delta_Ah) * res_input)\n",
    "#delta_Wh"
   ]
  },
  {
   "cell_type": "code",
   "execution_count": 540,
   "metadata": {},
   "outputs": [],
   "source": [
    "#hidden_layer.w.assign_add(delta_Wh)\n",
    "#hidden_layer.w"
   ]
  },
  {
   "cell_type": "markdown",
   "metadata": {},
   "source": [
    "---"
   ]
  },
  {
   "cell_type": "markdown",
   "metadata": {},
   "source": [
    "# CUSTOM MODEL"
   ]
  },
  {
   "cell_type": "code",
   "execution_count": 541,
   "metadata": {},
   "outputs": [],
   "source": [
    "class MQSelfReflexiveNetwork(tf.keras.Model):\n",
    "  def __init__(self, learning_rate):\n",
    "    super(MQSelfReflexiveNetwork, self).__init__(name='MQSelfReflexiveNetwork')\n",
    "\n",
    "    self.input_layer = InputLayer(name = \"InputLayer\")\n",
    "    self.h = HiddenLayer(name = \"HiddenLayer\",weights_init_val=0.5, bias_init_val=0.2)\n",
    "    self.o = OutputLayer(name = \"OutputLayer\",weights_init_val=0.59, bias_init_val=0.2)\n",
    "    self.temperature = tf.Variable(initial_value=1.0,trainable=False, name = \"Temperature\")\n",
    "    self.error = tf.Variable(initial_value=0.0,trainable=False, name = \"Error\")\n",
    "    self.alpha = learning_rate\n",
    "\n",
    "  def call(self, input):\n",
    "    ### FOWARD PASS\n",
    "    res_input = self.input_layer(input)\n",
    "    res_hidden = self.h(res_input, self.temperature)\n",
    "    res_output = self.o(res_hidden, self.temperature)\n",
    "    return tf.math.reduce_sum(tf.math.square(res_hidden - res_output))\n",
    "  \n",
    "  def train_step(self, input):\n",
    "    ### CALL FOWARD PASS\n",
    "    self.error.assign(self(input, training = True))\n",
    "\n",
    "    ### BACK PROPAGATION\n",
    "    # Compute temperature\n",
    "    self.temperature.assign(1 - (1 / (1 + self.error) ))\n",
    "\n",
    "    # Update outputs weights\n",
    "    delta_Ao = self.o.a * (self.h.a - self.o.a) * (1 - self.o.a) + (self.o.deltaA * ((self.h.a - self.o.a)) )\n",
    "    delta_Wo = self.alpha * tf.matmul(tf.transpose(self.h.a),delta_Ao)\n",
    "    self.o.deltaA.assign(delta_Ao)\n",
    "    self.o.w.assign_add(delta_Wo)\n",
    "\n",
    "    ## Update hidden weights\n",
    "    delta_Ah = self.h.a * (1 - self.h.a) * tf.matmul(self.o.deltaA, self.o.w)\n",
    "    delta_Wh = self.alpha * delta_Ah * self.input_layer.a\n",
    "    self.h.deltaA.assign(delta_Ah)\n",
    "    self.h.w.assign_add(delta_Wh)\n",
    "\n",
    "    return {\n",
    "        \"Error\": tf.squeeze(self.error.value()),\n",
    "        \"Temperature\": tf.squeeze(self.temperature.value()),\n",
    "        \"Hidden weights\": tf.squeeze(self.h.w.value()),\n",
    "        \"Output weights\": tf.squeeze(self.o.w.value())\n",
    "        }"
   ]
  },
  {
   "cell_type": "code",
   "execution_count": 542,
   "metadata": {},
   "outputs": [],
   "source": [
    "# Construct an instance of CustomModel\n",
    "input = tf.constant([0.01, 0.00, 0.03, 0.224, 0.875, 0.266, 0.427, 0.168])\n",
    "#input = tf.constant([0.1, 0.2, 0.3, 0.4, 0.5, 0.6, 0.7, 0.8])\n",
    "model = MQSelfReflexiveNetwork(learning_rate=10)"
   ]
  },
  {
   "cell_type": "code",
   "execution_count": 543,
   "metadata": {},
   "outputs": [
    {
     "name": "stdout",
     "output_type": "stream",
     "text": [
      "Epoch 1/500\n",
      "1/1 [==============================] - 0s 249ms/step - Error: 2.0959 - Temperature: 0.6770 - Hidden weights: 0.4906 - Output weights: 0.5776\n",
      "Epoch 2/500\n",
      "1/1 [==============================] - 0s 2ms/step - Error: 1.7098 - Temperature: 0.6310 - Hidden weights: 0.4930 - Output weights: 0.5815\n",
      "Epoch 3/500\n",
      "1/1 [==============================] - 0s 3ms/step - Error: 1.5334 - Temperature: 0.6053 - Hidden weights: 0.4920 - Output weights: 0.5799\n",
      "Epoch 4/500\n",
      "1/1 [==============================] - 0s 2ms/step - Error: 1.6949 - Temperature: 0.6289 - Hidden weights: 0.4922 - Output weights: 0.5802\n",
      "Epoch 5/500\n",
      "1/1 [==============================] - 0s 6ms/step - Error: 1.5575 - Temperature: 0.6090 - Hidden weights: 0.4919 - Output weights: 0.5799\n",
      "Epoch 6/500\n",
      "1/1 [==============================] - 0s 3ms/step - Error: 1.7824 - Temperature: 0.6406 - Hidden weights: 0.4918 - Output weights: 0.5797\n",
      "Epoch 7/500\n",
      "1/1 [==============================] - 0s 2ms/step - Error: 1.6713 - Temperature: 0.6257 - Hidden weights: 0.4917 - Output weights: 0.5794\n",
      "Epoch 8/500\n",
      "1/1 [==============================] - 0s 3ms/step - Error: 1.7582 - Temperature: 0.6374 - Hidden weights: 0.4915 - Output weights: 0.5791\n",
      "Epoch 9/500\n",
      "1/1 [==============================] - 0s 6ms/step - Error: 1.7020 - Temperature: 0.6299 - Hidden weights: 0.4914 - Output weights: 0.5788\n",
      "Epoch 10/500\n",
      "1/1 [==============================] - 0s 3ms/step - Error: 1.6654 - Temperature: 0.6248 - Hidden weights: 0.4912 - Output weights: 0.5785\n",
      "Epoch 11/500\n",
      "1/1 [==============================] - 0s 2ms/step - Error: 1.8222 - Temperature: 0.6457 - Hidden weights: 0.4911 - Output weights: 0.5782\n",
      "Epoch 12/500\n",
      "1/1 [==============================] - 0s 2ms/step - Error: 1.6805 - Temperature: 0.6269 - Hidden weights: 0.4909 - Output weights: 0.5779\n",
      "Epoch 13/500\n",
      "1/1 [==============================] - 0s 6ms/step - Error: 1.6130 - Temperature: 0.6173 - Hidden weights: 0.4908 - Output weights: 0.5777\n",
      "Epoch 14/500\n",
      "1/1 [==============================] - 0s 4ms/step - Error: 1.4555 - Temperature: 0.5927 - Hidden weights: 0.4907 - Output weights: 0.5776\n",
      "Epoch 15/500\n",
      "1/1 [==============================] - 0s 2ms/step - Error: 1.3678 - Temperature: 0.5777 - Hidden weights: 0.4906 - Output weights: 0.5775\n",
      "Epoch 16/500\n",
      "1/1 [==============================] - 0s 4ms/step - Error: 1.5310 - Temperature: 0.6049 - Hidden weights: 0.4906 - Output weights: 0.5774\n",
      "Epoch 17/500\n",
      "1/1 [==============================] - 0s 6ms/step - Error: 1.4720 - Temperature: 0.5955 - Hidden weights: 0.4905 - Output weights: 0.5773\n",
      "Epoch 18/500\n",
      "1/1 [==============================] - 0s 3ms/step - Error: 1.6883 - Temperature: 0.6280 - Hidden weights: 0.4904 - Output weights: 0.5771\n",
      "Epoch 19/500\n",
      "1/1 [==============================] - 0s 3ms/step - Error: 1.5575 - Temperature: 0.6090 - Hidden weights: 0.4902 - Output weights: 0.5769\n",
      "Epoch 20/500\n",
      "1/1 [==============================] - 0s 2ms/step - Error: 1.4513 - Temperature: 0.5921 - Hidden weights: 0.4902 - Output weights: 0.5768\n",
      "Epoch 21/500\n",
      "1/1 [==============================] - 0s 6ms/step - Error: 1.5676 - Temperature: 0.6105 - Hidden weights: 0.4901 - Output weights: 0.5766\n",
      "Epoch 22/500\n",
      "1/1 [==============================] - 0s 3ms/step - Error: 1.5367 - Temperature: 0.6058 - Hidden weights: 0.4900 - Output weights: 0.5765\n",
      "Epoch 23/500\n",
      "1/1 [==============================] - 0s 3ms/step - Error: 1.4899 - Temperature: 0.5984 - Hidden weights: 0.4899 - Output weights: 0.5763\n",
      "Epoch 24/500\n",
      "1/1 [==============================] - 0s 2ms/step - Error: 1.3908 - Temperature: 0.5817 - Hidden weights: 0.4898 - Output weights: 0.5762\n",
      "Epoch 25/500\n",
      "1/1 [==============================] - 0s 6ms/step - Error: 1.4682 - Temperature: 0.5949 - Hidden weights: 0.4898 - Output weights: 0.5761\n",
      "Epoch 26/500\n",
      "1/1 [==============================] - 0s 3ms/step - Error: 1.4504 - Temperature: 0.5919 - Hidden weights: 0.4897 - Output weights: 0.5760\n",
      "Epoch 27/500\n",
      "1/1 [==============================] - 0s 3ms/step - Error: 1.4759 - Temperature: 0.5961 - Hidden weights: 0.4896 - Output weights: 0.5759\n",
      "Epoch 28/500\n",
      "1/1 [==============================] - 0s 2ms/step - Error: 1.6385 - Temperature: 0.6210 - Hidden weights: 0.4896 - Output weights: 0.5758\n",
      "Epoch 29/500\n",
      "1/1 [==============================] - 0s 7ms/step - Error: 1.4667 - Temperature: 0.5946 - Hidden weights: 0.4894 - Output weights: 0.5756\n",
      "Epoch 30/500\n",
      "1/1 [==============================] - 0s 3ms/step - Error: 1.4618 - Temperature: 0.5938 - Hidden weights: 0.4894 - Output weights: 0.5755\n",
      "Epoch 31/500\n",
      "1/1 [==============================] - 0s 3ms/step - Error: 1.7176 - Temperature: 0.6320 - Hidden weights: 0.4893 - Output weights: 0.5753\n",
      "Epoch 32/500\n",
      "1/1 [==============================] - 0s 2ms/step - Error: 1.4122 - Temperature: 0.5854 - Hidden weights: 0.4892 - Output weights: 0.5751\n",
      "Epoch 33/500\n",
      "1/1 [==============================] - 0s 7ms/step - Error: 1.3592 - Temperature: 0.5761 - Hidden weights: 0.4891 - Output weights: 0.5751\n",
      "Epoch 34/500\n",
      "1/1 [==============================] - 0s 3ms/step - Error: 1.3556 - Temperature: 0.5755 - Hidden weights: 0.4891 - Output weights: 0.5750\n",
      "Epoch 35/500\n",
      "1/1 [==============================] - 0s 2ms/step - Error: 1.5764 - Temperature: 0.6119 - Hidden weights: 0.4890 - Output weights: 0.5749\n",
      "Epoch 36/500\n",
      "1/1 [==============================] - 0s 2ms/step - Error: 1.4317 - Temperature: 0.5888 - Hidden weights: 0.4889 - Output weights: 0.5747\n",
      "Epoch 37/500\n",
      "1/1 [==============================] - 0s 6ms/step - Error: 1.4480 - Temperature: 0.5915 - Hidden weights: 0.4889 - Output weights: 0.5746\n",
      "Epoch 38/500\n",
      "1/1 [==============================] - 0s 3ms/step - Error: 1.5794 - Temperature: 0.6123 - Hidden weights: 0.4888 - Output weights: 0.5745\n",
      "Epoch 39/500\n",
      "1/1 [==============================] - 0s 2ms/step - Error: 1.8056 - Temperature: 0.6436 - Hidden weights: 0.4886 - Output weights: 0.5742\n",
      "Epoch 40/500\n",
      "1/1 [==============================] - 0s 3ms/step - Error: 1.8373 - Temperature: 0.6475 - Hidden weights: 0.4884 - Output weights: 0.5737\n",
      "Epoch 41/500\n",
      "1/1 [==============================] - 0s 6ms/step - Error: 1.6039 - Temperature: 0.6160 - Hidden weights: 0.4882 - Output weights: 0.5735\n",
      "Epoch 42/500\n",
      "1/1 [==============================] - 0s 3ms/step - Error: 1.5583 - Temperature: 0.6091 - Hidden weights: 0.4881 - Output weights: 0.5733\n",
      "Epoch 43/500\n",
      "1/1 [==============================] - 0s 2ms/step - Error: 1.4256 - Temperature: 0.5877 - Hidden weights: 0.4881 - Output weights: 0.5732\n",
      "Epoch 44/500\n",
      "1/1 [==============================] - 0s 2ms/step - Error: 1.3264 - Temperature: 0.5701 - Hidden weights: 0.4880 - Output weights: 0.5731\n",
      "Epoch 45/500\n",
      "1/1 [==============================] - 0s 6ms/step - Error: 1.4227 - Temperature: 0.5872 - Hidden weights: 0.4880 - Output weights: 0.5730\n",
      "Epoch 46/500\n",
      "1/1 [==============================] - 0s 3ms/step - Error: 1.5687 - Temperature: 0.6107 - Hidden weights: 0.4879 - Output weights: 0.5729\n",
      "Epoch 47/500\n",
      "1/1 [==============================] - 0s 2ms/step - Error: 1.7264 - Temperature: 0.6332 - Hidden weights: 0.4877 - Output weights: 0.5726\n",
      "Epoch 48/500\n",
      "1/1 [==============================] - 0s 3ms/step - Error: 1.4913 - Temperature: 0.5986 - Hidden weights: 0.4876 - Output weights: 0.5724\n",
      "Epoch 49/500\n",
      "1/1 [==============================] - 0s 6ms/step - Error: 1.5519 - Temperature: 0.6081 - Hidden weights: 0.4875 - Output weights: 0.5723\n",
      "Epoch 50/500\n",
      "1/1 [==============================] - 0s 3ms/step - Error: 1.5476 - Temperature: 0.6075 - Hidden weights: 0.4874 - Output weights: 0.5721\n",
      "Epoch 51/500\n",
      "1/1 [==============================] - 0s 2ms/step - Error: 1.7919 - Temperature: 0.6418 - Hidden weights: 0.4873 - Output weights: 0.5718\n",
      "Epoch 52/500\n",
      "1/1 [==============================] - 0s 3ms/step - Error: 1.5076 - Temperature: 0.6012 - Hidden weights: 0.4871 - Output weights: 0.5716\n",
      "Epoch 53/500\n",
      "1/1 [==============================] - 0s 6ms/step - Error: 1.3931 - Temperature: 0.5821 - Hidden weights: 0.4871 - Output weights: 0.5715\n",
      "Epoch 54/500\n",
      "1/1 [==============================] - 0s 3ms/step - Error: 1.5133 - Temperature: 0.6021 - Hidden weights: 0.4870 - Output weights: 0.5714\n",
      "Epoch 55/500\n",
      "1/1 [==============================] - 0s 3ms/step - Error: 1.4911 - Temperature: 0.5986 - Hidden weights: 0.4869 - Output weights: 0.5713\n",
      "Epoch 56/500\n",
      "1/1 [==============================] - 0s 2ms/step - Error: 1.8457 - Temperature: 0.6486 - Hidden weights: 0.4868 - Output weights: 0.5710\n",
      "Epoch 57/500\n",
      "1/1 [==============================] - 0s 7ms/step - Error: 1.5969 - Temperature: 0.6149 - Hidden weights: 0.4866 - Output weights: 0.5706\n",
      "Epoch 58/500\n",
      "1/1 [==============================] - 0s 3ms/step - Error: 1.4000 - Temperature: 0.5833 - Hidden weights: 0.4865 - Output weights: 0.5706\n",
      "Epoch 59/500\n",
      "1/1 [==============================] - 0s 2ms/step - Error: 1.5798 - Temperature: 0.6124 - Hidden weights: 0.4864 - Output weights: 0.5704\n",
      "Epoch 60/500\n",
      "1/1 [==============================] - 0s 2ms/step - Error: 1.5094 - Temperature: 0.6015 - Hidden weights: 0.4863 - Output weights: 0.5702\n",
      "Epoch 61/500\n",
      "1/1 [==============================] - 0s 6ms/step - Error: 1.6091 - Temperature: 0.6167 - Hidden weights: 0.4862 - Output weights: 0.5701\n",
      "Epoch 62/500\n",
      "1/1 [==============================] - 0s 3ms/step - Error: 1.4821 - Temperature: 0.5971 - Hidden weights: 0.4861 - Output weights: 0.5699\n",
      "Epoch 63/500\n",
      "1/1 [==============================] - 0s 2ms/step - Error: 1.3195 - Temperature: 0.5689 - Hidden weights: 0.4861 - Output weights: 0.5698\n",
      "Epoch 64/500\n",
      "1/1 [==============================] - 0s 3ms/step - Error: 1.6345 - Temperature: 0.6204 - Hidden weights: 0.4860 - Output weights: 0.5697\n",
      "Epoch 65/500\n",
      "1/1 [==============================] - 0s 5ms/step - Error: 1.5134 - Temperature: 0.6021 - Hidden weights: 0.4859 - Output weights: 0.5695\n",
      "Epoch 66/500\n",
      "1/1 [==============================] - 0s 2ms/step - Error: 1.6296 - Temperature: 0.6197 - Hidden weights: 0.4858 - Output weights: 0.5693\n",
      "Epoch 67/500\n",
      "1/1 [==============================] - 0s 3ms/step - Error: 1.7111 - Temperature: 0.6311 - Hidden weights: 0.4856 - Output weights: 0.5690\n",
      "Epoch 68/500\n",
      "1/1 [==============================] - 0s 6ms/step - Error: 1.6659 - Temperature: 0.6249 - Hidden weights: 0.4854 - Output weights: 0.5687\n",
      "Epoch 69/500\n",
      "1/1 [==============================] - 0s 4ms/step - Error: 1.7779 - Temperature: 0.6400 - Hidden weights: 0.4853 - Output weights: 0.5684\n",
      "Epoch 70/500\n",
      "1/1 [==============================] - 0s 3ms/step - Error: 1.6508 - Temperature: 0.6228 - Hidden weights: 0.4851 - Output weights: 0.5681\n",
      "Epoch 71/500\n",
      "1/1 [==============================] - 0s 2ms/step - Error: 1.6189 - Temperature: 0.6182 - Hidden weights: 0.4850 - Output weights: 0.5678\n",
      "Epoch 72/500\n",
      "1/1 [==============================] - 0s 7ms/step - Error: 1.6720 - Temperature: 0.6257 - Hidden weights: 0.4848 - Output weights: 0.5676\n",
      "Epoch 73/500\n",
      "1/1 [==============================] - 0s 3ms/step - Error: 1.7554 - Temperature: 0.6371 - Hidden weights: 0.4846 - Output weights: 0.5672\n",
      "Epoch 74/500\n",
      "1/1 [==============================] - 0s 3ms/step - Error: 1.4917 - Temperature: 0.5987 - Hidden weights: 0.4845 - Output weights: 0.5670\n",
      "Epoch 75/500\n",
      "1/1 [==============================] - 0s 3ms/step - Error: 1.7294 - Temperature: 0.6336 - Hidden weights: 0.4844 - Output weights: 0.5668\n",
      "Epoch 76/500\n",
      "1/1 [==============================] - 0s 4ms/step - Error: 1.5139 - Temperature: 0.6022 - Hidden weights: 0.4842 - Output weights: 0.5665\n",
      "Epoch 77/500\n",
      "1/1 [==============================] - 0s 3ms/step - Error: 1.6233 - Temperature: 0.6188 - Hidden weights: 0.4841 - Output weights: 0.5664\n",
      "Epoch 78/500\n",
      "1/1 [==============================] - 0s 2ms/step - Error: 1.6040 - Temperature: 0.6160 - Hidden weights: 0.4840 - Output weights: 0.5661\n",
      "Epoch 79/500\n",
      "1/1 [==============================] - 0s 2ms/step - Error: 1.4640 - Temperature: 0.5942 - Hidden weights: 0.4839 - Output weights: 0.5659\n",
      "Epoch 80/500\n",
      "1/1 [==============================] - 0s 7ms/step - Error: 1.5144 - Temperature: 0.6023 - Hidden weights: 0.4838 - Output weights: 0.5658\n",
      "Epoch 81/500\n",
      "1/1 [==============================] - 0s 3ms/step - Error: 1.4334 - Temperature: 0.5890 - Hidden weights: 0.4837 - Output weights: 0.5657\n",
      "Epoch 82/500\n",
      "1/1 [==============================] - 0s 3ms/step - Error: 1.4721 - Temperature: 0.5955 - Hidden weights: 0.4836 - Output weights: 0.5655\n",
      "Epoch 83/500\n",
      "1/1 [==============================] - 0s 2ms/step - Error: 1.5311 - Temperature: 0.6049 - Hidden weights: 0.4835 - Output weights: 0.5654\n",
      "Epoch 84/500\n",
      "1/1 [==============================] - 0s 6ms/step - Error: 1.6756 - Temperature: 0.6262 - Hidden weights: 0.4834 - Output weights: 0.5651\n",
      "Epoch 85/500\n",
      "1/1 [==============================] - 0s 3ms/step - Error: 1.7928 - Temperature: 0.6419 - Hidden weights: 0.4832 - Output weights: 0.5647\n",
      "Epoch 86/500\n",
      "1/1 [==============================] - 0s 2ms/step - Error: 1.7144 - Temperature: 0.6316 - Hidden weights: 0.4830 - Output weights: 0.5644\n",
      "Epoch 87/500\n",
      "1/1 [==============================] - 0s 3ms/step - Error: 1.5383 - Temperature: 0.6060 - Hidden weights: 0.4828 - Output weights: 0.5641\n",
      "Epoch 88/500\n",
      "1/1 [==============================] - 0s 4ms/step - Error: 1.4824 - Temperature: 0.5972 - Hidden weights: 0.4827 - Output weights: 0.5640\n",
      "Epoch 89/500\n",
      "1/1 [==============================] - 0s 3ms/step - Error: 1.5521 - Temperature: 0.6082 - Hidden weights: 0.4826 - Output weights: 0.5638\n",
      "Epoch 90/500\n",
      "1/1 [==============================] - 0s 2ms/step - Error: 1.8215 - Temperature: 0.6456 - Hidden weights: 0.4825 - Output weights: 0.5635\n",
      "Epoch 91/500\n",
      "1/1 [==============================] - 0s 2ms/step - Error: 1.5193 - Temperature: 0.6031 - Hidden weights: 0.4823 - Output weights: 0.5632\n",
      "Epoch 92/500\n",
      "1/1 [==============================] - 0s 7ms/step - Error: 1.3974 - Temperature: 0.5829 - Hidden weights: 0.4822 - Output weights: 0.5631\n",
      "Epoch 93/500\n",
      "1/1 [==============================] - 0s 3ms/step - Error: 1.4321 - Temperature: 0.5888 - Hidden weights: 0.4822 - Output weights: 0.5630\n",
      "Epoch 94/500\n",
      "1/1 [==============================] - 0s 2ms/step - Error: 1.3560 - Temperature: 0.5755 - Hidden weights: 0.4821 - Output weights: 0.5629\n",
      "Epoch 95/500\n",
      "1/1 [==============================] - 0s 3ms/step - Error: 1.2570 - Temperature: 0.5569 - Hidden weights: 0.4820 - Output weights: 0.5628\n",
      "Epoch 96/500\n",
      "1/1 [==============================] - 0s 6ms/step - Error: 1.4335 - Temperature: 0.5891 - Hidden weights: 0.4820 - Output weights: 0.5627\n",
      "Epoch 97/500\n",
      "1/1 [==============================] - 0s 3ms/step - Error: 1.6081 - Temperature: 0.6166 - Hidden weights: 0.4819 - Output weights: 0.5625\n",
      "Epoch 98/500\n",
      "1/1 [==============================] - 0s 2ms/step - Error: 1.6296 - Temperature: 0.6197 - Hidden weights: 0.4817 - Output weights: 0.5623\n",
      "Epoch 99/500\n",
      "1/1 [==============================] - 0s 2ms/step - Error: 1.4829 - Temperature: 0.5972 - Hidden weights: 0.4816 - Output weights: 0.5621\n",
      "Epoch 100/500\n",
      "1/1 [==============================] - 0s 8ms/step - Error: 1.4260 - Temperature: 0.5878 - Hidden weights: 0.4815 - Output weights: 0.5620\n",
      "Epoch 101/500\n",
      "1/1 [==============================] - 0s 3ms/step - Error: 1.4462 - Temperature: 0.5912 - Hidden weights: 0.4815 - Output weights: 0.5618\n",
      "Epoch 102/500\n",
      "1/1 [==============================] - 0s 3ms/step - Error: 1.3973 - Temperature: 0.5829 - Hidden weights: 0.4814 - Output weights: 0.5617\n",
      "Epoch 103/500\n",
      "1/1 [==============================] - 0s 6ms/step - Error: 1.3690 - Temperature: 0.5779 - Hidden weights: 0.4813 - Output weights: 0.5616\n",
      "Epoch 104/500\n",
      "1/1 [==============================] - 0s 3ms/step - Error: 1.5920 - Temperature: 0.6142 - Hidden weights: 0.4812 - Output weights: 0.5615\n",
      "Epoch 105/500\n",
      "1/1 [==============================] - 0s 3ms/step - Error: 1.4924 - Temperature: 0.5988 - Hidden weights: 0.4811 - Output weights: 0.5613\n",
      "Epoch 106/500\n",
      "1/1 [==============================] - ETA: 0s - Error: 1.7768 - Temperature: 0.6399 - Hidden weights: 0.4810 - Output weights: 0.56 - 0s 2ms/step - Error: 1.7768 - Temperature: 0.6399 - Hidden weights: 0.4810 - Output weights: 0.5610\n",
      "Epoch 107/500\n",
      "1/1 [==============================] - 0s 8ms/step - Error: 1.7599 - Temperature: 0.6377 - Hidden weights: 0.4807 - Output weights: 0.5605\n",
      "Epoch 108/500\n",
      "1/1 [==============================] - 0s 2ms/step - Error: 1.7596 - Temperature: 0.6376 - Hidden weights: 0.4805 - Output weights: 0.5601\n",
      "Epoch 109/500\n",
      "1/1 [==============================] - 0s 3ms/step - Error: 1.6198 - Temperature: 0.6183 - Hidden weights: 0.4803 - Output weights: 0.5598\n",
      "Epoch 110/500\n",
      "1/1 [==============================] - 0s 6ms/step - Error: 1.4534 - Temperature: 0.5924 - Hidden weights: 0.4802 - Output weights: 0.5596\n",
      "Epoch 111/500\n",
      "1/1 [==============================] - 0s 3ms/step - Error: 1.2845 - Temperature: 0.5623 - Hidden weights: 0.4801 - Output weights: 0.5595\n",
      "Epoch 112/500\n",
      "1/1 [==============================] - 0s 2ms/step - Error: 1.3878 - Temperature: 0.5812 - Hidden weights: 0.4801 - Output weights: 0.5595\n",
      "Epoch 113/500\n",
      "1/1 [==============================] - 0s 2ms/step - Error: 1.5891 - Temperature: 0.6138 - Hidden weights: 0.4800 - Output weights: 0.5593\n",
      "Epoch 114/500\n",
      "1/1 [==============================] - 0s 7ms/step - Error: 1.5439 - Temperature: 0.6069 - Hidden weights: 0.4799 - Output weights: 0.5590\n",
      "Epoch 115/500\n",
      "1/1 [==============================] - 0s 4ms/step - Error: 1.5718 - Temperature: 0.6112 - Hidden weights: 0.4797 - Output weights: 0.5588\n",
      "Epoch 116/500\n",
      "1/1 [==============================] - 0s 3ms/step - Error: 1.4512 - Temperature: 0.5920 - Hidden weights: 0.4796 - Output weights: 0.5587\n",
      "Epoch 117/500\n",
      "1/1 [==============================] - 0s 7ms/step - Error: 1.6543 - Temperature: 0.6233 - Hidden weights: 0.4795 - Output weights: 0.5585\n",
      "Epoch 118/500\n",
      "1/1 [==============================] - 0s 3ms/step - Error: 1.5500 - Temperature: 0.6078 - Hidden weights: 0.4794 - Output weights: 0.5582\n",
      "Epoch 119/500\n",
      "1/1 [==============================] - 0s 3ms/step - Error: 1.6551 - Temperature: 0.6234 - Hidden weights: 0.4792 - Output weights: 0.5579\n",
      "Epoch 120/500\n",
      "1/1 [==============================] - 0s 4ms/step - Error: 1.5008 - Temperature: 0.6001 - Hidden weights: 0.4791 - Output weights: 0.5577\n",
      "Epoch 121/500\n",
      "1/1 [==============================] - 0s 3ms/step - Error: 1.5309 - Temperature: 0.6049 - Hidden weights: 0.4790 - Output weights: 0.5575\n",
      "Epoch 122/500\n",
      "1/1 [==============================] - 0s 2ms/step - Error: 1.7348 - Temperature: 0.6343 - Hidden weights: 0.4788 - Output weights: 0.5572\n",
      "Epoch 123/500\n",
      "1/1 [==============================] - 0s 3ms/step - Error: 1.6466 - Temperature: 0.6222 - Hidden weights: 0.4786 - Output weights: 0.5568\n",
      "Epoch 124/500\n",
      "1/1 [==============================] - 0s 7ms/step - Error: 1.5939 - Temperature: 0.6145 - Hidden weights: 0.4784 - Output weights: 0.5566\n",
      "Epoch 125/500\n",
      "1/1 [==============================] - 0s 4ms/step - Error: 1.7122 - Temperature: 0.6313 - Hidden weights: 0.4783 - Output weights: 0.5563\n",
      "Epoch 126/500\n",
      "1/1 [==============================] - 0s 4ms/step - Error: 1.5259 - Temperature: 0.6041 - Hidden weights: 0.4781 - Output weights: 0.5560\n",
      "Epoch 127/500\n",
      "1/1 [==============================] - 0s 5ms/step - Error: 1.5439 - Temperature: 0.6069 - Hidden weights: 0.4780 - Output weights: 0.5558\n",
      "Epoch 128/500\n",
      "1/1 [==============================] - 0s 3ms/step - Error: 1.5624 - Temperature: 0.6097 - Hidden weights: 0.4779 - Output weights: 0.5556\n",
      "Epoch 129/500\n",
      "1/1 [==============================] - 0s 3ms/step - Error: 1.7746 - Temperature: 0.6396 - Hidden weights: 0.4777 - Output weights: 0.5553\n",
      "Epoch 130/500\n",
      "1/1 [==============================] - 0s 3ms/step - Error: 1.6322 - Temperature: 0.6201 - Hidden weights: 0.4774 - Output weights: 0.5548\n",
      "Epoch 131/500\n",
      "1/1 [==============================] - 0s 5ms/step - Error: 1.7243 - Temperature: 0.6329 - Hidden weights: 0.4773 - Output weights: 0.5545\n",
      "Epoch 132/500\n",
      "1/1 [==============================] - 0s 2ms/step - Error: 1.8554 - Temperature: 0.6498 - Hidden weights: 0.4770 - Output weights: 0.5540\n",
      "Epoch 133/500\n",
      "1/1 [==============================] - 0s 3ms/step - Error: 1.5535 - Temperature: 0.6084 - Hidden weights: 0.4768 - Output weights: 0.5536\n",
      "Epoch 134/500\n",
      "1/1 [==============================] - 0s 6ms/step - Error: 1.5661 - Temperature: 0.6103 - Hidden weights: 0.4767 - Output weights: 0.5534\n",
      "Epoch 135/500\n",
      "1/1 [==============================] - 0s 4ms/step - Error: 1.5045 - Temperature: 0.6007 - Hidden weights: 0.4765 - Output weights: 0.5532\n",
      "Epoch 136/500\n",
      "1/1 [==============================] - 0s 3ms/step - Error: 1.5871 - Temperature: 0.6135 - Hidden weights: 0.4764 - Output weights: 0.5530\n",
      "Epoch 137/500\n",
      "1/1 [==============================] - 0s 2ms/step - Error: 1.6193 - Temperature: 0.6182 - Hidden weights: 0.4762 - Output weights: 0.5527\n",
      "Epoch 138/500\n",
      "1/1 [==============================] - 0s 6ms/step - Error: 1.4848 - Temperature: 0.5976 - Hidden weights: 0.4761 - Output weights: 0.5525\n",
      "Epoch 139/500\n",
      "1/1 [==============================] - 0s 5ms/step - Error: 1.6638 - Temperature: 0.6246 - Hidden weights: 0.4760 - Output weights: 0.5522\n",
      "Epoch 140/500\n",
      "1/1 [==============================] - 0s 7ms/step - Error: 1.6109 - Temperature: 0.6170 - Hidden weights: 0.4758 - Output weights: 0.5519\n",
      "Epoch 141/500\n",
      "1/1 [==============================] - 0s 4ms/step - Error: 1.4949 - Temperature: 0.5992 - Hidden weights: 0.4756 - Output weights: 0.5517\n",
      "Epoch 142/500\n",
      "1/1 [==============================] - 0s 4ms/step - Error: 1.6146 - Temperature: 0.6175 - Hidden weights: 0.4755 - Output weights: 0.5514\n",
      "Epoch 143/500\n",
      "1/1 [==============================] - 0s 8ms/step - Error: 1.6236 - Temperature: 0.6188 - Hidden weights: 0.4753 - Output weights: 0.5511\n",
      "Epoch 144/500\n",
      "1/1 [==============================] - 0s 4ms/step - Error: 1.8631 - Temperature: 0.6507 - Hidden weights: 0.4751 - Output weights: 0.5506\n",
      "Epoch 145/500\n",
      "1/1 [==============================] - 0s 6ms/step - Error: 1.7324 - Temperature: 0.6340 - Hidden weights: 0.4748 - Output weights: 0.5501\n",
      "Epoch 146/500\n",
      "1/1 [==============================] - 0s 5ms/step - Error: 1.6925 - Temperature: 0.6286 - Hidden weights: 0.4746 - Output weights: 0.5497\n",
      "Epoch 147/500\n",
      "1/1 [==============================] - 0s 3ms/step - Error: 1.7210 - Temperature: 0.6325 - Hidden weights: 0.4744 - Output weights: 0.5493\n",
      "Epoch 148/500\n",
      "1/1 [==============================] - 0s 2ms/step - Error: 1.6996 - Temperature: 0.6296 - Hidden weights: 0.4741 - Output weights: 0.5488\n",
      "Epoch 149/500\n",
      "1/1 [==============================] - 0s 7ms/step - Error: 1.6205 - Temperature: 0.6184 - Hidden weights: 0.4739 - Output weights: 0.5485\n",
      "Epoch 150/500\n",
      "1/1 [==============================] - 0s 4ms/step - Error: 1.6534 - Temperature: 0.6231 - Hidden weights: 0.4738 - Output weights: 0.5482\n",
      "Epoch 151/500\n",
      "1/1 [==============================] - 0s 4ms/step - Error: 1.6812 - Temperature: 0.6270 - Hidden weights: 0.4735 - Output weights: 0.5478\n",
      "Epoch 152/500\n",
      "1/1 [==============================] - 0s 8ms/step - Error: 1.6829 - Temperature: 0.6273 - Hidden weights: 0.4733 - Output weights: 0.5474\n",
      "Epoch 153/500\n",
      "1/1 [==============================] - 0s 4ms/step - Error: 1.7617 - Temperature: 0.6379 - Hidden weights: 0.4731 - Output weights: 0.5469\n",
      "Epoch 154/500\n",
      "1/1 [==============================] - 0s 4ms/step - Error: 1.5409 - Temperature: 0.6064 - Hidden weights: 0.4729 - Output weights: 0.5466\n",
      "Epoch 155/500\n",
      "1/1 [==============================] - 0s 5ms/step - Error: 1.4631 - Temperature: 0.5940 - Hidden weights: 0.4728 - Output weights: 0.5464\n",
      "Epoch 156/500\n",
      "1/1 [==============================] - 0s 4ms/step - Error: 1.6950 - Temperature: 0.6289 - Hidden weights: 0.4726 - Output weights: 0.5461\n",
      "Epoch 157/500\n",
      "1/1 [==============================] - 0s 7ms/step - Error: 1.5995 - Temperature: 0.6153 - Hidden weights: 0.4724 - Output weights: 0.5458\n",
      "Epoch 158/500\n",
      "1/1 [==============================] - 0s 5ms/step - Error: 1.3551 - Temperature: 0.5754 - Hidden weights: 0.4723 - Output weights: 0.5456\n",
      "Epoch 159/500\n",
      "1/1 [==============================] - 0s 4ms/step - Error: 1.5585 - Temperature: 0.6091 - Hidden weights: 0.4722 - Output weights: 0.5454\n",
      "Epoch 160/500\n",
      "1/1 [==============================] - 0s 6ms/step - Error: 1.5711 - Temperature: 0.6111 - Hidden weights: 0.4720 - Output weights: 0.5451\n",
      "Epoch 161/500\n",
      "1/1 [==============================] - 0s 4ms/step - Error: 1.6272 - Temperature: 0.6194 - Hidden weights: 0.4718 - Output weights: 0.5448\n",
      "Epoch 162/500\n",
      "1/1 [==============================] - 0s 3ms/step - Error: 1.5012 - Temperature: 0.6002 - Hidden weights: 0.4717 - Output weights: 0.5445\n",
      "Epoch 163/500\n",
      "1/1 [==============================] - 0s 7ms/step - Error: 1.4324 - Temperature: 0.5889 - Hidden weights: 0.4715 - Output weights: 0.5444\n",
      "Epoch 164/500\n",
      "1/1 [==============================] - 0s 4ms/step - Error: 1.6157 - Temperature: 0.6177 - Hidden weights: 0.4714 - Output weights: 0.5442\n",
      "Epoch 165/500\n",
      "1/1 [==============================] - 0s 6ms/step - Error: 1.4462 - Temperature: 0.5912 - Hidden weights: 0.4713 - Output weights: 0.5439\n",
      "Epoch 166/500\n",
      "1/1 [==============================] - 0s 5ms/step - Error: 1.5820 - Temperature: 0.6127 - Hidden weights: 0.4711 - Output weights: 0.5437\n",
      "Epoch 167/500\n",
      "1/1 [==============================] - 0s 3ms/step - Error: 1.5134 - Temperature: 0.6021 - Hidden weights: 0.4710 - Output weights: 0.5434\n",
      "Epoch 168/500\n",
      "1/1 [==============================] - 0s 3ms/step - Error: 1.6728 - Temperature: 0.6259 - Hidden weights: 0.4708 - Output weights: 0.5431\n",
      "Epoch 169/500\n",
      "1/1 [==============================] - 0s 7ms/step - Error: 1.6355 - Temperature: 0.6206 - Hidden weights: 0.4706 - Output weights: 0.5427\n",
      "Epoch 170/500\n",
      "1/1 [==============================] - 0s 3ms/step - Error: 1.6945 - Temperature: 0.6289 - Hidden weights: 0.4704 - Output weights: 0.5423\n",
      "Epoch 171/500\n",
      "1/1 [==============================] - 0s 4ms/step - Error: 1.6371 - Temperature: 0.6208 - Hidden weights: 0.4701 - Output weights: 0.5419\n",
      "Epoch 172/500\n",
      "1/1 [==============================] - 0s 6ms/step - Error: 1.5533 - Temperature: 0.6084 - Hidden weights: 0.4699 - Output weights: 0.5416\n",
      "Epoch 173/500\n",
      "1/1 [==============================] - 0s 3ms/step - Error: 1.5288 - Temperature: 0.6046 - Hidden weights: 0.4698 - Output weights: 0.5413\n",
      "Epoch 174/500\n",
      "1/1 [==============================] - 0s 3ms/step - Error: 1.3238 - Temperature: 0.5697 - Hidden weights: 0.4697 - Output weights: 0.5412\n",
      "Epoch 175/500\n",
      "1/1 [==============================] - 0s 6ms/step - Error: 1.3249 - Temperature: 0.5699 - Hidden weights: 0.4696 - Output weights: 0.5411\n",
      "Epoch 176/500\n",
      "1/1 [==============================] - 0s 5ms/step - Error: 1.3111 - Temperature: 0.5673 - Hidden weights: 0.4695 - Output weights: 0.5410\n",
      "Epoch 177/500\n",
      "1/1 [==============================] - 0s 4ms/step - Error: 1.4746 - Temperature: 0.5959 - Hidden weights: 0.4695 - Output weights: 0.5408\n",
      "Epoch 178/500\n",
      "1/1 [==============================] - 0s 6ms/step - Error: 1.4817 - Temperature: 0.5971 - Hidden weights: 0.4693 - Output weights: 0.5406\n",
      "Epoch 179/500\n",
      "1/1 [==============================] - 0s 4ms/step - Error: 1.6267 - Temperature: 0.6193 - Hidden weights: 0.4692 - Output weights: 0.5403\n",
      "Epoch 180/500\n",
      "1/1 [==============================] - 0s 2ms/step - Error: 1.8443 - Temperature: 0.6484 - Hidden weights: 0.4689 - Output weights: 0.5397\n",
      "Epoch 181/500\n",
      "1/1 [==============================] - 0s 2ms/step - Error: 1.6857 - Temperature: 0.6277 - Hidden weights: 0.4686 - Output weights: 0.5391\n",
      "Epoch 182/500\n",
      "1/1 [==============================] - 0s 8ms/step - Error: 1.8127 - Temperature: 0.6445 - Hidden weights: 0.4683 - Output weights: 0.5386\n",
      "Epoch 183/500\n",
      "1/1 [==============================] - 0s 8ms/step - Error: 1.5530 - Temperature: 0.6083 - Hidden weights: 0.4680 - Output weights: 0.5382\n",
      "Epoch 184/500\n",
      "1/1 [==============================] - 0s 13ms/step - Error: 1.3988 - Temperature: 0.5831 - Hidden weights: 0.4679 - Output weights: 0.5380\n",
      "Epoch 185/500\n",
      "1/1 [==============================] - 0s 8ms/step - Error: 1.5896 - Temperature: 0.6138 - Hidden weights: 0.4678 - Output weights: 0.5378\n",
      "Epoch 186/500\n",
      "1/1 [==============================] - 0s 10ms/step - Error: 1.4745 - Temperature: 0.5959 - Hidden weights: 0.4676 - Output weights: 0.5375\n",
      "Epoch 187/500\n",
      "1/1 [==============================] - 0s 19ms/step - Error: 1.3571 - Temperature: 0.5757 - Hidden weights: 0.4675 - Output weights: 0.5373\n",
      "Epoch 188/500\n",
      "1/1 [==============================] - 0s 15ms/step - Error: 1.5669 - Temperature: 0.6104 - Hidden weights: 0.4674 - Output weights: 0.5371\n",
      "Epoch 189/500\n",
      "1/1 [==============================] - 0s 12ms/step - Error: 1.6128 - Temperature: 0.6173 - Hidden weights: 0.4672 - Output weights: 0.5368\n",
      "Epoch 190/500\n",
      "1/1 [==============================] - 0s 4ms/step - Error: 1.5583 - Temperature: 0.6091 - Hidden weights: 0.4670 - Output weights: 0.5364\n",
      "Epoch 191/500\n",
      "1/1 [==============================] - 0s 10ms/step - Error: 1.4023 - Temperature: 0.5837 - Hidden weights: 0.4669 - Output weights: 0.5362\n",
      "Epoch 192/500\n",
      "1/1 [==============================] - 0s 12ms/step - Error: 1.4968 - Temperature: 0.5995 - Hidden weights: 0.4667 - Output weights: 0.5360\n",
      "Epoch 193/500\n",
      "1/1 [==============================] - 0s 10ms/step - Error: 1.7630 - Temperature: 0.6381 - Hidden weights: 0.4666 - Output weights: 0.5356\n",
      "Epoch 194/500\n",
      "1/1 [==============================] - 0s 8ms/step - Error: 1.6836 - Temperature: 0.6274 - Hidden weights: 0.4662 - Output weights: 0.5350\n",
      "Epoch 195/500\n",
      "1/1 [==============================] - 0s 9ms/step - Error: 1.7251 - Temperature: 0.6330 - Hidden weights: 0.4660 - Output weights: 0.5345\n",
      "Epoch 196/500\n",
      "1/1 [==============================] - 0s 5ms/step - Error: 1.6773 - Temperature: 0.6265 - Hidden weights: 0.4657 - Output weights: 0.5340\n",
      "Epoch 197/500\n",
      "1/1 [==============================] - 0s 9ms/step - Error: 1.7067 - Temperature: 0.6305 - Hidden weights: 0.4654 - Output weights: 0.5335\n",
      "Epoch 198/500\n",
      "1/1 [==============================] - 0s 5ms/step - Error: 1.8040 - Temperature: 0.6434 - Hidden weights: 0.4651 - Output weights: 0.5329\n",
      "Epoch 199/500\n",
      "1/1 [==============================] - 0s 8ms/step - Error: 1.4828 - Temperature: 0.5972 - Hidden weights: 0.4648 - Output weights: 0.5325\n",
      "Epoch 200/500\n",
      "1/1 [==============================] - 0s 3ms/step - Error: 1.5617 - Temperature: 0.6096 - Hidden weights: 0.4647 - Output weights: 0.5323\n",
      "Epoch 201/500\n",
      "1/1 [==============================] - 0s 4ms/step - Error: 1.7103 - Temperature: 0.6310 - Hidden weights: 0.4645 - Output weights: 0.5318\n",
      "Epoch 202/500\n",
      "1/1 [==============================] - 0s 7ms/step - Error: 1.7444 - Temperature: 0.6356 - Hidden weights: 0.4642 - Output weights: 0.5312\n",
      "Epoch 203/500\n",
      "1/1 [==============================] - 0s 3ms/step - Error: 1.8530 - Temperature: 0.6495 - Hidden weights: 0.4638 - Output weights: 0.5305\n",
      "Epoch 204/500\n",
      "1/1 [==============================] - 0s 3ms/step - Error: 1.5006 - Temperature: 0.6001 - Hidden weights: 0.4635 - Output weights: 0.5300\n",
      "Epoch 205/500\n",
      "1/1 [==============================] - 0s 3ms/step - Error: 1.7181 - Temperature: 0.6321 - Hidden weights: 0.4634 - Output weights: 0.5297\n",
      "Epoch 206/500\n",
      "1/1 [==============================] - 0s 6ms/step - Error: 1.7676 - Temperature: 0.6387 - Hidden weights: 0.4630 - Output weights: 0.5290\n",
      "Epoch 207/500\n",
      "1/1 [==============================] - 0s 5ms/step - Error: 1.5303 - Temperature: 0.6048 - Hidden weights: 0.4627 - Output weights: 0.5285\n",
      "Epoch 208/500\n",
      "1/1 [==============================] - 0s 5ms/step - Error: 1.4941 - Temperature: 0.5990 - Hidden weights: 0.4626 - Output weights: 0.5283\n",
      "Epoch 209/500\n",
      "1/1 [==============================] - 0s 6ms/step - Error: 1.3973 - Temperature: 0.5829 - Hidden weights: 0.4624 - Output weights: 0.5281\n",
      "Epoch 210/500\n",
      "1/1 [==============================] - 0s 4ms/step - Error: 1.3989 - Temperature: 0.5831 - Hidden weights: 0.4623 - Output weights: 0.5279\n",
      "Epoch 211/500\n",
      "1/1 [==============================] - 0s 7ms/step - Error: 1.7029 - Temperature: 0.6300 - Hidden weights: 0.4622 - Output weights: 0.5276\n",
      "Epoch 212/500\n",
      "1/1 [==============================] - 0s 3ms/step - Error: 1.7442 - Temperature: 0.6356 - Hidden weights: 0.4618 - Output weights: 0.5269\n",
      "Epoch 213/500\n",
      "1/1 [==============================] - 0s 3ms/step - Error: 1.5133 - Temperature: 0.6021 - Hidden weights: 0.4616 - Output weights: 0.5265\n",
      "Epoch 214/500\n",
      "1/1 [==============================] - 0s 4ms/step - Error: 1.4372 - Temperature: 0.5897 - Hidden weights: 0.4614 - Output weights: 0.5263\n",
      "Epoch 215/500\n",
      "1/1 [==============================] - 0s 5ms/step - Error: 1.6822 - Temperature: 0.6272 - Hidden weights: 0.4612 - Output weights: 0.5259\n",
      "Epoch 216/500\n",
      "1/1 [==============================] - 0s 2ms/step - Error: 1.5842 - Temperature: 0.6130 - Hidden weights: 0.4609 - Output weights: 0.5254\n",
      "Epoch 217/500\n",
      "1/1 [==============================] - 0s 2ms/step - Error: 1.4914 - Temperature: 0.5986 - Hidden weights: 0.4608 - Output weights: 0.5251\n",
      "Epoch 218/500\n",
      "1/1 [==============================] - 0s 6ms/step - Error: 1.7153 - Temperature: 0.6317 - Hidden weights: 0.4605 - Output weights: 0.5247\n",
      "Epoch 219/500\n",
      "1/1 [==============================] - 0s 5ms/step - Error: 1.7268 - Temperature: 0.6333 - Hidden weights: 0.4602 - Output weights: 0.5240\n",
      "Epoch 220/500\n",
      "1/1 [==============================] - 0s 4ms/step - Error: 1.8492 - Temperature: 0.6490 - Hidden weights: 0.4598 - Output weights: 0.5232\n",
      "Epoch 221/500\n",
      "1/1 [==============================] - 0s 6ms/step - Error: 1.5501 - Temperature: 0.6079 - Hidden weights: 0.4595 - Output weights: 0.5226\n",
      "Epoch 222/500\n",
      "1/1 [==============================] - 0s 4ms/step - Error: 1.4254 - Temperature: 0.5877 - Hidden weights: 0.4593 - Output weights: 0.5224\n",
      "Epoch 223/500\n",
      "1/1 [==============================] - 0s 3ms/step - Error: 1.7697 - Temperature: 0.6389 - Hidden weights: 0.4591 - Output weights: 0.5220\n",
      "Epoch 224/500\n",
      "1/1 [==============================] - 0s 2ms/step - Error: 1.7794 - Temperature: 0.6402 - Hidden weights: 0.4587 - Output weights: 0.5211\n",
      "Epoch 225/500\n",
      "1/1 [==============================] - 0s 6ms/step - Error: 1.7726 - Temperature: 0.6393 - Hidden weights: 0.4583 - Output weights: 0.5204\n",
      "Epoch 226/500\n",
      "1/1 [==============================] - 0s 4ms/step - Error: 1.5413 - Temperature: 0.6065 - Hidden weights: 0.4580 - Output weights: 0.5199\n",
      "Epoch 227/500\n",
      "1/1 [==============================] - 0s 3ms/step - Error: 1.3802 - Temperature: 0.5799 - Hidden weights: 0.4579 - Output weights: 0.5196\n",
      "Epoch 228/500\n",
      "1/1 [==============================] - 0s 3ms/step - Error: 1.5105 - Temperature: 0.6017 - Hidden weights: 0.4577 - Output weights: 0.5194\n",
      "Epoch 229/500\n",
      "1/1 [==============================] - 0s 7ms/step - Error: 1.4107 - Temperature: 0.5852 - Hidden weights: 0.4575 - Output weights: 0.5191\n",
      "Epoch 230/500\n",
      "1/1 [==============================] - 0s 3ms/step - Error: 1.4882 - Temperature: 0.5981 - Hidden weights: 0.4574 - Output weights: 0.5189\n",
      "Epoch 231/500\n",
      "1/1 [==============================] - 0s 2ms/step - Error: 1.3688 - Temperature: 0.5779 - Hidden weights: 0.4572 - Output weights: 0.5186\n",
      "Epoch 232/500\n",
      "1/1 [==============================] - 0s 2ms/step - Error: 1.4223 - Temperature: 0.5872 - Hidden weights: 0.4571 - Output weights: 0.5184\n",
      "Epoch 233/500\n",
      "1/1 [==============================] - 0s 5ms/step - Error: 1.6030 - Temperature: 0.6158 - Hidden weights: 0.4569 - Output weights: 0.5181\n",
      "Epoch 234/500\n",
      "1/1 [==============================] - 0s 3ms/step - Error: 1.6189 - Temperature: 0.6182 - Hidden weights: 0.4566 - Output weights: 0.5175\n",
      "Epoch 235/500\n",
      "1/1 [==============================] - 0s 3ms/step - Error: 1.5540 - Temperature: 0.6085 - Hidden weights: 0.4564 - Output weights: 0.5171\n",
      "Epoch 236/500\n",
      "1/1 [==============================] - 0s 8ms/step - Error: 1.4847 - Temperature: 0.5975 - Hidden weights: 0.4562 - Output weights: 0.5168\n",
      "Epoch 237/500\n",
      "1/1 [==============================] - 0s 4ms/step - Error: 1.5501 - Temperature: 0.6079 - Hidden weights: 0.4560 - Output weights: 0.5164\n",
      "Epoch 238/500\n",
      "1/1 [==============================] - 0s 12ms/step - Error: 1.5977 - Temperature: 0.6150 - Hidden weights: 0.4557 - Output weights: 0.5159\n",
      "Epoch 239/500\n",
      "1/1 [==============================] - 0s 10ms/step - Error: 1.7426 - Temperature: 0.6354 - Hidden weights: 0.4554 - Output weights: 0.5153\n",
      "Epoch 240/500\n",
      "1/1 [==============================] - 0s 11ms/step - Error: 1.4839 - Temperature: 0.5974 - Hidden weights: 0.4551 - Output weights: 0.5148\n",
      "Epoch 241/500\n",
      "1/1 [==============================] - 0s 8ms/step - Error: 1.4315 - Temperature: 0.5887 - Hidden weights: 0.4549 - Output weights: 0.5146\n",
      "Epoch 242/500\n",
      "1/1 [==============================] - 0s 10ms/step - Error: 1.5320 - Temperature: 0.6051 - Hidden weights: 0.4547 - Output weights: 0.5142\n",
      "Epoch 243/500\n",
      "1/1 [==============================] - 0s 11ms/step - Error: 1.5893 - Temperature: 0.6138 - Hidden weights: 0.4545 - Output weights: 0.5138\n",
      "Epoch 244/500\n",
      "1/1 [==============================] - 0s 10ms/step - Error: 1.4557 - Temperature: 0.5928 - Hidden weights: 0.4542 - Output weights: 0.5134\n",
      "Epoch 245/500\n",
      "1/1 [==============================] - 0s 7ms/step - Error: 1.6422 - Temperature: 0.6215 - Hidden weights: 0.4540 - Output weights: 0.5130\n",
      "Epoch 246/500\n",
      "1/1 [==============================] - 0s 8ms/step - Error: 1.4940 - Temperature: 0.5990 - Hidden weights: 0.4537 - Output weights: 0.5125\n",
      "Epoch 247/500\n",
      "1/1 [==============================] - 0s 5ms/step - Error: 1.7488 - Temperature: 0.6362 - Hidden weights: 0.4535 - Output weights: 0.5120\n",
      "Epoch 248/500\n",
      "1/1 [==============================] - 0s 12ms/step - Error: 1.7856 - Temperature: 0.6410 - Hidden weights: 0.4530 - Output weights: 0.5110\n",
      "Epoch 249/500\n",
      "1/1 [==============================] - 0s 12ms/step - Error: 1.7101 - Temperature: 0.6310 - Hidden weights: 0.4526 - Output weights: 0.5102\n",
      "Epoch 250/500\n",
      "1/1 [==============================] - 0s 5ms/step - Error: 1.6627 - Temperature: 0.6244 - Hidden weights: 0.4522 - Output weights: 0.5096\n",
      "Epoch 251/500\n",
      "1/1 [==============================] - 0s 8ms/step - Error: 1.6856 - Temperature: 0.6276 - Hidden weights: 0.4518 - Output weights: 0.5089\n",
      "Epoch 252/500\n",
      "1/1 [==============================] - 0s 5ms/step - Error: 1.6953 - Temperature: 0.6290 - Hidden weights: 0.4514 - Output weights: 0.5082\n",
      "Epoch 253/500\n",
      "1/1 [==============================] - 0s 8ms/step - Error: 1.9645 - Temperature: 0.6627 - Hidden weights: 0.4510 - Output weights: 0.5070\n",
      "Epoch 254/500\n",
      "1/1 [==============================] - 0s 4ms/step - Error: 1.5825 - Temperature: 0.6128 - Hidden weights: 0.4504 - Output weights: 0.5061\n",
      "Epoch 255/500\n",
      "1/1 [==============================] - 0s 4ms/step - Error: 1.6017 - Temperature: 0.6156 - Hidden weights: 0.4502 - Output weights: 0.5057\n",
      "Epoch 256/500\n",
      "1/1 [==============================] - 0s 6ms/step - Error: 1.5607 - Temperature: 0.6095 - Hidden weights: 0.4499 - Output weights: 0.5051\n",
      "Epoch 257/500\n",
      "1/1 [==============================] - 0s 4ms/step - Error: 1.7398 - Temperature: 0.6350 - Hidden weights: 0.4496 - Output weights: 0.5045\n",
      "Epoch 258/500\n",
      "1/1 [==============================] - 0s 3ms/step - Error: 1.6366 - Temperature: 0.6207 - Hidden weights: 0.4491 - Output weights: 0.5037\n",
      "Epoch 259/500\n",
      "1/1 [==============================] - 0s 2ms/step - Error: 1.4643 - Temperature: 0.5942 - Hidden weights: 0.4488 - Output weights: 0.5033\n",
      "Epoch 260/500\n",
      "1/1 [==============================] - 0s 8ms/step - Error: 1.6646 - Temperature: 0.6247 - Hidden weights: 0.4486 - Output weights: 0.5027\n",
      "Epoch 261/500\n",
      "1/1 [==============================] - 0s 3ms/step - Error: 1.5782 - Temperature: 0.6121 - Hidden weights: 0.4482 - Output weights: 0.5021\n",
      "Epoch 262/500\n",
      "1/1 [==============================] - 0s 5ms/step - Error: 1.5259 - Temperature: 0.6041 - Hidden weights: 0.4479 - Output weights: 0.5016\n",
      "Epoch 263/500\n",
      "1/1 [==============================] - 0s 4ms/step - Error: 1.6007 - Temperature: 0.6155 - Hidden weights: 0.4476 - Output weights: 0.5011\n",
      "Epoch 264/500\n",
      "1/1 [==============================] - 0s 2ms/step - Error: 1.5159 - Temperature: 0.6025 - Hidden weights: 0.4473 - Output weights: 0.5005\n",
      "Epoch 265/500\n",
      "1/1 [==============================] - 0s 2ms/step - Error: 1.4967 - Temperature: 0.5995 - Hidden weights: 0.4470 - Output weights: 0.5001\n",
      "Epoch 266/500\n",
      "1/1 [==============================] - 0s 2ms/step - Error: 1.7475 - Temperature: 0.6360 - Hidden weights: 0.4467 - Output weights: 0.4994\n",
      "Epoch 267/500\n",
      "1/1 [==============================] - 0s 7ms/step - Error: 1.6193 - Temperature: 0.6182 - Hidden weights: 0.4462 - Output weights: 0.4986\n",
      "Epoch 268/500\n",
      "1/1 [==============================] - 0s 3ms/step - Error: 1.6871 - Temperature: 0.6278 - Hidden weights: 0.4459 - Output weights: 0.4979\n",
      "Epoch 269/500\n",
      "1/1 [==============================] - 0s 4ms/step - Error: 1.5414 - Temperature: 0.6065 - Hidden weights: 0.4455 - Output weights: 0.4972\n",
      "Epoch 270/500\n",
      "1/1 [==============================] - 0s 7ms/step - Error: 1.5677 - Temperature: 0.6106 - Hidden weights: 0.4452 - Output weights: 0.4967\n",
      "Epoch 271/500\n",
      "1/1 [==============================] - 0s 3ms/step - Error: 1.4824 - Temperature: 0.5972 - Hidden weights: 0.4449 - Output weights: 0.4962\n",
      "Epoch 272/500\n",
      "1/1 [==============================] - 0s 2ms/step - Error: 1.4872 - Temperature: 0.5979 - Hidden weights: 0.4446 - Output weights: 0.4958\n",
      "Epoch 273/500\n",
      "1/1 [==============================] - 0s 6ms/step - Error: 1.4072 - Temperature: 0.5846 - Hidden weights: 0.4444 - Output weights: 0.4954\n",
      "Epoch 274/500\n",
      "1/1 [==============================] - 0s 4ms/step - Error: 1.8410 - Temperature: 0.6480 - Hidden weights: 0.4441 - Output weights: 0.4947\n",
      "Epoch 275/500\n",
      "1/1 [==============================] - 0s 3ms/step - Error: 1.4750 - Temperature: 0.5960 - Hidden weights: 0.4435 - Output weights: 0.4938\n",
      "Epoch 276/500\n",
      "1/1 [==============================] - 0s 3ms/step - Error: 1.6994 - Temperature: 0.6296 - Hidden weights: 0.4433 - Output weights: 0.4933\n",
      "Epoch 277/500\n",
      "1/1 [==============================] - 0s 5ms/step - Error: 1.7033 - Temperature: 0.6301 - Hidden weights: 0.4427 - Output weights: 0.4922\n",
      "Epoch 278/500\n",
      "1/1 [==============================] - 0s 3ms/step - Error: 1.6200 - Temperature: 0.6183 - Hidden weights: 0.4423 - Output weights: 0.4914\n",
      "Epoch 279/500\n",
      "1/1 [==============================] - 0s 2ms/step - Error: 1.5512 - Temperature: 0.6080 - Hidden weights: 0.4419 - Output weights: 0.4908\n",
      "Epoch 280/500\n",
      "1/1 [==============================] - 0s 2ms/step - Error: 1.6108 - Temperature: 0.6170 - Hidden weights: 0.4415 - Output weights: 0.4901\n",
      "Epoch 281/500\n",
      "1/1 [==============================] - 0s 8ms/step - Error: 1.7018 - Temperature: 0.6299 - Hidden weights: 0.4411 - Output weights: 0.4892\n",
      "Epoch 282/500\n",
      "1/1 [==============================] - 0s 3ms/step - Error: 1.7297 - Temperature: 0.6337 - Hidden weights: 0.4406 - Output weights: 0.4882\n",
      "Epoch 283/500\n",
      "1/1 [==============================] - 0s 6ms/step - Error: 1.8543 - Temperature: 0.6497 - Hidden weights: 0.4400 - Output weights: 0.4868\n",
      "Epoch 284/500\n",
      "1/1 [==============================] - 0s 5ms/step - Error: 1.5606 - Temperature: 0.6095 - Hidden weights: 0.4394 - Output weights: 0.4859\n",
      "Epoch 285/500\n",
      "1/1 [==============================] - 0s 3ms/step - Error: 1.4910 - Temperature: 0.5985 - Hidden weights: 0.4391 - Output weights: 0.4854\n",
      "Epoch 286/500\n",
      "1/1 [==============================] - 0s 3ms/step - Error: 1.5586 - Temperature: 0.6092 - Hidden weights: 0.4387 - Output weights: 0.4848\n",
      "Epoch 287/500\n",
      "1/1 [==============================] - 0s 7ms/step - Error: 1.6709 - Temperature: 0.6256 - Hidden weights: 0.4383 - Output weights: 0.4839\n",
      "Epoch 288/500\n",
      "1/1 [==============================] - 0s 3ms/step - Error: 1.8329 - Temperature: 0.6470 - Hidden weights: 0.4377 - Output weights: 0.4826\n",
      "Epoch 289/500\n",
      "1/1 [==============================] - 0s 2ms/step - Error: 1.5824 - Temperature: 0.6128 - Hidden weights: 0.4371 - Output weights: 0.4815\n",
      "Epoch 290/500\n",
      "1/1 [==============================] - 0s 5ms/step - Error: 1.6280 - Temperature: 0.6195 - Hidden weights: 0.4367 - Output weights: 0.4808\n",
      "Epoch 291/500\n",
      "1/1 [==============================] - 0s 4ms/step - Error: 1.6509 - Temperature: 0.6228 - Hidden weights: 0.4362 - Output weights: 0.4798\n",
      "Epoch 292/500\n",
      "1/1 [==============================] - 0s 3ms/step - Error: 1.7107 - Temperature: 0.6311 - Hidden weights: 0.4356 - Output weights: 0.4787\n",
      "Epoch 293/500\n",
      "1/1 [==============================] - 0s 2ms/step - Error: 1.6429 - Temperature: 0.6216 - Hidden weights: 0.4350 - Output weights: 0.4776\n",
      "Epoch 294/500\n",
      "1/1 [==============================] - 0s 8ms/step - Error: 1.6242 - Temperature: 0.6189 - Hidden weights: 0.4345 - Output weights: 0.4767\n",
      "Epoch 295/500\n",
      "1/1 [==============================] - 0s 3ms/step - Error: 1.5162 - Temperature: 0.6026 - Hidden weights: 0.4341 - Output weights: 0.4759\n",
      "Epoch 296/500\n",
      "1/1 [==============================] - 0s 3ms/step - Error: 1.6377 - Temperature: 0.6209 - Hidden weights: 0.4336 - Output weights: 0.4751\n",
      "Epoch 297/500\n",
      "1/1 [==============================] - 0s 2ms/step - Error: 1.5529 - Temperature: 0.6083 - Hidden weights: 0.4331 - Output weights: 0.4742\n",
      "Epoch 298/500\n",
      "1/1 [==============================] - 0s 6ms/step - Error: 1.4748 - Temperature: 0.5959 - Hidden weights: 0.4327 - Output weights: 0.4735\n",
      "Epoch 299/500\n",
      "1/1 [==============================] - 0s 4ms/step - Error: 1.5334 - Temperature: 0.6053 - Hidden weights: 0.4323 - Output weights: 0.4728\n",
      "Epoch 300/500\n",
      "1/1 [==============================] - 0s 7ms/step - Error: 1.8156 - Temperature: 0.6448 - Hidden weights: 0.4318 - Output weights: 0.4716\n",
      "Epoch 301/500\n",
      "1/1 [==============================] - 0s 5ms/step - Error: 1.6602 - Temperature: 0.6241 - Hidden weights: 0.4310 - Output weights: 0.4701\n",
      "Epoch 302/500\n",
      "1/1 [==============================] - 0s 6ms/step - Error: 1.7081 - Temperature: 0.6307 - Hidden weights: 0.4304 - Output weights: 0.4689\n",
      "Epoch 303/500\n",
      "1/1 [==============================] - 0s 5ms/step - Error: 1.5346 - Temperature: 0.6055 - Hidden weights: 0.4298 - Output weights: 0.4679\n",
      "Epoch 304/500\n",
      "1/1 [==============================] - 0s 4ms/step - Error: 1.6614 - Temperature: 0.6243 - Hidden weights: 0.4293 - Output weights: 0.4669\n",
      "Epoch 305/500\n",
      "1/1 [==============================] - 0s 8ms/step - Error: 1.4502 - Temperature: 0.5919 - Hidden weights: 0.4287 - Output weights: 0.4660\n",
      "Epoch 306/500\n",
      "1/1 [==============================] - 0s 6ms/step - Error: 1.6849 - Temperature: 0.6275 - Hidden weights: 0.4283 - Output weights: 0.4651\n",
      "Epoch 307/500\n",
      "1/1 [==============================] - 0s 8ms/step - Error: 1.6332 - Temperature: 0.6202 - Hidden weights: 0.4276 - Output weights: 0.4638\n",
      "Epoch 308/500\n",
      "1/1 [==============================] - 0s 5ms/step - Error: 1.6785 - Temperature: 0.6267 - Hidden weights: 0.4270 - Output weights: 0.4626\n",
      "Epoch 309/500\n",
      "1/1 [==============================] - 0s 4ms/step - Error: 1.5198 - Temperature: 0.6031 - Hidden weights: 0.4263 - Output weights: 0.4615\n",
      "Epoch 310/500\n",
      "1/1 [==============================] - 0s 7ms/step - Error: 1.7172 - Temperature: 0.6320 - Hidden weights: 0.4258 - Output weights: 0.4604\n",
      "Epoch 311/500\n",
      "1/1 [==============================] - 0s 4ms/step - Error: 1.5904 - Temperature: 0.6140 - Hidden weights: 0.4250 - Output weights: 0.4589\n",
      "Epoch 312/500\n",
      "1/1 [==============================] - 0s 7ms/step - Error: 1.6239 - Temperature: 0.6189 - Hidden weights: 0.4244 - Output weights: 0.4579\n",
      "Epoch 313/500\n",
      "1/1 [==============================] - 0s 4ms/step - Error: 1.6233 - Temperature: 0.6188 - Hidden weights: 0.4237 - Output weights: 0.4566\n",
      "Epoch 314/500\n",
      "1/1 [==============================] - 0s 4ms/step - Error: 1.6657 - Temperature: 0.6249 - Hidden weights: 0.4230 - Output weights: 0.4552\n",
      "Epoch 315/500\n",
      "1/1 [==============================] - 0s 3ms/step - Error: 1.4650 - Temperature: 0.5943 - Hidden weights: 0.4223 - Output weights: 0.4541\n",
      "Epoch 316/500\n",
      "1/1 [==============================] - 0s 4ms/step - Error: 1.6952 - Temperature: 0.6290 - Hidden weights: 0.4218 - Output weights: 0.4530\n",
      "Epoch 317/500\n",
      "1/1 [==============================] - 0s 3ms/step - Error: 1.7399 - Temperature: 0.6350 - Hidden weights: 0.4209 - Output weights: 0.4510\n",
      "Epoch 318/500\n",
      "1/1 [==============================] - 0s 4ms/step - Error: 1.5694 - Temperature: 0.6108 - Hidden weights: 0.4201 - Output weights: 0.4496\n",
      "Epoch 319/500\n",
      "1/1 [==============================] - 0s 11ms/step - Error: 1.6471 - Temperature: 0.6222 - Hidden weights: 0.4194 - Output weights: 0.4482\n",
      "Epoch 320/500\n",
      "1/1 [==============================] - 0s 4ms/step - Error: 1.6424 - Temperature: 0.6216 - Hidden weights: 0.4186 - Output weights: 0.4466\n",
      "Epoch 321/500\n",
      "1/1 [==============================] - 0s 9ms/step - Error: 1.9523 - Temperature: 0.6613 - Hidden weights: 0.4177 - Output weights: 0.4441\n",
      "Epoch 322/500\n",
      "1/1 [==============================] - 0s 5ms/step - Error: 1.8247 - Temperature: 0.6460 - Hidden weights: 0.4162 - Output weights: 0.4409\n",
      "Epoch 323/500\n",
      "1/1 [==============================] - 0s 6ms/step - Error: 1.6292 - Temperature: 0.6197 - Hidden weights: 0.4152 - Output weights: 0.4391\n",
      "Epoch 324/500\n",
      "1/1 [==============================] - 0s 3ms/step - Error: 1.6221 - Temperature: 0.6186 - Hidden weights: 0.4144 - Output weights: 0.4374\n",
      "Epoch 325/500\n",
      "1/1 [==============================] - 0s 3ms/step - Error: 1.7167 - Temperature: 0.6319 - Hidden weights: 0.4135 - Output weights: 0.4355\n",
      "Epoch 326/500\n",
      "1/1 [==============================] - 0s 4ms/step - Error: 1.8578 - Temperature: 0.6501 - Hidden weights: 0.4123 - Output weights: 0.4326\n",
      "Epoch 327/500\n",
      "1/1 [==============================] - 0s 6ms/step - Error: 1.7354 - Temperature: 0.6344 - Hidden weights: 0.4108 - Output weights: 0.4296\n",
      "Epoch 328/500\n",
      "1/1 [==============================] - 0s 4ms/step - Error: 1.8765 - Temperature: 0.6524 - Hidden weights: 0.4097 - Output weights: 0.4266\n",
      "Epoch 329/500\n",
      "1/1 [==============================] - 0s 4ms/step - Error: 1.8612 - Temperature: 0.6505 - Hidden weights: 0.4080 - Output weights: 0.4226\n",
      "Epoch 330/500\n",
      "1/1 [==============================] - 0s 5ms/step - Error: 1.5211 - Temperature: 0.6033 - Hidden weights: 0.4067 - Output weights: 0.4204\n",
      "Epoch 331/500\n",
      "1/1 [==============================] - 0s 5ms/step - Error: 1.6943 - Temperature: 0.6288 - Hidden weights: 0.4058 - Output weights: 0.4184\n",
      "Epoch 332/500\n",
      "1/1 [==============================] - 0s 9ms/step - Error: 1.8348 - Temperature: 0.6472 - Hidden weights: 0.4043 - Output weights: 0.4147\n",
      "Epoch 333/500\n",
      "1/1 [==============================] - 0s 4ms/step - Error: 1.7121 - Temperature: 0.6313 - Hidden weights: 0.4026 - Output weights: 0.4113\n",
      "Epoch 334/500\n",
      "1/1 [==============================] - 0s 9ms/step - Error: 1.6914 - Temperature: 0.6284 - Hidden weights: 0.4012 - Output weights: 0.4083\n",
      "Epoch 335/500\n",
      "1/1 [==============================] - 0s 3ms/step - Error: 1.6233 - Temperature: 0.6188 - Hidden weights: 0.3997 - Output weights: 0.4053\n",
      "Epoch 336/500\n",
      "1/1 [==============================] - 0s 3ms/step - Error: 1.7874 - Temperature: 0.6412 - Hidden weights: 0.3983 - Output weights: 0.4017\n",
      "Epoch 337/500\n",
      "1/1 [==============================] - 0s 6ms/step - Error: 1.7307 - Temperature: 0.6338 - Hidden weights: 0.3962 - Output weights: 0.3974\n",
      "Epoch 338/500\n",
      "1/1 [==============================] - 0s 3ms/step - Error: 1.7280 - Temperature: 0.6334 - Hidden weights: 0.3945 - Output weights: 0.3934\n",
      "Epoch 339/500\n",
      "1/1 [==============================] - 0s 3ms/step - Error: 1.8255 - Temperature: 0.6461 - Hidden weights: 0.3925 - Output weights: 0.3883\n",
      "Epoch 340/500\n",
      "1/1 [==============================] - 0s 3ms/step - Error: 1.6530 - Temperature: 0.6231 - Hidden weights: 0.3902 - Output weights: 0.3836\n",
      "Epoch 341/500\n",
      "1/1 [==============================] - 0s 7ms/step - Error: 1.8881 - Temperature: 0.6537 - Hidden weights: 0.3883 - Output weights: 0.3779\n",
      "Epoch 342/500\n",
      "1/1 [==============================] - 0s 2ms/step - Error: 1.6509 - Temperature: 0.6228 - Hidden weights: 0.3852 - Output weights: 0.3717\n",
      "Epoch 343/500\n",
      "1/1 [==============================] - 0s 2ms/step - Error: 1.7029 - Temperature: 0.6300 - Hidden weights: 0.3830 - Output weights: 0.3666\n",
      "Epoch 344/500\n",
      "1/1 [==============================] - 0s 3ms/step - Error: 1.8794 - Temperature: 0.6527 - Hidden weights: 0.3803 - Output weights: 0.3583\n",
      "Epoch 345/500\n",
      "1/1 [==============================] - 0s 6ms/step - Error: 1.5941 - Temperature: 0.6145 - Hidden weights: 0.3766 - Output weights: 0.3508\n",
      "Epoch 346/500\n",
      "1/1 [==============================] - 0s 3ms/step - Error: 1.6312 - Temperature: 0.6200 - Hidden weights: 0.3738 - Output weights: 0.3445\n",
      "Epoch 347/500\n",
      "1/1 [==============================] - 0s 2ms/step - Error: 1.6435 - Temperature: 0.6217 - Hidden weights: 0.3703 - Output weights: 0.3361\n",
      "Epoch 348/500\n",
      "1/1 [==============================] - 0s 2ms/step - Error: 1.8614 - Temperature: 0.6505 - Hidden weights: 0.3666 - Output weights: 0.3240\n",
      "Epoch 349/500\n",
      "1/1 [==============================] - 0s 6ms/step - Error: 1.7932 - Temperature: 0.6420 - Hidden weights: 0.3602 - Output weights: 0.3063\n",
      "Epoch 350/500\n",
      "1/1 [==============================] - 0s 3ms/step - Error: 1.7597 - Temperature: 0.6376 - Hidden weights: 0.3543 - Output weights: 0.2867\n",
      "Epoch 351/500\n",
      "1/1 [==============================] - 0s 2ms/step - Error: 1.6928 - Temperature: 0.6286 - Hidden weights: 0.3450 - Output weights: 0.2566\n",
      "Epoch 352/500\n",
      "1/1 [==============================] - 0s 2ms/step - Error: 1.4043 - Temperature: 0.5841 - Hidden weights: 0.3297 - Output weights: 0.2120\n",
      "Epoch 353/500\n",
      "1/1 [==============================] - 0s 6ms/step - Error: 1.6365 - Temperature: 0.6207 - Hidden weights: 0.3339 - Output weights: 0.2299\n",
      "Epoch 354/500\n",
      "1/1 [==============================] - 0s 3ms/step - Error: 1.3221 - Temperature: 0.5694 - Hidden weights: 0.3176 - Output weights: 0.1715\n",
      "Epoch 355/500\n",
      "1/1 [==============================] - 0s 3ms/step - Error: 1.3077 - Temperature: 0.5667 - Hidden weights: 0.3134 - Output weights: 0.1438\n",
      "Epoch 356/500\n",
      "1/1 [==============================] - 0s 2ms/step - Error: 1.4744 - Temperature: 0.5959 - Hidden weights: 0.3204 - Output weights: 0.1772\n",
      "Epoch 357/500\n",
      "1/1 [==============================] - 0s 7ms/step - Error: 1.5196 - Temperature: 0.6031 - Hidden weights: 0.3187 - Output weights: 0.1719\n",
      "Epoch 358/500\n",
      "1/1 [==============================] - 0s 5ms/step - Error: 1.1314 - Temperature: 0.5308 - Hidden weights: 0.3087 - Output weights: 0.1118\n",
      "Epoch 359/500\n",
      "1/1 [==============================] - 0s 3ms/step - Error: 1.1080 - Temperature: 0.5256 - Hidden weights: 0.3133 - Output weights: 0.1325\n",
      "Epoch 360/500\n",
      "1/1 [==============================] - 0s 7ms/step - Error: 1.2380 - Temperature: 0.5532 - Hidden weights: 0.3095 - Output weights: 0.1054\n",
      "Epoch 361/500\n",
      "1/1 [==============================] - 0s 3ms/step - Error: 1.0082 - Temperature: 0.5020 - Hidden weights: 0.3381 - Output weights: 0.1977\n",
      "Epoch 362/500\n",
      "1/1 [==============================] - 0s 3ms/step - Error: 1.7581 - Temperature: 0.6374 - Hidden weights: 0.3306 - Output weights: 0.1388\n",
      "Epoch 363/500\n",
      "1/1 [==============================] - 0s 2ms/step - Error: 1.4113 - Temperature: 0.5853 - Hidden weights: 0.3291 - Output weights: 0.1262\n",
      "Epoch 364/500\n",
      "1/1 [==============================] - 0s 5ms/step - Error: 0.9839 - Temperature: 0.4959 - Hidden weights: 0.3252 - Output weights: 0.0938\n",
      "Epoch 365/500\n",
      "1/1 [==============================] - 0s 3ms/step - Error: 1.1891 - Temperature: 0.5432 - Hidden weights: 0.3390 - Output weights: 0.1415\n",
      "Epoch 366/500\n",
      "1/1 [==============================] - 0s 4ms/step - Error: 1.2339 - Temperature: 0.5524 - Hidden weights: 0.3384 - Output weights: 0.1397\n",
      "Epoch 367/500\n",
      "1/1 [==============================] - 0s 9ms/step - Error: 1.3852 - Temperature: 0.5807 - Hidden weights: 0.3388 - Output weights: 0.1399\n",
      "Epoch 368/500\n",
      "1/1 [==============================] - 0s 13ms/step - Error: 1.5566 - Temperature: 0.6089 - Hidden weights: 0.3441 - Output weights: 0.1649\n",
      "Epoch 369/500\n",
      "1/1 [==============================] - 0s 5ms/step - Error: 1.6283 - Temperature: 0.6195 - Hidden weights: 0.3470 - Output weights: 0.1635\n",
      "Epoch 370/500\n",
      "1/1 [==============================] - 0s 11ms/step - Error: 1.1120 - Temperature: 0.5265 - Hidden weights: 0.3491 - Output weights: 0.1629\n",
      "Epoch 371/500\n",
      "1/1 [==============================] - 0s 5ms/step - Error: 1.7039 - Temperature: 0.6302 - Hidden weights: 0.3587 - Output weights: 0.1975\n",
      "Epoch 372/500\n",
      "1/1 [==============================] - 0s 6ms/step - Error: 1.1014 - Temperature: 0.5241 - Hidden weights: 0.3496 - Output weights: 0.1270\n",
      "Epoch 373/500\n",
      "1/1 [==============================] - 0s 4ms/step - Error: 1.2244 - Temperature: 0.5504 - Hidden weights: 0.3784 - Output weights: 0.2323\n",
      "Epoch 374/500\n",
      "1/1 [==============================] - 0s 2ms/step - Error: 1.0243 - Temperature: 0.5060 - Hidden weights: 0.3631 - Output weights: 0.1473\n",
      "Epoch 375/500\n",
      "1/1 [==============================] - 0s 6ms/step - Error: 1.4859 - Temperature: 0.5977 - Hidden weights: 0.3827 - Output weights: 0.2197\n",
      "Epoch 376/500\n",
      "1/1 [==============================] - 0s 5ms/step - Error: 1.3180 - Temperature: 0.5686 - Hidden weights: 0.3719 - Output weights: 0.1628\n",
      "Epoch 377/500\n",
      "1/1 [==============================] - 0s 4ms/step - Error: 1.2318 - Temperature: 0.5519 - Hidden weights: 0.3687 - Output weights: 0.1364\n",
      "Epoch 378/500\n",
      "1/1 [==============================] - 0s 6ms/step - Error: 1.1015 - Temperature: 0.5241 - Hidden weights: 0.3748 - Output weights: 0.1623\n",
      "Epoch 379/500\n",
      "1/1 [==============================] - 0s 4ms/step - Error: 1.3398 - Temperature: 0.5726 - Hidden weights: 0.3826 - Output weights: 0.1803\n",
      "Epoch 380/500\n",
      "1/1 [==============================] - 0s 3ms/step - Error: 1.3143 - Temperature: 0.5679 - Hidden weights: 0.4058 - Output weights: 0.2426\n",
      "Epoch 381/500\n",
      "1/1 [==============================] - 0s 2ms/step - Error: 1.1784 - Temperature: 0.5409 - Hidden weights: 0.3908 - Output weights: 0.1726\n",
      "Epoch 382/500\n",
      "1/1 [==============================] - 0s 8ms/step - Error: 1.1449 - Temperature: 0.5338 - Hidden weights: 0.3885 - Output weights: 0.1573\n",
      "Epoch 383/500\n",
      "1/1 [==============================] - 0s 12ms/step - Error: 1.2455 - Temperature: 0.5547 - Hidden weights: 0.4082 - Output weights: 0.2308\n",
      "Epoch 384/500\n",
      "1/1 [==============================] - 0s 6ms/step - Error: 1.2594 - Temperature: 0.5574 - Hidden weights: 0.3994 - Output weights: 0.1632\n",
      "Epoch 385/500\n",
      "1/1 [==============================] - 0s 8ms/step - Error: 1.1127 - Temperature: 0.5267 - Hidden weights: 0.4112 - Output weights: 0.2081\n",
      "Epoch 386/500\n",
      "1/1 [==============================] - 0s 6ms/step - Error: 0.9807 - Temperature: 0.4951 - Hidden weights: 0.4228 - Output weights: 0.2444\n",
      "Epoch 387/500\n",
      "1/1 [==============================] - 0s 13ms/step - Error: 1.3245 - Temperature: 0.5698 - Hidden weights: 0.4147 - Output weights: 0.1969\n",
      "Epoch 388/500\n",
      "1/1 [==============================] - 0s 9ms/step - Error: 1.3742 - Temperature: 0.5788 - Hidden weights: 0.4179 - Output weights: 0.2120\n",
      "Epoch 389/500\n",
      "1/1 [==============================] - 0s 5ms/step - Error: 1.3982 - Temperature: 0.5830 - Hidden weights: 0.4154 - Output weights: 0.1985\n",
      "Epoch 390/500\n",
      "1/1 [==============================] - 0s 4ms/step - Error: 1.3405 - Temperature: 0.5727 - Hidden weights: 0.4132 - Output weights: 0.1725\n",
      "Epoch 391/500\n",
      "1/1 [==============================] - 0s 6ms/step - Error: 1.2510 - Temperature: 0.5557 - Hidden weights: 0.4101 - Output weights: 0.1551\n",
      "Epoch 392/500\n",
      "1/1 [==============================] - 0s 5ms/step - Error: 0.7110 - Temperature: 0.4155 - Hidden weights: 0.4085 - Output weights: 0.1508\n",
      "Epoch 393/500\n",
      "1/1 [==============================] - 0s 3ms/step - Error: 1.2985 - Temperature: 0.5649 - Hidden weights: 0.4260 - Output weights: 0.2305\n",
      "Epoch 394/500\n",
      "1/1 [==============================] - 0s 7ms/step - Error: 1.7085 - Temperature: 0.6308 - Hidden weights: 0.4347 - Output weights: 0.2635\n",
      "Epoch 395/500\n",
      "1/1 [==============================] - 0s 4ms/step - Error: 1.2579 - Temperature: 0.5571 - Hidden weights: 0.4207 - Output weights: 0.1996\n",
      "Epoch 396/500\n",
      "1/1 [==============================] - 0s 4ms/step - Error: 1.2150 - Temperature: 0.5485 - Hidden weights: 0.4296 - Output weights: 0.2278\n",
      "Epoch 397/500\n",
      "1/1 [==============================] - 0s 6ms/step - Error: 1.1663 - Temperature: 0.5384 - Hidden weights: 0.4309 - Output weights: 0.2331\n",
      "Epoch 398/500\n",
      "1/1 [==============================] - 0s 3ms/step - Error: 1.4371 - Temperature: 0.5897 - Hidden weights: 0.4274 - Output weights: 0.2144\n",
      "Epoch 399/500\n",
      "1/1 [==============================] - 0s 3ms/step - Error: 1.2894 - Temperature: 0.5632 - Hidden weights: 0.4232 - Output weights: 0.2003\n",
      "Epoch 400/500\n",
      "1/1 [==============================] - 0s 2ms/step - Error: 1.7253 - Temperature: 0.6331 - Hidden weights: 0.4273 - Output weights: 0.2153\n",
      "Epoch 401/500\n",
      "1/1 [==============================] - 0s 6ms/step - Error: 1.2878 - Temperature: 0.5629 - Hidden weights: 0.4271 - Output weights: 0.2096\n",
      "Epoch 402/500\n",
      "1/1 [==============================] - 0s 4ms/step - Error: 1.5402 - Temperature: 0.6063 - Hidden weights: 0.4325 - Output weights: 0.2226\n",
      "Epoch 403/500\n",
      "1/1 [==============================] - 0s 3ms/step - Error: 1.2317 - Temperature: 0.5519 - Hidden weights: 0.4262 - Output weights: 0.1893\n",
      "Epoch 404/500\n",
      "1/1 [==============================] - 0s 3ms/step - Error: 1.1608 - Temperature: 0.5372 - Hidden weights: 0.4207 - Output weights: 0.1563\n",
      "Epoch 405/500\n",
      "1/1 [==============================] - 0s 4ms/step - Error: 1.0100 - Temperature: 0.5025 - Hidden weights: 0.4196 - Output weights: 0.1556\n",
      "Epoch 406/500\n",
      "1/1 [==============================] - 0s 2ms/step - Error: 1.2299 - Temperature: 0.5516 - Hidden weights: 0.4514 - Output weights: 0.2542\n",
      "Epoch 407/500\n",
      "1/1 [==============================] - 0s 2ms/step - Error: 0.9659 - Temperature: 0.4913 - Hidden weights: 0.4402 - Output weights: 0.1896\n",
      "Epoch 408/500\n",
      "1/1 [==============================] - 0s 3ms/step - Error: 1.2880 - Temperature: 0.5629 - Hidden weights: 0.4586 - Output weights: 0.2550\n",
      "Epoch 409/500\n",
      "1/1 [==============================] - 0s 13ms/step - Error: 1.0601 - Temperature: 0.5146 - Hidden weights: 0.4583 - Output weights: 0.2625\n",
      "Epoch 410/500\n",
      "1/1 [==============================] - 0s 13ms/step - Error: 1.2701 - Temperature: 0.5595 - Hidden weights: 0.4632 - Output weights: 0.2769\n",
      "Epoch 411/500\n",
      "1/1 [==============================] - 0s 9ms/step - Error: 1.3302 - Temperature: 0.5709 - Hidden weights: 0.4734 - Output weights: 0.3113\n",
      "Epoch 412/500\n",
      "1/1 [==============================] - 0s 6ms/step - Error: 1.2064 - Temperature: 0.5468 - Hidden weights: 0.4654 - Output weights: 0.2868\n",
      "Epoch 413/500\n",
      "1/1 [==============================] - 0s 10ms/step - Error: 1.4809 - Temperature: 0.5969 - Hidden weights: 0.4622 - Output weights: 0.2725\n",
      "Epoch 414/500\n",
      "1/1 [==============================] - 0s 11ms/step - Error: 1.1566 - Temperature: 0.5363 - Hidden weights: 0.4513 - Output weights: 0.2362\n",
      "Epoch 415/500\n",
      "1/1 [==============================] - 0s 17ms/step - Error: 1.2207 - Temperature: 0.5497 - Hidden weights: 0.4442 - Output weights: 0.1848\n",
      "Epoch 416/500\n",
      "1/1 [==============================] - 0s 10ms/step - Error: 1.7146 - Temperature: 0.6316 - Hidden weights: 0.4978 - Output weights: 0.3146\n",
      "Epoch 417/500\n",
      "1/1 [==============================] - 0s 7ms/step - Error: 1.4645 - Temperature: 0.5942 - Hidden weights: 0.4789 - Output weights: 0.2463\n",
      "Epoch 418/500\n",
      "1/1 [==============================] - 0s 7ms/step - Error: 0.9485 - Temperature: 0.4868 - Hidden weights: 0.4763 - Output weights: 0.2359\n",
      "Epoch 419/500\n",
      "1/1 [==============================] - 0s 5ms/step - Error: 1.1785 - Temperature: 0.5410 - Hidden weights: 0.4757 - Output weights: 0.2312\n",
      "Epoch 420/500\n",
      "1/1 [==============================] - 0s 8ms/step - Error: 1.5526 - Temperature: 0.6082 - Hidden weights: 0.4729 - Output weights: 0.2094\n",
      "Epoch 421/500\n",
      "1/1 [==============================] - 0s 13ms/step - Error: 1.8670 - Temperature: 0.6512 - Hidden weights: 0.4844 - Output weights: 0.2577\n",
      "Epoch 422/500\n",
      "1/1 [==============================] - 0s 6ms/step - Error: 1.4311 - Temperature: 0.5887 - Hidden weights: 0.4769 - Output weights: 0.2204\n",
      "Epoch 423/500\n",
      "1/1 [==============================] - 0s 4ms/step - Error: 1.4146 - Temperature: 0.5859 - Hidden weights: 0.4810 - Output weights: 0.2404\n",
      "Epoch 424/500\n",
      "1/1 [==============================] - 0s 8ms/step - Error: 1.3825 - Temperature: 0.5803 - Hidden weights: 0.4737 - Output weights: 0.1795\n",
      "Epoch 425/500\n",
      "1/1 [==============================] - 0s 3ms/step - Error: 1.3429 - Temperature: 0.5732 - Hidden weights: 0.4809 - Output weights: 0.2170\n",
      "Epoch 426/500\n",
      "1/1 [==============================] - 0s 9ms/step - Error: 0.8350 - Temperature: 0.4550 - Hidden weights: 0.4695 - Output weights: 0.1551\n",
      "Epoch 427/500\n",
      "1/1 [==============================] - 0s 4ms/step - Error: 1.3738 - Temperature: 0.5787 - Hidden weights: 0.4800 - Output weights: 0.2134\n",
      "Epoch 428/500\n",
      "1/1 [==============================] - 0s 3ms/step - Error: 1.0125 - Temperature: 0.5031 - Hidden weights: 0.4928 - Output weights: 0.2613\n",
      "Epoch 429/500\n",
      "1/1 [==============================] - 0s 7ms/step - Error: 1.2764 - Temperature: 0.5607 - Hidden weights: 0.4885 - Output weights: 0.2381\n",
      "Epoch 430/500\n",
      "1/1 [==============================] - 0s 4ms/step - Error: 1.2688 - Temperature: 0.5592 - Hidden weights: 0.4863 - Output weights: 0.2250\n",
      "Epoch 431/500\n",
      "1/1 [==============================] - 0s 3ms/step - Error: 0.9113 - Temperature: 0.4768 - Hidden weights: 0.4779 - Output weights: 0.1886\n",
      "Epoch 432/500\n",
      "1/1 [==============================] - 0s 5ms/step - Error: 1.0828 - Temperature: 0.5199 - Hidden weights: 0.4874 - Output weights: 0.2353\n",
      "Epoch 433/500\n",
      "1/1 [==============================] - 0s 4ms/step - Error: 1.1226 - Temperature: 0.5289 - Hidden weights: 0.4968 - Output weights: 0.2746\n",
      "Epoch 434/500\n",
      "1/1 [==============================] - 0s 3ms/step - Error: 1.2232 - Temperature: 0.5502 - Hidden weights: 0.4894 - Output weights: 0.2351\n",
      "Epoch 435/500\n",
      "1/1 [==============================] - 0s 2ms/step - Error: 1.2708 - Temperature: 0.5596 - Hidden weights: 0.4933 - Output weights: 0.2500\n",
      "Epoch 436/500\n",
      "1/1 [==============================] - 0s 7ms/step - Error: 1.1735 - Temperature: 0.5399 - Hidden weights: 0.4908 - Output weights: 0.2325\n",
      "Epoch 437/500\n",
      "1/1 [==============================] - 0s 3ms/step - Error: 1.1890 - Temperature: 0.5432 - Hidden weights: 0.4888 - Output weights: 0.2267\n",
      "Epoch 438/500\n",
      "1/1 [==============================] - 0s 4ms/step - Error: 1.5026 - Temperature: 0.6004 - Hidden weights: 0.4975 - Output weights: 0.2517\n",
      "Epoch 439/500\n",
      "1/1 [==============================] - 0s 4ms/step - Error: 0.9362 - Temperature: 0.4835 - Hidden weights: 0.4855 - Output weights: 0.2013\n",
      "Epoch 440/500\n",
      "1/1 [==============================] - 0s 4ms/step - Error: 1.4741 - Temperature: 0.5958 - Hidden weights: 0.4830 - Output weights: 0.1840\n",
      "Epoch 441/500\n",
      "1/1 [==============================] - 0s 2ms/step - Error: 1.1449 - Temperature: 0.5338 - Hidden weights: 0.4791 - Output weights: 0.1664\n",
      "Epoch 442/500\n",
      "1/1 [==============================] - 0s 4ms/step - Error: 1.4419 - Temperature: 0.5905 - Hidden weights: 0.5150 - Output weights: 0.2791\n",
      "Epoch 443/500\n",
      "1/1 [==============================] - 0s 7ms/step - Error: 1.1389 - Temperature: 0.5325 - Hidden weights: 0.5035 - Output weights: 0.2391\n",
      "Epoch 444/500\n",
      "1/1 [==============================] - 0s 4ms/step - Error: 0.9707 - Temperature: 0.4926 - Hidden weights: 0.5000 - Output weights: 0.2249\n",
      "Epoch 445/500\n",
      "1/1 [==============================] - 0s 3ms/step - Error: 1.0922 - Temperature: 0.5220 - Hidden weights: 0.5089 - Output weights: 0.2689\n",
      "Epoch 446/500\n",
      "1/1 [==============================] - 0s 2ms/step - Error: 1.2362 - Temperature: 0.5528 - Hidden weights: 0.5109 - Output weights: 0.2739\n",
      "Epoch 447/500\n",
      "1/1 [==============================] - 0s 5ms/step - Error: 1.3000 - Temperature: 0.5652 - Hidden weights: 0.5083 - Output weights: 0.2652\n",
      "Epoch 448/500\n",
      "1/1 [==============================] - 0s 3ms/step - Error: 1.1851 - Temperature: 0.5424 - Hidden weights: 0.4987 - Output weights: 0.2237\n",
      "Epoch 449/500\n",
      "1/1 [==============================] - 0s 3ms/step - Error: 1.4934 - Temperature: 0.5989 - Hidden weights: 0.4954 - Output weights: 0.2018\n",
      "Epoch 450/500\n",
      "1/1 [==============================] - 0s 6ms/step - Error: 1.4930 - Temperature: 0.5989 - Hidden weights: 0.4948 - Output weights: 0.2105\n",
      "Epoch 451/500\n",
      "1/1 [==============================] - 0s 4ms/step - Error: 1.2993 - Temperature: 0.5651 - Hidden weights: 0.5252 - Output weights: 0.2993\n",
      "Epoch 452/500\n",
      "1/1 [==============================] - 0s 3ms/step - Error: 1.4254 - Temperature: 0.5877 - Hidden weights: 0.5163 - Output weights: 0.2703\n",
      "Epoch 453/500\n",
      "1/1 [==============================] - 0s 3ms/step - Error: 1.4293 - Temperature: 0.5884 - Hidden weights: 0.5163 - Output weights: 0.2701\n",
      "Epoch 454/500\n",
      "1/1 [==============================] - 0s 6ms/step - Error: 1.2436 - Temperature: 0.5543 - Hidden weights: 0.5152 - Output weights: 0.2699\n",
      "Epoch 455/500\n",
      "1/1 [==============================] - 0s 3ms/step - Error: 1.0374 - Temperature: 0.5092 - Hidden weights: 0.5095 - Output weights: 0.2512\n",
      "Epoch 456/500\n",
      "1/1 [==============================] - 0s 4ms/step - Error: 1.2673 - Temperature: 0.5590 - Hidden weights: 0.5045 - Output weights: 0.2167\n",
      "Epoch 457/500\n",
      "1/1 [==============================] - 0s 8ms/step - Error: 1.1136 - Temperature: 0.5269 - Hidden weights: 0.5066 - Output weights: 0.2211\n",
      "Epoch 458/500\n",
      "1/1 [==============================] - 0s 3ms/step - Error: 1.0773 - Temperature: 0.5186 - Hidden weights: 0.5091 - Output weights: 0.2337\n",
      "Epoch 459/500\n",
      "1/1 [==============================] - 0s 4ms/step - Error: 1.3283 - Temperature: 0.5705 - Hidden weights: 0.5140 - Output weights: 0.2640\n",
      "Epoch 460/500\n",
      "1/1 [==============================] - 0s 7ms/step - Error: 1.0614 - Temperature: 0.5149 - Hidden weights: 0.5035 - Output weights: 0.2278\n",
      "Epoch 461/500\n",
      "1/1 [==============================] - 0s 3ms/step - Error: 1.0122 - Temperature: 0.5030 - Hidden weights: 0.5148 - Output weights: 0.2792\n",
      "Epoch 462/500\n",
      "1/1 [==============================] - 0s 3ms/step - Error: 1.2368 - Temperature: 0.5529 - Hidden weights: 0.5085 - Output weights: 0.2445\n",
      "Epoch 463/500\n",
      "1/1 [==============================] - 0s 7ms/step - Error: 1.2054 - Temperature: 0.5466 - Hidden weights: 0.5097 - Output weights: 0.2461\n",
      "Epoch 464/500\n",
      "1/1 [==============================] - 0s 4ms/step - Error: 0.9970 - Temperature: 0.4992 - Hidden weights: 0.5033 - Output weights: 0.2221\n",
      "Epoch 465/500\n",
      "1/1 [==============================] - 0s 5ms/step - Error: 1.2542 - Temperature: 0.5564 - Hidden weights: 0.5259 - Output weights: 0.3011\n",
      "Epoch 466/500\n",
      "1/1 [==============================] - 0s 5ms/step - Error: 0.9635 - Temperature: 0.4907 - Hidden weights: 0.5036 - Output weights: 0.2311\n",
      "Epoch 467/500\n",
      "1/1 [==============================] - 0s 4ms/step - Error: 1.2873 - Temperature: 0.5628 - Hidden weights: 0.5241 - Output weights: 0.3037\n",
      "Epoch 468/500\n",
      "1/1 [==============================] - 0s 4ms/step - Error: 1.6783 - Temperature: 0.6266 - Hidden weights: 0.5213 - Output weights: 0.2977\n",
      "Epoch 469/500\n",
      "1/1 [==============================] - 0s 4ms/step - Error: 1.3795 - Temperature: 0.5797 - Hidden weights: 0.5128 - Output weights: 0.2635\n",
      "Epoch 470/500\n",
      "1/1 [==============================] - 0s 3ms/step - Error: 1.1615 - Temperature: 0.5374 - Hidden weights: 0.5157 - Output weights: 0.2733\n",
      "Epoch 471/500\n",
      "1/1 [==============================] - 0s 3ms/step - Error: 1.2698 - Temperature: 0.5594 - Hidden weights: 0.5306 - Output weights: 0.3161\n",
      "Epoch 472/500\n",
      "1/1 [==============================] - 0s 7ms/step - Error: 1.4938 - Temperature: 0.5990 - Hidden weights: 0.5209 - Output weights: 0.2796\n",
      "Epoch 473/500\n",
      "1/1 [==============================] - 0s 3ms/step - Error: 1.3319 - Temperature: 0.5712 - Hidden weights: 0.5270 - Output weights: 0.3026\n",
      "Epoch 474/500\n",
      "1/1 [==============================] - 0s 4ms/step - Error: 1.4486 - Temperature: 0.5916 - Hidden weights: 0.5223 - Output weights: 0.2753\n",
      "Epoch 475/500\n",
      "1/1 [==============================] - 0s 7ms/step - Error: 1.2923 - Temperature: 0.5638 - Hidden weights: 0.5162 - Output weights: 0.2500\n",
      "Epoch 476/500\n",
      "1/1 [==============================] - 0s 4ms/step - Error: 1.1366 - Temperature: 0.5320 - Hidden weights: 0.5072 - Output weights: 0.2078\n",
      "Epoch 477/500\n",
      "1/1 [==============================] - 0s 3ms/step - Error: 1.4576 - Temperature: 0.5931 - Hidden weights: 0.5063 - Output weights: 0.2083\n",
      "Epoch 478/500\n",
      "1/1 [==============================] - 0s 4ms/step - Error: 1.0846 - Temperature: 0.5203 - Hidden weights: 0.5110 - Output weights: 0.2116\n",
      "Epoch 479/500\n",
      "1/1 [==============================] - 0s 6ms/step - Error: 1.3260 - Temperature: 0.5701 - Hidden weights: 0.5213 - Output weights: 0.2537\n",
      "Epoch 480/500\n",
      "1/1 [==============================] - 0s 3ms/step - Error: 1.0679 - Temperature: 0.5164 - Hidden weights: 0.5110 - Output weights: 0.2018\n",
      "Epoch 481/500\n",
      "1/1 [==============================] - 0s 8ms/step - Error: 1.3954 - Temperature: 0.5825 - Hidden weights: 0.5267 - Output weights: 0.2698\n",
      "Epoch 482/500\n",
      "1/1 [==============================] - 0s 4ms/step - Error: 1.2551 - Temperature: 0.5566 - Hidden weights: 0.5253 - Output weights: 0.2670\n",
      "Epoch 483/500\n",
      "1/1 [==============================] - 0s 3ms/step - Error: 1.4987 - Temperature: 0.5998 - Hidden weights: 0.5423 - Output weights: 0.3170\n",
      "Epoch 484/500\n",
      "1/1 [==============================] - 0s 6ms/step - Error: 1.3875 - Temperature: 0.5812 - Hidden weights: 0.5360 - Output weights: 0.3015\n",
      "Epoch 485/500\n",
      "1/1 [==============================] - 0s 5ms/step - Error: 1.4896 - Temperature: 0.5983 - Hidden weights: 0.5450 - Output weights: 0.3162\n",
      "Epoch 486/500\n",
      "1/1 [==============================] - 0s 4ms/step - Error: 1.2995 - Temperature: 0.5651 - Hidden weights: 0.5416 - Output weights: 0.3044\n",
      "Epoch 487/500\n",
      "1/1 [==============================] - 0s 6ms/step - Error: 1.3468 - Temperature: 0.5739 - Hidden weights: 0.5341 - Output weights: 0.2637\n",
      "Epoch 488/500\n",
      "1/1 [==============================] - 0s 4ms/step - Error: 1.4021 - Temperature: 0.5837 - Hidden weights: 0.5372 - Output weights: 0.2886\n",
      "Epoch 489/500\n",
      "1/1 [==============================] - 0s 3ms/step - Error: 1.5830 - Temperature: 0.6128 - Hidden weights: 0.5349 - Output weights: 0.2829\n",
      "Epoch 490/500\n",
      "1/1 [==============================] - 0s 6ms/step - Error: 1.2977 - Temperature: 0.5648 - Hidden weights: 0.5247 - Output weights: 0.2410\n",
      "Epoch 491/500\n",
      "1/1 [==============================] - 0s 4ms/step - Error: 1.1694 - Temperature: 0.5390 - Hidden weights: 0.5441 - Output weights: 0.2779\n",
      "Epoch 492/500\n",
      "1/1 [==============================] - 0s 3ms/step - Error: 1.1806 - Temperature: 0.5414 - Hidden weights: 0.5583 - Output weights: 0.3305\n",
      "Epoch 493/500\n",
      "1/1 [==============================] - 0s 3ms/step - Error: 1.3164 - Temperature: 0.5683 - Hidden weights: 0.5607 - Output weights: 0.3394\n",
      "Epoch 494/500\n",
      "1/1 [==============================] - 0s 7ms/step - Error: 1.2123 - Temperature: 0.5480 - Hidden weights: 0.5557 - Output weights: 0.3207\n",
      "Epoch 495/500\n",
      "1/1 [==============================] - 0s 3ms/step - Error: 1.2240 - Temperature: 0.5504 - Hidden weights: 0.5512 - Output weights: 0.3046\n",
      "Epoch 496/500\n",
      "1/1 [==============================] - 0s 18ms/step - Error: 1.2533 - Temperature: 0.5562 - Hidden weights: 0.5540 - Output weights: 0.3202\n",
      "Epoch 497/500\n",
      "1/1 [==============================] - 0s 15ms/step - Error: 1.0772 - Temperature: 0.5186 - Hidden weights: 0.5472 - Output weights: 0.2922\n",
      "Epoch 498/500\n",
      "1/1 [==============================] - 0s 11ms/step - Error: 1.3498 - Temperature: 0.5744 - Hidden weights: 0.5540 - Output weights: 0.3182\n",
      "Epoch 499/500\n",
      "1/1 [==============================] - 0s 10ms/step - Error: 1.4307 - Temperature: 0.5886 - Hidden weights: 0.5673 - Output weights: 0.3407\n",
      "Epoch 500/500\n",
      "1/1 [==============================] - 0s 8ms/step - Error: 1.3443 - Temperature: 0.5734 - Hidden weights: 0.5601 - Output weights: 0.3149\n"
     ]
    }
   ],
   "source": [
    "model.compile()\n",
    "model_history = model.fit(x = input, epochs=500)"
   ]
  },
  {
   "cell_type": "code",
   "execution_count": 544,
   "metadata": {},
   "outputs": [
    {
     "data": {
      "text/html": [
       "<div>\n",
       "<style scoped>\n",
       "    .dataframe tbody tr th:only-of-type {\n",
       "        vertical-align: middle;\n",
       "    }\n",
       "\n",
       "    .dataframe tbody tr th {\n",
       "        vertical-align: top;\n",
       "    }\n",
       "\n",
       "    .dataframe thead th {\n",
       "        text-align: right;\n",
       "    }\n",
       "</style>\n",
       "<table border=\"1\" class=\"dataframe\">\n",
       "  <thead>\n",
       "    <tr style=\"text-align: right;\">\n",
       "      <th></th>\n",
       "      <th>Error</th>\n",
       "      <th>Temperature</th>\n",
       "      <th>Hidden weights</th>\n",
       "      <th>Output weights</th>\n",
       "    </tr>\n",
       "  </thead>\n",
       "  <tbody>\n",
       "    <tr>\n",
       "      <th>0</th>\n",
       "      <td>2.095945</td>\n",
       "      <td>0.676997</td>\n",
       "      <td>[[0.4893418, 0.49323568, 0.4910166, 0.48361638...</td>\n",
       "      <td>[[0.5772953, 0.5770398, 0.5772503, 0.57886213,...</td>\n",
       "    </tr>\n",
       "    <tr>\n",
       "      <th>1</th>\n",
       "      <td>1.709774</td>\n",
       "      <td>0.630965</td>\n",
       "      <td>[[0.49137595, 0.49335203, 0.49557486, 0.486540...</td>\n",
       "      <td>[[0.5808043, 0.5827335, 0.5818547, 0.5830276, ...</td>\n",
       "    </tr>\n",
       "    <tr>\n",
       "      <th>2</th>\n",
       "      <td>1.533425</td>\n",
       "      <td>0.605277</td>\n",
       "      <td>[[0.4903459, 0.4901599, 0.49483308, 0.48654008...</td>\n",
       "      <td>[[0.57957643, 0.5810826, 0.57985085, 0.5812653...</td>\n",
       "    </tr>\n",
       "    <tr>\n",
       "      <th>3</th>\n",
       "      <td>1.694932</td>\n",
       "      <td>0.628933</td>\n",
       "      <td>[[0.4906643, 0.49018428, 0.49496633, 0.4866973...</td>\n",
       "      <td>[[0.5797136, 0.58142173, 0.5802914, 0.5815432,...</td>\n",
       "    </tr>\n",
       "    <tr>\n",
       "      <th>4</th>\n",
       "      <td>1.557465</td>\n",
       "      <td>0.608988</td>\n",
       "      <td>[[0.4906643, 0.48998415, 0.4949416, 0.48628518...</td>\n",
       "      <td>[[0.5793704, 0.5811758, 0.5799811, 0.5811936, ...</td>\n",
       "    </tr>\n",
       "    <tr>\n",
       "      <th>...</th>\n",
       "      <td>...</td>\n",
       "      <td>...</td>\n",
       "      <td>...</td>\n",
       "      <td>...</td>\n",
       "    </tr>\n",
       "    <tr>\n",
       "      <th>495</th>\n",
       "      <td>1.253264</td>\n",
       "      <td>0.556199</td>\n",
       "      <td>[[0.6101742, 0.86719054, 0.4378679, 0.45123273...</td>\n",
       "      <td>[[0.29151, 0.21228114, 0.042574108, 0.55627555...</td>\n",
       "    </tr>\n",
       "    <tr>\n",
       "      <th>496</th>\n",
       "      <td>1.077196</td>\n",
       "      <td>0.518582</td>\n",
       "      <td>[[0.6056598, 0.8546897, 0.43145907, 0.4400431,...</td>\n",
       "      <td>[[0.2834967, 0.2101266, -0.08979617, 0.5560704...</td>\n",
       "    </tr>\n",
       "    <tr>\n",
       "      <th>497</th>\n",
       "      <td>1.349800</td>\n",
       "      <td>0.574432</td>\n",
       "      <td>[[0.6128843, 0.85465294, 0.43959287, 0.4522823...</td>\n",
       "      <td>[[0.27793494, 0.20559537, -0.118887946, 0.5559...</td>\n",
       "    </tr>\n",
       "    <tr>\n",
       "      <th>498</th>\n",
       "      <td>1.430749</td>\n",
       "      <td>0.588604</td>\n",
       "      <td>[[0.61361104, 0.8951633, 0.4453258, 0.4686401,...</td>\n",
       "      <td>[[0.26164392, 0.20435157, -0.2074725, 0.555466...</td>\n",
       "    </tr>\n",
       "    <tr>\n",
       "      <th>499</th>\n",
       "      <td>1.344277</td>\n",
       "      <td>0.573429</td>\n",
       "      <td>[[0.60413635, 0.8863595, 0.4446334, 0.46808213...</td>\n",
       "      <td>[[0.24011326, 0.19436684, -0.23937902, 0.55485...</td>\n",
       "    </tr>\n",
       "  </tbody>\n",
       "</table>\n",
       "<p>500 rows × 4 columns</p>\n",
       "</div>"
      ],
      "text/plain": [
       "        Error  Temperature                                     Hidden weights  \\\n",
       "0    2.095945     0.676997  [[0.4893418, 0.49323568, 0.4910166, 0.48361638...   \n",
       "1    1.709774     0.630965  [[0.49137595, 0.49335203, 0.49557486, 0.486540...   \n",
       "2    1.533425     0.605277  [[0.4903459, 0.4901599, 0.49483308, 0.48654008...   \n",
       "3    1.694932     0.628933  [[0.4906643, 0.49018428, 0.49496633, 0.4866973...   \n",
       "4    1.557465     0.608988  [[0.4906643, 0.48998415, 0.4949416, 0.48628518...   \n",
       "..        ...          ...                                                ...   \n",
       "495  1.253264     0.556199  [[0.6101742, 0.86719054, 0.4378679, 0.45123273...   \n",
       "496  1.077196     0.518582  [[0.6056598, 0.8546897, 0.43145907, 0.4400431,...   \n",
       "497  1.349800     0.574432  [[0.6128843, 0.85465294, 0.43959287, 0.4522823...   \n",
       "498  1.430749     0.588604  [[0.61361104, 0.8951633, 0.4453258, 0.4686401,...   \n",
       "499  1.344277     0.573429  [[0.60413635, 0.8863595, 0.4446334, 0.46808213...   \n",
       "\n",
       "                                        Output weights  \n",
       "0    [[0.5772953, 0.5770398, 0.5772503, 0.57886213,...  \n",
       "1    [[0.5808043, 0.5827335, 0.5818547, 0.5830276, ...  \n",
       "2    [[0.57957643, 0.5810826, 0.57985085, 0.5812653...  \n",
       "3    [[0.5797136, 0.58142173, 0.5802914, 0.5815432,...  \n",
       "4    [[0.5793704, 0.5811758, 0.5799811, 0.5811936, ...  \n",
       "..                                                 ...  \n",
       "495  [[0.29151, 0.21228114, 0.042574108, 0.55627555...  \n",
       "496  [[0.2834967, 0.2101266, -0.08979617, 0.5560704...  \n",
       "497  [[0.27793494, 0.20559537, -0.118887946, 0.5559...  \n",
       "498  [[0.26164392, 0.20435157, -0.2074725, 0.555466...  \n",
       "499  [[0.24011326, 0.19436684, -0.23937902, 0.55485...  \n",
       "\n",
       "[500 rows x 4 columns]"
      ]
     },
     "execution_count": 544,
     "metadata": {},
     "output_type": "execute_result"
    }
   ],
   "source": [
    "df_model_history = pd.DataFrame(model_history.history)\n",
    "df_model_history"
   ]
  },
  {
   "cell_type": "code",
   "execution_count": 545,
   "metadata": {},
   "outputs": [
    {
     "data": {
      "text/plain": [
       "[array([[0.266, 0.168, 0.224, 0.01 , 0.03 , 0.01 , 0.168, 0.168, 0.224,\n",
       "         0.224, 0.266, 0.224, 0.266, 0.224],\n",
       "        [0.   , 0.03 , 0.03 , 0.266, 0.875, 0.03 , 0.427, 0.01 , 0.168,\n",
       "         0.01 , 0.168, 0.266, 0.875, 0.   ]], dtype=float32),\n",
       " array([[0.60413635, 0.8863595 , 0.4446334 , 0.46808213, 0.40987736,\n",
       "         0.6434324 , 0.8865068 , 0.9419669 , 0.3589669 , 0.44786894,\n",
       "         0.52267957, 0.31478333, 0.48275065, 0.4020584 ],\n",
       "        [0.49267486, 0.49683473, 0.4365766 , 0.5799505 , 0.58346444,\n",
       "         0.3419758 , 0.26140758, 0.31752318, 0.86408323, 0.5666509 ,\n",
       "         0.76733786, 0.7194443 , 0.86385125, 0.576036  ]], dtype=float32),\n",
       " array([[0.2, 0.2, 0.2, 0.2, 0.2, 0.2, 0.2, 0.2, 0.2, 0.2, 0.2, 0.2, 0.2,\n",
       "         0.2]], dtype=float32),\n",
       " array([[-0.00356192, -0.00524035, -0.00030911, -0.00557952, -0.00135813,\n",
       "         -0.0066064 , -0.0061942 , -0.00846337, -0.00410744, -0.00451227,\n",
       "         -0.00451161, -0.00175757, -0.00331734, -0.00266265]],\n",
       "       dtype=float32),\n",
       " array([[0.64955604, 0.65037507, 0.62983686, 0.6494324 , 0.77655876,\n",
       "         0.5910386 , 0.6909596 , 0.64978886, 0.6744748 , 0.62801486,\n",
       "         0.6905294 , 0.68747073, 0.86867136, 0.62129885]], dtype=float32),\n",
       " array([[ 2.40113258e-01,  1.94366843e-01, -2.39379019e-01,\n",
       "          5.54851890e-01,  8.92504752e-02,  4.86800492e-01,\n",
       "          2.40543678e-01, -1.46458730e-01,  2.48640969e-01,\n",
       "          3.85450304e-01,  4.38621163e-01,  8.30593526e-01,\n",
       "          5.11247694e-01,  3.54324639e-01],\n",
       "        [ 1.22091666e-01,  6.21387780e-01,  7.57903233e-03,\n",
       "          4.32733595e-01,  2.61908084e-01,  6.60156310e-01,\n",
       "          4.93070304e-01,  9.64148462e-01,  7.09691882e-01,\n",
       "          9.37084109e-03,  3.19562316e-01, -3.26931745e-01,\n",
       "          5.04801214e-01, -1.78079717e-02],\n",
       "        [ 4.93248366e-03,  2.99013644e-01,  9.15938988e-03,\n",
       "          2.73051411e-01,  1.88159674e-01,  6.44214094e-01,\n",
       "          1.82077169e-01,  4.61449504e-01,  5.89374483e-01,\n",
       "          2.66830474e-01,  6.46038875e-02, -2.97517590e-02,\n",
       "          3.69214803e-01,  7.99055770e-03],\n",
       "        [ 3.30867648e-01,  1.71549901e-01, -4.27988321e-02,\n",
       "          6.92406118e-01,  6.65906370e-02,  4.98784810e-01,\n",
       "          4.14471596e-01, -1.77887306e-01,  1.38444811e-01,\n",
       "          6.16406739e-01,  3.10532272e-01,  5.71316123e-01,\n",
       "          5.01338899e-01,  3.81679118e-01],\n",
       "        [ 2.67173439e-01,  3.12248200e-01, -1.17629766e-04,\n",
       "          4.94007677e-01,  2.30590895e-01,  6.17465377e-01,\n",
       "          3.04301381e-01,  3.64292562e-01,  3.42497826e-01,\n",
       "          2.85305709e-01,  3.26748759e-01,  4.79802042e-02,\n",
       "          6.38449848e-01, -1.49620488e-01],\n",
       "        [ 1.58383995e-01,  2.57669657e-01,  1.02673560e-01,\n",
       "          4.91646618e-01,  1.73859984e-01,  7.28433788e-01,\n",
       "          4.60907608e-01,  2.83312857e-01,  3.94104064e-01,\n",
       "          5.38436830e-01,  7.96707347e-02, -1.58109993e-01,\n",
       "          3.25575978e-01,  2.46794581e-01],\n",
       "        [ 1.66746765e-01,  3.96027029e-01,  2.24062726e-02,\n",
       "          2.99991727e-01,  4.96499017e-02,  3.28445375e-01,\n",
       "          7.56262362e-01,  6.60636067e-01,  3.66618276e-01,\n",
       "          4.14242819e-02,  2.85695851e-01,  5.91428354e-02,\n",
       "          4.60073143e-01,  1.98583871e-01],\n",
       "        [ 3.81422311e-01,  4.86167908e-01,  1.06366858e-01,\n",
       "          5.07928789e-01,  1.27195299e-01,  4.74438012e-01,\n",
       "          7.23292947e-01,  8.69904935e-01,  2.78576791e-01,\n",
       "          4.59303170e-01,  4.26068187e-01,  7.74451941e-02,\n",
       "          5.62621355e-01,  3.08144331e-01],\n",
       "        [ 1.72859311e-01,  4.34698492e-01,  3.15589234e-02,\n",
       "          3.03346485e-01,  1.34210050e-01,  3.81387860e-01,\n",
       "          5.40223181e-01,  1.02024376e+00,  4.40215439e-01,\n",
       "          2.98544586e-01,  3.31232220e-01,  1.19369492e-01,\n",
       "          5.23784280e-01,  1.68081373e-01],\n",
       "        [ 2.28791580e-01,  1.22145414e-01,  1.33725613e-01,\n",
       "          3.41507286e-01,  5.20931073e-02,  4.45876569e-01,\n",
       "          4.41826969e-01,  3.87789845e-01,  1.54545382e-01,\n",
       "          7.49955177e-01,  1.53478906e-01,  2.94823498e-01,\n",
       "          4.01037812e-01,  3.71422470e-01],\n",
       "        [ 2.48562858e-01,  4.51687872e-01, -9.10485238e-02,\n",
       "          6.87529683e-01,  1.46155387e-01,  4.36791211e-01,\n",
       "          5.96644759e-01,  4.72612321e-01,  3.90055686e-01,\n",
       "          2.12279305e-01,  4.98185605e-01,  3.35928380e-01,\n",
       "          6.56080425e-01,  1.66747898e-01],\n",
       "        [ 1.53426453e-01,  1.77002773e-01, -1.31547198e-01,\n",
       "          5.76299906e-01,  3.16599980e-02,  4.16940808e-01,\n",
       "          2.35827759e-01, -2.05361098e-02,  3.30727249e-01,\n",
       "          3.69877398e-01,  3.02815109e-01,  6.83592618e-01,\n",
       "          4.89142120e-01,  1.51525214e-01],\n",
       "        [ 4.88207549e-01,  1.88315928e-01, -3.96313630e-02,\n",
       "          7.52300858e-01,  2.05881119e-01,  4.48286593e-01,\n",
       "          3.15722674e-01,  6.04565740e-02,  9.10299271e-02,\n",
       "          4.28685248e-01,  6.04236960e-01,  6.21944904e-01,\n",
       "          8.87670100e-01, -4.20665294e-02],\n",
       "        [ 1.08441301e-01,  1.17205337e-01, -5.61724007e-02,\n",
       "          8.06276798e-02,  5.89073002e-02,  4.56052929e-01,\n",
       "          1.74469203e-01,  4.16542411e-01,  2.78000563e-01,\n",
       "          5.40458262e-01,  2.70017445e-01,  5.82702339e-01,\n",
       "          3.42166424e-01,  3.82978559e-01]], dtype=float32),\n",
       " array([[0.2, 0.2, 0.2, 0.2, 0.2, 0.2, 0.2, 0.2, 0.2, 0.2, 0.2, 0.2, 0.2,\n",
       "         0.2]], dtype=float32),\n",
       " array([[-3.31467274e-03, -1.53716374e-03, -4.91204951e-03,\n",
       "         -9.45510401e-05, -6.20701676e-03, -7.95477317e-05,\n",
       "         -2.45195552e-04, -3.49543765e-02, -9.16555640e-04,\n",
       "          7.77917262e-03, -9.33612289e-04, -1.48078008e-03,\n",
       "         -1.51767335e-05, -6.63080066e-03]], dtype=float32),\n",
       " array([[0.9872551 , 0.99531037, 0.6530587 , 0.99964464, 0.9586915 ,\n",
       "         0.99976724, 0.999172  , 0.99997294, 0.9970079 , 0.99544626,\n",
       "         0.99655056, 0.9925519 , 0.9998466 , 0.97801834]], dtype=float32),\n",
       " 0.5734292,\n",
       " 1.3442768]"
      ]
     },
     "execution_count": 545,
     "metadata": {},
     "output_type": "execute_result"
    }
   ],
   "source": [
    "model.get_weights()"
   ]
  },
  {
   "cell_type": "code",
   "execution_count": 546,
   "metadata": {},
   "outputs": [
    {
     "data": {
      "text/plain": [
       "array([0.60413635, 0.8863595 , 0.4446334 , 0.46808213, 0.40987736,\n",
       "       0.6434324 , 0.8865068 , 0.9419669 , 0.3589669 , 0.44786894,\n",
       "       0.52267957, 0.31478333, 0.48275065, 0.4020584 ], dtype=float32)"
      ]
     },
     "execution_count": 546,
     "metadata": {},
     "output_type": "execute_result"
    }
   ],
   "source": [
    "model.get_weights()[1][0]"
   ]
  },
  {
   "cell_type": "code",
   "execution_count": 547,
   "metadata": {},
   "outputs": [
    {
     "data": {
      "text/plain": [
       "array([0.49267486, 0.49683473, 0.4365766 , 0.5799505 , 0.58346444,\n",
       "       0.3419758 , 0.26140758, 0.31752318, 0.86408323, 0.5666509 ,\n",
       "       0.76733786, 0.7194443 , 0.86385125, 0.576036  ], dtype=float32)"
      ]
     },
     "execution_count": 547,
     "metadata": {},
     "output_type": "execute_result"
    }
   ],
   "source": [
    "model.get_weights()[1][1]"
   ]
  },
  {
   "cell_type": "code",
   "execution_count": 548,
   "metadata": {},
   "outputs": [
    {
     "data": {
      "text/plain": [
       "array([0.11146149, 0.3895248 , 0.00805679, 0.11186838, 0.17358708,\n",
       "       0.30145657, 0.6250992 , 0.6244437 , 0.50511634, 0.11878198,\n",
       "       0.24465829, 0.40466094, 0.3811006 , 0.17397758], dtype=float32)"
      ]
     },
     "execution_count": 548,
     "metadata": {},
     "output_type": "execute_result"
    }
   ],
   "source": [
    "dvf = abs(model.get_weights()[1][0] - model.get_weights()[1][1])\n",
    "dvf"
   ]
  },
  {
   "cell_type": "code",
   "execution_count": 549,
   "metadata": {},
   "outputs": [
    {
     "data": {
      "text/plain": [
       "array([[0.266, 0.168, 0.224, 0.01 , 0.03 , 0.01 , 0.168, 0.168, 0.224,\n",
       "        0.224, 0.266, 0.224, 0.266, 0.224],\n",
       "       [0.   , 0.03 , 0.03 , 0.266, 0.875, 0.03 , 0.427, 0.01 , 0.168,\n",
       "        0.01 , 0.168, 0.266, 0.875, 0.   ]], dtype=float32)"
      ]
     },
     "execution_count": 549,
     "metadata": {},
     "output_type": "execute_result"
    }
   ],
   "source": [
    "model.get_weights()[0]"
   ]
  },
  {
   "cell_type": "code",
   "execution_count": 550,
   "metadata": {},
   "outputs": [
    {
     "data": {
      "text/plain": [
       "array([0.266, 0.168, 0.224, 0.01 , 0.03 , 0.01 , 0.168, 0.168, 0.224,\n",
       "       0.224, 0.266, 0.224, 0.266, 0.224], dtype=float32)"
      ]
     },
     "execution_count": 550,
     "metadata": {},
     "output_type": "execute_result"
    }
   ],
   "source": [
    "model.get_weights()[0][0,:]"
   ]
  },
  {
   "cell_type": "code",
   "execution_count": 551,
   "metadata": {},
   "outputs": [
    {
     "data": {
      "text/plain": [
       "array([0.   , 0.03 , 0.03 , 0.266, 0.875, 0.03 , 0.427, 0.01 , 0.168,\n",
       "       0.01 , 0.168, 0.266, 0.875, 0.   ], dtype=float32)"
      ]
     },
     "execution_count": 551,
     "metadata": {},
     "output_type": "execute_result"
    }
   ],
   "source": [
    "model.get_weights()[0][1,:]"
   ]
  },
  {
   "cell_type": "code",
   "execution_count": 552,
   "metadata": {},
   "outputs": [
    {
     "data": {
      "text/plain": [
       "array([0.266     , 0.138     , 0.194     , 0.256     , 0.845     ,\n",
       "       0.02      , 0.259     , 0.15799999, 0.05600001, 0.214     ,\n",
       "       0.098     , 0.042     , 0.60899997, 0.224     ], dtype=float32)"
      ]
     },
     "execution_count": 552,
     "metadata": {},
     "output_type": "execute_result"
    }
   ],
   "source": [
    "dva = abs(model.get_weights()[0][0,:] - model.get_weights()[0][1,:])\n",
    "dva"
   ]
  },
  {
   "cell_type": "code",
   "execution_count": 553,
   "metadata": {},
   "outputs": [
    {
     "data": {
      "text/plain": [
       "array([0.11146149, 0.3895248 , 0.00805679, 0.11186838, 0.17358708,\n",
       "       0.30145657, 0.6250992 , 0.6244437 , 0.50511634, 0.11878198,\n",
       "       0.24465829, 0.40466094, 0.3811006 , 0.17397758], dtype=float32)"
      ]
     },
     "execution_count": 553,
     "metadata": {},
     "output_type": "execute_result"
    }
   ],
   "source": [
    "dvf"
   ]
  },
  {
   "cell_type": "code",
   "execution_count": 554,
   "metadata": {},
   "outputs": [
    {
     "data": {
      "text/html": [
       "<div>\n",
       "<style scoped>\n",
       "    .dataframe tbody tr th:only-of-type {\n",
       "        vertical-align: middle;\n",
       "    }\n",
       "\n",
       "    .dataframe tbody tr th {\n",
       "        vertical-align: top;\n",
       "    }\n",
       "\n",
       "    .dataframe thead th {\n",
       "        text-align: right;\n",
       "    }\n",
       "</style>\n",
       "<table border=\"1\" class=\"dataframe\">\n",
       "  <thead>\n",
       "    <tr style=\"text-align: right;\">\n",
       "      <th></th>\n",
       "      <th>dva</th>\n",
       "      <th>dvf</th>\n",
       "    </tr>\n",
       "  </thead>\n",
       "  <tbody>\n",
       "    <tr>\n",
       "      <th>0</th>\n",
       "      <td>0.266</td>\n",
       "      <td>0.111461</td>\n",
       "    </tr>\n",
       "    <tr>\n",
       "      <th>1</th>\n",
       "      <td>0.138</td>\n",
       "      <td>0.389525</td>\n",
       "    </tr>\n",
       "    <tr>\n",
       "      <th>2</th>\n",
       "      <td>0.194</td>\n",
       "      <td>0.008057</td>\n",
       "    </tr>\n",
       "    <tr>\n",
       "      <th>3</th>\n",
       "      <td>0.256</td>\n",
       "      <td>0.111868</td>\n",
       "    </tr>\n",
       "    <tr>\n",
       "      <th>4</th>\n",
       "      <td>0.845</td>\n",
       "      <td>0.173587</td>\n",
       "    </tr>\n",
       "    <tr>\n",
       "      <th>5</th>\n",
       "      <td>0.020</td>\n",
       "      <td>0.301457</td>\n",
       "    </tr>\n",
       "    <tr>\n",
       "      <th>6</th>\n",
       "      <td>0.259</td>\n",
       "      <td>0.625099</td>\n",
       "    </tr>\n",
       "    <tr>\n",
       "      <th>7</th>\n",
       "      <td>0.158</td>\n",
       "      <td>0.624444</td>\n",
       "    </tr>\n",
       "    <tr>\n",
       "      <th>8</th>\n",
       "      <td>0.056</td>\n",
       "      <td>0.505116</td>\n",
       "    </tr>\n",
       "    <tr>\n",
       "      <th>9</th>\n",
       "      <td>0.214</td>\n",
       "      <td>0.118782</td>\n",
       "    </tr>\n",
       "    <tr>\n",
       "      <th>10</th>\n",
       "      <td>0.098</td>\n",
       "      <td>0.244658</td>\n",
       "    </tr>\n",
       "    <tr>\n",
       "      <th>11</th>\n",
       "      <td>0.042</td>\n",
       "      <td>0.404661</td>\n",
       "    </tr>\n",
       "    <tr>\n",
       "      <th>12</th>\n",
       "      <td>0.609</td>\n",
       "      <td>0.381101</td>\n",
       "    </tr>\n",
       "    <tr>\n",
       "      <th>13</th>\n",
       "      <td>0.224</td>\n",
       "      <td>0.173978</td>\n",
       "    </tr>\n",
       "  </tbody>\n",
       "</table>\n",
       "</div>"
      ],
      "text/plain": [
       "      dva       dvf\n",
       "0   0.266  0.111461\n",
       "1   0.138  0.389525\n",
       "2   0.194  0.008057\n",
       "3   0.256  0.111868\n",
       "4   0.845  0.173587\n",
       "5   0.020  0.301457\n",
       "6   0.259  0.625099\n",
       "7   0.158  0.624444\n",
       "8   0.056  0.505116\n",
       "9   0.214  0.118782\n",
       "10  0.098  0.244658\n",
       "11  0.042  0.404661\n",
       "12  0.609  0.381101\n",
       "13  0.224  0.173978"
      ]
     },
     "execution_count": 554,
     "metadata": {},
     "output_type": "execute_result"
    }
   ],
   "source": [
    "df_diff = pd.DataFrame({\"dva\":dva, \"dvf\":dvf})#, \"dvf % dva\":(dva/dvf)\n",
    "df_diff"
   ]
  },
  {
   "cell_type": "code",
   "execution_count": 555,
   "metadata": {},
   "outputs": [
    {
     "data": {
      "application/vnd.plotly.v1+json": {
       "config": {
        "plotlyServerURL": "https://plot.ly"
       },
       "data": [
        {
         "alignmentgroup": "True",
         "hovertemplate": "variable=dva<br>index=%{x}<br>value=%{y}<extra></extra>",
         "legendgroup": "dva",
         "marker": {
          "color": "#636efa",
          "pattern": {
           "shape": ""
          }
         },
         "name": "dva",
         "offsetgroup": "dva",
         "orientation": "v",
         "showlegend": true,
         "textposition": "auto",
         "type": "bar",
         "x": [
          0,
          1,
          2,
          3,
          4,
          5,
          6,
          7,
          8,
          9,
          10,
          11,
          12,
          13
         ],
         "xaxis": "x",
         "y": [
          0.26600000262260437,
          0.1379999965429306,
          0.1940000057220459,
          0.25600001215934753,
          0.8450000286102295,
          0.019999999552965164,
          0.2590000033378601,
          0.15799999237060547,
          0.056000009179115295,
          0.21400000154972076,
          0.09800000488758087,
          0.041999995708465576,
          0.6089999675750732,
          0.2240000069141388
         ],
         "yaxis": "y"
        },
        {
         "alignmentgroup": "True",
         "hovertemplate": "variable=dvf<br>index=%{x}<br>value=%{y}<extra></extra>",
         "legendgroup": "dvf",
         "marker": {
          "color": "#EF553B",
          "pattern": {
           "shape": ""
          }
         },
         "name": "dvf",
         "offsetgroup": "dvf",
         "orientation": "v",
         "showlegend": true,
         "textposition": "auto",
         "type": "bar",
         "x": [
          0,
          1,
          2,
          3,
          4,
          5,
          6,
          7,
          8,
          9,
          10,
          11,
          12,
          13
         ],
         "xaxis": "x",
         "y": [
          0.11146149039268494,
          0.38952478766441345,
          0.008056789636611938,
          0.11186838150024414,
          0.17358708381652832,
          0.3014565706253052,
          0.6250991821289062,
          0.6244437098503113,
          0.50511634349823,
          0.11878198385238647,
          0.24465829133987427,
          0.4046609401702881,
          0.381100594997406,
          0.1739775836467743
         ],
         "yaxis": "y"
        }
       ],
       "layout": {
        "barmode": "relative",
        "legend": {
         "title": {
          "text": "variable"
         },
         "tracegroupgap": 0
        },
        "template": {
         "data": {
          "bar": [
           {
            "error_x": {
             "color": "#2a3f5f"
            },
            "error_y": {
             "color": "#2a3f5f"
            },
            "marker": {
             "line": {
              "color": "#E5ECF6",
              "width": 0.5
             },
             "pattern": {
              "fillmode": "overlay",
              "size": 10,
              "solidity": 0.2
             }
            },
            "type": "bar"
           }
          ],
          "barpolar": [
           {
            "marker": {
             "line": {
              "color": "#E5ECF6",
              "width": 0.5
             },
             "pattern": {
              "fillmode": "overlay",
              "size": 10,
              "solidity": 0.2
             }
            },
            "type": "barpolar"
           }
          ],
          "carpet": [
           {
            "aaxis": {
             "endlinecolor": "#2a3f5f",
             "gridcolor": "white",
             "linecolor": "white",
             "minorgridcolor": "white",
             "startlinecolor": "#2a3f5f"
            },
            "baxis": {
             "endlinecolor": "#2a3f5f",
             "gridcolor": "white",
             "linecolor": "white",
             "minorgridcolor": "white",
             "startlinecolor": "#2a3f5f"
            },
            "type": "carpet"
           }
          ],
          "choropleth": [
           {
            "colorbar": {
             "outlinewidth": 0,
             "ticks": ""
            },
            "type": "choropleth"
           }
          ],
          "contour": [
           {
            "colorbar": {
             "outlinewidth": 0,
             "ticks": ""
            },
            "colorscale": [
             [
              0,
              "#0d0887"
             ],
             [
              0.1111111111111111,
              "#46039f"
             ],
             [
              0.2222222222222222,
              "#7201a8"
             ],
             [
              0.3333333333333333,
              "#9c179e"
             ],
             [
              0.4444444444444444,
              "#bd3786"
             ],
             [
              0.5555555555555556,
              "#d8576b"
             ],
             [
              0.6666666666666666,
              "#ed7953"
             ],
             [
              0.7777777777777778,
              "#fb9f3a"
             ],
             [
              0.8888888888888888,
              "#fdca26"
             ],
             [
              1,
              "#f0f921"
             ]
            ],
            "type": "contour"
           }
          ],
          "contourcarpet": [
           {
            "colorbar": {
             "outlinewidth": 0,
             "ticks": ""
            },
            "type": "contourcarpet"
           }
          ],
          "heatmap": [
           {
            "colorbar": {
             "outlinewidth": 0,
             "ticks": ""
            },
            "colorscale": [
             [
              0,
              "#0d0887"
             ],
             [
              0.1111111111111111,
              "#46039f"
             ],
             [
              0.2222222222222222,
              "#7201a8"
             ],
             [
              0.3333333333333333,
              "#9c179e"
             ],
             [
              0.4444444444444444,
              "#bd3786"
             ],
             [
              0.5555555555555556,
              "#d8576b"
             ],
             [
              0.6666666666666666,
              "#ed7953"
             ],
             [
              0.7777777777777778,
              "#fb9f3a"
             ],
             [
              0.8888888888888888,
              "#fdca26"
             ],
             [
              1,
              "#f0f921"
             ]
            ],
            "type": "heatmap"
           }
          ],
          "heatmapgl": [
           {
            "colorbar": {
             "outlinewidth": 0,
             "ticks": ""
            },
            "colorscale": [
             [
              0,
              "#0d0887"
             ],
             [
              0.1111111111111111,
              "#46039f"
             ],
             [
              0.2222222222222222,
              "#7201a8"
             ],
             [
              0.3333333333333333,
              "#9c179e"
             ],
             [
              0.4444444444444444,
              "#bd3786"
             ],
             [
              0.5555555555555556,
              "#d8576b"
             ],
             [
              0.6666666666666666,
              "#ed7953"
             ],
             [
              0.7777777777777778,
              "#fb9f3a"
             ],
             [
              0.8888888888888888,
              "#fdca26"
             ],
             [
              1,
              "#f0f921"
             ]
            ],
            "type": "heatmapgl"
           }
          ],
          "histogram": [
           {
            "marker": {
             "pattern": {
              "fillmode": "overlay",
              "size": 10,
              "solidity": 0.2
             }
            },
            "type": "histogram"
           }
          ],
          "histogram2d": [
           {
            "colorbar": {
             "outlinewidth": 0,
             "ticks": ""
            },
            "colorscale": [
             [
              0,
              "#0d0887"
             ],
             [
              0.1111111111111111,
              "#46039f"
             ],
             [
              0.2222222222222222,
              "#7201a8"
             ],
             [
              0.3333333333333333,
              "#9c179e"
             ],
             [
              0.4444444444444444,
              "#bd3786"
             ],
             [
              0.5555555555555556,
              "#d8576b"
             ],
             [
              0.6666666666666666,
              "#ed7953"
             ],
             [
              0.7777777777777778,
              "#fb9f3a"
             ],
             [
              0.8888888888888888,
              "#fdca26"
             ],
             [
              1,
              "#f0f921"
             ]
            ],
            "type": "histogram2d"
           }
          ],
          "histogram2dcontour": [
           {
            "colorbar": {
             "outlinewidth": 0,
             "ticks": ""
            },
            "colorscale": [
             [
              0,
              "#0d0887"
             ],
             [
              0.1111111111111111,
              "#46039f"
             ],
             [
              0.2222222222222222,
              "#7201a8"
             ],
             [
              0.3333333333333333,
              "#9c179e"
             ],
             [
              0.4444444444444444,
              "#bd3786"
             ],
             [
              0.5555555555555556,
              "#d8576b"
             ],
             [
              0.6666666666666666,
              "#ed7953"
             ],
             [
              0.7777777777777778,
              "#fb9f3a"
             ],
             [
              0.8888888888888888,
              "#fdca26"
             ],
             [
              1,
              "#f0f921"
             ]
            ],
            "type": "histogram2dcontour"
           }
          ],
          "mesh3d": [
           {
            "colorbar": {
             "outlinewidth": 0,
             "ticks": ""
            },
            "type": "mesh3d"
           }
          ],
          "parcoords": [
           {
            "line": {
             "colorbar": {
              "outlinewidth": 0,
              "ticks": ""
             }
            },
            "type": "parcoords"
           }
          ],
          "pie": [
           {
            "automargin": true,
            "type": "pie"
           }
          ],
          "scatter": [
           {
            "marker": {
             "colorbar": {
              "outlinewidth": 0,
              "ticks": ""
             }
            },
            "type": "scatter"
           }
          ],
          "scatter3d": [
           {
            "line": {
             "colorbar": {
              "outlinewidth": 0,
              "ticks": ""
             }
            },
            "marker": {
             "colorbar": {
              "outlinewidth": 0,
              "ticks": ""
             }
            },
            "type": "scatter3d"
           }
          ],
          "scattercarpet": [
           {
            "marker": {
             "colorbar": {
              "outlinewidth": 0,
              "ticks": ""
             }
            },
            "type": "scattercarpet"
           }
          ],
          "scattergeo": [
           {
            "marker": {
             "colorbar": {
              "outlinewidth": 0,
              "ticks": ""
             }
            },
            "type": "scattergeo"
           }
          ],
          "scattergl": [
           {
            "marker": {
             "colorbar": {
              "outlinewidth": 0,
              "ticks": ""
             }
            },
            "type": "scattergl"
           }
          ],
          "scattermapbox": [
           {
            "marker": {
             "colorbar": {
              "outlinewidth": 0,
              "ticks": ""
             }
            },
            "type": "scattermapbox"
           }
          ],
          "scatterpolar": [
           {
            "marker": {
             "colorbar": {
              "outlinewidth": 0,
              "ticks": ""
             }
            },
            "type": "scatterpolar"
           }
          ],
          "scatterpolargl": [
           {
            "marker": {
             "colorbar": {
              "outlinewidth": 0,
              "ticks": ""
             }
            },
            "type": "scatterpolargl"
           }
          ],
          "scatterternary": [
           {
            "marker": {
             "colorbar": {
              "outlinewidth": 0,
              "ticks": ""
             }
            },
            "type": "scatterternary"
           }
          ],
          "surface": [
           {
            "colorbar": {
             "outlinewidth": 0,
             "ticks": ""
            },
            "colorscale": [
             [
              0,
              "#0d0887"
             ],
             [
              0.1111111111111111,
              "#46039f"
             ],
             [
              0.2222222222222222,
              "#7201a8"
             ],
             [
              0.3333333333333333,
              "#9c179e"
             ],
             [
              0.4444444444444444,
              "#bd3786"
             ],
             [
              0.5555555555555556,
              "#d8576b"
             ],
             [
              0.6666666666666666,
              "#ed7953"
             ],
             [
              0.7777777777777778,
              "#fb9f3a"
             ],
             [
              0.8888888888888888,
              "#fdca26"
             ],
             [
              1,
              "#f0f921"
             ]
            ],
            "type": "surface"
           }
          ],
          "table": [
           {
            "cells": {
             "fill": {
              "color": "#EBF0F8"
             },
             "line": {
              "color": "white"
             }
            },
            "header": {
             "fill": {
              "color": "#C8D4E3"
             },
             "line": {
              "color": "white"
             }
            },
            "type": "table"
           }
          ]
         },
         "layout": {
          "annotationdefaults": {
           "arrowcolor": "#2a3f5f",
           "arrowhead": 0,
           "arrowwidth": 1
          },
          "autotypenumbers": "strict",
          "coloraxis": {
           "colorbar": {
            "outlinewidth": 0,
            "ticks": ""
           }
          },
          "colorscale": {
           "diverging": [
            [
             0,
             "#8e0152"
            ],
            [
             0.1,
             "#c51b7d"
            ],
            [
             0.2,
             "#de77ae"
            ],
            [
             0.3,
             "#f1b6da"
            ],
            [
             0.4,
             "#fde0ef"
            ],
            [
             0.5,
             "#f7f7f7"
            ],
            [
             0.6,
             "#e6f5d0"
            ],
            [
             0.7,
             "#b8e186"
            ],
            [
             0.8,
             "#7fbc41"
            ],
            [
             0.9,
             "#4d9221"
            ],
            [
             1,
             "#276419"
            ]
           ],
           "sequential": [
            [
             0,
             "#0d0887"
            ],
            [
             0.1111111111111111,
             "#46039f"
            ],
            [
             0.2222222222222222,
             "#7201a8"
            ],
            [
             0.3333333333333333,
             "#9c179e"
            ],
            [
             0.4444444444444444,
             "#bd3786"
            ],
            [
             0.5555555555555556,
             "#d8576b"
            ],
            [
             0.6666666666666666,
             "#ed7953"
            ],
            [
             0.7777777777777778,
             "#fb9f3a"
            ],
            [
             0.8888888888888888,
             "#fdca26"
            ],
            [
             1,
             "#f0f921"
            ]
           ],
           "sequentialminus": [
            [
             0,
             "#0d0887"
            ],
            [
             0.1111111111111111,
             "#46039f"
            ],
            [
             0.2222222222222222,
             "#7201a8"
            ],
            [
             0.3333333333333333,
             "#9c179e"
            ],
            [
             0.4444444444444444,
             "#bd3786"
            ],
            [
             0.5555555555555556,
             "#d8576b"
            ],
            [
             0.6666666666666666,
             "#ed7953"
            ],
            [
             0.7777777777777778,
             "#fb9f3a"
            ],
            [
             0.8888888888888888,
             "#fdca26"
            ],
            [
             1,
             "#f0f921"
            ]
           ]
          },
          "colorway": [
           "#636efa",
           "#EF553B",
           "#00cc96",
           "#ab63fa",
           "#FFA15A",
           "#19d3f3",
           "#FF6692",
           "#B6E880",
           "#FF97FF",
           "#FECB52"
          ],
          "font": {
           "color": "#2a3f5f"
          },
          "geo": {
           "bgcolor": "white",
           "lakecolor": "white",
           "landcolor": "#E5ECF6",
           "showlakes": true,
           "showland": true,
           "subunitcolor": "white"
          },
          "hoverlabel": {
           "align": "left"
          },
          "hovermode": "closest",
          "mapbox": {
           "style": "light"
          },
          "paper_bgcolor": "white",
          "plot_bgcolor": "#E5ECF6",
          "polar": {
           "angularaxis": {
            "gridcolor": "white",
            "linecolor": "white",
            "ticks": ""
           },
           "bgcolor": "#E5ECF6",
           "radialaxis": {
            "gridcolor": "white",
            "linecolor": "white",
            "ticks": ""
           }
          },
          "scene": {
           "xaxis": {
            "backgroundcolor": "#E5ECF6",
            "gridcolor": "white",
            "gridwidth": 2,
            "linecolor": "white",
            "showbackground": true,
            "ticks": "",
            "zerolinecolor": "white"
           },
           "yaxis": {
            "backgroundcolor": "#E5ECF6",
            "gridcolor": "white",
            "gridwidth": 2,
            "linecolor": "white",
            "showbackground": true,
            "ticks": "",
            "zerolinecolor": "white"
           },
           "zaxis": {
            "backgroundcolor": "#E5ECF6",
            "gridcolor": "white",
            "gridwidth": 2,
            "linecolor": "white",
            "showbackground": true,
            "ticks": "",
            "zerolinecolor": "white"
           }
          },
          "shapedefaults": {
           "line": {
            "color": "#2a3f5f"
           }
          },
          "ternary": {
           "aaxis": {
            "gridcolor": "white",
            "linecolor": "white",
            "ticks": ""
           },
           "baxis": {
            "gridcolor": "white",
            "linecolor": "white",
            "ticks": ""
           },
           "bgcolor": "#E5ECF6",
           "caxis": {
            "gridcolor": "white",
            "linecolor": "white",
            "ticks": ""
           }
          },
          "title": {
           "x": 0.05
          },
          "xaxis": {
           "automargin": true,
           "gridcolor": "white",
           "linecolor": "white",
           "ticks": "",
           "title": {
            "standoff": 15
           },
           "zerolinecolor": "white",
           "zerolinewidth": 2
          },
          "yaxis": {
           "automargin": true,
           "gridcolor": "white",
           "linecolor": "white",
           "ticks": "",
           "title": {
            "standoff": 15
           },
           "zerolinecolor": "white",
           "zerolinewidth": 2
          }
         }
        },
        "title": {
         "text": "Differences"
        },
        "xaxis": {
         "anchor": "y",
         "domain": [
          0,
          1
         ],
         "title": {
          "text": "index"
         }
        },
        "yaxis": {
         "anchor": "x",
         "domain": [
          0,
          1
         ],
         "title": {
          "text": "value"
         }
        }
       }
      }
     },
     "metadata": {},
     "output_type": "display_data"
    }
   ],
   "source": [
    "fig = px.bar(df_diff,title=\"Differences\")\n",
    "fig.show()"
   ]
  },
  {
   "cell_type": "code",
   "execution_count": 556,
   "metadata": {},
   "outputs": [
    {
     "data": {
      "application/vnd.plotly.v1+json": {
       "config": {
        "plotlyServerURL": "https://plot.ly"
       },
       "data": [
        {
         "hovertemplate": "variable=Error<br>index=%{x}<br>value=%{y}<extra></extra>",
         "legendgroup": "Error",
         "line": {
          "color": "#636efa",
          "dash": "solid"
         },
         "marker": {
          "symbol": "circle"
         },
         "mode": "lines",
         "name": "Error",
         "orientation": "v",
         "showlegend": true,
         "type": "scatter",
         "x": [
          0,
          1,
          2,
          3,
          4,
          5,
          6,
          7,
          8,
          9,
          10,
          11,
          12,
          13,
          14,
          15,
          16,
          17,
          18,
          19,
          20,
          21,
          22,
          23,
          24,
          25,
          26,
          27,
          28,
          29,
          30,
          31,
          32,
          33,
          34,
          35,
          36,
          37,
          38,
          39,
          40,
          41,
          42,
          43,
          44,
          45,
          46,
          47,
          48,
          49,
          50,
          51,
          52,
          53,
          54,
          55,
          56,
          57,
          58,
          59,
          60,
          61,
          62,
          63,
          64,
          65,
          66,
          67,
          68,
          69,
          70,
          71,
          72,
          73,
          74,
          75,
          76,
          77,
          78,
          79,
          80,
          81,
          82,
          83,
          84,
          85,
          86,
          87,
          88,
          89,
          90,
          91,
          92,
          93,
          94,
          95,
          96,
          97,
          98,
          99,
          100,
          101,
          102,
          103,
          104,
          105,
          106,
          107,
          108,
          109,
          110,
          111,
          112,
          113,
          114,
          115,
          116,
          117,
          118,
          119,
          120,
          121,
          122,
          123,
          124,
          125,
          126,
          127,
          128,
          129,
          130,
          131,
          132,
          133,
          134,
          135,
          136,
          137,
          138,
          139,
          140,
          141,
          142,
          143,
          144,
          145,
          146,
          147,
          148,
          149,
          150,
          151,
          152,
          153,
          154,
          155,
          156,
          157,
          158,
          159,
          160,
          161,
          162,
          163,
          164,
          165,
          166,
          167,
          168,
          169,
          170,
          171,
          172,
          173,
          174,
          175,
          176,
          177,
          178,
          179,
          180,
          181,
          182,
          183,
          184,
          185,
          186,
          187,
          188,
          189,
          190,
          191,
          192,
          193,
          194,
          195,
          196,
          197,
          198,
          199,
          200,
          201,
          202,
          203,
          204,
          205,
          206,
          207,
          208,
          209,
          210,
          211,
          212,
          213,
          214,
          215,
          216,
          217,
          218,
          219,
          220,
          221,
          222,
          223,
          224,
          225,
          226,
          227,
          228,
          229,
          230,
          231,
          232,
          233,
          234,
          235,
          236,
          237,
          238,
          239,
          240,
          241,
          242,
          243,
          244,
          245,
          246,
          247,
          248,
          249,
          250,
          251,
          252,
          253,
          254,
          255,
          256,
          257,
          258,
          259,
          260,
          261,
          262,
          263,
          264,
          265,
          266,
          267,
          268,
          269,
          270,
          271,
          272,
          273,
          274,
          275,
          276,
          277,
          278,
          279,
          280,
          281,
          282,
          283,
          284,
          285,
          286,
          287,
          288,
          289,
          290,
          291,
          292,
          293,
          294,
          295,
          296,
          297,
          298,
          299,
          300,
          301,
          302,
          303,
          304,
          305,
          306,
          307,
          308,
          309,
          310,
          311,
          312,
          313,
          314,
          315,
          316,
          317,
          318,
          319,
          320,
          321,
          322,
          323,
          324,
          325,
          326,
          327,
          328,
          329,
          330,
          331,
          332,
          333,
          334,
          335,
          336,
          337,
          338,
          339,
          340,
          341,
          342,
          343,
          344,
          345,
          346,
          347,
          348,
          349,
          350,
          351,
          352,
          353,
          354,
          355,
          356,
          357,
          358,
          359,
          360,
          361,
          362,
          363,
          364,
          365,
          366,
          367,
          368,
          369,
          370,
          371,
          372,
          373,
          374,
          375,
          376,
          377,
          378,
          379,
          380,
          381,
          382,
          383,
          384,
          385,
          386,
          387,
          388,
          389,
          390,
          391,
          392,
          393,
          394,
          395,
          396,
          397,
          398,
          399,
          400,
          401,
          402,
          403,
          404,
          405,
          406,
          407,
          408,
          409,
          410,
          411,
          412,
          413,
          414,
          415,
          416,
          417,
          418,
          419,
          420,
          421,
          422,
          423,
          424,
          425,
          426,
          427,
          428,
          429,
          430,
          431,
          432,
          433,
          434,
          435,
          436,
          437,
          438,
          439,
          440,
          441,
          442,
          443,
          444,
          445,
          446,
          447,
          448,
          449,
          450,
          451,
          452,
          453,
          454,
          455,
          456,
          457,
          458,
          459,
          460,
          461,
          462,
          463,
          464,
          465,
          466,
          467,
          468,
          469,
          470,
          471,
          472,
          473,
          474,
          475,
          476,
          477,
          478,
          479,
          480,
          481,
          482,
          483,
          484,
          485,
          486,
          487,
          488,
          489,
          490,
          491,
          492,
          493,
          494,
          495,
          496,
          497,
          498,
          499
         ],
         "xaxis": "x",
         "y": [
          2.095945358276367,
          1.7097737789154053,
          1.533425211906433,
          1.6949321031570435,
          1.5574650764465332,
          1.7824190855026245,
          1.671310305595398,
          1.758236050605774,
          1.7019529342651367,
          1.6654093265533447,
          1.8221821784973145,
          1.6805286407470703,
          1.613029956817627,
          1.4554892778396606,
          1.3677903413772583,
          1.5309885740280151,
          1.472001075744629,
          1.688349962234497,
          1.5574955940246582,
          1.4512944221496582,
          1.5676013231277466,
          1.5367131233215332,
          1.489943027496338,
          1.3908209800720215,
          1.4682350158691406,
          1.4503695964813232,
          1.475867509841919,
          1.638547420501709,
          1.4667237997055054,
          1.4617536067962646,
          1.7175538539886475,
          1.4122090339660645,
          1.359196662902832,
          1.3556342124938965,
          1.5764416456222534,
          1.4316812753677368,
          1.4479713439941406,
          1.579385757446289,
          1.8056427240371704,
          1.8372552394866943,
          1.6039326190948486,
          1.5583126544952393,
          1.4256024360656738,
          1.3263723850250244,
          1.4227147102355957,
          1.5686554908752441,
          1.7264246940612793,
          1.4912939071655273,
          1.551882266998291,
          1.5475952625274658,
          1.7919349670410156,
          1.5075585842132568,
          1.3931121826171875,
          1.513268232345581,
          1.4911413192749023,
          1.845653772354126,
          1.5969102382659912,
          1.3999879360198975,
          1.579793095588684,
          1.5093820095062256,
          1.6090863943099976,
          1.482118844985962,
          1.319547414779663,
          1.6344748735427856,
          1.5134007930755615,
          1.6296309232711792,
          1.711100697517395,
          1.6658940315246582,
          1.77785325050354,
          1.6508443355560303,
          1.6188697814941406,
          1.6719772815704346,
          1.755427360534668,
          1.491719365119934,
          1.7293946743011475,
          1.5138847827911377,
          1.623265027999878,
          1.6040129661560059,
          1.4640023708343506,
          1.5144295692443848,
          1.4333763122558594,
          1.4720745086669922,
          1.531076431274414,
          1.67555832862854,
          1.7927945852279663,
          1.7143676280975342,
          1.5382791757583618,
          1.4824355840682983,
          1.5520679950714111,
          1.8214921951293945,
          1.519339680671692,
          1.397397756576538,
          1.4320626258850098,
          1.3559870719909668,
          1.2570123672485352,
          1.4334783554077148,
          1.6081116199493408,
          1.6295855045318604,
          1.482892394065857,
          1.4260478019714355,
          1.4462285041809082,
          1.3973073959350586,
          1.368956208229065,
          1.5920475721359253,
          1.4923973083496094,
          1.776766300201416,
          1.7598774433135986,
          1.759630799293518,
          1.6197799444198608,
          1.4533755779266357,
          1.2844679355621338,
          1.3878395557403564,
          1.5891304016113281,
          1.543927550315857,
          1.5717589855194092,
          1.451181173324585,
          1.6543235778808594,
          1.5499708652496338,
          1.6550912857055664,
          1.500819444656372,
          1.530902624130249,
          1.734765887260437,
          1.6465775966644287,
          1.5939323902130127,
          1.7121726274490356,
          1.5258866548538208,
          1.543949007987976,
          1.5623669624328613,
          1.7746224403381348,
          1.6321871280670166,
          1.7242640256881714,
          1.8553521633148193,
          1.5535448789596558,
          1.5660722255706787,
          1.5045286417007446,
          1.5871288776397705,
          1.6192606687545776,
          1.4847877025604248,
          1.663794755935669,
          1.610914945602417,
          1.4948649406433105,
          1.6145565509796143,
          1.6235709190368652,
          1.863101840019226,
          1.7324206829071045,
          1.692535161972046,
          1.7210040092468262,
          1.6996160745620728,
          1.6204841136932373,
          1.6534273624420166,
          1.6812033653259277,
          1.682931900024414,
          1.7616510391235352,
          1.5409373044967651,
          1.4630711078643799,
          1.6950199604034424,
          1.5994819402694702,
          1.3550586700439453,
          1.5584630966186523,
          1.571136713027954,
          1.6272380352020264,
          1.5011744499206543,
          1.43239426612854,
          1.6157476902008057,
          1.4462392330169678,
          1.582000970840454,
          1.513378381729126,
          1.6728401184082031,
          1.6355342864990234,
          1.694474220275879,
          1.637057900428772,
          1.5533020496368408,
          1.5288209915161133,
          1.323750615119934,
          1.3248755931854248,
          1.311123013496399,
          1.474612832069397,
          1.4817134141921997,
          1.626712441444397,
          1.8443424701690674,
          1.6857271194458008,
          1.8126702308654785,
          1.5529931783676147,
          1.3988306522369385,
          1.5896464586257935,
          1.4744688272476196,
          1.3570975065231323,
          1.5668513774871826,
          1.6127692461013794,
          1.5583319664001465,
          1.4023046493530273,
          1.4968006610870361,
          1.7629939317703247,
          1.6835668087005615,
          1.7250525951385498,
          1.677344799041748,
          1.706676959991455,
          1.8040226697921753,
          1.4827604293823242,
          1.5617437362670898,
          1.7102785110473633,
          1.744350552558899,
          1.8529903888702393,
          1.5006422996520996,
          1.7180731296539307,
          1.7676081657409668,
          1.5303308963775635,
          1.4940564632415771,
          1.397320032119751,
          1.3988769054412842,
          1.7029105424880981,
          1.744187831878662,
          1.5132945775985718,
          1.4371929168701172,
          1.6822078227996826,
          1.5842455625534058,
          1.4914326667785645,
          1.715250015258789,
          1.7268178462982178,
          1.8491876125335693,
          1.5500540733337402,
          1.4254217147827148,
          1.7696638107299805,
          1.7793833017349243,
          1.772584319114685,
          1.5412689447402954,
          1.3801586627960205,
          1.5105433464050293,
          1.4107035398483276,
          1.4881864786148071,
          1.3688267469406128,
          1.4223134517669678,
          1.6030049324035645,
          1.6189188957214355,
          1.5539898872375488,
          1.484721302986145,
          1.5500849485397339,
          1.5976653099060059,
          1.7425594329833984,
          1.483939528465271,
          1.431476354598999,
          1.5320072174072266,
          1.5892651081085205,
          1.4556608200073242,
          1.6421589851379395,
          1.493967056274414,
          1.7488298416137695,
          1.7856113910675049,
          1.710050106048584,
          1.6627172231674194,
          1.685621738433838,
          1.695311188697815,
          1.9644660949707031,
          1.5825343132019043,
          1.6016563177108765,
          1.5607168674468994,
          1.7397805452346802,
          1.6365935802459717,
          1.4643011093139648,
          1.6646051406860352,
          1.5781933069229126,
          1.5258641242980957,
          1.6006698608398438,
          1.5159051418304443,
          1.49672269821167,
          1.7475287914276123,
          1.6193172931671143,
          1.6870594024658203,
          1.5414475202560425,
          1.5677276849746704,
          1.4823980331420898,
          1.4871578216552734,
          1.4072265625,
          1.8409556150436401,
          1.474984884262085,
          1.6994372606277466,
          1.7033071517944336,
          1.6199955940246582,
          1.551188588142395,
          1.610778570175171,
          1.7018460035324097,
          1.729736566543579,
          1.8543188571929932,
          1.5605510473251343,
          1.4909594058990479,
          1.5585994720458984,
          1.6709415912628174,
          1.8329048156738281,
          1.5823915004730225,
          1.6279823780059814,
          1.6508718729019165,
          1.7107058763504028,
          1.642892837524414,
          1.6242313385009766,
          1.5161738395690918,
          1.6377171277999878,
          1.5528653860092163,
          1.4748258590698242,
          1.5334136486053467,
          1.8155920505523682,
          1.6601506471633911,
          1.7080912590026855,
          1.5346038341522217,
          1.6613731384277344,
          1.4501715898513794,
          1.6848586797714233,
          1.6331946849822998,
          1.6785063743591309,
          1.5197718143463135,
          1.7172342538833618,
          1.5903583765029907,
          1.6238595247268677,
          1.623337984085083,
          1.665723204612732,
          1.465048909187317,
          1.695168137550354,
          1.7398607730865479,
          1.56937575340271,
          1.6470967531204224,
          1.6424248218536377,
          1.9523192644119263,
          1.8247427940368652,
          1.6292343139648438,
          1.6221156120300293,
          1.7167460918426514,
          1.857755184173584,
          1.7354035377502441,
          1.8765480518341064,
          1.861221432685852,
          1.521087884902954,
          1.694319248199463,
          1.8348088264465332,
          1.712082862854004,
          1.6914212703704834,
          1.6232821941375732,
          1.7874324321746826,
          1.7306547164916992,
          1.7279644012451172,
          1.825537919998169,
          1.6529977321624756,
          1.8880723714828491,
          1.650876760482788,
          1.7028939723968506,
          1.8794171810150146,
          1.5940911769866943,
          1.6312415599822998,
          1.6434528827667236,
          1.8614256381988525,
          1.7931842803955078,
          1.7597033977508545,
          1.6928025484085083,
          1.4043035507202148,
          1.6365230083465576,
          1.322127103805542,
          1.3076634407043457,
          1.4743939638137817,
          1.5195597410202026,
          1.1313620805740356,
          1.1080448627471924,
          1.2379670143127441,
          1.0081948041915894,
          1.7580962181091309,
          1.4113242626190186,
          0.98389732837677,
          1.189078688621521,
          1.2339303493499756,
          1.3851754665374756,
          1.5565924644470215,
          1.6283304691314697,
          1.1119776964187622,
          1.7038507461547852,
          1.1013987064361572,
          1.2243545055389404,
          1.0243016481399536,
          1.4859352111816406,
          1.318010687828064,
          1.2318402528762817,
          1.101493239402771,
          1.3397526741027832,
          1.3143248558044434,
          1.178410530090332,
          1.1448650360107422,
          1.2455134391784668,
          1.2594432830810547,
          1.1127032041549683,
          0.9806828498840332,
          1.3245363235473633,
          1.3742380142211914,
          1.3981552124023438,
          1.3404613733291626,
          1.250967264175415,
          0.7109788060188293,
          1.2984726428985596,
          1.7085175514221191,
          1.257944107055664,
          1.2150382995605469,
          1.1663093566894531,
          1.4370694160461426,
          1.2894139289855957,
          1.7252585887908936,
          1.287785291671753,
          1.5402469635009766,
          1.2316995859146118,
          1.160825252532959,
          1.0100178718566895,
          1.2299350500106812,
          0.9659099578857422,
          1.288043737411499,
          1.0600526332855225,
          1.2700625658035278,
          1.330220341682434,
          1.2063531875610352,
          1.4808604717254639,
          1.1566314697265625,
          1.2206957340240479,
          1.7145648002624512,
          1.4645382165908813,
          0.9485071897506714,
          1.178459882736206,
          1.552612543106079,
          1.8669922351837158,
          1.4310863018035889,
          1.4146125316619873,
          1.3824626207351685,
          1.3429279327392578,
          0.8349761366844177,
          1.3737664222717285,
          1.0125430822372437,
          1.2764216661453247,
          1.2688226699829102,
          0.9112545847892761,
          1.0828344821929932,
          1.122557282447815,
          1.2231621742248535,
          1.2708029747009277,
          1.1735199689865112,
          1.188988208770752,
          1.5025782585144043,
          0.9361699819564819,
          1.4740982055664062,
          1.1448981761932373,
          1.4418919086456299,
          1.1389083862304688,
          0.9707016944885254,
          1.0921740531921387,
          1.236236333847046,
          1.2999787330627441,
          1.1851327419281006,
          1.4933586120605469,
          1.493011236190796,
          1.299260139465332,
          1.4253586530685425,
          1.4293107986450195,
          1.2435647249221802,
          1.0373597145080566,
          1.2673356533050537,
          1.1136420965194702,
          1.077318787574768,
          1.3283143043518066,
          1.0613806247711182,
          1.012209177017212,
          1.236803650856018,
          1.205398440361023,
          0.9970017671585083,
          1.254171371459961,
          0.9635293483734131,
          1.287324070930481,
          1.6783461570739746,
          1.3794893026351929,
          1.1615309715270996,
          1.269809603691101,
          1.4938275814056396,
          1.3319132328033447,
          1.4485528469085693,
          1.2923264503479004,
          1.1366221904754639,
          1.4575953483581543,
          1.0845767259597778,
          1.3260278701782227,
          1.0679302215576172,
          1.3954206705093384,
          1.2551310062408447,
          1.4987332820892334,
          1.3875088691711426,
          1.4895708560943604,
          1.299466609954834,
          1.34682297706604,
          1.4020963907241821,
          1.5829598903656006,
          1.2976583242416382,
          1.1694267988204956,
          1.1805620193481445,
          1.3163950443267822,
          1.2123147249221802,
          1.2240040302276611,
          1.25326406955719,
          1.0771962404251099,
          1.3498001098632812,
          1.430748701095581,
          1.344276785850525
         ],
         "yaxis": "y"
        },
        {
         "hovertemplate": "variable=Temperature<br>index=%{x}<br>value=%{y}<extra></extra>",
         "legendgroup": "Temperature",
         "line": {
          "color": "#EF553B",
          "dash": "solid"
         },
         "marker": {
          "symbol": "circle"
         },
         "mode": "lines",
         "name": "Temperature",
         "orientation": "v",
         "showlegend": true,
         "type": "scatter",
         "x": [
          0,
          1,
          2,
          3,
          4,
          5,
          6,
          7,
          8,
          9,
          10,
          11,
          12,
          13,
          14,
          15,
          16,
          17,
          18,
          19,
          20,
          21,
          22,
          23,
          24,
          25,
          26,
          27,
          28,
          29,
          30,
          31,
          32,
          33,
          34,
          35,
          36,
          37,
          38,
          39,
          40,
          41,
          42,
          43,
          44,
          45,
          46,
          47,
          48,
          49,
          50,
          51,
          52,
          53,
          54,
          55,
          56,
          57,
          58,
          59,
          60,
          61,
          62,
          63,
          64,
          65,
          66,
          67,
          68,
          69,
          70,
          71,
          72,
          73,
          74,
          75,
          76,
          77,
          78,
          79,
          80,
          81,
          82,
          83,
          84,
          85,
          86,
          87,
          88,
          89,
          90,
          91,
          92,
          93,
          94,
          95,
          96,
          97,
          98,
          99,
          100,
          101,
          102,
          103,
          104,
          105,
          106,
          107,
          108,
          109,
          110,
          111,
          112,
          113,
          114,
          115,
          116,
          117,
          118,
          119,
          120,
          121,
          122,
          123,
          124,
          125,
          126,
          127,
          128,
          129,
          130,
          131,
          132,
          133,
          134,
          135,
          136,
          137,
          138,
          139,
          140,
          141,
          142,
          143,
          144,
          145,
          146,
          147,
          148,
          149,
          150,
          151,
          152,
          153,
          154,
          155,
          156,
          157,
          158,
          159,
          160,
          161,
          162,
          163,
          164,
          165,
          166,
          167,
          168,
          169,
          170,
          171,
          172,
          173,
          174,
          175,
          176,
          177,
          178,
          179,
          180,
          181,
          182,
          183,
          184,
          185,
          186,
          187,
          188,
          189,
          190,
          191,
          192,
          193,
          194,
          195,
          196,
          197,
          198,
          199,
          200,
          201,
          202,
          203,
          204,
          205,
          206,
          207,
          208,
          209,
          210,
          211,
          212,
          213,
          214,
          215,
          216,
          217,
          218,
          219,
          220,
          221,
          222,
          223,
          224,
          225,
          226,
          227,
          228,
          229,
          230,
          231,
          232,
          233,
          234,
          235,
          236,
          237,
          238,
          239,
          240,
          241,
          242,
          243,
          244,
          245,
          246,
          247,
          248,
          249,
          250,
          251,
          252,
          253,
          254,
          255,
          256,
          257,
          258,
          259,
          260,
          261,
          262,
          263,
          264,
          265,
          266,
          267,
          268,
          269,
          270,
          271,
          272,
          273,
          274,
          275,
          276,
          277,
          278,
          279,
          280,
          281,
          282,
          283,
          284,
          285,
          286,
          287,
          288,
          289,
          290,
          291,
          292,
          293,
          294,
          295,
          296,
          297,
          298,
          299,
          300,
          301,
          302,
          303,
          304,
          305,
          306,
          307,
          308,
          309,
          310,
          311,
          312,
          313,
          314,
          315,
          316,
          317,
          318,
          319,
          320,
          321,
          322,
          323,
          324,
          325,
          326,
          327,
          328,
          329,
          330,
          331,
          332,
          333,
          334,
          335,
          336,
          337,
          338,
          339,
          340,
          341,
          342,
          343,
          344,
          345,
          346,
          347,
          348,
          349,
          350,
          351,
          352,
          353,
          354,
          355,
          356,
          357,
          358,
          359,
          360,
          361,
          362,
          363,
          364,
          365,
          366,
          367,
          368,
          369,
          370,
          371,
          372,
          373,
          374,
          375,
          376,
          377,
          378,
          379,
          380,
          381,
          382,
          383,
          384,
          385,
          386,
          387,
          388,
          389,
          390,
          391,
          392,
          393,
          394,
          395,
          396,
          397,
          398,
          399,
          400,
          401,
          402,
          403,
          404,
          405,
          406,
          407,
          408,
          409,
          410,
          411,
          412,
          413,
          414,
          415,
          416,
          417,
          418,
          419,
          420,
          421,
          422,
          423,
          424,
          425,
          426,
          427,
          428,
          429,
          430,
          431,
          432,
          433,
          434,
          435,
          436,
          437,
          438,
          439,
          440,
          441,
          442,
          443,
          444,
          445,
          446,
          447,
          448,
          449,
          450,
          451,
          452,
          453,
          454,
          455,
          456,
          457,
          458,
          459,
          460,
          461,
          462,
          463,
          464,
          465,
          466,
          467,
          468,
          469,
          470,
          471,
          472,
          473,
          474,
          475,
          476,
          477,
          478,
          479,
          480,
          481,
          482,
          483,
          484,
          485,
          486,
          487,
          488,
          489,
          490,
          491,
          492,
          493,
          494,
          495,
          496,
          497,
          498,
          499
         ],
         "xaxis": "x",
         "y": [
          0.6769968867301941,
          0.6309654712677002,
          0.6052774786949158,
          0.6289331316947937,
          0.6089878082275391,
          0.6406005620956421,
          0.6256518959999084,
          0.6374494433403015,
          0.6298973560333252,
          0.6248230934143066,
          0.6456642746925354,
          0.6269392967224121,
          0.6173025369644165,
          0.5927491784095764,
          0.5776653289794922,
          0.6048974990844727,
          0.5954694747924805,
          0.6280245780944824,
          0.6089924573898315,
          0.5920522809028625,
          0.6105314493179321,
          0.605789065361023,
          0.5983843803405762,
          0.5817336440086365,
          0.5948522090911865,
          0.5918983221054077,
          0.5961011648178101,
          0.6210036277770996,
          0.5946040153503418,
          0.5937855243682861,
          0.6320220232009888,
          0.5854421854019165,
          0.5761269330978394,
          0.57548588514328,
          0.6118677854537964,
          0.5887618660926819,
          0.5914984941482544,
          0.6123107671737671,
          0.6435754299163818,
          0.647546648979187,
          0.6159654855728149,
          0.6091173887252808,
          0.5877312421798706,
          0.5701462030410767,
          0.5872398614883423,
          0.6106913089752197,
          0.6332192420959473,
          0.5986021757125854,
          0.6081323623657227,
          0.6074729561805725,
          0.6418254375457764,
          0.6012057065963745,
          0.5821341276168823,
          0.6021116971969604,
          0.5985775589942932,
          0.6485868692398071,
          0.6149269938468933,
          0.5833312273025513,
          0.6123720407485962,
          0.6014955043792725,
          0.6167241334915161,
          0.5971183776855469,
          0.5688813924789429,
          0.6204177141189575,
          0.6021326780319214,
          0.6197185516357422,
          0.6311460733413696,
          0.6248912811279297,
          0.6400097608566284,
          0.6227617263793945,
          0.6181558966636658,
          0.6257452964782715,
          0.6370798945426941,
          0.5986706614494324,
          0.6336183547973633,
          0.6022093296051025,
          0.61879563331604,
          0.6159773468971252,
          0.5941562652587891,
          0.6022955179214478,
          0.5890483856201172,
          0.5954814553260803,
          0.604911208152771,
          0.6262462139129639,
          0.6419357061386108,
          0.6315900683403015,
          0.6060322523117065,
          0.597169816493988,
          0.6081609129905701,
          0.645577609539032,
          0.6030706167221069,
          0.5828810930252075,
          0.5888264179229736,
          0.5755494832992554,
          0.5569363832473755,
          0.5890655517578125,
          0.6165808439254761,
          0.6197119355201721,
          0.5972439050674438,
          0.5878069400787354,
          0.5912074446678162,
          0.5828653573989868,
          0.5778731107711792,
          0.6142046451568604,
          0.5987798571586609,
          0.6398688554763794,
          0.6376650333404541,
          0.6376326680183411,
          0.6182885766029358,
          0.5923982858657837,
          0.5622613430023193,
          0.5812113881111145,
          0.6137699484825134,
          0.606907069683075,
          0.6111611127853394,
          0.5920333862304688,
          0.6232562065124512,
          0.6078386306762695,
          0.6233651041984558,
          0.6001310348510742,
          0.6048840284347534,
          0.6343380212783813,
          0.6221535205841064,
          0.6144849061965942,
          0.6312918663024902,
          0.6040993928909302,
          0.6069103479385376,
          0.6097358465194702,
          0.6395906209945679,
          0.6200878024101257,
          0.6329283714294434,
          0.6497805118560791,
          0.6083875894546509,
          0.6102993488311768,
          0.6007232666015625,
          0.6134711503982544,
          0.618212878704071,
          0.5975511074066162,
          0.6245957016944885,
          0.6169924736022949,
          0.5991767048835754,
          0.6175259351730347,
          0.6188400983810425,
          0.6507284641265869,
          0.6340241432189941,
          0.6286028027534485,
          0.6324886083602905,
          0.6295769214630127,
          0.6183911561965942,
          0.6231288909912109,
          0.6270331144332886,
          0.627273440361023,
          0.6378977298736572,
          0.6064444780349731,
          0.5940027832984924,
          0.6289452314376831,
          0.6153079867362976,
          0.5753821134567261,
          0.6091403365135193,
          0.6110669374465942,
          0.6193721294403076,
          0.6001878380775452,
          0.5888824462890625,
          0.6177000999450684,
          0.5912092328071594,
          0.6127034425735474,
          0.6021291613578796,
          0.625866174697876,
          0.6205703020095825,
          0.6288700699806213,
          0.6207895278930664,
          0.6083502769470215,
          0.6045588254928589,
          0.5696612000465393,
          0.5698694586753845,
          0.5673098564147949,
          0.5958963632583618,
          0.5970525741577148,
          0.6192959547042847,
          0.6484248638153076,
          0.6276613473892212,
          0.6444659233093262,
          0.6083029508590698,
          0.5831302404403687,
          0.6138468980789185,
          0.5958728790283203,
          0.575749397277832,
          0.6104176044464111,
          0.6172642707824707,
          0.6091203093528748,
          0.583733081817627,
          0.5994874238967896,
          0.638073742389679,
          0.6273616552352905,
          0.6330345869064331,
          0.6264955997467041,
          0.6305432915687561,
          0.6433695554733276,
          0.5972225069999695,
          0.609640896320343,
          0.631034255027771,
          0.6356150507926941,
          0.6494905948638916,
          0.6001027822494507,
          0.6320923566818237,
          0.638677179813385,
          0.6047947406768799,
          0.5990467667579651,
          0.5828675031661987,
          0.5831382274627686,
          0.6300284266471863,
          0.6355934143066406,
          0.6021158695220947,
          0.5896918773651123,
          0.6271728277206421,
          0.6130398511886597,
          0.5986245274543762,
          0.6317098140716553,
          0.6332721710205078,
          0.6490227580070496,
          0.6078514456748962,
          0.587700605392456,
          0.6389453411102295,
          0.6402079463005066,
          0.6393256783485413,
          0.6064957976341248,
          0.5798599720001221,
          0.6016798615455627,
          0.5851833820343018,
          0.5981008410453796,
          0.5778501033782959,
          0.5871715545654297,
          0.6158286333084106,
          0.6181630492210388,
          0.6084557771682739,
          0.5975403785705566,
          0.6078562140464783,
          0.6150389313697815,
          0.635377049446106,
          0.5974137187004089,
          0.5887272357940674,
          0.6050564050674438,
          0.6137900352478027,
          0.5927776098251343,
          0.6215216517448425,
          0.5990324020385742,
          0.6362088322639465,
          0.6410123705863953,
          0.6310031414031982,
          0.624443769454956,
          0.6276467442512512,
          0.6289852857589722,
          0.6626710891723633,
          0.6127834320068359,
          0.6156294941902161,
          0.6094843149185181,
          0.6350072622299194,
          0.620722770690918,
          0.5942054390907288,
          0.6247098445892334,
          0.6121314764022827,
          0.6040958762168884,
          0.6154836416244507,
          0.6025286912918091,
          0.5994749069213867,
          0.6360365748405457,
          0.6182211637496948,
          0.6278460025787354,
          0.6065235137939453,
          0.610550582408905,
          0.5971636772155762,
          0.5979346036911011,
          0.5845841765403748,
          0.6480057835578918,
          0.5959571599960327,
          0.6295523643493652,
          0.6300827264785767,
          0.6183199882507324,
          0.6080257892608643,
          0.6169725060462952,
          0.6298826932907104,
          0.6336642503738403,
          0.6496536731719971,
          0.6094590425491333,
          0.5985482931137085,
          0.6091611385345459,
          0.6256002187728882,
          0.6470054388046265,
          0.6127620339393616,
          0.6194799542427063,
          0.6227656006813049,
          0.631092369556427,
          0.6216267347335815,
          0.6189360618591309,
          0.6025711894035339,
          0.6208842992782593,
          0.608283281326294,
          0.5959311723709106,
          0.6052756309509277,
          0.6448348760604858,
          0.6240814328193665,
          0.630736231803894,
          0.6054610013961792,
          0.6242541074752808,
          0.5918653011322021,
          0.6275409460067749,
          0.6202331781387329,
          0.6266576051712036,
          0.6031386852264404,
          0.6319787502288818,
          0.6139529943466187,
          0.6188820600509644,
          0.6188062429428101,
          0.62486732006073,
          0.5943285226821899,
          0.6289656162261963,
          0.635017991065979,
          0.6108003854751587,
          0.6222276091575623,
          0.621559739112854,
          0.6612832546234131,
          0.64598548412323,
          0.6196610927581787,
          0.6186285614967346,
          0.6319125890731812,
          0.6500749588012695,
          0.6344232559204102,
          0.6523610949516296,
          0.6504988670349121,
          0.6033458709716797,
          0.6288487315177917,
          0.647242546081543,
          0.631279706954956,
          0.6284490823745728,
          0.6187981367111206,
          0.6412469148635864,
          0.6337874531745911,
          0.633426308631897,
          0.6460850834846497,
          0.6230679154396057,
          0.6537482738494873,
          0.6227663159370422,
          0.6300262212753296,
          0.6527074575424194,
          0.6145085096359253,
          0.6199512481689453,
          0.6217069029808044,
          0.650523841381073,
          0.6419856548309326,
          0.6376422047615051,
          0.6286396980285645,
          0.5840791463851929,
          0.6207125782966614,
          0.5693603754043579,
          0.5666612386703491,
          0.5958606004714966,
          0.6031053066253662,
          0.5308164358139038,
          0.5256267786026001,
          0.5531659126281738,
          0.5020403861999512,
          0.6374310255050659,
          0.5852900743484497,
          0.4959416389465332,
          0.5431868433952332,
          0.5523585081100464,
          0.580743670463562,
          0.608854353427887,
          0.6195303201675415,
          0.5265101194381714,
          0.6301571130752563,
          0.5241264700889587,
          0.5504313707351685,
          0.5060024261474609,
          0.5977368950843811,
          0.5685956478118896,
          0.5519392490386963,
          0.5241479277610779,
          0.5726044178009033,
          0.567908525466919,
          0.5409497022628784,
          0.5337702035903931,
          0.554667592048645,
          0.5574131011962891,
          0.5266727805137634,
          0.49512362480163574,
          0.569806694984436,
          0.5788122415542603,
          0.5830128192901611,
          0.5727337598800659,
          0.5557465553283691,
          0.4155392050743103,
          0.5649284720420837,
          0.63079434633255,
          0.5571192502975464,
          0.5485405325889587,
          0.5383853912353516,
          0.5896711349487305,
          0.5632070302963257,
          0.6330623626708984,
          0.5628960132598877,
          0.6063374876976013,
          0.5519109964370728,
          0.5372138619422913,
          0.5024919509887695,
          0.5515564680099487,
          0.49132972955703735,
          0.5629454255104065,
          0.5145754814147949,
          0.559483528137207,
          0.570855975151062,
          0.5467634201049805,
          0.5969140529632568,
          0.5363138914108276,
          0.5496906638145447,
          0.6316168308258057,
          0.5942444801330566,
          0.4867866039276123,
          0.5409600734710693,
          0.6082445383071899,
          0.6512024402618408,
          0.588661253452301,
          0.5858548879623413,
          0.5802662372589111,
          0.5731836557388306,
          0.4550337791442871,
          0.5787285566329956,
          0.503116250038147,
          0.5607140064239502,
          0.5592427253723145,
          0.4767834544181824,
          0.5198850631713867,
          0.528870165348053,
          0.550190269947052,
          0.5596271753311157,
          0.5399168729782104,
          0.5431679487228394,
          0.600412130355835,
          0.4835163950920105,
          0.5958123207092285,
          0.5337774157524109,
          0.5904814600944519,
          0.532471776008606,
          0.4925665259361267,
          0.5220283269882202,
          0.552820086479187,
          0.5652133822441101,
          0.542361855506897,
          0.598934531211853,
          0.5988786220550537,
          0.5650774836540222,
          0.5876898765563965,
          0.588360607624054,
          0.5542807579040527,
          0.5091686248779297,
          0.5589537024497986,
          0.5268830060958862,
          0.5186102390289307,
          0.5705047249794006,
          0.5148882269859314,
          0.5030337572097778,
          0.5529334545135498,
          0.5465672016143799,
          0.49924933910369873,
          0.5563780069351196,
          0.4907130002975464,
          0.5628079175949097,
          0.6266352534294128,
          0.5797417759895325,
          0.5373649597167969,
          0.5594344139099121,
          0.5990099906921387,
          0.5711675882339478,
          0.5915955305099487,
          0.5637619495391846,
          0.5319715738296509,
          0.5930981636047363,
          0.5202863216400146,
          0.5700825452804565,
          0.5164246559143066,
          0.5825367569923401,
          0.5565667748451233,
          0.599797248840332,
          0.581153392791748,
          0.5983243584632874,
          0.5651165246963501,
          0.5738919973373413,
          0.5836969614028931,
          0.6128472685813904,
          0.5647742748260498,
          0.5390487909317017,
          0.5414026379585266,
          0.5682947039604187,
          0.5479847192764282,
          0.5503605604171753,
          0.556199312210083,
          0.5185818076133728,
          0.5744318962097168,
          0.5886040925979614,
          0.5734292268753052
         ],
         "yaxis": "y"
        }
       ],
       "layout": {
        "hovermode": "x unified",
        "legend": {
         "title": {
          "text": "variable"
         },
         "tracegroupgap": 0
        },
        "margin": {
         "t": 60
        },
        "template": {
         "data": {
          "bar": [
           {
            "error_x": {
             "color": "#2a3f5f"
            },
            "error_y": {
             "color": "#2a3f5f"
            },
            "marker": {
             "line": {
              "color": "#E5ECF6",
              "width": 0.5
             },
             "pattern": {
              "fillmode": "overlay",
              "size": 10,
              "solidity": 0.2
             }
            },
            "type": "bar"
           }
          ],
          "barpolar": [
           {
            "marker": {
             "line": {
              "color": "#E5ECF6",
              "width": 0.5
             },
             "pattern": {
              "fillmode": "overlay",
              "size": 10,
              "solidity": 0.2
             }
            },
            "type": "barpolar"
           }
          ],
          "carpet": [
           {
            "aaxis": {
             "endlinecolor": "#2a3f5f",
             "gridcolor": "white",
             "linecolor": "white",
             "minorgridcolor": "white",
             "startlinecolor": "#2a3f5f"
            },
            "baxis": {
             "endlinecolor": "#2a3f5f",
             "gridcolor": "white",
             "linecolor": "white",
             "minorgridcolor": "white",
             "startlinecolor": "#2a3f5f"
            },
            "type": "carpet"
           }
          ],
          "choropleth": [
           {
            "colorbar": {
             "outlinewidth": 0,
             "ticks": ""
            },
            "type": "choropleth"
           }
          ],
          "contour": [
           {
            "colorbar": {
             "outlinewidth": 0,
             "ticks": ""
            },
            "colorscale": [
             [
              0,
              "#0d0887"
             ],
             [
              0.1111111111111111,
              "#46039f"
             ],
             [
              0.2222222222222222,
              "#7201a8"
             ],
             [
              0.3333333333333333,
              "#9c179e"
             ],
             [
              0.4444444444444444,
              "#bd3786"
             ],
             [
              0.5555555555555556,
              "#d8576b"
             ],
             [
              0.6666666666666666,
              "#ed7953"
             ],
             [
              0.7777777777777778,
              "#fb9f3a"
             ],
             [
              0.8888888888888888,
              "#fdca26"
             ],
             [
              1,
              "#f0f921"
             ]
            ],
            "type": "contour"
           }
          ],
          "contourcarpet": [
           {
            "colorbar": {
             "outlinewidth": 0,
             "ticks": ""
            },
            "type": "contourcarpet"
           }
          ],
          "heatmap": [
           {
            "colorbar": {
             "outlinewidth": 0,
             "ticks": ""
            },
            "colorscale": [
             [
              0,
              "#0d0887"
             ],
             [
              0.1111111111111111,
              "#46039f"
             ],
             [
              0.2222222222222222,
              "#7201a8"
             ],
             [
              0.3333333333333333,
              "#9c179e"
             ],
             [
              0.4444444444444444,
              "#bd3786"
             ],
             [
              0.5555555555555556,
              "#d8576b"
             ],
             [
              0.6666666666666666,
              "#ed7953"
             ],
             [
              0.7777777777777778,
              "#fb9f3a"
             ],
             [
              0.8888888888888888,
              "#fdca26"
             ],
             [
              1,
              "#f0f921"
             ]
            ],
            "type": "heatmap"
           }
          ],
          "heatmapgl": [
           {
            "colorbar": {
             "outlinewidth": 0,
             "ticks": ""
            },
            "colorscale": [
             [
              0,
              "#0d0887"
             ],
             [
              0.1111111111111111,
              "#46039f"
             ],
             [
              0.2222222222222222,
              "#7201a8"
             ],
             [
              0.3333333333333333,
              "#9c179e"
             ],
             [
              0.4444444444444444,
              "#bd3786"
             ],
             [
              0.5555555555555556,
              "#d8576b"
             ],
             [
              0.6666666666666666,
              "#ed7953"
             ],
             [
              0.7777777777777778,
              "#fb9f3a"
             ],
             [
              0.8888888888888888,
              "#fdca26"
             ],
             [
              1,
              "#f0f921"
             ]
            ],
            "type": "heatmapgl"
           }
          ],
          "histogram": [
           {
            "marker": {
             "pattern": {
              "fillmode": "overlay",
              "size": 10,
              "solidity": 0.2
             }
            },
            "type": "histogram"
           }
          ],
          "histogram2d": [
           {
            "colorbar": {
             "outlinewidth": 0,
             "ticks": ""
            },
            "colorscale": [
             [
              0,
              "#0d0887"
             ],
             [
              0.1111111111111111,
              "#46039f"
             ],
             [
              0.2222222222222222,
              "#7201a8"
             ],
             [
              0.3333333333333333,
              "#9c179e"
             ],
             [
              0.4444444444444444,
              "#bd3786"
             ],
             [
              0.5555555555555556,
              "#d8576b"
             ],
             [
              0.6666666666666666,
              "#ed7953"
             ],
             [
              0.7777777777777778,
              "#fb9f3a"
             ],
             [
              0.8888888888888888,
              "#fdca26"
             ],
             [
              1,
              "#f0f921"
             ]
            ],
            "type": "histogram2d"
           }
          ],
          "histogram2dcontour": [
           {
            "colorbar": {
             "outlinewidth": 0,
             "ticks": ""
            },
            "colorscale": [
             [
              0,
              "#0d0887"
             ],
             [
              0.1111111111111111,
              "#46039f"
             ],
             [
              0.2222222222222222,
              "#7201a8"
             ],
             [
              0.3333333333333333,
              "#9c179e"
             ],
             [
              0.4444444444444444,
              "#bd3786"
             ],
             [
              0.5555555555555556,
              "#d8576b"
             ],
             [
              0.6666666666666666,
              "#ed7953"
             ],
             [
              0.7777777777777778,
              "#fb9f3a"
             ],
             [
              0.8888888888888888,
              "#fdca26"
             ],
             [
              1,
              "#f0f921"
             ]
            ],
            "type": "histogram2dcontour"
           }
          ],
          "mesh3d": [
           {
            "colorbar": {
             "outlinewidth": 0,
             "ticks": ""
            },
            "type": "mesh3d"
           }
          ],
          "parcoords": [
           {
            "line": {
             "colorbar": {
              "outlinewidth": 0,
              "ticks": ""
             }
            },
            "type": "parcoords"
           }
          ],
          "pie": [
           {
            "automargin": true,
            "type": "pie"
           }
          ],
          "scatter": [
           {
            "marker": {
             "colorbar": {
              "outlinewidth": 0,
              "ticks": ""
             }
            },
            "type": "scatter"
           }
          ],
          "scatter3d": [
           {
            "line": {
             "colorbar": {
              "outlinewidth": 0,
              "ticks": ""
             }
            },
            "marker": {
             "colorbar": {
              "outlinewidth": 0,
              "ticks": ""
             }
            },
            "type": "scatter3d"
           }
          ],
          "scattercarpet": [
           {
            "marker": {
             "colorbar": {
              "outlinewidth": 0,
              "ticks": ""
             }
            },
            "type": "scattercarpet"
           }
          ],
          "scattergeo": [
           {
            "marker": {
             "colorbar": {
              "outlinewidth": 0,
              "ticks": ""
             }
            },
            "type": "scattergeo"
           }
          ],
          "scattergl": [
           {
            "marker": {
             "colorbar": {
              "outlinewidth": 0,
              "ticks": ""
             }
            },
            "type": "scattergl"
           }
          ],
          "scattermapbox": [
           {
            "marker": {
             "colorbar": {
              "outlinewidth": 0,
              "ticks": ""
             }
            },
            "type": "scattermapbox"
           }
          ],
          "scatterpolar": [
           {
            "marker": {
             "colorbar": {
              "outlinewidth": 0,
              "ticks": ""
             }
            },
            "type": "scatterpolar"
           }
          ],
          "scatterpolargl": [
           {
            "marker": {
             "colorbar": {
              "outlinewidth": 0,
              "ticks": ""
             }
            },
            "type": "scatterpolargl"
           }
          ],
          "scatterternary": [
           {
            "marker": {
             "colorbar": {
              "outlinewidth": 0,
              "ticks": ""
             }
            },
            "type": "scatterternary"
           }
          ],
          "surface": [
           {
            "colorbar": {
             "outlinewidth": 0,
             "ticks": ""
            },
            "colorscale": [
             [
              0,
              "#0d0887"
             ],
             [
              0.1111111111111111,
              "#46039f"
             ],
             [
              0.2222222222222222,
              "#7201a8"
             ],
             [
              0.3333333333333333,
              "#9c179e"
             ],
             [
              0.4444444444444444,
              "#bd3786"
             ],
             [
              0.5555555555555556,
              "#d8576b"
             ],
             [
              0.6666666666666666,
              "#ed7953"
             ],
             [
              0.7777777777777778,
              "#fb9f3a"
             ],
             [
              0.8888888888888888,
              "#fdca26"
             ],
             [
              1,
              "#f0f921"
             ]
            ],
            "type": "surface"
           }
          ],
          "table": [
           {
            "cells": {
             "fill": {
              "color": "#EBF0F8"
             },
             "line": {
              "color": "white"
             }
            },
            "header": {
             "fill": {
              "color": "#C8D4E3"
             },
             "line": {
              "color": "white"
             }
            },
            "type": "table"
           }
          ]
         },
         "layout": {
          "annotationdefaults": {
           "arrowcolor": "#2a3f5f",
           "arrowhead": 0,
           "arrowwidth": 1
          },
          "autotypenumbers": "strict",
          "coloraxis": {
           "colorbar": {
            "outlinewidth": 0,
            "ticks": ""
           }
          },
          "colorscale": {
           "diverging": [
            [
             0,
             "#8e0152"
            ],
            [
             0.1,
             "#c51b7d"
            ],
            [
             0.2,
             "#de77ae"
            ],
            [
             0.3,
             "#f1b6da"
            ],
            [
             0.4,
             "#fde0ef"
            ],
            [
             0.5,
             "#f7f7f7"
            ],
            [
             0.6,
             "#e6f5d0"
            ],
            [
             0.7,
             "#b8e186"
            ],
            [
             0.8,
             "#7fbc41"
            ],
            [
             0.9,
             "#4d9221"
            ],
            [
             1,
             "#276419"
            ]
           ],
           "sequential": [
            [
             0,
             "#0d0887"
            ],
            [
             0.1111111111111111,
             "#46039f"
            ],
            [
             0.2222222222222222,
             "#7201a8"
            ],
            [
             0.3333333333333333,
             "#9c179e"
            ],
            [
             0.4444444444444444,
             "#bd3786"
            ],
            [
             0.5555555555555556,
             "#d8576b"
            ],
            [
             0.6666666666666666,
             "#ed7953"
            ],
            [
             0.7777777777777778,
             "#fb9f3a"
            ],
            [
             0.8888888888888888,
             "#fdca26"
            ],
            [
             1,
             "#f0f921"
            ]
           ],
           "sequentialminus": [
            [
             0,
             "#0d0887"
            ],
            [
             0.1111111111111111,
             "#46039f"
            ],
            [
             0.2222222222222222,
             "#7201a8"
            ],
            [
             0.3333333333333333,
             "#9c179e"
            ],
            [
             0.4444444444444444,
             "#bd3786"
            ],
            [
             0.5555555555555556,
             "#d8576b"
            ],
            [
             0.6666666666666666,
             "#ed7953"
            ],
            [
             0.7777777777777778,
             "#fb9f3a"
            ],
            [
             0.8888888888888888,
             "#fdca26"
            ],
            [
             1,
             "#f0f921"
            ]
           ]
          },
          "colorway": [
           "#636efa",
           "#EF553B",
           "#00cc96",
           "#ab63fa",
           "#FFA15A",
           "#19d3f3",
           "#FF6692",
           "#B6E880",
           "#FF97FF",
           "#FECB52"
          ],
          "font": {
           "color": "#2a3f5f"
          },
          "geo": {
           "bgcolor": "white",
           "lakecolor": "white",
           "landcolor": "#E5ECF6",
           "showlakes": true,
           "showland": true,
           "subunitcolor": "white"
          },
          "hoverlabel": {
           "align": "left"
          },
          "hovermode": "closest",
          "mapbox": {
           "style": "light"
          },
          "paper_bgcolor": "white",
          "plot_bgcolor": "#E5ECF6",
          "polar": {
           "angularaxis": {
            "gridcolor": "white",
            "linecolor": "white",
            "ticks": ""
           },
           "bgcolor": "#E5ECF6",
           "radialaxis": {
            "gridcolor": "white",
            "linecolor": "white",
            "ticks": ""
           }
          },
          "scene": {
           "xaxis": {
            "backgroundcolor": "#E5ECF6",
            "gridcolor": "white",
            "gridwidth": 2,
            "linecolor": "white",
            "showbackground": true,
            "ticks": "",
            "zerolinecolor": "white"
           },
           "yaxis": {
            "backgroundcolor": "#E5ECF6",
            "gridcolor": "white",
            "gridwidth": 2,
            "linecolor": "white",
            "showbackground": true,
            "ticks": "",
            "zerolinecolor": "white"
           },
           "zaxis": {
            "backgroundcolor": "#E5ECF6",
            "gridcolor": "white",
            "gridwidth": 2,
            "linecolor": "white",
            "showbackground": true,
            "ticks": "",
            "zerolinecolor": "white"
           }
          },
          "shapedefaults": {
           "line": {
            "color": "#2a3f5f"
           }
          },
          "ternary": {
           "aaxis": {
            "gridcolor": "white",
            "linecolor": "white",
            "ticks": ""
           },
           "baxis": {
            "gridcolor": "white",
            "linecolor": "white",
            "ticks": ""
           },
           "bgcolor": "#E5ECF6",
           "caxis": {
            "gridcolor": "white",
            "linecolor": "white",
            "ticks": ""
           }
          },
          "title": {
           "x": 0.05
          },
          "xaxis": {
           "automargin": true,
           "gridcolor": "white",
           "linecolor": "white",
           "ticks": "",
           "title": {
            "standoff": 15
           },
           "zerolinecolor": "white",
           "zerolinewidth": 2
          },
          "yaxis": {
           "automargin": true,
           "gridcolor": "white",
           "linecolor": "white",
           "ticks": "",
           "title": {
            "standoff": 15
           },
           "zerolinecolor": "white",
           "zerolinewidth": 2
          }
         }
        },
        "title": {
         "text": "Monitored variables"
        },
        "xaxis": {
         "anchor": "y",
         "domain": [
          0,
          1
         ],
         "title": {
          "text": "Epoch"
         }
        },
        "yaxis": {
         "anchor": "x",
         "domain": [
          0,
          1
         ],
         "title": {
          "text": ""
         }
        }
       }
      }
     },
     "metadata": {},
     "output_type": "display_data"
    }
   ],
   "source": [
    "fig = px.line(df_model_history[[\"Error\",\"Temperature\"]])\n",
    "fig.update_layout(title=\"Monitored variables\",\n",
    "                   xaxis_title='Epoch',\n",
    "                   yaxis_title='',\n",
    "                   hovermode='x unified')\n",
    "fig.show()"
   ]
  },
  {
   "cell_type": "markdown",
   "metadata": {},
   "source": [
    "---"
   ]
  }
 ],
 "metadata": {
  "kernelspec": {
   "display_name": "Python 3.8.10 64-bit",
   "language": "python",
   "name": "python3"
  },
  "language_info": {
   "codemirror_mode": {
    "name": "ipython",
    "version": 3
   },
   "file_extension": ".py",
   "mimetype": "text/x-python",
   "name": "python",
   "nbconvert_exporter": "python",
   "pygments_lexer": "ipython3",
   "version": "3.8.10"
  },
  "orig_nbformat": 4,
  "vscode": {
   "interpreter": {
    "hash": "916dbcbb3f70747c44a77c7bcd40155683ae19c65e1c03b4aa3499c5328201f1"
   }
  }
 },
 "nbformat": 4,
 "nbformat_minor": 2
}
