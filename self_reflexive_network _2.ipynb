{
 "cells": [
  {
   "cell_type": "code",
   "execution_count": 289,
   "metadata": {},
   "outputs": [],
   "source": [
    "import tensorflow as tf\n",
    "from tensorflow import keras\n",
    "from tensorflow.keras import layers\n",
    "import numpy as np\n",
    "import pandas as pd"
   ]
  },
  {
   "cell_type": "code",
   "execution_count": 290,
   "metadata": {},
   "outputs": [],
   "source": [
    "import matplotlib.pyplot as plt\n",
    "import seaborn as sns\n",
    "import plotly.express as px\n",
    "import plotly.graph_objects as go\n",
    "sns.set()"
   ]
  },
  {
   "cell_type": "markdown",
   "metadata": {},
   "source": [
    "# CUSTOM LAYERS"
   ]
  },
  {
   "cell_type": "code",
   "execution_count": 291,
   "metadata": {},
   "outputs": [],
   "source": [
    "class InputLayer(tf.keras.layers.Layer):\n",
    "  def __init__(self, name):\n",
    "    super(InputLayer, self).__init__(name=name)\n",
    "    \n",
    "  def call(self, inputs):\n",
    "    a1a1 = tf.reshape(inputs[0],shape=(1,1)) #1\n",
    "    a1a2 = tf.reshape(inputs[1],shape=(1,1)) #2 \n",
    "    a1a2a2 = tf.reshape(inputs[2],shape=(1,1)) #3\n",
    "    a1a2a1 = tf.reshape(inputs[3],shape=(1,1)) #4\n",
    "    a2a2 = tf.reshape(inputs[4],shape=(1,1)) #5\n",
    "    a2a1 = tf.reshape(inputs[5],shape=(1,1)) #6\n",
    "    a2a1a1 = tf.reshape(inputs[6],shape=(1,1)) #7\n",
    "    a2a1a2 = tf.reshape(inputs[7],shape=(1,1)) #8\n",
    "\n",
    "    to_hidden = []\n",
    "    to_hidden.append((tf.concat([a1a2a2, a2a2], axis = 1))) #[\"TrRi\"] [3,5]\n",
    "    to_hidden.append((tf.concat([a1a2a1, a2a1], axis = 1))) #[\"RiTr\"] [4,6] \n",
    "    to_hidden.append((tf.concat([a1a1, a2a1], axis = 1))) #[\"Plu\"] [1,6] \n",
    "    to_hidden.append((tf.concat([a1a2, a1a2a2], axis = 1))) #[\"TTra\"] [2,3] \n",
    "    to_hidden.append((tf.concat([a2a1, a2a1a1], axis = 1))) #[\"TTrb\"] [6,7] \n",
    "    to_hidden.append((tf.concat([a1a2, a2a1], axis = 1))) #[\"Tr\"] [2,6]\n",
    "    to_hidden.append((tf.concat([a1a2a1, a2a1a2], axis = 1))) #[\"MeTr\"] [4,8] \n",
    "    to_hidden.append((tf.concat([a1a2a1, a1a2], axis = 1))) #[\"MoTr\"] [4,2] \n",
    "    to_hidden.append((tf.concat([a1a1, a1a2a1], axis = 1))) #[\"RiRi\"] [1,4] \n",
    "    to_hidden.append((tf.concat([a1a1, a1a2], axis = 1))) #[\"MoFo\"] [1,2] \n",
    "    to_hidden.append((tf.concat([a1a2a2, a1a2a1], axis = 1))) #[\"MMof\"] [3,4] \n",
    "    to_hidden.append((tf.concat([a1a1, a1a2a2], axis = 1))) #[\"MoRi\"] [1,3] \n",
    "    to_hidden.append((tf.concat([a1a2a2, a2a1a1], axis = 1))) #[\"MeRi\"] [3,7] \n",
    "    to_hidden.append((tf.concat([a1a1, a2a2], axis = 1))) #[\"Ri\"] [1,5] \n",
    "\n",
    "    output = tf.concat(to_hidden,axis = 0)\n",
    "    return output"
   ]
  },
  {
   "cell_type": "code",
   "execution_count": 292,
   "metadata": {},
   "outputs": [],
   "source": [
    "class Layer(tf.keras.layers.Layer):\n",
    "  def __init__(self, name, weights_init_val, bias_init_val):\n",
    "    super(Layer, self).__init__(name = name)\n",
    "    self.units = 14\n",
    "    self.weights_init_val = weights_init_val\n",
    "    self.bias_init_val = bias_init_val\n",
    "    if self.name in [\"HiddenLayer\"]:\n",
    "      self.type = \"Hidden\"\n",
    "    elif self.name in [\"OutputLayer\"]:\n",
    "      self.type = \"Output\"\n",
    "\n",
    "  def build(self, input_shape):\n",
    "    shape = [int(input_shape[-1]),self.units]\n",
    "    self.w = self.add_weight(initializer = tf.initializers.Constant(self.weights_init_val) ,\n",
    "                              shape= shape,\n",
    "                              name = self.name + \"_weights\")\n",
    "    self.b = self.add_weight(initializer = tf.initializers.Constant(self.bias_init_val) ,\n",
    "                              shape= [1, self.units],\n",
    "                              name = self.name + \"_biases\")\n",
    "\n",
    "    self.deltaA = tf.Variable(initial_value=tf.zeros(shape = [1, self.units]),trainable=False, name= self.name + \"_adjustements\")\n",
    "    self.a = tf.Variable(initial_value=tf.zeros(shape = [1, self.units]),trainable=False, name= self.name + \"_activation\")\n",
    "\n",
    "  def call(self, inputs, temperature):\n",
    "    #print(\"mat mult\")\n",
    "    #print(tf.matmul(inputs, self.w))\n",
    "    #print(\"weights\")\n",
    "    #print(self.w)\n",
    "    #print(\"bias vector\")\n",
    "    #print(self.b)\n",
    "    \n",
    "    if self.type == \"Hidden\":\n",
    "      net = tf.matmul(inputs, self.w)[:,0]\n",
    "    elif self.type == \"Output\":\n",
    "      net = tf.matmul(inputs, self.w)\n",
    "    #print(\"NET\")\n",
    "    #print(tf.matmul(inputs, self.w)[:,0])\n",
    "    self.a.assign(1/(1 + tf.exp((net + self.b)/temperature)))\n",
    "    return self.a.value()\n"
   ]
  },
  {
   "cell_type": "markdown",
   "metadata": {},
   "source": [
    "### Testing foward pass"
   ]
  },
  {
   "cell_type": "code",
   "execution_count": 293,
   "metadata": {},
   "outputs": [
    {
     "data": {
      "text/plain": [
       "<tf.Tensor: shape=(8,), dtype=float32, numpy=array([1., 2., 3., 4., 5., 6., 7., 8.], dtype=float32)>"
      ]
     },
     "execution_count": 293,
     "metadata": {},
     "output_type": "execute_result"
    }
   ],
   "source": [
    "x = tf.constant([1.0, 2.0, 3.0, 4.0, 5.0, 6.0, 7.0, 8.0])\n",
    "x"
   ]
  },
  {
   "cell_type": "code",
   "execution_count": 294,
   "metadata": {},
   "outputs": [
    {
     "data": {
      "text/plain": [
       "<__main__.InputLayer at 0x7f5c00636c10>"
      ]
     },
     "execution_count": 294,
     "metadata": {},
     "output_type": "execute_result"
    }
   ],
   "source": [
    "input_layer = InputLayer(name = \"InputLayer\")\n",
    "input_layer"
   ]
  },
  {
   "cell_type": "code",
   "execution_count": 295,
   "metadata": {},
   "outputs": [
    {
     "data": {
      "text/plain": [
       "<tf.Tensor: shape=(14, 2), dtype=float32, numpy=\n",
       "array([[3., 5.],\n",
       "       [4., 6.],\n",
       "       [1., 6.],\n",
       "       [2., 3.],\n",
       "       [6., 7.],\n",
       "       [2., 6.],\n",
       "       [4., 8.],\n",
       "       [4., 2.],\n",
       "       [1., 4.],\n",
       "       [1., 2.],\n",
       "       [3., 4.],\n",
       "       [1., 3.],\n",
       "       [3., 7.],\n",
       "       [1., 5.]], dtype=float32)>"
      ]
     },
     "execution_count": 295,
     "metadata": {},
     "output_type": "execute_result"
    }
   ],
   "source": [
    "res_input = input_layer(x)\n",
    "res_input"
   ]
  },
  {
   "cell_type": "code",
   "execution_count": 296,
   "metadata": {},
   "outputs": [
    {
     "data": {
      "text/plain": [
       "<tf.Tensor: shape=(2,), dtype=float32, numpy=array([3., 5.], dtype=float32)>"
      ]
     },
     "execution_count": 296,
     "metadata": {},
     "output_type": "execute_result"
    }
   ],
   "source": [
    "res_input[0]"
   ]
  },
  {
   "cell_type": "code",
   "execution_count": 297,
   "metadata": {},
   "outputs": [
    {
     "data": {
      "text/plain": [
       "<tf.Tensor: shape=(1, 2), dtype=float32, numpy=array([[3., 5.]], dtype=float32)>"
      ]
     },
     "execution_count": 297,
     "metadata": {},
     "output_type": "execute_result"
    }
   ],
   "source": [
    "tf.reshape(res_input[0], shape = (1,2))"
   ]
  },
  {
   "cell_type": "code",
   "execution_count": 298,
   "metadata": {},
   "outputs": [
    {
     "data": {
      "text/plain": [
       "<__main__.Layer at 0x7f5c0053a6a0>"
      ]
     },
     "execution_count": 298,
     "metadata": {},
     "output_type": "execute_result"
    }
   ],
   "source": [
    "hidden_layer = Layer(name = \"HiddenLayer\",weights_init_val=0.5, bias_init_val=0.0)\n",
    "hidden_layer"
   ]
  },
  {
   "cell_type": "code",
   "execution_count": 299,
   "metadata": {},
   "outputs": [
    {
     "data": {
      "text/plain": [
       "<tf.Tensor: shape=(1, 14), dtype=float32, numpy=\n",
       "array([[0.01798621, 0.00669285, 0.02931223, 0.07585818, 0.00150118,\n",
       "        0.01798621, 0.00247262, 0.04742587, 0.07585818, 0.18242553,\n",
       "        0.02931223, 0.11920292, 0.00669285, 0.04742587]], dtype=float32)>"
      ]
     },
     "execution_count": 299,
     "metadata": {},
     "output_type": "execute_result"
    }
   ],
   "source": [
    "res_hidden = hidden_layer(inputs = res_input, temperature = 1)\n",
    "res_hidden"
   ]
  },
  {
   "cell_type": "code",
   "execution_count": 300,
   "metadata": {},
   "outputs": [
    {
     "data": {
      "text/plain": [
       "<tf.Tensor: shape=(1, 14), dtype=float32, numpy=\n",
       "array([[0.01798621, 0.00669285, 0.02931223, 0.07585818, 0.00150118,\n",
       "        0.01798621, 0.00247262, 0.04742587, 0.07585818, 0.18242553,\n",
       "        0.02931223, 0.11920292, 0.00669285, 0.04742587]], dtype=float32)>"
      ]
     },
     "execution_count": 300,
     "metadata": {},
     "output_type": "execute_result"
    }
   ],
   "source": [
    "res_hidden"
   ]
  },
  {
   "cell_type": "code",
   "execution_count": 301,
   "metadata": {},
   "outputs": [
    {
     "data": {
      "text/plain": [
       "<__main__.Layer at 0x7f5c0053a9d0>"
      ]
     },
     "execution_count": 301,
     "metadata": {},
     "output_type": "execute_result"
    }
   ],
   "source": [
    "output_layer = Layer(name = \"OutputLayer\",weights_init_val=0.59, bias_init_val=0.0)\n",
    "output_layer"
   ]
  },
  {
   "cell_type": "code",
   "execution_count": 302,
   "metadata": {},
   "outputs": [
    {
     "data": {
      "text/plain": [
       "<tf.Tensor: shape=(1, 14), dtype=float32, numpy=\n",
       "array([[0.40384   , 0.40384   , 0.40384   , 0.40384   , 0.40384   ,\n",
       "        0.40384   , 0.40384   , 0.40384   , 0.40384004, 0.40384004,\n",
       "        0.40384004, 0.40384004, 0.40384004, 0.40384004]], dtype=float32)>"
      ]
     },
     "execution_count": 302,
     "metadata": {},
     "output_type": "execute_result"
    }
   ],
   "source": [
    "res_output = output_layer(inputs = res_hidden, temperature = 1)\n",
    "res_output"
   ]
  },
  {
   "cell_type": "code",
   "execution_count": 303,
   "metadata": {},
   "outputs": [
    {
     "data": {
      "text/plain": [
       "<tf.Tensor: shape=(1, 14), dtype=float32, numpy=\n",
       "array([[0.14888315, 0.15772586, 0.14027105, 0.10757208, 0.16187653,\n",
       "        0.14888315, 0.16109578, 0.12703104, 0.1075721 , 0.04902438,\n",
       "        0.14027108, 0.08101829, 0.15772589, 0.12703106]], dtype=float32)>"
      ]
     },
     "execution_count": 303,
     "metadata": {},
     "output_type": "execute_result"
    }
   ],
   "source": [
    "tf.math.square(res_hidden - res_output)"
   ]
  },
  {
   "cell_type": "code",
   "execution_count": 304,
   "metadata": {},
   "outputs": [
    {
     "data": {
      "text/plain": [
       "<tf.Tensor: shape=(), dtype=float32, numpy=1.8159815>"
      ]
     },
     "execution_count": 304,
     "metadata": {},
     "output_type": "execute_result"
    }
   ],
   "source": [
    "tf.math.reduce_sum(tf.math.square(res_hidden - res_output))"
   ]
  },
  {
   "cell_type": "code",
   "execution_count": 305,
   "metadata": {},
   "outputs": [
    {
     "data": {
      "text/plain": [
       "<tf.Variable 'Variable:0' shape=() dtype=int32, numpy=0>"
      ]
     },
     "execution_count": 305,
     "metadata": {},
     "output_type": "execute_result"
    }
   ],
   "source": [
    "test = tf.Variable(initial_value=0,trainable=False)\n",
    "test"
   ]
  },
  {
   "cell_type": "code",
   "execution_count": 312,
   "metadata": {},
   "outputs": [
    {
     "data": {
      "text/plain": [
       "<tf.Tensor: shape=(2, 3), dtype=float32, numpy=\n",
       "array([[1., 2., 3.],\n",
       "       [4., 5., 6.]], dtype=float32)>"
      ]
     },
     "execution_count": 312,
     "metadata": {},
     "output_type": "execute_result"
    }
   ],
   "source": [
    "x = tf.constant([[1.0, 2.0, 3.0],\n",
    "                [4.0, 5.0, 6.0]])\n",
    "x"
   ]
  },
  {
   "cell_type": "code",
   "execution_count": 314,
   "metadata": {},
   "outputs": [
    {
     "data": {
      "text/plain": [
       "<tf.Tensor: shape=(2, 2), dtype=float32, numpy=\n",
       "array([[14., 32.],\n",
       "       [32., 77.]], dtype=float32)>"
      ]
     },
     "execution_count": 314,
     "metadata": {},
     "output_type": "execute_result"
    }
   ],
   "source": [
    "x @ tf.transpose(x)"
   ]
  },
  {
   "cell_type": "code",
   "execution_count": 315,
   "metadata": {},
   "outputs": [
    {
     "data": {
      "text/plain": [
       "<tf.Tensor: shape=(3, 3), dtype=float32, numpy=\n",
       "array([[17., 22., 27.],\n",
       "       [22., 29., 36.],\n",
       "       [27., 36., 45.]], dtype=float32)>"
      ]
     },
     "execution_count": 315,
     "metadata": {},
     "output_type": "execute_result"
    }
   ],
   "source": [
    "tf.transpose(x) @ x "
   ]
  },
  {
   "cell_type": "markdown",
   "metadata": {},
   "source": [
    "---"
   ]
  },
  {
   "cell_type": "markdown",
   "metadata": {},
   "source": [
    "# CUSTOM MODEL"
   ]
  },
  {
   "cell_type": "code",
   "execution_count": 306,
   "metadata": {},
   "outputs": [],
   "source": [
    "class MQSelfReflexiveNetwork(tf.keras.Model):\n",
    "  def __init__(self, learning_rate):\n",
    "    super(MQSelfReflexiveNetwork, self).__init__(name='MQSelfReflexiveNetwork')\n",
    "\n",
    "    self.input_layer = InputLayer(name = \"InputLayer\")\n",
    "    self.h = Layer(name = \"HiddenLayer\",weights_init_val=0.5, bias_init_val=0.0)\n",
    "    self.o = Layer(name = \"OutputLayer\",weights_init_val=0.59, bias_init_val=0.0)\n",
    "    self.temperature = tf.Variable(initial_value=1.0,trainable=False, name = \"Temperature\")\n",
    "    self.error = tf.Variable(initial_value=0.0,trainable=False, name = \"Error\")\n",
    "    self.alpha = learning_rate\n",
    "\n",
    "  def call(self, input):\n",
    "    ### FOWARD PASS\n",
    "    res_input = self.input_layer(input)\n",
    "    res_hidden = self.h(res_input, self.temperature)\n",
    "    res_output = self.o(res_hidden, self.temperature)\n",
    "    return tf.math.reduce_sum(tf.math.square(res_hidden - res_output))\n",
    "  \n",
    "  def train_step(self, input):\n",
    "    ### CALL FOWARD PASS\n",
    "    print(\"Step-1\")\n",
    "    self.error.assign(self(input, training = True))\n",
    "    \n",
    "    ### BACK PROPAGATION\n",
    "    # Compute temperature\n",
    "    print(\"Step0_A\")\n",
    "    self.temperature.assign(1 - (1 / (1 + self.error) ))\n",
    "    print(\"Step0\")\n",
    "    # Update outputs weights\n",
    "    delta_Ao = self.o.a * (self.h.a - self.o.a) * (1 - self.o.a) + (self.o.deltaA * ((self.h.a - self.o.a)) )\n",
    "    print(\"Step1\")\n",
    "    delta_Wo = self.alpha * tf.matmul(tf.transpose(self.h.a),delta_Ao)\n",
    "    print(\"Step2\")\n",
    "    self.o.w.assign_add(delta_Wo)\n",
    "    print(\"Step3\")\n",
    "    ## Update hidden weights\n",
    "    delta_Ah = self.h.a * (1 - self.h.a) * (delta_Ah * self.o.a)\n",
    "    print(\"Step4\")\n",
    "    delta_Wh = self.alpha * delta_Ah * input\n",
    "    print(\"Step5\")\n",
    "    self.h.w.assign_add(delta_Wh)\n",
    "    print(\"Step6\")\n",
    "\n",
    "    return {\n",
    "        \"Error\": tf.squeeze(self.error.value()),\n",
    "        \"Temperature\": tf.squeeze(self.temperature.value()),\n",
    "        \"Hidden weights\": tf.squeeze(self.h.w.value()),\n",
    "        \"Output weights\": tf.squeeze(self.o.w.value())\n",
    "        }"
   ]
  },
  {
   "cell_type": "code",
   "execution_count": 307,
   "metadata": {},
   "outputs": [],
   "source": [
    "# Construct an instance of CustomModel\n",
    "input = tf.constant([1.0, 2.0, 3.0, 4.0, 5.0, 6.0, 7.0, 8.0])\n",
    "model = MQSelfReflexiveNetwork(learning_rate=1)"
   ]
  },
  {
   "cell_type": "code",
   "execution_count": 308,
   "metadata": {},
   "outputs": [
    {
     "data": {
      "text/plain": [
       "<tf.Tensor: shape=(), dtype=float32, numpy=1.8159815>"
      ]
     },
     "execution_count": 308,
     "metadata": {},
     "output_type": "execute_result"
    }
   ],
   "source": [
    "model.call(input)"
   ]
  },
  {
   "cell_type": "code",
   "execution_count": 311,
   "metadata": {},
   "outputs": [],
   "source": [
    "#model.get_weights()"
   ]
  },
  {
   "cell_type": "code",
   "execution_count": 310,
   "metadata": {},
   "outputs": [
    {
     "name": "stdout",
     "output_type": "stream",
     "text": [
      "Epoch 1/200\n",
      "Step-1\n",
      "Step0_A\n",
      "Step0\n",
      "Step1\n",
      "Step2\n"
     ]
    },
    {
     "ename": "ValueError",
     "evalue": "in user code:\n\n    File \"/home/davide/.local/lib/python3.8/site-packages/keras/engine/training.py\", line 878, in train_function  *\n        return step_function(self, iterator)\n    File \"/home/davide/.local/lib/python3.8/site-packages/keras/engine/training.py\", line 867, in step_function  **\n        outputs = model.distribute_strategy.run(run_step, args=(data,))\n    File \"/home/davide/.local/lib/python3.8/site-packages/keras/engine/training.py\", line 860, in run_step  **\n        outputs = model.train_step(data)\n    File \"/tmp/ipykernel_9230/3332207265.py\", line 34, in train_step\n        self.o.w.assign_add(delta_Wo)\n\n    ValueError: Dimension 0 in both shapes must be equal, but are 14 and 1. Shapes are [14,14] and [1,14]. for '{{node AssignAddVariableOp}} = AssignAddVariableOp[dtype=DT_FLOAT](MQSelfReflexiveNetwork/OutputLayer/MatMul/ReadVariableOp/resource, mul_4)' with input shapes: [], [1,14].\n",
     "output_type": "error",
     "traceback": [
      "\u001b[0;31m---------------------------------------------------------------------------\u001b[0m",
      "\u001b[0;31mValueError\u001b[0m                                Traceback (most recent call last)",
      "\u001b[0;32m/tmp/ipykernel_9230/3916377947.py\u001b[0m in \u001b[0;36m<module>\u001b[0;34m\u001b[0m\n\u001b[1;32m      1\u001b[0m \u001b[0mmodel\u001b[0m\u001b[0;34m.\u001b[0m\u001b[0mcompile\u001b[0m\u001b[0;34m(\u001b[0m\u001b[0;34m)\u001b[0m\u001b[0;34m\u001b[0m\u001b[0;34m\u001b[0m\u001b[0m\n\u001b[0;32m----> 2\u001b[0;31m \u001b[0mmodel_history\u001b[0m \u001b[0;34m=\u001b[0m \u001b[0mmodel\u001b[0m\u001b[0;34m.\u001b[0m\u001b[0mfit\u001b[0m\u001b[0;34m(\u001b[0m\u001b[0mx\u001b[0m \u001b[0;34m=\u001b[0m \u001b[0minput\u001b[0m\u001b[0;34m,\u001b[0m \u001b[0mepochs\u001b[0m\u001b[0;34m=\u001b[0m\u001b[0;36m200\u001b[0m\u001b[0;34m)\u001b[0m\u001b[0;34m\u001b[0m\u001b[0;34m\u001b[0m\u001b[0m\n\u001b[0m",
      "\u001b[0;32m~/.local/lib/python3.8/site-packages/keras/utils/traceback_utils.py\u001b[0m in \u001b[0;36merror_handler\u001b[0;34m(*args, **kwargs)\u001b[0m\n\u001b[1;32m     65\u001b[0m     \u001b[0;32mexcept\u001b[0m \u001b[0mException\u001b[0m \u001b[0;32mas\u001b[0m \u001b[0me\u001b[0m\u001b[0;34m:\u001b[0m  \u001b[0;31m# pylint: disable=broad-except\u001b[0m\u001b[0;34m\u001b[0m\u001b[0;34m\u001b[0m\u001b[0m\n\u001b[1;32m     66\u001b[0m       \u001b[0mfiltered_tb\u001b[0m \u001b[0;34m=\u001b[0m \u001b[0m_process_traceback_frames\u001b[0m\u001b[0;34m(\u001b[0m\u001b[0me\u001b[0m\u001b[0;34m.\u001b[0m\u001b[0m__traceback__\u001b[0m\u001b[0;34m)\u001b[0m\u001b[0;34m\u001b[0m\u001b[0;34m\u001b[0m\u001b[0m\n\u001b[0;32m---> 67\u001b[0;31m       \u001b[0;32mraise\u001b[0m \u001b[0me\u001b[0m\u001b[0;34m.\u001b[0m\u001b[0mwith_traceback\u001b[0m\u001b[0;34m(\u001b[0m\u001b[0mfiltered_tb\u001b[0m\u001b[0;34m)\u001b[0m \u001b[0;32mfrom\u001b[0m \u001b[0;32mNone\u001b[0m\u001b[0;34m\u001b[0m\u001b[0;34m\u001b[0m\u001b[0m\n\u001b[0m\u001b[1;32m     68\u001b[0m     \u001b[0;32mfinally\u001b[0m\u001b[0;34m:\u001b[0m\u001b[0;34m\u001b[0m\u001b[0;34m\u001b[0m\u001b[0m\n\u001b[1;32m     69\u001b[0m       \u001b[0;32mdel\u001b[0m \u001b[0mfiltered_tb\u001b[0m\u001b[0;34m\u001b[0m\u001b[0;34m\u001b[0m\u001b[0m\n",
      "\u001b[0;32m~/.local/lib/python3.8/site-packages/tensorflow/python/framework/func_graph.py\u001b[0m in \u001b[0;36mautograph_handler\u001b[0;34m(*args, **kwargs)\u001b[0m\n\u001b[1;32m   1127\u001b[0m           \u001b[0;32mexcept\u001b[0m \u001b[0mException\u001b[0m \u001b[0;32mas\u001b[0m \u001b[0me\u001b[0m\u001b[0;34m:\u001b[0m  \u001b[0;31m# pylint:disable=broad-except\u001b[0m\u001b[0;34m\u001b[0m\u001b[0;34m\u001b[0m\u001b[0m\n\u001b[1;32m   1128\u001b[0m             \u001b[0;32mif\u001b[0m \u001b[0mhasattr\u001b[0m\u001b[0;34m(\u001b[0m\u001b[0me\u001b[0m\u001b[0;34m,\u001b[0m \u001b[0;34m\"ag_error_metadata\"\u001b[0m\u001b[0;34m)\u001b[0m\u001b[0;34m:\u001b[0m\u001b[0;34m\u001b[0m\u001b[0;34m\u001b[0m\u001b[0m\n\u001b[0;32m-> 1129\u001b[0;31m               \u001b[0;32mraise\u001b[0m \u001b[0me\u001b[0m\u001b[0;34m.\u001b[0m\u001b[0mag_error_metadata\u001b[0m\u001b[0;34m.\u001b[0m\u001b[0mto_exception\u001b[0m\u001b[0;34m(\u001b[0m\u001b[0me\u001b[0m\u001b[0;34m)\u001b[0m\u001b[0;34m\u001b[0m\u001b[0;34m\u001b[0m\u001b[0m\n\u001b[0m\u001b[1;32m   1130\u001b[0m             \u001b[0;32melse\u001b[0m\u001b[0;34m:\u001b[0m\u001b[0;34m\u001b[0m\u001b[0;34m\u001b[0m\u001b[0m\n\u001b[1;32m   1131\u001b[0m               \u001b[0;32mraise\u001b[0m\u001b[0;34m\u001b[0m\u001b[0;34m\u001b[0m\u001b[0m\n",
      "\u001b[0;31mValueError\u001b[0m: in user code:\n\n    File \"/home/davide/.local/lib/python3.8/site-packages/keras/engine/training.py\", line 878, in train_function  *\n        return step_function(self, iterator)\n    File \"/home/davide/.local/lib/python3.8/site-packages/keras/engine/training.py\", line 867, in step_function  **\n        outputs = model.distribute_strategy.run(run_step, args=(data,))\n    File \"/home/davide/.local/lib/python3.8/site-packages/keras/engine/training.py\", line 860, in run_step  **\n        outputs = model.train_step(data)\n    File \"/tmp/ipykernel_9230/3332207265.py\", line 34, in train_step\n        self.o.w.assign_add(delta_Wo)\n\n    ValueError: Dimension 0 in both shapes must be equal, but are 14 and 1. Shapes are [14,14] and [1,14]. for '{{node AssignAddVariableOp}} = AssignAddVariableOp[dtype=DT_FLOAT](MQSelfReflexiveNetwork/OutputLayer/MatMul/ReadVariableOp/resource, mul_4)' with input shapes: [], [1,14].\n"
     ]
    }
   ],
   "source": [
    "model.compile()\n",
    "model_history = model.fit(x = input, epochs=200)"
   ]
  },
  {
   "cell_type": "code",
   "execution_count": null,
   "metadata": {},
   "outputs": [
    {
     "data": {
      "text/html": [
       "<div>\n",
       "<style scoped>\n",
       "    .dataframe tbody tr th:only-of-type {\n",
       "        vertical-align: middle;\n",
       "    }\n",
       "\n",
       "    .dataframe tbody tr th {\n",
       "        vertical-align: top;\n",
       "    }\n",
       "\n",
       "    .dataframe thead th {\n",
       "        text-align: right;\n",
       "    }\n",
       "</style>\n",
       "<table border=\"1\" class=\"dataframe\">\n",
       "  <thead>\n",
       "    <tr style=\"text-align: right;\">\n",
       "      <th></th>\n",
       "      <th>Error</th>\n",
       "      <th>Temperature</th>\n",
       "      <th>Hidden weight</th>\n",
       "      <th>Output weight</th>\n",
       "    </tr>\n",
       "  </thead>\n",
       "  <tbody>\n",
       "    <tr>\n",
       "      <th>0</th>\n",
       "      <td>0.004489</td>\n",
       "      <td>0.004469</td>\n",
       "      <td>0.498272</td>\n",
       "      <td>0.583754</td>\n",
       "    </tr>\n",
       "    <tr>\n",
       "      <th>1</th>\n",
       "      <td>0.250000</td>\n",
       "      <td>0.200000</td>\n",
       "      <td>0.498272</td>\n",
       "      <td>0.583754</td>\n",
       "    </tr>\n",
       "    <tr>\n",
       "      <th>2</th>\n",
       "      <td>0.135400</td>\n",
       "      <td>0.119253</td>\n",
       "      <td>0.495420</td>\n",
       "      <td>0.576806</td>\n",
       "    </tr>\n",
       "    <tr>\n",
       "      <th>3</th>\n",
       "      <td>0.217034</td>\n",
       "      <td>0.178330</td>\n",
       "      <td>0.494568</td>\n",
       "      <td>0.575009</td>\n",
       "    </tr>\n",
       "    <tr>\n",
       "      <th>4</th>\n",
       "      <td>0.155215</td>\n",
       "      <td>0.134361</td>\n",
       "      <td>0.492123</td>\n",
       "      <td>0.569271</td>\n",
       "    </tr>\n",
       "    <tr>\n",
       "      <th>...</th>\n",
       "      <td>...</td>\n",
       "      <td>...</td>\n",
       "      <td>...</td>\n",
       "      <td>...</td>\n",
       "    </tr>\n",
       "    <tr>\n",
       "      <th>195</th>\n",
       "      <td>0.000000</td>\n",
       "      <td>0.000000</td>\n",
       "      <td>-0.071070</td>\n",
       "      <td>-0.707804</td>\n",
       "    </tr>\n",
       "    <tr>\n",
       "      <th>196</th>\n",
       "      <td>0.000000</td>\n",
       "      <td>0.000000</td>\n",
       "      <td>-0.071070</td>\n",
       "      <td>-0.707804</td>\n",
       "    </tr>\n",
       "    <tr>\n",
       "      <th>197</th>\n",
       "      <td>0.000000</td>\n",
       "      <td>0.000000</td>\n",
       "      <td>-0.071070</td>\n",
       "      <td>-0.707804</td>\n",
       "    </tr>\n",
       "    <tr>\n",
       "      <th>198</th>\n",
       "      <td>0.000000</td>\n",
       "      <td>0.000000</td>\n",
       "      <td>-0.071070</td>\n",
       "      <td>-0.707804</td>\n",
       "    </tr>\n",
       "    <tr>\n",
       "      <th>199</th>\n",
       "      <td>0.000000</td>\n",
       "      <td>0.000000</td>\n",
       "      <td>-0.071070</td>\n",
       "      <td>-0.707804</td>\n",
       "    </tr>\n",
       "  </tbody>\n",
       "</table>\n",
       "<p>200 rows × 4 columns</p>\n",
       "</div>"
      ],
      "text/plain": [
       "        Error  Temperature  Hidden weight  Output weight\n",
       "0    0.004489     0.004469       0.498272       0.583754\n",
       "1    0.250000     0.200000       0.498272       0.583754\n",
       "2    0.135400     0.119253       0.495420       0.576806\n",
       "3    0.217034     0.178330       0.494568       0.575009\n",
       "4    0.155215     0.134361       0.492123       0.569271\n",
       "..        ...          ...            ...            ...\n",
       "195  0.000000     0.000000      -0.071070      -0.707804\n",
       "196  0.000000     0.000000      -0.071070      -0.707804\n",
       "197  0.000000     0.000000      -0.071070      -0.707804\n",
       "198  0.000000     0.000000      -0.071070      -0.707804\n",
       "199  0.000000     0.000000      -0.071070      -0.707804\n",
       "\n",
       "[200 rows x 4 columns]"
      ]
     },
     "execution_count": 179,
     "metadata": {},
     "output_type": "execute_result"
    }
   ],
   "source": [
    "df_model_history = pd.DataFrame(model_history.history)\n",
    "df_model_history"
   ]
  },
  {
   "cell_type": "code",
   "execution_count": null,
   "metadata": {},
   "outputs": [
    {
     "data": {
      "application/vnd.plotly.v1+json": {
       "config": {
        "plotlyServerURL": "https://plot.ly"
       },
       "data": [
        {
         "hovertemplate": "variable=Error<br>index=%{x}<br>value=%{y}<extra></extra>",
         "legendgroup": "Error",
         "line": {
          "color": "#636efa",
          "dash": "solid"
         },
         "marker": {
          "symbol": "circle"
         },
         "mode": "lines",
         "name": "Error",
         "orientation": "v",
         "showlegend": true,
         "type": "scatter",
         "x": [
          0,
          1,
          2,
          3,
          4,
          5,
          6,
          7,
          8,
          9,
          10,
          11,
          12,
          13,
          14,
          15,
          16,
          17,
          18,
          19,
          20,
          21,
          22,
          23,
          24,
          25,
          26,
          27,
          28,
          29,
          30,
          31,
          32,
          33,
          34,
          35,
          36,
          37,
          38,
          39,
          40,
          41,
          42,
          43,
          44,
          45,
          46,
          47,
          48,
          49,
          50,
          51,
          52,
          53,
          54,
          55,
          56,
          57,
          58,
          59,
          60,
          61,
          62,
          63,
          64,
          65,
          66,
          67,
          68,
          69,
          70,
          71,
          72,
          73,
          74,
          75,
          76,
          77,
          78,
          79,
          80,
          81,
          82,
          83,
          84,
          85,
          86,
          87,
          88,
          89,
          90,
          91,
          92,
          93,
          94,
          95,
          96,
          97,
          98,
          99,
          100,
          101,
          102,
          103,
          104,
          105,
          106,
          107,
          108,
          109,
          110,
          111,
          112,
          113,
          114,
          115,
          116,
          117,
          118,
          119,
          120,
          121,
          122,
          123,
          124,
          125,
          126,
          127,
          128,
          129,
          130,
          131,
          132,
          133,
          134,
          135,
          136,
          137,
          138,
          139,
          140,
          141,
          142,
          143,
          144,
          145,
          146,
          147,
          148,
          149,
          150,
          151,
          152,
          153,
          154,
          155,
          156,
          157,
          158,
          159,
          160,
          161,
          162,
          163,
          164,
          165,
          166,
          167,
          168,
          169,
          170,
          171,
          172,
          173,
          174,
          175,
          176,
          177,
          178,
          179,
          180,
          181,
          182,
          183,
          184,
          185,
          186,
          187,
          188,
          189,
          190,
          191,
          192,
          193,
          194,
          195,
          196,
          197,
          198,
          199
         ],
         "xaxis": "x",
         "y": [
          0.004489160142838955,
          0.25,
          0.1353999823331833,
          0.21703404188156128,
          0.15521542727947235,
          0.20115335285663605,
          0.16534735262393951,
          0.19224709272384644,
          0.1708643138408661,
          0.18689210712909698,
          0.1738521158695221,
          0.18349483609199524,
          0.17538584768772125,
          0.18121488392353058,
          0.17606379091739655,
          0.17958442866802216,
          0.1762295961380005,
          0.17833533883094788,
          0.17608337104320526,
          0.1773112416267395,
          0.17574350535869598,
          0.17641966044902802,
          0.1752801537513733,
          0.17560513317584991,
          0.1747358739376068,
          0.17483384907245636,
          0.17413640022277832,
          0.17408514022827148,
          0.17349734902381897,
          0.1733461618423462,
          0.17282813787460327,
          0.17260853946208954,
          0.17213492095470428,
          0.17186717689037323,
          0.17142105102539062,
          0.17111843824386597,
          0.17068864405155182,
          0.1703600138425827,
          0.16993919014930725,
          0.16959020495414734,
          0.16917316615581512,
          0.16880755126476288,
          0.16839100420475006,
          0.16801123321056366,
          0.1675926297903061,
          0.16720037162303925,
          0.16677799820899963,
          0.16637438535690308,
          0.16594679653644562,
          0.16553251445293427,
          0.16509892046451569,
          0.16467420756816864,
          0.16423377394676208,
          0.1637989580631256,
          0.16335105895996094,
          0.16290631890296936,
          0.16245022416114807,
          0.16199569404125214,
          0.1615309864282608,
          0.16106650233268738,
          0.16059276461601257,
          0.16011832654476166,
          0.1596352607011795,
          0.15915067493915558,
          0.1586579531431198,
          0.1581631600856781,
          0.15766045451164246,
          0.15715529024600983,
          0.15664249658584595,
          0.15612685680389404,
          0.1556035578250885,
          0.1550774723291397,
          0.15454372763633728,
          0.1540069282054901,
          0.15346288681030273,
          0.15291540324687958,
          0.15236112475395203,
          0.151803120970726,
          0.1512387990951538,
          0.15067067742347717,
          0.15009669959545135,
          0.14951898157596588,
          0.14893598854541779,
          0.14834967255592346,
          0.1477588564157486,
          0.14716514945030212,
          0.14656800031661987,
          0.14596889913082123,
          0.14536793529987335,
          0.1447661817073822,
          0.14416462182998657,
          0.14356450736522675,
          0.14296720921993256,
          0.14237453043460846,
          0.14178870618343353,
          0.14121198654174805,
          0.14064788818359375,
          0.14009961485862732,
          0.13957230746746063,
          0.1390707790851593,
          0.13860231637954712,
          0.13817435503005981,
          0.1377975195646286,
          0.13748270273208618,
          0.13724520802497864,
          0.1371011584997177,
          0.13707150518894196,
          0.13717851042747498,
          0.13744814693927765,
          0.1379062980413437,
          0.13857731223106384,
          0.13947755098342896,
          0.14060907065868378,
          0.1419486701488495,
          0.14344191551208496,
          0.1449967920780182,
          0.14649295806884766,
          0.147795170545578,
          0.1487811952829361,
          0.1493569314479828,
          0.14947450160980225,
          0.1491256058216095,
          0.14834071695804596,
          0.14716871082782745,
          0.14567381143569946,
          0.14391900599002838,
          0.14196574687957764,
          0.13986718654632568,
          0.13766908645629883,
          0.13540831208229065,
          0.13311463594436646,
          0.1308109313249588,
          0.12851455807685852,
          0.1262381374835968,
          0.12399045377969742,
          0.12177751958370209,
          0.11960248649120331,
          0.11746686697006226,
          0.11537040770053864,
          0.11331140249967575,
          0.11128716170787811,
          0.10929369181394577,
          0.1073264479637146,
          0.1053793877363205,
          0.10344543308019638,
          0.10151613503694534,
          0.09958137571811676,
          0.09762875735759735,
          0.09564275294542313,
          0.09360404312610626,
          0.09148699790239334,
          0.0892578586935997,
          0.08686995506286621,
          0.08425752073526382,
          0.08132374286651611,
          0.07792133092880249,
          0.07381565868854523,
          0.06861446797847748,
          0.061626940965652466,
          0.051578667014837265,
          0.036157846450805664,
          0.013319585472345352,
          0.000019943534425692633,
          0,
          0,
          0,
          0,
          0,
          0,
          0,
          0,
          0,
          0,
          0,
          0,
          0,
          0,
          0,
          0,
          0,
          0,
          0,
          0,
          0,
          0,
          0,
          0,
          0,
          0,
          0,
          0,
          0,
          0,
          0,
          0,
          0,
          0,
          0,
          0,
          0
         ],
         "yaxis": "y"
        },
        {
         "hovertemplate": "variable=Temperature<br>index=%{x}<br>value=%{y}<extra></extra>",
         "legendgroup": "Temperature",
         "line": {
          "color": "#EF553B",
          "dash": "solid"
         },
         "marker": {
          "symbol": "circle"
         },
         "mode": "lines",
         "name": "Temperature",
         "orientation": "v",
         "showlegend": true,
         "type": "scatter",
         "x": [
          0,
          1,
          2,
          3,
          4,
          5,
          6,
          7,
          8,
          9,
          10,
          11,
          12,
          13,
          14,
          15,
          16,
          17,
          18,
          19,
          20,
          21,
          22,
          23,
          24,
          25,
          26,
          27,
          28,
          29,
          30,
          31,
          32,
          33,
          34,
          35,
          36,
          37,
          38,
          39,
          40,
          41,
          42,
          43,
          44,
          45,
          46,
          47,
          48,
          49,
          50,
          51,
          52,
          53,
          54,
          55,
          56,
          57,
          58,
          59,
          60,
          61,
          62,
          63,
          64,
          65,
          66,
          67,
          68,
          69,
          70,
          71,
          72,
          73,
          74,
          75,
          76,
          77,
          78,
          79,
          80,
          81,
          82,
          83,
          84,
          85,
          86,
          87,
          88,
          89,
          90,
          91,
          92,
          93,
          94,
          95,
          96,
          97,
          98,
          99,
          100,
          101,
          102,
          103,
          104,
          105,
          106,
          107,
          108,
          109,
          110,
          111,
          112,
          113,
          114,
          115,
          116,
          117,
          118,
          119,
          120,
          121,
          122,
          123,
          124,
          125,
          126,
          127,
          128,
          129,
          130,
          131,
          132,
          133,
          134,
          135,
          136,
          137,
          138,
          139,
          140,
          141,
          142,
          143,
          144,
          145,
          146,
          147,
          148,
          149,
          150,
          151,
          152,
          153,
          154,
          155,
          156,
          157,
          158,
          159,
          160,
          161,
          162,
          163,
          164,
          165,
          166,
          167,
          168,
          169,
          170,
          171,
          172,
          173,
          174,
          175,
          176,
          177,
          178,
          179,
          180,
          181,
          182,
          183,
          184,
          185,
          186,
          187,
          188,
          189,
          190,
          191,
          192,
          193,
          194,
          195,
          196,
          197,
          198,
          199
         ],
         "xaxis": "x",
         "y": [
          0.004469096660614014,
          0.19999998807907104,
          0.11925309896469116,
          0.17833036184310913,
          0.13436055183410645,
          0.1674668788909912,
          0.14188677072525024,
          0.16124773025512695,
          0.14593011140823364,
          0.15746349096298218,
          0.14810389280319214,
          0.15504485368728638,
          0.14921551942825317,
          0.15341401100158691,
          0.14970600605010986,
          0.15224379301071167,
          0.14982587099075317,
          0.1513451337814331,
          0.14972013235092163,
          0.15060687065124512,
          0.14947432279586792,
          0.14996320009231567,
          0.14913898706436157,
          0.14937430620193481,
          0.14874482154846191,
          0.14881587028503418,
          0.14831018447875977,
          0.14827299118041992,
          0.14784634113311768,
          0.14773660898208618,
          0.1473602056503296,
          0.14720046520233154,
          0.14685583114624023,
          0.1466609239578247,
          0.14633595943450928,
          0.14611542224884033,
          0.14580190181732178,
          0.1455620527267456,
          0.14525467157363892,
          0.1449996829032898,
          0.14469468593597412,
          0.1444271206855774,
          0.14412212371826172,
          0.14384382963180542,
          0.14353692531585693,
          0.1432490348815918,
          0.14293891191482544,
          0.14264237880706787,
          0.14232796430587769,
          0.1420230269432068,
          0.1417037844657898,
          0.14139074087142944,
          0.14106601476669312,
          0.14074504375457764,
          0.14041423797607422,
          0.14008545875549316,
          0.13974809646606445,
          0.1394115686416626,
          0.13906729221343994,
          0.13872289657592773,
          0.13837134838104248,
          0.13801896572113037,
          0.13765990734100342,
          0.13729941844940186,
          0.13693249225616455,
          0.13656383752822876,
          0.13618886470794678,
          0.13581174612045288,
          0.1354285478591919,
          0.13504302501678467,
          0.1346513032913208,
          0.13425719738006592,
          0.13385701179504395,
          0.1334540843963623,
          0.13304537534713745,
          0.13263362646102905,
          0.13221651315689087,
          0.13179606199264526,
          0.13137048482894897,
          0.13094156980514526,
          0.13050788640975952,
          0.13007092475891113,
          0.12962955236434937,
          0.12918508052825928,
          0.12873685359954834,
          0.1282859444618225,
          0.12783199548721313,
          0.12737596035003662,
          0.12691813707351685,
          0.12645918130874634,
          0.12599986791610718,
          0.12554121017456055,
          0.1250842809677124,
          0.12463033199310303,
          0.12418121099472046,
          0.12373858690261841,
          0.12330526113510132,
          0.12288367748260498,
          0.12247776985168457,
          0.12209141254425049,
          0.12173020839691162,
          0.12139993906021118,
          0.12110894918441772,
          0.12086570262908936,
          0.12068212032318115,
          0.12057077884674072,
          0.1205478310585022,
          0.12063062191009521,
          0.12083905935287476,
          0.1211930513381958,
          0.12171095609664917,
          0.12240475416183472,
          0.12327539920806885,
          0.12430393695831299,
          0.12544751167297363,
          0.12663507461547852,
          0.12777483463287354,
          0.12876445055007935,
          0.12951219081878662,
          0.12994825839996338,
          0.13003724813461304,
          0.1297730803489685,
          0.12917828559875488,
          0.12828868627548218,
          0.12715119123458862,
          0.12581223249435425,
          0.1243169903755188,
          0.12270480394363403,
          0.12100976705551147,
          0.1192595362663269,
          0.1174767017364502,
          0.11567890644073486,
          0.11387938261032104,
          0.11208832263946533,
          0.11031270027160645,
          0.10855764150619507,
          0.1068258285522461,
          0.10511893033981323,
          0.10343682765960693,
          0.10177874565124512,
          0.10014253854751587,
          0.09852546453475952,
          0.09692400693893433,
          0.09533321857452393,
          0.09374767541885376,
          0.09216034412384033,
          0.09056299924850464,
          0.08894509077072144,
          0.08729380369186401,
          0.08559226989746094,
          0.08381873369216919,
          0.08194369077682495,
          0.07992672920227051,
          0.0777098536491394,
          0.07520759105682373,
          0.07228857278823853,
          0.06874150037765503,
          0.06420880556106567,
          0.05804949998855591,
          0.049048781394958496,
          0.03489607572555542,
          0.01314455270767212,
          0.00001990795135498047,
          0,
          0,
          0,
          0,
          0,
          0,
          0,
          0,
          0,
          0,
          0,
          0,
          0,
          0,
          0,
          0,
          0,
          0,
          0,
          0,
          0,
          0,
          0,
          0,
          0,
          0,
          0,
          0,
          0,
          0,
          0,
          0,
          0,
          0,
          0,
          0,
          0
         ],
         "yaxis": "y"
        },
        {
         "hovertemplate": "variable=Hidden weight<br>index=%{x}<br>value=%{y}<extra></extra>",
         "legendgroup": "Hidden weight",
         "line": {
          "color": "#00cc96",
          "dash": "solid"
         },
         "marker": {
          "symbol": "circle"
         },
         "mode": "lines",
         "name": "Hidden weight",
         "orientation": "v",
         "showlegend": true,
         "type": "scatter",
         "x": [
          0,
          1,
          2,
          3,
          4,
          5,
          6,
          7,
          8,
          9,
          10,
          11,
          12,
          13,
          14,
          15,
          16,
          17,
          18,
          19,
          20,
          21,
          22,
          23,
          24,
          25,
          26,
          27,
          28,
          29,
          30,
          31,
          32,
          33,
          34,
          35,
          36,
          37,
          38,
          39,
          40,
          41,
          42,
          43,
          44,
          45,
          46,
          47,
          48,
          49,
          50,
          51,
          52,
          53,
          54,
          55,
          56,
          57,
          58,
          59,
          60,
          61,
          62,
          63,
          64,
          65,
          66,
          67,
          68,
          69,
          70,
          71,
          72,
          73,
          74,
          75,
          76,
          77,
          78,
          79,
          80,
          81,
          82,
          83,
          84,
          85,
          86,
          87,
          88,
          89,
          90,
          91,
          92,
          93,
          94,
          95,
          96,
          97,
          98,
          99,
          100,
          101,
          102,
          103,
          104,
          105,
          106,
          107,
          108,
          109,
          110,
          111,
          112,
          113,
          114,
          115,
          116,
          117,
          118,
          119,
          120,
          121,
          122,
          123,
          124,
          125,
          126,
          127,
          128,
          129,
          130,
          131,
          132,
          133,
          134,
          135,
          136,
          137,
          138,
          139,
          140,
          141,
          142,
          143,
          144,
          145,
          146,
          147,
          148,
          149,
          150,
          151,
          152,
          153,
          154,
          155,
          156,
          157,
          158,
          159,
          160,
          161,
          162,
          163,
          164,
          165,
          166,
          167,
          168,
          169,
          170,
          171,
          172,
          173,
          174,
          175,
          176,
          177,
          178,
          179,
          180,
          181,
          182,
          183,
          184,
          185,
          186,
          187,
          188,
          189,
          190,
          191,
          192,
          193,
          194,
          195,
          196,
          197,
          198,
          199
         ],
         "xaxis": "x",
         "y": [
          0.498271644115448,
          0.498271644115448,
          0.49542009830474854,
          0.4945683777332306,
          0.49212315678596497,
          0.490831583738327,
          0.4886128306388855,
          0.48707497119903564,
          0.484981507062912,
          0.483294278383255,
          0.4812663197517395,
          0.47948184609413147,
          0.4774835407733917,
          0.4756309390068054,
          0.4736405611038208,
          0.4717364013195038,
          0.4697405695915222,
          0.4677943289279938,
          0.46578463912010193,
          0.46380165219306946,
          0.4617726504802704,
          0.4597558081150055,
          0.45770373940467834,
          0.45565444231033325,
          0.4535766541957855,
          0.4514954686164856,
          0.44938990473747253,
          0.4472767114639282,
          0.4451417028903961,
          0.442996084690094,
          0.4408300817012787,
          0.43865132331848145,
          0.4364529550075531,
          0.4342401623725891,
          0.4320080280303955,
          0.4297601282596588,
          0.4274928867816925,
          0.42520871758461,
          0.422904908657074,
          0.4205831289291382,
          0.4182412922382355,
          0.4158804714679718,
          0.41349902749061584,
          0.41109761595726013,
          0.4086748957633972,
          0.40623122453689575,
          0.403765469789505,
          0.4012777507305145,
          0.39876702427864075,
          0.39623329043388367,
          0.3936755657196045,
          0.3910936713218689,
          0.38848674297332764,
          0.38585442304611206,
          0.3831958472728729,
          0.3805105984210968,
          0.37779778242111206,
          0.3750568628311157,
          0.37228694558143616,
          0.3694874048233032,
          0.3666572868824005,
          0.36379584670066833,
          0.3609020709991455,
          0.3579751253128052,
          0.355013906955719,
          0.35201746225357056,
          0.34898462891578674,
          0.3459143042564392,
          0.3428051769733429,
          0.3396560549736023,
          0.336465448141098,
          0.33323198556900024,
          0.3299540579319,
          0.3266300857067108,
          0.32325825095176697,
          0.3198367655277252,
          0.3163635730743408,
          0.31283655762672424,
          0.30925342440605164,
          0.3056117594242096,
          0.3019089102745056,
          0.29814204573631287,
          0.2943080961704254,
          0.2904037833213806,
          0.28642547130584717,
          0.28236931562423706,
          0.27823105454444885,
          0.27400609850883484,
          0.2696893513202667,
          0.2652752995491028,
          0.26075783371925354,
          0.25613024830818176,
          0.2513850927352905,
          0.24651411175727844,
          0.24150815606117249,
          0.23635698854923248,
          0.23104916512966156,
          0.22557182610034943,
          0.21991050243377686,
          0.21404889225959778,
          0.2079685479402542,
          0.20164859294891357,
          0.19506537914276123,
          0.18819217383861542,
          0.18099884688854218,
          0.17345169186592102,
          0.16551347076892853,
          0.15714387595653534,
          0.14830084145069122,
          0.13894301652908325,
          0.12903422117233276,
          0.11855053901672363,
          0.1074904054403305,
          0.09588739275932312,
          0.08382324874401093,
          0.07143671810626984,
          0.05892215296626091,
          0.04651400074362755,
          0.034458618611097336,
          0.022981639951467514,
          0.01226111501455307,
          0.0024135513231158257,
          -0.0065062884241342545,
          -0.01449601724743843,
          -0.021591654047369957,
          -0.02785392664372921,
          -0.03335655853152275,
          -0.038177862763404846,
          -0.04239499196410179,
          -0.046080633997917175,
          -0.04930117353796959,
          -0.05211605504155159,
          -0.05457778647542,
          -0.05673227831721306,
          -0.058619461953639984,
          -0.060273874551057816,
          -0.061725370585918427,
          -0.0629996582865715,
          -0.06411893665790558,
          -0.06510231643915176,
          -0.06596629321575165,
          -0.06672511994838715,
          -0.06739109009504318,
          -0.06797488778829575,
          -0.06848572194576263,
          -0.06893162429332733,
          -0.06931953877210617,
          -0.06965553015470505,
          -0.0699448511004448,
          -0.07019209861755371,
          -0.07040127366781235,
          -0.07057588547468185,
          -0.07071901112794876,
          -0.07083341479301453,
          -0.0709216445684433,
          -0.07098616659641266,
          -0.07102961838245392,
          -0.07105514407157898,
          -0.07106684893369675,
          -0.07107006758451462,
          -0.07107031345367432,
          -0.07107031345367432,
          -0.07107031345367432,
          -0.07107031345367432,
          -0.07107031345367432,
          -0.07107031345367432,
          -0.07107031345367432,
          -0.07107031345367432,
          -0.07107031345367432,
          -0.07107031345367432,
          -0.07107031345367432,
          -0.07107031345367432,
          -0.07107031345367432,
          -0.07107031345367432,
          -0.07107031345367432,
          -0.07107031345367432,
          -0.07107031345367432,
          -0.07107031345367432,
          -0.07107031345367432,
          -0.07107031345367432,
          -0.07107031345367432,
          -0.07107031345367432,
          -0.07107031345367432,
          -0.07107031345367432,
          -0.07107031345367432,
          -0.07107031345367432,
          -0.07107031345367432,
          -0.07107031345367432,
          -0.07107031345367432,
          -0.07107031345367432,
          -0.07107031345367432,
          -0.07107031345367432,
          -0.07107031345367432,
          -0.07107031345367432,
          -0.07107031345367432,
          -0.07107031345367432,
          -0.07107031345367432,
          -0.07107031345367432,
          -0.07107031345367432,
          -0.07107031345367432
         ],
         "yaxis": "y"
        },
        {
         "hovertemplate": "variable=Output weight<br>index=%{x}<br>value=%{y}<extra></extra>",
         "legendgroup": "Output weight",
         "line": {
          "color": "#ab63fa",
          "dash": "solid"
         },
         "marker": {
          "symbol": "circle"
         },
         "mode": "lines",
         "name": "Output weight",
         "orientation": "v",
         "showlegend": true,
         "type": "scatter",
         "x": [
          0,
          1,
          2,
          3,
          4,
          5,
          6,
          7,
          8,
          9,
          10,
          11,
          12,
          13,
          14,
          15,
          16,
          17,
          18,
          19,
          20,
          21,
          22,
          23,
          24,
          25,
          26,
          27,
          28,
          29,
          30,
          31,
          32,
          33,
          34,
          35,
          36,
          37,
          38,
          39,
          40,
          41,
          42,
          43,
          44,
          45,
          46,
          47,
          48,
          49,
          50,
          51,
          52,
          53,
          54,
          55,
          56,
          57,
          58,
          59,
          60,
          61,
          62,
          63,
          64,
          65,
          66,
          67,
          68,
          69,
          70,
          71,
          72,
          73,
          74,
          75,
          76,
          77,
          78,
          79,
          80,
          81,
          82,
          83,
          84,
          85,
          86,
          87,
          88,
          89,
          90,
          91,
          92,
          93,
          94,
          95,
          96,
          97,
          98,
          99,
          100,
          101,
          102,
          103,
          104,
          105,
          106,
          107,
          108,
          109,
          110,
          111,
          112,
          113,
          114,
          115,
          116,
          117,
          118,
          119,
          120,
          121,
          122,
          123,
          124,
          125,
          126,
          127,
          128,
          129,
          130,
          131,
          132,
          133,
          134,
          135,
          136,
          137,
          138,
          139,
          140,
          141,
          142,
          143,
          144,
          145,
          146,
          147,
          148,
          149,
          150,
          151,
          152,
          153,
          154,
          155,
          156,
          157,
          158,
          159,
          160,
          161,
          162,
          163,
          164,
          165,
          166,
          167,
          168,
          169,
          170,
          171,
          172,
          173,
          174,
          175,
          176,
          177,
          178,
          179,
          180,
          181,
          182,
          183,
          184,
          185,
          186,
          187,
          188,
          189,
          190,
          191,
          192,
          193,
          194,
          195,
          196,
          197,
          198,
          199
         ],
         "xaxis": "x",
         "y": [
          0.5837538838386536,
          0.5837538838386536,
          0.5768064856529236,
          0.5750091671943665,
          0.5692711472511292,
          0.5664735436439514,
          0.5613625645637512,
          0.5579817891120911,
          0.5532073974609375,
          0.549465000629425,
          0.544865071773529,
          0.5408846735954285,
          0.5363650918006897,
          0.5322173833847046,
          0.5277219414710999,
          0.5234477519989014,
          0.5189422965049744,
          0.5145651698112488,
          0.5100283026695251,
          0.5055616497993469,
          0.5009796023368835,
          0.4964308440685272,
          0.4917941987514496,
          0.48716700077056885,
          0.4824690818786621,
          0.47776487469673157,
          0.47300058603286743,
          0.4682193100452423,
          0.4633844494819641,
          0.4585250914096832,
          0.4536159634590149,
          0.4486768841743469,
          0.44369009137153625,
          0.4386691451072693,
          0.43360134959220886,
          0.42849603295326233,
          0.4233438968658447,
          0.4181513786315918,
          0.4129115045070648,
          0.4076286554336548,
          0.4022974967956543,
          0.39692094922065735,
          0.3914947807788849,
          0.38602083921432495,
          0.38049569725990295,
          0.37492042779922485,
          0.36929211020469666,
          0.36361125111579895,
          0.3578752875328064,
          0.352084219455719,
          0.3462357521057129,
          0.34032952785491943,
          0.3343634009361267,
          0.3283366560935974,
          0.3222472369670868,
          0.31609416007995605,
          0.30987536907196045,
          0.3035896420478821,
          0.2972348928451538,
          0.29080966114997864,
          0.2843117415904999,
          0.2777394652366638,
          0.2710905075073242,
          0.26436299085617065,
          0.25755438208580017,
          0.25066253542900085,
          0.2436847686767578,
          0.23661863803863525,
          0.2294611930847168,
          0.22220969200134277,
          0.21486088633537292,
          0.20741170644760132,
          0.19985851645469666,
          0.19219785928726196,
          0.1844256967306137,
          0.17653806507587433,
          0.16853046417236328,
          0.16039834916591644,
          0.1521366536617279,
          0.14374014735221863,
          0.1352030634880066,
          0.12651938199996948,
          0.11768247932195663,
          0.10868535190820694,
          0.09952034801244736,
          0.09017927944660187,
          0.08065319061279297,
          0.07093244791030884,
          0.06100650876760483,
          0.05086389556527138,
          0.04049206152558327,
          0.02987724542617798,
          0.019004318863153458,
          0.007856608368456364,
          -0.00358428992331028,
          -0.015338800847530365,
          -0.027429580688476562,
          -0.03988191485404968,
          -0.05272398144006729,
          -0.06598735600709915,
          -0.07970739156007767,
          -0.09392378479242325,
          -0.10868100076913834,
          -0.12402889132499695,
          -0.14002296328544617,
          -0.15672467648983002,
          -0.1742010861635208,
          -0.19252385199069977,
          -0.21176674962043762,
          -0.2320011556148529,
          -0.253288209438324,
          -0.27566686272621155,
          -0.299136757850647,
          -0.32363706827163696,
          -0.3490246832370758,
          -0.375058650970459,
          -0.40140050649642944,
          -0.4276368021965027,
          -0.4533226490020752,
          -0.4780353307723999,
          -0.5014214515686035,
          -0.5232262015342712,
          -0.5433003902435303,
          -0.561590850353241,
          -0.5781204104423523,
          -0.5929661393165588,
          -0.6062387824058533,
          -0.6180670261383057,
          -0.6285852789878845,
          -0.6379262208938599,
          -0.6462156772613525,
          -0.6535700559616089,
          -0.66009521484375,
          -0.6658860445022583,
          -0.6710270643234253,
          -0.6755930185317993,
          -0.679649829864502,
          -0.6832553148269653,
          -0.6864601969718933,
          -0.6893090009689331,
          -0.6918405890464783,
          -0.6940891742706299,
          -0.6960845589637756,
          -0.6978530287742615,
          -0.6994174718856812,
          -0.7007980942726135,
          -0.7020124793052673,
          -0.7030761241912842,
          -0.7040026187896729,
          -0.7048038840293884,
          -0.7054902911186218,
          -0.7060709595680237,
          -0.7065538763999939,
          -0.7069461941719055,
          -0.7072544097900391,
          -0.7074849009513855,
          -0.7076444625854492,
          -0.7077417373657227,
          -0.70778888463974,
          -0.7078030705451965,
          -0.7078043818473816,
          -0.7078043818473816,
          -0.7078043818473816,
          -0.7078043818473816,
          -0.7078043818473816,
          -0.7078043818473816,
          -0.7078043818473816,
          -0.7078043818473816,
          -0.7078043818473816,
          -0.7078043818473816,
          -0.7078043818473816,
          -0.7078043818473816,
          -0.7078043818473816,
          -0.7078043818473816,
          -0.7078043818473816,
          -0.7078043818473816,
          -0.7078043818473816,
          -0.7078043818473816,
          -0.7078043818473816,
          -0.7078043818473816,
          -0.7078043818473816,
          -0.7078043818473816,
          -0.7078043818473816,
          -0.7078043818473816,
          -0.7078043818473816,
          -0.7078043818473816,
          -0.7078043818473816,
          -0.7078043818473816,
          -0.7078043818473816,
          -0.7078043818473816,
          -0.7078043818473816,
          -0.7078043818473816,
          -0.7078043818473816,
          -0.7078043818473816,
          -0.7078043818473816,
          -0.7078043818473816,
          -0.7078043818473816,
          -0.7078043818473816,
          -0.7078043818473816,
          -0.7078043818473816
         ],
         "yaxis": "y"
        }
       ],
       "layout": {
        "hovermode": "x unified",
        "legend": {
         "title": {
          "text": "variable"
         },
         "tracegroupgap": 0
        },
        "margin": {
         "t": 60
        },
        "template": {
         "data": {
          "bar": [
           {
            "error_x": {
             "color": "#2a3f5f"
            },
            "error_y": {
             "color": "#2a3f5f"
            },
            "marker": {
             "line": {
              "color": "#E5ECF6",
              "width": 0.5
             },
             "pattern": {
              "fillmode": "overlay",
              "size": 10,
              "solidity": 0.2
             }
            },
            "type": "bar"
           }
          ],
          "barpolar": [
           {
            "marker": {
             "line": {
              "color": "#E5ECF6",
              "width": 0.5
             },
             "pattern": {
              "fillmode": "overlay",
              "size": 10,
              "solidity": 0.2
             }
            },
            "type": "barpolar"
           }
          ],
          "carpet": [
           {
            "aaxis": {
             "endlinecolor": "#2a3f5f",
             "gridcolor": "white",
             "linecolor": "white",
             "minorgridcolor": "white",
             "startlinecolor": "#2a3f5f"
            },
            "baxis": {
             "endlinecolor": "#2a3f5f",
             "gridcolor": "white",
             "linecolor": "white",
             "minorgridcolor": "white",
             "startlinecolor": "#2a3f5f"
            },
            "type": "carpet"
           }
          ],
          "choropleth": [
           {
            "colorbar": {
             "outlinewidth": 0,
             "ticks": ""
            },
            "type": "choropleth"
           }
          ],
          "contour": [
           {
            "colorbar": {
             "outlinewidth": 0,
             "ticks": ""
            },
            "colorscale": [
             [
              0,
              "#0d0887"
             ],
             [
              0.1111111111111111,
              "#46039f"
             ],
             [
              0.2222222222222222,
              "#7201a8"
             ],
             [
              0.3333333333333333,
              "#9c179e"
             ],
             [
              0.4444444444444444,
              "#bd3786"
             ],
             [
              0.5555555555555556,
              "#d8576b"
             ],
             [
              0.6666666666666666,
              "#ed7953"
             ],
             [
              0.7777777777777778,
              "#fb9f3a"
             ],
             [
              0.8888888888888888,
              "#fdca26"
             ],
             [
              1,
              "#f0f921"
             ]
            ],
            "type": "contour"
           }
          ],
          "contourcarpet": [
           {
            "colorbar": {
             "outlinewidth": 0,
             "ticks": ""
            },
            "type": "contourcarpet"
           }
          ],
          "heatmap": [
           {
            "colorbar": {
             "outlinewidth": 0,
             "ticks": ""
            },
            "colorscale": [
             [
              0,
              "#0d0887"
             ],
             [
              0.1111111111111111,
              "#46039f"
             ],
             [
              0.2222222222222222,
              "#7201a8"
             ],
             [
              0.3333333333333333,
              "#9c179e"
             ],
             [
              0.4444444444444444,
              "#bd3786"
             ],
             [
              0.5555555555555556,
              "#d8576b"
             ],
             [
              0.6666666666666666,
              "#ed7953"
             ],
             [
              0.7777777777777778,
              "#fb9f3a"
             ],
             [
              0.8888888888888888,
              "#fdca26"
             ],
             [
              1,
              "#f0f921"
             ]
            ],
            "type": "heatmap"
           }
          ],
          "heatmapgl": [
           {
            "colorbar": {
             "outlinewidth": 0,
             "ticks": ""
            },
            "colorscale": [
             [
              0,
              "#0d0887"
             ],
             [
              0.1111111111111111,
              "#46039f"
             ],
             [
              0.2222222222222222,
              "#7201a8"
             ],
             [
              0.3333333333333333,
              "#9c179e"
             ],
             [
              0.4444444444444444,
              "#bd3786"
             ],
             [
              0.5555555555555556,
              "#d8576b"
             ],
             [
              0.6666666666666666,
              "#ed7953"
             ],
             [
              0.7777777777777778,
              "#fb9f3a"
             ],
             [
              0.8888888888888888,
              "#fdca26"
             ],
             [
              1,
              "#f0f921"
             ]
            ],
            "type": "heatmapgl"
           }
          ],
          "histogram": [
           {
            "marker": {
             "pattern": {
              "fillmode": "overlay",
              "size": 10,
              "solidity": 0.2
             }
            },
            "type": "histogram"
           }
          ],
          "histogram2d": [
           {
            "colorbar": {
             "outlinewidth": 0,
             "ticks": ""
            },
            "colorscale": [
             [
              0,
              "#0d0887"
             ],
             [
              0.1111111111111111,
              "#46039f"
             ],
             [
              0.2222222222222222,
              "#7201a8"
             ],
             [
              0.3333333333333333,
              "#9c179e"
             ],
             [
              0.4444444444444444,
              "#bd3786"
             ],
             [
              0.5555555555555556,
              "#d8576b"
             ],
             [
              0.6666666666666666,
              "#ed7953"
             ],
             [
              0.7777777777777778,
              "#fb9f3a"
             ],
             [
              0.8888888888888888,
              "#fdca26"
             ],
             [
              1,
              "#f0f921"
             ]
            ],
            "type": "histogram2d"
           }
          ],
          "histogram2dcontour": [
           {
            "colorbar": {
             "outlinewidth": 0,
             "ticks": ""
            },
            "colorscale": [
             [
              0,
              "#0d0887"
             ],
             [
              0.1111111111111111,
              "#46039f"
             ],
             [
              0.2222222222222222,
              "#7201a8"
             ],
             [
              0.3333333333333333,
              "#9c179e"
             ],
             [
              0.4444444444444444,
              "#bd3786"
             ],
             [
              0.5555555555555556,
              "#d8576b"
             ],
             [
              0.6666666666666666,
              "#ed7953"
             ],
             [
              0.7777777777777778,
              "#fb9f3a"
             ],
             [
              0.8888888888888888,
              "#fdca26"
             ],
             [
              1,
              "#f0f921"
             ]
            ],
            "type": "histogram2dcontour"
           }
          ],
          "mesh3d": [
           {
            "colorbar": {
             "outlinewidth": 0,
             "ticks": ""
            },
            "type": "mesh3d"
           }
          ],
          "parcoords": [
           {
            "line": {
             "colorbar": {
              "outlinewidth": 0,
              "ticks": ""
             }
            },
            "type": "parcoords"
           }
          ],
          "pie": [
           {
            "automargin": true,
            "type": "pie"
           }
          ],
          "scatter": [
           {
            "marker": {
             "colorbar": {
              "outlinewidth": 0,
              "ticks": ""
             }
            },
            "type": "scatter"
           }
          ],
          "scatter3d": [
           {
            "line": {
             "colorbar": {
              "outlinewidth": 0,
              "ticks": ""
             }
            },
            "marker": {
             "colorbar": {
              "outlinewidth": 0,
              "ticks": ""
             }
            },
            "type": "scatter3d"
           }
          ],
          "scattercarpet": [
           {
            "marker": {
             "colorbar": {
              "outlinewidth": 0,
              "ticks": ""
             }
            },
            "type": "scattercarpet"
           }
          ],
          "scattergeo": [
           {
            "marker": {
             "colorbar": {
              "outlinewidth": 0,
              "ticks": ""
             }
            },
            "type": "scattergeo"
           }
          ],
          "scattergl": [
           {
            "marker": {
             "colorbar": {
              "outlinewidth": 0,
              "ticks": ""
             }
            },
            "type": "scattergl"
           }
          ],
          "scattermapbox": [
           {
            "marker": {
             "colorbar": {
              "outlinewidth": 0,
              "ticks": ""
             }
            },
            "type": "scattermapbox"
           }
          ],
          "scatterpolar": [
           {
            "marker": {
             "colorbar": {
              "outlinewidth": 0,
              "ticks": ""
             }
            },
            "type": "scatterpolar"
           }
          ],
          "scatterpolargl": [
           {
            "marker": {
             "colorbar": {
              "outlinewidth": 0,
              "ticks": ""
             }
            },
            "type": "scatterpolargl"
           }
          ],
          "scatterternary": [
           {
            "marker": {
             "colorbar": {
              "outlinewidth": 0,
              "ticks": ""
             }
            },
            "type": "scatterternary"
           }
          ],
          "surface": [
           {
            "colorbar": {
             "outlinewidth": 0,
             "ticks": ""
            },
            "colorscale": [
             [
              0,
              "#0d0887"
             ],
             [
              0.1111111111111111,
              "#46039f"
             ],
             [
              0.2222222222222222,
              "#7201a8"
             ],
             [
              0.3333333333333333,
              "#9c179e"
             ],
             [
              0.4444444444444444,
              "#bd3786"
             ],
             [
              0.5555555555555556,
              "#d8576b"
             ],
             [
              0.6666666666666666,
              "#ed7953"
             ],
             [
              0.7777777777777778,
              "#fb9f3a"
             ],
             [
              0.8888888888888888,
              "#fdca26"
             ],
             [
              1,
              "#f0f921"
             ]
            ],
            "type": "surface"
           }
          ],
          "table": [
           {
            "cells": {
             "fill": {
              "color": "#EBF0F8"
             },
             "line": {
              "color": "white"
             }
            },
            "header": {
             "fill": {
              "color": "#C8D4E3"
             },
             "line": {
              "color": "white"
             }
            },
            "type": "table"
           }
          ]
         },
         "layout": {
          "annotationdefaults": {
           "arrowcolor": "#2a3f5f",
           "arrowhead": 0,
           "arrowwidth": 1
          },
          "autotypenumbers": "strict",
          "coloraxis": {
           "colorbar": {
            "outlinewidth": 0,
            "ticks": ""
           }
          },
          "colorscale": {
           "diverging": [
            [
             0,
             "#8e0152"
            ],
            [
             0.1,
             "#c51b7d"
            ],
            [
             0.2,
             "#de77ae"
            ],
            [
             0.3,
             "#f1b6da"
            ],
            [
             0.4,
             "#fde0ef"
            ],
            [
             0.5,
             "#f7f7f7"
            ],
            [
             0.6,
             "#e6f5d0"
            ],
            [
             0.7,
             "#b8e186"
            ],
            [
             0.8,
             "#7fbc41"
            ],
            [
             0.9,
             "#4d9221"
            ],
            [
             1,
             "#276419"
            ]
           ],
           "sequential": [
            [
             0,
             "#0d0887"
            ],
            [
             0.1111111111111111,
             "#46039f"
            ],
            [
             0.2222222222222222,
             "#7201a8"
            ],
            [
             0.3333333333333333,
             "#9c179e"
            ],
            [
             0.4444444444444444,
             "#bd3786"
            ],
            [
             0.5555555555555556,
             "#d8576b"
            ],
            [
             0.6666666666666666,
             "#ed7953"
            ],
            [
             0.7777777777777778,
             "#fb9f3a"
            ],
            [
             0.8888888888888888,
             "#fdca26"
            ],
            [
             1,
             "#f0f921"
            ]
           ],
           "sequentialminus": [
            [
             0,
             "#0d0887"
            ],
            [
             0.1111111111111111,
             "#46039f"
            ],
            [
             0.2222222222222222,
             "#7201a8"
            ],
            [
             0.3333333333333333,
             "#9c179e"
            ],
            [
             0.4444444444444444,
             "#bd3786"
            ],
            [
             0.5555555555555556,
             "#d8576b"
            ],
            [
             0.6666666666666666,
             "#ed7953"
            ],
            [
             0.7777777777777778,
             "#fb9f3a"
            ],
            [
             0.8888888888888888,
             "#fdca26"
            ],
            [
             1,
             "#f0f921"
            ]
           ]
          },
          "colorway": [
           "#636efa",
           "#EF553B",
           "#00cc96",
           "#ab63fa",
           "#FFA15A",
           "#19d3f3",
           "#FF6692",
           "#B6E880",
           "#FF97FF",
           "#FECB52"
          ],
          "font": {
           "color": "#2a3f5f"
          },
          "geo": {
           "bgcolor": "white",
           "lakecolor": "white",
           "landcolor": "#E5ECF6",
           "showlakes": true,
           "showland": true,
           "subunitcolor": "white"
          },
          "hoverlabel": {
           "align": "left"
          },
          "hovermode": "closest",
          "mapbox": {
           "style": "light"
          },
          "paper_bgcolor": "white",
          "plot_bgcolor": "#E5ECF6",
          "polar": {
           "angularaxis": {
            "gridcolor": "white",
            "linecolor": "white",
            "ticks": ""
           },
           "bgcolor": "#E5ECF6",
           "radialaxis": {
            "gridcolor": "white",
            "linecolor": "white",
            "ticks": ""
           }
          },
          "scene": {
           "xaxis": {
            "backgroundcolor": "#E5ECF6",
            "gridcolor": "white",
            "gridwidth": 2,
            "linecolor": "white",
            "showbackground": true,
            "ticks": "",
            "zerolinecolor": "white"
           },
           "yaxis": {
            "backgroundcolor": "#E5ECF6",
            "gridcolor": "white",
            "gridwidth": 2,
            "linecolor": "white",
            "showbackground": true,
            "ticks": "",
            "zerolinecolor": "white"
           },
           "zaxis": {
            "backgroundcolor": "#E5ECF6",
            "gridcolor": "white",
            "gridwidth": 2,
            "linecolor": "white",
            "showbackground": true,
            "ticks": "",
            "zerolinecolor": "white"
           }
          },
          "shapedefaults": {
           "line": {
            "color": "#2a3f5f"
           }
          },
          "ternary": {
           "aaxis": {
            "gridcolor": "white",
            "linecolor": "white",
            "ticks": ""
           },
           "baxis": {
            "gridcolor": "white",
            "linecolor": "white",
            "ticks": ""
           },
           "bgcolor": "#E5ECF6",
           "caxis": {
            "gridcolor": "white",
            "linecolor": "white",
            "ticks": ""
           }
          },
          "title": {
           "x": 0.05
          },
          "xaxis": {
           "automargin": true,
           "gridcolor": "white",
           "linecolor": "white",
           "ticks": "",
           "title": {
            "standoff": 15
           },
           "zerolinecolor": "white",
           "zerolinewidth": 2
          },
          "yaxis": {
           "automargin": true,
           "gridcolor": "white",
           "linecolor": "white",
           "ticks": "",
           "title": {
            "standoff": 15
           },
           "zerolinecolor": "white",
           "zerolinewidth": 2
          }
         }
        },
        "title": {
         "text": "Monitored variables"
        },
        "xaxis": {
         "anchor": "y",
         "domain": [
          0,
          1
         ],
         "title": {
          "text": "Epoch"
         }
        },
        "yaxis": {
         "anchor": "x",
         "domain": [
          0,
          1
         ],
         "title": {
          "text": ""
         }
        }
       }
      }
     },
     "metadata": {},
     "output_type": "display_data"
    }
   ],
   "source": [
    "fig = px.line(pd.DataFrame(model_history.history))\n",
    "fig.update_layout(title=\"Monitored variables\",\n",
    "                   xaxis_title='Epoch',\n",
    "                   yaxis_title='',\n",
    "                   hovermode='x unified')\n",
    "fig.show()"
   ]
  },
  {
   "cell_type": "markdown",
   "metadata": {},
   "source": [
    "---"
   ]
  }
 ],
 "metadata": {
  "kernelspec": {
   "display_name": "Python 3.8.10 64-bit",
   "language": "python",
   "name": "python3"
  },
  "language_info": {
   "codemirror_mode": {
    "name": "ipython",
    "version": 3
   },
   "file_extension": ".py",
   "mimetype": "text/x-python",
   "name": "python",
   "nbconvert_exporter": "python",
   "pygments_lexer": "ipython3",
   "version": "3.8.10"
  },
  "orig_nbformat": 4,
  "vscode": {
   "interpreter": {
    "hash": "916dbcbb3f70747c44a77c7bcd40155683ae19c65e1c03b4aa3499c5328201f1"
   }
  }
 },
 "nbformat": 4,
 "nbformat_minor": 2
}
