{
 "cells": [
  {
   "cell_type": "code",
   "execution_count": 590,
   "metadata": {},
   "outputs": [],
   "source": [
    "import tensorflow as tf\n",
    "from tensorflow import keras\n",
    "from tensorflow.keras import layers\n",
    "import numpy as np\n",
    "import pandas as pd"
   ]
  },
  {
   "cell_type": "code",
   "execution_count": 591,
   "metadata": {},
   "outputs": [],
   "source": [
    "import matplotlib.pyplot as plt\n",
    "import seaborn as sns\n",
    "import plotly.express as px\n",
    "import plotly.graph_objects as go\n",
    "sns.set()"
   ]
  },
  {
   "cell_type": "markdown",
   "metadata": {},
   "source": [
    "# CUSTOM LAYERS"
   ]
  },
  {
   "cell_type": "code",
   "execution_count": 592,
   "metadata": {},
   "outputs": [],
   "source": [
    "class InputLayer(tf.keras.layers.Layer):\n",
    "  def __init__(self, name):\n",
    "    super(InputLayer, self).__init__(name=name)\n",
    "    self.a = tf.Variable(initial_value=tf.zeros(shape=[14,2]), trainable=False, name= self.name + \"_activation\")\n",
    "    \n",
    "  def call(self, inputs):\n",
    "    a1a1 = tf.reshape(inputs[0],shape=(1,1))   #1\n",
    "    a1a2 = tf.reshape(inputs[1],shape=(1,1))   #2 \n",
    "    a1a2a2 = tf.reshape(inputs[2],shape=(1,1)) #3\n",
    "    a1a2a1 = tf.reshape(inputs[3],shape=(1,1)) #4\n",
    "    a2a2 = tf.reshape(inputs[4],shape=(1,1))   #5\n",
    "    a2a1 = tf.reshape(inputs[5],shape=(1,1))   #6\n",
    "    a2a1a1 = tf.reshape(inputs[6],shape=(1,1)) #7\n",
    "    a2a1a2 = tf.reshape(inputs[7],shape=(1,1)) #8\n",
    "\n",
    "    to_hidden = []\n",
    "    to_hidden.append((tf.concat([a1a2a2, a2a2], axis = 1)))   #[\"TrRi\"] [3,5]\n",
    "    to_hidden.append((tf.concat([a1a2a1, a2a1], axis = 1)))   #[\"RiTr\"] [4,6] \n",
    "    to_hidden.append((tf.concat([a1a1, a2a1], axis = 1)))     #[\"Plu\"]  [1,6] \n",
    "    to_hidden.append((tf.concat([a1a2, a1a2a2], axis = 1)))   #[\"TTra\"] [2,3] \n",
    "    to_hidden.append((tf.concat([a2a1, a2a1a1], axis = 1)))   #[\"TTrb\"] [6,7] \n",
    "    to_hidden.append((tf.concat([a1a2, a2a1], axis = 1)))     #[\"Tr\"]   [2,6]\n",
    "    to_hidden.append((tf.concat([a1a2a1, a2a1a2], axis = 1))) #[\"MeTr\"] [4,8] \n",
    "    to_hidden.append((tf.concat([a1a2a1, a1a2], axis = 1)))   #[\"MoTr\"] [4,2] \n",
    "    to_hidden.append((tf.concat([a1a1, a1a2a1], axis = 1)))   #[\"RiRi\"] [1,4] \n",
    "    to_hidden.append((tf.concat([a1a1, a1a2], axis = 1)))     #[\"MoFo\"] [1,2] \n",
    "    to_hidden.append((tf.concat([a1a2a2, a1a2a1], axis = 1))) #[\"MMof\"] [3,4] \n",
    "    to_hidden.append((tf.concat([a1a1, a1a2a2], axis = 1)))   #[\"MoRi\"] [1,3] \n",
    "    to_hidden.append((tf.concat([a1a2a2, a2a1a1], axis = 1))) #[\"MeRi\"] [3,7] \n",
    "    to_hidden.append((tf.concat([a1a1, a2a2], axis = 1)))     #[\"Ri\"]   [1,5] \n",
    "\n",
    "    output = tf.concat(to_hidden,axis = 0)\n",
    "    self.a.assign(output)\n",
    "    return self.a.value()"
   ]
  },
  {
   "cell_type": "code",
   "execution_count": 593,
   "metadata": {},
   "outputs": [],
   "source": [
    "class Layer(tf.keras.layers.Layer):\n",
    "  def __init__(self, name, weights_init_val, bias_init_val):\n",
    "    super(Layer, self).__init__(name = name)\n",
    "    self.units = 14\n",
    "    self.weights_init_val = weights_init_val\n",
    "    self.bias_init_val = bias_init_val\n",
    "    if self.name in [\"HiddenLayer\"]:\n",
    "      self.type = \"Hidden\"\n",
    "    elif self.name in [\"OutputLayer\"]:\n",
    "      self.type = \"Output\"\n",
    "\n",
    "  def build(self, input_shape):\n",
    "    shape = [int(input_shape[-1]),self.units]\n",
    "    self.w = self.add_weight(initializer = tf.initializers.Constant(self.weights_init_val) ,\n",
    "                              shape= shape,\n",
    "                              name = self.name + \"_weights\")\n",
    "    self.b = self.add_weight(initializer = tf.initializers.Constant(self.bias_init_val) ,\n",
    "                              shape= [1, self.units],\n",
    "                              name = self.name + \"_biases\")\n",
    "\n",
    "    self.deltaA = tf.Variable(initial_value=tf.zeros(shape = [1, self.units]),trainable=False, name= self.name + \"_adjustements\")\n",
    "    self.a = tf.Variable(initial_value=tf.zeros(shape = [1, self.units]),trainable=False, name= self.name + \"_activation\")\n",
    "\n",
    "  def call(self, inputs, temperature):\n",
    "    \n",
    "    if self.type == \"Hidden\":\n",
    "      net = tf.matmul(inputs, self.w)[:,0]\n",
    "    elif self.type == \"Output\":\n",
    "      net = tf.matmul(inputs, self.w)\n",
    "      \n",
    "    self.a.assign(1/(1 + tf.exp((net + self.b)/temperature)))\n",
    "    return self.a.value()\n"
   ]
  },
  {
   "cell_type": "markdown",
   "metadata": {},
   "source": [
    "### Testing foward pass"
   ]
  },
  {
   "cell_type": "code",
   "execution_count": 594,
   "metadata": {},
   "outputs": [
    {
     "data": {
      "text/plain": [
       "<tf.Tensor: shape=(3, 4), dtype=float32, numpy=\n",
       "array([[1., 1., 1., 1.],\n",
       "       [1., 1., 1., 1.],\n",
       "       [1., 1., 1., 1.]], dtype=float32)>"
      ]
     },
     "execution_count": 594,
     "metadata": {},
     "output_type": "execute_result"
    }
   ],
   "source": [
    "x = tf.ones(shape=[3,4])\n",
    "x"
   ]
  },
  {
   "cell_type": "code",
   "execution_count": 595,
   "metadata": {},
   "outputs": [
    {
     "data": {
      "text/plain": [
       "<tf.Tensor: shape=(1, 3), dtype=float32, numpy=array([[4., 4., 4.]], dtype=float32)>"
      ]
     },
     "execution_count": 595,
     "metadata": {},
     "output_type": "execute_result"
    }
   ],
   "source": [
    "tf.reshape(tf.reduce_sum(x,axis=1), shape = [1, x.shape[0]])"
   ]
  },
  {
   "cell_type": "code",
   "execution_count": 596,
   "metadata": {},
   "outputs": [
    {
     "data": {
      "text/plain": [
       "<tf.Tensor: shape=(8,), dtype=float32, numpy=array([0., 0., 0., 0., 1., 1., 1., 1.], dtype=float32)>"
      ]
     },
     "execution_count": 596,
     "metadata": {},
     "output_type": "execute_result"
    }
   ],
   "source": [
    "#x = tf.constant([1.0, 2.0, 3.0, 4.0, 5.0, 6.0, 7.0, 8.0])\n",
    "x = tf.constant([0.0, 0.0, 0.0, 0.0, 1.0, 1.0, 1.0, 1.0])\n",
    "x"
   ]
  },
  {
   "cell_type": "code",
   "execution_count": 597,
   "metadata": {},
   "outputs": [
    {
     "data": {
      "text/plain": [
       "<__main__.InputLayer at 0x7fc398960460>"
      ]
     },
     "execution_count": 597,
     "metadata": {},
     "output_type": "execute_result"
    }
   ],
   "source": [
    "input_layer = InputLayer(name = \"InputLayer\")\n",
    "input_layer"
   ]
  },
  {
   "cell_type": "code",
   "execution_count": 598,
   "metadata": {},
   "outputs": [
    {
     "data": {
      "text/plain": [
       "<tf.Tensor: shape=(14, 2), dtype=float32, numpy=\n",
       "array([[0., 1.],\n",
       "       [0., 1.],\n",
       "       [0., 1.],\n",
       "       [0., 0.],\n",
       "       [1., 1.],\n",
       "       [0., 1.],\n",
       "       [0., 1.],\n",
       "       [0., 0.],\n",
       "       [0., 0.],\n",
       "       [0., 0.],\n",
       "       [0., 0.],\n",
       "       [0., 0.],\n",
       "       [0., 1.],\n",
       "       [0., 1.]], dtype=float32)>"
      ]
     },
     "execution_count": 598,
     "metadata": {},
     "output_type": "execute_result"
    }
   ],
   "source": [
    "res_input = input_layer(x)\n",
    "res_input"
   ]
  },
  {
   "cell_type": "code",
   "execution_count": 599,
   "metadata": {},
   "outputs": [
    {
     "data": {
      "text/plain": [
       "<tf.Variable 'InputLayer_activation:0' shape=(14, 2) dtype=float32, numpy=\n",
       "array([[0., 1.],\n",
       "       [0., 1.],\n",
       "       [0., 1.],\n",
       "       [0., 0.],\n",
       "       [1., 1.],\n",
       "       [0., 1.],\n",
       "       [0., 1.],\n",
       "       [0., 0.],\n",
       "       [0., 0.],\n",
       "       [0., 0.],\n",
       "       [0., 0.],\n",
       "       [0., 0.],\n",
       "       [0., 1.],\n",
       "       [0., 1.]], dtype=float32)>"
      ]
     },
     "execution_count": 599,
     "metadata": {},
     "output_type": "execute_result"
    }
   ],
   "source": [
    "input_layer.a"
   ]
  },
  {
   "cell_type": "code",
   "execution_count": 600,
   "metadata": {},
   "outputs": [
    {
     "data": {
      "text/plain": [
       "<__main__.Layer at 0x7fc398946fd0>"
      ]
     },
     "execution_count": 600,
     "metadata": {},
     "output_type": "execute_result"
    }
   ],
   "source": [
    "hidden_layer = Layer(name = \"HiddenLayer\",weights_init_val=0.5, bias_init_val=0.0)\n",
    "hidden_layer"
   ]
  },
  {
   "cell_type": "code",
   "execution_count": 601,
   "metadata": {},
   "outputs": [
    {
     "data": {
      "text/plain": [
       "<tf.Tensor: shape=(1, 14), dtype=float32, numpy=\n",
       "array([[0.37754068, 0.37754068, 0.37754068, 0.5       , 0.26894143,\n",
       "        0.37754068, 0.37754068, 0.5       , 0.5       , 0.5       ,\n",
       "        0.5       , 0.5       , 0.37754068, 0.37754068]], dtype=float32)>"
      ]
     },
     "execution_count": 601,
     "metadata": {},
     "output_type": "execute_result"
    }
   ],
   "source": [
    "res_hidden = hidden_layer(inputs = res_input, temperature = 1)\n",
    "res_hidden"
   ]
  },
  {
   "cell_type": "code",
   "execution_count": 602,
   "metadata": {},
   "outputs": [
    {
     "data": {
      "text/plain": [
       "<tf.Variable 'HiddenLayer/HiddenLayer_weights:0' shape=(2, 14) dtype=float32, numpy=\n",
       "array([[0.5, 0.5, 0.5, 0.5, 0.5, 0.5, 0.5, 0.5, 0.5, 0.5, 0.5, 0.5, 0.5,\n",
       "        0.5],\n",
       "       [0.5, 0.5, 0.5, 0.5, 0.5, 0.5, 0.5, 0.5, 0.5, 0.5, 0.5, 0.5, 0.5,\n",
       "        0.5]], dtype=float32)>"
      ]
     },
     "execution_count": 602,
     "metadata": {},
     "output_type": "execute_result"
    }
   ],
   "source": [
    "hidden_layer.w"
   ]
  },
  {
   "cell_type": "code",
   "execution_count": 603,
   "metadata": {},
   "outputs": [
    {
     "data": {
      "text/plain": [
       "<tf.Variable 'HiddenLayer/HiddenLayer_activation:0' shape=(1, 14) dtype=float32, numpy=\n",
       "array([[0.37754068, 0.37754068, 0.37754068, 0.5       , 0.26894143,\n",
       "        0.37754068, 0.37754068, 0.5       , 0.5       , 0.5       ,\n",
       "        0.5       , 0.5       , 0.37754068, 0.37754068]], dtype=float32)>"
      ]
     },
     "execution_count": 603,
     "metadata": {},
     "output_type": "execute_result"
    }
   ],
   "source": [
    "hidden_layer.a"
   ]
  },
  {
   "cell_type": "code",
   "execution_count": 604,
   "metadata": {},
   "outputs": [
    {
     "data": {
      "text/plain": [
       "<__main__.Layer at 0x7fc398916700>"
      ]
     },
     "execution_count": 604,
     "metadata": {},
     "output_type": "execute_result"
    }
   ],
   "source": [
    "output_layer = Layer(name = \"OutputLayer\",weights_init_val=0.59, bias_init_val=0.0)\n",
    "output_layer"
   ]
  },
  {
   "cell_type": "code",
   "execution_count": 605,
   "metadata": {},
   "outputs": [
    {
     "data": {
      "text/plain": [
       "<tf.Tensor: shape=(1, 14), dtype=float32, numpy=\n",
       "array([[0.02965795, 0.02965795, 0.02965795, 0.02965795, 0.02965795,\n",
       "        0.02965795, 0.02965795, 0.02965795, 0.02965795, 0.02965795,\n",
       "        0.02965795, 0.02965795, 0.02965795, 0.02965795]], dtype=float32)>"
      ]
     },
     "execution_count": 605,
     "metadata": {},
     "output_type": "execute_result"
    }
   ],
   "source": [
    "res_output = output_layer(inputs = res_hidden, temperature = 1)\n",
    "res_output"
   ]
  },
  {
   "cell_type": "code",
   "execution_count": 606,
   "metadata": {},
   "outputs": [
    {
     "data": {
      "text/plain": [
       "<tf.Variable 'OutputLayer/OutputLayer_weights:0' shape=(14, 14) dtype=float32, numpy=\n",
       "array([[0.59, 0.59, 0.59, 0.59, 0.59, 0.59, 0.59, 0.59, 0.59, 0.59, 0.59,\n",
       "        0.59, 0.59, 0.59],\n",
       "       [0.59, 0.59, 0.59, 0.59, 0.59, 0.59, 0.59, 0.59, 0.59, 0.59, 0.59,\n",
       "        0.59, 0.59, 0.59],\n",
       "       [0.59, 0.59, 0.59, 0.59, 0.59, 0.59, 0.59, 0.59, 0.59, 0.59, 0.59,\n",
       "        0.59, 0.59, 0.59],\n",
       "       [0.59, 0.59, 0.59, 0.59, 0.59, 0.59, 0.59, 0.59, 0.59, 0.59, 0.59,\n",
       "        0.59, 0.59, 0.59],\n",
       "       [0.59, 0.59, 0.59, 0.59, 0.59, 0.59, 0.59, 0.59, 0.59, 0.59, 0.59,\n",
       "        0.59, 0.59, 0.59],\n",
       "       [0.59, 0.59, 0.59, 0.59, 0.59, 0.59, 0.59, 0.59, 0.59, 0.59, 0.59,\n",
       "        0.59, 0.59, 0.59],\n",
       "       [0.59, 0.59, 0.59, 0.59, 0.59, 0.59, 0.59, 0.59, 0.59, 0.59, 0.59,\n",
       "        0.59, 0.59, 0.59],\n",
       "       [0.59, 0.59, 0.59, 0.59, 0.59, 0.59, 0.59, 0.59, 0.59, 0.59, 0.59,\n",
       "        0.59, 0.59, 0.59],\n",
       "       [0.59, 0.59, 0.59, 0.59, 0.59, 0.59, 0.59, 0.59, 0.59, 0.59, 0.59,\n",
       "        0.59, 0.59, 0.59],\n",
       "       [0.59, 0.59, 0.59, 0.59, 0.59, 0.59, 0.59, 0.59, 0.59, 0.59, 0.59,\n",
       "        0.59, 0.59, 0.59],\n",
       "       [0.59, 0.59, 0.59, 0.59, 0.59, 0.59, 0.59, 0.59, 0.59, 0.59, 0.59,\n",
       "        0.59, 0.59, 0.59],\n",
       "       [0.59, 0.59, 0.59, 0.59, 0.59, 0.59, 0.59, 0.59, 0.59, 0.59, 0.59,\n",
       "        0.59, 0.59, 0.59],\n",
       "       [0.59, 0.59, 0.59, 0.59, 0.59, 0.59, 0.59, 0.59, 0.59, 0.59, 0.59,\n",
       "        0.59, 0.59, 0.59],\n",
       "       [0.59, 0.59, 0.59, 0.59, 0.59, 0.59, 0.59, 0.59, 0.59, 0.59, 0.59,\n",
       "        0.59, 0.59, 0.59]], dtype=float32)>"
      ]
     },
     "execution_count": 606,
     "metadata": {},
     "output_type": "execute_result"
    }
   ],
   "source": [
    "output_layer.w"
   ]
  },
  {
   "cell_type": "code",
   "execution_count": 607,
   "metadata": {},
   "outputs": [
    {
     "data": {
      "text/plain": [
       "<tf.Variable 'OutputLayer/OutputLayer_activation:0' shape=(1, 14) dtype=float32, numpy=\n",
       "array([[0.02965795, 0.02965795, 0.02965795, 0.02965795, 0.02965795,\n",
       "        0.02965795, 0.02965795, 0.02965795, 0.02965795, 0.02965795,\n",
       "        0.02965795, 0.02965795, 0.02965795, 0.02965795]], dtype=float32)>"
      ]
     },
     "execution_count": 607,
     "metadata": {},
     "output_type": "execute_result"
    }
   ],
   "source": [
    "output_layer.a"
   ]
  },
  {
   "cell_type": "code",
   "execution_count": 608,
   "metadata": {},
   "outputs": [
    {
     "data": {
      "text/plain": [
       "<tf.Tensor: shape=(), dtype=float32, numpy=2.2317433>"
      ]
     },
     "execution_count": 608,
     "metadata": {},
     "output_type": "execute_result"
    }
   ],
   "source": [
    "error = tf.math.reduce_sum(tf.math.square(res_hidden - res_output))\n",
    "error"
   ]
  },
  {
   "cell_type": "markdown",
   "metadata": {},
   "source": [
    "### Test back propagation"
   ]
  },
  {
   "cell_type": "code",
   "execution_count": 609,
   "metadata": {},
   "outputs": [],
   "source": [
    "alpha = 1"
   ]
  },
  {
   "cell_type": "code",
   "execution_count": 610,
   "metadata": {},
   "outputs": [
    {
     "data": {
      "text/plain": [
       "<tf.Tensor: shape=(1, 14), dtype=float32, numpy=\n",
       "array([[0.01001149, 0.01001149, 0.01001149, 0.01353567, 0.00688618,\n",
       "        0.01001149, 0.01001149, 0.01353567, 0.01353567, 0.01353567,\n",
       "        0.01353567, 0.01353567, 0.01001149, 0.01001149]], dtype=float32)>"
      ]
     },
     "execution_count": 610,
     "metadata": {},
     "output_type": "execute_result"
    }
   ],
   "source": [
    "delta_Ao = res_output * (res_hidden - res_output) * (1 - res_output) + output_layer.deltaA * (res_hidden - res_output)\n",
    "delta_Ao"
   ]
  },
  {
   "cell_type": "code",
   "execution_count": 611,
   "metadata": {},
   "outputs": [
    {
     "data": {
      "text/plain": [
       "<tf.Tensor: shape=(1, 14), dtype=float32, numpy=\n",
       "array([[0.37754068, 0.37754068, 0.37754068, 0.5       , 0.26894143,\n",
       "        0.37754068, 0.37754068, 0.5       , 0.5       , 0.5       ,\n",
       "        0.5       , 0.5       , 0.37754068, 0.37754068]], dtype=float32)>"
      ]
     },
     "execution_count": 611,
     "metadata": {},
     "output_type": "execute_result"
    }
   ],
   "source": [
    "res_hidden"
   ]
  },
  {
   "cell_type": "code",
   "execution_count": 612,
   "metadata": {},
   "outputs": [
    {
     "data": {
      "text/plain": [
       "<tf.Tensor: shape=(14, 1), dtype=float32, numpy=\n",
       "array([[0.37754068],\n",
       "       [0.37754068],\n",
       "       [0.37754068],\n",
       "       [0.5       ],\n",
       "       [0.26894143],\n",
       "       [0.37754068],\n",
       "       [0.37754068],\n",
       "       [0.5       ],\n",
       "       [0.5       ],\n",
       "       [0.5       ],\n",
       "       [0.5       ],\n",
       "       [0.5       ],\n",
       "       [0.37754068],\n",
       "       [0.37754068]], dtype=float32)>"
      ]
     },
     "execution_count": 612,
     "metadata": {},
     "output_type": "execute_result"
    }
   ],
   "source": [
    "tf.transpose(res_hidden)"
   ]
  },
  {
   "cell_type": "code",
   "execution_count": 613,
   "metadata": {},
   "outputs": [
    {
     "data": {
      "text/plain": [
       "<tf.Tensor: shape=(1, 14), dtype=float32, numpy=\n",
       "array([[0.01001149, 0.01001149, 0.01001149, 0.01353567, 0.00688618,\n",
       "        0.01001149, 0.01001149, 0.01353567, 0.01353567, 0.01353567,\n",
       "        0.01353567, 0.01353567, 0.01001149, 0.01001149]], dtype=float32)>"
      ]
     },
     "execution_count": 613,
     "metadata": {},
     "output_type": "execute_result"
    }
   ],
   "source": [
    "delta_Ao"
   ]
  },
  {
   "cell_type": "code",
   "execution_count": 614,
   "metadata": {},
   "outputs": [
    {
     "data": {
      "text/plain": [
       "<tf.Tensor: shape=(14, 14), dtype=float32, numpy=\n",
       "array([[0.00377975, 0.00377975, 0.00377975, 0.00511027, 0.00259981,\n",
       "        0.00377975, 0.00377975, 0.00511027, 0.00511027, 0.00511027,\n",
       "        0.00511027, 0.00511027, 0.00377975, 0.00377975],\n",
       "       [0.00377975, 0.00377975, 0.00377975, 0.00511027, 0.00259981,\n",
       "        0.00377975, 0.00377975, 0.00511027, 0.00511027, 0.00511027,\n",
       "        0.00511027, 0.00511027, 0.00377975, 0.00377975],\n",
       "       [0.00377975, 0.00377975, 0.00377975, 0.00511027, 0.00259981,\n",
       "        0.00377975, 0.00377975, 0.00511027, 0.00511027, 0.00511027,\n",
       "        0.00511027, 0.00511027, 0.00377975, 0.00377975],\n",
       "       [0.00500575, 0.00500575, 0.00500575, 0.00676783, 0.00344309,\n",
       "        0.00500575, 0.00500575, 0.00676783, 0.00676783, 0.00676783,\n",
       "        0.00676783, 0.00676783, 0.00500575, 0.00500575],\n",
       "       [0.00269251, 0.00269251, 0.00269251, 0.0036403 , 0.00185198,\n",
       "        0.00269251, 0.00269251, 0.0036403 , 0.0036403 , 0.0036403 ,\n",
       "        0.0036403 , 0.0036403 , 0.00269251, 0.00269251],\n",
       "       [0.00377975, 0.00377975, 0.00377975, 0.00511027, 0.00259981,\n",
       "        0.00377975, 0.00377975, 0.00511027, 0.00511027, 0.00511027,\n",
       "        0.00511027, 0.00511027, 0.00377975, 0.00377975],\n",
       "       [0.00377975, 0.00377975, 0.00377975, 0.00511027, 0.00259981,\n",
       "        0.00377975, 0.00377975, 0.00511027, 0.00511027, 0.00511027,\n",
       "        0.00511027, 0.00511027, 0.00377975, 0.00377975],\n",
       "       [0.00500575, 0.00500575, 0.00500575, 0.00676783, 0.00344309,\n",
       "        0.00500575, 0.00500575, 0.00676783, 0.00676783, 0.00676783,\n",
       "        0.00676783, 0.00676783, 0.00500575, 0.00500575],\n",
       "       [0.00500575, 0.00500575, 0.00500575, 0.00676783, 0.00344309,\n",
       "        0.00500575, 0.00500575, 0.00676783, 0.00676783, 0.00676783,\n",
       "        0.00676783, 0.00676783, 0.00500575, 0.00500575],\n",
       "       [0.00500575, 0.00500575, 0.00500575, 0.00676783, 0.00344309,\n",
       "        0.00500575, 0.00500575, 0.00676783, 0.00676783, 0.00676783,\n",
       "        0.00676783, 0.00676783, 0.00500575, 0.00500575],\n",
       "       [0.00500575, 0.00500575, 0.00500575, 0.00676783, 0.00344309,\n",
       "        0.00500575, 0.00500575, 0.00676783, 0.00676783, 0.00676783,\n",
       "        0.00676783, 0.00676783, 0.00500575, 0.00500575],\n",
       "       [0.00500575, 0.00500575, 0.00500575, 0.00676783, 0.00344309,\n",
       "        0.00500575, 0.00500575, 0.00676783, 0.00676783, 0.00676783,\n",
       "        0.00676783, 0.00676783, 0.00500575, 0.00500575],\n",
       "       [0.00377975, 0.00377975, 0.00377975, 0.00511027, 0.00259981,\n",
       "        0.00377975, 0.00377975, 0.00511027, 0.00511027, 0.00511027,\n",
       "        0.00511027, 0.00511027, 0.00377975, 0.00377975],\n",
       "       [0.00377975, 0.00377975, 0.00377975, 0.00511027, 0.00259981,\n",
       "        0.00377975, 0.00377975, 0.00511027, 0.00511027, 0.00511027,\n",
       "        0.00511027, 0.00511027, 0.00377975, 0.00377975]], dtype=float32)>"
      ]
     },
     "execution_count": 614,
     "metadata": {},
     "output_type": "execute_result"
    }
   ],
   "source": [
    "delta_Wo = alpha * tf.matmul(tf.transpose(res_hidden),delta_Ao)   #dubbio scambiare righe e colonne\n",
    "delta_Wo"
   ]
  },
  {
   "cell_type": "code",
   "execution_count": 615,
   "metadata": {},
   "outputs": [
    {
     "data": {
      "text/plain": [
       "<tf.Variable 'OutputLayer/OutputLayer_weights:0' shape=(14, 14) dtype=float32, numpy=\n",
       "array([[0.59377974, 0.59377974, 0.59377974, 0.59511024, 0.5925998 ,\n",
       "        0.59377974, 0.59377974, 0.59511024, 0.59511024, 0.59511024,\n",
       "        0.59511024, 0.59511024, 0.59377974, 0.59377974],\n",
       "       [0.59377974, 0.59377974, 0.59377974, 0.59511024, 0.5925998 ,\n",
       "        0.59377974, 0.59377974, 0.59511024, 0.59511024, 0.59511024,\n",
       "        0.59511024, 0.59511024, 0.59377974, 0.59377974],\n",
       "       [0.59377974, 0.59377974, 0.59377974, 0.59511024, 0.5925998 ,\n",
       "        0.59377974, 0.59377974, 0.59511024, 0.59511024, 0.59511024,\n",
       "        0.59511024, 0.59511024, 0.59377974, 0.59377974],\n",
       "       [0.5950057 , 0.5950057 , 0.5950057 , 0.5967678 , 0.59344304,\n",
       "        0.5950057 , 0.5950057 , 0.5967678 , 0.5967678 , 0.5967678 ,\n",
       "        0.5967678 , 0.5967678 , 0.5950057 , 0.5950057 ],\n",
       "       [0.5926925 , 0.5926925 , 0.5926925 , 0.59364027, 0.59185195,\n",
       "        0.5926925 , 0.5926925 , 0.59364027, 0.59364027, 0.59364027,\n",
       "        0.59364027, 0.59364027, 0.5926925 , 0.5926925 ],\n",
       "       [0.59377974, 0.59377974, 0.59377974, 0.59511024, 0.5925998 ,\n",
       "        0.59377974, 0.59377974, 0.59511024, 0.59511024, 0.59511024,\n",
       "        0.59511024, 0.59511024, 0.59377974, 0.59377974],\n",
       "       [0.59377974, 0.59377974, 0.59377974, 0.59511024, 0.5925998 ,\n",
       "        0.59377974, 0.59377974, 0.59511024, 0.59511024, 0.59511024,\n",
       "        0.59511024, 0.59511024, 0.59377974, 0.59377974],\n",
       "       [0.5950057 , 0.5950057 , 0.5950057 , 0.5967678 , 0.59344304,\n",
       "        0.5950057 , 0.5950057 , 0.5967678 , 0.5967678 , 0.5967678 ,\n",
       "        0.5967678 , 0.5967678 , 0.5950057 , 0.5950057 ],\n",
       "       [0.5950057 , 0.5950057 , 0.5950057 , 0.5967678 , 0.59344304,\n",
       "        0.5950057 , 0.5950057 , 0.5967678 , 0.5967678 , 0.5967678 ,\n",
       "        0.5967678 , 0.5967678 , 0.5950057 , 0.5950057 ],\n",
       "       [0.5950057 , 0.5950057 , 0.5950057 , 0.5967678 , 0.59344304,\n",
       "        0.5950057 , 0.5950057 , 0.5967678 , 0.5967678 , 0.5967678 ,\n",
       "        0.5967678 , 0.5967678 , 0.5950057 , 0.5950057 ],\n",
       "       [0.5950057 , 0.5950057 , 0.5950057 , 0.5967678 , 0.59344304,\n",
       "        0.5950057 , 0.5950057 , 0.5967678 , 0.5967678 , 0.5967678 ,\n",
       "        0.5967678 , 0.5967678 , 0.5950057 , 0.5950057 ],\n",
       "       [0.5950057 , 0.5950057 , 0.5950057 , 0.5967678 , 0.59344304,\n",
       "        0.5950057 , 0.5950057 , 0.5967678 , 0.5967678 , 0.5967678 ,\n",
       "        0.5967678 , 0.5967678 , 0.5950057 , 0.5950057 ],\n",
       "       [0.59377974, 0.59377974, 0.59377974, 0.59511024, 0.5925998 ,\n",
       "        0.59377974, 0.59377974, 0.59511024, 0.59511024, 0.59511024,\n",
       "        0.59511024, 0.59511024, 0.59377974, 0.59377974],\n",
       "       [0.59377974, 0.59377974, 0.59377974, 0.59511024, 0.5925998 ,\n",
       "        0.59377974, 0.59377974, 0.59511024, 0.59511024, 0.59511024,\n",
       "        0.59511024, 0.59511024, 0.59377974, 0.59377974]], dtype=float32)>"
      ]
     },
     "execution_count": 615,
     "metadata": {},
     "output_type": "execute_result"
    }
   ],
   "source": [
    "output_layer.w.assign_add(delta_Wo)\n",
    "output_layer.w"
   ]
  },
  {
   "cell_type": "code",
   "execution_count": 616,
   "metadata": {},
   "outputs": [
    {
     "data": {
      "text/plain": [
       "<tf.Tensor: shape=(1, 14), dtype=float32, numpy=\n",
       "array([[0.02209424, 0.02209424, 0.02209424, 0.02356485, 0.01844243,\n",
       "        0.02209424, 0.02209424, 0.02356485, 0.02356485, 0.02356485,\n",
       "        0.02356485, 0.02356485, 0.02209424, 0.02209424]], dtype=float32)>"
      ]
     },
     "execution_count": 616,
     "metadata": {},
     "output_type": "execute_result"
    }
   ],
   "source": [
    "delta_Ah = res_hidden * (1 - res_hidden) * (tf.matmul(delta_Ao , output_layer.w)) # dubbio scambiare righe per colonne\n",
    "delta_Ah"
   ]
  },
  {
   "cell_type": "code",
   "execution_count": 617,
   "metadata": {},
   "outputs": [
    {
     "data": {
      "text/plain": [
       "<tf.Tensor: shape=(2, 14), dtype=float32, numpy=\n",
       "array([[0.        , 0.        , 0.        , 0.        , 0.01844243,\n",
       "        0.        , 0.        , 0.        , 0.        , 0.        ,\n",
       "        0.        , 0.        , 0.        , 0.        ],\n",
       "       [0.02209424, 0.02209424, 0.02209424, 0.        , 0.01844243,\n",
       "        0.02209424, 0.02209424, 0.        , 0.        , 0.        ,\n",
       "        0.        , 0.        , 0.02209424, 0.02209424]], dtype=float32)>"
      ]
     },
     "execution_count": 617,
     "metadata": {},
     "output_type": "execute_result"
    }
   ],
   "source": [
    "delta_Wh = tf.transpose(alpha * tf.transpose(delta_Ah) * res_input)\n",
    "delta_Wh"
   ]
  },
  {
   "cell_type": "code",
   "execution_count": 618,
   "metadata": {},
   "outputs": [
    {
     "data": {
      "text/plain": [
       "<tf.Variable 'HiddenLayer/HiddenLayer_weights:0' shape=(2, 14) dtype=float32, numpy=\n",
       "array([[0.5       , 0.5       , 0.5       , 0.5       , 0.51844245,\n",
       "        0.5       , 0.5       , 0.5       , 0.5       , 0.5       ,\n",
       "        0.5       , 0.5       , 0.5       , 0.5       ],\n",
       "       [0.52209425, 0.52209425, 0.52209425, 0.5       , 0.51844245,\n",
       "        0.52209425, 0.52209425, 0.5       , 0.5       , 0.5       ,\n",
       "        0.5       , 0.5       , 0.52209425, 0.52209425]], dtype=float32)>"
      ]
     },
     "execution_count": 618,
     "metadata": {},
     "output_type": "execute_result"
    }
   ],
   "source": [
    "hidden_layer.w.assign_add(delta_Wh)\n",
    "hidden_layer.w"
   ]
  },
  {
   "cell_type": "markdown",
   "metadata": {},
   "source": [
    "---"
   ]
  },
  {
   "cell_type": "markdown",
   "metadata": {},
   "source": [
    "# CUSTOM MODEL"
   ]
  },
  {
   "cell_type": "code",
   "execution_count": 619,
   "metadata": {},
   "outputs": [],
   "source": [
    "class MQSelfReflexiveNetwork(tf.keras.Model):\n",
    "  def __init__(self, learning_rate):\n",
    "    super(MQSelfReflexiveNetwork, self).__init__(name='MQSelfReflexiveNetwork')\n",
    "\n",
    "    self.input_layer = InputLayer(name = \"InputLayer\")\n",
    "    self.h = Layer(name = \"HiddenLayer\",weights_init_val=0.5, bias_init_val=0.2)\n",
    "    self.o = Layer(name = \"OutputLayer\",weights_init_val=0.59, bias_init_val=0.2)\n",
    "    self.temperature = tf.Variable(initial_value=1.0,trainable=False, name = \"Temperature\")\n",
    "    self.error = tf.Variable(initial_value=0.0,trainable=False, name = \"Error\")\n",
    "    self.alpha = learning_rate\n",
    "\n",
    "  def call(self, input):\n",
    "    ### FOWARD PASS\n",
    "    res_input = self.input_layer(input)\n",
    "    res_hidden = self.h(res_input, self.temperature)\n",
    "    res_output = self.o(res_hidden, self.temperature)\n",
    "    return tf.math.reduce_sum(tf.math.square(res_hidden - res_output))\n",
    "  \n",
    "  def train_step(self, input):\n",
    "    ### CALL FOWARD PASS\n",
    "    self.error.assign(self(input, training = True))\n",
    "    print(\"Input layer activations\")\n",
    "    print(self.input_layer.a)\n",
    "\n",
    "    ### BACK PROPAGATION\n",
    "    # Compute temperature\n",
    "    self.temperature.assign(1 - (1 / (1 + self.error) ))\n",
    "\n",
    "    # Update outputs weights\n",
    "    delta_Ao = self.o.a * (self.h.a - self.o.a) * (1 - self.o.a) + (self.o.deltaA * ((self.h.a - self.o.a)) )\n",
    "    delta_Wo = self.alpha * tf.matmul(tf.transpose(self.h.a),delta_Ao)\n",
    "    self.o.deltaA.assign(delta_Ao)\n",
    "    self.o.w.assign_add(delta_Wo)\n",
    "\n",
    "#tf.reshape(tf.reduce_sum(x,axis=1), shape = [1, x.shape[0]])\n",
    "    ## Update hidden weights\n",
    "    delta_Ah = self.h.a * (1 - self.h.a) * tf.reshape( ( tf.reduce_sum((tf.transpose(self.o.deltaA) *  self.o.w), axis= 1)), shape = [1, 14] )\n",
    "    delta_Wh = tf.transpose(self.alpha * tf.transpose(delta_Ah) * self.input_layer.a)\n",
    "    self.h.deltaA.assign(delta_Ah)\n",
    "    self.h.w.assign_add(delta_Wh)\n",
    "\n",
    "    return {\n",
    "        \"Error\": tf.squeeze(self.error.value()),\n",
    "        \"Temperature\": tf.squeeze(self.temperature.value()),\n",
    "        \"Hidden weights\": tf.squeeze(self.h.w.value()),\n",
    "        \"Output weights\": tf.squeeze(self.o.w.value())\n",
    "        }"
   ]
  },
  {
   "cell_type": "code",
   "execution_count": 620,
   "metadata": {},
   "outputs": [],
   "source": [
    "# Construct an instance of CustomModel\n",
    "input = tf.constant([0.01, 0.00, 0.03, 0.224, 0.875, 0.266, 0.427, 0.168])\n",
    "#input = tf.constant([0.1, 0.2, 0.3, 0.4, 0.5, 0.6, 0.7, 0.8])\n",
    "model = MQSelfReflexiveNetwork(learning_rate=10)"
   ]
  },
  {
   "cell_type": "code",
   "execution_count": 621,
   "metadata": {},
   "outputs": [
    {
     "name": "stdout",
     "output_type": "stream",
     "text": [
      "Epoch 1/200\n",
      "Input layer activations\n",
      "<tf.Variable 'InputLayer_activation:0' shape=(14, 2) dtype=float32>\n",
      "Input layer activations\n",
      "<tf.Variable 'InputLayer_activation:0' shape=(14, 2) dtype=float32>\n",
      "1/1 [==============================] - 0s 249ms/step - Error: 1.6578 - Temperature: 0.6238 - Hidden weights: 0.5681 - Output weights: 0.6336\n",
      "Epoch 2/200\n",
      "1/1 [==============================] - 0s 2ms/step - Error: 1.3450 - Temperature: 0.5736 - Hidden weights: 0.5918 - Output weights: 0.6525\n",
      "Epoch 3/200\n",
      "1/1 [==============================] - 0s 3ms/step - Error: 1.1659 - Temperature: 0.5383 - Hidden weights: 0.6067 - Output weights: 0.6633\n",
      "Epoch 4/200\n",
      "1/1 [==============================] - 0s 5ms/step - Error: 1.5962 - Temperature: 0.6148 - Hidden weights: 0.6120 - Output weights: 0.6699\n",
      "Epoch 5/200\n",
      "1/1 [==============================] - 0s 4ms/step - Error: 1.2907 - Temperature: 0.5634 - Hidden weights: 0.6233 - Output weights: 0.6780\n",
      "Epoch 6/200\n",
      "1/1 [==============================] - 0s 3ms/step - Error: 1.1535 - Temperature: 0.5356 - Hidden weights: 0.6332 - Output weights: 0.6848\n",
      "Epoch 7/200\n",
      "1/1 [==============================] - 0s 6ms/step - Error: 1.0893 - Temperature: 0.5214 - Hidden weights: 0.6415 - Output weights: 0.6901\n",
      "Epoch 8/200\n",
      "1/1 [==============================] - 0s 3ms/step - Error: 1.2801 - Temperature: 0.5614 - Hidden weights: 0.6463 - Output weights: 0.6943\n",
      "Epoch 9/200\n",
      "1/1 [==============================] - 0s 3ms/step - Error: 1.5022 - Temperature: 0.6004 - Hidden weights: 0.6502 - Output weights: 0.6984\n",
      "Epoch 10/200\n",
      "1/1 [==============================] - 0s 2ms/step - Error: 1.0986 - Temperature: 0.5235 - Hidden weights: 0.6618 - Output weights: 0.7051\n",
      "Epoch 11/200\n",
      "1/1 [==============================] - 0s 2ms/step - Error: 1.1421 - Temperature: 0.5332 - Hidden weights: 0.6682 - Output weights: 0.7096\n",
      "Epoch 12/200\n",
      "1/1 [==============================] - 0s 3ms/step - Error: 1.4645 - Temperature: 0.5942 - Hidden weights: 0.6714 - Output weights: 0.7131\n",
      "Epoch 13/200\n",
      "1/1 [==============================] - 0s 3ms/step - Error: 1.2655 - Temperature: 0.5586 - Hidden weights: 0.6784 - Output weights: 0.7182\n",
      "Epoch 14/200\n",
      "1/1 [==============================] - 0s 5ms/step - Error: 1.0122 - Temperature: 0.5030 - Hidden weights: 0.6873 - Output weights: 0.7234\n",
      "Epoch 15/200\n",
      "1/1 [==============================] - 0s 4ms/step - Error: 1.0054 - Temperature: 0.5013 - Hidden weights: 0.6929 - Output weights: 0.7271\n",
      "Epoch 16/200\n",
      "1/1 [==============================] - 0s 8ms/step - Error: 0.8475 - Temperature: 0.4587 - Hidden weights: 0.6996 - Output weights: 0.7309\n",
      "Epoch 17/200\n",
      "1/1 [==============================] - 0s 3ms/step - Error: 0.8126 - Temperature: 0.4483 - Hidden weights: 0.7040 - Output weights: 0.7337\n",
      "Epoch 18/200\n",
      "1/1 [==============================] - 0s 3ms/step - Error: 0.7484 - Temperature: 0.4280 - Hidden weights: 0.7083 - Output weights: 0.7362\n",
      "Epoch 19/200\n",
      "1/1 [==============================] - 0s 3ms/step - Error: 1.1162 - Temperature: 0.5274 - Hidden weights: 0.7097 - Output weights: 0.7377\n",
      "Epoch 20/200\n",
      "1/1 [==============================] - 0s 3ms/step - Error: 0.9497 - Temperature: 0.4871 - Hidden weights: 0.7154 - Output weights: 0.7411\n",
      "Epoch 21/200\n",
      "1/1 [==============================] - 0s 3ms/step - Error: 0.9103 - Temperature: 0.4765 - Hidden weights: 0.7199 - Output weights: 0.7440\n",
      "Epoch 22/200\n",
      "1/1 [==============================] - 0s 4ms/step - Error: 1.0934 - Temperature: 0.5223 - Hidden weights: 0.7225 - Output weights: 0.7461\n",
      "Epoch 23/200\n",
      "1/1 [==============================] - 0s 5ms/step - Error: 0.9054 - Temperature: 0.4752 - Hidden weights: 0.7284 - Output weights: 0.7495\n",
      "Epoch 24/200\n",
      "1/1 [==============================] - 0s 3ms/step - Error: 0.8250 - Temperature: 0.4520 - Hidden weights: 0.7329 - Output weights: 0.7523\n",
      "Epoch 25/200\n",
      "1/1 [==============================] - 0s 5ms/step - Error: 1.0617 - Temperature: 0.5150 - Hidden weights: 0.7350 - Output weights: 0.7540\n",
      "Epoch 26/200\n",
      "1/1 [==============================] - 0s 3ms/step - Error: 1.2698 - Temperature: 0.5594 - Hidden weights: 0.7370 - Output weights: 0.7560\n",
      "Epoch 27/200\n",
      "1/1 [==============================] - 0s 3ms/step - Error: 1.2243 - Temperature: 0.5504 - Hidden weights: 0.7410 - Output weights: 0.7590\n",
      "Epoch 28/200\n",
      "1/1 [==============================] - 0s 3ms/step - Error: 1.3668 - Temperature: 0.5775 - Hidden weights: 0.7441 - Output weights: 0.7617\n",
      "Epoch 29/200\n",
      "1/1 [==============================] - 0s 3ms/step - Error: 1.1052 - Temperature: 0.5250 - Hidden weights: 0.7500 - Output weights: 0.7657\n",
      "Epoch 30/200\n",
      "1/1 [==============================] - 0s 3ms/step - Error: 1.0578 - Temperature: 0.5140 - Hidden weights: 0.7545 - Output weights: 0.7688\n",
      "Epoch 31/200\n",
      "1/1 [==============================] - 0s 3ms/step - Error: 0.9717 - Temperature: 0.4928 - Hidden weights: 0.7587 - Output weights: 0.7718\n",
      "Epoch 32/200\n",
      "1/1 [==============================] - 0s 2ms/step - Error: 0.7532 - Temperature: 0.4296 - Hidden weights: 0.7644 - Output weights: 0.7747\n",
      "Epoch 33/200\n",
      "1/1 [==============================] - 0s 3ms/step - Error: 0.9240 - Temperature: 0.4802 - Hidden weights: 0.7664 - Output weights: 0.7762\n",
      "Epoch 34/200\n",
      "1/1 [==============================] - 0s 2ms/step - Error: 0.7760 - Temperature: 0.4369 - Hidden weights: 0.7705 - Output weights: 0.7786\n",
      "Epoch 35/200\n",
      "1/1 [==============================] - 0s 2ms/step - Error: 0.6669 - Temperature: 0.4001 - Hidden weights: 0.7741 - Output weights: 0.7807\n",
      "Epoch 36/200\n",
      "1/1 [==============================] - 0s 3ms/step - Error: 0.5163 - Temperature: 0.3405 - Hidden weights: 0.7775 - Output weights: 0.7824\n",
      "Epoch 37/200\n",
      "1/1 [==============================] - 0s 3ms/step - Error: 0.6094 - Temperature: 0.3786 - Hidden weights: 0.7785 - Output weights: 0.7831\n",
      "Epoch 38/200\n",
      "1/1 [==============================] - 0s 6ms/step - Error: 0.7959 - Temperature: 0.4432 - Hidden weights: 0.7792 - Output weights: 0.7837\n",
      "Epoch 39/200\n",
      "1/1 [==============================] - 0s 8ms/step - Error: 0.7780 - Temperature: 0.4376 - Hidden weights: 0.7814 - Output weights: 0.7852\n",
      "Epoch 40/200\n",
      "1/1 [==============================] - 0s 5ms/step - Error: 0.8303 - Temperature: 0.4536 - Hidden weights: 0.7834 - Output weights: 0.7866\n",
      "Epoch 41/200\n",
      "1/1 [==============================] - 0s 6ms/step - Error: 0.9934 - Temperature: 0.4983 - Hidden weights: 0.7849 - Output weights: 0.7879\n",
      "Epoch 42/200\n",
      "1/1 [==============================] - 0s 10ms/step - Error: 0.8436 - Temperature: 0.4576 - Hidden weights: 0.7887 - Output weights: 0.7902\n",
      "Epoch 43/200\n",
      "1/1 [==============================] - 0s 11ms/step - Error: 0.8052 - Temperature: 0.4460 - Hidden weights: 0.7917 - Output weights: 0.7920\n",
      "Epoch 44/200\n",
      "1/1 [==============================] - 0s 6ms/step - Error: 0.9115 - Temperature: 0.4769 - Hidden weights: 0.7934 - Output weights: 0.7934\n",
      "Epoch 45/200\n",
      "1/1 [==============================] - 0s 6ms/step - Error: 0.7984 - Temperature: 0.4439 - Hidden weights: 0.7967 - Output weights: 0.7954\n",
      "Epoch 46/200\n",
      "1/1 [==============================] - 0s 5ms/step - Error: 1.0642 - Temperature: 0.5156 - Hidden weights: 0.7979 - Output weights: 0.7966\n",
      "Epoch 47/200\n",
      "1/1 [==============================] - 0s 5ms/step - Error: 0.9290 - Temperature: 0.4816 - Hidden weights: 0.8014 - Output weights: 0.7989\n",
      "Epoch 48/200\n",
      "1/1 [==============================] - 0s 5ms/step - Error: 0.6598 - Temperature: 0.3975 - Hidden weights: 0.8068 - Output weights: 0.8015\n",
      "Epoch 49/200\n",
      "1/1 [==============================] - 0s 5ms/step - Error: 0.6561 - Temperature: 0.3962 - Hidden weights: 0.8087 - Output weights: 0.8029\n",
      "Epoch 50/200\n",
      "1/1 [==============================] - 0s 11ms/step - Error: 0.6954 - Temperature: 0.4102 - Hidden weights: 0.8101 - Output weights: 0.8040\n",
      "Epoch 51/200\n",
      "1/1 [==============================] - 0s 10ms/step - Error: 0.6755 - Temperature: 0.4032 - Hidden weights: 0.8120 - Output weights: 0.8052\n",
      "Epoch 52/200\n",
      "1/1 [==============================] - 0s 7ms/step - Error: 0.6773 - Temperature: 0.4038 - Hidden weights: 0.8137 - Output weights: 0.8064\n",
      "Epoch 53/200\n",
      "1/1 [==============================] - 0s 8ms/step - Error: 0.5640 - Temperature: 0.3606 - Hidden weights: 0.8162 - Output weights: 0.8077\n",
      "Epoch 54/200\n",
      "1/1 [==============================] - 0s 5ms/step - Error: 0.5283 - Temperature: 0.3457 - Hidden weights: 0.8178 - Output weights: 0.8088\n",
      "Epoch 55/200\n",
      "1/1 [==============================] - 0s 37ms/step - Error: 0.5491 - Temperature: 0.3545 - Hidden weights: 0.8188 - Output weights: 0.8096\n",
      "Epoch 56/200\n",
      "1/1 [==============================] - 0s 26ms/step - Error: 0.6114 - Temperature: 0.3794 - Hidden weights: 0.8196 - Output weights: 0.8103\n",
      "Epoch 57/200\n",
      "1/1 [==============================] - 0s 9ms/step - Error: 0.6719 - Temperature: 0.4019 - Hidden weights: 0.8206 - Output weights: 0.8110\n",
      "Epoch 58/200\n",
      "1/1 [==============================] - 0s 13ms/step - Error: 0.5416 - Temperature: 0.3513 - Hidden weights: 0.8230 - Output weights: 0.8123\n",
      "Epoch 59/200\n",
      "1/1 [==============================] - 0s 9ms/step - Error: 0.6733 - Temperature: 0.4024 - Hidden weights: 0.8238 - Output weights: 0.8129\n",
      "Epoch 60/200\n",
      "1/1 [==============================] - 0s 6ms/step - Error: 0.8250 - Temperature: 0.4521 - Hidden weights: 0.8245 - Output weights: 0.8137\n",
      "Epoch 61/200\n",
      "1/1 [==============================] - 0s 6ms/step - Error: 0.9407 - Temperature: 0.4847 - Hidden weights: 0.8258 - Output weights: 0.8146\n",
      "Epoch 62/200\n",
      "1/1 [==============================] - 0s 9ms/step - Error: 0.7361 - Temperature: 0.4240 - Hidden weights: 0.8294 - Output weights: 0.8167\n",
      "Epoch 63/200\n",
      "1/1 [==============================] - 0s 7ms/step - Error: 0.7283 - Temperature: 0.4214 - Hidden weights: 0.8314 - Output weights: 0.8181\n",
      "Epoch 64/200\n",
      "1/1 [==============================] - 0s 8ms/step - Error: 0.7605 - Temperature: 0.4320 - Hidden weights: 0.8330 - Output weights: 0.8192\n",
      "Epoch 65/200\n",
      "1/1 [==============================] - 0s 7ms/step - Error: 0.6096 - Temperature: 0.3787 - Hidden weights: 0.8358 - Output weights: 0.8208\n",
      "Epoch 66/200\n",
      "1/1 [==============================] - 0s 4ms/step - Error: 0.4838 - Temperature: 0.3260 - Hidden weights: 0.8380 - Output weights: 0.8220\n",
      "Epoch 67/200\n",
      "1/1 [==============================] - 0s 4ms/step - Error: 0.3733 - Temperature: 0.2718 - Hidden weights: 0.8395 - Output weights: 0.8228\n",
      "Epoch 68/200\n",
      "1/1 [==============================] - 0s 3ms/step - Error: 0.2878 - Temperature: 0.2235 - Hidden weights: 0.8403 - Output weights: 0.8232\n",
      "Epoch 69/200\n",
      "1/1 [==============================] - 0s 4ms/step - Error: 0.2592 - Temperature: 0.2059 - Hidden weights: 0.8405 - Output weights: 0.8234\n",
      "Epoch 70/200\n",
      "1/1 [==============================] - 0s 3ms/step - Error: 0.2529 - Temperature: 0.2018 - Hidden weights: 0.8406 - Output weights: 0.8235\n",
      "Epoch 71/200\n",
      "1/1 [==============================] - 0s 2ms/step - Error: 0.0652 - Temperature: 0.0612 - Hidden weights: 0.8414 - Output weights: 0.8238\n",
      "Epoch 72/200\n",
      "1/1 [==============================] - 0s 3ms/step - Error: 0.0030 - Temperature: 0.0030 - Hidden weights: 0.8414 - Output weights: 0.8238\n",
      "Epoch 73/200\n",
      "1/1 [==============================] - 0s 3ms/step - Error: 0.0000e+00 - Temperature: 0.0000e+00 - Hidden weights: 0.8414 - Output weights: 0.8238\n",
      "Epoch 74/200\n",
      "1/1 [==============================] - 0s 3ms/step - Error: 0.0000e+00 - Temperature: 0.0000e+00 - Hidden weights: 0.8414 - Output weights: 0.8238\n",
      "Epoch 75/200\n",
      "1/1 [==============================] - 0s 3ms/step - Error: 0.0000e+00 - Temperature: 0.0000e+00 - Hidden weights: 0.8414 - Output weights: 0.8238\n",
      "Epoch 76/200\n",
      "1/1 [==============================] - 0s 2ms/step - Error: 0.0000e+00 - Temperature: 0.0000e+00 - Hidden weights: 0.8414 - Output weights: 0.8238\n",
      "Epoch 77/200\n",
      "1/1 [==============================] - 0s 2ms/step - Error: 0.0000e+00 - Temperature: 0.0000e+00 - Hidden weights: 0.8414 - Output weights: 0.8238\n",
      "Epoch 78/200\n",
      "1/1 [==============================] - 0s 2ms/step - Error: 0.0000e+00 - Temperature: 0.0000e+00 - Hidden weights: 0.8414 - Output weights: 0.8238\n",
      "Epoch 79/200\n",
      "1/1 [==============================] - 0s 2ms/step - Error: 0.0000e+00 - Temperature: 0.0000e+00 - Hidden weights: 0.8414 - Output weights: 0.8238\n",
      "Epoch 80/200\n",
      "1/1 [==============================] - 0s 2ms/step - Error: 0.0000e+00 - Temperature: 0.0000e+00 - Hidden weights: 0.8414 - Output weights: 0.8238\n",
      "Epoch 81/200\n",
      "1/1 [==============================] - 0s 7ms/step - Error: 0.0000e+00 - Temperature: 0.0000e+00 - Hidden weights: 0.8414 - Output weights: 0.8238\n",
      "Epoch 82/200\n",
      "1/1 [==============================] - 0s 6ms/step - Error: 0.0000e+00 - Temperature: 0.0000e+00 - Hidden weights: 0.8414 - Output weights: 0.8238\n",
      "Epoch 83/200\n",
      "1/1 [==============================] - 0s 4ms/step - Error: 0.0000e+00 - Temperature: 0.0000e+00 - Hidden weights: 0.8414 - Output weights: 0.8238\n",
      "Epoch 84/200\n",
      "1/1 [==============================] - 0s 2ms/step - Error: 0.0000e+00 - Temperature: 0.0000e+00 - Hidden weights: 0.8414 - Output weights: 0.8238\n",
      "Epoch 85/200\n",
      "1/1 [==============================] - 0s 2ms/step - Error: 0.0000e+00 - Temperature: 0.0000e+00 - Hidden weights: 0.8414 - Output weights: 0.8238\n",
      "Epoch 86/200\n",
      "1/1 [==============================] - 0s 3ms/step - Error: 0.0000e+00 - Temperature: 0.0000e+00 - Hidden weights: 0.8414 - Output weights: 0.8238\n",
      "Epoch 87/200\n",
      "1/1 [==============================] - 0s 3ms/step - Error: 0.0000e+00 - Temperature: 0.0000e+00 - Hidden weights: 0.8414 - Output weights: 0.8238\n",
      "Epoch 88/200\n",
      "1/1 [==============================] - 0s 2ms/step - Error: 0.0000e+00 - Temperature: 0.0000e+00 - Hidden weights: 0.8414 - Output weights: 0.8238\n",
      "Epoch 89/200\n",
      "1/1 [==============================] - 0s 2ms/step - Error: 0.0000e+00 - Temperature: 0.0000e+00 - Hidden weights: 0.8414 - Output weights: 0.8238\n",
      "Epoch 90/200\n",
      "1/1 [==============================] - 0s 2ms/step - Error: 0.0000e+00 - Temperature: 0.0000e+00 - Hidden weights: 0.8414 - Output weights: 0.8238\n",
      "Epoch 91/200\n",
      "1/1 [==============================] - 0s 2ms/step - Error: 0.0000e+00 - Temperature: 0.0000e+00 - Hidden weights: 0.8414 - Output weights: 0.8238\n",
      "Epoch 92/200\n",
      "1/1 [==============================] - 0s 2ms/step - Error: 0.0000e+00 - Temperature: 0.0000e+00 - Hidden weights: 0.8414 - Output weights: 0.8238\n",
      "Epoch 93/200\n",
      "1/1 [==============================] - 0s 2ms/step - Error: 0.0000e+00 - Temperature: 0.0000e+00 - Hidden weights: 0.8414 - Output weights: 0.8238\n",
      "Epoch 94/200\n",
      "1/1 [==============================] - 0s 2ms/step - Error: 0.0000e+00 - Temperature: 0.0000e+00 - Hidden weights: 0.8414 - Output weights: 0.8238\n",
      "Epoch 95/200\n",
      "1/1 [==============================] - 0s 2ms/step - Error: 0.0000e+00 - Temperature: 0.0000e+00 - Hidden weights: 0.8414 - Output weights: 0.8238\n",
      "Epoch 96/200\n",
      "1/1 [==============================] - 0s 2ms/step - Error: 0.0000e+00 - Temperature: 0.0000e+00 - Hidden weights: 0.8414 - Output weights: 0.8238\n",
      "Epoch 97/200\n",
      "1/1 [==============================] - 0s 2ms/step - Error: 0.0000e+00 - Temperature: 0.0000e+00 - Hidden weights: 0.8414 - Output weights: 0.8238\n",
      "Epoch 98/200\n",
      "1/1 [==============================] - 0s 3ms/step - Error: 0.0000e+00 - Temperature: 0.0000e+00 - Hidden weights: 0.8414 - Output weights: 0.8238\n",
      "Epoch 99/200\n",
      "1/1 [==============================] - 0s 2ms/step - Error: 0.0000e+00 - Temperature: 0.0000e+00 - Hidden weights: 0.8414 - Output weights: 0.8238\n",
      "Epoch 100/200\n",
      "1/1 [==============================] - 0s 3ms/step - Error: 0.0000e+00 - Temperature: 0.0000e+00 - Hidden weights: 0.8414 - Output weights: 0.8238\n",
      "Epoch 101/200\n",
      "1/1 [==============================] - 0s 6ms/step - Error: 0.0000e+00 - Temperature: 0.0000e+00 - Hidden weights: 0.8414 - Output weights: 0.8238\n",
      "Epoch 102/200\n",
      "1/1 [==============================] - 0s 6ms/step - Error: 0.0000e+00 - Temperature: 0.0000e+00 - Hidden weights: 0.8414 - Output weights: 0.8238\n",
      "Epoch 103/200\n",
      "1/1 [==============================] - 0s 3ms/step - Error: 0.0000e+00 - Temperature: 0.0000e+00 - Hidden weights: 0.8414 - Output weights: 0.8238\n",
      "Epoch 104/200\n",
      "1/1 [==============================] - 0s 7ms/step - Error: 0.0000e+00 - Temperature: 0.0000e+00 - Hidden weights: 0.8414 - Output weights: 0.8238\n",
      "Epoch 105/200\n",
      "1/1 [==============================] - 0s 4ms/step - Error: 0.0000e+00 - Temperature: 0.0000e+00 - Hidden weights: 0.8414 - Output weights: 0.8238\n",
      "Epoch 106/200\n",
      "1/1 [==============================] - 0s 2ms/step - Error: 0.0000e+00 - Temperature: 0.0000e+00 - Hidden weights: 0.8414 - Output weights: 0.8238\n",
      "Epoch 107/200\n",
      "1/1 [==============================] - 0s 3ms/step - Error: 0.0000e+00 - Temperature: 0.0000e+00 - Hidden weights: 0.8414 - Output weights: 0.8238\n",
      "Epoch 108/200\n",
      "1/1 [==============================] - 0s 3ms/step - Error: 0.0000e+00 - Temperature: 0.0000e+00 - Hidden weights: 0.8414 - Output weights: 0.8238\n",
      "Epoch 109/200\n",
      "1/1 [==============================] - 0s 3ms/step - Error: 0.0000e+00 - Temperature: 0.0000e+00 - Hidden weights: 0.8414 - Output weights: 0.8238\n",
      "Epoch 110/200\n",
      "1/1 [==============================] - 0s 2ms/step - Error: 0.0000e+00 - Temperature: 0.0000e+00 - Hidden weights: 0.8414 - Output weights: 0.8238\n",
      "Epoch 111/200\n",
      "1/1 [==============================] - 0s 2ms/step - Error: 0.0000e+00 - Temperature: 0.0000e+00 - Hidden weights: 0.8414 - Output weights: 0.8238\n",
      "Epoch 112/200\n",
      "1/1 [==============================] - 0s 3ms/step - Error: 0.0000e+00 - Temperature: 0.0000e+00 - Hidden weights: 0.8414 - Output weights: 0.8238\n",
      "Epoch 113/200\n",
      "1/1 [==============================] - 0s 3ms/step - Error: 0.0000e+00 - Temperature: 0.0000e+00 - Hidden weights: 0.8414 - Output weights: 0.8238\n",
      "Epoch 114/200\n",
      "1/1 [==============================] - 0s 4ms/step - Error: 0.0000e+00 - Temperature: 0.0000e+00 - Hidden weights: 0.8414 - Output weights: 0.8238\n",
      "Epoch 115/200\n",
      "1/1 [==============================] - 0s 4ms/step - Error: 0.0000e+00 - Temperature: 0.0000e+00 - Hidden weights: 0.8414 - Output weights: 0.8238\n",
      "Epoch 116/200\n",
      "1/1 [==============================] - 0s 3ms/step - Error: 0.0000e+00 - Temperature: 0.0000e+00 - Hidden weights: 0.8414 - Output weights: 0.8238\n",
      "Epoch 117/200\n",
      "1/1 [==============================] - 0s 4ms/step - Error: 0.0000e+00 - Temperature: 0.0000e+00 - Hidden weights: 0.8414 - Output weights: 0.8238\n",
      "Epoch 118/200\n",
      "1/1 [==============================] - 0s 5ms/step - Error: 0.0000e+00 - Temperature: 0.0000e+00 - Hidden weights: 0.8414 - Output weights: 0.8238\n",
      "Epoch 119/200\n",
      "1/1 [==============================] - 0s 5ms/step - Error: 0.0000e+00 - Temperature: 0.0000e+00 - Hidden weights: 0.8414 - Output weights: 0.8238\n",
      "Epoch 120/200\n",
      "1/1 [==============================] - 0s 4ms/step - Error: 0.0000e+00 - Temperature: 0.0000e+00 - Hidden weights: 0.8414 - Output weights: 0.8238\n",
      "Epoch 121/200\n",
      "1/1 [==============================] - 0s 4ms/step - Error: 0.0000e+00 - Temperature: 0.0000e+00 - Hidden weights: 0.8414 - Output weights: 0.8238\n",
      "Epoch 122/200\n",
      "1/1 [==============================] - 0s 4ms/step - Error: 0.0000e+00 - Temperature: 0.0000e+00 - Hidden weights: 0.8414 - Output weights: 0.8238\n",
      "Epoch 123/200\n",
      "1/1 [==============================] - 0s 4ms/step - Error: 0.0000e+00 - Temperature: 0.0000e+00 - Hidden weights: 0.8414 - Output weights: 0.8238\n",
      "Epoch 124/200\n",
      "1/1 [==============================] - 0s 8ms/step - Error: 0.0000e+00 - Temperature: 0.0000e+00 - Hidden weights: 0.8414 - Output weights: 0.8238\n",
      "Epoch 125/200\n",
      "1/1 [==============================] - 0s 6ms/step - Error: 0.0000e+00 - Temperature: 0.0000e+00 - Hidden weights: 0.8414 - Output weights: 0.8238\n",
      "Epoch 126/200\n",
      "1/1 [==============================] - 0s 6ms/step - Error: 0.0000e+00 - Temperature: 0.0000e+00 - Hidden weights: 0.8414 - Output weights: 0.8238\n",
      "Epoch 127/200\n",
      "1/1 [==============================] - 0s 4ms/step - Error: 0.0000e+00 - Temperature: 0.0000e+00 - Hidden weights: 0.8414 - Output weights: 0.8238\n",
      "Epoch 128/200\n",
      "1/1 [==============================] - 0s 7ms/step - Error: 0.0000e+00 - Temperature: 0.0000e+00 - Hidden weights: 0.8414 - Output weights: 0.8238\n",
      "Epoch 129/200\n",
      "1/1 [==============================] - 0s 8ms/step - Error: 0.0000e+00 - Temperature: 0.0000e+00 - Hidden weights: 0.8414 - Output weights: 0.8238\n",
      "Epoch 130/200\n",
      "1/1 [==============================] - 0s 4ms/step - Error: 0.0000e+00 - Temperature: 0.0000e+00 - Hidden weights: 0.8414 - Output weights: 0.8238\n",
      "Epoch 131/200\n",
      "1/1 [==============================] - 0s 6ms/step - Error: 0.0000e+00 - Temperature: 0.0000e+00 - Hidden weights: 0.8414 - Output weights: 0.8238\n",
      "Epoch 132/200\n",
      "1/1 [==============================] - 0s 4ms/step - Error: 0.0000e+00 - Temperature: 0.0000e+00 - Hidden weights: 0.8414 - Output weights: 0.8238\n",
      "Epoch 133/200\n",
      "1/1 [==============================] - 0s 6ms/step - Error: 0.0000e+00 - Temperature: 0.0000e+00 - Hidden weights: 0.8414 - Output weights: 0.8238\n",
      "Epoch 134/200\n",
      "1/1 [==============================] - 0s 18ms/step - Error: 0.0000e+00 - Temperature: 0.0000e+00 - Hidden weights: 0.8414 - Output weights: 0.8238\n",
      "Epoch 135/200\n",
      "1/1 [==============================] - 0s 12ms/step - Error: 0.0000e+00 - Temperature: 0.0000e+00 - Hidden weights: 0.8414 - Output weights: 0.8238\n",
      "Epoch 136/200\n",
      "1/1 [==============================] - 0s 13ms/step - Error: 0.0000e+00 - Temperature: 0.0000e+00 - Hidden weights: 0.8414 - Output weights: 0.8238\n",
      "Epoch 137/200\n",
      "1/1 [==============================] - 0s 10ms/step - Error: 0.0000e+00 - Temperature: 0.0000e+00 - Hidden weights: 0.8414 - Output weights: 0.8238\n",
      "Epoch 138/200\n",
      "1/1 [==============================] - 0s 16ms/step - Error: 0.0000e+00 - Temperature: 0.0000e+00 - Hidden weights: 0.8414 - Output weights: 0.8238\n",
      "Epoch 139/200\n",
      "1/1 [==============================] - 0s 11ms/step - Error: 0.0000e+00 - Temperature: 0.0000e+00 - Hidden weights: 0.8414 - Output weights: 0.8238\n",
      "Epoch 140/200\n",
      "1/1 [==============================] - 0s 18ms/step - Error: 0.0000e+00 - Temperature: 0.0000e+00 - Hidden weights: 0.8414 - Output weights: 0.8238\n",
      "Epoch 141/200\n",
      "1/1 [==============================] - 0s 13ms/step - Error: 0.0000e+00 - Temperature: 0.0000e+00 - Hidden weights: 0.8414 - Output weights: 0.8238\n",
      "Epoch 142/200\n",
      "1/1 [==============================] - 0s 14ms/step - Error: 0.0000e+00 - Temperature: 0.0000e+00 - Hidden weights: 0.8414 - Output weights: 0.8238\n",
      "Epoch 143/200\n",
      "1/1 [==============================] - 0s 14ms/step - Error: 0.0000e+00 - Temperature: 0.0000e+00 - Hidden weights: 0.8414 - Output weights: 0.8238\n",
      "Epoch 144/200\n",
      "1/1 [==============================] - 0s 18ms/step - Error: 0.0000e+00 - Temperature: 0.0000e+00 - Hidden weights: 0.8414 - Output weights: 0.8238\n",
      "Epoch 145/200\n",
      "1/1 [==============================] - 0s 8ms/step - Error: 0.0000e+00 - Temperature: 0.0000e+00 - Hidden weights: 0.8414 - Output weights: 0.8238\n",
      "Epoch 146/200\n",
      "1/1 [==============================] - 0s 13ms/step - Error: 0.0000e+00 - Temperature: 0.0000e+00 - Hidden weights: 0.8414 - Output weights: 0.8238\n",
      "Epoch 147/200\n",
      "1/1 [==============================] - 0s 5ms/step - Error: 0.0000e+00 - Temperature: 0.0000e+00 - Hidden weights: 0.8414 - Output weights: 0.8238\n",
      "Epoch 148/200\n",
      "1/1 [==============================] - 0s 12ms/step - Error: 0.0000e+00 - Temperature: 0.0000e+00 - Hidden weights: 0.8414 - Output weights: 0.8238\n",
      "Epoch 149/200\n",
      "1/1 [==============================] - 0s 7ms/step - Error: 0.0000e+00 - Temperature: 0.0000e+00 - Hidden weights: 0.8414 - Output weights: 0.8238\n",
      "Epoch 150/200\n",
      "1/1 [==============================] - 0s 15ms/step - Error: 0.0000e+00 - Temperature: 0.0000e+00 - Hidden weights: 0.8414 - Output weights: 0.8238\n",
      "Epoch 151/200\n",
      "1/1 [==============================] - 0s 12ms/step - Error: 0.0000e+00 - Temperature: 0.0000e+00 - Hidden weights: 0.8414 - Output weights: 0.8238\n",
      "Epoch 152/200\n",
      "1/1 [==============================] - 0s 25ms/step - Error: 0.0000e+00 - Temperature: 0.0000e+00 - Hidden weights: 0.8414 - Output weights: 0.8238\n",
      "Epoch 153/200\n",
      "1/1 [==============================] - 0s 15ms/step - Error: 0.0000e+00 - Temperature: 0.0000e+00 - Hidden weights: 0.8414 - Output weights: 0.8238\n",
      "Epoch 154/200\n",
      "1/1 [==============================] - 0s 16ms/step - Error: 0.0000e+00 - Temperature: 0.0000e+00 - Hidden weights: 0.8414 - Output weights: 0.8238\n",
      "Epoch 155/200\n",
      "1/1 [==============================] - 0s 14ms/step - Error: 0.0000e+00 - Temperature: 0.0000e+00 - Hidden weights: 0.8414 - Output weights: 0.8238\n",
      "Epoch 156/200\n",
      "1/1 [==============================] - 0s 12ms/step - Error: 0.0000e+00 - Temperature: 0.0000e+00 - Hidden weights: 0.8414 - Output weights: 0.8238\n",
      "Epoch 157/200\n",
      "1/1 [==============================] - 0s 12ms/step - Error: 0.0000e+00 - Temperature: 0.0000e+00 - Hidden weights: 0.8414 - Output weights: 0.8238\n",
      "Epoch 158/200\n",
      "1/1 [==============================] - 0s 13ms/step - Error: 0.0000e+00 - Temperature: 0.0000e+00 - Hidden weights: 0.8414 - Output weights: 0.8238\n",
      "Epoch 159/200\n",
      "1/1 [==============================] - 0s 9ms/step - Error: 0.0000e+00 - Temperature: 0.0000e+00 - Hidden weights: 0.8414 - Output weights: 0.8238\n",
      "Epoch 160/200\n",
      "1/1 [==============================] - 0s 15ms/step - Error: 0.0000e+00 - Temperature: 0.0000e+00 - Hidden weights: 0.8414 - Output weights: 0.8238\n",
      "Epoch 161/200\n",
      "1/1 [==============================] - 0s 8ms/step - Error: 0.0000e+00 - Temperature: 0.0000e+00 - Hidden weights: 0.8414 - Output weights: 0.8238\n",
      "Epoch 162/200\n",
      "1/1 [==============================] - 0s 8ms/step - Error: 0.0000e+00 - Temperature: 0.0000e+00 - Hidden weights: 0.8414 - Output weights: 0.8238\n",
      "Epoch 163/200\n",
      "1/1 [==============================] - 0s 9ms/step - Error: 0.0000e+00 - Temperature: 0.0000e+00 - Hidden weights: 0.8414 - Output weights: 0.8238\n",
      "Epoch 164/200\n",
      "1/1 [==============================] - 0s 4ms/step - Error: 0.0000e+00 - Temperature: 0.0000e+00 - Hidden weights: 0.8414 - Output weights: 0.8238\n",
      "Epoch 165/200\n",
      "1/1 [==============================] - 0s 8ms/step - Error: 0.0000e+00 - Temperature: 0.0000e+00 - Hidden weights: 0.8414 - Output weights: 0.8238\n",
      "Epoch 166/200\n",
      "1/1 [==============================] - 0s 5ms/step - Error: 0.0000e+00 - Temperature: 0.0000e+00 - Hidden weights: 0.8414 - Output weights: 0.8238\n",
      "Epoch 167/200\n",
      "1/1 [==============================] - 0s 5ms/step - Error: 0.0000e+00 - Temperature: 0.0000e+00 - Hidden weights: 0.8414 - Output weights: 0.8238\n",
      "Epoch 168/200\n",
      "1/1 [==============================] - 0s 6ms/step - Error: 0.0000e+00 - Temperature: 0.0000e+00 - Hidden weights: 0.8414 - Output weights: 0.8238\n",
      "Epoch 169/200\n",
      "1/1 [==============================] - 0s 3ms/step - Error: 0.0000e+00 - Temperature: 0.0000e+00 - Hidden weights: 0.8414 - Output weights: 0.8238\n",
      "Epoch 170/200\n",
      "1/1 [==============================] - 0s 4ms/step - Error: 0.0000e+00 - Temperature: 0.0000e+00 - Hidden weights: 0.8414 - Output weights: 0.8238\n",
      "Epoch 171/200\n",
      "1/1 [==============================] - 0s 5ms/step - Error: 0.0000e+00 - Temperature: 0.0000e+00 - Hidden weights: 0.8414 - Output weights: 0.8238\n",
      "Epoch 172/200\n",
      "1/1 [==============================] - 0s 12ms/step - Error: 0.0000e+00 - Temperature: 0.0000e+00 - Hidden weights: 0.8414 - Output weights: 0.8238\n",
      "Epoch 173/200\n",
      "1/1 [==============================] - 0s 5ms/step - Error: 0.0000e+00 - Temperature: 0.0000e+00 - Hidden weights: 0.8414 - Output weights: 0.8238\n",
      "Epoch 174/200\n",
      "1/1 [==============================] - 0s 8ms/step - Error: 0.0000e+00 - Temperature: 0.0000e+00 - Hidden weights: 0.8414 - Output weights: 0.8238\n",
      "Epoch 175/200\n",
      "1/1 [==============================] - 0s 8ms/step - Error: 0.0000e+00 - Temperature: 0.0000e+00 - Hidden weights: 0.8414 - Output weights: 0.8238\n",
      "Epoch 176/200\n",
      "1/1 [==============================] - 0s 8ms/step - Error: 0.0000e+00 - Temperature: 0.0000e+00 - Hidden weights: 0.8414 - Output weights: 0.8238\n",
      "Epoch 177/200\n",
      "1/1 [==============================] - 0s 4ms/step - Error: 0.0000e+00 - Temperature: 0.0000e+00 - Hidden weights: 0.8414 - Output weights: 0.8238\n",
      "Epoch 178/200\n",
      "1/1 [==============================] - 0s 17ms/step - Error: 0.0000e+00 - Temperature: 0.0000e+00 - Hidden weights: 0.8414 - Output weights: 0.8238\n",
      "Epoch 179/200\n",
      "1/1 [==============================] - 0s 15ms/step - Error: 0.0000e+00 - Temperature: 0.0000e+00 - Hidden weights: 0.8414 - Output weights: 0.8238\n",
      "Epoch 180/200\n",
      "1/1 [==============================] - 0s 14ms/step - Error: 0.0000e+00 - Temperature: 0.0000e+00 - Hidden weights: 0.8414 - Output weights: 0.8238\n",
      "Epoch 181/200\n",
      "1/1 [==============================] - 0s 14ms/step - Error: 0.0000e+00 - Temperature: 0.0000e+00 - Hidden weights: 0.8414 - Output weights: 0.8238\n",
      "Epoch 182/200\n",
      "1/1 [==============================] - 0s 22ms/step - Error: 0.0000e+00 - Temperature: 0.0000e+00 - Hidden weights: 0.8414 - Output weights: 0.8238\n",
      "Epoch 183/200\n",
      "1/1 [==============================] - ETA: 0s - Error: 0.0000e+00 - Temperature: 0.0000e+00 - Hidden weights: 0.8414 - Output weights: 0.82 - 0s 10ms/step - Error: 0.0000e+00 - Temperature: 0.0000e+00 - Hidden weights: 0.8414 - Output weights: 0.8238\n",
      "Epoch 184/200\n",
      "1/1 [==============================] - 0s 10ms/step - Error: 0.0000e+00 - Temperature: 0.0000e+00 - Hidden weights: 0.8414 - Output weights: 0.8238\n",
      "Epoch 185/200\n",
      "1/1 [==============================] - 0s 18ms/step - Error: 0.0000e+00 - Temperature: 0.0000e+00 - Hidden weights: 0.8414 - Output weights: 0.8238\n",
      "Epoch 186/200\n",
      "1/1 [==============================] - 0s 14ms/step - Error: 0.0000e+00 - Temperature: 0.0000e+00 - Hidden weights: 0.8414 - Output weights: 0.8238\n",
      "Epoch 187/200\n",
      "1/1 [==============================] - 0s 15ms/step - Error: 0.0000e+00 - Temperature: 0.0000e+00 - Hidden weights: 0.8414 - Output weights: 0.8238\n",
      "Epoch 188/200\n",
      "1/1 [==============================] - 0s 14ms/step - Error: 0.0000e+00 - Temperature: 0.0000e+00 - Hidden weights: 0.8414 - Output weights: 0.8238\n",
      "Epoch 189/200\n",
      "1/1 [==============================] - 0s 6ms/step - Error: 0.0000e+00 - Temperature: 0.0000e+00 - Hidden weights: 0.8414 - Output weights: 0.8238\n",
      "Epoch 190/200\n",
      "1/1 [==============================] - 0s 7ms/step - Error: 0.0000e+00 - Temperature: 0.0000e+00 - Hidden weights: 0.8414 - Output weights: 0.8238\n",
      "Epoch 191/200\n",
      "1/1 [==============================] - 0s 10ms/step - Error: 0.0000e+00 - Temperature: 0.0000e+00 - Hidden weights: 0.8414 - Output weights: 0.8238\n",
      "Epoch 192/200\n",
      "1/1 [==============================] - 0s 6ms/step - Error: 0.0000e+00 - Temperature: 0.0000e+00 - Hidden weights: 0.8414 - Output weights: 0.8238\n",
      "Epoch 193/200\n",
      "1/1 [==============================] - 0s 6ms/step - Error: 0.0000e+00 - Temperature: 0.0000e+00 - Hidden weights: 0.8414 - Output weights: 0.8238\n",
      "Epoch 194/200\n",
      "1/1 [==============================] - 0s 13ms/step - Error: 0.0000e+00 - Temperature: 0.0000e+00 - Hidden weights: 0.8414 - Output weights: 0.8238\n",
      "Epoch 195/200\n",
      "1/1 [==============================] - 0s 9ms/step - Error: 0.0000e+00 - Temperature: 0.0000e+00 - Hidden weights: 0.8414 - Output weights: 0.8238\n",
      "Epoch 196/200\n",
      "1/1 [==============================] - 0s 6ms/step - Error: 0.0000e+00 - Temperature: 0.0000e+00 - Hidden weights: 0.8414 - Output weights: 0.8238\n",
      "Epoch 197/200\n",
      "1/1 [==============================] - 0s 12ms/step - Error: 0.0000e+00 - Temperature: 0.0000e+00 - Hidden weights: 0.8414 - Output weights: 0.8238\n",
      "Epoch 198/200\n",
      "1/1 [==============================] - 0s 8ms/step - Error: 0.0000e+00 - Temperature: 0.0000e+00 - Hidden weights: 0.8414 - Output weights: 0.8238\n",
      "Epoch 199/200\n",
      "1/1 [==============================] - 0s 10ms/step - Error: 0.0000e+00 - Temperature: 0.0000e+00 - Hidden weights: 0.8414 - Output weights: 0.8238\n",
      "Epoch 200/200\n",
      "1/1 [==============================] - 0s 6ms/step - Error: 0.0000e+00 - Temperature: 0.0000e+00 - Hidden weights: 0.8414 - Output weights: 0.8238\n"
     ]
    }
   ],
   "source": [
    "model.compile()\n",
    "model_history = model.fit(x = input, epochs=200)"
   ]
  },
  {
   "cell_type": "code",
   "execution_count": 622,
   "metadata": {},
   "outputs": [
    {
     "data": {
      "text/html": [
       "<div>\n",
       "<style scoped>\n",
       "    .dataframe tbody tr th:only-of-type {\n",
       "        vertical-align: middle;\n",
       "    }\n",
       "\n",
       "    .dataframe tbody tr th {\n",
       "        vertical-align: top;\n",
       "    }\n",
       "\n",
       "    .dataframe thead th {\n",
       "        text-align: right;\n",
       "    }\n",
       "</style>\n",
       "<table border=\"1\" class=\"dataframe\">\n",
       "  <thead>\n",
       "    <tr style=\"text-align: right;\">\n",
       "      <th></th>\n",
       "      <th>Error</th>\n",
       "      <th>Temperature</th>\n",
       "      <th>Hidden weights</th>\n",
       "      <th>Output weights</th>\n",
       "    </tr>\n",
       "  </thead>\n",
       "  <tbody>\n",
       "    <tr>\n",
       "      <th>0</th>\n",
       "      <td>1.657840</td>\n",
       "      <td>0.623755</td>\n",
       "      <td>[[0.6031804, 0.5413673, 0.5479333, 0.5, 0.6802...</td>\n",
       "      <td>[[0.63379776, 0.6264973, 0.6259154, 0.6363434,...</td>\n",
       "    </tr>\n",
       "    <tr>\n",
       "      <th>1</th>\n",
       "      <td>1.344985</td>\n",
       "      <td>0.573558</td>\n",
       "      <td>[[0.60868835, 0.5858942, 0.57332426, 0.5279099...</td>\n",
       "      <td>[[0.6676126, 0.6412147, 0.64973265, 0.6679367,...</td>\n",
       "    </tr>\n",
       "    <tr>\n",
       "      <th>2</th>\n",
       "      <td>1.165860</td>\n",
       "      <td>0.538290</td>\n",
       "      <td>[[0.61010337, 0.6024244, 0.60463345, 0.5657351...</td>\n",
       "      <td>[[0.6930622, 0.6564573, 0.6600961, 0.68614995,...</td>\n",
       "    </tr>\n",
       "    <tr>\n",
       "      <th>3</th>\n",
       "      <td>1.596234</td>\n",
       "      <td>0.614827</td>\n",
       "      <td>[[0.61010337, 0.6040134, 0.6108197, 0.57632494...</td>\n",
       "      <td>[[0.70258236, 0.66473275, 0.66606116, 0.693731...</td>\n",
       "    </tr>\n",
       "    <tr>\n",
       "      <th>4</th>\n",
       "      <td>1.290681</td>\n",
       "      <td>0.563449</td>\n",
       "      <td>[[0.62323034, 0.6296244, 0.6108197, 0.59762275...</td>\n",
       "      <td>[[0.7155466, 0.6721992, 0.6793086, 0.70328337,...</td>\n",
       "    </tr>\n",
       "    <tr>\n",
       "      <th>...</th>\n",
       "      <td>...</td>\n",
       "      <td>...</td>\n",
       "      <td>...</td>\n",
       "      <td>...</td>\n",
       "    </tr>\n",
       "    <tr>\n",
       "      <th>195</th>\n",
       "      <td>0.000000</td>\n",
       "      <td>0.000000</td>\n",
       "      <td>[[0.8592487, 0.8932492, 0.86907536, 0.7675367,...</td>\n",
       "      <td>[[0.8666841, 0.81927496, 0.828295, 0.840817, 0...</td>\n",
       "    </tr>\n",
       "    <tr>\n",
       "      <th>196</th>\n",
       "      <td>0.000000</td>\n",
       "      <td>0.000000</td>\n",
       "      <td>[[0.8592487, 0.8932492, 0.86907536, 0.7675367,...</td>\n",
       "      <td>[[0.8666841, 0.81927496, 0.828295, 0.840817, 0...</td>\n",
       "    </tr>\n",
       "    <tr>\n",
       "      <th>197</th>\n",
       "      <td>0.000000</td>\n",
       "      <td>0.000000</td>\n",
       "      <td>[[0.8592487, 0.8932492, 0.86907536, 0.7675367,...</td>\n",
       "      <td>[[0.8666841, 0.81927496, 0.828295, 0.840817, 0...</td>\n",
       "    </tr>\n",
       "    <tr>\n",
       "      <th>198</th>\n",
       "      <td>0.000000</td>\n",
       "      <td>0.000000</td>\n",
       "      <td>[[0.8592487, 0.8932492, 0.86907536, 0.7675367,...</td>\n",
       "      <td>[[0.8666841, 0.81927496, 0.828295, 0.840817, 0...</td>\n",
       "    </tr>\n",
       "    <tr>\n",
       "      <th>199</th>\n",
       "      <td>0.000000</td>\n",
       "      <td>0.000000</td>\n",
       "      <td>[[0.8592487, 0.8932492, 0.86907536, 0.7675367,...</td>\n",
       "      <td>[[0.8666841, 0.81927496, 0.828295, 0.840817, 0...</td>\n",
       "    </tr>\n",
       "  </tbody>\n",
       "</table>\n",
       "<p>200 rows × 4 columns</p>\n",
       "</div>"
      ],
      "text/plain": [
       "        Error  Temperature                                     Hidden weights  \\\n",
       "0    1.657840     0.623755  [[0.6031804, 0.5413673, 0.5479333, 0.5, 0.6802...   \n",
       "1    1.344985     0.573558  [[0.60868835, 0.5858942, 0.57332426, 0.5279099...   \n",
       "2    1.165860     0.538290  [[0.61010337, 0.6024244, 0.60463345, 0.5657351...   \n",
       "3    1.596234     0.614827  [[0.61010337, 0.6040134, 0.6108197, 0.57632494...   \n",
       "4    1.290681     0.563449  [[0.62323034, 0.6296244, 0.6108197, 0.59762275...   \n",
       "..        ...          ...                                                ...   \n",
       "195  0.000000     0.000000  [[0.8592487, 0.8932492, 0.86907536, 0.7675367,...   \n",
       "196  0.000000     0.000000  [[0.8592487, 0.8932492, 0.86907536, 0.7675367,...   \n",
       "197  0.000000     0.000000  [[0.8592487, 0.8932492, 0.86907536, 0.7675367,...   \n",
       "198  0.000000     0.000000  [[0.8592487, 0.8932492, 0.86907536, 0.7675367,...   \n",
       "199  0.000000     0.000000  [[0.8592487, 0.8932492, 0.86907536, 0.7675367,...   \n",
       "\n",
       "                                        Output weights  \n",
       "0    [[0.63379776, 0.6264973, 0.6259154, 0.6363434,...  \n",
       "1    [[0.6676126, 0.6412147, 0.64973265, 0.6679367,...  \n",
       "2    [[0.6930622, 0.6564573, 0.6600961, 0.68614995,...  \n",
       "3    [[0.70258236, 0.66473275, 0.66606116, 0.693731...  \n",
       "4    [[0.7155466, 0.6721992, 0.6793086, 0.70328337,...  \n",
       "..                                                 ...  \n",
       "195  [[0.8666841, 0.81927496, 0.828295, 0.840817, 0...  \n",
       "196  [[0.8666841, 0.81927496, 0.828295, 0.840817, 0...  \n",
       "197  [[0.8666841, 0.81927496, 0.828295, 0.840817, 0...  \n",
       "198  [[0.8666841, 0.81927496, 0.828295, 0.840817, 0...  \n",
       "199  [[0.8666841, 0.81927496, 0.828295, 0.840817, 0...  \n",
       "\n",
       "[200 rows x 4 columns]"
      ]
     },
     "execution_count": 622,
     "metadata": {},
     "output_type": "execute_result"
    }
   ],
   "source": [
    "df_model_history = pd.DataFrame(model_history.history)\n",
    "df_model_history"
   ]
  },
  {
   "cell_type": "code",
   "execution_count": 623,
   "metadata": {},
   "outputs": [
    {
     "data": {
      "text/plain": [
       "array([0.8592487 , 0.8932492 , 0.86907536, 0.7675367 , 0.98429793,\n",
       "       0.77939373, 0.9149864 , 0.8982889 , 0.84888494, 0.8679098 ,\n",
       "       0.8049648 , 0.8769964 , 0.86114264, 0.9195248 ], dtype=float32)"
      ]
     },
     "execution_count": 623,
     "metadata": {},
     "output_type": "execute_result"
    }
   ],
   "source": [
    "model.get_weights()[1][0]"
   ]
  },
  {
   "cell_type": "code",
   "execution_count": 624,
   "metadata": {},
   "outputs": [
    {
     "data": {
      "text/plain": [
       "array([0.73225176, 0.9163267 , 0.92907405, 0.8708605 , 0.6993727 ,\n",
       "       0.9823044 , 0.7190175 , 0.74858487, 0.90456504, 0.7430311 ,\n",
       "       0.90435845, 0.8533661 , 0.6810275 , 0.7304508 ], dtype=float32)"
      ]
     },
     "execution_count": 624,
     "metadata": {},
     "output_type": "execute_result"
    }
   ],
   "source": [
    "model.get_weights()[1][1]"
   ]
  },
  {
   "cell_type": "code",
   "execution_count": 625,
   "metadata": {},
   "outputs": [
    {
     "data": {
      "text/plain": [
       "array([0.12699693, 0.02307749, 0.05999869, 0.10332382, 0.28492522,\n",
       "       0.20291066, 0.19596887, 0.14970404, 0.0556801 , 0.1248787 ,\n",
       "       0.09939367, 0.02363032, 0.18011516, 0.18907398], dtype=float32)"
      ]
     },
     "execution_count": 625,
     "metadata": {},
     "output_type": "execute_result"
    }
   ],
   "source": [
    "dvf = abs(model.get_weights()[1][0] - model.get_weights()[1][1])\n",
    "dvf"
   ]
  },
  {
   "cell_type": "code",
   "execution_count": 626,
   "metadata": {},
   "outputs": [
    {
     "data": {
      "text/plain": [
       "array([[0.427, 0.03 ],\n",
       "       [0.224, 0.   ],\n",
       "       [0.168, 0.   ],\n",
       "       [0.875, 0.427],\n",
       "       [0.   , 0.01 ],\n",
       "       [0.875, 0.   ],\n",
       "       [0.224, 0.266],\n",
       "       [0.224, 0.875],\n",
       "       [0.168, 0.224],\n",
       "       [0.168, 0.875],\n",
       "       [0.427, 0.224],\n",
       "       [0.168, 0.427],\n",
       "       [0.427, 0.01 ],\n",
       "       [0.168, 0.03 ]], dtype=float32)"
      ]
     },
     "execution_count": 626,
     "metadata": {},
     "output_type": "execute_result"
    }
   ],
   "source": [
    "model.get_weights()[0]"
   ]
  },
  {
   "cell_type": "code",
   "execution_count": 627,
   "metadata": {},
   "outputs": [
    {
     "data": {
      "text/plain": [
       "array([0.427, 0.224, 0.168, 0.875, 0.   , 0.875, 0.224, 0.224, 0.168,\n",
       "       0.168, 0.427, 0.168, 0.427, 0.168], dtype=float32)"
      ]
     },
     "execution_count": 627,
     "metadata": {},
     "output_type": "execute_result"
    }
   ],
   "source": [
    "model.get_weights()[0][:,0]"
   ]
  },
  {
   "cell_type": "code",
   "execution_count": 628,
   "metadata": {},
   "outputs": [
    {
     "data": {
      "text/plain": [
       "array([0.03 , 0.   , 0.   , 0.427, 0.01 , 0.   , 0.266, 0.875, 0.224,\n",
       "       0.875, 0.224, 0.427, 0.01 , 0.03 ], dtype=float32)"
      ]
     },
     "execution_count": 628,
     "metadata": {},
     "output_type": "execute_result"
    }
   ],
   "source": [
    "model.get_weights()[0][:,1]"
   ]
  },
  {
   "cell_type": "code",
   "execution_count": 629,
   "metadata": {},
   "outputs": [
    {
     "data": {
      "text/plain": [
       "array([0.39699998, 0.224     , 0.168     , 0.448     , 0.01      ,\n",
       "       0.875     , 0.042     , 0.651     , 0.05600001, 0.707     ,\n",
       "       0.20299998, 0.259     , 0.417     , 0.138     ], dtype=float32)"
      ]
     },
     "execution_count": 629,
     "metadata": {},
     "output_type": "execute_result"
    }
   ],
   "source": [
    "dva = abs(model.get_weights()[0][:,0] - model.get_weights()[0][:,1])\n",
    "dva"
   ]
  },
  {
   "cell_type": "code",
   "execution_count": 630,
   "metadata": {},
   "outputs": [
    {
     "data": {
      "text/plain": [
       "array([0.12699693, 0.02307749, 0.05999869, 0.10332382, 0.28492522,\n",
       "       0.20291066, 0.19596887, 0.14970404, 0.0556801 , 0.1248787 ,\n",
       "       0.09939367, 0.02363032, 0.18011516, 0.18907398], dtype=float32)"
      ]
     },
     "execution_count": 630,
     "metadata": {},
     "output_type": "execute_result"
    }
   ],
   "source": [
    "dvf"
   ]
  },
  {
   "cell_type": "code",
   "execution_count": 631,
   "metadata": {},
   "outputs": [
    {
     "data": {
      "application/vnd.plotly.v1+json": {
       "config": {
        "plotlyServerURL": "https://plot.ly"
       },
       "data": [
        {
         "hovertemplate": "variable=Error<br>index=%{x}<br>value=%{y}<extra></extra>",
         "legendgroup": "Error",
         "line": {
          "color": "#636efa",
          "dash": "solid"
         },
         "marker": {
          "symbol": "circle"
         },
         "mode": "lines",
         "name": "Error",
         "orientation": "v",
         "showlegend": true,
         "type": "scatter",
         "x": [
          0,
          1,
          2,
          3,
          4,
          5,
          6,
          7,
          8,
          9,
          10,
          11,
          12,
          13,
          14,
          15,
          16,
          17,
          18,
          19,
          20,
          21,
          22,
          23,
          24,
          25,
          26,
          27,
          28,
          29,
          30,
          31,
          32,
          33,
          34,
          35,
          36,
          37,
          38,
          39,
          40,
          41,
          42,
          43,
          44,
          45,
          46,
          47,
          48,
          49,
          50,
          51,
          52,
          53,
          54,
          55,
          56,
          57,
          58,
          59,
          60,
          61,
          62,
          63,
          64,
          65,
          66,
          67,
          68,
          69,
          70,
          71,
          72,
          73,
          74,
          75,
          76,
          77,
          78,
          79,
          80,
          81,
          82,
          83,
          84,
          85,
          86,
          87,
          88,
          89,
          90,
          91,
          92,
          93,
          94,
          95,
          96,
          97,
          98,
          99,
          100,
          101,
          102,
          103,
          104,
          105,
          106,
          107,
          108,
          109,
          110,
          111,
          112,
          113,
          114,
          115,
          116,
          117,
          118,
          119,
          120,
          121,
          122,
          123,
          124,
          125,
          126,
          127,
          128,
          129,
          130,
          131,
          132,
          133,
          134,
          135,
          136,
          137,
          138,
          139,
          140,
          141,
          142,
          143,
          144,
          145,
          146,
          147,
          148,
          149,
          150,
          151,
          152,
          153,
          154,
          155,
          156,
          157,
          158,
          159,
          160,
          161,
          162,
          163,
          164,
          165,
          166,
          167,
          168,
          169,
          170,
          171,
          172,
          173,
          174,
          175,
          176,
          177,
          178,
          179,
          180,
          181,
          182,
          183,
          184,
          185,
          186,
          187,
          188,
          189,
          190,
          191,
          192,
          193,
          194,
          195,
          196,
          197,
          198,
          199
         ],
         "xaxis": "x",
         "y": [
          1.6578395366668701,
          1.344984769821167,
          1.1658601760864258,
          1.5962344408035278,
          1.2906808853149414,
          1.153539776802063,
          1.089336633682251,
          1.2801430225372314,
          1.5022469758987427,
          1.0985746383666992,
          1.142078161239624,
          1.4644911289215088,
          1.265486478805542,
          1.0122486352920532,
          1.0054064989089966,
          0.847505509853363,
          0.8126322031021118,
          0.7483870983123779,
          1.1161596775054932,
          0.9497385025024414,
          0.9103081226348877,
          1.0934159755706787,
          0.9053582549095154,
          0.8249662518501282,
          1.0616753101348877,
          1.2698438167572021,
          1.2243484258651733,
          1.3667662143707275,
          1.105163812637329,
          1.0577657222747803,
          0.9716835021972656,
          0.7531912922859192,
          0.9239950180053711,
          0.776030957698822,
          0.6669331789016724,
          0.5163121223449707,
          0.609376072883606,
          0.795937180519104,
          0.7779709100723267,
          0.8302909135818481,
          0.9934028387069702,
          0.8436406254768372,
          0.8052005767822266,
          0.9115099310874939,
          0.7983584403991699,
          1.0642383098602295,
          0.9290437698364258,
          0.6597534418106079,
          0.6560779213905334,
          0.6954107284545898,
          0.6754834651947021,
          0.6773053407669067,
          0.5639511346817017,
          0.5283176898956299,
          0.5491324067115784,
          0.6113832592964172,
          0.6718724370002747,
          0.5416202545166016,
          0.6732523441314697,
          0.8250350952148438,
          0.9406758546829224,
          0.7360817193984985,
          0.7283174991607666,
          0.7604716420173645,
          0.6096240878105164,
          0.4837694466114044,
          0.3733360171318054,
          0.28775379061698914,
          0.25923144817352295,
          0.25289270281791687,
          0.06518952548503876,
          0.0029915538616478443,
          0,
          0,
          0,
          0,
          0,
          0,
          0,
          0,
          0,
          0,
          0,
          0,
          0,
          0,
          0,
          0,
          0,
          0,
          0,
          0,
          0,
          0,
          0,
          0,
          0,
          0,
          0,
          0,
          0,
          0,
          0,
          0,
          0,
          0,
          0,
          0,
          0,
          0,
          0,
          0,
          0,
          0,
          0,
          0,
          0,
          0,
          0,
          0,
          0,
          0,
          0,
          0,
          0,
          0,
          0,
          0,
          0,
          0,
          0,
          0,
          0,
          0,
          0,
          0,
          0,
          0,
          0,
          0,
          0,
          0,
          0,
          0,
          0,
          0,
          0,
          0,
          0,
          0,
          0,
          0,
          0,
          0,
          0,
          0,
          0,
          0,
          0,
          0,
          0,
          0,
          0,
          0,
          0,
          0,
          0,
          0,
          0,
          0,
          0,
          0,
          0,
          0,
          0,
          0,
          0,
          0,
          0,
          0,
          0,
          0,
          0,
          0,
          0,
          0,
          0,
          0,
          0,
          0,
          0,
          0,
          0,
          0,
          0,
          0,
          0,
          0,
          0,
          0
         ],
         "yaxis": "y"
        },
        {
         "hovertemplate": "variable=Temperature<br>index=%{x}<br>value=%{y}<extra></extra>",
         "legendgroup": "Temperature",
         "line": {
          "color": "#EF553B",
          "dash": "solid"
         },
         "marker": {
          "symbol": "circle"
         },
         "mode": "lines",
         "name": "Temperature",
         "orientation": "v",
         "showlegend": true,
         "type": "scatter",
         "x": [
          0,
          1,
          2,
          3,
          4,
          5,
          6,
          7,
          8,
          9,
          10,
          11,
          12,
          13,
          14,
          15,
          16,
          17,
          18,
          19,
          20,
          21,
          22,
          23,
          24,
          25,
          26,
          27,
          28,
          29,
          30,
          31,
          32,
          33,
          34,
          35,
          36,
          37,
          38,
          39,
          40,
          41,
          42,
          43,
          44,
          45,
          46,
          47,
          48,
          49,
          50,
          51,
          52,
          53,
          54,
          55,
          56,
          57,
          58,
          59,
          60,
          61,
          62,
          63,
          64,
          65,
          66,
          67,
          68,
          69,
          70,
          71,
          72,
          73,
          74,
          75,
          76,
          77,
          78,
          79,
          80,
          81,
          82,
          83,
          84,
          85,
          86,
          87,
          88,
          89,
          90,
          91,
          92,
          93,
          94,
          95,
          96,
          97,
          98,
          99,
          100,
          101,
          102,
          103,
          104,
          105,
          106,
          107,
          108,
          109,
          110,
          111,
          112,
          113,
          114,
          115,
          116,
          117,
          118,
          119,
          120,
          121,
          122,
          123,
          124,
          125,
          126,
          127,
          128,
          129,
          130,
          131,
          132,
          133,
          134,
          135,
          136,
          137,
          138,
          139,
          140,
          141,
          142,
          143,
          144,
          145,
          146,
          147,
          148,
          149,
          150,
          151,
          152,
          153,
          154,
          155,
          156,
          157,
          158,
          159,
          160,
          161,
          162,
          163,
          164,
          165,
          166,
          167,
          168,
          169,
          170,
          171,
          172,
          173,
          174,
          175,
          176,
          177,
          178,
          179,
          180,
          181,
          182,
          183,
          184,
          185,
          186,
          187,
          188,
          189,
          190,
          191,
          192,
          193,
          194,
          195,
          196,
          197,
          198,
          199
         ],
         "xaxis": "x",
         "y": [
          0.6237545609474182,
          0.57355797290802,
          0.5382896661758423,
          0.6148267984390259,
          0.5634485483169556,
          0.5356482267379761,
          0.5213791728019714,
          0.5614310503005981,
          0.6003592014312744,
          0.5234861373901367,
          0.5331636667251587,
          0.5942367315292358,
          0.5585936903953552,
          0.503043532371521,
          0.5013479590415955,
          0.45872962474823,
          0.4483160972595215,
          0.42804425954818726,
          0.527445912361145,
          0.4871107339859009,
          0.4765242338180542,
          0.5223118662834167,
          0.47516435384750366,
          0.45204466581344604,
          0.5149575471878052,
          0.559441089630127,
          0.550430178642273,
          0.5774825811386108,
          0.5249775648117065,
          0.5140360593795776,
          0.4928191900253296,
          0.42961156368255615,
          0.4802481532096863,
          0.4369467496871948,
          0.40009593963623047,
          0.3405051827430725,
          0.37864118814468384,
          0.4431876540184021,
          0.4375610947608948,
          0.45363879203796387,
          0.4983452558517456,
          0.45759493112564087,
          0.446044921875,
          0.4768533706665039,
          0.4439373016357422,
          0.5155597925186157,
          0.48160845041275024,
          0.3975008726119995,
          0.3961636424064636,
          0.41017240285873413,
          0.4031573534011841,
          0.40380561351776123,
          0.36059385538101196,
          0.34568578004837036,
          0.3544773459434509,
          0.3794151544570923,
          0.40186822414398193,
          0.35133183002471924,
          0.40236151218414307,
          0.4520653486251831,
          0.4847155809402466,
          0.42399024963378906,
          0.42140263319015503,
          0.43197035789489746,
          0.3787369728088379,
          0.3260408043861389,
          0.27184611558914185,
          0.2234540581703186,
          0.2058647871017456,
          0.20184707641601562,
          0.06119990348815918,
          0.002982616424560547,
          0,
          0,
          0,
          0,
          0,
          0,
          0,
          0,
          0,
          0,
          0,
          0,
          0,
          0,
          0,
          0,
          0,
          0,
          0,
          0,
          0,
          0,
          0,
          0,
          0,
          0,
          0,
          0,
          0,
          0,
          0,
          0,
          0,
          0,
          0,
          0,
          0,
          0,
          0,
          0,
          0,
          0,
          0,
          0,
          0,
          0,
          0,
          0,
          0,
          0,
          0,
          0,
          0,
          0,
          0,
          0,
          0,
          0,
          0,
          0,
          0,
          0,
          0,
          0,
          0,
          0,
          0,
          0,
          0,
          0,
          0,
          0,
          0,
          0,
          0,
          0,
          0,
          0,
          0,
          0,
          0,
          0,
          0,
          0,
          0,
          0,
          0,
          0,
          0,
          0,
          0,
          0,
          0,
          0,
          0,
          0,
          0,
          0,
          0,
          0,
          0,
          0,
          0,
          0,
          0,
          0,
          0,
          0,
          0,
          0,
          0,
          0,
          0,
          0,
          0,
          0,
          0,
          0,
          0,
          0,
          0,
          0,
          0,
          0,
          0,
          0,
          0,
          0
         ],
         "yaxis": "y"
        }
       ],
       "layout": {
        "hovermode": "x unified",
        "legend": {
         "title": {
          "text": "variable"
         },
         "tracegroupgap": 0
        },
        "margin": {
         "t": 60
        },
        "template": {
         "data": {
          "bar": [
           {
            "error_x": {
             "color": "#2a3f5f"
            },
            "error_y": {
             "color": "#2a3f5f"
            },
            "marker": {
             "line": {
              "color": "#E5ECF6",
              "width": 0.5
             },
             "pattern": {
              "fillmode": "overlay",
              "size": 10,
              "solidity": 0.2
             }
            },
            "type": "bar"
           }
          ],
          "barpolar": [
           {
            "marker": {
             "line": {
              "color": "#E5ECF6",
              "width": 0.5
             },
             "pattern": {
              "fillmode": "overlay",
              "size": 10,
              "solidity": 0.2
             }
            },
            "type": "barpolar"
           }
          ],
          "carpet": [
           {
            "aaxis": {
             "endlinecolor": "#2a3f5f",
             "gridcolor": "white",
             "linecolor": "white",
             "minorgridcolor": "white",
             "startlinecolor": "#2a3f5f"
            },
            "baxis": {
             "endlinecolor": "#2a3f5f",
             "gridcolor": "white",
             "linecolor": "white",
             "minorgridcolor": "white",
             "startlinecolor": "#2a3f5f"
            },
            "type": "carpet"
           }
          ],
          "choropleth": [
           {
            "colorbar": {
             "outlinewidth": 0,
             "ticks": ""
            },
            "type": "choropleth"
           }
          ],
          "contour": [
           {
            "colorbar": {
             "outlinewidth": 0,
             "ticks": ""
            },
            "colorscale": [
             [
              0,
              "#0d0887"
             ],
             [
              0.1111111111111111,
              "#46039f"
             ],
             [
              0.2222222222222222,
              "#7201a8"
             ],
             [
              0.3333333333333333,
              "#9c179e"
             ],
             [
              0.4444444444444444,
              "#bd3786"
             ],
             [
              0.5555555555555556,
              "#d8576b"
             ],
             [
              0.6666666666666666,
              "#ed7953"
             ],
             [
              0.7777777777777778,
              "#fb9f3a"
             ],
             [
              0.8888888888888888,
              "#fdca26"
             ],
             [
              1,
              "#f0f921"
             ]
            ],
            "type": "contour"
           }
          ],
          "contourcarpet": [
           {
            "colorbar": {
             "outlinewidth": 0,
             "ticks": ""
            },
            "type": "contourcarpet"
           }
          ],
          "heatmap": [
           {
            "colorbar": {
             "outlinewidth": 0,
             "ticks": ""
            },
            "colorscale": [
             [
              0,
              "#0d0887"
             ],
             [
              0.1111111111111111,
              "#46039f"
             ],
             [
              0.2222222222222222,
              "#7201a8"
             ],
             [
              0.3333333333333333,
              "#9c179e"
             ],
             [
              0.4444444444444444,
              "#bd3786"
             ],
             [
              0.5555555555555556,
              "#d8576b"
             ],
             [
              0.6666666666666666,
              "#ed7953"
             ],
             [
              0.7777777777777778,
              "#fb9f3a"
             ],
             [
              0.8888888888888888,
              "#fdca26"
             ],
             [
              1,
              "#f0f921"
             ]
            ],
            "type": "heatmap"
           }
          ],
          "heatmapgl": [
           {
            "colorbar": {
             "outlinewidth": 0,
             "ticks": ""
            },
            "colorscale": [
             [
              0,
              "#0d0887"
             ],
             [
              0.1111111111111111,
              "#46039f"
             ],
             [
              0.2222222222222222,
              "#7201a8"
             ],
             [
              0.3333333333333333,
              "#9c179e"
             ],
             [
              0.4444444444444444,
              "#bd3786"
             ],
             [
              0.5555555555555556,
              "#d8576b"
             ],
             [
              0.6666666666666666,
              "#ed7953"
             ],
             [
              0.7777777777777778,
              "#fb9f3a"
             ],
             [
              0.8888888888888888,
              "#fdca26"
             ],
             [
              1,
              "#f0f921"
             ]
            ],
            "type": "heatmapgl"
           }
          ],
          "histogram": [
           {
            "marker": {
             "pattern": {
              "fillmode": "overlay",
              "size": 10,
              "solidity": 0.2
             }
            },
            "type": "histogram"
           }
          ],
          "histogram2d": [
           {
            "colorbar": {
             "outlinewidth": 0,
             "ticks": ""
            },
            "colorscale": [
             [
              0,
              "#0d0887"
             ],
             [
              0.1111111111111111,
              "#46039f"
             ],
             [
              0.2222222222222222,
              "#7201a8"
             ],
             [
              0.3333333333333333,
              "#9c179e"
             ],
             [
              0.4444444444444444,
              "#bd3786"
             ],
             [
              0.5555555555555556,
              "#d8576b"
             ],
             [
              0.6666666666666666,
              "#ed7953"
             ],
             [
              0.7777777777777778,
              "#fb9f3a"
             ],
             [
              0.8888888888888888,
              "#fdca26"
             ],
             [
              1,
              "#f0f921"
             ]
            ],
            "type": "histogram2d"
           }
          ],
          "histogram2dcontour": [
           {
            "colorbar": {
             "outlinewidth": 0,
             "ticks": ""
            },
            "colorscale": [
             [
              0,
              "#0d0887"
             ],
             [
              0.1111111111111111,
              "#46039f"
             ],
             [
              0.2222222222222222,
              "#7201a8"
             ],
             [
              0.3333333333333333,
              "#9c179e"
             ],
             [
              0.4444444444444444,
              "#bd3786"
             ],
             [
              0.5555555555555556,
              "#d8576b"
             ],
             [
              0.6666666666666666,
              "#ed7953"
             ],
             [
              0.7777777777777778,
              "#fb9f3a"
             ],
             [
              0.8888888888888888,
              "#fdca26"
             ],
             [
              1,
              "#f0f921"
             ]
            ],
            "type": "histogram2dcontour"
           }
          ],
          "mesh3d": [
           {
            "colorbar": {
             "outlinewidth": 0,
             "ticks": ""
            },
            "type": "mesh3d"
           }
          ],
          "parcoords": [
           {
            "line": {
             "colorbar": {
              "outlinewidth": 0,
              "ticks": ""
             }
            },
            "type": "parcoords"
           }
          ],
          "pie": [
           {
            "automargin": true,
            "type": "pie"
           }
          ],
          "scatter": [
           {
            "marker": {
             "colorbar": {
              "outlinewidth": 0,
              "ticks": ""
             }
            },
            "type": "scatter"
           }
          ],
          "scatter3d": [
           {
            "line": {
             "colorbar": {
              "outlinewidth": 0,
              "ticks": ""
             }
            },
            "marker": {
             "colorbar": {
              "outlinewidth": 0,
              "ticks": ""
             }
            },
            "type": "scatter3d"
           }
          ],
          "scattercarpet": [
           {
            "marker": {
             "colorbar": {
              "outlinewidth": 0,
              "ticks": ""
             }
            },
            "type": "scattercarpet"
           }
          ],
          "scattergeo": [
           {
            "marker": {
             "colorbar": {
              "outlinewidth": 0,
              "ticks": ""
             }
            },
            "type": "scattergeo"
           }
          ],
          "scattergl": [
           {
            "marker": {
             "colorbar": {
              "outlinewidth": 0,
              "ticks": ""
             }
            },
            "type": "scattergl"
           }
          ],
          "scattermapbox": [
           {
            "marker": {
             "colorbar": {
              "outlinewidth": 0,
              "ticks": ""
             }
            },
            "type": "scattermapbox"
           }
          ],
          "scatterpolar": [
           {
            "marker": {
             "colorbar": {
              "outlinewidth": 0,
              "ticks": ""
             }
            },
            "type": "scatterpolar"
           }
          ],
          "scatterpolargl": [
           {
            "marker": {
             "colorbar": {
              "outlinewidth": 0,
              "ticks": ""
             }
            },
            "type": "scatterpolargl"
           }
          ],
          "scatterternary": [
           {
            "marker": {
             "colorbar": {
              "outlinewidth": 0,
              "ticks": ""
             }
            },
            "type": "scatterternary"
           }
          ],
          "surface": [
           {
            "colorbar": {
             "outlinewidth": 0,
             "ticks": ""
            },
            "colorscale": [
             [
              0,
              "#0d0887"
             ],
             [
              0.1111111111111111,
              "#46039f"
             ],
             [
              0.2222222222222222,
              "#7201a8"
             ],
             [
              0.3333333333333333,
              "#9c179e"
             ],
             [
              0.4444444444444444,
              "#bd3786"
             ],
             [
              0.5555555555555556,
              "#d8576b"
             ],
             [
              0.6666666666666666,
              "#ed7953"
             ],
             [
              0.7777777777777778,
              "#fb9f3a"
             ],
             [
              0.8888888888888888,
              "#fdca26"
             ],
             [
              1,
              "#f0f921"
             ]
            ],
            "type": "surface"
           }
          ],
          "table": [
           {
            "cells": {
             "fill": {
              "color": "#EBF0F8"
             },
             "line": {
              "color": "white"
             }
            },
            "header": {
             "fill": {
              "color": "#C8D4E3"
             },
             "line": {
              "color": "white"
             }
            },
            "type": "table"
           }
          ]
         },
         "layout": {
          "annotationdefaults": {
           "arrowcolor": "#2a3f5f",
           "arrowhead": 0,
           "arrowwidth": 1
          },
          "autotypenumbers": "strict",
          "coloraxis": {
           "colorbar": {
            "outlinewidth": 0,
            "ticks": ""
           }
          },
          "colorscale": {
           "diverging": [
            [
             0,
             "#8e0152"
            ],
            [
             0.1,
             "#c51b7d"
            ],
            [
             0.2,
             "#de77ae"
            ],
            [
             0.3,
             "#f1b6da"
            ],
            [
             0.4,
             "#fde0ef"
            ],
            [
             0.5,
             "#f7f7f7"
            ],
            [
             0.6,
             "#e6f5d0"
            ],
            [
             0.7,
             "#b8e186"
            ],
            [
             0.8,
             "#7fbc41"
            ],
            [
             0.9,
             "#4d9221"
            ],
            [
             1,
             "#276419"
            ]
           ],
           "sequential": [
            [
             0,
             "#0d0887"
            ],
            [
             0.1111111111111111,
             "#46039f"
            ],
            [
             0.2222222222222222,
             "#7201a8"
            ],
            [
             0.3333333333333333,
             "#9c179e"
            ],
            [
             0.4444444444444444,
             "#bd3786"
            ],
            [
             0.5555555555555556,
             "#d8576b"
            ],
            [
             0.6666666666666666,
             "#ed7953"
            ],
            [
             0.7777777777777778,
             "#fb9f3a"
            ],
            [
             0.8888888888888888,
             "#fdca26"
            ],
            [
             1,
             "#f0f921"
            ]
           ],
           "sequentialminus": [
            [
             0,
             "#0d0887"
            ],
            [
             0.1111111111111111,
             "#46039f"
            ],
            [
             0.2222222222222222,
             "#7201a8"
            ],
            [
             0.3333333333333333,
             "#9c179e"
            ],
            [
             0.4444444444444444,
             "#bd3786"
            ],
            [
             0.5555555555555556,
             "#d8576b"
            ],
            [
             0.6666666666666666,
             "#ed7953"
            ],
            [
             0.7777777777777778,
             "#fb9f3a"
            ],
            [
             0.8888888888888888,
             "#fdca26"
            ],
            [
             1,
             "#f0f921"
            ]
           ]
          },
          "colorway": [
           "#636efa",
           "#EF553B",
           "#00cc96",
           "#ab63fa",
           "#FFA15A",
           "#19d3f3",
           "#FF6692",
           "#B6E880",
           "#FF97FF",
           "#FECB52"
          ],
          "font": {
           "color": "#2a3f5f"
          },
          "geo": {
           "bgcolor": "white",
           "lakecolor": "white",
           "landcolor": "#E5ECF6",
           "showlakes": true,
           "showland": true,
           "subunitcolor": "white"
          },
          "hoverlabel": {
           "align": "left"
          },
          "hovermode": "closest",
          "mapbox": {
           "style": "light"
          },
          "paper_bgcolor": "white",
          "plot_bgcolor": "#E5ECF6",
          "polar": {
           "angularaxis": {
            "gridcolor": "white",
            "linecolor": "white",
            "ticks": ""
           },
           "bgcolor": "#E5ECF6",
           "radialaxis": {
            "gridcolor": "white",
            "linecolor": "white",
            "ticks": ""
           }
          },
          "scene": {
           "xaxis": {
            "backgroundcolor": "#E5ECF6",
            "gridcolor": "white",
            "gridwidth": 2,
            "linecolor": "white",
            "showbackground": true,
            "ticks": "",
            "zerolinecolor": "white"
           },
           "yaxis": {
            "backgroundcolor": "#E5ECF6",
            "gridcolor": "white",
            "gridwidth": 2,
            "linecolor": "white",
            "showbackground": true,
            "ticks": "",
            "zerolinecolor": "white"
           },
           "zaxis": {
            "backgroundcolor": "#E5ECF6",
            "gridcolor": "white",
            "gridwidth": 2,
            "linecolor": "white",
            "showbackground": true,
            "ticks": "",
            "zerolinecolor": "white"
           }
          },
          "shapedefaults": {
           "line": {
            "color": "#2a3f5f"
           }
          },
          "ternary": {
           "aaxis": {
            "gridcolor": "white",
            "linecolor": "white",
            "ticks": ""
           },
           "baxis": {
            "gridcolor": "white",
            "linecolor": "white",
            "ticks": ""
           },
           "bgcolor": "#E5ECF6",
           "caxis": {
            "gridcolor": "white",
            "linecolor": "white",
            "ticks": ""
           }
          },
          "title": {
           "x": 0.05
          },
          "xaxis": {
           "automargin": true,
           "gridcolor": "white",
           "linecolor": "white",
           "ticks": "",
           "title": {
            "standoff": 15
           },
           "zerolinecolor": "white",
           "zerolinewidth": 2
          },
          "yaxis": {
           "automargin": true,
           "gridcolor": "white",
           "linecolor": "white",
           "ticks": "",
           "title": {
            "standoff": 15
           },
           "zerolinecolor": "white",
           "zerolinewidth": 2
          }
         }
        },
        "title": {
         "text": "Monitored variables"
        },
        "xaxis": {
         "anchor": "y",
         "domain": [
          0,
          1
         ],
         "title": {
          "text": "Epoch"
         }
        },
        "yaxis": {
         "anchor": "x",
         "domain": [
          0,
          1
         ],
         "title": {
          "text": ""
         }
        }
       }
      }
     },
     "metadata": {},
     "output_type": "display_data"
    }
   ],
   "source": [
    "fig = px.line(df_model_history[[\"Error\",\"Temperature\"]])\n",
    "fig.update_layout(title=\"Monitored variables\",\n",
    "                   xaxis_title='Epoch',\n",
    "                   yaxis_title='',\n",
    "                   hovermode='x unified')\n",
    "fig.show()"
   ]
  },
  {
   "cell_type": "markdown",
   "metadata": {},
   "source": [
    "---"
   ]
  }
 ],
 "metadata": {
  "kernelspec": {
   "display_name": "Python 3.8.10 64-bit",
   "language": "python",
   "name": "python3"
  },
  "language_info": {
   "codemirror_mode": {
    "name": "ipython",
    "version": 3
   },
   "file_extension": ".py",
   "mimetype": "text/x-python",
   "name": "python",
   "nbconvert_exporter": "python",
   "pygments_lexer": "ipython3",
   "version": "3.8.10"
  },
  "orig_nbformat": 4,
  "vscode": {
   "interpreter": {
    "hash": "916dbcbb3f70747c44a77c7bcd40155683ae19c65e1c03b4aa3499c5328201f1"
   }
  }
 },
 "nbformat": 4,
 "nbformat_minor": 2
}
