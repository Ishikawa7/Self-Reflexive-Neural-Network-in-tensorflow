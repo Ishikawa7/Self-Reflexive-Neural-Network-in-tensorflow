{
 "cells": [
  {
   "cell_type": "code",
   "execution_count": 415,
   "metadata": {},
   "outputs": [],
   "source": [
    "import tensorflow as tf\n",
    "from tensorflow import keras\n",
    "from tensorflow.keras import layers\n",
    "import numpy as np\n",
    "import pandas as pd"
   ]
  },
  {
   "cell_type": "code",
   "execution_count": 416,
   "metadata": {},
   "outputs": [],
   "source": [
    "import matplotlib.pyplot as plt\n",
    "import seaborn as sns\n",
    "import plotly.express as px\n",
    "import plotly.graph_objects as go\n",
    "sns.set()"
   ]
  },
  {
   "cell_type": "markdown",
   "metadata": {},
   "source": [
    "# CUSTOM LAYERS"
   ]
  },
  {
   "cell_type": "code",
   "execution_count": 417,
   "metadata": {},
   "outputs": [],
   "source": [
    "class InputLayer(tf.keras.layers.Layer):\n",
    "  def __init__(self, name):\n",
    "    super(InputLayer, self).__init__(name=name)\n",
    "    self.a = tf.Variable(initial_value=tf.zeros(shape=[14,2]), trainable=False, name= self.name + \"_activation\")\n",
    "    \n",
    "  def call(self, inputs):\n",
    "    a1a1 = tf.reshape(inputs[0],shape=(1,1)) #1\n",
    "    a1a2 = tf.reshape(inputs[1],shape=(1,1)) #2 \n",
    "    a1a2a2 = tf.reshape(inputs[2],shape=(1,1)) #3\n",
    "    a1a2a1 = tf.reshape(inputs[3],shape=(1,1)) #4\n",
    "    a2a2 = tf.reshape(inputs[4],shape=(1,1)) #5\n",
    "    a2a1 = tf.reshape(inputs[5],shape=(1,1)) #6\n",
    "    a2a1a1 = tf.reshape(inputs[6],shape=(1,1)) #7\n",
    "    a2a1a2 = tf.reshape(inputs[7],shape=(1,1)) #8\n",
    "\n",
    "    to_hidden = []\n",
    "    to_hidden.append((tf.concat([a1a2a2, a2a2], axis = 1))) #[\"TrRi\"] [3,5]\n",
    "    to_hidden.append((tf.concat([a1a2a1, a2a1], axis = 1))) #[\"RiTr\"] [4,6] \n",
    "    to_hidden.append((tf.concat([a1a1, a2a1], axis = 1))) #[\"Plu\"] [1,6] \n",
    "    to_hidden.append((tf.concat([a1a2, a1a2a2], axis = 1))) #[\"TTra\"] [2,3] \n",
    "    to_hidden.append((tf.concat([a2a1, a2a1a1], axis = 1))) #[\"TTrb\"] [6,7] \n",
    "    to_hidden.append((tf.concat([a1a2, a2a1], axis = 1))) #[\"Tr\"] [2,6]\n",
    "    to_hidden.append((tf.concat([a1a2a1, a2a1a2], axis = 1))) #[\"MeTr\"] [4,8] \n",
    "    to_hidden.append((tf.concat([a1a2a1, a1a2], axis = 1))) #[\"MoTr\"] [4,2] \n",
    "    to_hidden.append((tf.concat([a1a1, a1a2a1], axis = 1))) #[\"RiRi\"] [1,4] \n",
    "    to_hidden.append((tf.concat([a1a1, a1a2], axis = 1))) #[\"MoFo\"] [1,2] \n",
    "    to_hidden.append((tf.concat([a1a2a2, a1a2a1], axis = 1))) #[\"MMof\"] [3,4] \n",
    "    to_hidden.append((tf.concat([a1a1, a1a2a2], axis = 1))) #[\"MoRi\"] [1,3] \n",
    "    to_hidden.append((tf.concat([a1a2a2, a2a1a1], axis = 1))) #[\"MeRi\"] [3,7] \n",
    "    to_hidden.append((tf.concat([a1a1, a2a2], axis = 1))) #[\"Ri\"] [1,5] \n",
    "\n",
    "    output = tf.concat(to_hidden,axis = 0)\n",
    "    self.a.assign(output)\n",
    "    return self.a.value()"
   ]
  },
  {
   "cell_type": "code",
   "execution_count": 418,
   "metadata": {},
   "outputs": [],
   "source": [
    "class Layer(tf.keras.layers.Layer):\n",
    "  def __init__(self, name, weights_init_val, bias_init_val):\n",
    "    super(Layer, self).__init__(name = name)\n",
    "    self.units = 14\n",
    "    self.weights_init_val = weights_init_val\n",
    "    self.bias_init_val = bias_init_val\n",
    "    if self.name in [\"HiddenLayer\"]:\n",
    "      self.type = \"Hidden\"\n",
    "    elif self.name in [\"OutputLayer\"]:\n",
    "      self.type = \"Output\"\n",
    "\n",
    "  def build(self, input_shape):\n",
    "    shape = [int(input_shape[-1]),self.units]\n",
    "    self.w = self.add_weight(initializer = tf.initializers.Constant(self.weights_init_val) ,\n",
    "                              shape= shape,\n",
    "                              name = self.name + \"_weights\")\n",
    "    self.b = self.add_weight(initializer = tf.initializers.Constant(self.bias_init_val) ,\n",
    "                              shape= [1, self.units],\n",
    "                              name = self.name + \"_biases\")\n",
    "\n",
    "    self.deltaA = tf.Variable(initial_value=tf.zeros(shape = [1, self.units]),trainable=False, name= self.name + \"_adjustements\")\n",
    "    self.a = tf.Variable(initial_value=tf.zeros(shape = [1, self.units]),trainable=False, name= self.name + \"_activation\")\n",
    "\n",
    "  def call(self, inputs, temperature):\n",
    "    \n",
    "    if self.type == \"Hidden\":\n",
    "      net = tf.matmul(inputs, self.w)[:,0]\n",
    "    elif self.type == \"Output\":\n",
    "      net = tf.matmul(inputs, self.w)\n",
    "      \n",
    "    self.a.assign(1/(1 + tf.exp((net + self.b)/temperature)))\n",
    "    return self.a.value()\n"
   ]
  },
  {
   "cell_type": "markdown",
   "metadata": {},
   "source": [
    "### Testing foward pass"
   ]
  },
  {
   "cell_type": "code",
   "execution_count": 419,
   "metadata": {},
   "outputs": [
    {
     "data": {
      "text/plain": [
       "<tf.Tensor: shape=(8,), dtype=float32, numpy=array([1., 2., 3., 4., 5., 6., 7., 8.], dtype=float32)>"
      ]
     },
     "execution_count": 419,
     "metadata": {},
     "output_type": "execute_result"
    }
   ],
   "source": [
    "x = tf.constant([1.0, 2.0, 3.0, 4.0, 5.0, 6.0, 7.0, 8.0])\n",
    "x"
   ]
  },
  {
   "cell_type": "code",
   "execution_count": 420,
   "metadata": {},
   "outputs": [
    {
     "data": {
      "text/plain": [
       "<__main__.InputLayer at 0x7fc3b87453d0>"
      ]
     },
     "execution_count": 420,
     "metadata": {},
     "output_type": "execute_result"
    }
   ],
   "source": [
    "input_layer = InputLayer(name = \"InputLayer\")\n",
    "input_layer"
   ]
  },
  {
   "cell_type": "code",
   "execution_count": 421,
   "metadata": {},
   "outputs": [
    {
     "data": {
      "text/plain": [
       "<tf.Tensor: shape=(14, 2), dtype=float32, numpy=\n",
       "array([[3., 5.],\n",
       "       [4., 6.],\n",
       "       [1., 6.],\n",
       "       [2., 3.],\n",
       "       [6., 7.],\n",
       "       [2., 6.],\n",
       "       [4., 8.],\n",
       "       [4., 2.],\n",
       "       [1., 4.],\n",
       "       [1., 2.],\n",
       "       [3., 4.],\n",
       "       [1., 3.],\n",
       "       [3., 7.],\n",
       "       [1., 5.]], dtype=float32)>"
      ]
     },
     "execution_count": 421,
     "metadata": {},
     "output_type": "execute_result"
    }
   ],
   "source": [
    "res_input = input_layer(x)\n",
    "res_input"
   ]
  },
  {
   "cell_type": "code",
   "execution_count": 422,
   "metadata": {},
   "outputs": [
    {
     "data": {
      "text/plain": [
       "<tf.Variable 'InputLayer_activation:0' shape=(14, 2) dtype=float32, numpy=\n",
       "array([[3., 5.],\n",
       "       [4., 6.],\n",
       "       [1., 6.],\n",
       "       [2., 3.],\n",
       "       [6., 7.],\n",
       "       [2., 6.],\n",
       "       [4., 8.],\n",
       "       [4., 2.],\n",
       "       [1., 4.],\n",
       "       [1., 2.],\n",
       "       [3., 4.],\n",
       "       [1., 3.],\n",
       "       [3., 7.],\n",
       "       [1., 5.]], dtype=float32)>"
      ]
     },
     "execution_count": 422,
     "metadata": {},
     "output_type": "execute_result"
    }
   ],
   "source": [
    "input_layer.a"
   ]
  },
  {
   "cell_type": "code",
   "execution_count": 423,
   "metadata": {},
   "outputs": [
    {
     "data": {
      "text/plain": [
       "<__main__.Layer at 0x7fc3b87459a0>"
      ]
     },
     "execution_count": 423,
     "metadata": {},
     "output_type": "execute_result"
    }
   ],
   "source": [
    "hidden_layer = Layer(name = \"HiddenLayer\",weights_init_val=0.5, bias_init_val=0.0)\n",
    "hidden_layer"
   ]
  },
  {
   "cell_type": "code",
   "execution_count": 424,
   "metadata": {},
   "outputs": [
    {
     "data": {
      "text/plain": [
       "<tf.Tensor: shape=(1, 14), dtype=float32, numpy=\n",
       "array([[0.01798621, 0.00669285, 0.02931223, 0.07585818, 0.00150118,\n",
       "        0.01798621, 0.00247262, 0.04742587, 0.07585818, 0.18242553,\n",
       "        0.02931223, 0.11920292, 0.00669285, 0.04742587]], dtype=float32)>"
      ]
     },
     "execution_count": 424,
     "metadata": {},
     "output_type": "execute_result"
    }
   ],
   "source": [
    "res_hidden = hidden_layer(inputs = res_input, temperature = 1)\n",
    "res_hidden"
   ]
  },
  {
   "cell_type": "code",
   "execution_count": 425,
   "metadata": {},
   "outputs": [
    {
     "data": {
      "text/plain": [
       "<tf.Variable 'HiddenLayer/HiddenLayer_weights:0' shape=(2, 14) dtype=float32, numpy=\n",
       "array([[0.5, 0.5, 0.5, 0.5, 0.5, 0.5, 0.5, 0.5, 0.5, 0.5, 0.5, 0.5, 0.5,\n",
       "        0.5],\n",
       "       [0.5, 0.5, 0.5, 0.5, 0.5, 0.5, 0.5, 0.5, 0.5, 0.5, 0.5, 0.5, 0.5,\n",
       "        0.5]], dtype=float32)>"
      ]
     },
     "execution_count": 425,
     "metadata": {},
     "output_type": "execute_result"
    }
   ],
   "source": [
    "hidden_layer.w"
   ]
  },
  {
   "cell_type": "code",
   "execution_count": 426,
   "metadata": {},
   "outputs": [
    {
     "data": {
      "text/plain": [
       "<tf.Variable 'HiddenLayer/HiddenLayer_activation:0' shape=(1, 14) dtype=float32, numpy=\n",
       "array([[0.01798621, 0.00669285, 0.02931223, 0.07585818, 0.00150118,\n",
       "        0.01798621, 0.00247262, 0.04742587, 0.07585818, 0.18242553,\n",
       "        0.02931223, 0.11920292, 0.00669285, 0.04742587]], dtype=float32)>"
      ]
     },
     "execution_count": 426,
     "metadata": {},
     "output_type": "execute_result"
    }
   ],
   "source": [
    "hidden_layer.a"
   ]
  },
  {
   "cell_type": "code",
   "execution_count": 427,
   "metadata": {},
   "outputs": [
    {
     "data": {
      "text/plain": [
       "<__main__.Layer at 0x7fc3d013ce20>"
      ]
     },
     "execution_count": 427,
     "metadata": {},
     "output_type": "execute_result"
    }
   ],
   "source": [
    "output_layer = Layer(name = \"OutputLayer\",weights_init_val=0.59, bias_init_val=0.0)\n",
    "output_layer"
   ]
  },
  {
   "cell_type": "code",
   "execution_count": 428,
   "metadata": {},
   "outputs": [
    {
     "data": {
      "text/plain": [
       "<tf.Tensor: shape=(1, 14), dtype=float32, numpy=\n",
       "array([[0.40384   , 0.40384   , 0.40384   , 0.40384   , 0.40384   ,\n",
       "        0.40384   , 0.40384   , 0.40384   , 0.40384004, 0.40384004,\n",
       "        0.40384004, 0.40384004, 0.40384004, 0.40384004]], dtype=float32)>"
      ]
     },
     "execution_count": 428,
     "metadata": {},
     "output_type": "execute_result"
    }
   ],
   "source": [
    "res_output = output_layer(inputs = res_hidden, temperature = 1)\n",
    "res_output"
   ]
  },
  {
   "cell_type": "code",
   "execution_count": 429,
   "metadata": {},
   "outputs": [
    {
     "data": {
      "text/plain": [
       "<tf.Variable 'OutputLayer/OutputLayer_weights:0' shape=(14, 14) dtype=float32, numpy=\n",
       "array([[0.59, 0.59, 0.59, 0.59, 0.59, 0.59, 0.59, 0.59, 0.59, 0.59, 0.59,\n",
       "        0.59, 0.59, 0.59],\n",
       "       [0.59, 0.59, 0.59, 0.59, 0.59, 0.59, 0.59, 0.59, 0.59, 0.59, 0.59,\n",
       "        0.59, 0.59, 0.59],\n",
       "       [0.59, 0.59, 0.59, 0.59, 0.59, 0.59, 0.59, 0.59, 0.59, 0.59, 0.59,\n",
       "        0.59, 0.59, 0.59],\n",
       "       [0.59, 0.59, 0.59, 0.59, 0.59, 0.59, 0.59, 0.59, 0.59, 0.59, 0.59,\n",
       "        0.59, 0.59, 0.59],\n",
       "       [0.59, 0.59, 0.59, 0.59, 0.59, 0.59, 0.59, 0.59, 0.59, 0.59, 0.59,\n",
       "        0.59, 0.59, 0.59],\n",
       "       [0.59, 0.59, 0.59, 0.59, 0.59, 0.59, 0.59, 0.59, 0.59, 0.59, 0.59,\n",
       "        0.59, 0.59, 0.59],\n",
       "       [0.59, 0.59, 0.59, 0.59, 0.59, 0.59, 0.59, 0.59, 0.59, 0.59, 0.59,\n",
       "        0.59, 0.59, 0.59],\n",
       "       [0.59, 0.59, 0.59, 0.59, 0.59, 0.59, 0.59, 0.59, 0.59, 0.59, 0.59,\n",
       "        0.59, 0.59, 0.59],\n",
       "       [0.59, 0.59, 0.59, 0.59, 0.59, 0.59, 0.59, 0.59, 0.59, 0.59, 0.59,\n",
       "        0.59, 0.59, 0.59],\n",
       "       [0.59, 0.59, 0.59, 0.59, 0.59, 0.59, 0.59, 0.59, 0.59, 0.59, 0.59,\n",
       "        0.59, 0.59, 0.59],\n",
       "       [0.59, 0.59, 0.59, 0.59, 0.59, 0.59, 0.59, 0.59, 0.59, 0.59, 0.59,\n",
       "        0.59, 0.59, 0.59],\n",
       "       [0.59, 0.59, 0.59, 0.59, 0.59, 0.59, 0.59, 0.59, 0.59, 0.59, 0.59,\n",
       "        0.59, 0.59, 0.59],\n",
       "       [0.59, 0.59, 0.59, 0.59, 0.59, 0.59, 0.59, 0.59, 0.59, 0.59, 0.59,\n",
       "        0.59, 0.59, 0.59],\n",
       "       [0.59, 0.59, 0.59, 0.59, 0.59, 0.59, 0.59, 0.59, 0.59, 0.59, 0.59,\n",
       "        0.59, 0.59, 0.59]], dtype=float32)>"
      ]
     },
     "execution_count": 429,
     "metadata": {},
     "output_type": "execute_result"
    }
   ],
   "source": [
    "output_layer.w"
   ]
  },
  {
   "cell_type": "code",
   "execution_count": 430,
   "metadata": {},
   "outputs": [
    {
     "data": {
      "text/plain": [
       "<tf.Variable 'OutputLayer/OutputLayer_activation:0' shape=(1, 14) dtype=float32, numpy=\n",
       "array([[0.40384   , 0.40384   , 0.40384   , 0.40384   , 0.40384   ,\n",
       "        0.40384   , 0.40384   , 0.40384   , 0.40384004, 0.40384004,\n",
       "        0.40384004, 0.40384004, 0.40384004, 0.40384004]], dtype=float32)>"
      ]
     },
     "execution_count": 430,
     "metadata": {},
     "output_type": "execute_result"
    }
   ],
   "source": [
    "output_layer.a"
   ]
  },
  {
   "cell_type": "code",
   "execution_count": 431,
   "metadata": {},
   "outputs": [
    {
     "data": {
      "text/plain": [
       "<tf.Tensor: shape=(), dtype=float32, numpy=1.8159815>"
      ]
     },
     "execution_count": 431,
     "metadata": {},
     "output_type": "execute_result"
    }
   ],
   "source": [
    "error = tf.math.reduce_sum(tf.math.square(res_hidden - res_output))\n",
    "error"
   ]
  },
  {
   "cell_type": "markdown",
   "metadata": {},
   "source": [
    "### Test back propagation"
   ]
  },
  {
   "cell_type": "code",
   "execution_count": 432,
   "metadata": {},
   "outputs": [],
   "source": [
    "alpha = 1"
   ]
  },
  {
   "cell_type": "code",
   "execution_count": 433,
   "metadata": {},
   "outputs": [
    {
     "data": {
      "text/plain": [
       "<tf.Tensor: shape=(1, 14), dtype=float32, numpy=\n",
       "array([[-0.09289556, -0.09561447, -0.09016878, -0.0789627 , -0.09686439,\n",
       "        -0.09289556, -0.09663051, -0.08580787, -0.0789627 , -0.05330626,\n",
       "        -0.09016878, -0.06852731, -0.09561447, -0.08580787]],\n",
       "      dtype=float32)>"
      ]
     },
     "execution_count": 433,
     "metadata": {},
     "output_type": "execute_result"
    }
   ],
   "source": [
    "delta_Ao = res_output * (res_hidden - res_output) * (1 - res_output) + output_layer.deltaA * (res_hidden - res_output)\n",
    "delta_Ao"
   ]
  },
  {
   "cell_type": "code",
   "execution_count": 434,
   "metadata": {},
   "outputs": [
    {
     "data": {
      "text/plain": [
       "<tf.Tensor: shape=(1, 14), dtype=float32, numpy=\n",
       "array([[0.01798621, 0.00669285, 0.02931223, 0.07585818, 0.00150118,\n",
       "        0.01798621, 0.00247262, 0.04742587, 0.07585818, 0.18242553,\n",
       "        0.02931223, 0.11920292, 0.00669285, 0.04742587]], dtype=float32)>"
      ]
     },
     "execution_count": 434,
     "metadata": {},
     "output_type": "execute_result"
    }
   ],
   "source": [
    "res_hidden"
   ]
  },
  {
   "cell_type": "code",
   "execution_count": 435,
   "metadata": {},
   "outputs": [
    {
     "data": {
      "text/plain": [
       "<tf.Tensor: shape=(14, 14), dtype=float32, numpy=\n",
       "array([[-1.67083903e-03, -1.71974197e-03, -1.62179465e-03,\n",
       "        -1.42023969e-03, -1.74222316e-03, -1.67083903e-03,\n",
       "        -1.73801661e-03, -1.54335832e-03, -1.42023969e-03,\n",
       "        -9.58777615e-04, -1.62179465e-03, -1.23254664e-03,\n",
       "        -1.71974197e-03, -1.54335832e-03],\n",
       "       [-6.21736166e-04, -6.39933394e-04, -6.03486202e-04,\n",
       "        -5.28485572e-04, -6.48298883e-04, -6.21736166e-04,\n",
       "        -6.46733562e-04, -5.74299251e-04, -5.28485572e-04,\n",
       "        -3.56770877e-04, -6.03486202e-04, -4.58643073e-04,\n",
       "        -6.39933394e-04, -5.74299251e-04],\n",
       "       [-2.72297603e-03, -2.80267349e-03, -2.64304806e-03,\n",
       "        -2.31457292e-03, -2.83931126e-03, -2.72297603e-03,\n",
       "        -2.83245579e-03, -2.51522008e-03, -2.31457292e-03,\n",
       "        -1.56252552e-03, -2.64304806e-03, -2.00868840e-03,\n",
       "        -2.80267349e-03, -2.51522008e-03],\n",
       "       [-7.04688765e-03, -7.25313928e-03, -6.84003951e-03,\n",
       "        -5.98996645e-03, -7.34795583e-03, -7.04688765e-03,\n",
       "        -7.33021414e-03, -6.50922814e-03, -5.98996645e-03,\n",
       "        -4.04371601e-03, -6.84003951e-03, -5.19835670e-03,\n",
       "        -7.25313928e-03, -6.50922814e-03],\n",
       "       [-1.39453172e-04, -1.43534751e-04, -1.35359776e-04,\n",
       "        -1.18537406e-04, -1.45411104e-04, -1.39453172e-04,\n",
       "        -1.45060010e-04, -1.28813248e-04, -1.18537406e-04,\n",
       "        -8.00224225e-05, -1.35359776e-04, -1.02871985e-04,\n",
       "        -1.43534751e-04, -1.28813248e-04],\n",
       "       [-1.67083903e-03, -1.71974197e-03, -1.62179465e-03,\n",
       "        -1.42023969e-03, -1.74222316e-03, -1.67083903e-03,\n",
       "        -1.73801661e-03, -1.54335832e-03, -1.42023969e-03,\n",
       "        -9.58777615e-04, -1.62179465e-03, -1.23254664e-03,\n",
       "        -1.71974197e-03, -1.54335832e-03],\n",
       "       [-2.29695725e-04, -2.36418564e-04, -2.22953429e-04,\n",
       "        -1.95245011e-04, -2.39509143e-04, -2.29695725e-04,\n",
       "        -2.38930836e-04, -2.12170533e-04, -1.95245011e-04,\n",
       "        -1.31806300e-04, -2.22953429e-04, -1.69442224e-04,\n",
       "        -2.36418564e-04, -2.12170533e-04],\n",
       "       [-4.40565310e-03, -4.53459984e-03, -4.27633338e-03,\n",
       "        -3.74487485e-03, -4.59387805e-03, -4.40565310e-03,\n",
       "        -4.58278600e-03, -4.06951318e-03, -3.74487485e-03,\n",
       "        -2.52809608e-03, -4.27633338e-03, -3.24996770e-03,\n",
       "        -4.53459984e-03, -4.06951318e-03],\n",
       "       [-7.04688765e-03, -7.25313928e-03, -6.84003951e-03,\n",
       "        -5.98996645e-03, -7.34795583e-03, -7.04688765e-03,\n",
       "        -7.33021414e-03, -6.50922814e-03, -5.98996645e-03,\n",
       "        -4.04371601e-03, -6.84003951e-03, -5.19835670e-03,\n",
       "        -7.25313928e-03, -6.50922814e-03],\n",
       "       [-1.69465225e-02, -1.74425207e-02, -1.64490882e-02,\n",
       "        -1.44048119e-02, -1.76705364e-02, -1.69465225e-02,\n",
       "        -1.76278707e-02, -1.56535450e-02, -1.44048119e-02,\n",
       "        -9.72442329e-03, -1.64490882e-02, -1.25011308e-02,\n",
       "        -1.74425207e-02, -1.56535450e-02],\n",
       "       [-2.72297603e-03, -2.80267349e-03, -2.64304806e-03,\n",
       "        -2.31457292e-03, -2.83931126e-03, -2.72297603e-03,\n",
       "        -2.83245579e-03, -2.51522008e-03, -2.31457292e-03,\n",
       "        -1.56252552e-03, -2.64304806e-03, -2.00868840e-03,\n",
       "        -2.80267349e-03, -2.51522008e-03],\n",
       "       [-1.10734217e-02, -1.13975238e-02, -1.07483817e-02,\n",
       "        -9.41258390e-03, -1.15465177e-02, -1.10734217e-02,\n",
       "        -1.15186386e-02, -1.02285482e-02, -9.41258390e-03,\n",
       "        -6.35426212e-03, -1.07483817e-02, -8.16865545e-03,\n",
       "        -1.13975238e-02, -1.02285482e-02],\n",
       "       [-6.21736166e-04, -6.39933394e-04, -6.03486202e-04,\n",
       "        -5.28485572e-04, -6.48298883e-04, -6.21736166e-04,\n",
       "        -6.46733562e-04, -5.74299251e-04, -5.28485572e-04,\n",
       "        -3.56770877e-04, -6.03486202e-04, -4.58643073e-04,\n",
       "        -6.39933394e-04, -5.74299251e-04],\n",
       "       [-4.40565310e-03, -4.53459984e-03, -4.27633338e-03,\n",
       "        -3.74487485e-03, -4.59387805e-03, -4.40565310e-03,\n",
       "        -4.58278600e-03, -4.06951318e-03, -3.74487485e-03,\n",
       "        -2.52809608e-03, -4.27633338e-03, -3.24996770e-03,\n",
       "        -4.53459984e-03, -4.06951318e-03]], dtype=float32)>"
      ]
     },
     "execution_count": 435,
     "metadata": {},
     "output_type": "execute_result"
    }
   ],
   "source": [
    "delta_Wo = alpha * tf.matmul(tf.transpose(res_hidden),delta_Ao)   #dubbio scambiare righe e colonne\n",
    "delta_Wo"
   ]
  },
  {
   "cell_type": "code",
   "execution_count": 436,
   "metadata": {},
   "outputs": [
    {
     "data": {
      "text/plain": [
       "<tf.Variable 'OutputLayer/OutputLayer_weights:0' shape=(14, 14) dtype=float32, numpy=\n",
       "array([[0.58832914, 0.58828026, 0.5883782 , 0.5885797 , 0.58825773,\n",
       "        0.58832914, 0.58826196, 0.58845663, 0.5885797 , 0.5890412 ,\n",
       "        0.5883782 , 0.5887674 , 0.58828026, 0.58845663],\n",
       "       [0.58937824, 0.58936006, 0.5893965 , 0.58947146, 0.58935165,\n",
       "        0.58937824, 0.58935326, 0.5894257 , 0.58947146, 0.5896432 ,\n",
       "        0.5893965 , 0.5895413 , 0.58936006, 0.5894257 ],\n",
       "       [0.587277  , 0.5871973 , 0.5873569 , 0.5876854 , 0.58716065,\n",
       "        0.587277  , 0.5871675 , 0.5874848 , 0.5876854 , 0.58843744,\n",
       "        0.5873569 , 0.5879913 , 0.5871973 , 0.5874848 ],\n",
       "       [0.5829531 , 0.58274686, 0.5831599 , 0.58401   , 0.58265203,\n",
       "        0.5829531 , 0.58266973, 0.5834907 , 0.58401   , 0.5859563 ,\n",
       "        0.5831599 , 0.5848016 , 0.58274686, 0.5834907 ],\n",
       "       [0.5898605 , 0.58985645, 0.5898646 , 0.5898814 , 0.58985454,\n",
       "        0.5898605 , 0.5898549 , 0.58987117, 0.5898814 , 0.5899199 ,\n",
       "        0.5898646 , 0.5898971 , 0.58985645, 0.58987117],\n",
       "       [0.58832914, 0.58828026, 0.5883782 , 0.5885797 , 0.58825773,\n",
       "        0.58832914, 0.58826196, 0.58845663, 0.5885797 , 0.5890412 ,\n",
       "        0.5883782 , 0.5887674 , 0.58828026, 0.58845663],\n",
       "       [0.58977026, 0.5897636 , 0.589777  , 0.5898047 , 0.5897605 ,\n",
       "        0.58977026, 0.589761  , 0.5897878 , 0.5898047 , 0.5898682 ,\n",
       "        0.589777  , 0.5898305 , 0.5897636 , 0.5897878 ],\n",
       "       [0.5855943 , 0.5854654 , 0.58572364, 0.5862551 , 0.5854061 ,\n",
       "        0.5855943 , 0.5854172 , 0.58593047, 0.5862551 , 0.5874719 ,\n",
       "        0.58572364, 0.58675003, 0.5854654 , 0.58593047],\n",
       "       [0.5829531 , 0.58274686, 0.5831599 , 0.58401   , 0.58265203,\n",
       "        0.5829531 , 0.58266973, 0.5834907 , 0.58401   , 0.5859563 ,\n",
       "        0.5831599 , 0.5848016 , 0.58274686, 0.5834907 ],\n",
       "       [0.5730535 , 0.57255745, 0.5735509 , 0.57559514, 0.57232946,\n",
       "        0.5730535 , 0.5723721 , 0.5743464 , 0.57559514, 0.58027554,\n",
       "        0.5735509 , 0.57749885, 0.57255745, 0.5743464 ],\n",
       "       [0.587277  , 0.5871973 , 0.5873569 , 0.5876854 , 0.58716065,\n",
       "        0.587277  , 0.5871675 , 0.5874848 , 0.5876854 , 0.58843744,\n",
       "        0.5873569 , 0.5879913 , 0.5871973 , 0.5874848 ],\n",
       "       [0.57892656, 0.57860243, 0.5792516 , 0.5805874 , 0.5784535 ,\n",
       "        0.57892656, 0.5784813 , 0.5797714 , 0.5805874 , 0.5836457 ,\n",
       "        0.5792516 , 0.58183134, 0.57860243, 0.5797714 ],\n",
       "       [0.58937824, 0.58936006, 0.5893965 , 0.58947146, 0.58935165,\n",
       "        0.58937824, 0.58935326, 0.5894257 , 0.58947146, 0.5896432 ,\n",
       "        0.5893965 , 0.5895413 , 0.58936006, 0.5894257 ],\n",
       "       [0.5855943 , 0.5854654 , 0.58572364, 0.5862551 , 0.5854061 ,\n",
       "        0.5855943 , 0.5854172 , 0.58593047, 0.5862551 , 0.5874719 ,\n",
       "        0.58572364, 0.58675003, 0.5854654 , 0.58593047]], dtype=float32)>"
      ]
     },
     "execution_count": 436,
     "metadata": {},
     "output_type": "execute_result"
    }
   ],
   "source": [
    "output_layer.w.assign_add(delta_Wo)\n",
    "output_layer.w"
   ]
  },
  {
   "cell_type": "code",
   "execution_count": 437,
   "metadata": {},
   "outputs": [
    {
     "data": {
      "text/plain": [
       "<tf.Tensor: shape=(1, 14), dtype=float32, numpy=\n",
       "array([[-0.01244915, -0.00468486, -0.0200582 , -0.04945816, -0.0010562 ,\n",
       "        -0.01244915, -0.00173802, -0.03185719, -0.04945816, -0.10540765,\n",
       "        -0.0200582 , -0.07412587, -0.00468486, -0.03185719]],\n",
       "      dtype=float32)>"
      ]
     },
     "execution_count": 437,
     "metadata": {},
     "output_type": "execute_result"
    }
   ],
   "source": [
    "delta_Ah = res_hidden * (1 - res_hidden) * (tf.matmul(delta_Ao , output_layer.w)) # dubbio scambiare righe per colonne\n",
    "delta_Ah"
   ]
  },
  {
   "cell_type": "code",
   "execution_count": 438,
   "metadata": {},
   "outputs": [
    {
     "data": {
      "text/plain": [
       "<tf.Tensor: shape=(2, 14), dtype=float32, numpy=\n",
       "array([[-0.03734745, -0.01873942, -0.0200582 , -0.09891631, -0.00633719,\n",
       "        -0.0248983 , -0.00695207, -0.12742876, -0.04945816, -0.10540765,\n",
       "        -0.0601746 , -0.07412587, -0.01405457, -0.03185719],\n",
       "       [-0.06224575, -0.02810913, -0.1203492 , -0.14837447, -0.00739339,\n",
       "        -0.07469489, -0.01390414, -0.06371438, -0.19783263, -0.2108153 ,\n",
       "        -0.0802328 , -0.22237761, -0.03279399, -0.15928595]],\n",
       "      dtype=float32)>"
      ]
     },
     "execution_count": 438,
     "metadata": {},
     "output_type": "execute_result"
    }
   ],
   "source": [
    "delta_Wh = tf.transpose(alpha * tf.transpose(delta_Ah) * res_input)\n",
    "delta_Wh"
   ]
  },
  {
   "cell_type": "code",
   "execution_count": 439,
   "metadata": {},
   "outputs": [
    {
     "data": {
      "text/plain": [
       "<tf.Variable 'HiddenLayer/HiddenLayer_weights:0' shape=(2, 14) dtype=float32, numpy=\n",
       "array([[0.46265256, 0.48126057, 0.4799418 , 0.40108368, 0.4936628 ,\n",
       "        0.4751017 , 0.49304792, 0.37257123, 0.45054185, 0.39459234,\n",
       "        0.43982542, 0.4258741 , 0.48594543, 0.4681428 ],\n",
       "       [0.43775424, 0.47189087, 0.3796508 , 0.35162553, 0.4926066 ,\n",
       "        0.4253051 , 0.48609588, 0.43628561, 0.30216736, 0.2891847 ,\n",
       "        0.4197672 , 0.2776224 , 0.467206  , 0.34071404]], dtype=float32)>"
      ]
     },
     "execution_count": 439,
     "metadata": {},
     "output_type": "execute_result"
    }
   ],
   "source": [
    "hidden_layer.w.assign_add(delta_Wh)\n",
    "hidden_layer.w"
   ]
  },
  {
   "cell_type": "markdown",
   "metadata": {},
   "source": [
    "---"
   ]
  },
  {
   "cell_type": "markdown",
   "metadata": {},
   "source": [
    "# CUSTOM MODEL"
   ]
  },
  {
   "cell_type": "code",
   "execution_count": 440,
   "metadata": {},
   "outputs": [],
   "source": [
    "class MQSelfReflexiveNetwork(tf.keras.Model):\n",
    "  def __init__(self, learning_rate):\n",
    "    super(MQSelfReflexiveNetwork, self).__init__(name='MQSelfReflexiveNetwork')\n",
    "\n",
    "    self.input_layer = InputLayer(name = \"InputLayer\")\n",
    "    self.h = Layer(name = \"HiddenLayer\",weights_init_val=0.5, bias_init_val=0.2)\n",
    "    self.o = Layer(name = \"OutputLayer\",weights_init_val=0.59, bias_init_val=0.2)\n",
    "    self.temperature = tf.Variable(initial_value=1.0,trainable=False, name = \"Temperature\")\n",
    "    self.error = tf.Variable(initial_value=0.0,trainable=False, name = \"Error\")\n",
    "    self.alpha = learning_rate\n",
    "\n",
    "  def call(self, input):\n",
    "    ### FOWARD PASS\n",
    "    res_input = self.input_layer(input)\n",
    "    res_hidden = self.h(res_input, self.temperature)\n",
    "    res_output = self.o(res_hidden, self.temperature)\n",
    "    return tf.math.reduce_sum(tf.math.square(res_hidden - res_output))\n",
    "  \n",
    "  def train_step(self, input):\n",
    "    ### CALL FOWARD PASS\n",
    "    self.error.assign(self(input, training = True))\n",
    "\n",
    "    ### BACK PROPAGATION\n",
    "    # Compute temperature\n",
    "    self.temperature.assign(1 - (1 / (1 + self.error) ))\n",
    "    print(self.temperature)\n",
    "\n",
    "    # Update outputs weights\n",
    "    delta_Ao = self.o.a * (self.h.a - self.o.a) * (1 - self.o.a) + (self.o.deltaA * ((self.h.a - self.o.a)) )\n",
    "    delta_Wo = self.alpha * tf.matmul(tf.transpose(self.h.a),delta_Ao)\n",
    "    self.o.deltaA.assign(delta_Ao)\n",
    "    self.o.w.assign_add(delta_Wo)\n",
    "\n",
    "\n",
    "    ## Update hidden weights\n",
    "    delta_Ah = self.h.a * (1 - self.h.a) * (tf.matmul(self.o.deltaA , self.o.w))\n",
    "    delta_Wh = tf.transpose(self.alpha * tf.transpose(delta_Ah) * self.input_layer.a)\n",
    "    self.h.deltaA.assign(delta_Ah)\n",
    "    self.h.w.assign_add(delta_Wh)\n",
    "\n",
    "    return {\n",
    "        \"Error\": tf.squeeze(self.error.value()),\n",
    "        \"Temperature\": tf.squeeze(self.temperature.value()),\n",
    "        \"Hidden weights\": tf.squeeze(self.h.w.value()),\n",
    "        \"Output weights\": tf.squeeze(self.o.w.value())\n",
    "        }"
   ]
  },
  {
   "cell_type": "code",
   "execution_count": 441,
   "metadata": {},
   "outputs": [],
   "source": [
    "# Construct an instance of CustomModel\n",
    "input = tf.constant([0.01, 0.00, 0.03, 0.224, 0.875, 0.266, 0.427, 0.168])\n",
    "model = MQSelfReflexiveNetwork(learning_rate=10)"
   ]
  },
  {
   "cell_type": "code",
   "execution_count": 443,
   "metadata": {},
   "outputs": [
    {
     "name": "stdout",
     "output_type": "stream",
     "text": [
      "Epoch 1/250\n",
      "<tf.Variable 'Temperature:0' shape=() dtype=float32>\n",
      "<tf.Variable 'Temperature:0' shape=() dtype=float32>\n",
      "1/1 [==============================] - 0s 265ms/step - Error: 1.6763 - Temperature: 0.6263 - Hidden weights: 0.5697 - Output weights: 0.6336\n",
      "Epoch 2/250\n",
      "1/1 [==============================] - 0s 2ms/step - Error: 1.3542 - Temperature: 0.5752 - Hidden weights: 0.5994 - Output weights: 0.6527\n",
      "Epoch 3/250\n",
      "1/1 [==============================] - 0s 2ms/step - Error: 1.1675 - Temperature: 0.5386 - Hidden weights: 0.6185 - Output weights: 0.6636\n",
      "Epoch 4/250\n",
      "1/1 [==============================] - 0s 6ms/step - Error: 1.2477 - Temperature: 0.5551 - Hidden weights: 0.6285 - Output weights: 0.6705\n",
      "Epoch 5/250\n",
      "1/1 [==============================] - 0s 3ms/step - Error: 1.4160 - Temperature: 0.5861 - Hidden weights: 0.6353 - Output weights: 0.6762\n",
      "Epoch 6/250\n",
      "1/1 [==============================] - 0s 3ms/step - Error: 1.2343 - Temperature: 0.5524 - Hidden weights: 0.6463 - Output weights: 0.6828\n",
      "Epoch 7/250\n",
      "1/1 [==============================] - 0s 3ms/step - Error: 1.5380 - Temperature: 0.6060 - Hidden weights: 0.6513 - Output weights: 0.6878\n",
      "Epoch 8/250\n",
      "1/1 [==============================] - 0s 4ms/step - Error: 1.5212 - Temperature: 0.6034 - Hidden weights: 0.6581 - Output weights: 0.6936\n",
      "Epoch 9/250\n",
      "1/1 [==============================] - 0s 4ms/step - Error: 1.5472 - Temperature: 0.6074 - Hidden weights: 0.6646 - Output weights: 0.6993\n",
      "Epoch 10/250\n",
      "1/1 [==============================] - 0s 2ms/step - Error: 1.4527 - Temperature: 0.5923 - Hidden weights: 0.6723 - Output weights: 0.7052\n",
      "Epoch 11/250\n",
      "1/1 [==============================] - 0s 2ms/step - Error: 1.2530 - Temperature: 0.5562 - Hidden weights: 0.6821 - Output weights: 0.7112\n",
      "Epoch 12/250\n",
      "1/1 [==============================] - 0s 4ms/step - Error: 1.2887 - Temperature: 0.5631 - Hidden weights: 0.6887 - Output weights: 0.7159\n",
      "Epoch 13/250\n",
      "1/1 [==============================] - 0s 3ms/step - Error: 1.4345 - Temperature: 0.5892 - Hidden weights: 0.6935 - Output weights: 0.7201\n",
      "Epoch 14/250\n",
      "1/1 [==============================] - 0s 3ms/step - Error: 1.0973 - Temperature: 0.5232 - Hidden weights: 0.7043 - Output weights: 0.7259\n",
      "Epoch 15/250\n",
      "1/1 [==============================] - 0s 2ms/step - Error: 1.1329 - Temperature: 0.5312 - Hidden weights: 0.7103 - Output weights: 0.7298\n",
      "Epoch 16/250\n",
      "1/1 [==============================] - 0s 5ms/step - Error: 1.5245 - Temperature: 0.6039 - Hidden weights: 0.7129 - Output weights: 0.7327\n",
      "Epoch 17/250\n",
      "1/1 [==============================] - 0s 3ms/step - Error: 1.3501 - Temperature: 0.5745 - Hidden weights: 0.7194 - Output weights: 0.7372\n",
      "Epoch 18/250\n",
      "1/1 [==============================] - 0s 2ms/step - Error: 1.4314 - Temperature: 0.5887 - Hidden weights: 0.7241 - Output weights: 0.7411\n",
      "Epoch 19/250\n",
      "1/1 [==============================] - 0s 5ms/step - Error: 1.4380 - Temperature: 0.5898 - Hidden weights: 0.7289 - Output weights: 0.7450\n",
      "Epoch 20/250\n",
      "1/1 [==============================] - 0s 4ms/step - Error: 1.1114 - Temperature: 0.5264 - Hidden weights: 0.7384 - Output weights: 0.7502\n",
      "Epoch 21/250\n",
      "1/1 [==============================] - 0s 3ms/step - Error: 0.9770 - Temperature: 0.4942 - Hidden weights: 0.7453 - Output weights: 0.7540\n",
      "Epoch 22/250\n",
      "1/1 [==============================] - 0s 2ms/step - Error: 0.7873 - Temperature: 0.4405 - Hidden weights: 0.7522 - Output weights: 0.7573\n",
      "Epoch 23/250\n",
      "1/1 [==============================] - 0s 6ms/step - Error: 0.7630 - Temperature: 0.4328 - Hidden weights: 0.7561 - Output weights: 0.7595\n",
      "Epoch 24/250\n",
      "1/1 [==============================] - 0s 5ms/step - Error: 1.0074 - Temperature: 0.5019 - Hidden weights: 0.7579 - Output weights: 0.7609\n",
      "Epoch 25/250\n",
      "1/1 [==============================] - 0s 6ms/step - Error: 0.9710 - Temperature: 0.4927 - Hidden weights: 0.7618 - Output weights: 0.7632\n",
      "Epoch 26/250\n",
      "1/1 [==============================] - 0s 4ms/step - Error: 0.9420 - Temperature: 0.4851 - Hidden weights: 0.7658 - Output weights: 0.7656\n",
      "Epoch 27/250\n",
      "1/1 [==============================] - 0s 5ms/step - Error: 1.0747 - Temperature: 0.5180 - Hidden weights: 0.7685 - Output weights: 0.7675\n",
      "Epoch 28/250\n",
      "1/1 [==============================] - 0s 8ms/step - Error: 1.1222 - Temperature: 0.5288 - Hidden weights: 0.7720 - Output weights: 0.7700\n",
      "Epoch 29/250\n",
      "1/1 [==============================] - 0s 5ms/step - Error: 1.2991 - Temperature: 0.5651 - Hidden weights: 0.7746 - Output weights: 0.7722\n",
      "Epoch 30/250\n",
      "1/1 [==============================] - 0s 9ms/step - Error: 1.0412 - Temperature: 0.5101 - Hidden weights: 0.7812 - Output weights: 0.7759\n",
      "Epoch 31/250\n",
      "1/1 [==============================] - 0s 3ms/step - Error: 1.0646 - Temperature: 0.5156 - Hidden weights: 0.7853 - Output weights: 0.7786\n",
      "Epoch 32/250\n",
      "1/1 [==============================] - 0s 2ms/step - Error: 1.2146 - Temperature: 0.5485 - Hidden weights: 0.7880 - Output weights: 0.7808\n",
      "Epoch 33/250\n",
      "1/1 [==============================] - 0s 8ms/step - Error: 1.0654 - Temperature: 0.5158 - Hidden weights: 0.7931 - Output weights: 0.7839\n",
      "Epoch 34/250\n",
      "1/1 [==============================] - 0s 4ms/step - Error: 1.0975 - Temperature: 0.5232 - Hidden weights: 0.7967 - Output weights: 0.7863\n",
      "Epoch 35/250\n",
      "1/1 [==============================] - 0s 3ms/step - Error: 1.1343 - Temperature: 0.5315 - Hidden weights: 0.8001 - Output weights: 0.7888\n",
      "Epoch 36/250\n",
      "1/1 [==============================] - 0s 11ms/step - Error: 1.0013 - Temperature: 0.5003 - Hidden weights: 0.8049 - Output weights: 0.7916\n",
      "Epoch 37/250\n",
      "1/1 [==============================] - 0s 4ms/step - Error: 0.9098 - Temperature: 0.4764 - Hidden weights: 0.8092 - Output weights: 0.7941\n",
      "Epoch 38/250\n",
      "1/1 [==============================] - 0s 9ms/step - Error: 0.8198 - Temperature: 0.4505 - Hidden weights: 0.8131 - Output weights: 0.7963\n",
      "Epoch 39/250\n",
      "1/1 [==============================] - 0s 10ms/step - Error: 0.6972 - Temperature: 0.4108 - Hidden weights: 0.8171 - Output weights: 0.7984\n",
      "Epoch 40/250\n",
      "1/1 [==============================] - 0s 6ms/step - Error: 0.9371 - Temperature: 0.4838 - Hidden weights: 0.8184 - Output weights: 0.7995\n",
      "Epoch 41/250\n",
      "1/1 [==============================] - 0s 8ms/step - Error: 0.8493 - Temperature: 0.4593 - Hidden weights: 0.8217 - Output weights: 0.8015\n",
      "Epoch 42/250\n",
      "1/1 [==============================] - 0s 7ms/step - Error: 0.8034 - Temperature: 0.4455 - Hidden weights: 0.8248 - Output weights: 0.8033\n",
      "Epoch 43/250\n",
      "1/1 [==============================] - 0s 8ms/step - Error: 0.9259 - Temperature: 0.4808 - Hidden weights: 0.8267 - Output weights: 0.8047\n",
      "Epoch 44/250\n",
      "1/1 [==============================] - 0s 6ms/step - Error: 1.0497 - Temperature: 0.5121 - Hidden weights: 0.8285 - Output weights: 0.8061\n",
      "Epoch 45/250\n",
      "1/1 [==============================] - 0s 9ms/step - Error: 1.1241 - Temperature: 0.5292 - Hidden weights: 0.8307 - Output weights: 0.8077\n",
      "Epoch 46/250\n",
      "1/1 [==============================] - 0s 5ms/step - Error: 0.9315 - Temperature: 0.4823 - Hidden weights: 0.8353 - Output weights: 0.8102\n",
      "Epoch 47/250\n",
      "1/1 [==============================] - 0s 9ms/step - Error: 0.8881 - Temperature: 0.4704 - Hidden weights: 0.8386 - Output weights: 0.8123\n",
      "Epoch 48/250\n",
      "1/1 [==============================] - 0s 8ms/step - Error: 1.0269 - Temperature: 0.5066 - Hidden weights: 0.8405 - Output weights: 0.8138\n",
      "Epoch 49/250\n",
      "1/1 [==============================] - 0s 10ms/step - Error: 1.1627 - Temperature: 0.5376 - Hidden weights: 0.8424 - Output weights: 0.8152\n",
      "Epoch 50/250\n",
      "1/1 [==============================] - 0s 4ms/step - Error: 0.9183 - Temperature: 0.4787 - Hidden weights: 0.8471 - Output weights: 0.8178\n",
      "Epoch 51/250\n",
      "1/1 [==============================] - 0s 7ms/step - Error: 1.1356 - Temperature: 0.5317 - Hidden weights: 0.8488 - Output weights: 0.8193\n",
      "Epoch 52/250\n",
      "1/1 [==============================] - 0s 4ms/step - Error: 1.3752 - Temperature: 0.5790 - Hidden weights: 0.8503 - Output weights: 0.8206\n",
      "Epoch 53/250\n",
      "1/1 [==============================] - 0s 3ms/step - Error: 1.1096 - Temperature: 0.5260 - Hidden weights: 0.8547 - Output weights: 0.8233\n",
      "Epoch 54/250\n",
      "1/1 [==============================] - 0s 8ms/step - Error: 0.6725 - Temperature: 0.4021 - Hidden weights: 0.8625 - Output weights: 0.8266\n",
      "Epoch 55/250\n",
      "1/1 [==============================] - 0s 4ms/step - Error: 0.8772 - Temperature: 0.4673 - Hidden weights: 0.8641 - Output weights: 0.8279\n",
      "Epoch 56/250\n",
      "1/1 [==============================] - 0s 9ms/step - Error: 0.9008 - Temperature: 0.4739 - Hidden weights: 0.8663 - Output weights: 0.8294\n",
      "Epoch 57/250\n",
      "1/1 [==============================] - 0s 4ms/step - Error: 0.7816 - Temperature: 0.4387 - Hidden weights: 0.8695 - Output weights: 0.8311\n",
      "Epoch 58/250\n",
      "1/1 [==============================] - 0s 3ms/step - Error: 0.6297 - Temperature: 0.3864 - Hidden weights: 0.8727 - Output weights: 0.8328\n",
      "Epoch 59/250\n",
      "1/1 [==============================] - 0s 6ms/step - Error: 0.9058 - Temperature: 0.4753 - Hidden weights: 0.8735 - Output weights: 0.8335\n",
      "Epoch 60/250\n",
      "1/1 [==============================] - 0s 3ms/step - Error: 0.8173 - Temperature: 0.4497 - Hidden weights: 0.8761 - Output weights: 0.8350\n",
      "Epoch 61/250\n",
      "1/1 [==============================] - 0s 3ms/step - Error: 0.8032 - Temperature: 0.4454 - Hidden weights: 0.8783 - Output weights: 0.8364\n",
      "Epoch 62/250\n",
      "1/1 [==============================] - 0s 2ms/step - Error: 0.8019 - Temperature: 0.4450 - Hidden weights: 0.8801 - Output weights: 0.8375\n",
      "Epoch 63/250\n",
      "1/1 [==============================] - 0s 5ms/step - Error: 0.6229 - Temperature: 0.3838 - Hidden weights: 0.8834 - Output weights: 0.8392\n",
      "Epoch 64/250\n",
      "1/1 [==============================] - 0s 3ms/step - Error: 0.6112 - Temperature: 0.3793 - Hidden weights: 0.8849 - Output weights: 0.8401\n",
      "Epoch 65/250\n",
      "1/1 [==============================] - 0s 2ms/step - Error: 0.5599 - Temperature: 0.3589 - Hidden weights: 0.8864 - Output weights: 0.8410\n",
      "Epoch 66/250\n",
      "1/1 [==============================] - 0s 7ms/step - Error: 0.4465 - Temperature: 0.3087 - Hidden weights: 0.8881 - Output weights: 0.8420\n",
      "Epoch 67/250\n",
      "1/1 [==============================] - 0s 3ms/step - Error: 0.3143 - Temperature: 0.2391 - Hidden weights: 0.8895 - Output weights: 0.8428\n",
      "Epoch 68/250\n",
      "1/1 [==============================] - 0s 3ms/step - Error: 0.3677 - Temperature: 0.2689 - Hidden weights: 0.8897 - Output weights: 0.8430\n",
      "Epoch 69/250\n",
      "1/1 [==============================] - 0s 5ms/step - Error: 0.3998 - Temperature: 0.2856 - Hidden weights: 0.8900 - Output weights: 0.8432\n",
      "Epoch 70/250\n",
      "1/1 [==============================] - 0s 3ms/step - Error: 0.3597 - Temperature: 0.2645 - Hidden weights: 0.8905 - Output weights: 0.8436\n",
      "Epoch 71/250\n",
      "1/1 [==============================] - 0s 2ms/step - Error: 0.3137 - Temperature: 0.2388 - Hidden weights: 0.8910 - Output weights: 0.8440\n",
      "Epoch 72/250\n",
      "1/1 [==============================] - 0s 3ms/step - Error: 0.3285 - Temperature: 0.2473 - Hidden weights: 0.8913 - Output weights: 0.8442\n",
      "Epoch 73/250\n",
      "1/1 [==============================] - 0s 2ms/step - Error: 0.2659 - Temperature: 0.2100 - Hidden weights: 0.8917 - Output weights: 0.8446\n",
      "Epoch 74/250\n",
      "1/1 [==============================] - 0s 6ms/step - Error: 0.1661 - Temperature: 0.1425 - Hidden weights: 0.8920 - Output weights: 0.8449\n",
      "Epoch 75/250\n",
      "1/1 [==============================] - 0s 3ms/step - Error: 0.0663 - Temperature: 0.0622 - Hidden weights: 0.8921 - Output weights: 0.8450\n",
      "Epoch 76/250\n",
      "1/1 [==============================] - 0s 2ms/step - Error: 0.0162 - Temperature: 0.0160 - Hidden weights: 0.8921 - Output weights: 0.8450\n",
      "Epoch 77/250\n",
      "1/1 [==============================] - 0s 6ms/step - Error: 1.7162e-10 - Temperature: 0.0000e+00 - Hidden weights: 0.8921 - Output weights: 0.8450\n",
      "Epoch 78/250\n",
      "1/1 [==============================] - 0s 4ms/step - Error: 0.0000e+00 - Temperature: 0.0000e+00 - Hidden weights: 0.8921 - Output weights: 0.8450\n",
      "Epoch 79/250\n",
      "1/1 [==============================] - 0s 3ms/step - Error: 0.0000e+00 - Temperature: 0.0000e+00 - Hidden weights: 0.8921 - Output weights: 0.8450\n",
      "Epoch 80/250\n",
      "1/1 [==============================] - 0s 2ms/step - Error: 0.0000e+00 - Temperature: 0.0000e+00 - Hidden weights: 0.8921 - Output weights: 0.8450\n",
      "Epoch 81/250\n",
      "1/1 [==============================] - 0s 6ms/step - Error: 0.0000e+00 - Temperature: 0.0000e+00 - Hidden weights: 0.8921 - Output weights: 0.8450\n",
      "Epoch 82/250\n",
      "1/1 [==============================] - 0s 4ms/step - Error: 0.0000e+00 - Temperature: 0.0000e+00 - Hidden weights: 0.8921 - Output weights: 0.8450\n",
      "Epoch 83/250\n",
      "1/1 [==============================] - 0s 4ms/step - Error: 0.0000e+00 - Temperature: 0.0000e+00 - Hidden weights: 0.8921 - Output weights: 0.8450\n",
      "Epoch 84/250\n",
      "1/1 [==============================] - 0s 6ms/step - Error: 0.0000e+00 - Temperature: 0.0000e+00 - Hidden weights: 0.8921 - Output weights: 0.8450\n",
      "Epoch 85/250\n",
      "1/1 [==============================] - 0s 4ms/step - Error: 0.0000e+00 - Temperature: 0.0000e+00 - Hidden weights: 0.8921 - Output weights: 0.8450\n",
      "Epoch 86/250\n",
      "1/1 [==============================] - 0s 4ms/step - Error: 0.0000e+00 - Temperature: 0.0000e+00 - Hidden weights: 0.8921 - Output weights: 0.8450\n",
      "Epoch 87/250\n",
      "1/1 [==============================] - 0s 6ms/step - Error: 0.0000e+00 - Temperature: 0.0000e+00 - Hidden weights: 0.8921 - Output weights: 0.8450\n",
      "Epoch 88/250\n",
      "1/1 [==============================] - 0s 4ms/step - Error: 0.0000e+00 - Temperature: 0.0000e+00 - Hidden weights: 0.8921 - Output weights: 0.8450\n",
      "Epoch 89/250\n",
      "1/1 [==============================] - 0s 5ms/step - Error: 0.0000e+00 - Temperature: 0.0000e+00 - Hidden weights: 0.8921 - Output weights: 0.8450\n",
      "Epoch 90/250\n",
      "1/1 [==============================] - 0s 8ms/step - Error: 0.0000e+00 - Temperature: 0.0000e+00 - Hidden weights: 0.8921 - Output weights: 0.8450\n",
      "Epoch 91/250\n",
      "1/1 [==============================] - 0s 4ms/step - Error: 0.0000e+00 - Temperature: 0.0000e+00 - Hidden weights: 0.8921 - Output weights: 0.8450\n",
      "Epoch 92/250\n",
      "1/1 [==============================] - 0s 3ms/step - Error: 0.0000e+00 - Temperature: 0.0000e+00 - Hidden weights: 0.8921 - Output weights: 0.8450\n",
      "Epoch 93/250\n",
      "1/1 [==============================] - 0s 5ms/step - Error: 0.0000e+00 - Temperature: 0.0000e+00 - Hidden weights: 0.8921 - Output weights: 0.8450\n",
      "Epoch 94/250\n",
      "1/1 [==============================] - 0s 3ms/step - Error: 0.0000e+00 - Temperature: 0.0000e+00 - Hidden weights: 0.8921 - Output weights: 0.8450\n",
      "Epoch 95/250\n",
      "1/1 [==============================] - 0s 2ms/step - Error: 0.0000e+00 - Temperature: 0.0000e+00 - Hidden weights: 0.8921 - Output weights: 0.8450\n",
      "Epoch 96/250\n",
      "1/1 [==============================] - 0s 6ms/step - Error: 0.0000e+00 - Temperature: 0.0000e+00 - Hidden weights: 0.8921 - Output weights: 0.8450\n",
      "Epoch 97/250\n",
      "1/1 [==============================] - 0s 4ms/step - Error: 0.0000e+00 - Temperature: 0.0000e+00 - Hidden weights: 0.8921 - Output weights: 0.8450\n",
      "Epoch 98/250\n",
      "1/1 [==============================] - 0s 4ms/step - Error: 0.0000e+00 - Temperature: 0.0000e+00 - Hidden weights: 0.8921 - Output weights: 0.8450\n",
      "Epoch 99/250\n",
      "1/1 [==============================] - 0s 4ms/step - Error: 0.0000e+00 - Temperature: 0.0000e+00 - Hidden weights: 0.8921 - Output weights: 0.8450\n",
      "Epoch 100/250\n",
      "1/1 [==============================] - 0s 6ms/step - Error: 0.0000e+00 - Temperature: 0.0000e+00 - Hidden weights: 0.8921 - Output weights: 0.8450\n",
      "Epoch 101/250\n",
      "1/1 [==============================] - 0s 4ms/step - Error: 0.0000e+00 - Temperature: 0.0000e+00 - Hidden weights: 0.8921 - Output weights: 0.8450\n",
      "Epoch 102/250\n",
      "1/1 [==============================] - 0s 6ms/step - Error: 0.0000e+00 - Temperature: 0.0000e+00 - Hidden weights: 0.8921 - Output weights: 0.8450\n",
      "Epoch 103/250\n",
      "1/1 [==============================] - 0s 5ms/step - Error: 0.0000e+00 - Temperature: 0.0000e+00 - Hidden weights: 0.8921 - Output weights: 0.8450\n",
      "Epoch 104/250\n",
      "1/1 [==============================] - 0s 4ms/step - Error: 0.0000e+00 - Temperature: 0.0000e+00 - Hidden weights: 0.8921 - Output weights: 0.8450\n",
      "Epoch 105/250\n",
      "1/1 [==============================] - 0s 6ms/step - Error: 0.0000e+00 - Temperature: 0.0000e+00 - Hidden weights: 0.8921 - Output weights: 0.8450\n",
      "Epoch 106/250\n",
      "1/1 [==============================] - 0s 4ms/step - Error: 0.0000e+00 - Temperature: 0.0000e+00 - Hidden weights: 0.8921 - Output weights: 0.8450\n",
      "Epoch 107/250\n",
      "1/1 [==============================] - 0s 4ms/step - Error: 0.0000e+00 - Temperature: 0.0000e+00 - Hidden weights: 0.8921 - Output weights: 0.8450\n",
      "Epoch 108/250\n",
      "1/1 [==============================] - 0s 5ms/step - Error: 0.0000e+00 - Temperature: 0.0000e+00 - Hidden weights: 0.8921 - Output weights: 0.8450\n",
      "Epoch 109/250\n",
      "1/1 [==============================] - 0s 6ms/step - Error: 0.0000e+00 - Temperature: 0.0000e+00 - Hidden weights: 0.8921 - Output weights: 0.8450\n",
      "Epoch 110/250\n",
      "1/1 [==============================] - 0s 3ms/step - Error: 0.0000e+00 - Temperature: 0.0000e+00 - Hidden weights: 0.8921 - Output weights: 0.8450\n",
      "Epoch 111/250\n",
      "1/1 [==============================] - 0s 5ms/step - Error: 0.0000e+00 - Temperature: 0.0000e+00 - Hidden weights: 0.8921 - Output weights: 0.8450\n",
      "Epoch 112/250\n",
      "1/1 [==============================] - 0s 5ms/step - Error: 0.0000e+00 - Temperature: 0.0000e+00 - Hidden weights: 0.8921 - Output weights: 0.8450\n",
      "Epoch 113/250\n",
      "1/1 [==============================] - 0s 3ms/step - Error: 0.0000e+00 - Temperature: 0.0000e+00 - Hidden weights: 0.8921 - Output weights: 0.8450\n",
      "Epoch 114/250\n",
      "1/1 [==============================] - 0s 2ms/step - Error: 0.0000e+00 - Temperature: 0.0000e+00 - Hidden weights: 0.8921 - Output weights: 0.8450\n",
      "Epoch 115/250\n",
      "1/1 [==============================] - 0s 8ms/step - Error: 0.0000e+00 - Temperature: 0.0000e+00 - Hidden weights: 0.8921 - Output weights: 0.8450\n",
      "Epoch 116/250\n",
      "1/1 [==============================] - 0s 5ms/step - Error: 0.0000e+00 - Temperature: 0.0000e+00 - Hidden weights: 0.8921 - Output weights: 0.8450\n",
      "Epoch 117/250\n",
      "1/1 [==============================] - 0s 5ms/step - Error: 0.0000e+00 - Temperature: 0.0000e+00 - Hidden weights: 0.8921 - Output weights: 0.8450\n",
      "Epoch 118/250\n",
      "1/1 [==============================] - 0s 5ms/step - Error: 0.0000e+00 - Temperature: 0.0000e+00 - Hidden weights: 0.8921 - Output weights: 0.8450\n",
      "Epoch 119/250\n",
      "1/1 [==============================] - 0s 5ms/step - Error: 0.0000e+00 - Temperature: 0.0000e+00 - Hidden weights: 0.8921 - Output weights: 0.8450\n",
      "Epoch 120/250\n",
      "1/1 [==============================] - 0s 8ms/step - Error: 0.0000e+00 - Temperature: 0.0000e+00 - Hidden weights: 0.8921 - Output weights: 0.8450\n",
      "Epoch 121/250\n",
      "1/1 [==============================] - 0s 5ms/step - Error: 0.0000e+00 - Temperature: 0.0000e+00 - Hidden weights: 0.8921 - Output weights: 0.8450\n",
      "Epoch 122/250\n",
      "1/1 [==============================] - 0s 6ms/step - Error: 0.0000e+00 - Temperature: 0.0000e+00 - Hidden weights: 0.8921 - Output weights: 0.8450\n",
      "Epoch 123/250\n",
      "1/1 [==============================] - 0s 6ms/step - Error: 0.0000e+00 - Temperature: 0.0000e+00 - Hidden weights: 0.8921 - Output weights: 0.8450\n",
      "Epoch 124/250\n",
      "1/1 [==============================] - 0s 6ms/step - Error: 0.0000e+00 - Temperature: 0.0000e+00 - Hidden weights: 0.8921 - Output weights: 0.8450\n",
      "Epoch 125/250\n",
      "1/1 [==============================] - 0s 5ms/step - Error: 0.0000e+00 - Temperature: 0.0000e+00 - Hidden weights: 0.8921 - Output weights: 0.8450\n",
      "Epoch 126/250\n",
      "1/1 [==============================] - 0s 3ms/step - Error: 0.0000e+00 - Temperature: 0.0000e+00 - Hidden weights: 0.8921 - Output weights: 0.8450\n",
      "Epoch 127/250\n",
      "1/1 [==============================] - 0s 6ms/step - Error: 0.0000e+00 - Temperature: 0.0000e+00 - Hidden weights: 0.8921 - Output weights: 0.8450\n",
      "Epoch 128/250\n",
      "1/1 [==============================] - 0s 4ms/step - Error: 0.0000e+00 - Temperature: 0.0000e+00 - Hidden weights: 0.8921 - Output weights: 0.8450\n",
      "Epoch 129/250\n",
      "1/1 [==============================] - 0s 4ms/step - Error: 0.0000e+00 - Temperature: 0.0000e+00 - Hidden weights: 0.8921 - Output weights: 0.8450\n",
      "Epoch 130/250\n",
      "1/1 [==============================] - 0s 3ms/step - Error: 0.0000e+00 - Temperature: 0.0000e+00 - Hidden weights: 0.8921 - Output weights: 0.8450\n",
      "Epoch 131/250\n",
      "1/1 [==============================] - 0s 6ms/step - Error: 0.0000e+00 - Temperature: 0.0000e+00 - Hidden weights: 0.8921 - Output weights: 0.8450\n",
      "Epoch 132/250\n",
      "1/1 [==============================] - 0s 5ms/step - Error: 0.0000e+00 - Temperature: 0.0000e+00 - Hidden weights: 0.8921 - Output weights: 0.8450\n",
      "Epoch 133/250\n",
      "1/1 [==============================] - 0s 13ms/step - Error: 0.0000e+00 - Temperature: 0.0000e+00 - Hidden weights: 0.8921 - Output weights: 0.8450\n",
      "Epoch 134/250\n",
      "1/1 [==============================] - 0s 12ms/step - Error: 0.0000e+00 - Temperature: 0.0000e+00 - Hidden weights: 0.8921 - Output weights: 0.8450\n",
      "Epoch 135/250\n",
      "1/1 [==============================] - 0s 9ms/step - Error: 0.0000e+00 - Temperature: 0.0000e+00 - Hidden weights: 0.8921 - Output weights: 0.8450\n",
      "Epoch 136/250\n",
      "1/1 [==============================] - 0s 10ms/step - Error: 0.0000e+00 - Temperature: 0.0000e+00 - Hidden weights: 0.8921 - Output weights: 0.8450\n",
      "Epoch 137/250\n",
      "1/1 [==============================] - 0s 6ms/step - Error: 0.0000e+00 - Temperature: 0.0000e+00 - Hidden weights: 0.8921 - Output weights: 0.8450\n",
      "Epoch 138/250\n",
      "1/1 [==============================] - 0s 11ms/step - Error: 0.0000e+00 - Temperature: 0.0000e+00 - Hidden weights: 0.8921 - Output weights: 0.8450\n",
      "Epoch 139/250\n",
      "1/1 [==============================] - 0s 7ms/step - Error: 0.0000e+00 - Temperature: 0.0000e+00 - Hidden weights: 0.8921 - Output weights: 0.8450\n",
      "Epoch 140/250\n",
      "1/1 [==============================] - 0s 8ms/step - Error: 0.0000e+00 - Temperature: 0.0000e+00 - Hidden weights: 0.8921 - Output weights: 0.8450\n",
      "Epoch 141/250\n",
      "1/1 [==============================] - 0s 10ms/step - Error: 0.0000e+00 - Temperature: 0.0000e+00 - Hidden weights: 0.8921 - Output weights: 0.8450\n",
      "Epoch 142/250\n",
      "1/1 [==============================] - 0s 7ms/step - Error: 0.0000e+00 - Temperature: 0.0000e+00 - Hidden weights: 0.8921 - Output weights: 0.8450\n",
      "Epoch 143/250\n",
      "1/1 [==============================] - 0s 5ms/step - Error: 0.0000e+00 - Temperature: 0.0000e+00 - Hidden weights: 0.8921 - Output weights: 0.8450\n",
      "Epoch 144/250\n",
      "1/1 [==============================] - 0s 5ms/step - Error: 0.0000e+00 - Temperature: 0.0000e+00 - Hidden weights: 0.8921 - Output weights: 0.8450\n",
      "Epoch 145/250\n",
      "1/1 [==============================] - 0s 6ms/step - Error: 0.0000e+00 - Temperature: 0.0000e+00 - Hidden weights: 0.8921 - Output weights: 0.8450\n",
      "Epoch 146/250\n",
      "1/1 [==============================] - 0s 5ms/step - Error: 0.0000e+00 - Temperature: 0.0000e+00 - Hidden weights: 0.8921 - Output weights: 0.8450\n",
      "Epoch 147/250\n",
      "1/1 [==============================] - 0s 4ms/step - Error: 0.0000e+00 - Temperature: 0.0000e+00 - Hidden weights: 0.8921 - Output weights: 0.8450\n",
      "Epoch 148/250\n",
      "1/1 [==============================] - 0s 7ms/step - Error: 0.0000e+00 - Temperature: 0.0000e+00 - Hidden weights: 0.8921 - Output weights: 0.8450\n",
      "Epoch 149/250\n",
      "1/1 [==============================] - 0s 3ms/step - Error: 0.0000e+00 - Temperature: 0.0000e+00 - Hidden weights: 0.8921 - Output weights: 0.8450\n",
      "Epoch 150/250\n",
      "1/1 [==============================] - 0s 3ms/step - Error: 0.0000e+00 - Temperature: 0.0000e+00 - Hidden weights: 0.8921 - Output weights: 0.8450\n",
      "Epoch 151/250\n",
      "1/1 [==============================] - 0s 8ms/step - Error: 0.0000e+00 - Temperature: 0.0000e+00 - Hidden weights: 0.8921 - Output weights: 0.8450\n",
      "Epoch 152/250\n",
      "1/1 [==============================] - 0s 4ms/step - Error: 0.0000e+00 - Temperature: 0.0000e+00 - Hidden weights: 0.8921 - Output weights: 0.8450\n",
      "Epoch 153/250\n",
      "1/1 [==============================] - 0s 4ms/step - Error: 0.0000e+00 - Temperature: 0.0000e+00 - Hidden weights: 0.8921 - Output weights: 0.8450\n",
      "Epoch 154/250\n",
      "1/1 [==============================] - 0s 5ms/step - Error: 0.0000e+00 - Temperature: 0.0000e+00 - Hidden weights: 0.8921 - Output weights: 0.8450\n",
      "Epoch 155/250\n",
      "1/1 [==============================] - 0s 5ms/step - Error: 0.0000e+00 - Temperature: 0.0000e+00 - Hidden weights: 0.8921 - Output weights: 0.8450\n",
      "Epoch 156/250\n",
      "1/1 [==============================] - 0s 6ms/step - Error: 0.0000e+00 - Temperature: 0.0000e+00 - Hidden weights: 0.8921 - Output weights: 0.8450\n",
      "Epoch 157/250\n",
      "1/1 [==============================] - 0s 11ms/step - Error: 0.0000e+00 - Temperature: 0.0000e+00 - Hidden weights: 0.8921 - Output weights: 0.8450\n",
      "Epoch 158/250\n",
      "1/1 [==============================] - 0s 10ms/step - Error: 0.0000e+00 - Temperature: 0.0000e+00 - Hidden weights: 0.8921 - Output weights: 0.8450\n",
      "Epoch 159/250\n",
      "1/1 [==============================] - 0s 10ms/step - Error: 0.0000e+00 - Temperature: 0.0000e+00 - Hidden weights: 0.8921 - Output weights: 0.8450\n",
      "Epoch 160/250\n",
      "1/1 [==============================] - 0s 8ms/step - Error: 0.0000e+00 - Temperature: 0.0000e+00 - Hidden weights: 0.8921 - Output weights: 0.8450\n",
      "Epoch 161/250\n",
      "1/1 [==============================] - 0s 8ms/step - Error: 0.0000e+00 - Temperature: 0.0000e+00 - Hidden weights: 0.8921 - Output weights: 0.8450\n",
      "Epoch 162/250\n",
      "1/1 [==============================] - 0s 7ms/step - Error: 0.0000e+00 - Temperature: 0.0000e+00 - Hidden weights: 0.8921 - Output weights: 0.8450\n",
      "Epoch 163/250\n",
      "1/1 [==============================] - 0s 9ms/step - Error: 0.0000e+00 - Temperature: 0.0000e+00 - Hidden weights: 0.8921 - Output weights: 0.8450\n",
      "Epoch 164/250\n",
      "1/1 [==============================] - 0s 7ms/step - Error: 0.0000e+00 - Temperature: 0.0000e+00 - Hidden weights: 0.8921 - Output weights: 0.8450\n",
      "Epoch 165/250\n",
      "1/1 [==============================] - 0s 6ms/step - Error: 0.0000e+00 - Temperature: 0.0000e+00 - Hidden weights: 0.8921 - Output weights: 0.8450\n",
      "Epoch 166/250\n",
      "1/1 [==============================] - 0s 6ms/step - Error: 0.0000e+00 - Temperature: 0.0000e+00 - Hidden weights: 0.8921 - Output weights: 0.8450\n",
      "Epoch 167/250\n",
      "1/1 [==============================] - 0s 10ms/step - Error: 0.0000e+00 - Temperature: 0.0000e+00 - Hidden weights: 0.8921 - Output weights: 0.8450\n",
      "Epoch 168/250\n",
      "1/1 [==============================] - 0s 7ms/step - Error: 0.0000e+00 - Temperature: 0.0000e+00 - Hidden weights: 0.8921 - Output weights: 0.8450\n",
      "Epoch 169/250\n",
      "1/1 [==============================] - 0s 9ms/step - Error: 0.0000e+00 - Temperature: 0.0000e+00 - Hidden weights: 0.8921 - Output weights: 0.8450\n",
      "Epoch 170/250\n",
      "1/1 [==============================] - 0s 8ms/step - Error: 0.0000e+00 - Temperature: 0.0000e+00 - Hidden weights: 0.8921 - Output weights: 0.8450\n",
      "Epoch 171/250\n",
      "1/1 [==============================] - 0s 8ms/step - Error: 0.0000e+00 - Temperature: 0.0000e+00 - Hidden weights: 0.8921 - Output weights: 0.8450\n",
      "Epoch 172/250\n",
      "1/1 [==============================] - 0s 8ms/step - Error: 0.0000e+00 - Temperature: 0.0000e+00 - Hidden weights: 0.8921 - Output weights: 0.8450\n",
      "Epoch 173/250\n",
      "1/1 [==============================] - 0s 6ms/step - Error: 0.0000e+00 - Temperature: 0.0000e+00 - Hidden weights: 0.8921 - Output weights: 0.8450\n",
      "Epoch 174/250\n",
      "1/1 [==============================] - 0s 11ms/step - Error: 0.0000e+00 - Temperature: 0.0000e+00 - Hidden weights: 0.8921 - Output weights: 0.8450\n",
      "Epoch 175/250\n",
      "1/1 [==============================] - 0s 7ms/step - Error: 0.0000e+00 - Temperature: 0.0000e+00 - Hidden weights: 0.8921 - Output weights: 0.8450\n",
      "Epoch 176/250\n",
      "1/1 [==============================] - 0s 6ms/step - Error: 0.0000e+00 - Temperature: 0.0000e+00 - Hidden weights: 0.8921 - Output weights: 0.8450\n",
      "Epoch 177/250\n",
      "1/1 [==============================] - 0s 9ms/step - Error: 0.0000e+00 - Temperature: 0.0000e+00 - Hidden weights: 0.8921 - Output weights: 0.8450\n",
      "Epoch 178/250\n",
      "1/1 [==============================] - 0s 12ms/step - Error: 0.0000e+00 - Temperature: 0.0000e+00 - Hidden weights: 0.8921 - Output weights: 0.8450\n",
      "Epoch 179/250\n",
      "1/1 [==============================] - 0s 10ms/step - Error: 0.0000e+00 - Temperature: 0.0000e+00 - Hidden weights: 0.8921 - Output weights: 0.8450\n",
      "Epoch 180/250\n",
      "1/1 [==============================] - 0s 7ms/step - Error: 0.0000e+00 - Temperature: 0.0000e+00 - Hidden weights: 0.8921 - Output weights: 0.8450\n",
      "Epoch 181/250\n",
      "1/1 [==============================] - 0s 4ms/step - Error: 0.0000e+00 - Temperature: 0.0000e+00 - Hidden weights: 0.8921 - Output weights: 0.8450\n",
      "Epoch 182/250\n",
      "1/1 [==============================] - 0s 7ms/step - Error: 0.0000e+00 - Temperature: 0.0000e+00 - Hidden weights: 0.8921 - Output weights: 0.8450\n",
      "Epoch 183/250\n",
      "1/1 [==============================] - 0s 9ms/step - Error: 0.0000e+00 - Temperature: 0.0000e+00 - Hidden weights: 0.8921 - Output weights: 0.8450\n",
      "Epoch 184/250\n",
      "1/1 [==============================] - 0s 4ms/step - Error: 0.0000e+00 - Temperature: 0.0000e+00 - Hidden weights: 0.8921 - Output weights: 0.8450\n",
      "Epoch 185/250\n",
      "1/1 [==============================] - 0s 4ms/step - Error: 0.0000e+00 - Temperature: 0.0000e+00 - Hidden weights: 0.8921 - Output weights: 0.8450\n",
      "Epoch 186/250\n",
      "1/1 [==============================] - 0s 4ms/step - Error: 0.0000e+00 - Temperature: 0.0000e+00 - Hidden weights: 0.8921 - Output weights: 0.8450\n",
      "Epoch 187/250\n",
      "1/1 [==============================] - 0s 3ms/step - Error: 0.0000e+00 - Temperature: 0.0000e+00 - Hidden weights: 0.8921 - Output weights: 0.8450\n",
      "Epoch 188/250\n",
      "1/1 [==============================] - 0s 3ms/step - Error: 0.0000e+00 - Temperature: 0.0000e+00 - Hidden weights: 0.8921 - Output weights: 0.8450\n",
      "Epoch 189/250\n",
      "1/1 [==============================] - 0s 5ms/step - Error: 0.0000e+00 - Temperature: 0.0000e+00 - Hidden weights: 0.8921 - Output weights: 0.8450\n",
      "Epoch 190/250\n",
      "1/1 [==============================] - 0s 7ms/step - Error: 0.0000e+00 - Temperature: 0.0000e+00 - Hidden weights: 0.8921 - Output weights: 0.8450\n",
      "Epoch 191/250\n",
      "1/1 [==============================] - 0s 11ms/step - Error: 0.0000e+00 - Temperature: 0.0000e+00 - Hidden weights: 0.8921 - Output weights: 0.8450\n",
      "Epoch 192/250\n",
      "1/1 [==============================] - 0s 9ms/step - Error: 0.0000e+00 - Temperature: 0.0000e+00 - Hidden weights: 0.8921 - Output weights: 0.8450\n",
      "Epoch 193/250\n",
      "1/1 [==============================] - 0s 6ms/step - Error: 0.0000e+00 - Temperature: 0.0000e+00 - Hidden weights: 0.8921 - Output weights: 0.8450\n",
      "Epoch 194/250\n",
      "1/1 [==============================] - 0s 4ms/step - Error: 0.0000e+00 - Temperature: 0.0000e+00 - Hidden weights: 0.8921 - Output weights: 0.8450\n",
      "Epoch 195/250\n",
      "1/1 [==============================] - 0s 4ms/step - Error: 0.0000e+00 - Temperature: 0.0000e+00 - Hidden weights: 0.8921 - Output weights: 0.8450\n",
      "Epoch 196/250\n",
      "1/1 [==============================] - 0s 4ms/step - Error: 0.0000e+00 - Temperature: 0.0000e+00 - Hidden weights: 0.8921 - Output weights: 0.8450\n",
      "Epoch 197/250\n",
      "1/1 [==============================] - 0s 4ms/step - Error: 0.0000e+00 - Temperature: 0.0000e+00 - Hidden weights: 0.8921 - Output weights: 0.8450\n",
      "Epoch 198/250\n",
      "1/1 [==============================] - 0s 4ms/step - Error: 0.0000e+00 - Temperature: 0.0000e+00 - Hidden weights: 0.8921 - Output weights: 0.8450\n",
      "Epoch 199/250\n",
      "1/1 [==============================] - 0s 3ms/step - Error: 0.0000e+00 - Temperature: 0.0000e+00 - Hidden weights: 0.8921 - Output weights: 0.8450\n",
      "Epoch 200/250\n",
      "1/1 [==============================] - 0s 3ms/step - Error: 0.0000e+00 - Temperature: 0.0000e+00 - Hidden weights: 0.8921 - Output weights: 0.8450\n",
      "Epoch 201/250\n",
      "1/1 [==============================] - 0s 3ms/step - Error: 0.0000e+00 - Temperature: 0.0000e+00 - Hidden weights: 0.8921 - Output weights: 0.8450\n",
      "Epoch 202/250\n",
      "1/1 [==============================] - 0s 3ms/step - Error: 0.0000e+00 - Temperature: 0.0000e+00 - Hidden weights: 0.8921 - Output weights: 0.8450\n",
      "Epoch 203/250\n",
      "1/1 [==============================] - 0s 3ms/step - Error: 0.0000e+00 - Temperature: 0.0000e+00 - Hidden weights: 0.8921 - Output weights: 0.8450\n",
      "Epoch 204/250\n",
      "1/1 [==============================] - 0s 5ms/step - Error: 0.0000e+00 - Temperature: 0.0000e+00 - Hidden weights: 0.8921 - Output weights: 0.8450\n",
      "Epoch 205/250\n",
      "1/1 [==============================] - 0s 9ms/step - Error: 0.0000e+00 - Temperature: 0.0000e+00 - Hidden weights: 0.8921 - Output weights: 0.8450\n",
      "Epoch 206/250\n",
      "1/1 [==============================] - 0s 9ms/step - Error: 0.0000e+00 - Temperature: 0.0000e+00 - Hidden weights: 0.8921 - Output weights: 0.8450\n",
      "Epoch 207/250\n",
      "1/1 [==============================] - 0s 6ms/step - Error: 0.0000e+00 - Temperature: 0.0000e+00 - Hidden weights: 0.8921 - Output weights: 0.8450\n",
      "Epoch 208/250\n",
      "1/1 [==============================] - 0s 4ms/step - Error: 0.0000e+00 - Temperature: 0.0000e+00 - Hidden weights: 0.8921 - Output weights: 0.8450\n",
      "Epoch 209/250\n",
      "1/1 [==============================] - 0s 6ms/step - Error: 0.0000e+00 - Temperature: 0.0000e+00 - Hidden weights: 0.8921 - Output weights: 0.8450\n",
      "Epoch 210/250\n",
      "1/1 [==============================] - 0s 5ms/step - Error: 0.0000e+00 - Temperature: 0.0000e+00 - Hidden weights: 0.8921 - Output weights: 0.8450\n",
      "Epoch 211/250\n",
      "1/1 [==============================] - 0s 3ms/step - Error: 0.0000e+00 - Temperature: 0.0000e+00 - Hidden weights: 0.8921 - Output weights: 0.8450\n",
      "Epoch 212/250\n",
      "1/1 [==============================] - 0s 6ms/step - Error: 0.0000e+00 - Temperature: 0.0000e+00 - Hidden weights: 0.8921 - Output weights: 0.8450\n",
      "Epoch 213/250\n",
      "1/1 [==============================] - 0s 8ms/step - Error: 0.0000e+00 - Temperature: 0.0000e+00 - Hidden weights: 0.8921 - Output weights: 0.8450\n",
      "Epoch 214/250\n",
      "1/1 [==============================] - 0s 9ms/step - Error: 0.0000e+00 - Temperature: 0.0000e+00 - Hidden weights: 0.8921 - Output weights: 0.8450\n",
      "Epoch 215/250\n",
      "1/1 [==============================] - 0s 4ms/step - Error: 0.0000e+00 - Temperature: 0.0000e+00 - Hidden weights: 0.8921 - Output weights: 0.8450\n",
      "Epoch 216/250\n",
      "1/1 [==============================] - 0s 3ms/step - Error: 0.0000e+00 - Temperature: 0.0000e+00 - Hidden weights: 0.8921 - Output weights: 0.8450\n",
      "Epoch 217/250\n",
      "1/1 [==============================] - 0s 3ms/step - Error: 0.0000e+00 - Temperature: 0.0000e+00 - Hidden weights: 0.8921 - Output weights: 0.8450\n",
      "Epoch 218/250\n",
      "1/1 [==============================] - 0s 3ms/step - Error: 0.0000e+00 - Temperature: 0.0000e+00 - Hidden weights: 0.8921 - Output weights: 0.8450\n",
      "Epoch 219/250\n",
      "1/1 [==============================] - 0s 2ms/step - Error: 0.0000e+00 - Temperature: 0.0000e+00 - Hidden weights: 0.8921 - Output weights: 0.8450\n",
      "Epoch 220/250\n",
      "1/1 [==============================] - 0s 3ms/step - Error: 0.0000e+00 - Temperature: 0.0000e+00 - Hidden weights: 0.8921 - Output weights: 0.8450\n",
      "Epoch 221/250\n",
      "1/1 [==============================] - 0s 5ms/step - Error: 0.0000e+00 - Temperature: 0.0000e+00 - Hidden weights: 0.8921 - Output weights: 0.8450\n",
      "Epoch 222/250\n",
      "1/1 [==============================] - 0s 4ms/step - Error: 0.0000e+00 - Temperature: 0.0000e+00 - Hidden weights: 0.8921 - Output weights: 0.8450\n",
      "Epoch 223/250\n",
      "1/1 [==============================] - 0s 3ms/step - Error: 0.0000e+00 - Temperature: 0.0000e+00 - Hidden weights: 0.8921 - Output weights: 0.8450\n",
      "Epoch 224/250\n",
      "1/1 [==============================] - 0s 2ms/step - Error: 0.0000e+00 - Temperature: 0.0000e+00 - Hidden weights: 0.8921 - Output weights: 0.8450\n",
      "Epoch 225/250\n",
      "1/1 [==============================] - 0s 9ms/step - Error: 0.0000e+00 - Temperature: 0.0000e+00 - Hidden weights: 0.8921 - Output weights: 0.8450\n",
      "Epoch 226/250\n",
      "1/1 [==============================] - 0s 4ms/step - Error: 0.0000e+00 - Temperature: 0.0000e+00 - Hidden weights: 0.8921 - Output weights: 0.8450\n",
      "Epoch 227/250\n",
      "1/1 [==============================] - 0s 6ms/step - Error: 0.0000e+00 - Temperature: 0.0000e+00 - Hidden weights: 0.8921 - Output weights: 0.8450\n",
      "Epoch 228/250\n",
      "1/1 [==============================] - 0s 4ms/step - Error: 0.0000e+00 - Temperature: 0.0000e+00 - Hidden weights: 0.8921 - Output weights: 0.8450\n",
      "Epoch 229/250\n",
      "1/1 [==============================] - 0s 3ms/step - Error: 0.0000e+00 - Temperature: 0.0000e+00 - Hidden weights: 0.8921 - Output weights: 0.8450\n",
      "Epoch 230/250\n",
      "1/1 [==============================] - 0s 2ms/step - Error: 0.0000e+00 - Temperature: 0.0000e+00 - Hidden weights: 0.8921 - Output weights: 0.8450\n",
      "Epoch 231/250\n",
      "1/1 [==============================] - 0s 3ms/step - Error: 0.0000e+00 - Temperature: 0.0000e+00 - Hidden weights: 0.8921 - Output weights: 0.8450\n",
      "Epoch 232/250\n",
      "1/1 [==============================] - 0s 2ms/step - Error: 0.0000e+00 - Temperature: 0.0000e+00 - Hidden weights: 0.8921 - Output weights: 0.8450\n",
      "Epoch 233/250\n",
      "1/1 [==============================] - 0s 2ms/step - Error: 0.0000e+00 - Temperature: 0.0000e+00 - Hidden weights: 0.8921 - Output weights: 0.8450\n",
      "Epoch 234/250\n",
      "1/1 [==============================] - 0s 2ms/step - Error: 0.0000e+00 - Temperature: 0.0000e+00 - Hidden weights: 0.8921 - Output weights: 0.8450\n",
      "Epoch 235/250\n",
      "1/1 [==============================] - 0s 3ms/step - Error: 0.0000e+00 - Temperature: 0.0000e+00 - Hidden weights: 0.8921 - Output weights: 0.8450\n",
      "Epoch 236/250\n",
      "1/1 [==============================] - 0s 3ms/step - Error: 0.0000e+00 - Temperature: 0.0000e+00 - Hidden weights: 0.8921 - Output weights: 0.8450\n",
      "Epoch 237/250\n",
      "1/1 [==============================] - 0s 2ms/step - Error: 0.0000e+00 - Temperature: 0.0000e+00 - Hidden weights: 0.8921 - Output weights: 0.8450\n",
      "Epoch 238/250\n",
      "1/1 [==============================] - 0s 2ms/step - Error: 0.0000e+00 - Temperature: 0.0000e+00 - Hidden weights: 0.8921 - Output weights: 0.8450\n",
      "Epoch 239/250\n",
      "1/1 [==============================] - 0s 2ms/step - Error: 0.0000e+00 - Temperature: 0.0000e+00 - Hidden weights: 0.8921 - Output weights: 0.8450\n",
      "Epoch 240/250\n",
      "1/1 [==============================] - 0s 2ms/step - Error: 0.0000e+00 - Temperature: 0.0000e+00 - Hidden weights: 0.8921 - Output weights: 0.8450\n",
      "Epoch 241/250\n",
      "1/1 [==============================] - 0s 2ms/step - Error: 0.0000e+00 - Temperature: 0.0000e+00 - Hidden weights: 0.8921 - Output weights: 0.8450\n",
      "Epoch 242/250\n",
      "1/1 [==============================] - 0s 2ms/step - Error: 0.0000e+00 - Temperature: 0.0000e+00 - Hidden weights: 0.8921 - Output weights: 0.8450\n",
      "Epoch 243/250\n",
      "1/1 [==============================] - 0s 3ms/step - Error: 0.0000e+00 - Temperature: 0.0000e+00 - Hidden weights: 0.8921 - Output weights: 0.8450\n",
      "Epoch 244/250\n",
      "1/1 [==============================] - 0s 2ms/step - Error: 0.0000e+00 - Temperature: 0.0000e+00 - Hidden weights: 0.8921 - Output weights: 0.8450\n",
      "Epoch 245/250\n",
      "1/1 [==============================] - 0s 2ms/step - Error: 0.0000e+00 - Temperature: 0.0000e+00 - Hidden weights: 0.8921 - Output weights: 0.8450\n",
      "Epoch 246/250\n",
      "1/1 [==============================] - 0s 2ms/step - Error: 0.0000e+00 - Temperature: 0.0000e+00 - Hidden weights: 0.8921 - Output weights: 0.8450\n",
      "Epoch 247/250\n",
      "1/1 [==============================] - 0s 5ms/step - Error: 0.0000e+00 - Temperature: 0.0000e+00 - Hidden weights: 0.8921 - Output weights: 0.8450\n",
      "Epoch 248/250\n",
      "1/1 [==============================] - 0s 9ms/step - Error: 0.0000e+00 - Temperature: 0.0000e+00 - Hidden weights: 0.8921 - Output weights: 0.8450\n",
      "Epoch 249/250\n",
      "1/1 [==============================] - 0s 4ms/step - Error: 0.0000e+00 - Temperature: 0.0000e+00 - Hidden weights: 0.8921 - Output weights: 0.8450\n",
      "Epoch 250/250\n",
      "1/1 [==============================] - 0s 6ms/step - Error: 0.0000e+00 - Temperature: 0.0000e+00 - Hidden weights: 0.8921 - Output weights: 0.8450\n"
     ]
    }
   ],
   "source": [
    "model.compile()\n",
    "model_history = model.fit(x = input, epochs=250)"
   ]
  },
  {
   "cell_type": "code",
   "execution_count": 444,
   "metadata": {},
   "outputs": [
    {
     "data": {
      "text/html": [
       "<div>\n",
       "<style scoped>\n",
       "    .dataframe tbody tr th:only-of-type {\n",
       "        vertical-align: middle;\n",
       "    }\n",
       "\n",
       "    .dataframe tbody tr th {\n",
       "        vertical-align: top;\n",
       "    }\n",
       "\n",
       "    .dataframe thead th {\n",
       "        text-align: right;\n",
       "    }\n",
       "</style>\n",
       "<table border=\"1\" class=\"dataframe\">\n",
       "  <thead>\n",
       "    <tr style=\"text-align: right;\">\n",
       "      <th></th>\n",
       "      <th>Error</th>\n",
       "      <th>Temperature</th>\n",
       "      <th>Hidden weights</th>\n",
       "      <th>Output weights</th>\n",
       "    </tr>\n",
       "  </thead>\n",
       "  <tbody>\n",
       "    <tr>\n",
       "      <th>0</th>\n",
       "      <td>1.676263</td>\n",
       "      <td>0.626345</td>\n",
       "      <td>[[0.54139197, 0.50736964, 0.6850412, 0.5554788...</td>\n",
       "      <td>[[0.6384454, 0.6380777, 0.6253419, 0.639119, 0...</td>\n",
       "    </tr>\n",
       "    <tr>\n",
       "      <th>1</th>\n",
       "      <td>1.354224</td>\n",
       "      <td>0.575232</td>\n",
       "      <td>[[0.5427332, 0.5432738, 0.7089122, 0.5554788, ...</td>\n",
       "      <td>[[0.6679736, 0.6520191, 0.6390816, 0.671726, 0...</td>\n",
       "    </tr>\n",
       "    <tr>\n",
       "      <th>2</th>\n",
       "      <td>1.167516</td>\n",
       "      <td>0.538642</td>\n",
       "      <td>[[0.56460017, 0.5525224, 0.7285968, 0.5562979,...</td>\n",
       "      <td>[[0.6858065, 0.6594693, 0.6454308, 0.69000375,...</td>\n",
       "    </tr>\n",
       "    <tr>\n",
       "      <th>3</th>\n",
       "      <td>1.247665</td>\n",
       "      <td>0.555094</td>\n",
       "      <td>[[0.56514615, 0.5525224, 0.75588423, 0.5651958...</td>\n",
       "      <td>[[0.6999379, 0.6688414, 0.65023154, 0.70295054...</td>\n",
       "    </tr>\n",
       "    <tr>\n",
       "      <th>4</th>\n",
       "      <td>1.415956</td>\n",
       "      <td>0.586085</td>\n",
       "      <td>[[0.5807846, 0.55371934, 0.7656028, 0.57091486...</td>\n",
       "      <td>[[0.7060491, 0.6761288, 0.6557904, 0.7080291, ...</td>\n",
       "    </tr>\n",
       "    <tr>\n",
       "      <th>...</th>\n",
       "      <td>...</td>\n",
       "      <td>...</td>\n",
       "      <td>...</td>\n",
       "      <td>...</td>\n",
       "    </tr>\n",
       "    <tr>\n",
       "      <th>245</th>\n",
       "      <td>0.000000</td>\n",
       "      <td>0.000000</td>\n",
       "      <td>[[0.8723535, 0.79739237, 1.0082113, 0.8384563,...</td>\n",
       "      <td>[[0.87876856, 0.840277, 0.8351646, 0.86416227,...</td>\n",
       "    </tr>\n",
       "    <tr>\n",
       "      <th>246</th>\n",
       "      <td>0.000000</td>\n",
       "      <td>0.000000</td>\n",
       "      <td>[[0.8723535, 0.79739237, 1.0082113, 0.8384563,...</td>\n",
       "      <td>[[0.87876856, 0.840277, 0.8351646, 0.86416227,...</td>\n",
       "    </tr>\n",
       "    <tr>\n",
       "      <th>247</th>\n",
       "      <td>0.000000</td>\n",
       "      <td>0.000000</td>\n",
       "      <td>[[0.8723535, 0.79739237, 1.0082113, 0.8384563,...</td>\n",
       "      <td>[[0.87876856, 0.840277, 0.8351646, 0.86416227,...</td>\n",
       "    </tr>\n",
       "    <tr>\n",
       "      <th>248</th>\n",
       "      <td>0.000000</td>\n",
       "      <td>0.000000</td>\n",
       "      <td>[[0.8723535, 0.79739237, 1.0082113, 0.8384563,...</td>\n",
       "      <td>[[0.87876856, 0.840277, 0.8351646, 0.86416227,...</td>\n",
       "    </tr>\n",
       "    <tr>\n",
       "      <th>249</th>\n",
       "      <td>0.000000</td>\n",
       "      <td>0.000000</td>\n",
       "      <td>[[0.8723535, 0.79739237, 1.0082113, 0.8384563,...</td>\n",
       "      <td>[[0.87876856, 0.840277, 0.8351646, 0.86416227,...</td>\n",
       "    </tr>\n",
       "  </tbody>\n",
       "</table>\n",
       "<p>250 rows × 4 columns</p>\n",
       "</div>"
      ],
      "text/plain": [
       "        Error  Temperature                                     Hidden weights  \\\n",
       "0    1.676263     0.626345  [[0.54139197, 0.50736964, 0.6850412, 0.5554788...   \n",
       "1    1.354224     0.575232  [[0.5427332, 0.5432738, 0.7089122, 0.5554788, ...   \n",
       "2    1.167516     0.538642  [[0.56460017, 0.5525224, 0.7285968, 0.5562979,...   \n",
       "3    1.247665     0.555094  [[0.56514615, 0.5525224, 0.75588423, 0.5651958...   \n",
       "4    1.415956     0.586085  [[0.5807846, 0.55371934, 0.7656028, 0.57091486...   \n",
       "..        ...          ...                                                ...   \n",
       "245  0.000000     0.000000  [[0.8723535, 0.79739237, 1.0082113, 0.8384563,...   \n",
       "246  0.000000     0.000000  [[0.8723535, 0.79739237, 1.0082113, 0.8384563,...   \n",
       "247  0.000000     0.000000  [[0.8723535, 0.79739237, 1.0082113, 0.8384563,...   \n",
       "248  0.000000     0.000000  [[0.8723535, 0.79739237, 1.0082113, 0.8384563,...   \n",
       "249  0.000000     0.000000  [[0.8723535, 0.79739237, 1.0082113, 0.8384563,...   \n",
       "\n",
       "                                        Output weights  \n",
       "0    [[0.6384454, 0.6380777, 0.6253419, 0.639119, 0...  \n",
       "1    [[0.6679736, 0.6520191, 0.6390816, 0.671726, 0...  \n",
       "2    [[0.6858065, 0.6594693, 0.6454308, 0.69000375,...  \n",
       "3    [[0.6999379, 0.6688414, 0.65023154, 0.70295054...  \n",
       "4    [[0.7060491, 0.6761288, 0.6557904, 0.7080291, ...  \n",
       "..                                                 ...  \n",
       "245  [[0.87876856, 0.840277, 0.8351646, 0.86416227,...  \n",
       "246  [[0.87876856, 0.840277, 0.8351646, 0.86416227,...  \n",
       "247  [[0.87876856, 0.840277, 0.8351646, 0.86416227,...  \n",
       "248  [[0.87876856, 0.840277, 0.8351646, 0.86416227,...  \n",
       "249  [[0.87876856, 0.840277, 0.8351646, 0.86416227,...  \n",
       "\n",
       "[250 rows x 4 columns]"
      ]
     },
     "execution_count": 444,
     "metadata": {},
     "output_type": "execute_result"
    }
   ],
   "source": [
    "df_model_history = pd.DataFrame(model_history.history)\n",
    "df_model_history"
   ]
  },
  {
   "cell_type": "code",
   "execution_count": 445,
   "metadata": {},
   "outputs": [
    {
     "data": {
      "text/plain": [
       "<AxesSubplot:>"
      ]
     },
     "execution_count": 445,
     "metadata": {},
     "output_type": "execute_result"
    },
    {
     "data": {
      "image/png": "[encoded data removed]",
      "text/plain": [
       "<Figure size 1728x576 with 1 Axes>"
      ]
     },
     "metadata": {},
     "output_type": "display_data"
    }
   ],
   "source": [
    "df_model_history[[\"Temperature\"]].plot(figsize=(24,8))"
   ]
  },
  {
   "cell_type": "code",
   "execution_count": 446,
   "metadata": {},
   "outputs": [
    {
     "data": {
      "text/plain": [
       "<AxesSubplot:>"
      ]
     },
     "execution_count": 446,
     "metadata": {},
     "output_type": "execute_result"
    },
    {
     "data": {
      "image/png": "[encoded data removed]",
      "text/plain": [
       "<Figure size 1728x576 with 1 Axes>"
      ]
     },
     "metadata": {},
     "output_type": "display_data"
    }
   ],
   "source": [
    "df_model_history[[\"Error\"]].plot(figsize=(24,8))"
   ]
  },
  {
   "cell_type": "code",
   "execution_count": 450,
   "metadata": {},
   "outputs": [
    {
     "data": {
      "text/plain": [
       "array([0.8723535 , 0.79739237, 1.0082113 , 0.8384563 , 0.96061045,\n",
       "       0.84104544, 0.80876297, 0.8147218 , 1.0411967 , 1.0325518 ,\n",
       "       0.8804712 , 1.0334905 , 0.8684297 , 1.0359899 ], dtype=float32)"
      ]
     },
     "execution_count": 450,
     "metadata": {},
     "output_type": "execute_result"
    }
   ],
   "source": [
    "model.get_weights()[1][0]"
   ]
  },
  {
   "cell_type": "code",
   "execution_count": 451,
   "metadata": {},
   "outputs": [
    {
     "data": {
      "text/plain": [
       "array([0.85636514, 0.9530692 , 0.9347307 , 0.8806854 , 0.8609639 ,\n",
       "       0.9698782 , 0.803312  , 0.8450122 , 0.8085204 , 0.8282898 ,\n",
       "       0.80593926, 0.8759128 , 0.8575403 , 0.86503506], dtype=float32)"
      ]
     },
     "execution_count": 451,
     "metadata": {},
     "output_type": "execute_result"
    }
   ],
   "source": [
    "model.get_weights()[1][1]"
   ]
  },
  {
   "cell_type": "code",
   "execution_count": 452,
   "metadata": {},
   "outputs": [
    {
     "data": {
      "text/plain": [
       "array([0.01598835, 0.15567684, 0.07348055, 0.04222912, 0.09964657,\n",
       "       0.12883276, 0.00545096, 0.03029037, 0.23267633, 0.20426196,\n",
       "       0.07453197, 0.15757775, 0.01088941, 0.17095482], dtype=float32)"
      ]
     },
     "execution_count": 452,
     "metadata": {},
     "output_type": "execute_result"
    }
   ],
   "source": [
    "abs(model.get_weights()[1][0] - model.get_weights()[1][1])"
   ]
  },
  {
   "cell_type": "code",
   "execution_count": 453,
   "metadata": {},
   "outputs": [],
   "source": [
    "#fig = px.line(pd.DataFrame(model_history.history))\n",
    "#fig.update_layout(title=\"Monitored variables\",\n",
    "#                   xaxis_title='Epoch',\n",
    "#                   yaxis_title='',\n",
    "#                   hovermode='x unified')\n",
    "#fig.show()"
   ]
  },
  {
   "cell_type": "markdown",
   "metadata": {},
   "source": [
    "---"
   ]
  }
 ],
 "metadata": {
  "kernelspec": {
   "display_name": "Python 3.8.10 64-bit",
   "language": "python",
   "name": "python3"
  },
  "language_info": {
   "codemirror_mode": {
    "name": "ipython",
    "version": 3
   },
   "file_extension": ".py",
   "mimetype": "text/x-python",
   "name": "python",
   "nbconvert_exporter": "python",
   "pygments_lexer": "ipython3",
   "version": "3.8.10"
  },
  "orig_nbformat": 4,
  "vscode": {
   "interpreter": {
    "hash": "916dbcbb3f70747c44a77c7bcd40155683ae19c65e1c03b4aa3499c5328201f1"
   }
  }
 },
 "nbformat": 4,
 "nbformat_minor": 2
}
