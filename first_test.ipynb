{
 "cells": [
  {
   "cell_type": "code",
   "execution_count": 1,
   "metadata": {},
   "outputs": [],
   "source": [
    "import tensorflow as tf\n",
    "from tensorflow import keras\n",
    "from tensorflow.keras import layers\n",
    "import numpy as np"
   ]
  },
  {
   "cell_type": "markdown",
   "metadata": {},
   "source": [
    "# Custom neurons"
   ]
  },
  {
   "cell_type": "code",
   "execution_count": 23,
   "metadata": {},
   "outputs": [],
   "source": [
    "class Neuron(tf.keras.layers.Layer):\n",
    "  def __init__(self, name):\n",
    "    super(Neuron, self).__init__(name=name)\n",
    "    self.num_outputs = 1\n",
    "    self.deltaU = 0\n",
    "    self.local_error = 0\n",
    "    #self.w = tf.random_normal_initializer()\n",
    "    self.b = 0.1 ### DEFINE\n",
    "    self.u = 0\n",
    "    \n",
    "\n",
    "  def build(self, input_shape):\n",
    "    self.w = self.add_weight(\"kernel\",shape=[int(input_shape[-1]),self.num_outputs])\n",
    "    \n",
    "\n",
    "  def call(self, inputs, temperature):\n",
    "    net = tf.matmul(inputs, self.w)\n",
    "    self.u = 1/(1 + tf.exp((net + self.b)/temperature))\n",
    "    \n",
    "    return self.u"
   ]
  },
  {
   "cell_type": "code",
   "execution_count": 12,
   "metadata": {},
   "outputs": [
    {
     "data": {
      "text/plain": [
       "<__main__.Neuron at 0x7f85e471c100>"
      ]
     },
     "execution_count": 12,
     "metadata": {},
     "output_type": "execute_result"
    }
   ],
   "source": [
    "neuron = Neuron(\"test_neuron\")\n",
    "neuron"
   ]
  },
  {
   "cell_type": "code",
   "execution_count": 16,
   "metadata": {},
   "outputs": [
    {
     "data": {
      "text/plain": [
       "'test_neuron'"
      ]
     },
     "execution_count": 16,
     "metadata": {},
     "output_type": "execute_result"
    }
   ],
   "source": [
    "neuron.name"
   ]
  },
  {
   "cell_type": "code",
   "execution_count": 15,
   "metadata": {},
   "outputs": [
    {
     "data": {
      "text/plain": [
       "<tf.Tensor: shape=(1, 2), dtype=float32, numpy=array([[1., 1.]], dtype=float32)>"
      ]
     },
     "execution_count": 15,
     "metadata": {},
     "output_type": "execute_result"
    }
   ],
   "source": [
    "tf.ones([1,2])"
   ]
  },
  {
   "cell_type": "code",
   "execution_count": 13,
   "metadata": {},
   "outputs": [
    {
     "data": {
      "text/plain": [
       "<tf.Tensor: shape=(1, 1), dtype=float32, numpy=array([[0.2417444]], dtype=float32)>"
      ]
     },
     "execution_count": 13,
     "metadata": {},
     "output_type": "execute_result"
    }
   ],
   "source": [
    "test = neuron(tf.ones([1,2]))\n",
    "test"
   ]
  },
  {
   "cell_type": "code",
   "execution_count": 14,
   "metadata": {},
   "outputs": [
    {
     "data": {
      "text/plain": [
       "<tf.Variable 'test_neuron/kernel:0' shape=(2, 1) dtype=float32, numpy=\n",
       "array([[0.8950521],\n",
       "       [0.1480875]], dtype=float32)>"
      ]
     },
     "execution_count": 14,
     "metadata": {},
     "output_type": "execute_result"
    }
   ],
   "source": [
    "neuron.w"
   ]
  },
  {
   "cell_type": "markdown",
   "metadata": {},
   "source": [
    "---"
   ]
  },
  {
   "cell_type": "markdown",
   "metadata": {},
   "source": [
    "# CUSTOM MODEL"
   ]
  },
  {
   "cell_type": "code",
   "execution_count": 34,
   "metadata": {},
   "outputs": [],
   "source": [
    "class SelfReflexiveNetwork(tf.keras.Model):\n",
    "  def __init__(self):\n",
    "    super(SelfReflexiveNetwork, self).__init__(name='SelfReflexiveNetwork')\n",
    "    self.hidden_neuron = Neuron(\"Hidden\")\n",
    "    self.output_neuron = Neuron(\"Output\")\n",
    "    self.r = 0.005\n",
    "  def call(self, input):\n",
    "    # foward pass\n",
    "    hidden_layer_out = self.hidden_neuron(input,temperature = 1)\n",
    "    output_layer_out = self.output_neuron(hidden_layer_out,temperature = 1)\n",
    "    return output_layer_out\n",
    "  \n",
    "  def train_step(self, data):\n",
    "    ### FOWARD PASS\n",
    "\n",
    "    ### BACK PROPAGATION\n",
    "\n",
    "    # Compute error\n",
    "\n",
    "    # Update weights\n",
    "\n",
    "    # Compute metrics\n",
    "    pass"
   ]
  },
  {
   "cell_type": "code",
   "execution_count": 35,
   "metadata": {},
   "outputs": [],
   "source": [
    "# Construct an instance of CustomModel\n",
    "input = tf.ones([1,1])\n",
    "model = SelfReflexiveNetwork()"
   ]
  },
  {
   "cell_type": "code",
   "execution_count": 36,
   "metadata": {},
   "outputs": [
    {
     "data": {
      "text/plain": [
       "<tf.Tensor: shape=(1, 1), dtype=float32, numpy=array([[0.52939236]], dtype=float32)>"
      ]
     },
     "execution_count": 36,
     "metadata": {},
     "output_type": "execute_result"
    }
   ],
   "source": [
    "model.call(input)"
   ]
  },
  {
   "cell_type": "code",
   "execution_count": null,
   "metadata": {},
   "outputs": [],
   "source": []
  },
  {
   "cell_type": "code",
   "execution_count": null,
   "metadata": {},
   "outputs": [],
   "source": []
  },
  {
   "cell_type": "code",
   "execution_count": null,
   "metadata": {},
   "outputs": [],
   "source": []
  },
  {
   "cell_type": "markdown",
   "metadata": {},
   "source": [
    "---"
   ]
  }
 ],
 "metadata": {
  "kernelspec": {
   "display_name": "Python 3.8.10 64-bit",
   "language": "python",
   "name": "python3"
  },
  "language_info": {
   "codemirror_mode": {
    "name": "ipython",
    "version": 3
   },
   "file_extension": ".py",
   "mimetype": "text/x-python",
   "name": "python",
   "nbconvert_exporter": "python",
   "pygments_lexer": "ipython3",
   "version": "3.8.10"
  },
  "orig_nbformat": 4,
  "vscode": {
   "interpreter": {
    "hash": "916dbcbb3f70747c44a77c7bcd40155683ae19c65e1c03b4aa3499c5328201f1"
   }
  }
 },
 "nbformat": 4,
 "nbformat_minor": 2
}
