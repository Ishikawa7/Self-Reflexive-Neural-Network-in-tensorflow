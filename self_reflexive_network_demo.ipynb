{
 "cells": [
  {
   "cell_type": "code",
   "execution_count": 1,
   "metadata": {},
   "outputs": [],
   "source": [
    "import tensorflow as tf\n",
    "from tensorflow import keras\n",
    "from tensorflow.keras import layers\n",
    "import numpy as np\n",
    "import pandas as pd"
   ]
  },
  {
   "cell_type": "code",
   "execution_count": 2,
   "metadata": {},
   "outputs": [],
   "source": [
    "import matplotlib.pyplot as plt\n",
    "import seaborn as sns\n",
    "import plotly.express as px\n",
    "import plotly.graph_objects as go\n",
    "sns.set()"
   ]
  },
  {
   "cell_type": "markdown",
   "metadata": {},
   "source": [
    "# CUSTOM LAYERS"
   ]
  },
  {
   "cell_type": "code",
   "execution_count": 3,
   "metadata": {},
   "outputs": [],
   "source": [
    "class InputLayer(tf.keras.layers.Layer):\n",
    "  def __init__(self, name):\n",
    "    super(InputLayer, self).__init__(name=name)\n",
    "    self.a = tf.Variable(initial_value=tf.zeros(shape=[2,14]), trainable=False, name= self.name + \"_activation\")\n",
    "    \n",
    "  def call(self, inputs):\n",
    "    a1a1 = tf.reshape(inputs[0],shape=(1,1))   #1\n",
    "    a1a2 = tf.reshape(inputs[1],shape=(1,1))   #2 \n",
    "    a1a2a2 = tf.reshape(inputs[2],shape=(1,1)) #3\n",
    "    a1a2a1 = tf.reshape(inputs[3],shape=(1,1)) #4\n",
    "    a2a2 = tf.reshape(inputs[4],shape=(1,1))   #5\n",
    "    a2a1 = tf.reshape(inputs[5],shape=(1,1))   #6\n",
    "    a2a1a1 = tf.reshape(inputs[6],shape=(1,1)) #7\n",
    "    a2a1a2 = tf.reshape(inputs[7],shape=(1,1)) #8\n",
    "\n",
    "    to_hidden = []\n",
    "    to_hidden.append((tf.concat([a1a2a2, a2a2], axis = 1)))   #[\"TrRi\"] [3,5]\n",
    "    to_hidden.append((tf.concat([a1a2a1, a2a1], axis = 1)))   #[\"RiTr\"] [4,6] \n",
    "    to_hidden.append((tf.concat([a1a1, a2a1], axis = 1)))     #[\"Plu\"]  [1,6] \n",
    "    to_hidden.append((tf.concat([a1a2, a1a2a2], axis = 1)))   #[\"TTra\"] [2,3] \n",
    "    to_hidden.append((tf.concat([a2a1, a2a1a1], axis = 1)))   #[\"TTrb\"] [6,7] \n",
    "    to_hidden.append((tf.concat([a1a2, a2a1], axis = 1)))     #[\"Tr\"]   [2,6]\n",
    "    to_hidden.append((tf.concat([a1a2a1, a2a1a2], axis = 1))) #[\"MeTr\"] [4,8] \n",
    "    to_hidden.append((tf.concat([a1a2a1, a1a2], axis = 1)))   #[\"MoTr\"] [4,2] \n",
    "    to_hidden.append((tf.concat([a1a1, a1a2a1], axis = 1)))   #[\"RiRi\"] [1,4] \n",
    "    to_hidden.append((tf.concat([a1a1, a1a2], axis = 1)))     #[\"MoFo\"] [1,2] \n",
    "    to_hidden.append((tf.concat([a1a2a2, a1a2a1], axis = 1))) #[\"MMof\"] [3,4] \n",
    "    to_hidden.append((tf.concat([a1a1, a1a2a2], axis = 1)))   #[\"MoRi\"] [1,3] \n",
    "    to_hidden.append((tf.concat([a1a2a2, a2a1a1], axis = 1))) #[\"MeRi\"] [3,7] \n",
    "    to_hidden.append((tf.concat([a1a1, a2a2], axis = 1)))     #[\"Ri\"]   [1,5] \n",
    "\n",
    "    output = tf.concat(to_hidden,axis = 0)\n",
    "    output = tf.transpose(output)\n",
    "    self.a.assign(output)\n",
    "    return self.a.value()"
   ]
  },
  {
   "cell_type": "code",
   "execution_count": 4,
   "metadata": {},
   "outputs": [],
   "source": [
    "class HiddenLayer(tf.keras.layers.Layer):\n",
    "  def __init__(self, name, weights_init_val, bias_init_val):\n",
    "    super(HiddenLayer, self).__init__(name = name)\n",
    "    self.units = 14\n",
    "    self.weights_init_val = weights_init_val\n",
    "    self.bias_init_val = bias_init_val\n",
    "\n",
    "  def build(self, input_shape):\n",
    "    shape = [int(input_shape[0]), self.units]\n",
    "    self.w = self.add_weight(initializer = tf.initializers.Constant(self.weights_init_val) ,\n",
    "                              shape= shape,\n",
    "                              name = self.name + \"_weights\")\n",
    "    self.b = self.add_weight(initializer = tf.initializers.Constant(self.bias_init_val) ,\n",
    "                              shape= [1, self.units],\n",
    "                              name = self.name + \"_biases\")\n",
    "\n",
    "    self.deltaA = tf.Variable(initial_value=tf.zeros(shape = [1, self.units]),trainable=False, name= self.name + \"_adjustements\")\n",
    "    self.a = tf.Variable(initial_value=tf.zeros(shape = [1, self.units]),trainable=False, name= self.name + \"_activation\")\n",
    "\n",
    "  def call(self, inputs, temperature):\n",
    "     # i pesi dei neuroni sono considerati in colonna\n",
    "    net = tf.math.reduce_sum(inputs * self.w, axis=0) \n",
    "    self.a.assign( 1/( 1 + tf.exp( -( (net + self.b)/temperature)) ) )\n",
    "    return self.a.value()\n"
   ]
  },
  {
   "cell_type": "code",
   "execution_count": 5,
   "metadata": {},
   "outputs": [],
   "source": [
    "class OutputLayer(tf.keras.layers.Layer):\n",
    "  def __init__(self, name, weights_init_val, bias_init_val):\n",
    "    super(OutputLayer, self).__init__(name = name)\n",
    "    self.units = 14\n",
    "    self.weights_init_val = weights_init_val\n",
    "    self.bias_init_val = bias_init_val\n",
    "\n",
    "  def build(self, input_shape):\n",
    "    shape = [int(input_shape[-1]), self.units]\n",
    "    self.w = self.add_weight(initializer = tf.initializers.Constant(self.weights_init_val) ,\n",
    "                              shape= shape,\n",
    "                              name = self.name + \"_weights\")\n",
    "    self.b = self.add_weight(initializer = tf.initializers.Constant(self.bias_init_val) ,\n",
    "                              shape= [1, self.units],\n",
    "                              name = self.name + \"_biases\")\n",
    "\n",
    "    self.deltaA = tf.Variable(initial_value=tf.zeros(shape = [1, self.units]),trainable=False, name= self.name + \"_adjustements\")\n",
    "    self.a = tf.Variable(initial_value=tf.zeros(shape = [1, self.units]),trainable=False, name= self.name + \"_activation\")\n",
    "\n",
    "  def call(self, inputs, temperature):\n",
    "     # i pesi dei neuroni sono considerati in colonna\n",
    "     \n",
    "    net = tf.matmul(inputs,self.w) \n",
    "    self.a.assign( 1/( 1 + tf.exp( -( (net + self.b)/temperature)) ) )\n",
    "    return self.a.value()"
   ]
  },
  {
   "cell_type": "markdown",
   "metadata": {},
   "source": [
    "---"
   ]
  },
  {
   "cell_type": "markdown",
   "metadata": {},
   "source": [
    "# CUSTOM MODEL"
   ]
  },
  {
   "cell_type": "code",
   "execution_count": 6,
   "metadata": {},
   "outputs": [],
   "source": [
    "class MQSelfReflexiveNetwork(tf.keras.Model):\n",
    "  def __init__(self, learning_rate, initial_temperature, bias_value):\n",
    "    super(MQSelfReflexiveNetwork, self).__init__(name='MQSelfReflexiveNetwork')\n",
    "\n",
    "    self.input_layer = InputLayer(name = \"InputLayer\")\n",
    "    self.h = HiddenLayer(name = \"HiddenLayer\",weights_init_val=0.5, bias_init_val=bias_value)\n",
    "    self.o = OutputLayer(name = \"OutputLayer\",weights_init_val=0.59, bias_init_val=bias_value)\n",
    "    self.temperature = tf.Variable(initial_value = initial_temperature,trainable=False, name = \"Temperature\")\n",
    "    self.error = tf.Variable(initial_value=0.0,trainable=False, name = \"Error\")\n",
    "    self.alpha = learning_rate\n",
    "\n",
    "  def call(self, input):\n",
    "    ### FOWARD PASS\n",
    "    res_input = self.input_layer(input)\n",
    "    res_hidden = self.h(res_input, self.temperature)\n",
    "    res_output = self.o(res_hidden, self.temperature)\n",
    "    return tf.math.reduce_sum(tf.math.square(res_hidden - res_output))\n",
    "  \n",
    "  def train_step(self, input):\n",
    "    ### CALL FOWARD PASS\n",
    "    self.error.assign(self(input, training = True))\n",
    "\n",
    "    ### BACK PROPAGATION\n",
    "    \n",
    "    # Compute temperature\n",
    "    self.temperature.assign(1 - (1 / (1 + self.error) ))\n",
    "\n",
    "    # Update outputs weights\n",
    "    delta_Ao = self.o.a * (self.h.a - self.o.a) * (1 - self.o.a) + (self.o.deltaA * ((self.h.a - self.o.a)) )\n",
    "    delta_Wo = self.alpha * tf.matmul(tf.transpose(self.h.a),delta_Ao)\n",
    "    self.o.deltaA.assign(delta_Ao)\n",
    "    self.o.w.assign_add(delta_Wo)\n",
    "\n",
    "    ## Update hidden weights\n",
    "    delta_Ah = self.h.a * (1 - self.h.a) * tf.matmul(self.o.deltaA, self.o.w)\n",
    "    delta_Wh = self.alpha * delta_Ah * self.input_layer.a\n",
    "    self.h.deltaA.assign(delta_Ah)\n",
    "    self.h.w.assign_add(delta_Wh)\n",
    "\n",
    "    return {\n",
    "        \"Error\": tf.squeeze(self.error.value()),\n",
    "        \"Temperature\": tf.squeeze(self.temperature.value()),\n",
    "        \"Hidden weights\": tf.squeeze(self.h.w.value()),\n",
    "        \"Output weights\": tf.squeeze(self.o.w.value())\n",
    "        }"
   ]
  },
  {
   "cell_type": "code",
   "execution_count": 7,
   "metadata": {},
   "outputs": [
    {
     "name": "stderr",
     "output_type": "stream",
     "text": [
      "2022-12-09 17:24:40.005717: E tensorflow/stream_executor/cuda/cuda_driver.cc:271] failed call to cuInit: CUDA_ERROR_NO_DEVICE: no CUDA-capable device is detected\n",
      "2022-12-09 17:24:40.005811: I tensorflow/stream_executor/cuda/cuda_diagnostics.cc:156] kernel driver does not appear to be running on this host (davide-Inspiron-3891): /proc/driver/nvidia/version does not exist\n",
      "2022-12-09 17:24:40.008608: I tensorflow/core/platform/cpu_feature_guard.cc:151] This TensorFlow binary is optimized with oneAPI Deep Neural Network Library (oneDNN) to use the following CPU instructions in performance-critical operations:  AVX2 FMA\n",
      "To enable them in other operations, rebuild TensorFlow with the appropriate compiler flags.\n"
     ]
    }
   ],
   "source": [
    "# Construct an instance of CustomModel\n",
    "input = tf.constant([0.01, 0.00, 0.03, 0.22, 0.87, 0.26, 0.42, 0.16])\n",
    "model = MQSelfReflexiveNetwork(learning_rate=1.45, initial_temperature=9.0, bias_value=0.1)"
   ]
  },
  {
   "cell_type": "code",
   "execution_count": 8,
   "metadata": {},
   "outputs": [
    {
     "name": "stdout",
     "output_type": "stream",
     "text": [
      "Epoch 1/500\n",
      "1/1 [==============================] - 1s 564ms/step - Error: 0.1674 - Temperature: 0.1434 - Hidden weights: 0.4864 - Output weights: 0.5710\n",
      "Epoch 2/500\n",
      "1/1 [==============================] - 0s 4ms/step - Error: 0.4905 - Temperature: 0.3291 - Hidden weights: 0.4871 - Output weights: 0.5762\n",
      "Epoch 3/500\n",
      "1/1 [==============================] - 0s 2ms/step - Error: 1.4444 - Temperature: 0.5909 - Hidden weights: 0.4865 - Output weights: 0.5746\n",
      "Epoch 4/500\n",
      "1/1 [==============================] - 0s 4ms/step - Error: 2.1547 - Temperature: 0.6830 - Hidden weights: 0.4868 - Output weights: 0.5751\n",
      "Epoch 5/500\n",
      "1/1 [==============================] - 0s 6ms/step - Error: 2.2983 - Temperature: 0.6968 - Hidden weights: 0.4865 - Output weights: 0.5747\n",
      "Epoch 6/500\n",
      "1/1 [==============================] - 0s 2ms/step - Error: 2.3174 - Temperature: 0.6986 - Hidden weights: 0.4865 - Output weights: 0.5745\n",
      "Epoch 7/500\n",
      "1/1 [==============================] - 0s 2ms/step - Error: 2.3198 - Temperature: 0.6988 - Hidden weights: 0.4863 - Output weights: 0.5743\n",
      "Epoch 8/500\n",
      "1/1 [==============================] - 0s 7ms/step - Error: 2.3205 - Temperature: 0.6988 - Hidden weights: 0.4862 - Output weights: 0.5741\n",
      "Epoch 9/500\n",
      "1/1 [==============================] - 0s 7ms/step - Error: 2.3209 - Temperature: 0.6989 - Hidden weights: 0.4861 - Output weights: 0.5738\n",
      "Epoch 10/500\n",
      "1/1 [==============================] - 0s 7ms/step - Error: 2.3213 - Temperature: 0.6989 - Hidden weights: 0.4859 - Output weights: 0.5736\n",
      "Epoch 11/500\n",
      "1/1 [==============================] - 0s 3ms/step - Error: 2.3217 - Temperature: 0.6990 - Hidden weights: 0.4858 - Output weights: 0.5734\n",
      "Epoch 12/500\n",
      "1/1 [==============================] - 0s 5ms/step - Error: 2.3222 - Temperature: 0.6990 - Hidden weights: 0.4857 - Output weights: 0.5731\n",
      "Epoch 13/500\n",
      "1/1 [==============================] - 0s 9ms/step - Error: 2.3226 - Temperature: 0.6990 - Hidden weights: 0.4855 - Output weights: 0.5729\n",
      "Epoch 14/500\n",
      "1/1 [==============================] - 0s 6ms/step - Error: 2.3230 - Temperature: 0.6991 - Hidden weights: 0.4854 - Output weights: 0.5727\n",
      "Epoch 15/500\n",
      "1/1 [==============================] - 0s 7ms/step - Error: 2.3234 - Temperature: 0.6991 - Hidden weights: 0.4853 - Output weights: 0.5724\n",
      "Epoch 16/500\n",
      "1/1 [==============================] - 0s 5ms/step - Error: 2.3238 - Temperature: 0.6991 - Hidden weights: 0.4851 - Output weights: 0.5722\n",
      "Epoch 17/500\n",
      "1/1 [==============================] - 0s 7ms/step - Error: 2.3242 - Temperature: 0.6992 - Hidden weights: 0.4850 - Output weights: 0.5719\n",
      "Epoch 18/500\n",
      "1/1 [==============================] - 0s 5ms/step - Error: 2.3247 - Temperature: 0.6992 - Hidden weights: 0.4849 - Output weights: 0.5717\n",
      "Epoch 19/500\n",
      "1/1 [==============================] - 0s 4ms/step - Error: 2.3251 - Temperature: 0.6993 - Hidden weights: 0.4847 - Output weights: 0.5715\n",
      "Epoch 20/500\n",
      "1/1 [==============================] - 0s 6ms/step - Error: 2.3255 - Temperature: 0.6993 - Hidden weights: 0.4846 - Output weights: 0.5712\n",
      "Epoch 21/500\n",
      "1/1 [==============================] - 0s 6ms/step - Error: 2.3259 - Temperature: 0.6993 - Hidden weights: 0.4844 - Output weights: 0.5710\n",
      "Epoch 22/500\n",
      "1/1 [==============================] - 0s 9ms/step - Error: 2.3264 - Temperature: 0.6994 - Hidden weights: 0.4843 - Output weights: 0.5707\n",
      "Epoch 23/500\n",
      "1/1 [==============================] - 0s 4ms/step - Error: 2.3268 - Temperature: 0.6994 - Hidden weights: 0.4842 - Output weights: 0.5705\n",
      "Epoch 24/500\n",
      "1/1 [==============================] - 0s 3ms/step - Error: 2.3272 - Temperature: 0.6995 - Hidden weights: 0.4840 - Output weights: 0.5702\n",
      "Epoch 25/500\n",
      "1/1 [==============================] - 0s 5ms/step - Error: 2.3277 - Temperature: 0.6995 - Hidden weights: 0.4839 - Output weights: 0.5700\n",
      "Epoch 26/500\n",
      "1/1 [==============================] - 0s 4ms/step - Error: 2.3281 - Temperature: 0.6995 - Hidden weights: 0.4838 - Output weights: 0.5698\n",
      "Epoch 27/500\n",
      "1/1 [==============================] - 0s 4ms/step - Error: 2.3285 - Temperature: 0.6996 - Hidden weights: 0.4836 - Output weights: 0.5695\n",
      "Epoch 28/500\n",
      "1/1 [==============================] - 0s 5ms/step - Error: 2.3290 - Temperature: 0.6996 - Hidden weights: 0.4835 - Output weights: 0.5693\n",
      "Epoch 29/500\n",
      "1/1 [==============================] - 0s 4ms/step - Error: 2.3294 - Temperature: 0.6996 - Hidden weights: 0.4833 - Output weights: 0.5690\n",
      "Epoch 30/500\n",
      "1/1 [==============================] - 0s 3ms/step - Error: 2.3299 - Temperature: 0.6997 - Hidden weights: 0.4832 - Output weights: 0.5688\n",
      "Epoch 31/500\n",
      "1/1 [==============================] - 0s 7ms/step - Error: 2.3303 - Temperature: 0.6997 - Hidden weights: 0.4830 - Output weights: 0.5685\n",
      "Epoch 32/500\n",
      "1/1 [==============================] - 0s 6ms/step - Error: 2.3307 - Temperature: 0.6998 - Hidden weights: 0.4829 - Output weights: 0.5683\n",
      "Epoch 33/500\n",
      "1/1 [==============================] - 0s 7ms/step - Error: 2.3312 - Temperature: 0.6998 - Hidden weights: 0.4828 - Output weights: 0.5680\n",
      "Epoch 34/500\n",
      "1/1 [==============================] - 0s 5ms/step - Error: 2.3316 - Temperature: 0.6998 - Hidden weights: 0.4826 - Output weights: 0.5677\n",
      "Epoch 35/500\n",
      "1/1 [==============================] - 0s 3ms/step - Error: 2.3321 - Temperature: 0.6999 - Hidden weights: 0.4825 - Output weights: 0.5675\n",
      "Epoch 36/500\n",
      "1/1 [==============================] - 0s 7ms/step - Error: 2.3325 - Temperature: 0.6999 - Hidden weights: 0.4823 - Output weights: 0.5672\n",
      "Epoch 37/500\n",
      "1/1 [==============================] - 0s 4ms/step - Error: 2.3330 - Temperature: 0.7000 - Hidden weights: 0.4822 - Output weights: 0.5670\n",
      "Epoch 38/500\n",
      "1/1 [==============================] - 0s 3ms/step - Error: 2.3335 - Temperature: 0.7000 - Hidden weights: 0.4820 - Output weights: 0.5667\n",
      "Epoch 39/500\n",
      "1/1 [==============================] - 0s 5ms/step - Error: 2.3339 - Temperature: 0.7001 - Hidden weights: 0.4819 - Output weights: 0.5665\n",
      "Epoch 40/500\n",
      "1/1 [==============================] - 0s 5ms/step - Error: 2.3344 - Temperature: 0.7001 - Hidden weights: 0.4817 - Output weights: 0.5662\n",
      "Epoch 41/500\n",
      "1/1 [==============================] - 0s 3ms/step - Error: 2.3348 - Temperature: 0.7001 - Hidden weights: 0.4816 - Output weights: 0.5659\n",
      "Epoch 42/500\n",
      "1/1 [==============================] - 0s 3ms/step - Error: 2.3353 - Temperature: 0.7002 - Hidden weights: 0.4814 - Output weights: 0.5657\n",
      "Epoch 43/500\n",
      "1/1 [==============================] - 0s 7ms/step - Error: 2.3358 - Temperature: 0.7002 - Hidden weights: 0.4813 - Output weights: 0.5654\n",
      "Epoch 44/500\n",
      "1/1 [==============================] - 0s 3ms/step - Error: 2.3362 - Temperature: 0.7003 - Hidden weights: 0.4811 - Output weights: 0.5651\n",
      "Epoch 45/500\n",
      "1/1 [==============================] - 0s 6ms/step - Error: 2.3367 - Temperature: 0.7003 - Hidden weights: 0.4810 - Output weights: 0.5649\n",
      "Epoch 46/500\n",
      "1/1 [==============================] - 0s 5ms/step - Error: 2.3372 - Temperature: 0.7003 - Hidden weights: 0.4808 - Output weights: 0.5646\n",
      "Epoch 47/500\n",
      "1/1 [==============================] - 0s 4ms/step - Error: 2.3376 - Temperature: 0.7004 - Hidden weights: 0.4807 - Output weights: 0.5643\n",
      "Epoch 48/500\n",
      "1/1 [==============================] - 0s 5ms/step - Error: 2.3381 - Temperature: 0.7004 - Hidden weights: 0.4805 - Output weights: 0.5641\n",
      "Epoch 49/500\n",
      "1/1 [==============================] - 0s 5ms/step - Error: 2.3386 - Temperature: 0.7005 - Hidden weights: 0.4804 - Output weights: 0.5638\n",
      "Epoch 50/500\n",
      "1/1 [==============================] - 0s 2ms/step - Error: 2.3391 - Temperature: 0.7005 - Hidden weights: 0.4802 - Output weights: 0.5635\n",
      "Epoch 51/500\n",
      "1/1 [==============================] - 0s 5ms/step - Error: 2.3395 - Temperature: 0.7006 - Hidden weights: 0.4801 - Output weights: 0.5633\n",
      "Epoch 52/500\n",
      "1/1 [==============================] - 0s 5ms/step - Error: 2.3400 - Temperature: 0.7006 - Hidden weights: 0.4799 - Output weights: 0.5630\n",
      "Epoch 53/500\n",
      "1/1 [==============================] - 0s 4ms/step - Error: 2.3405 - Temperature: 0.7006 - Hidden weights: 0.4798 - Output weights: 0.5627\n",
      "Epoch 54/500\n",
      "1/1 [==============================] - 0s 5ms/step - Error: 2.3410 - Temperature: 0.7007 - Hidden weights: 0.4796 - Output weights: 0.5624\n",
      "Epoch 55/500\n",
      "1/1 [==============================] - 0s 5ms/step - Error: 2.3415 - Temperature: 0.7007 - Hidden weights: 0.4795 - Output weights: 0.5622\n",
      "Epoch 56/500\n",
      "1/1 [==============================] - 0s 3ms/step - Error: 2.3420 - Temperature: 0.7008 - Hidden weights: 0.4793 - Output weights: 0.5619\n",
      "Epoch 57/500\n",
      "1/1 [==============================] - 0s 6ms/step - Error: 2.3424 - Temperature: 0.7008 - Hidden weights: 0.4791 - Output weights: 0.5616\n",
      "Epoch 58/500\n",
      "1/1 [==============================] - 0s 5ms/step - Error: 2.3429 - Temperature: 0.7009 - Hidden weights: 0.4790 - Output weights: 0.5613\n",
      "Epoch 59/500\n",
      "1/1 [==============================] - 0s 4ms/step - Error: 2.3434 - Temperature: 0.7009 - Hidden weights: 0.4788 - Output weights: 0.5610\n",
      "Epoch 60/500\n",
      "1/1 [==============================] - 0s 8ms/step - Error: 2.3439 - Temperature: 0.7010 - Hidden weights: 0.4787 - Output weights: 0.5607\n",
      "Epoch 61/500\n",
      "1/1 [==============================] - 0s 5ms/step - Error: 2.3444 - Temperature: 0.7010 - Hidden weights: 0.4785 - Output weights: 0.5605\n",
      "Epoch 62/500\n",
      "1/1 [==============================] - 0s 4ms/step - Error: 2.3449 - Temperature: 0.7010 - Hidden weights: 0.4783 - Output weights: 0.5602\n",
      "Epoch 63/500\n",
      "1/1 [==============================] - 0s 7ms/step - Error: 2.3454 - Temperature: 0.7011 - Hidden weights: 0.4782 - Output weights: 0.5599\n",
      "Epoch 64/500\n",
      "1/1 [==============================] - 0s 3ms/step - Error: 2.3459 - Temperature: 0.7011 - Hidden weights: 0.4780 - Output weights: 0.5596\n",
      "Epoch 65/500\n",
      "1/1 [==============================] - 0s 5ms/step - Error: 2.3464 - Temperature: 0.7012 - Hidden weights: 0.4778 - Output weights: 0.5593\n",
      "Epoch 66/500\n",
      "1/1 [==============================] - 0s 4ms/step - Error: 2.3470 - Temperature: 0.7012 - Hidden weights: 0.4777 - Output weights: 0.5590\n",
      "Epoch 67/500\n",
      "1/1 [==============================] - 0s 3ms/step - Error: 2.3475 - Temperature: 0.7013 - Hidden weights: 0.4775 - Output weights: 0.5587\n",
      "Epoch 68/500\n",
      "1/1 [==============================] - 0s 3ms/step - Error: 2.3480 - Temperature: 0.7013 - Hidden weights: 0.4774 - Output weights: 0.5584\n",
      "Epoch 69/500\n",
      "1/1 [==============================] - 0s 7ms/step - Error: 2.3485 - Temperature: 0.7014 - Hidden weights: 0.4772 - Output weights: 0.5581\n",
      "Epoch 70/500\n",
      "1/1 [==============================] - 0s 5ms/step - Error: 2.3490 - Temperature: 0.7014 - Hidden weights: 0.4770 - Output weights: 0.5578\n",
      "Epoch 71/500\n",
      "1/1 [==============================] - 0s 3ms/step - Error: 2.3495 - Temperature: 0.7015 - Hidden weights: 0.4769 - Output weights: 0.5575\n",
      "Epoch 72/500\n",
      "1/1 [==============================] - 0s 5ms/step - Error: 2.3501 - Temperature: 0.7015 - Hidden weights: 0.4767 - Output weights: 0.5572\n",
      "Epoch 73/500\n",
      "1/1 [==============================] - 0s 5ms/step - Error: 2.3506 - Temperature: 0.7015 - Hidden weights: 0.4765 - Output weights: 0.5569\n",
      "Epoch 74/500\n",
      "1/1 [==============================] - 0s 3ms/step - Error: 2.3511 - Temperature: 0.7016 - Hidden weights: 0.4763 - Output weights: 0.5566\n",
      "Epoch 75/500\n",
      "1/1 [==============================] - 0s 7ms/step - Error: 2.3516 - Temperature: 0.7016 - Hidden weights: 0.4762 - Output weights: 0.5563\n",
      "Epoch 76/500\n",
      "1/1 [==============================] - 0s 5ms/step - Error: 2.3522 - Temperature: 0.7017 - Hidden weights: 0.4760 - Output weights: 0.5560\n",
      "Epoch 77/500\n",
      "1/1 [==============================] - 0s 4ms/step - Error: 2.3527 - Temperature: 0.7017 - Hidden weights: 0.4758 - Output weights: 0.5557\n",
      "Epoch 78/500\n",
      "1/1 [==============================] - 0s 9ms/step - Error: 2.3532 - Temperature: 0.7018 - Hidden weights: 0.4757 - Output weights: 0.5554\n",
      "Epoch 79/500\n",
      "1/1 [==============================] - 0s 3ms/step - Error: 2.3538 - Temperature: 0.7018 - Hidden weights: 0.4755 - Output weights: 0.5551\n",
      "Epoch 80/500\n",
      "1/1 [==============================] - ETA: 0s - Error: 2.3543 - Temperature: 0.7019 - Hidden weights: 0.4753 - Output weights: 0.55 - 0s 5ms/step - Error: 2.3543 - Temperature: 0.7019 - Hidden weights: 0.4753 - Output weights: 0.5548\n",
      "Epoch 81/500\n",
      "1/1 [==============================] - 0s 5ms/step - Error: 2.3549 - Temperature: 0.7019 - Hidden weights: 0.4751 - Output weights: 0.5545\n",
      "Epoch 82/500\n",
      "1/1 [==============================] - 0s 4ms/step - Error: 2.3554 - Temperature: 0.7020 - Hidden weights: 0.4750 - Output weights: 0.5542\n",
      "Epoch 83/500\n",
      "1/1 [==============================] - 0s 6ms/step - Error: 2.3560 - Temperature: 0.7020 - Hidden weights: 0.4748 - Output weights: 0.5539\n",
      "Epoch 84/500\n",
      "1/1 [==============================] - 0s 5ms/step - Error: 2.3565 - Temperature: 0.7021 - Hidden weights: 0.4746 - Output weights: 0.5535\n",
      "Epoch 85/500\n",
      "1/1 [==============================] - 0s 3ms/step - Error: 2.3571 - Temperature: 0.7021 - Hidden weights: 0.4744 - Output weights: 0.5532\n",
      "Epoch 86/500\n",
      "1/1 [==============================] - 0s 6ms/step - Error: 2.3576 - Temperature: 0.7022 - Hidden weights: 0.4743 - Output weights: 0.5529\n",
      "Epoch 87/500\n",
      "1/1 [==============================] - 0s 5ms/step - Error: 2.3582 - Temperature: 0.7022 - Hidden weights: 0.4741 - Output weights: 0.5526\n",
      "Epoch 88/500\n",
      "1/1 [==============================] - 0s 4ms/step - Error: 2.3587 - Temperature: 0.7023 - Hidden weights: 0.4739 - Output weights: 0.5523\n",
      "Epoch 89/500\n",
      "1/1 [==============================] - 0s 3ms/step - Error: 2.3593 - Temperature: 0.7023 - Hidden weights: 0.4737 - Output weights: 0.5519\n",
      "Epoch 90/500\n",
      "1/1 [==============================] - 0s 6ms/step - Error: 2.3599 - Temperature: 0.7024 - Hidden weights: 0.4735 - Output weights: 0.5516\n",
      "Epoch 91/500\n",
      "1/1 [==============================] - 0s 3ms/step - Error: 2.3604 - Temperature: 0.7024 - Hidden weights: 0.4733 - Output weights: 0.5513\n",
      "Epoch 92/500\n",
      "1/1 [==============================] - 0s 3ms/step - Error: 2.3610 - Temperature: 0.7025 - Hidden weights: 0.4732 - Output weights: 0.5509\n",
      "Epoch 93/500\n",
      "1/1 [==============================] - 0s 6ms/step - Error: 2.3616 - Temperature: 0.7025 - Hidden weights: 0.4730 - Output weights: 0.5506\n",
      "Epoch 94/500\n",
      "1/1 [==============================] - 0s 3ms/step - Error: 2.3622 - Temperature: 0.7026 - Hidden weights: 0.4728 - Output weights: 0.5503\n",
      "Epoch 95/500\n",
      "1/1 [==============================] - 0s 4ms/step - Error: 2.3627 - Temperature: 0.7026 - Hidden weights: 0.4726 - Output weights: 0.5499\n",
      "Epoch 96/500\n",
      "1/1 [==============================] - 0s 6ms/step - Error: 2.3633 - Temperature: 0.7027 - Hidden weights: 0.4724 - Output weights: 0.5496\n",
      "Epoch 97/500\n",
      "1/1 [==============================] - 0s 3ms/step - Error: 2.3639 - Temperature: 0.7027 - Hidden weights: 0.4722 - Output weights: 0.5493\n",
      "Epoch 98/500\n",
      "1/1 [==============================] - 0s 4ms/step - Error: 2.3645 - Temperature: 0.7028 - Hidden weights: 0.4720 - Output weights: 0.5489\n",
      "Epoch 99/500\n",
      "1/1 [==============================] - 0s 6ms/step - Error: 2.3651 - Temperature: 0.7028 - Hidden weights: 0.4718 - Output weights: 0.5486\n",
      "Epoch 100/500\n",
      "1/1 [==============================] - 0s 6ms/step - Error: 2.3657 - Temperature: 0.7029 - Hidden weights: 0.4717 - Output weights: 0.5482\n",
      "Epoch 101/500\n",
      "1/1 [==============================] - 0s 3ms/step - Error: 2.3663 - Temperature: 0.7029 - Hidden weights: 0.4715 - Output weights: 0.5479\n",
      "Epoch 102/500\n",
      "1/1 [==============================] - 0s 7ms/step - Error: 2.3669 - Temperature: 0.7030 - Hidden weights: 0.4713 - Output weights: 0.5476\n",
      "Epoch 103/500\n",
      "1/1 [==============================] - 0s 3ms/step - Error: 2.3675 - Temperature: 0.7030 - Hidden weights: 0.4711 - Output weights: 0.5472\n",
      "Epoch 104/500\n",
      "1/1 [==============================] - 0s 2ms/step - Error: 2.3681 - Temperature: 0.7031 - Hidden weights: 0.4709 - Output weights: 0.5469\n",
      "Epoch 105/500\n",
      "1/1 [==============================] - 0s 9ms/step - Error: 2.3687 - Temperature: 0.7031 - Hidden weights: 0.4707 - Output weights: 0.5465\n",
      "Epoch 106/500\n",
      "1/1 [==============================] - 0s 4ms/step - Error: 2.3693 - Temperature: 0.7032 - Hidden weights: 0.4705 - Output weights: 0.5461\n",
      "Epoch 107/500\n",
      "1/1 [==============================] - 0s 6ms/step - Error: 2.3699 - Temperature: 0.7033 - Hidden weights: 0.4703 - Output weights: 0.5458\n",
      "Epoch 108/500\n",
      "1/1 [==============================] - 0s 4ms/step - Error: 2.3705 - Temperature: 0.7033 - Hidden weights: 0.4701 - Output weights: 0.5454\n",
      "Epoch 109/500\n",
      "1/1 [==============================] - 0s 3ms/step - Error: 2.3711 - Temperature: 0.7034 - Hidden weights: 0.4699 - Output weights: 0.5451\n",
      "Epoch 110/500\n",
      "1/1 [==============================] - 0s 5ms/step - Error: 2.3718 - Temperature: 0.7034 - Hidden weights: 0.4697 - Output weights: 0.5447\n",
      "Epoch 111/500\n",
      "1/1 [==============================] - 0s 5ms/step - Error: 2.3724 - Temperature: 0.7035 - Hidden weights: 0.4695 - Output weights: 0.5443\n",
      "Epoch 112/500\n",
      "1/1 [==============================] - 0s 4ms/step - Error: 2.3730 - Temperature: 0.7035 - Hidden weights: 0.4693 - Output weights: 0.5440\n",
      "Epoch 113/500\n",
      "1/1 [==============================] - 0s 5ms/step - Error: 2.3737 - Temperature: 0.7036 - Hidden weights: 0.4691 - Output weights: 0.5436\n",
      "Epoch 114/500\n",
      "1/1 [==============================] - 0s 5ms/step - Error: 2.3743 - Temperature: 0.7036 - Hidden weights: 0.4689 - Output weights: 0.5432\n",
      "Epoch 115/500\n",
      "1/1 [==============================] - 0s 3ms/step - Error: 2.3749 - Temperature: 0.7037 - Hidden weights: 0.4687 - Output weights: 0.5429\n",
      "Epoch 116/500\n",
      "1/1 [==============================] - 0s 3ms/step - Error: 2.3756 - Temperature: 0.7038 - Hidden weights: 0.4685 - Output weights: 0.5425\n",
      "Epoch 117/500\n",
      "1/1 [==============================] - 0s 6ms/step - Error: 2.3762 - Temperature: 0.7038 - Hidden weights: 0.4683 - Output weights: 0.5421\n",
      "Epoch 118/500\n",
      "1/1 [==============================] - 0s 3ms/step - Error: 2.3769 - Temperature: 0.7039 - Hidden weights: 0.4680 - Output weights: 0.5417\n",
      "Epoch 119/500\n",
      "1/1 [==============================] - 0s 7ms/step - Error: 2.3775 - Temperature: 0.7039 - Hidden weights: 0.4678 - Output weights: 0.5413\n",
      "Epoch 120/500\n",
      "1/1 [==============================] - 0s 4ms/step - Error: 2.3782 - Temperature: 0.7040 - Hidden weights: 0.4676 - Output weights: 0.5410\n",
      "Epoch 121/500\n",
      "1/1 [==============================] - 0s 2ms/step - Error: 2.3788 - Temperature: 0.7040 - Hidden weights: 0.4674 - Output weights: 0.5406\n",
      "Epoch 122/500\n",
      "1/1 [==============================] - 0s 2ms/step - Error: 2.3795 - Temperature: 0.7041 - Hidden weights: 0.4672 - Output weights: 0.5402\n",
      "Epoch 123/500\n",
      "1/1 [==============================] - 0s 7ms/step - Error: 2.3802 - Temperature: 0.7042 - Hidden weights: 0.4670 - Output weights: 0.5398\n",
      "Epoch 124/500\n",
      "1/1 [==============================] - 0s 4ms/step - Error: 2.3808 - Temperature: 0.7042 - Hidden weights: 0.4668 - Output weights: 0.5394\n",
      "Epoch 125/500\n",
      "1/1 [==============================] - 0s 6ms/step - Error: 2.3815 - Temperature: 0.7043 - Hidden weights: 0.4665 - Output weights: 0.5390\n",
      "Epoch 126/500\n",
      "1/1 [==============================] - 0s 4ms/step - Error: 2.3822 - Temperature: 0.7043 - Hidden weights: 0.4663 - Output weights: 0.5386\n",
      "Epoch 127/500\n",
      "1/1 [==============================] - 0s 4ms/step - Error: 2.3828 - Temperature: 0.7044 - Hidden weights: 0.4661 - Output weights: 0.5382\n",
      "Epoch 128/500\n",
      "1/1 [==============================] - 0s 5ms/step - Error: 2.3835 - Temperature: 0.7045 - Hidden weights: 0.4659 - Output weights: 0.5378\n",
      "Epoch 129/500\n",
      "1/1 [==============================] - 0s 5ms/step - Error: 2.3842 - Temperature: 0.7045 - Hidden weights: 0.4657 - Output weights: 0.5374\n",
      "Epoch 130/500\n",
      "1/1 [==============================] - 0s 4ms/step - Error: 2.3849 - Temperature: 0.7046 - Hidden weights: 0.4654 - Output weights: 0.5370\n",
      "Epoch 131/500\n",
      "1/1 [==============================] - 0s 3ms/step - Error: 2.3856 - Temperature: 0.7046 - Hidden weights: 0.4652 - Output weights: 0.5366\n",
      "Epoch 132/500\n",
      "1/1 [==============================] - 0s 7ms/step - Error: 2.3863 - Temperature: 0.7047 - Hidden weights: 0.4650 - Output weights: 0.5362\n",
      "Epoch 133/500\n",
      "1/1 [==============================] - 0s 4ms/step - Error: 2.3870 - Temperature: 0.7048 - Hidden weights: 0.4648 - Output weights: 0.5358\n",
      "Epoch 134/500\n",
      "1/1 [==============================] - 0s 3ms/step - Error: 2.3877 - Temperature: 0.7048 - Hidden weights: 0.4645 - Output weights: 0.5353\n",
      "Epoch 135/500\n",
      "1/1 [==============================] - 0s 8ms/step - Error: 2.3884 - Temperature: 0.7049 - Hidden weights: 0.4643 - Output weights: 0.5349\n",
      "Epoch 136/500\n",
      "1/1 [==============================] - 0s 3ms/step - Error: 2.3891 - Temperature: 0.7049 - Hidden weights: 0.4641 - Output weights: 0.5345\n",
      "Epoch 137/500\n",
      "1/1 [==============================] - 0s 3ms/step - Error: 2.3898 - Temperature: 0.7050 - Hidden weights: 0.4638 - Output weights: 0.5341\n",
      "Epoch 138/500\n",
      "1/1 [==============================] - 0s 7ms/step - Error: 2.3906 - Temperature: 0.7051 - Hidden weights: 0.4636 - Output weights: 0.5336\n",
      "Epoch 139/500\n",
      "1/1 [==============================] - 0s 3ms/step - Error: 2.3913 - Temperature: 0.7051 - Hidden weights: 0.4634 - Output weights: 0.5332\n",
      "Epoch 140/500\n",
      "1/1 [==============================] - 0s 3ms/step - Error: 2.3920 - Temperature: 0.7052 - Hidden weights: 0.4631 - Output weights: 0.5328\n",
      "Epoch 141/500\n",
      "1/1 [==============================] - 0s 7ms/step - Error: 2.3927 - Temperature: 0.7053 - Hidden weights: 0.4629 - Output weights: 0.5323\n",
      "Epoch 142/500\n",
      "1/1 [==============================] - 0s 4ms/step - Error: 2.3935 - Temperature: 0.7053 - Hidden weights: 0.4626 - Output weights: 0.5319\n",
      "Epoch 143/500\n",
      "1/1 [==============================] - 0s 3ms/step - Error: 2.3942 - Temperature: 0.7054 - Hidden weights: 0.4624 - Output weights: 0.5315\n",
      "Epoch 144/500\n",
      "1/1 [==============================] - 0s 6ms/step - Error: 2.3950 - Temperature: 0.7054 - Hidden weights: 0.4622 - Output weights: 0.5310\n",
      "Epoch 145/500\n",
      "1/1 [==============================] - 0s 4ms/step - Error: 2.3957 - Temperature: 0.7055 - Hidden weights: 0.4619 - Output weights: 0.5306\n",
      "Epoch 146/500\n",
      "1/1 [==============================] - 0s 2ms/step - Error: 2.3965 - Temperature: 0.7056 - Hidden weights: 0.4617 - Output weights: 0.5301\n",
      "Epoch 147/500\n",
      "1/1 [==============================] - 0s 3ms/step - Error: 2.3972 - Temperature: 0.7056 - Hidden weights: 0.4614 - Output weights: 0.5297\n",
      "Epoch 148/500\n",
      "1/1 [==============================] - 0s 5ms/step - Error: 2.3980 - Temperature: 0.7057 - Hidden weights: 0.4612 - Output weights: 0.5292\n",
      "Epoch 149/500\n",
      "1/1 [==============================] - 0s 4ms/step - Error: 2.3987 - Temperature: 0.7058 - Hidden weights: 0.4609 - Output weights: 0.5287\n",
      "Epoch 150/500\n",
      "1/1 [==============================] - 0s 6ms/step - Error: 2.3995 - Temperature: 0.7058 - Hidden weights: 0.4607 - Output weights: 0.5283\n",
      "Epoch 151/500\n",
      "1/1 [==============================] - 0s 5ms/step - Error: 2.4003 - Temperature: 0.7059 - Hidden weights: 0.4604 - Output weights: 0.5278\n",
      "Epoch 152/500\n",
      "1/1 [==============================] - 0s 3ms/step - Error: 2.4011 - Temperature: 0.7060 - Hidden weights: 0.4601 - Output weights: 0.5273\n",
      "Epoch 153/500\n",
      "1/1 [==============================] - 0s 6ms/step - Error: 2.4019 - Temperature: 0.7060 - Hidden weights: 0.4599 - Output weights: 0.5269\n",
      "Epoch 154/500\n",
      "1/1 [==============================] - 0s 6ms/step - Error: 2.4026 - Temperature: 0.7061 - Hidden weights: 0.4596 - Output weights: 0.5264\n",
      "Epoch 155/500\n",
      "1/1 [==============================] - 0s 3ms/step - Error: 2.4034 - Temperature: 0.7062 - Hidden weights: 0.4594 - Output weights: 0.5259\n",
      "Epoch 156/500\n",
      "1/1 [==============================] - 0s 5ms/step - Error: 2.4042 - Temperature: 0.7062 - Hidden weights: 0.4591 - Output weights: 0.5254\n",
      "Epoch 157/500\n",
      "1/1 [==============================] - 0s 5ms/step - Error: 2.4050 - Temperature: 0.7063 - Hidden weights: 0.4588 - Output weights: 0.5249\n",
      "Epoch 158/500\n",
      "1/1 [==============================] - 0s 3ms/step - Error: 2.4059 - Temperature: 0.7064 - Hidden weights: 0.4586 - Output weights: 0.5245\n",
      "Epoch 159/500\n",
      "1/1 [==============================] - 0s 7ms/step - Error: 2.4067 - Temperature: 0.7065 - Hidden weights: 0.4583 - Output weights: 0.5240\n",
      "Epoch 160/500\n",
      "1/1 [==============================] - 0s 4ms/step - Error: 2.4075 - Temperature: 0.7065 - Hidden weights: 0.4580 - Output weights: 0.5235\n",
      "Epoch 161/500\n",
      "1/1 [==============================] - 0s 7ms/step - Error: 2.4083 - Temperature: 0.7066 - Hidden weights: 0.4578 - Output weights: 0.5230\n",
      "Epoch 162/500\n",
      "1/1 [==============================] - 0s 3ms/step - Error: 2.4091 - Temperature: 0.7067 - Hidden weights: 0.4575 - Output weights: 0.5225\n",
      "Epoch 163/500\n",
      "1/1 [==============================] - 0s 4ms/step - Error: 2.4100 - Temperature: 0.7067 - Hidden weights: 0.4572 - Output weights: 0.5219\n",
      "Epoch 164/500\n",
      "1/1 [==============================] - 0s 6ms/step - Error: 2.4108 - Temperature: 0.7068 - Hidden weights: 0.4569 - Output weights: 0.5214\n",
      "Epoch 165/500\n",
      "1/1 [==============================] - 0s 4ms/step - Error: 2.4116 - Temperature: 0.7069 - Hidden weights: 0.4567 - Output weights: 0.5209\n",
      "Epoch 166/500\n",
      "1/1 [==============================] - 0s 4ms/step - Error: 2.4125 - Temperature: 0.7070 - Hidden weights: 0.4564 - Output weights: 0.5204\n",
      "Epoch 167/500\n",
      "1/1 [==============================] - 0s 12ms/step - Error: 2.4133 - Temperature: 0.7070 - Hidden weights: 0.4561 - Output weights: 0.5199\n",
      "Epoch 168/500\n",
      "1/1 [==============================] - 0s 4ms/step - Error: 2.4142 - Temperature: 0.7071 - Hidden weights: 0.4558 - Output weights: 0.5193\n",
      "Epoch 169/500\n",
      "1/1 [==============================] - 0s 5ms/step - Error: 2.4151 - Temperature: 0.7072 - Hidden weights: 0.4555 - Output weights: 0.5188\n",
      "Epoch 170/500\n",
      "1/1 [==============================] - 0s 6ms/step - Error: 2.4159 - Temperature: 0.7073 - Hidden weights: 0.4552 - Output weights: 0.5183\n",
      "Epoch 171/500\n",
      "1/1 [==============================] - 0s 9ms/step - Error: 2.4168 - Temperature: 0.7073 - Hidden weights: 0.4549 - Output weights: 0.5177\n",
      "Epoch 172/500\n",
      "1/1 [==============================] - 0s 3ms/step - Error: 2.4177 - Temperature: 0.7074 - Hidden weights: 0.4546 - Output weights: 0.5172\n",
      "Epoch 173/500\n",
      "1/1 [==============================] - 0s 5ms/step - Error: 2.4186 - Temperature: 0.7075 - Hidden weights: 0.4544 - Output weights: 0.5166\n",
      "Epoch 174/500\n",
      "1/1 [==============================] - 0s 8ms/step - Error: 2.4195 - Temperature: 0.7076 - Hidden weights: 0.4541 - Output weights: 0.5161\n",
      "Epoch 175/500\n",
      "1/1 [==============================] - 0s 3ms/step - Error: 2.4204 - Temperature: 0.7076 - Hidden weights: 0.4538 - Output weights: 0.5155\n",
      "Epoch 176/500\n",
      "1/1 [==============================] - 0s 7ms/step - Error: 2.4213 - Temperature: 0.7077 - Hidden weights: 0.4534 - Output weights: 0.5150\n",
      "Epoch 177/500\n",
      "1/1 [==============================] - 0s 4ms/step - Error: 2.4222 - Temperature: 0.7078 - Hidden weights: 0.4531 - Output weights: 0.5144\n",
      "Epoch 178/500\n",
      "1/1 [==============================] - 0s 3ms/step - Error: 2.4231 - Temperature: 0.7079 - Hidden weights: 0.4528 - Output weights: 0.5138\n",
      "Epoch 179/500\n",
      "1/1 [==============================] - 0s 9ms/step - Error: 2.4240 - Temperature: 0.7079 - Hidden weights: 0.4525 - Output weights: 0.5132\n",
      "Epoch 180/500\n",
      "1/1 [==============================] - 0s 5ms/step - Error: 2.4249 - Temperature: 0.7080 - Hidden weights: 0.4522 - Output weights: 0.5127\n",
      "Epoch 181/500\n",
      "1/1 [==============================] - 0s 4ms/step - Error: 2.4259 - Temperature: 0.7081 - Hidden weights: 0.4519 - Output weights: 0.5121\n",
      "Epoch 182/500\n",
      "1/1 [==============================] - 0s 3ms/step - Error: 2.4268 - Temperature: 0.7082 - Hidden weights: 0.4516 - Output weights: 0.5115\n",
      "Epoch 183/500\n",
      "1/1 [==============================] - 0s 5ms/step - Error: 2.4278 - Temperature: 0.7083 - Hidden weights: 0.4513 - Output weights: 0.5109\n",
      "Epoch 184/500\n",
      "1/1 [==============================] - 0s 4ms/step - Error: 2.4287 - Temperature: 0.7083 - Hidden weights: 0.4509 - Output weights: 0.5103\n",
      "Epoch 185/500\n",
      "1/1 [==============================] - 0s 6ms/step - Error: 2.4297 - Temperature: 0.7084 - Hidden weights: 0.4506 - Output weights: 0.5097\n",
      "Epoch 186/500\n",
      "1/1 [==============================] - 0s 6ms/step - Error: 2.4306 - Temperature: 0.7085 - Hidden weights: 0.4503 - Output weights: 0.5091\n",
      "Epoch 187/500\n",
      "1/1 [==============================] - 0s 8ms/step - Error: 2.4316 - Temperature: 0.7086 - Hidden weights: 0.4500 - Output weights: 0.5084\n",
      "Epoch 188/500\n",
      "1/1 [==============================] - 0s 3ms/step - Error: 2.4326 - Temperature: 0.7087 - Hidden weights: 0.4496 - Output weights: 0.5078\n",
      "Epoch 189/500\n",
      "1/1 [==============================] - 0s 3ms/step - Error: 2.4336 - Temperature: 0.7088 - Hidden weights: 0.4493 - Output weights: 0.5072\n",
      "Epoch 190/500\n",
      "1/1 [==============================] - 0s 7ms/step - Error: 2.4346 - Temperature: 0.7088 - Hidden weights: 0.4490 - Output weights: 0.5065\n",
      "Epoch 191/500\n",
      "1/1 [==============================] - 0s 6ms/step - Error: 2.4355 - Temperature: 0.7089 - Hidden weights: 0.4486 - Output weights: 0.5059\n",
      "Epoch 192/500\n",
      "1/1 [==============================] - 0s 5ms/step - Error: 2.4366 - Temperature: 0.7090 - Hidden weights: 0.4483 - Output weights: 0.5053\n",
      "Epoch 193/500\n",
      "1/1 [==============================] - 0s 6ms/step - Error: 2.4376 - Temperature: 0.7091 - Hidden weights: 0.4479 - Output weights: 0.5046\n",
      "Epoch 194/500\n",
      "1/1 [==============================] - 0s 3ms/step - Error: 2.4386 - Temperature: 0.7092 - Hidden weights: 0.4476 - Output weights: 0.5039\n",
      "Epoch 195/500\n",
      "1/1 [==============================] - 0s 3ms/step - Error: 2.4396 - Temperature: 0.7093 - Hidden weights: 0.4472 - Output weights: 0.5033\n",
      "Epoch 196/500\n",
      "1/1 [==============================] - 0s 7ms/step - Error: 2.4406 - Temperature: 0.7094 - Hidden weights: 0.4469 - Output weights: 0.5026\n",
      "Epoch 197/500\n",
      "1/1 [==============================] - 0s 4ms/step - Error: 2.4417 - Temperature: 0.7094 - Hidden weights: 0.4465 - Output weights: 0.5019\n",
      "Epoch 198/500\n",
      "1/1 [==============================] - 0s 7ms/step - Error: 2.4427 - Temperature: 0.7095 - Hidden weights: 0.4461 - Output weights: 0.5012\n",
      "Epoch 199/500\n",
      "1/1 [==============================] - 0s 3ms/step - Error: 2.4438 - Temperature: 0.7096 - Hidden weights: 0.4458 - Output weights: 0.5006\n",
      "Epoch 200/500\n",
      "1/1 [==============================] - 0s 4ms/step - Error: 2.4448 - Temperature: 0.7097 - Hidden weights: 0.4454 - Output weights: 0.4999\n",
      "Epoch 201/500\n",
      "1/1 [==============================] - 0s 9ms/step - Error: 2.4459 - Temperature: 0.7098 - Hidden weights: 0.4450 - Output weights: 0.4991\n",
      "Epoch 202/500\n",
      "1/1 [==============================] - 0s 5ms/step - Error: 2.4470 - Temperature: 0.7099 - Hidden weights: 0.4447 - Output weights: 0.4984\n",
      "Epoch 203/500\n",
      "1/1 [==============================] - 0s 9ms/step - Error: 2.4481 - Temperature: 0.7100 - Hidden weights: 0.4443 - Output weights: 0.4977\n",
      "Epoch 204/500\n",
      "1/1 [==============================] - 0s 4ms/step - Error: 2.4492 - Temperature: 0.7101 - Hidden weights: 0.4439 - Output weights: 0.4970\n",
      "Epoch 205/500\n",
      "1/1 [==============================] - 0s 3ms/step - Error: 2.4503 - Temperature: 0.7102 - Hidden weights: 0.4435 - Output weights: 0.4962\n",
      "Epoch 206/500\n",
      "1/1 [==============================] - 0s 8ms/step - Error: 2.4514 - Temperature: 0.7103 - Hidden weights: 0.4431 - Output weights: 0.4955\n",
      "Epoch 207/500\n",
      "1/1 [==============================] - 0s 4ms/step - Error: 2.4525 - Temperature: 0.7104 - Hidden weights: 0.4427 - Output weights: 0.4948\n",
      "Epoch 208/500\n",
      "1/1 [==============================] - 0s 3ms/step - Error: 2.4536 - Temperature: 0.7104 - Hidden weights: 0.4423 - Output weights: 0.4940\n",
      "Epoch 209/500\n",
      "1/1 [==============================] - 0s 4ms/step - Error: 2.4547 - Temperature: 0.7105 - Hidden weights: 0.4419 - Output weights: 0.4932\n",
      "Epoch 210/500\n",
      "1/1 [==============================] - 0s 3ms/step - Error: 2.4559 - Temperature: 0.7106 - Hidden weights: 0.4415 - Output weights: 0.4924\n",
      "Epoch 211/500\n",
      "1/1 [==============================] - 0s 6ms/step - Error: 2.4570 - Temperature: 0.7107 - Hidden weights: 0.4411 - Output weights: 0.4917\n",
      "Epoch 212/500\n",
      "1/1 [==============================] - 0s 7ms/step - Error: 2.4582 - Temperature: 0.7108 - Hidden weights: 0.4407 - Output weights: 0.4909\n",
      "Epoch 213/500\n",
      "1/1 [==============================] - 0s 3ms/step - Error: 2.4593 - Temperature: 0.7109 - Hidden weights: 0.4403 - Output weights: 0.4901\n",
      "Epoch 214/500\n",
      "1/1 [==============================] - 0s 5ms/step - Error: 2.4605 - Temperature: 0.7110 - Hidden weights: 0.4399 - Output weights: 0.4893\n",
      "Epoch 215/500\n",
      "1/1 [==============================] - 0s 4ms/step - Error: 2.4617 - Temperature: 0.7111 - Hidden weights: 0.4394 - Output weights: 0.4884\n",
      "Epoch 216/500\n",
      "1/1 [==============================] - 0s 3ms/step - Error: 2.4629 - Temperature: 0.7112 - Hidden weights: 0.4390 - Output weights: 0.4876\n",
      "Epoch 217/500\n",
      "1/1 [==============================] - 0s 2ms/step - Error: 2.4641 - Temperature: 0.7113 - Hidden weights: 0.4386 - Output weights: 0.4868\n",
      "Epoch 218/500\n",
      "1/1 [==============================] - 0s 6ms/step - Error: 2.4653 - Temperature: 0.7114 - Hidden weights: 0.4381 - Output weights: 0.4859\n",
      "Epoch 219/500\n",
      "1/1 [==============================] - 0s 4ms/step - Error: 2.4665 - Temperature: 0.7115 - Hidden weights: 0.4377 - Output weights: 0.4851\n",
      "Epoch 220/500\n",
      "1/1 [==============================] - 0s 3ms/step - Error: 2.4677 - Temperature: 0.7116 - Hidden weights: 0.4372 - Output weights: 0.4842\n",
      "Epoch 221/500\n",
      "1/1 [==============================] - 0s 7ms/step - Error: 2.4690 - Temperature: 0.7117 - Hidden weights: 0.4368 - Output weights: 0.4833\n",
      "Epoch 222/500\n",
      "1/1 [==============================] - 0s 4ms/step - Error: 2.4702 - Temperature: 0.7118 - Hidden weights: 0.4363 - Output weights: 0.4824\n",
      "Epoch 223/500\n",
      "1/1 [==============================] - 0s 4ms/step - Error: 2.4714 - Temperature: 0.7119 - Hidden weights: 0.4358 - Output weights: 0.4815\n",
      "Epoch 224/500\n",
      "1/1 [==============================] - 0s 7ms/step - Error: 2.4727 - Temperature: 0.7120 - Hidden weights: 0.4354 - Output weights: 0.4806\n",
      "Epoch 225/500\n",
      "1/1 [==============================] - 0s 6ms/step - Error: 2.4740 - Temperature: 0.7121 - Hidden weights: 0.4349 - Output weights: 0.4797\n",
      "Epoch 226/500\n",
      "1/1 [==============================] - 0s 3ms/step - Error: 2.4752 - Temperature: 0.7123 - Hidden weights: 0.4344 - Output weights: 0.4787\n",
      "Epoch 227/500\n",
      "1/1 [==============================] - 0s 8ms/step - Error: 2.4765 - Temperature: 0.7124 - Hidden weights: 0.4339 - Output weights: 0.4778\n",
      "Epoch 228/500\n",
      "1/1 [==============================] - 0s 3ms/step - Error: 2.4778 - Temperature: 0.7125 - Hidden weights: 0.4334 - Output weights: 0.4768\n",
      "Epoch 229/500\n",
      "1/1 [==============================] - 0s 8ms/step - Error: 2.4791 - Temperature: 0.7126 - Hidden weights: 0.4329 - Output weights: 0.4758\n",
      "Epoch 230/500\n",
      "1/1 [==============================] - 0s 5ms/step - Error: 2.4804 - Temperature: 0.7127 - Hidden weights: 0.4324 - Output weights: 0.4749\n",
      "Epoch 231/500\n",
      "1/1 [==============================] - 0s 7ms/step - Error: 2.4818 - Temperature: 0.7128 - Hidden weights: 0.4319 - Output weights: 0.4739\n",
      "Epoch 232/500\n",
      "1/1 [==============================] - 0s 9ms/step - Error: 2.4831 - Temperature: 0.7129 - Hidden weights: 0.4314 - Output weights: 0.4728\n",
      "Epoch 233/500\n",
      "1/1 [==============================] - 0s 8ms/step - Error: 2.4844 - Temperature: 0.7130 - Hidden weights: 0.4309 - Output weights: 0.4718\n",
      "Epoch 234/500\n",
      "1/1 [==============================] - 0s 6ms/step - Error: 2.4858 - Temperature: 0.7131 - Hidden weights: 0.4304 - Output weights: 0.4708\n",
      "Epoch 235/500\n",
      "1/1 [==============================] - 0s 6ms/step - Error: 2.4871 - Temperature: 0.7132 - Hidden weights: 0.4298 - Output weights: 0.4697\n",
      "Epoch 236/500\n",
      "1/1 [==============================] - 0s 3ms/step - Error: 2.4885 - Temperature: 0.7133 - Hidden weights: 0.4293 - Output weights: 0.4686\n",
      "Epoch 237/500\n",
      "1/1 [==============================] - 0s 4ms/step - Error: 2.4899 - Temperature: 0.7135 - Hidden weights: 0.4287 - Output weights: 0.4675\n",
      "Epoch 238/500\n",
      "1/1 [==============================] - 0s 6ms/step - Error: 2.4913 - Temperature: 0.7136 - Hidden weights: 0.4282 - Output weights: 0.4664\n",
      "Epoch 239/500\n",
      "1/1 [==============================] - 0s 3ms/step - Error: 2.4926 - Temperature: 0.7137 - Hidden weights: 0.4276 - Output weights: 0.4653\n",
      "Epoch 240/500\n",
      "1/1 [==============================] - 0s 8ms/step - Error: 2.4940 - Temperature: 0.7138 - Hidden weights: 0.4270 - Output weights: 0.4642\n",
      "Epoch 241/500\n",
      "1/1 [==============================] - 0s 3ms/step - Error: 2.4955 - Temperature: 0.7139 - Hidden weights: 0.4264 - Output weights: 0.4630\n",
      "Epoch 242/500\n",
      "1/1 [==============================] - 0s 3ms/step - Error: 2.4969 - Temperature: 0.7140 - Hidden weights: 0.4258 - Output weights: 0.4618\n",
      "Epoch 243/500\n",
      "1/1 [==============================] - 0s 9ms/step - Error: 2.4983 - Temperature: 0.7141 - Hidden weights: 0.4252 - Output weights: 0.4606\n",
      "Epoch 244/500\n",
      "1/1 [==============================] - 0s 5ms/step - Error: 2.4997 - Temperature: 0.7143 - Hidden weights: 0.4246 - Output weights: 0.4594\n",
      "Epoch 245/500\n",
      "1/1 [==============================] - 0s 8ms/step - Error: 2.5012 - Temperature: 0.7144 - Hidden weights: 0.4240 - Output weights: 0.4582\n",
      "Epoch 246/500\n",
      "1/1 [==============================] - 0s 4ms/step - Error: 2.5026 - Temperature: 0.7145 - Hidden weights: 0.4234 - Output weights: 0.4569\n",
      "Epoch 247/500\n",
      "1/1 [==============================] - 0s 4ms/step - Error: 2.5041 - Temperature: 0.7146 - Hidden weights: 0.4228 - Output weights: 0.4557\n",
      "Epoch 248/500\n",
      "1/1 [==============================] - 0s 6ms/step - Error: 2.5055 - Temperature: 0.7147 - Hidden weights: 0.4221 - Output weights: 0.4544\n",
      "Epoch 249/500\n",
      "1/1 [==============================] - 0s 3ms/step - Error: 2.5070 - Temperature: 0.7149 - Hidden weights: 0.4215 - Output weights: 0.4530\n",
      "Epoch 250/500\n",
      "1/1 [==============================] - 0s 8ms/step - Error: 2.5084 - Temperature: 0.7150 - Hidden weights: 0.4208 - Output weights: 0.4517\n",
      "Epoch 251/500\n",
      "1/1 [==============================] - 0s 4ms/step - Error: 2.5099 - Temperature: 0.7151 - Hidden weights: 0.4201 - Output weights: 0.4503\n",
      "Epoch 252/500\n",
      "1/1 [==============================] - 0s 3ms/step - Error: 2.5114 - Temperature: 0.7152 - Hidden weights: 0.4194 - Output weights: 0.4489\n",
      "Epoch 253/500\n",
      "1/1 [==============================] - 0s 8ms/step - Error: 2.5129 - Temperature: 0.7153 - Hidden weights: 0.4187 - Output weights: 0.4475\n",
      "Epoch 254/500\n",
      "1/1 [==============================] - 0s 5ms/step - Error: 2.5144 - Temperature: 0.7155 - Hidden weights: 0.4180 - Output weights: 0.4461\n",
      "Epoch 255/500\n",
      "1/1 [==============================] - 0s 7ms/step - Error: 2.5158 - Temperature: 0.7156 - Hidden weights: 0.4173 - Output weights: 0.4446\n",
      "Epoch 256/500\n",
      "1/1 [==============================] - 0s 4ms/step - Error: 2.5173 - Temperature: 0.7157 - Hidden weights: 0.4166 - Output weights: 0.4431\n",
      "Epoch 257/500\n",
      "1/1 [==============================] - 0s 2ms/step - Error: 2.5188 - Temperature: 0.7158 - Hidden weights: 0.4158 - Output weights: 0.4416\n",
      "Epoch 258/500\n",
      "1/1 [==============================] - 0s 8ms/step - Error: 2.5203 - Temperature: 0.7159 - Hidden weights: 0.4151 - Output weights: 0.4400\n",
      "Epoch 259/500\n",
      "1/1 [==============================] - 0s 5ms/step - Error: 2.5218 - Temperature: 0.7161 - Hidden weights: 0.4143 - Output weights: 0.4384\n",
      "Epoch 260/500\n",
      "1/1 [==============================] - 0s 3ms/step - Error: 2.5232 - Temperature: 0.7162 - Hidden weights: 0.4135 - Output weights: 0.4368\n",
      "Epoch 261/500\n",
      "1/1 [==============================] - 0s 3ms/step - Error: 2.5247 - Temperature: 0.7163 - Hidden weights: 0.4127 - Output weights: 0.4351\n",
      "Epoch 262/500\n",
      "1/1 [==============================] - 0s 4ms/step - Error: 2.5262 - Temperature: 0.7164 - Hidden weights: 0.4119 - Output weights: 0.4334\n",
      "Epoch 263/500\n",
      "1/1 [==============================] - 0s 3ms/step - Error: 2.5276 - Temperature: 0.7165 - Hidden weights: 0.4111 - Output weights: 0.4317\n",
      "Epoch 264/500\n",
      "1/1 [==============================] - 0s 4ms/step - Error: 2.5291 - Temperature: 0.7166 - Hidden weights: 0.4102 - Output weights: 0.4299\n",
      "Epoch 265/500\n",
      "1/1 [==============================] - 0s 5ms/step - Error: 2.5305 - Temperature: 0.7168 - Hidden weights: 0.4093 - Output weights: 0.4281\n",
      "Epoch 266/500\n",
      "1/1 [==============================] - 0s 4ms/step - Error: 2.5319 - Temperature: 0.7169 - Hidden weights: 0.4085 - Output weights: 0.4262\n",
      "Epoch 267/500\n",
      "1/1 [==============================] - 0s 9ms/step - Error: 2.5333 - Temperature: 0.7170 - Hidden weights: 0.4076 - Output weights: 0.4243\n",
      "Epoch 268/500\n",
      "1/1 [==============================] - 0s 3ms/step - Error: 2.5346 - Temperature: 0.7171 - Hidden weights: 0.4066 - Output weights: 0.4224\n",
      "Epoch 269/500\n",
      "1/1 [==============================] - 0s 2ms/step - Error: 2.5360 - Temperature: 0.7172 - Hidden weights: 0.4057 - Output weights: 0.4204\n",
      "Epoch 270/500\n",
      "1/1 [==============================] - 0s 6ms/step - Error: 2.5373 - Temperature: 0.7173 - Hidden weights: 0.4047 - Output weights: 0.4183\n",
      "Epoch 271/500\n",
      "1/1 [==============================] - 0s 6ms/step - Error: 2.5385 - Temperature: 0.7174 - Hidden weights: 0.4037 - Output weights: 0.4162\n",
      "Epoch 272/500\n",
      "1/1 [==============================] - 0s 3ms/step - Error: 2.5397 - Temperature: 0.7175 - Hidden weights: 0.4027 - Output weights: 0.4141\n",
      "Epoch 273/500\n",
      "1/1 [==============================] - 0s 6ms/step - Error: 2.5409 - Temperature: 0.7176 - Hidden weights: 0.4017 - Output weights: 0.4118\n",
      "Epoch 274/500\n",
      "1/1 [==============================] - 0s 3ms/step - Error: 2.5420 - Temperature: 0.7177 - Hidden weights: 0.4007 - Output weights: 0.4096\n",
      "Epoch 275/500\n",
      "1/1 [==============================] - 0s 5ms/step - Error: 2.5431 - Temperature: 0.7178 - Hidden weights: 0.3996 - Output weights: 0.4072\n",
      "Epoch 276/500\n",
      "1/1 [==============================] - 0s 7ms/step - Error: 2.5441 - Temperature: 0.7178 - Hidden weights: 0.3985 - Output weights: 0.4048\n",
      "Epoch 277/500\n",
      "1/1 [==============================] - 0s 3ms/step - Error: 2.5450 - Temperature: 0.7179 - Hidden weights: 0.3973 - Output weights: 0.4023\n",
      "Epoch 278/500\n",
      "1/1 [==============================] - 0s 6ms/step - Error: 2.5458 - Temperature: 0.7180 - Hidden weights: 0.3962 - Output weights: 0.3998\n",
      "Epoch 279/500\n",
      "1/1 [==============================] - 0s 4ms/step - Error: 2.5465 - Temperature: 0.7180 - Hidden weights: 0.3950 - Output weights: 0.3971\n",
      "Epoch 280/500\n",
      "1/1 [==============================] - 0s 3ms/step - Error: 2.5470 - Temperature: 0.7181 - Hidden weights: 0.3937 - Output weights: 0.3944\n",
      "Epoch 281/500\n",
      "1/1 [==============================] - 0s 3ms/step - Error: 2.5475 - Temperature: 0.7181 - Hidden weights: 0.3925 - Output weights: 0.3916\n",
      "Epoch 282/500\n",
      "1/1 [==============================] - 0s 9ms/step - Error: 2.5477 - Temperature: 0.7181 - Hidden weights: 0.3912 - Output weights: 0.3887\n",
      "Epoch 283/500\n",
      "1/1 [==============================] - 0s 10ms/step - Error: 2.5478 - Temperature: 0.7181 - Hidden weights: 0.3898 - Output weights: 0.3856\n",
      "Epoch 284/500\n",
      "1/1 [==============================] - 0s 4ms/step - Error: 2.5477 - Temperature: 0.7181 - Hidden weights: 0.3884 - Output weights: 0.3825\n",
      "Epoch 285/500\n",
      "1/1 [==============================] - 0s 3ms/step - Error: 2.5474 - Temperature: 0.7181 - Hidden weights: 0.3870 - Output weights: 0.3792\n",
      "Epoch 286/500\n",
      "1/1 [==============================] - 0s 7ms/step - Error: 2.5468 - Temperature: 0.7181 - Hidden weights: 0.3855 - Output weights: 0.3759\n",
      "Epoch 287/500\n",
      "1/1 [==============================] - 0s 6ms/step - Error: 2.5459 - Temperature: 0.7180 - Hidden weights: 0.3840 - Output weights: 0.3723\n",
      "Epoch 288/500\n",
      "1/1 [==============================] - 0s 5ms/step - Error: 2.5446 - Temperature: 0.7179 - Hidden weights: 0.3824 - Output weights: 0.3687\n",
      "Epoch 289/500\n",
      "1/1 [==============================] - 0s 6ms/step - Error: 2.5429 - Temperature: 0.7177 - Hidden weights: 0.3808 - Output weights: 0.3649\n",
      "Epoch 290/500\n",
      "1/1 [==============================] - 0s 3ms/step - Error: 2.5407 - Temperature: 0.7176 - Hidden weights: 0.3791 - Output weights: 0.3609\n",
      "Epoch 291/500\n",
      "1/1 [==============================] - 0s 6ms/step - Error: 2.5380 - Temperature: 0.7174 - Hidden weights: 0.3773 - Output weights: 0.3567\n",
      "Epoch 292/500\n",
      "1/1 [==============================] - 0s 7ms/step - Error: 2.5347 - Temperature: 0.7171 - Hidden weights: 0.3755 - Output weights: 0.3523\n",
      "Epoch 293/500\n",
      "1/1 [==============================] - 0s 4ms/step - Error: 2.5306 - Temperature: 0.7168 - Hidden weights: 0.3736 - Output weights: 0.3477\n",
      "Epoch 294/500\n",
      "1/1 [==============================] - 0s 5ms/step - Error: 2.5256 - Temperature: 0.7164 - Hidden weights: 0.3716 - Output weights: 0.3429\n",
      "Epoch 295/500\n",
      "1/1 [==============================] - 0s 4ms/step - Error: 2.5195 - Temperature: 0.7159 - Hidden weights: 0.3695 - Output weights: 0.3377\n",
      "Epoch 296/500\n",
      "1/1 [==============================] - 0s 3ms/step - Error: 2.5122 - Temperature: 0.7153 - Hidden weights: 0.3673 - Output weights: 0.3323\n",
      "Epoch 297/500\n",
      "1/1 [==============================] - 0s 7ms/step - Error: 2.5034 - Temperature: 0.7146 - Hidden weights: 0.3650 - Output weights: 0.3266\n",
      "Epoch 298/500\n",
      "1/1 [==============================] - 0s 6ms/step - Error: 2.4928 - Temperature: 0.7137 - Hidden weights: 0.3626 - Output weights: 0.3205\n",
      "Epoch 299/500\n",
      "1/1 [==============================] - 0s 8ms/step - Error: 2.4799 - Temperature: 0.7126 - Hidden weights: 0.3601 - Output weights: 0.3139\n",
      "Epoch 300/500\n",
      "1/1 [==============================] - 0s 4ms/step - Error: 2.4644 - Temperature: 0.7113 - Hidden weights: 0.3574 - Output weights: 0.3069\n",
      "Epoch 301/500\n",
      "1/1 [==============================] - ETA: 0s - Error: 2.4455 - Temperature: 0.7098 - Hidden weights: 0.3546 - Output weights: 0.29 - 0s 3ms/step - Error: 2.4455 - Temperature: 0.7098 - Hidden weights: 0.3546 - Output weights: 0.2994\n",
      "Epoch 302/500\n",
      "1/1 [==============================] - 0s 11ms/step - Error: 2.4224 - Temperature: 0.7078 - Hidden weights: 0.3516 - Output weights: 0.2913\n",
      "Epoch 303/500\n",
      "1/1 [==============================] - 0s 4ms/step - Error: 2.3941 - Temperature: 0.7054 - Hidden weights: 0.3484 - Output weights: 0.2825\n",
      "Epoch 304/500\n",
      "1/1 [==============================] - 0s 8ms/step - Error: 2.3591 - Temperature: 0.7023 - Hidden weights: 0.3449 - Output weights: 0.2730\n",
      "Epoch 305/500\n",
      "1/1 [==============================] - 0s 4ms/step - Error: 2.3158 - Temperature: 0.6984 - Hidden weights: 0.3413 - Output weights: 0.2625\n",
      "Epoch 306/500\n",
      "1/1 [==============================] - 0s 3ms/step - Error: 2.2622 - Temperature: 0.6935 - Hidden weights: 0.3374 - Output weights: 0.2511\n",
      "Epoch 307/500\n",
      "1/1 [==============================] - 0s 7ms/step - Error: 2.1964 - Temperature: 0.6871 - Hidden weights: 0.3332 - Output weights: 0.2387\n",
      "Epoch 308/500\n",
      "1/1 [==============================] - 0s 3ms/step - Error: 2.1174 - Temperature: 0.6792 - Hidden weights: 0.3289 - Output weights: 0.2254\n",
      "Epoch 309/500\n",
      "1/1 [==============================] - 0s 7ms/step - Error: 2.0276 - Temperature: 0.6697 - Hidden weights: 0.3245 - Output weights: 0.2114\n",
      "Epoch 310/500\n",
      "1/1 [==============================] - ETA: 0s - Error: 1.9338 - Temperature: 0.6591 - Hidden weights: 0.3202 - Output weights: 0.19 - 0s 4ms/step - Error: 1.9338 - Temperature: 0.6591 - Hidden weights: 0.3202 - Output weights: 0.1971\n",
      "Epoch 311/500\n",
      "1/1 [==============================] - 0s 3ms/step - Error: 1.8450 - Temperature: 0.6485 - Hidden weights: 0.3162 - Output weights: 0.1832\n",
      "Epoch 312/500\n",
      "1/1 [==============================] - 0s 7ms/step - Error: 1.7641 - Temperature: 0.6382 - Hidden weights: 0.3126 - Output weights: 0.1698\n",
      "Epoch 313/500\n",
      "1/1 [==============================] - 0s 4ms/step - Error: 1.6841 - Temperature: 0.6274 - Hidden weights: 0.3092 - Output weights: 0.1567\n",
      "Epoch 314/500\n",
      "1/1 [==============================] - 0s 4ms/step - Error: 1.5975 - Temperature: 0.6150 - Hidden weights: 0.3061 - Output weights: 0.1438\n",
      "Epoch 315/500\n",
      "1/1 [==============================] - 0s 8ms/step - Error: 1.5051 - Temperature: 0.6008 - Hidden weights: 0.3032 - Output weights: 0.1312\n",
      "Epoch 316/500\n",
      "1/1 [==============================] - 0s 4ms/step - Error: 1.4166 - Temperature: 0.5862 - Hidden weights: 0.3007 - Output weights: 0.1194\n",
      "Epoch 317/500\n",
      "1/1 [==============================] - 0s 3ms/step - Error: 1.3438 - Temperature: 0.5733 - Hidden weights: 0.2986 - Output weights: 0.1090\n",
      "Epoch 318/500\n",
      "1/1 [==============================] - 0s 6ms/step - Error: 1.2908 - Temperature: 0.5635 - Hidden weights: 0.2970 - Output weights: 0.1002\n",
      "Epoch 319/500\n",
      "1/1 [==============================] - 0s 5ms/step - Error: 1.2487 - Temperature: 0.5553 - Hidden weights: 0.2956 - Output weights: 0.0927\n",
      "Epoch 320/500\n",
      "1/1 [==============================] - 0s 3ms/step - Error: 1.2027 - Temperature: 0.5460 - Hidden weights: 0.2944 - Output weights: 0.0856\n",
      "Epoch 321/500\n",
      "1/1 [==============================] - 0s 9ms/step - Error: 1.1424 - Temperature: 0.5332 - Hidden weights: 0.2932 - Output weights: 0.0782\n",
      "Epoch 322/500\n",
      "1/1 [==============================] - 0s 3ms/step - Error: 1.0604 - Temperature: 0.5147 - Hidden weights: 0.2920 - Output weights: 0.0701\n",
      "Epoch 323/500\n",
      "1/1 [==============================] - 0s 8ms/step - Error: 0.9488 - Temperature: 0.4869 - Hidden weights: 0.2908 - Output weights: 0.0614\n",
      "Epoch 324/500\n",
      "1/1 [==============================] - 0s 5ms/step - Error: 0.8052 - Temperature: 0.4460 - Hidden weights: 0.2897 - Output weights: 0.0526\n",
      "Epoch 325/500\n",
      "1/1 [==============================] - 0s 8ms/step - Error: 0.6602 - Temperature: 0.3977 - Hidden weights: 0.2888 - Output weights: 0.0454\n",
      "Epoch 326/500\n",
      "1/1 [==============================] - 0s 5ms/step - Error: 0.5269 - Temperature: 0.3451 - Hidden weights: 0.2881 - Output weights: 0.0397\n",
      "Epoch 327/500\n",
      "1/1 [==============================] - 0s 6ms/step - Error: 0.3500 - Temperature: 0.2593 - Hidden weights: 0.2878 - Output weights: 0.0369\n",
      "Epoch 328/500\n",
      "1/1 [==============================] - 0s 5ms/step - Error: 0.2588 - Temperature: 0.2056 - Hidden weights: 0.2878 - Output weights: 0.0380\n",
      "Epoch 329/500\n",
      "1/1 [==============================] - 0s 4ms/step - Error: 0.2148 - Temperature: 0.1768 - Hidden weights: 0.2879 - Output weights: 0.0387\n",
      "Epoch 330/500\n",
      "1/1 [==============================] - 0s 5ms/step - Error: 0.1845 - Temperature: 0.1557 - Hidden weights: 0.2879 - Output weights: 0.0392\n",
      "Epoch 331/500\n",
      "1/1 [==============================] - 0s 6ms/step - Error: 0.1588 - Temperature: 0.1370 - Hidden weights: 0.2879 - Output weights: 0.0395\n",
      "Epoch 332/500\n",
      "1/1 [==============================] - 0s 3ms/step - Error: 0.1335 - Temperature: 0.1178 - Hidden weights: 0.2879 - Output weights: 0.0400\n",
      "Epoch 333/500\n",
      "1/1 [==============================] - 0s 3ms/step - Error: 0.1053 - Temperature: 0.0952 - Hidden weights: 0.2879 - Output weights: 0.0396\n",
      "Epoch 334/500\n",
      "1/1 [==============================] - 0s 6ms/step - Error: 0.0733 - Temperature: 0.0683 - Hidden weights: 0.2880 - Output weights: 0.0411\n",
      "Epoch 335/500\n",
      "1/1 [==============================] - 0s 4ms/step - Error: 0.0549 - Temperature: 0.0520 - Hidden weights: 0.2879 - Output weights: 0.0392\n",
      "Epoch 336/500\n",
      "1/1 [==============================] - 0s 6ms/step - Error: 0.0309 - Temperature: 0.0300 - Hidden weights: 0.2880 - Output weights: 0.0421\n",
      "Epoch 337/500\n",
      "1/1 [==============================] - 0s 5ms/step - Error: 0.0022 - Temperature: 0.0022 - Hidden weights: 0.2880 - Output weights: 0.0420\n",
      "Epoch 338/500\n",
      "1/1 [==============================] - 0s 3ms/step - Error: 0.0000e+00 - Temperature: 0.0000e+00 - Hidden weights: 0.2880 - Output weights: 0.0420\n",
      "Epoch 339/500\n",
      "1/1 [==============================] - 0s 5ms/step - Error: 0.0000e+00 - Temperature: 0.0000e+00 - Hidden weights: 0.2880 - Output weights: 0.0420\n",
      "Epoch 340/500\n",
      "1/1 [==============================] - 0s 6ms/step - Error: 0.0000e+00 - Temperature: 0.0000e+00 - Hidden weights: 0.2880 - Output weights: 0.0420\n",
      "Epoch 341/500\n",
      "1/1 [==============================] - 0s 4ms/step - Error: 0.0000e+00 - Temperature: 0.0000e+00 - Hidden weights: 0.2880 - Output weights: 0.0420\n",
      "Epoch 342/500\n",
      "1/1 [==============================] - 0s 7ms/step - Error: 0.0000e+00 - Temperature: 0.0000e+00 - Hidden weights: 0.2880 - Output weights: 0.0420\n",
      "Epoch 343/500\n",
      "1/1 [==============================] - 0s 4ms/step - Error: 0.0000e+00 - Temperature: 0.0000e+00 - Hidden weights: 0.2880 - Output weights: 0.0420\n",
      "Epoch 344/500\n",
      "1/1 [==============================] - 0s 4ms/step - Error: 0.0000e+00 - Temperature: 0.0000e+00 - Hidden weights: 0.2880 - Output weights: 0.0420\n",
      "Epoch 345/500\n",
      "1/1 [==============================] - 0s 7ms/step - Error: 0.0000e+00 - Temperature: 0.0000e+00 - Hidden weights: 0.2880 - Output weights: 0.0420\n",
      "Epoch 346/500\n",
      "1/1 [==============================] - 0s 4ms/step - Error: 0.0000e+00 - Temperature: 0.0000e+00 - Hidden weights: 0.2880 - Output weights: 0.0420\n",
      "Epoch 347/500\n",
      "1/1 [==============================] - 0s 9ms/step - Error: 0.0000e+00 - Temperature: 0.0000e+00 - Hidden weights: 0.2880 - Output weights: 0.0420\n",
      "Epoch 348/500\n",
      "1/1 [==============================] - 0s 4ms/step - Error: 0.0000e+00 - Temperature: 0.0000e+00 - Hidden weights: 0.2880 - Output weights: 0.0420\n",
      "Epoch 349/500\n",
      "1/1 [==============================] - 0s 3ms/step - Error: 0.0000e+00 - Temperature: 0.0000e+00 - Hidden weights: 0.2880 - Output weights: 0.0420\n",
      "Epoch 350/500\n",
      "1/1 [==============================] - 0s 8ms/step - Error: 0.0000e+00 - Temperature: 0.0000e+00 - Hidden weights: 0.2880 - Output weights: 0.0420\n",
      "Epoch 351/500\n",
      "1/1 [==============================] - 0s 4ms/step - Error: 0.0000e+00 - Temperature: 0.0000e+00 - Hidden weights: 0.2880 - Output weights: 0.0420\n",
      "Epoch 352/500\n",
      "1/1 [==============================] - 0s 7ms/step - Error: 0.0000e+00 - Temperature: 0.0000e+00 - Hidden weights: 0.2880 - Output weights: 0.0420\n",
      "Epoch 353/500\n",
      "1/1 [==============================] - 0s 3ms/step - Error: 0.0000e+00 - Temperature: 0.0000e+00 - Hidden weights: 0.2880 - Output weights: 0.0420\n",
      "Epoch 354/500\n",
      "1/1 [==============================] - 0s 2ms/step - Error: 0.0000e+00 - Temperature: 0.0000e+00 - Hidden weights: 0.2880 - Output weights: 0.0420\n",
      "Epoch 355/500\n",
      "1/1 [==============================] - 0s 3ms/step - Error: 0.0000e+00 - Temperature: 0.0000e+00 - Hidden weights: 0.2880 - Output weights: 0.0420\n",
      "Epoch 356/500\n",
      "1/1 [==============================] - 0s 9ms/step - Error: 0.0000e+00 - Temperature: 0.0000e+00 - Hidden weights: 0.2880 - Output weights: 0.0420\n",
      "Epoch 357/500\n",
      "1/1 [==============================] - 0s 4ms/step - Error: 0.0000e+00 - Temperature: 0.0000e+00 - Hidden weights: 0.2880 - Output weights: 0.0420\n",
      "Epoch 358/500\n",
      "1/1 [==============================] - 0s 6ms/step - Error: 0.0000e+00 - Temperature: 0.0000e+00 - Hidden weights: 0.2880 - Output weights: 0.0420\n",
      "Epoch 359/500\n",
      "1/1 [==============================] - 0s 4ms/step - Error: 0.0000e+00 - Temperature: 0.0000e+00 - Hidden weights: 0.2880 - Output weights: 0.0420\n",
      "Epoch 360/500\n",
      "1/1 [==============================] - 0s 4ms/step - Error: 0.0000e+00 - Temperature: 0.0000e+00 - Hidden weights: 0.2880 - Output weights: 0.0420\n",
      "Epoch 361/500\n",
      "1/1 [==============================] - 0s 2ms/step - Error: 0.0000e+00 - Temperature: 0.0000e+00 - Hidden weights: 0.2880 - Output weights: 0.0420\n",
      "Epoch 362/500\n",
      "1/1 [==============================] - 0s 5ms/step - Error: 0.0000e+00 - Temperature: 0.0000e+00 - Hidden weights: 0.2880 - Output weights: 0.0420\n",
      "Epoch 363/500\n",
      "1/1 [==============================] - 0s 4ms/step - Error: 0.0000e+00 - Temperature: 0.0000e+00 - Hidden weights: 0.2880 - Output weights: 0.0420\n",
      "Epoch 364/500\n",
      "1/1 [==============================] - 0s 3ms/step - Error: 0.0000e+00 - Temperature: 0.0000e+00 - Hidden weights: 0.2880 - Output weights: 0.0420\n",
      "Epoch 365/500\n",
      "1/1 [==============================] - 0s 8ms/step - Error: 0.0000e+00 - Temperature: 0.0000e+00 - Hidden weights: 0.2880 - Output weights: 0.0420\n",
      "Epoch 366/500\n",
      "1/1 [==============================] - 0s 3ms/step - Error: 0.0000e+00 - Temperature: 0.0000e+00 - Hidden weights: 0.2880 - Output weights: 0.0420\n",
      "Epoch 367/500\n",
      "1/1 [==============================] - 0s 3ms/step - Error: 0.0000e+00 - Temperature: 0.0000e+00 - Hidden weights: 0.2880 - Output weights: 0.0420\n",
      "Epoch 368/500\n",
      "1/1 [==============================] - 0s 2ms/step - Error: 0.0000e+00 - Temperature: 0.0000e+00 - Hidden weights: 0.2880 - Output weights: 0.0420\n",
      "Epoch 369/500\n",
      "1/1 [==============================] - 0s 7ms/step - Error: 0.0000e+00 - Temperature: 0.0000e+00 - Hidden weights: 0.2880 - Output weights: 0.0420\n",
      "Epoch 370/500\n",
      "1/1 [==============================] - 0s 3ms/step - Error: 0.0000e+00 - Temperature: 0.0000e+00 - Hidden weights: 0.2880 - Output weights: 0.0420\n",
      "Epoch 371/500\n",
      "1/1 [==============================] - 0s 5ms/step - Error: 0.0000e+00 - Temperature: 0.0000e+00 - Hidden weights: 0.2880 - Output weights: 0.0420\n",
      "Epoch 372/500\n",
      "1/1 [==============================] - 0s 5ms/step - Error: 0.0000e+00 - Temperature: 0.0000e+00 - Hidden weights: 0.2880 - Output weights: 0.0420\n",
      "Epoch 373/500\n",
      "1/1 [==============================] - 0s 3ms/step - Error: 0.0000e+00 - Temperature: 0.0000e+00 - Hidden weights: 0.2880 - Output weights: 0.0420\n",
      "Epoch 374/500\n",
      "1/1 [==============================] - 0s 3ms/step - Error: 0.0000e+00 - Temperature: 0.0000e+00 - Hidden weights: 0.2880 - Output weights: 0.0420\n",
      "Epoch 375/500\n",
      "1/1 [==============================] - 0s 7ms/step - Error: 0.0000e+00 - Temperature: 0.0000e+00 - Hidden weights: 0.2880 - Output weights: 0.0420\n",
      "Epoch 376/500\n",
      "1/1 [==============================] - 0s 4ms/step - Error: 0.0000e+00 - Temperature: 0.0000e+00 - Hidden weights: 0.2880 - Output weights: 0.0420\n",
      "Epoch 377/500\n",
      "1/1 [==============================] - 0s 7ms/step - Error: 0.0000e+00 - Temperature: 0.0000e+00 - Hidden weights: 0.2880 - Output weights: 0.0420\n",
      "Epoch 378/500\n",
      "1/1 [==============================] - 0s 4ms/step - Error: 0.0000e+00 - Temperature: 0.0000e+00 - Hidden weights: 0.2880 - Output weights: 0.0420\n",
      "Epoch 379/500\n",
      "1/1 [==============================] - 0s 3ms/step - Error: 0.0000e+00 - Temperature: 0.0000e+00 - Hidden weights: 0.2880 - Output weights: 0.0420\n",
      "Epoch 380/500\n",
      "1/1 [==============================] - 0s 7ms/step - Error: 0.0000e+00 - Temperature: 0.0000e+00 - Hidden weights: 0.2880 - Output weights: 0.0420\n",
      "Epoch 381/500\n",
      "1/1 [==============================] - 0s 4ms/step - Error: 0.0000e+00 - Temperature: 0.0000e+00 - Hidden weights: 0.2880 - Output weights: 0.0420\n",
      "Epoch 382/500\n",
      "1/1 [==============================] - 0s 3ms/step - Error: 0.0000e+00 - Temperature: 0.0000e+00 - Hidden weights: 0.2880 - Output weights: 0.0420\n",
      "Epoch 383/500\n",
      "1/1 [==============================] - 0s 7ms/step - Error: 0.0000e+00 - Temperature: 0.0000e+00 - Hidden weights: 0.2880 - Output weights: 0.0420\n",
      "Epoch 384/500\n",
      "1/1 [==============================] - 0s 5ms/step - Error: 0.0000e+00 - Temperature: 0.0000e+00 - Hidden weights: 0.2880 - Output weights: 0.0420\n",
      "Epoch 385/500\n",
      "1/1 [==============================] - 0s 5ms/step - Error: 0.0000e+00 - Temperature: 0.0000e+00 - Hidden weights: 0.2880 - Output weights: 0.0420\n",
      "Epoch 386/500\n",
      "1/1 [==============================] - 0s 10ms/step - Error: 0.0000e+00 - Temperature: 0.0000e+00 - Hidden weights: 0.2880 - Output weights: 0.0420\n",
      "Epoch 387/500\n",
      "1/1 [==============================] - 0s 3ms/step - Error: 0.0000e+00 - Temperature: 0.0000e+00 - Hidden weights: 0.2880 - Output weights: 0.0420\n",
      "Epoch 388/500\n",
      "1/1 [==============================] - 0s 9ms/step - Error: 0.0000e+00 - Temperature: 0.0000e+00 - Hidden weights: 0.2880 - Output weights: 0.0420\n",
      "Epoch 389/500\n",
      "1/1 [==============================] - 0s 4ms/step - Error: 0.0000e+00 - Temperature: 0.0000e+00 - Hidden weights: 0.2880 - Output weights: 0.0420\n",
      "Epoch 390/500\n",
      "1/1 [==============================] - 0s 2ms/step - Error: 0.0000e+00 - Temperature: 0.0000e+00 - Hidden weights: 0.2880 - Output weights: 0.0420\n",
      "Epoch 391/500\n",
      "1/1 [==============================] - 0s 5ms/step - Error: 0.0000e+00 - Temperature: 0.0000e+00 - Hidden weights: 0.2880 - Output weights: 0.0420\n",
      "Epoch 392/500\n",
      "1/1 [==============================] - 0s 4ms/step - Error: 0.0000e+00 - Temperature: 0.0000e+00 - Hidden weights: 0.2880 - Output weights: 0.0420\n",
      "Epoch 393/500\n",
      "1/1 [==============================] - 0s 5ms/step - Error: 0.0000e+00 - Temperature: 0.0000e+00 - Hidden weights: 0.2880 - Output weights: 0.0420\n",
      "Epoch 394/500\n",
      "1/1 [==============================] - 0s 7ms/step - Error: 0.0000e+00 - Temperature: 0.0000e+00 - Hidden weights: 0.2880 - Output weights: 0.0420\n",
      "Epoch 395/500\n",
      "1/1 [==============================] - 0s 4ms/step - Error: 0.0000e+00 - Temperature: 0.0000e+00 - Hidden weights: 0.2880 - Output weights: 0.0420\n",
      "Epoch 396/500\n",
      "1/1 [==============================] - 0s 3ms/step - Error: 0.0000e+00 - Temperature: 0.0000e+00 - Hidden weights: 0.2880 - Output weights: 0.0420\n",
      "Epoch 397/500\n",
      "1/1 [==============================] - 0s 8ms/step - Error: 0.0000e+00 - Temperature: 0.0000e+00 - Hidden weights: 0.2880 - Output weights: 0.0420\n",
      "Epoch 398/500\n",
      "1/1 [==============================] - 0s 5ms/step - Error: 0.0000e+00 - Temperature: 0.0000e+00 - Hidden weights: 0.2880 - Output weights: 0.0420\n",
      "Epoch 399/500\n",
      "1/1 [==============================] - 0s 5ms/step - Error: 0.0000e+00 - Temperature: 0.0000e+00 - Hidden weights: 0.2880 - Output weights: 0.0420\n",
      "Epoch 400/500\n",
      "1/1 [==============================] - 0s 5ms/step - Error: 0.0000e+00 - Temperature: 0.0000e+00 - Hidden weights: 0.2880 - Output weights: 0.0420\n",
      "Epoch 401/500\n",
      "1/1 [==============================] - 0s 4ms/step - Error: 0.0000e+00 - Temperature: 0.0000e+00 - Hidden weights: 0.2880 - Output weights: 0.0420\n",
      "Epoch 402/500\n",
      "1/1 [==============================] - 0s 2ms/step - Error: 0.0000e+00 - Temperature: 0.0000e+00 - Hidden weights: 0.2880 - Output weights: 0.0420\n",
      "Epoch 403/500\n",
      "1/1 [==============================] - 0s 5ms/step - Error: 0.0000e+00 - Temperature: 0.0000e+00 - Hidden weights: 0.2880 - Output weights: 0.0420\n",
      "Epoch 404/500\n",
      "1/1 [==============================] - 0s 5ms/step - Error: 0.0000e+00 - Temperature: 0.0000e+00 - Hidden weights: 0.2880 - Output weights: 0.0420\n",
      "Epoch 405/500\n",
      "1/1 [==============================] - 0s 3ms/step - Error: 0.0000e+00 - Temperature: 0.0000e+00 - Hidden weights: 0.2880 - Output weights: 0.0420\n",
      "Epoch 406/500\n",
      "1/1 [==============================] - 0s 5ms/step - Error: 0.0000e+00 - Temperature: 0.0000e+00 - Hidden weights: 0.2880 - Output weights: 0.0420\n",
      "Epoch 407/500\n",
      "1/1 [==============================] - 0s 3ms/step - Error: 0.0000e+00 - Temperature: 0.0000e+00 - Hidden weights: 0.2880 - Output weights: 0.0420\n",
      "Epoch 408/500\n",
      "1/1 [==============================] - 0s 4ms/step - Error: 0.0000e+00 - Temperature: 0.0000e+00 - Hidden weights: 0.2880 - Output weights: 0.0420\n",
      "Epoch 409/500\n",
      "1/1 [==============================] - 0s 10ms/step - Error: 0.0000e+00 - Temperature: 0.0000e+00 - Hidden weights: 0.2880 - Output weights: 0.0420\n",
      "Epoch 410/500\n",
      "1/1 [==============================] - 0s 4ms/step - Error: 0.0000e+00 - Temperature: 0.0000e+00 - Hidden weights: 0.2880 - Output weights: 0.0420\n",
      "Epoch 411/500\n",
      "1/1 [==============================] - 0s 6ms/step - Error: 0.0000e+00 - Temperature: 0.0000e+00 - Hidden weights: 0.2880 - Output weights: 0.0420\n",
      "Epoch 412/500\n",
      "1/1 [==============================] - 0s 4ms/step - Error: 0.0000e+00 - Temperature: 0.0000e+00 - Hidden weights: 0.2880 - Output weights: 0.0420\n",
      "Epoch 413/500\n",
      "1/1 [==============================] - 0s 3ms/step - Error: 0.0000e+00 - Temperature: 0.0000e+00 - Hidden weights: 0.2880 - Output weights: 0.0420\n",
      "Epoch 414/500\n",
      "1/1 [==============================] - 0s 4ms/step - Error: 0.0000e+00 - Temperature: 0.0000e+00 - Hidden weights: 0.2880 - Output weights: 0.0420\n",
      "Epoch 415/500\n",
      "1/1 [==============================] - 0s 7ms/step - Error: 0.0000e+00 - Temperature: 0.0000e+00 - Hidden weights: 0.2880 - Output weights: 0.0420\n",
      "Epoch 416/500\n",
      "1/1 [==============================] - 0s 5ms/step - Error: 0.0000e+00 - Temperature: 0.0000e+00 - Hidden weights: 0.2880 - Output weights: 0.0420\n",
      "Epoch 417/500\n",
      "1/1 [==============================] - 0s 4ms/step - Error: 0.0000e+00 - Temperature: 0.0000e+00 - Hidden weights: 0.2880 - Output weights: 0.0420\n",
      "Epoch 418/500\n",
      "1/1 [==============================] - 0s 9ms/step - Error: 0.0000e+00 - Temperature: 0.0000e+00 - Hidden weights: 0.2880 - Output weights: 0.0420\n",
      "Epoch 419/500\n",
      "1/1 [==============================] - 0s 7ms/step - Error: 0.0000e+00 - Temperature: 0.0000e+00 - Hidden weights: 0.2880 - Output weights: 0.0420\n",
      "Epoch 420/500\n",
      "1/1 [==============================] - 0s 5ms/step - Error: 0.0000e+00 - Temperature: 0.0000e+00 - Hidden weights: 0.2880 - Output weights: 0.0420\n",
      "Epoch 421/500\n",
      "1/1 [==============================] - 0s 11ms/step - Error: 0.0000e+00 - Temperature: 0.0000e+00 - Hidden weights: 0.2880 - Output weights: 0.0420\n",
      "Epoch 422/500\n",
      "1/1 [==============================] - 0s 4ms/step - Error: 0.0000e+00 - Temperature: 0.0000e+00 - Hidden weights: 0.2880 - Output weights: 0.0420\n",
      "Epoch 423/500\n",
      "1/1 [==============================] - 0s 16ms/step - Error: 0.0000e+00 - Temperature: 0.0000e+00 - Hidden weights: 0.2880 - Output weights: 0.0420\n",
      "Epoch 424/500\n",
      "1/1 [==============================] - 0s 5ms/step - Error: 0.0000e+00 - Temperature: 0.0000e+00 - Hidden weights: 0.2880 - Output weights: 0.0420\n",
      "Epoch 425/500\n",
      "1/1 [==============================] - 0s 5ms/step - Error: 0.0000e+00 - Temperature: 0.0000e+00 - Hidden weights: 0.2880 - Output weights: 0.0420\n",
      "Epoch 426/500\n",
      "1/1 [==============================] - 0s 6ms/step - Error: 0.0000e+00 - Temperature: 0.0000e+00 - Hidden weights: 0.2880 - Output weights: 0.0420\n",
      "Epoch 427/500\n",
      "1/1 [==============================] - 0s 7ms/step - Error: 0.0000e+00 - Temperature: 0.0000e+00 - Hidden weights: 0.2880 - Output weights: 0.0420\n",
      "Epoch 428/500\n",
      "1/1 [==============================] - 0s 9ms/step - Error: 0.0000e+00 - Temperature: 0.0000e+00 - Hidden weights: 0.2880 - Output weights: 0.0420\n",
      "Epoch 429/500\n",
      "1/1 [==============================] - 0s 4ms/step - Error: 0.0000e+00 - Temperature: 0.0000e+00 - Hidden weights: 0.2880 - Output weights: 0.0420\n",
      "Epoch 430/500\n",
      "1/1 [==============================] - 0s 2ms/step - Error: 0.0000e+00 - Temperature: 0.0000e+00 - Hidden weights: 0.2880 - Output weights: 0.0420\n",
      "Epoch 431/500\n",
      "1/1 [==============================] - 0s 13ms/step - Error: 0.0000e+00 - Temperature: 0.0000e+00 - Hidden weights: 0.2880 - Output weights: 0.0420\n",
      "Epoch 432/500\n",
      "1/1 [==============================] - 0s 7ms/step - Error: 0.0000e+00 - Temperature: 0.0000e+00 - Hidden weights: 0.2880 - Output weights: 0.0420\n",
      "Epoch 433/500\n",
      "1/1 [==============================] - 0s 5ms/step - Error: 0.0000e+00 - Temperature: 0.0000e+00 - Hidden weights: 0.2880 - Output weights: 0.0420\n",
      "Epoch 434/500\n",
      "1/1 [==============================] - 0s 3ms/step - Error: 0.0000e+00 - Temperature: 0.0000e+00 - Hidden weights: 0.2880 - Output weights: 0.0420\n",
      "Epoch 435/500\n",
      "1/1 [==============================] - 0s 4ms/step - Error: 0.0000e+00 - Temperature: 0.0000e+00 - Hidden weights: 0.2880 - Output weights: 0.0420\n",
      "Epoch 436/500\n",
      "1/1 [==============================] - 0s 6ms/step - Error: 0.0000e+00 - Temperature: 0.0000e+00 - Hidden weights: 0.2880 - Output weights: 0.0420\n",
      "Epoch 437/500\n",
      "1/1 [==============================] - 0s 5ms/step - Error: 0.0000e+00 - Temperature: 0.0000e+00 - Hidden weights: 0.2880 - Output weights: 0.0420\n",
      "Epoch 438/500\n",
      "1/1 [==============================] - 0s 5ms/step - Error: 0.0000e+00 - Temperature: 0.0000e+00 - Hidden weights: 0.2880 - Output weights: 0.0420\n",
      "Epoch 439/500\n",
      "1/1 [==============================] - 0s 4ms/step - Error: 0.0000e+00 - Temperature: 0.0000e+00 - Hidden weights: 0.2880 - Output weights: 0.0420\n",
      "Epoch 440/500\n",
      "1/1 [==============================] - 0s 2ms/step - Error: 0.0000e+00 - Temperature: 0.0000e+00 - Hidden weights: 0.2880 - Output weights: 0.0420\n",
      "Epoch 441/500\n",
      "1/1 [==============================] - 0s 2ms/step - Error: 0.0000e+00 - Temperature: 0.0000e+00 - Hidden weights: 0.2880 - Output weights: 0.0420\n",
      "Epoch 442/500\n",
      "1/1 [==============================] - 0s 2ms/step - Error: 0.0000e+00 - Temperature: 0.0000e+00 - Hidden weights: 0.2880 - Output weights: 0.0420\n",
      "Epoch 443/500\n",
      "1/1 [==============================] - 0s 6ms/step - Error: 0.0000e+00 - Temperature: 0.0000e+00 - Hidden weights: 0.2880 - Output weights: 0.0420\n",
      "Epoch 444/500\n",
      "1/1 [==============================] - 0s 4ms/step - Error: 0.0000e+00 - Temperature: 0.0000e+00 - Hidden weights: 0.2880 - Output weights: 0.0420\n",
      "Epoch 445/500\n",
      "1/1 [==============================] - 0s 3ms/step - Error: 0.0000e+00 - Temperature: 0.0000e+00 - Hidden weights: 0.2880 - Output weights: 0.0420\n",
      "Epoch 446/500\n",
      "1/1 [==============================] - 0s 7ms/step - Error: 0.0000e+00 - Temperature: 0.0000e+00 - Hidden weights: 0.2880 - Output weights: 0.0420\n",
      "Epoch 447/500\n",
      "1/1 [==============================] - 0s 3ms/step - Error: 0.0000e+00 - Temperature: 0.0000e+00 - Hidden weights: 0.2880 - Output weights: 0.0420\n",
      "Epoch 448/500\n",
      "1/1 [==============================] - 0s 2ms/step - Error: 0.0000e+00 - Temperature: 0.0000e+00 - Hidden weights: 0.2880 - Output weights: 0.0420\n",
      "Epoch 449/500\n",
      "1/1 [==============================] - 0s 2ms/step - Error: 0.0000e+00 - Temperature: 0.0000e+00 - Hidden weights: 0.2880 - Output weights: 0.0420\n",
      "Epoch 450/500\n",
      "1/1 [==============================] - 0s 8ms/step - Error: 0.0000e+00 - Temperature: 0.0000e+00 - Hidden weights: 0.2880 - Output weights: 0.0420\n",
      "Epoch 451/500\n",
      "1/1 [==============================] - 0s 4ms/step - Error: 0.0000e+00 - Temperature: 0.0000e+00 - Hidden weights: 0.2880 - Output weights: 0.0420\n",
      "Epoch 452/500\n",
      "1/1 [==============================] - 0s 2ms/step - Error: 0.0000e+00 - Temperature: 0.0000e+00 - Hidden weights: 0.2880 - Output weights: 0.0420\n",
      "Epoch 453/500\n",
      "1/1 [==============================] - 0s 6ms/step - Error: 0.0000e+00 - Temperature: 0.0000e+00 - Hidden weights: 0.2880 - Output weights: 0.0420\n",
      "Epoch 454/500\n",
      "1/1 [==============================] - 0s 3ms/step - Error: 0.0000e+00 - Temperature: 0.0000e+00 - Hidden weights: 0.2880 - Output weights: 0.0420\n",
      "Epoch 455/500\n",
      "1/1 [==============================] - 0s 2ms/step - Error: 0.0000e+00 - Temperature: 0.0000e+00 - Hidden weights: 0.2880 - Output weights: 0.0420\n",
      "Epoch 456/500\n",
      "1/1 [==============================] - 0s 2ms/step - Error: 0.0000e+00 - Temperature: 0.0000e+00 - Hidden weights: 0.2880 - Output weights: 0.0420\n",
      "Epoch 457/500\n",
      "1/1 [==============================] - 0s 7ms/step - Error: 0.0000e+00 - Temperature: 0.0000e+00 - Hidden weights: 0.2880 - Output weights: 0.0420\n",
      "Epoch 458/500\n",
      "1/1 [==============================] - 0s 3ms/step - Error: 0.0000e+00 - Temperature: 0.0000e+00 - Hidden weights: 0.2880 - Output weights: 0.0420\n",
      "Epoch 459/500\n",
      "1/1 [==============================] - 0s 3ms/step - Error: 0.0000e+00 - Temperature: 0.0000e+00 - Hidden weights: 0.2880 - Output weights: 0.0420\n",
      "Epoch 460/500\n",
      "1/1 [==============================] - 0s 5ms/step - Error: 0.0000e+00 - Temperature: 0.0000e+00 - Hidden weights: 0.2880 - Output weights: 0.0420\n",
      "Epoch 461/500\n",
      "1/1 [==============================] - 0s 5ms/step - Error: 0.0000e+00 - Temperature: 0.0000e+00 - Hidden weights: 0.2880 - Output weights: 0.0420\n",
      "Epoch 462/500\n",
      "1/1 [==============================] - 0s 3ms/step - Error: 0.0000e+00 - Temperature: 0.0000e+00 - Hidden weights: 0.2880 - Output weights: 0.0420\n",
      "Epoch 463/500\n",
      "1/1 [==============================] - 0s 10ms/step - Error: 0.0000e+00 - Temperature: 0.0000e+00 - Hidden weights: 0.2880 - Output weights: 0.0420\n",
      "Epoch 464/500\n",
      "1/1 [==============================] - 0s 7ms/step - Error: 0.0000e+00 - Temperature: 0.0000e+00 - Hidden weights: 0.2880 - Output weights: 0.0420\n",
      "Epoch 465/500\n",
      "1/1 [==============================] - 0s 5ms/step - Error: 0.0000e+00 - Temperature: 0.0000e+00 - Hidden weights: 0.2880 - Output weights: 0.0420\n",
      "Epoch 466/500\n",
      "1/1 [==============================] - 0s 6ms/step - Error: 0.0000e+00 - Temperature: 0.0000e+00 - Hidden weights: 0.2880 - Output weights: 0.0420\n",
      "Epoch 467/500\n",
      "1/1 [==============================] - 0s 3ms/step - Error: 0.0000e+00 - Temperature: 0.0000e+00 - Hidden weights: 0.2880 - Output weights: 0.0420\n",
      "Epoch 468/500\n",
      "1/1 [==============================] - 0s 6ms/step - Error: 0.0000e+00 - Temperature: 0.0000e+00 - Hidden weights: 0.2880 - Output weights: 0.0420\n",
      "Epoch 469/500\n",
      "1/1 [==============================] - 0s 3ms/step - Error: 0.0000e+00 - Temperature: 0.0000e+00 - Hidden weights: 0.2880 - Output weights: 0.0420\n",
      "Epoch 470/500\n",
      "1/1 [==============================] - 0s 2ms/step - Error: 0.0000e+00 - Temperature: 0.0000e+00 - Hidden weights: 0.2880 - Output weights: 0.0420\n",
      "Epoch 471/500\n",
      "1/1 [==============================] - 0s 2ms/step - Error: 0.0000e+00 - Temperature: 0.0000e+00 - Hidden weights: 0.2880 - Output weights: 0.0420\n",
      "Epoch 472/500\n",
      "1/1 [==============================] - 0s 6ms/step - Error: 0.0000e+00 - Temperature: 0.0000e+00 - Hidden weights: 0.2880 - Output weights: 0.0420\n",
      "Epoch 473/500\n",
      "1/1 [==============================] - 0s 3ms/step - Error: 0.0000e+00 - Temperature: 0.0000e+00 - Hidden weights: 0.2880 - Output weights: 0.0420\n",
      "Epoch 474/500\n",
      "1/1 [==============================] - 0s 2ms/step - Error: 0.0000e+00 - Temperature: 0.0000e+00 - Hidden weights: 0.2880 - Output weights: 0.0420\n",
      "Epoch 475/500\n",
      "1/1 [==============================] - 0s 2ms/step - Error: 0.0000e+00 - Temperature: 0.0000e+00 - Hidden weights: 0.2880 - Output weights: 0.0420\n",
      "Epoch 476/500\n",
      "1/1 [==============================] - 0s 10ms/step - Error: 0.0000e+00 - Temperature: 0.0000e+00 - Hidden weights: 0.2880 - Output weights: 0.0420\n",
      "Epoch 477/500\n",
      "1/1 [==============================] - 0s 2ms/step - Error: 0.0000e+00 - Temperature: 0.0000e+00 - Hidden weights: 0.2880 - Output weights: 0.0420\n",
      "Epoch 478/500\n",
      "1/1 [==============================] - 0s 7ms/step - Error: 0.0000e+00 - Temperature: 0.0000e+00 - Hidden weights: 0.2880 - Output weights: 0.0420\n",
      "Epoch 479/500\n",
      "1/1 [==============================] - 0s 4ms/step - Error: 0.0000e+00 - Temperature: 0.0000e+00 - Hidden weights: 0.2880 - Output weights: 0.0420\n",
      "Epoch 480/500\n",
      "1/1 [==============================] - 0s 2ms/step - Error: 0.0000e+00 - Temperature: 0.0000e+00 - Hidden weights: 0.2880 - Output weights: 0.0420\n",
      "Epoch 481/500\n",
      "1/1 [==============================] - 0s 2ms/step - Error: 0.0000e+00 - Temperature: 0.0000e+00 - Hidden weights: 0.2880 - Output weights: 0.0420\n",
      "Epoch 482/500\n",
      "1/1 [==============================] - 0s 5ms/step - Error: 0.0000e+00 - Temperature: 0.0000e+00 - Hidden weights: 0.2880 - Output weights: 0.0420\n",
      "Epoch 483/500\n",
      "1/1 [==============================] - 0s 3ms/step - Error: 0.0000e+00 - Temperature: 0.0000e+00 - Hidden weights: 0.2880 - Output weights: 0.0420\n",
      "Epoch 484/500\n",
      "1/1 [==============================] - 0s 4ms/step - Error: 0.0000e+00 - Temperature: 0.0000e+00 - Hidden weights: 0.2880 - Output weights: 0.0420\n",
      "Epoch 485/500\n",
      "1/1 [==============================] - 0s 2ms/step - Error: 0.0000e+00 - Temperature: 0.0000e+00 - Hidden weights: 0.2880 - Output weights: 0.0420\n",
      "Epoch 486/500\n",
      "1/1 [==============================] - 0s 5ms/step - Error: 0.0000e+00 - Temperature: 0.0000e+00 - Hidden weights: 0.2880 - Output weights: 0.0420\n",
      "Epoch 487/500\n",
      "1/1 [==============================] - 0s 4ms/step - Error: 0.0000e+00 - Temperature: 0.0000e+00 - Hidden weights: 0.2880 - Output weights: 0.0420\n",
      "Epoch 488/500\n",
      "1/1 [==============================] - 0s 2ms/step - Error: 0.0000e+00 - Temperature: 0.0000e+00 - Hidden weights: 0.2880 - Output weights: 0.0420\n",
      "Epoch 489/500\n",
      "1/1 [==============================] - 0s 2ms/step - Error: 0.0000e+00 - Temperature: 0.0000e+00 - Hidden weights: 0.2880 - Output weights: 0.0420\n",
      "Epoch 490/500\n",
      "1/1 [==============================] - 0s 2ms/step - Error: 0.0000e+00 - Temperature: 0.0000e+00 - Hidden weights: 0.2880 - Output weights: 0.0420\n",
      "Epoch 491/500\n",
      "1/1 [==============================] - 0s 13ms/step - Error: 0.0000e+00 - Temperature: 0.0000e+00 - Hidden weights: 0.2880 - Output weights: 0.0420\n",
      "Epoch 492/500\n",
      "1/1 [==============================] - 0s 3ms/step - Error: 0.0000e+00 - Temperature: 0.0000e+00 - Hidden weights: 0.2880 - Output weights: 0.0420\n",
      "Epoch 493/500\n",
      "1/1 [==============================] - 0s 6ms/step - Error: 0.0000e+00 - Temperature: 0.0000e+00 - Hidden weights: 0.2880 - Output weights: 0.0420\n",
      "Epoch 494/500\n",
      "1/1 [==============================] - 0s 3ms/step - Error: 0.0000e+00 - Temperature: 0.0000e+00 - Hidden weights: 0.2880 - Output weights: 0.0420\n",
      "Epoch 495/500\n",
      "1/1 [==============================] - 0s 2ms/step - Error: 0.0000e+00 - Temperature: 0.0000e+00 - Hidden weights: 0.2880 - Output weights: 0.0420\n",
      "Epoch 496/500\n",
      "1/1 [==============================] - 0s 2ms/step - Error: 0.0000e+00 - Temperature: 0.0000e+00 - Hidden weights: 0.2880 - Output weights: 0.0420\n",
      "Epoch 497/500\n",
      "1/1 [==============================] - 0s 4ms/step - Error: 0.0000e+00 - Temperature: 0.0000e+00 - Hidden weights: 0.2880 - Output weights: 0.0420\n",
      "Epoch 498/500\n",
      "1/1 [==============================] - 0s 3ms/step - Error: 0.0000e+00 - Temperature: 0.0000e+00 - Hidden weights: 0.2880 - Output weights: 0.0420\n",
      "Epoch 499/500\n",
      "1/1 [==============================] - 0s 3ms/step - Error: 0.0000e+00 - Temperature: 0.0000e+00 - Hidden weights: 0.2880 - Output weights: 0.0420\n",
      "Epoch 500/500\n",
      "1/1 [==============================] - 0s 2ms/step - Error: 0.0000e+00 - Temperature: 0.0000e+00 - Hidden weights: 0.2880 - Output weights: 0.0420\n"
     ]
    }
   ],
   "source": [
    "model.compile()\n",
    "model_history = model.fit(x = input, epochs=500, shuffle=False)"
   ]
  },
  {
   "cell_type": "code",
   "execution_count": 9,
   "metadata": {},
   "outputs": [
    {
     "data": {
      "text/html": [
       "<div>\n",
       "<style scoped>\n",
       "    .dataframe tbody tr th:only-of-type {\n",
       "        vertical-align: middle;\n",
       "    }\n",
       "\n",
       "    .dataframe tbody tr th {\n",
       "        vertical-align: top;\n",
       "    }\n",
       "\n",
       "    .dataframe thead th {\n",
       "        text-align: right;\n",
       "    }\n",
       "</style>\n",
       "<table border=\"1\" class=\"dataframe\">\n",
       "  <thead>\n",
       "    <tr style=\"text-align: right;\">\n",
       "      <th></th>\n",
       "      <th>Error</th>\n",
       "      <th>Temperature</th>\n",
       "      <th>Hidden weights</th>\n",
       "      <th>Output weights</th>\n",
       "    </tr>\n",
       "  </thead>\n",
       "  <tbody>\n",
       "    <tr>\n",
       "      <th>0</th>\n",
       "      <td>0.167350</td>\n",
       "      <td>0.143359</td>\n",
       "      <td>[[0.49775252, 0.4835382, 0.49925226, 0.5, 0.48...</td>\n",
       "      <td>[[0.57202643, 0.57099724, 0.57048243, 0.569894...</td>\n",
       "    </tr>\n",
       "    <tr>\n",
       "      <th>1</th>\n",
       "      <td>0.490524</td>\n",
       "      <td>0.329095</td>\n",
       "      <td>[[0.4977971, 0.4844313, 0.49932143, 0.5, 0.481...</td>\n",
       "      <td>[[0.57307595, 0.57422066, 0.57662755, 0.581601...</td>\n",
       "    </tr>\n",
       "    <tr>\n",
       "      <th>2</th>\n",
       "      <td>1.444428</td>\n",
       "      <td>0.590906</td>\n",
       "      <td>[[0.49771824, 0.48367056, 0.4992822, 0.5, 0.48...</td>\n",
       "      <td>[[0.5729146, 0.57349324, 0.5749065, 0.57751465...</td>\n",
       "    </tr>\n",
       "    <tr>\n",
       "      <th>3</th>\n",
       "      <td>2.154694</td>\n",
       "      <td>0.683012</td>\n",
       "      <td>[[0.4977597, 0.4840037, 0.499298, 0.5, 0.48074...</td>\n",
       "      <td>[[0.57289135, 0.57364094, 0.57541394, 0.578995...</td>\n",
       "    </tr>\n",
       "    <tr>\n",
       "      <th>4</th>\n",
       "      <td>2.298328</td>\n",
       "      <td>0.696816</td>\n",
       "      <td>[[0.49771717, 0.48366922, 0.4992823, 0.5, 0.48...</td>\n",
       "      <td>[[0.5726494, 0.57329804, 0.5749003, 0.57801324...</td>\n",
       "    </tr>\n",
       "    <tr>\n",
       "      <th>...</th>\n",
       "      <td>...</td>\n",
       "      <td>...</td>\n",
       "      <td>...</td>\n",
       "      <td>...</td>\n",
       "    </tr>\n",
       "    <tr>\n",
       "      <th>495</th>\n",
       "      <td>0.000000</td>\n",
       "      <td>0.000000</td>\n",
       "      <td>[[0.46303728, 0.22588749, 0.48980325, 0.5, 0.1...</td>\n",
       "      <td>[[0.10362886, 0.22794834, 0.085417286, 0.05682...</td>\n",
       "    </tr>\n",
       "    <tr>\n",
       "      <th>496</th>\n",
       "      <td>0.000000</td>\n",
       "      <td>0.000000</td>\n",
       "      <td>[[0.46303728, 0.22588749, 0.48980325, 0.5, 0.1...</td>\n",
       "      <td>[[0.10362886, 0.22794834, 0.085417286, 0.05682...</td>\n",
       "    </tr>\n",
       "    <tr>\n",
       "      <th>497</th>\n",
       "      <td>0.000000</td>\n",
       "      <td>0.000000</td>\n",
       "      <td>[[0.46303728, 0.22588749, 0.48980325, 0.5, 0.1...</td>\n",
       "      <td>[[0.10362886, 0.22794834, 0.085417286, 0.05682...</td>\n",
       "    </tr>\n",
       "    <tr>\n",
       "      <th>498</th>\n",
       "      <td>0.000000</td>\n",
       "      <td>0.000000</td>\n",
       "      <td>[[0.46303728, 0.22588749, 0.48980325, 0.5, 0.1...</td>\n",
       "      <td>[[0.10362886, 0.22794834, 0.085417286, 0.05682...</td>\n",
       "    </tr>\n",
       "    <tr>\n",
       "      <th>499</th>\n",
       "      <td>0.000000</td>\n",
       "      <td>0.000000</td>\n",
       "      <td>[[0.46303728, 0.22588749, 0.48980325, 0.5, 0.1...</td>\n",
       "      <td>[[0.10362886, 0.22794834, 0.085417286, 0.05682...</td>\n",
       "    </tr>\n",
       "  </tbody>\n",
       "</table>\n",
       "<p>500 rows × 4 columns</p>\n",
       "</div>"
      ],
      "text/plain": [
       "        Error  Temperature                                     Hidden weights  \\\n",
       "0    0.167350     0.143359  [[0.49775252, 0.4835382, 0.49925226, 0.5, 0.48...   \n",
       "1    0.490524     0.329095  [[0.4977971, 0.4844313, 0.49932143, 0.5, 0.481...   \n",
       "2    1.444428     0.590906  [[0.49771824, 0.48367056, 0.4992822, 0.5, 0.48...   \n",
       "3    2.154694     0.683012  [[0.4977597, 0.4840037, 0.499298, 0.5, 0.48074...   \n",
       "4    2.298328     0.696816  [[0.49771717, 0.48366922, 0.4992823, 0.5, 0.48...   \n",
       "..        ...          ...                                                ...   \n",
       "495  0.000000     0.000000  [[0.46303728, 0.22588749, 0.48980325, 0.5, 0.1...   \n",
       "496  0.000000     0.000000  [[0.46303728, 0.22588749, 0.48980325, 0.5, 0.1...   \n",
       "497  0.000000     0.000000  [[0.46303728, 0.22588749, 0.48980325, 0.5, 0.1...   \n",
       "498  0.000000     0.000000  [[0.46303728, 0.22588749, 0.48980325, 0.5, 0.1...   \n",
       "499  0.000000     0.000000  [[0.46303728, 0.22588749, 0.48980325, 0.5, 0.1...   \n",
       "\n",
       "                                        Output weights  \n",
       "0    [[0.57202643, 0.57099724, 0.57048243, 0.569894...  \n",
       "1    [[0.57307595, 0.57422066, 0.57662755, 0.581601...  \n",
       "2    [[0.5729146, 0.57349324, 0.5749065, 0.57751465...  \n",
       "3    [[0.57289135, 0.57364094, 0.57541394, 0.578995...  \n",
       "4    [[0.5726494, 0.57329804, 0.5749003, 0.57801324...  \n",
       "..                                                 ...  \n",
       "495  [[0.10362886, 0.22794834, 0.085417286, 0.05682...  \n",
       "496  [[0.10362886, 0.22794834, 0.085417286, 0.05682...  \n",
       "497  [[0.10362886, 0.22794834, 0.085417286, 0.05682...  \n",
       "498  [[0.10362886, 0.22794834, 0.085417286, 0.05682...  \n",
       "499  [[0.10362886, 0.22794834, 0.085417286, 0.05682...  \n",
       "\n",
       "[500 rows x 4 columns]"
      ]
     },
     "execution_count": 9,
     "metadata": {},
     "output_type": "execute_result"
    }
   ],
   "source": [
    "df_model_history = pd.DataFrame(model_history.history)\n",
    "df_model_history"
   ]
  },
  {
   "cell_type": "code",
   "execution_count": 10,
   "metadata": {},
   "outputs": [
    {
     "data": {
      "text/plain": [
       "array([[0.03, 0.22, 0.01, 0.  , 0.26, 0.  , 0.22, 0.22, 0.01, 0.01, 0.03,\n",
       "        0.01, 0.03, 0.01],\n",
       "       [0.87, 0.26, 0.26, 0.03, 0.42, 0.26, 0.16, 0.  , 0.22, 0.  , 0.22,\n",
       "        0.03, 0.42, 0.87]], dtype=float32)"
      ]
     },
     "execution_count": 10,
     "metadata": {},
     "output_type": "execute_result"
    }
   ],
   "source": [
    "model.get_weights()[0]"
   ]
  },
  {
   "cell_type": "code",
   "execution_count": 11,
   "metadata": {},
   "outputs": [
    {
     "data": {
      "text/plain": [
       "array([0.46303728, 0.22588749, 0.48980325, 0.5       , 0.14967628,\n",
       "       0.5       , 0.24535657, 0.2835324 , 0.49005467, 0.49133506,\n",
       "       0.46951768, 0.49117392, 0.46566498, 0.4880501 ], dtype=float32)"
      ]
     },
     "execution_count": 11,
     "metadata": {},
     "output_type": "execute_result"
    }
   ],
   "source": [
    "model.get_weights()[1][0]"
   ]
  },
  {
   "cell_type": "code",
   "execution_count": 12,
   "metadata": {},
   "outputs": [
    {
     "data": {
      "text/plain": [
       "array([-0.5719199 ,  0.17604883,  0.23489197,  0.47369507, -0.06590756,\n",
       "        0.23791866,  0.31480455,  0.5       ,  0.28119954,  0.5       ,\n",
       "        0.27646226,  0.47352168,  0.01930929, -0.53963184], dtype=float32)"
      ]
     },
     "execution_count": 12,
     "metadata": {},
     "output_type": "execute_result"
    }
   ],
   "source": [
    "model.get_weights()[1][1]"
   ]
  },
  {
   "cell_type": "code",
   "execution_count": 13,
   "metadata": {},
   "outputs": [
    {
     "data": {
      "text/plain": [
       "array([1.0349572 , 0.04983866, 0.2549113 , 0.02630493, 0.21558383,\n",
       "       0.26208133, 0.06944798, 0.21646759, 0.20885512, 0.00866494,\n",
       "       0.19305542, 0.01765224, 0.4463557 , 1.027682  ], dtype=float32)"
      ]
     },
     "execution_count": 13,
     "metadata": {},
     "output_type": "execute_result"
    }
   ],
   "source": [
    "dvf = abs(model.get_weights()[1][0] - model.get_weights()[1][1])\n",
    "dvf"
   ]
  },
  {
   "cell_type": "code",
   "execution_count": 14,
   "metadata": {},
   "outputs": [
    {
     "data": {
      "text/plain": [
       "array([0.03, 0.22, 0.01, 0.  , 0.26, 0.  , 0.22, 0.22, 0.01, 0.01, 0.03,\n",
       "       0.01, 0.03, 0.01], dtype=float32)"
      ]
     },
     "execution_count": 14,
     "metadata": {},
     "output_type": "execute_result"
    }
   ],
   "source": [
    "model.get_weights()[0][0,:]"
   ]
  },
  {
   "cell_type": "code",
   "execution_count": 15,
   "metadata": {},
   "outputs": [
    {
     "data": {
      "text/plain": [
       "array([0.87, 0.26, 0.26, 0.03, 0.42, 0.26, 0.16, 0.  , 0.22, 0.  , 0.22,\n",
       "       0.03, 0.42, 0.87], dtype=float32)"
      ]
     },
     "execution_count": 15,
     "metadata": {},
     "output_type": "execute_result"
    }
   ],
   "source": [
    "model.get_weights()[0][1,:]"
   ]
  },
  {
   "cell_type": "code",
   "execution_count": 16,
   "metadata": {},
   "outputs": [
    {
     "data": {
      "text/plain": [
       "array([0.84000003, 0.03999999, 0.24999999, 0.03      , 0.16      ,\n",
       "       0.26      , 0.06      , 0.22      , 0.21      , 0.01      ,\n",
       "       0.19      , 0.02      , 0.39      , 0.86      ], dtype=float32)"
      ]
     },
     "execution_count": 16,
     "metadata": {},
     "output_type": "execute_result"
    }
   ],
   "source": [
    "dva = abs(model.get_weights()[0][0,:] - model.get_weights()[0][1,:])\n",
    "dva"
   ]
  },
  {
   "cell_type": "code",
   "execution_count": 17,
   "metadata": {},
   "outputs": [
    {
     "data": {
      "text/plain": [
       "array([1.0349572 , 0.04983866, 0.2549113 , 0.02630493, 0.21558383,\n",
       "       0.26208133, 0.06944798, 0.21646759, 0.20885512, 0.00866494,\n",
       "       0.19305542, 0.01765224, 0.4463557 , 1.027682  ], dtype=float32)"
      ]
     },
     "execution_count": 17,
     "metadata": {},
     "output_type": "execute_result"
    }
   ],
   "source": [
    "dvf"
   ]
  },
  {
   "cell_type": "code",
   "execution_count": 25,
   "metadata": {},
   "outputs": [],
   "source": [
    "dvf = [round(x, 2) for x in dvf]"
   ]
  },
  {
   "cell_type": "code",
   "execution_count": 18,
   "metadata": {},
   "outputs": [],
   "source": [
    "dvf_book = [0.97, 0.05, 0.29, 0.03, 0.17, 0.3, 0.06, 0.24, 0.24, 0.01, 0.21, 0.03, 0.43, 1.00]"
   ]
  },
  {
   "cell_type": "code",
   "execution_count": 26,
   "metadata": {},
   "outputs": [
    {
     "data": {
      "text/html": [
       "<div>\n",
       "<style scoped>\n",
       "    .dataframe tbody tr th:only-of-type {\n",
       "        vertical-align: middle;\n",
       "    }\n",
       "\n",
       "    .dataframe tbody tr th {\n",
       "        vertical-align: top;\n",
       "    }\n",
       "\n",
       "    .dataframe thead th {\n",
       "        text-align: right;\n",
       "    }\n",
       "</style>\n",
       "<table border=\"1\" class=\"dataframe\">\n",
       "  <thead>\n",
       "    <tr style=\"text-align: right;\">\n",
       "      <th></th>\n",
       "      <th>dva</th>\n",
       "      <th>dvf</th>\n",
       "      <th>dvf_book</th>\n",
       "    </tr>\n",
       "  </thead>\n",
       "  <tbody>\n",
       "    <tr>\n",
       "      <th>0</th>\n",
       "      <td>0.84</td>\n",
       "      <td>1.03</td>\n",
       "      <td>0.97</td>\n",
       "    </tr>\n",
       "    <tr>\n",
       "      <th>1</th>\n",
       "      <td>0.04</td>\n",
       "      <td>0.05</td>\n",
       "      <td>0.05</td>\n",
       "    </tr>\n",
       "    <tr>\n",
       "      <th>2</th>\n",
       "      <td>0.25</td>\n",
       "      <td>0.25</td>\n",
       "      <td>0.29</td>\n",
       "    </tr>\n",
       "    <tr>\n",
       "      <th>3</th>\n",
       "      <td>0.03</td>\n",
       "      <td>0.03</td>\n",
       "      <td>0.03</td>\n",
       "    </tr>\n",
       "    <tr>\n",
       "      <th>4</th>\n",
       "      <td>0.16</td>\n",
       "      <td>0.22</td>\n",
       "      <td>0.17</td>\n",
       "    </tr>\n",
       "    <tr>\n",
       "      <th>5</th>\n",
       "      <td>0.26</td>\n",
       "      <td>0.26</td>\n",
       "      <td>0.30</td>\n",
       "    </tr>\n",
       "    <tr>\n",
       "      <th>6</th>\n",
       "      <td>0.06</td>\n",
       "      <td>0.07</td>\n",
       "      <td>0.06</td>\n",
       "    </tr>\n",
       "    <tr>\n",
       "      <th>7</th>\n",
       "      <td>0.22</td>\n",
       "      <td>0.22</td>\n",
       "      <td>0.24</td>\n",
       "    </tr>\n",
       "    <tr>\n",
       "      <th>8</th>\n",
       "      <td>0.21</td>\n",
       "      <td>0.21</td>\n",
       "      <td>0.24</td>\n",
       "    </tr>\n",
       "    <tr>\n",
       "      <th>9</th>\n",
       "      <td>0.01</td>\n",
       "      <td>0.01</td>\n",
       "      <td>0.01</td>\n",
       "    </tr>\n",
       "    <tr>\n",
       "      <th>10</th>\n",
       "      <td>0.19</td>\n",
       "      <td>0.19</td>\n",
       "      <td>0.21</td>\n",
       "    </tr>\n",
       "    <tr>\n",
       "      <th>11</th>\n",
       "      <td>0.02</td>\n",
       "      <td>0.02</td>\n",
       "      <td>0.03</td>\n",
       "    </tr>\n",
       "    <tr>\n",
       "      <th>12</th>\n",
       "      <td>0.39</td>\n",
       "      <td>0.45</td>\n",
       "      <td>0.43</td>\n",
       "    </tr>\n",
       "    <tr>\n",
       "      <th>13</th>\n",
       "      <td>0.86</td>\n",
       "      <td>1.03</td>\n",
       "      <td>1.00</td>\n",
       "    </tr>\n",
       "  </tbody>\n",
       "</table>\n",
       "</div>"
      ],
      "text/plain": [
       "     dva   dvf  dvf_book\n",
       "0   0.84  1.03      0.97\n",
       "1   0.04  0.05      0.05\n",
       "2   0.25  0.25      0.29\n",
       "3   0.03  0.03      0.03\n",
       "4   0.16  0.22      0.17\n",
       "5   0.26  0.26      0.30\n",
       "6   0.06  0.07      0.06\n",
       "7   0.22  0.22      0.24\n",
       "8   0.21  0.21      0.24\n",
       "9   0.01  0.01      0.01\n",
       "10  0.19  0.19      0.21\n",
       "11  0.02  0.02      0.03\n",
       "12  0.39  0.45      0.43\n",
       "13  0.86  1.03      1.00"
      ]
     },
     "execution_count": 26,
     "metadata": {},
     "output_type": "execute_result"
    }
   ],
   "source": [
    "df_diff = pd.DataFrame({\"dva\":dva, \"dvf\":dvf, \"dvf_book\":dvf_book})\n",
    "df_diff"
   ]
  },
  {
   "cell_type": "code",
   "execution_count": 35,
   "metadata": {},
   "outputs": [
    {
     "data": {
      "text/plain": [
       "dva         0.276390\n",
       "dvf         0.336769\n",
       "dvf_book    0.320581\n",
       "dtype: float64"
      ]
     },
     "execution_count": 35,
     "metadata": {},
     "output_type": "execute_result"
    }
   ],
   "source": [
    "df_diff.std()"
   ]
  },
  {
   "cell_type": "code",
   "execution_count": 37,
   "metadata": {},
   "outputs": [
    {
     "data": {
      "text/plain": [
       "4.806855737909363"
      ]
     },
     "execution_count": 37,
     "metadata": {},
     "output_type": "execute_result"
    }
   ],
   "source": [
    "((0.336769 - 0.320581) / 0.336769 ) * 100"
   ]
  },
  {
   "cell_type": "code",
   "execution_count": 28,
   "metadata": {},
   "outputs": [
    {
     "data": {
      "application/vnd.plotly.v1+json": {
       "config": {
        "plotlyServerURL": "https://plot.ly"
       },
       "data": [
        {
         "alignmentgroup": "True",
         "hovertemplate": "variable=dva<br>index=%{x}<br>value=%{y}<extra></extra>",
         "legendgroup": "dva",
         "marker": {
          "color": "#636efa",
          "pattern": {
           "shape": ""
          }
         },
         "name": "dva",
         "offsetgroup": "dva",
         "orientation": "v",
         "showlegend": true,
         "textposition": "auto",
         "type": "bar",
         "x": [
          0,
          1,
          2,
          3,
          4,
          5,
          6,
          7,
          8,
          9,
          10,
          11,
          12,
          13
         ],
         "xaxis": "x",
         "y": [
          0.8400000333786011,
          0.03999999165534973,
          0.2499999850988388,
          0.029999999329447746,
          0.1599999964237213,
          0.25999999046325684,
          0.06000000238418579,
          0.2199999988079071,
          0.20999999344348907,
          0.009999999776482582,
          0.1899999976158142,
          0.019999999552965164,
          0.38999998569488525,
          0.8600000143051147
         ],
         "yaxis": "y"
        },
        {
         "alignmentgroup": "True",
         "hovertemplate": "variable=dvf<br>index=%{x}<br>value=%{y}<extra></extra>",
         "legendgroup": "dvf",
         "marker": {
          "color": "#EF553B",
          "pattern": {
           "shape": ""
          }
         },
         "name": "dvf",
         "offsetgroup": "dvf",
         "orientation": "v",
         "showlegend": true,
         "textposition": "auto",
         "type": "bar",
         "x": [
          0,
          1,
          2,
          3,
          4,
          5,
          6,
          7,
          8,
          9,
          10,
          11,
          12,
          13
         ],
         "xaxis": "x",
         "y": [
          1.0299999713897705,
          0.05000000074505806,
          0.25,
          0.029999999329447746,
          0.2199999988079071,
          0.25999999046325684,
          0.07000000029802322,
          0.2199999988079071,
          0.20999999344348907,
          0.009999999776482582,
          0.1899999976158142,
          0.019999999552965164,
          0.44999998807907104,
          1.0299999713897705
         ],
         "yaxis": "y"
        },
        {
         "alignmentgroup": "True",
         "hovertemplate": "variable=dvf_book<br>index=%{x}<br>value=%{y}<extra></extra>",
         "legendgroup": "dvf_book",
         "marker": {
          "color": "#00cc96",
          "pattern": {
           "shape": ""
          }
         },
         "name": "dvf_book",
         "offsetgroup": "dvf_book",
         "orientation": "v",
         "showlegend": true,
         "textposition": "auto",
         "type": "bar",
         "x": [
          0,
          1,
          2,
          3,
          4,
          5,
          6,
          7,
          8,
          9,
          10,
          11,
          12,
          13
         ],
         "xaxis": "x",
         "y": [
          0.97,
          0.05,
          0.29,
          0.03,
          0.17,
          0.3,
          0.06,
          0.24,
          0.24,
          0.01,
          0.21,
          0.03,
          0.43,
          1
         ],
         "yaxis": "y"
        }
       ],
       "layout": {
        "barmode": "group",
        "legend": {
         "title": {
          "text": "variable"
         },
         "tracegroupgap": 0
        },
        "template": {
         "data": {
          "bar": [
           {
            "error_x": {
             "color": "#2a3f5f"
            },
            "error_y": {
             "color": "#2a3f5f"
            },
            "marker": {
             "line": {
              "color": "#E5ECF6",
              "width": 0.5
             },
             "pattern": {
              "fillmode": "overlay",
              "size": 10,
              "solidity": 0.2
             }
            },
            "type": "bar"
           }
          ],
          "barpolar": [
           {
            "marker": {
             "line": {
              "color": "#E5ECF6",
              "width": 0.5
             },
             "pattern": {
              "fillmode": "overlay",
              "size": 10,
              "solidity": 0.2
             }
            },
            "type": "barpolar"
           }
          ],
          "carpet": [
           {
            "aaxis": {
             "endlinecolor": "#2a3f5f",
             "gridcolor": "white",
             "linecolor": "white",
             "minorgridcolor": "white",
             "startlinecolor": "#2a3f5f"
            },
            "baxis": {
             "endlinecolor": "#2a3f5f",
             "gridcolor": "white",
             "linecolor": "white",
             "minorgridcolor": "white",
             "startlinecolor": "#2a3f5f"
            },
            "type": "carpet"
           }
          ],
          "choropleth": [
           {
            "colorbar": {
             "outlinewidth": 0,
             "ticks": ""
            },
            "type": "choropleth"
           }
          ],
          "contour": [
           {
            "colorbar": {
             "outlinewidth": 0,
             "ticks": ""
            },
            "colorscale": [
             [
              0,
              "#0d0887"
             ],
             [
              0.1111111111111111,
              "#46039f"
             ],
             [
              0.2222222222222222,
              "#7201a8"
             ],
             [
              0.3333333333333333,
              "#9c179e"
             ],
             [
              0.4444444444444444,
              "#bd3786"
             ],
             [
              0.5555555555555556,
              "#d8576b"
             ],
             [
              0.6666666666666666,
              "#ed7953"
             ],
             [
              0.7777777777777778,
              "#fb9f3a"
             ],
             [
              0.8888888888888888,
              "#fdca26"
             ],
             [
              1,
              "#f0f921"
             ]
            ],
            "type": "contour"
           }
          ],
          "contourcarpet": [
           {
            "colorbar": {
             "outlinewidth": 0,
             "ticks": ""
            },
            "type": "contourcarpet"
           }
          ],
          "heatmap": [
           {
            "colorbar": {
             "outlinewidth": 0,
             "ticks": ""
            },
            "colorscale": [
             [
              0,
              "#0d0887"
             ],
             [
              0.1111111111111111,
              "#46039f"
             ],
             [
              0.2222222222222222,
              "#7201a8"
             ],
             [
              0.3333333333333333,
              "#9c179e"
             ],
             [
              0.4444444444444444,
              "#bd3786"
             ],
             [
              0.5555555555555556,
              "#d8576b"
             ],
             [
              0.6666666666666666,
              "#ed7953"
             ],
             [
              0.7777777777777778,
              "#fb9f3a"
             ],
             [
              0.8888888888888888,
              "#fdca26"
             ],
             [
              1,
              "#f0f921"
             ]
            ],
            "type": "heatmap"
           }
          ],
          "heatmapgl": [
           {
            "colorbar": {
             "outlinewidth": 0,
             "ticks": ""
            },
            "colorscale": [
             [
              0,
              "#0d0887"
             ],
             [
              0.1111111111111111,
              "#46039f"
             ],
             [
              0.2222222222222222,
              "#7201a8"
             ],
             [
              0.3333333333333333,
              "#9c179e"
             ],
             [
              0.4444444444444444,
              "#bd3786"
             ],
             [
              0.5555555555555556,
              "#d8576b"
             ],
             [
              0.6666666666666666,
              "#ed7953"
             ],
             [
              0.7777777777777778,
              "#fb9f3a"
             ],
             [
              0.8888888888888888,
              "#fdca26"
             ],
             [
              1,
              "#f0f921"
             ]
            ],
            "type": "heatmapgl"
           }
          ],
          "histogram": [
           {
            "marker": {
             "pattern": {
              "fillmode": "overlay",
              "size": 10,
              "solidity": 0.2
             }
            },
            "type": "histogram"
           }
          ],
          "histogram2d": [
           {
            "colorbar": {
             "outlinewidth": 0,
             "ticks": ""
            },
            "colorscale": [
             [
              0,
              "#0d0887"
             ],
             [
              0.1111111111111111,
              "#46039f"
             ],
             [
              0.2222222222222222,
              "#7201a8"
             ],
             [
              0.3333333333333333,
              "#9c179e"
             ],
             [
              0.4444444444444444,
              "#bd3786"
             ],
             [
              0.5555555555555556,
              "#d8576b"
             ],
             [
              0.6666666666666666,
              "#ed7953"
             ],
             [
              0.7777777777777778,
              "#fb9f3a"
             ],
             [
              0.8888888888888888,
              "#fdca26"
             ],
             [
              1,
              "#f0f921"
             ]
            ],
            "type": "histogram2d"
           }
          ],
          "histogram2dcontour": [
           {
            "colorbar": {
             "outlinewidth": 0,
             "ticks": ""
            },
            "colorscale": [
             [
              0,
              "#0d0887"
             ],
             [
              0.1111111111111111,
              "#46039f"
             ],
             [
              0.2222222222222222,
              "#7201a8"
             ],
             [
              0.3333333333333333,
              "#9c179e"
             ],
             [
              0.4444444444444444,
              "#bd3786"
             ],
             [
              0.5555555555555556,
              "#d8576b"
             ],
             [
              0.6666666666666666,
              "#ed7953"
             ],
             [
              0.7777777777777778,
              "#fb9f3a"
             ],
             [
              0.8888888888888888,
              "#fdca26"
             ],
             [
              1,
              "#f0f921"
             ]
            ],
            "type": "histogram2dcontour"
           }
          ],
          "mesh3d": [
           {
            "colorbar": {
             "outlinewidth": 0,
             "ticks": ""
            },
            "type": "mesh3d"
           }
          ],
          "parcoords": [
           {
            "line": {
             "colorbar": {
              "outlinewidth": 0,
              "ticks": ""
             }
            },
            "type": "parcoords"
           }
          ],
          "pie": [
           {
            "automargin": true,
            "type": "pie"
           }
          ],
          "scatter": [
           {
            "marker": {
             "colorbar": {
              "outlinewidth": 0,
              "ticks": ""
             }
            },
            "type": "scatter"
           }
          ],
          "scatter3d": [
           {
            "line": {
             "colorbar": {
              "outlinewidth": 0,
              "ticks": ""
             }
            },
            "marker": {
             "colorbar": {
              "outlinewidth": 0,
              "ticks": ""
             }
            },
            "type": "scatter3d"
           }
          ],
          "scattercarpet": [
           {
            "marker": {
             "colorbar": {
              "outlinewidth": 0,
              "ticks": ""
             }
            },
            "type": "scattercarpet"
           }
          ],
          "scattergeo": [
           {
            "marker": {
             "colorbar": {
              "outlinewidth": 0,
              "ticks": ""
             }
            },
            "type": "scattergeo"
           }
          ],
          "scattergl": [
           {
            "marker": {
             "colorbar": {
              "outlinewidth": 0,
              "ticks": ""
             }
            },
            "type": "scattergl"
           }
          ],
          "scattermapbox": [
           {
            "marker": {
             "colorbar": {
              "outlinewidth": 0,
              "ticks": ""
             }
            },
            "type": "scattermapbox"
           }
          ],
          "scatterpolar": [
           {
            "marker": {
             "colorbar": {
              "outlinewidth": 0,
              "ticks": ""
             }
            },
            "type": "scatterpolar"
           }
          ],
          "scatterpolargl": [
           {
            "marker": {
             "colorbar": {
              "outlinewidth": 0,
              "ticks": ""
             }
            },
            "type": "scatterpolargl"
           }
          ],
          "scatterternary": [
           {
            "marker": {
             "colorbar": {
              "outlinewidth": 0,
              "ticks": ""
             }
            },
            "type": "scatterternary"
           }
          ],
          "surface": [
           {
            "colorbar": {
             "outlinewidth": 0,
             "ticks": ""
            },
            "colorscale": [
             [
              0,
              "#0d0887"
             ],
             [
              0.1111111111111111,
              "#46039f"
             ],
             [
              0.2222222222222222,
              "#7201a8"
             ],
             [
              0.3333333333333333,
              "#9c179e"
             ],
             [
              0.4444444444444444,
              "#bd3786"
             ],
             [
              0.5555555555555556,
              "#d8576b"
             ],
             [
              0.6666666666666666,
              "#ed7953"
             ],
             [
              0.7777777777777778,
              "#fb9f3a"
             ],
             [
              0.8888888888888888,
              "#fdca26"
             ],
             [
              1,
              "#f0f921"
             ]
            ],
            "type": "surface"
           }
          ],
          "table": [
           {
            "cells": {
             "fill": {
              "color": "#EBF0F8"
             },
             "line": {
              "color": "white"
             }
            },
            "header": {
             "fill": {
              "color": "#C8D4E3"
             },
             "line": {
              "color": "white"
             }
            },
            "type": "table"
           }
          ]
         },
         "layout": {
          "annotationdefaults": {
           "arrowcolor": "#2a3f5f",
           "arrowhead": 0,
           "arrowwidth": 1
          },
          "autotypenumbers": "strict",
          "coloraxis": {
           "colorbar": {
            "outlinewidth": 0,
            "ticks": ""
           }
          },
          "colorscale": {
           "diverging": [
            [
             0,
             "#8e0152"
            ],
            [
             0.1,
             "#c51b7d"
            ],
            [
             0.2,
             "#de77ae"
            ],
            [
             0.3,
             "#f1b6da"
            ],
            [
             0.4,
             "#fde0ef"
            ],
            [
             0.5,
             "#f7f7f7"
            ],
            [
             0.6,
             "#e6f5d0"
            ],
            [
             0.7,
             "#b8e186"
            ],
            [
             0.8,
             "#7fbc41"
            ],
            [
             0.9,
             "#4d9221"
            ],
            [
             1,
             "#276419"
            ]
           ],
           "sequential": [
            [
             0,
             "#0d0887"
            ],
            [
             0.1111111111111111,
             "#46039f"
            ],
            [
             0.2222222222222222,
             "#7201a8"
            ],
            [
             0.3333333333333333,
             "#9c179e"
            ],
            [
             0.4444444444444444,
             "#bd3786"
            ],
            [
             0.5555555555555556,
             "#d8576b"
            ],
            [
             0.6666666666666666,
             "#ed7953"
            ],
            [
             0.7777777777777778,
             "#fb9f3a"
            ],
            [
             0.8888888888888888,
             "#fdca26"
            ],
            [
             1,
             "#f0f921"
            ]
           ],
           "sequentialminus": [
            [
             0,
             "#0d0887"
            ],
            [
             0.1111111111111111,
             "#46039f"
            ],
            [
             0.2222222222222222,
             "#7201a8"
            ],
            [
             0.3333333333333333,
             "#9c179e"
            ],
            [
             0.4444444444444444,
             "#bd3786"
            ],
            [
             0.5555555555555556,
             "#d8576b"
            ],
            [
             0.6666666666666666,
             "#ed7953"
            ],
            [
             0.7777777777777778,
             "#fb9f3a"
            ],
            [
             0.8888888888888888,
             "#fdca26"
            ],
            [
             1,
             "#f0f921"
            ]
           ]
          },
          "colorway": [
           "#636efa",
           "#EF553B",
           "#00cc96",
           "#ab63fa",
           "#FFA15A",
           "#19d3f3",
           "#FF6692",
           "#B6E880",
           "#FF97FF",
           "#FECB52"
          ],
          "font": {
           "color": "#2a3f5f"
          },
          "geo": {
           "bgcolor": "white",
           "lakecolor": "white",
           "landcolor": "#E5ECF6",
           "showlakes": true,
           "showland": true,
           "subunitcolor": "white"
          },
          "hoverlabel": {
           "align": "left"
          },
          "hovermode": "closest",
          "mapbox": {
           "style": "light"
          },
          "paper_bgcolor": "white",
          "plot_bgcolor": "#E5ECF6",
          "polar": {
           "angularaxis": {
            "gridcolor": "white",
            "linecolor": "white",
            "ticks": ""
           },
           "bgcolor": "#E5ECF6",
           "radialaxis": {
            "gridcolor": "white",
            "linecolor": "white",
            "ticks": ""
           }
          },
          "scene": {
           "xaxis": {
            "backgroundcolor": "#E5ECF6",
            "gridcolor": "white",
            "gridwidth": 2,
            "linecolor": "white",
            "showbackground": true,
            "ticks": "",
            "zerolinecolor": "white"
           },
           "yaxis": {
            "backgroundcolor": "#E5ECF6",
            "gridcolor": "white",
            "gridwidth": 2,
            "linecolor": "white",
            "showbackground": true,
            "ticks": "",
            "zerolinecolor": "white"
           },
           "zaxis": {
            "backgroundcolor": "#E5ECF6",
            "gridcolor": "white",
            "gridwidth": 2,
            "linecolor": "white",
            "showbackground": true,
            "ticks": "",
            "zerolinecolor": "white"
           }
          },
          "shapedefaults": {
           "line": {
            "color": "#2a3f5f"
           }
          },
          "ternary": {
           "aaxis": {
            "gridcolor": "white",
            "linecolor": "white",
            "ticks": ""
           },
           "baxis": {
            "gridcolor": "white",
            "linecolor": "white",
            "ticks": ""
           },
           "bgcolor": "#E5ECF6",
           "caxis": {
            "gridcolor": "white",
            "linecolor": "white",
            "ticks": ""
           }
          },
          "title": {
           "x": 0.05
          },
          "xaxis": {
           "automargin": true,
           "gridcolor": "white",
           "linecolor": "white",
           "ticks": "",
           "title": {
            "standoff": 15
           },
           "zerolinecolor": "white",
           "zerolinewidth": 2
          },
          "yaxis": {
           "automargin": true,
           "gridcolor": "white",
           "linecolor": "white",
           "ticks": "",
           "title": {
            "standoff": 15
           },
           "zerolinecolor": "white",
           "zerolinewidth": 2
          }
         }
        },
        "title": {
         "text": "Differences"
        },
        "xaxis": {
         "anchor": "y",
         "domain": [
          0,
          1
         ],
         "title": {
          "text": "index"
         }
        },
        "yaxis": {
         "anchor": "x",
         "domain": [
          0,
          1
         ],
         "title": {
          "text": "value"
         }
        }
       }
      }
     },
     "metadata": {},
     "output_type": "display_data"
    }
   ],
   "source": [
    "fig = px.bar(df_diff,title=\"Differences\", barmode=\"group\")\n",
    "fig.show()"
   ]
  },
  {
   "cell_type": "code",
   "execution_count": 46,
   "metadata": {},
   "outputs": [
    {
     "data": {
      "application/vnd.plotly.v1+json": {
       "config": {
        "plotlyServerURL": "https://plot.ly"
       },
       "data": [
        {
         "alignmentgroup": "True",
         "hovertemplate": "variable=0<br>index=%{x}<br>value=%{y}<extra></extra>",
         "legendgroup": "0",
         "marker": {
          "color": "#636efa",
          "pattern": {
           "shape": ""
          }
         },
         "name": "0",
         "offsetgroup": "0",
         "orientation": "v",
         "showlegend": true,
         "textposition": "auto",
         "texttemplate": "%{y:.2}",
         "type": "bar",
         "x": [
          0,
          1,
          2,
          3,
          4,
          5,
          6,
          7,
          8,
          9,
          10,
          11,
          12,
          13
         ],
         "xaxis": "x",
         "y": [
          0.08825237241538708,
          -0.949999984353781,
          -0.9099999999999999,
          -0.9700000230222945,
          -0.5527272781064688,
          -0.8938462057057233,
          -0.78714285319557,
          -0.8709090980123881,
          -0.9328571850953469,
          -0.9900000225752597,
          -0.9152631741481476,
          -1.4800000339746482,
          -0.5055555927900627,
          0.05912615801411747
         ],
         "yaxis": "y"
        }
       ],
       "layout": {
        "barmode": "group",
        "legend": {
         "title": {
          "text": "variable"
         },
         "tracegroupgap": 0
        },
        "template": {
         "data": {
          "bar": [
           {
            "error_x": {
             "color": "#2a3f5f"
            },
            "error_y": {
             "color": "#2a3f5f"
            },
            "marker": {
             "line": {
              "color": "#E5ECF6",
              "width": 0.5
             },
             "pattern": {
              "fillmode": "overlay",
              "size": 10,
              "solidity": 0.2
             }
            },
            "type": "bar"
           }
          ],
          "barpolar": [
           {
            "marker": {
             "line": {
              "color": "#E5ECF6",
              "width": 0.5
             },
             "pattern": {
              "fillmode": "overlay",
              "size": 10,
              "solidity": 0.2
             }
            },
            "type": "barpolar"
           }
          ],
          "carpet": [
           {
            "aaxis": {
             "endlinecolor": "#2a3f5f",
             "gridcolor": "white",
             "linecolor": "white",
             "minorgridcolor": "white",
             "startlinecolor": "#2a3f5f"
            },
            "baxis": {
             "endlinecolor": "#2a3f5f",
             "gridcolor": "white",
             "linecolor": "white",
             "minorgridcolor": "white",
             "startlinecolor": "#2a3f5f"
            },
            "type": "carpet"
           }
          ],
          "choropleth": [
           {
            "colorbar": {
             "outlinewidth": 0,
             "ticks": ""
            },
            "type": "choropleth"
           }
          ],
          "contour": [
           {
            "colorbar": {
             "outlinewidth": 0,
             "ticks": ""
            },
            "colorscale": [
             [
              0,
              "#0d0887"
             ],
             [
              0.1111111111111111,
              "#46039f"
             ],
             [
              0.2222222222222222,
              "#7201a8"
             ],
             [
              0.3333333333333333,
              "#9c179e"
             ],
             [
              0.4444444444444444,
              "#bd3786"
             ],
             [
              0.5555555555555556,
              "#d8576b"
             ],
             [
              0.6666666666666666,
              "#ed7953"
             ],
             [
              0.7777777777777778,
              "#fb9f3a"
             ],
             [
              0.8888888888888888,
              "#fdca26"
             ],
             [
              1,
              "#f0f921"
             ]
            ],
            "type": "contour"
           }
          ],
          "contourcarpet": [
           {
            "colorbar": {
             "outlinewidth": 0,
             "ticks": ""
            },
            "type": "contourcarpet"
           }
          ],
          "heatmap": [
           {
            "colorbar": {
             "outlinewidth": 0,
             "ticks": ""
            },
            "colorscale": [
             [
              0,
              "#0d0887"
             ],
             [
              0.1111111111111111,
              "#46039f"
             ],
             [
              0.2222222222222222,
              "#7201a8"
             ],
             [
              0.3333333333333333,
              "#9c179e"
             ],
             [
              0.4444444444444444,
              "#bd3786"
             ],
             [
              0.5555555555555556,
              "#d8576b"
             ],
             [
              0.6666666666666666,
              "#ed7953"
             ],
             [
              0.7777777777777778,
              "#fb9f3a"
             ],
             [
              0.8888888888888888,
              "#fdca26"
             ],
             [
              1,
              "#f0f921"
             ]
            ],
            "type": "heatmap"
           }
          ],
          "heatmapgl": [
           {
            "colorbar": {
             "outlinewidth": 0,
             "ticks": ""
            },
            "colorscale": [
             [
              0,
              "#0d0887"
             ],
             [
              0.1111111111111111,
              "#46039f"
             ],
             [
              0.2222222222222222,
              "#7201a8"
             ],
             [
              0.3333333333333333,
              "#9c179e"
             ],
             [
              0.4444444444444444,
              "#bd3786"
             ],
             [
              0.5555555555555556,
              "#d8576b"
             ],
             [
              0.6666666666666666,
              "#ed7953"
             ],
             [
              0.7777777777777778,
              "#fb9f3a"
             ],
             [
              0.8888888888888888,
              "#fdca26"
             ],
             [
              1,
              "#f0f921"
             ]
            ],
            "type": "heatmapgl"
           }
          ],
          "histogram": [
           {
            "marker": {
             "pattern": {
              "fillmode": "overlay",
              "size": 10,
              "solidity": 0.2
             }
            },
            "type": "histogram"
           }
          ],
          "histogram2d": [
           {
            "colorbar": {
             "outlinewidth": 0,
             "ticks": ""
            },
            "colorscale": [
             [
              0,
              "#0d0887"
             ],
             [
              0.1111111111111111,
              "#46039f"
             ],
             [
              0.2222222222222222,
              "#7201a8"
             ],
             [
              0.3333333333333333,
              "#9c179e"
             ],
             [
              0.4444444444444444,
              "#bd3786"
             ],
             [
              0.5555555555555556,
              "#d8576b"
             ],
             [
              0.6666666666666666,
              "#ed7953"
             ],
             [
              0.7777777777777778,
              "#fb9f3a"
             ],
             [
              0.8888888888888888,
              "#fdca26"
             ],
             [
              1,
              "#f0f921"
             ]
            ],
            "type": "histogram2d"
           }
          ],
          "histogram2dcontour": [
           {
            "colorbar": {
             "outlinewidth": 0,
             "ticks": ""
            },
            "colorscale": [
             [
              0,
              "#0d0887"
             ],
             [
              0.1111111111111111,
              "#46039f"
             ],
             [
              0.2222222222222222,
              "#7201a8"
             ],
             [
              0.3333333333333333,
              "#9c179e"
             ],
             [
              0.4444444444444444,
              "#bd3786"
             ],
             [
              0.5555555555555556,
              "#d8576b"
             ],
             [
              0.6666666666666666,
              "#ed7953"
             ],
             [
              0.7777777777777778,
              "#fb9f3a"
             ],
             [
              0.8888888888888888,
              "#fdca26"
             ],
             [
              1,
              "#f0f921"
             ]
            ],
            "type": "histogram2dcontour"
           }
          ],
          "mesh3d": [
           {
            "colorbar": {
             "outlinewidth": 0,
             "ticks": ""
            },
            "type": "mesh3d"
           }
          ],
          "parcoords": [
           {
            "line": {
             "colorbar": {
              "outlinewidth": 0,
              "ticks": ""
             }
            },
            "type": "parcoords"
           }
          ],
          "pie": [
           {
            "automargin": true,
            "type": "pie"
           }
          ],
          "scatter": [
           {
            "marker": {
             "colorbar": {
              "outlinewidth": 0,
              "ticks": ""
             }
            },
            "type": "scatter"
           }
          ],
          "scatter3d": [
           {
            "line": {
             "colorbar": {
              "outlinewidth": 0,
              "ticks": ""
             }
            },
            "marker": {
             "colorbar": {
              "outlinewidth": 0,
              "ticks": ""
             }
            },
            "type": "scatter3d"
           }
          ],
          "scattercarpet": [
           {
            "marker": {
             "colorbar": {
              "outlinewidth": 0,
              "ticks": ""
             }
            },
            "type": "scattercarpet"
           }
          ],
          "scattergeo": [
           {
            "marker": {
             "colorbar": {
              "outlinewidth": 0,
              "ticks": ""
             }
            },
            "type": "scattergeo"
           }
          ],
          "scattergl": [
           {
            "marker": {
             "colorbar": {
              "outlinewidth": 0,
              "ticks": ""
             }
            },
            "type": "scattergl"
           }
          ],
          "scattermapbox": [
           {
            "marker": {
             "colorbar": {
              "outlinewidth": 0,
              "ticks": ""
             }
            },
            "type": "scattermapbox"
           }
          ],
          "scatterpolar": [
           {
            "marker": {
             "colorbar": {
              "outlinewidth": 0,
              "ticks": ""
             }
            },
            "type": "scatterpolar"
           }
          ],
          "scatterpolargl": [
           {
            "marker": {
             "colorbar": {
              "outlinewidth": 0,
              "ticks": ""
             }
            },
            "type": "scatterpolargl"
           }
          ],
          "scatterternary": [
           {
            "marker": {
             "colorbar": {
              "outlinewidth": 0,
              "ticks": ""
             }
            },
            "type": "scatterternary"
           }
          ],
          "surface": [
           {
            "colorbar": {
             "outlinewidth": 0,
             "ticks": ""
            },
            "colorscale": [
             [
              0,
              "#0d0887"
             ],
             [
              0.1111111111111111,
              "#46039f"
             ],
             [
              0.2222222222222222,
              "#7201a8"
             ],
             [
              0.3333333333333333,
              "#9c179e"
             ],
             [
              0.4444444444444444,
              "#bd3786"
             ],
             [
              0.5555555555555556,
              "#d8576b"
             ],
             [
              0.6666666666666666,
              "#ed7953"
             ],
             [
              0.7777777777777778,
              "#fb9f3a"
             ],
             [
              0.8888888888888888,
              "#fdca26"
             ],
             [
              1,
              "#f0f921"
             ]
            ],
            "type": "surface"
           }
          ],
          "table": [
           {
            "cells": {
             "fill": {
              "color": "#EBF0F8"
             },
             "line": {
              "color": "white"
             }
            },
            "header": {
             "fill": {
              "color": "#C8D4E3"
             },
             "line": {
              "color": "white"
             }
            },
            "type": "table"
           }
          ]
         },
         "layout": {
          "annotationdefaults": {
           "arrowcolor": "#2a3f5f",
           "arrowhead": 0,
           "arrowwidth": 1
          },
          "autotypenumbers": "strict",
          "coloraxis": {
           "colorbar": {
            "outlinewidth": 0,
            "ticks": ""
           }
          },
          "colorscale": {
           "diverging": [
            [
             0,
             "#8e0152"
            ],
            [
             0.1,
             "#c51b7d"
            ],
            [
             0.2,
             "#de77ae"
            ],
            [
             0.3,
             "#f1b6da"
            ],
            [
             0.4,
             "#fde0ef"
            ],
            [
             0.5,
             "#f7f7f7"
            ],
            [
             0.6,
             "#e6f5d0"
            ],
            [
             0.7,
             "#b8e186"
            ],
            [
             0.8,
             "#7fbc41"
            ],
            [
             0.9,
             "#4d9221"
            ],
            [
             1,
             "#276419"
            ]
           ],
           "sequential": [
            [
             0,
             "#0d0887"
            ],
            [
             0.1111111111111111,
             "#46039f"
            ],
            [
             0.2222222222222222,
             "#7201a8"
            ],
            [
             0.3333333333333333,
             "#9c179e"
            ],
            [
             0.4444444444444444,
             "#bd3786"
            ],
            [
             0.5555555555555556,
             "#d8576b"
            ],
            [
             0.6666666666666666,
             "#ed7953"
            ],
            [
             0.7777777777777778,
             "#fb9f3a"
            ],
            [
             0.8888888888888888,
             "#fdca26"
            ],
            [
             1,
             "#f0f921"
            ]
           ],
           "sequentialminus": [
            [
             0,
             "#0d0887"
            ],
            [
             0.1111111111111111,
             "#46039f"
            ],
            [
             0.2222222222222222,
             "#7201a8"
            ],
            [
             0.3333333333333333,
             "#9c179e"
            ],
            [
             0.4444444444444444,
             "#bd3786"
            ],
            [
             0.5555555555555556,
             "#d8576b"
            ],
            [
             0.6666666666666666,
             "#ed7953"
            ],
            [
             0.7777777777777778,
             "#fb9f3a"
            ],
            [
             0.8888888888888888,
             "#fdca26"
            ],
            [
             1,
             "#f0f921"
            ]
           ]
          },
          "colorway": [
           "#636efa",
           "#EF553B",
           "#00cc96",
           "#ab63fa",
           "#FFA15A",
           "#19d3f3",
           "#FF6692",
           "#B6E880",
           "#FF97FF",
           "#FECB52"
          ],
          "font": {
           "color": "#2a3f5f"
          },
          "geo": {
           "bgcolor": "white",
           "lakecolor": "white",
           "landcolor": "#E5ECF6",
           "showlakes": true,
           "showland": true,
           "subunitcolor": "white"
          },
          "hoverlabel": {
           "align": "left"
          },
          "hovermode": "closest",
          "mapbox": {
           "style": "light"
          },
          "paper_bgcolor": "white",
          "plot_bgcolor": "#E5ECF6",
          "polar": {
           "angularaxis": {
            "gridcolor": "white",
            "linecolor": "white",
            "ticks": ""
           },
           "bgcolor": "#E5ECF6",
           "radialaxis": {
            "gridcolor": "white",
            "linecolor": "white",
            "ticks": ""
           }
          },
          "scene": {
           "xaxis": {
            "backgroundcolor": "#E5ECF6",
            "gridcolor": "white",
            "gridwidth": 2,
            "linecolor": "white",
            "showbackground": true,
            "ticks": "",
            "zerolinecolor": "white"
           },
           "yaxis": {
            "backgroundcolor": "#E5ECF6",
            "gridcolor": "white",
            "gridwidth": 2,
            "linecolor": "white",
            "showbackground": true,
            "ticks": "",
            "zerolinecolor": "white"
           },
           "zaxis": {
            "backgroundcolor": "#E5ECF6",
            "gridcolor": "white",
            "gridwidth": 2,
            "linecolor": "white",
            "showbackground": true,
            "ticks": "",
            "zerolinecolor": "white"
           }
          },
          "shapedefaults": {
           "line": {
            "color": "#2a3f5f"
           }
          },
          "ternary": {
           "aaxis": {
            "gridcolor": "white",
            "linecolor": "white",
            "ticks": ""
           },
           "baxis": {
            "gridcolor": "white",
            "linecolor": "white",
            "ticks": ""
           },
           "bgcolor": "#E5ECF6",
           "caxis": {
            "gridcolor": "white",
            "linecolor": "white",
            "ticks": ""
           }
          },
          "title": {
           "x": 0.05
          },
          "xaxis": {
           "automargin": true,
           "gridcolor": "white",
           "linecolor": "white",
           "ticks": "",
           "title": {
            "standoff": 15
           },
           "zerolinecolor": "white",
           "zerolinewidth": 2
          },
          "yaxis": {
           "automargin": true,
           "gridcolor": "white",
           "linecolor": "white",
           "ticks": "",
           "title": {
            "standoff": 15
           },
           "zerolinecolor": "white",
           "zerolinewidth": 2
          }
         }
        },
        "title": {
         "text": "% difference: dvf, dvafbook"
        },
        "xaxis": {
         "anchor": "y",
         "domain": [
          0,
          1
         ],
         "title": {
          "text": "index"
         }
        },
        "yaxis": {
         "anchor": "x",
         "domain": [
          0,
          1
         ],
         "title": {
          "text": "value"
         }
        }
       }
      }
     },
     "metadata": {},
     "output_type": "display_data"
    }
   ],
   "source": [
    "fig = px.bar(df_diff[\"dvf\"]-df_diff[\"dvf_book\"]/df_diff[\"dvf\"],title=\"% difference: dvf, dvafbook\", barmode=\"group\", text_auto=\".2\")\n",
    "fig.show()"
   ]
  },
  {
   "cell_type": "code",
   "execution_count": 22,
   "metadata": {},
   "outputs": [
    {
     "data": {
      "application/vnd.plotly.v1+json": {
       "config": {
        "plotlyServerURL": "https://plot.ly"
       },
       "data": [
        {
         "hovertemplate": "variable=Error<br>index=%{x}<br>value=%{y}<extra></extra>",
         "legendgroup": "Error",
         "line": {
          "color": "#636efa",
          "dash": "solid"
         },
         "marker": {
          "symbol": "circle"
         },
         "mode": "lines",
         "name": "Error",
         "orientation": "v",
         "showlegend": true,
         "type": "scatter",
         "x": [
          0,
          1,
          2,
          3,
          4,
          5,
          6,
          7,
          8,
          9,
          10,
          11,
          12,
          13,
          14,
          15,
          16,
          17,
          18,
          19,
          20,
          21,
          22,
          23,
          24,
          25,
          26,
          27,
          28,
          29,
          30,
          31,
          32,
          33,
          34,
          35,
          36,
          37,
          38,
          39,
          40,
          41,
          42,
          43,
          44,
          45,
          46,
          47,
          48,
          49,
          50,
          51,
          52,
          53,
          54,
          55,
          56,
          57,
          58,
          59,
          60,
          61,
          62,
          63,
          64,
          65,
          66,
          67,
          68,
          69,
          70,
          71,
          72,
          73,
          74,
          75,
          76,
          77,
          78,
          79,
          80,
          81,
          82,
          83,
          84,
          85,
          86,
          87,
          88,
          89,
          90,
          91,
          92,
          93,
          94,
          95,
          96,
          97,
          98,
          99,
          100,
          101,
          102,
          103,
          104,
          105,
          106,
          107,
          108,
          109,
          110,
          111,
          112,
          113,
          114,
          115,
          116,
          117,
          118,
          119,
          120,
          121,
          122,
          123,
          124,
          125,
          126,
          127,
          128,
          129,
          130,
          131,
          132,
          133,
          134,
          135,
          136,
          137,
          138,
          139,
          140,
          141,
          142,
          143,
          144,
          145,
          146,
          147,
          148,
          149,
          150,
          151,
          152,
          153,
          154,
          155,
          156,
          157,
          158,
          159,
          160,
          161,
          162,
          163,
          164,
          165,
          166,
          167,
          168,
          169,
          170,
          171,
          172,
          173,
          174,
          175,
          176,
          177,
          178,
          179,
          180,
          181,
          182,
          183,
          184,
          185,
          186,
          187,
          188,
          189,
          190,
          191,
          192,
          193,
          194,
          195,
          196,
          197,
          198,
          199,
          200,
          201,
          202,
          203,
          204,
          205,
          206,
          207,
          208,
          209,
          210,
          211,
          212,
          213,
          214,
          215,
          216,
          217,
          218,
          219,
          220,
          221,
          222,
          223,
          224,
          225,
          226,
          227,
          228,
          229,
          230,
          231,
          232,
          233,
          234,
          235,
          236,
          237,
          238,
          239,
          240,
          241,
          242,
          243,
          244,
          245,
          246,
          247,
          248,
          249,
          250,
          251,
          252,
          253,
          254,
          255,
          256,
          257,
          258,
          259,
          260,
          261,
          262,
          263,
          264,
          265,
          266,
          267,
          268,
          269,
          270,
          271,
          272,
          273,
          274,
          275,
          276,
          277,
          278,
          279,
          280,
          281,
          282,
          283,
          284,
          285,
          286,
          287,
          288,
          289,
          290,
          291,
          292,
          293,
          294,
          295,
          296,
          297,
          298,
          299,
          300,
          301,
          302,
          303,
          304,
          305,
          306,
          307,
          308,
          309,
          310,
          311,
          312,
          313,
          314,
          315,
          316,
          317,
          318,
          319,
          320,
          321,
          322,
          323,
          324,
          325,
          326,
          327,
          328,
          329,
          330,
          331,
          332,
          333,
          334,
          335,
          336,
          337,
          338,
          339,
          340,
          341,
          342,
          343,
          344,
          345,
          346,
          347,
          348,
          349,
          350,
          351,
          352,
          353,
          354,
          355,
          356,
          357,
          358,
          359,
          360,
          361,
          362,
          363,
          364,
          365,
          366,
          367,
          368,
          369,
          370,
          371,
          372,
          373,
          374,
          375,
          376,
          377,
          378,
          379,
          380,
          381,
          382,
          383,
          384,
          385,
          386,
          387,
          388,
          389,
          390,
          391,
          392,
          393,
          394,
          395,
          396,
          397,
          398,
          399,
          400,
          401,
          402,
          403,
          404,
          405,
          406,
          407,
          408,
          409,
          410,
          411,
          412,
          413,
          414,
          415,
          416,
          417,
          418,
          419,
          420,
          421,
          422,
          423,
          424,
          425,
          426,
          427,
          428,
          429,
          430,
          431,
          432,
          433,
          434,
          435,
          436,
          437,
          438,
          439,
          440,
          441,
          442,
          443,
          444,
          445,
          446,
          447,
          448,
          449,
          450,
          451,
          452,
          453,
          454,
          455,
          456,
          457,
          458,
          459,
          460,
          461,
          462,
          463,
          464,
          465,
          466,
          467,
          468,
          469,
          470,
          471,
          472,
          473,
          474,
          475,
          476,
          477,
          478,
          479,
          480,
          481,
          482,
          483,
          484,
          485,
          486,
          487,
          488,
          489,
          490,
          491,
          492,
          493,
          494,
          495,
          496,
          497,
          498,
          499
         ],
         "xaxis": "x",
         "y": [
          0.1673501431941986,
          0.4905237555503845,
          1.4444284439086914,
          2.1546943187713623,
          2.298328399658203,
          2.3173553943634033,
          2.319774627685547,
          2.320495128631592,
          2.320906639099121,
          2.3213326930999756,
          2.321739673614502,
          2.322155714035034,
          2.3225693702697754,
          2.322986364364624,
          2.323403835296631,
          2.3238236904144287,
          2.324244260787964,
          2.324666738510132,
          2.3250908851623535,
          2.3255162239074707,
          2.3259434700012207,
          2.3263726234436035,
          2.3268024921417236,
          2.3272337913513184,
          2.327667713165283,
          2.3281028270721436,
          2.3285393714904785,
          2.328977584838867,
          2.3294177055358887,
          2.3298587799072266,
          2.3303022384643555,
          2.330747127532959,
          2.3311939239501953,
          2.3316421508789062,
          2.332092046737671,
          2.3325438499450684,
          2.3329970836639404,
          2.3334522247314453,
          2.333909273147583,
          2.3343679904937744,
          2.3348283767700195,
          2.3352909088134766,
          2.3357551097869873,
          2.3362207412719727,
          2.33668851852417,
          2.337158203125,
          2.337629795074463,
          2.3381028175354004,
          2.33857798576355,
          2.339055061340332,
          2.339534044265747,
          2.340015172958374,
          2.3404979705810547,
          2.340982437133789,
          2.3414692878723145,
          2.3419580459594727,
          2.3424489498138428,
          2.342942237854004,
          2.3434367179870605,
          2.3439340591430664,
          2.3444323539733887,
          2.34493350982666,
          2.3454368114471436,
          2.3459420204162598,
          2.346449136734009,
          2.3469581604003906,
          2.347470283508301,
          2.3479838371276855,
          2.3484997749328613,
          2.349018096923828,
          2.349538564682007,
          2.3500611782073975,
          2.350586175918579,
          2.3511128425598145,
          2.351642608642578,
          2.3521740436553955,
          2.352708339691162,
          2.3532443046569824,
          2.353783130645752,
          2.3543248176574707,
          2.354868173599243,
          2.3554139137268066,
          2.3559622764587402,
          2.356513261795044,
          2.3570666313171387,
          2.3576226234436035,
          2.3581809997558594,
          2.3587419986724854,
          2.3593051433563232,
          2.3598711490631104,
          2.360440254211426,
          2.361011505126953,
          2.3615856170654297,
          2.362161636352539,
          2.362740993499756,
          2.3633227348327637,
          2.363907814025879,
          2.364495277404785,
          2.3650853633880615,
          2.3656787872314453,
          2.366274356842041,
          2.3668735027313232,
          2.3674747943878174,
          2.36807918548584,
          2.3686866760253906,
          2.3692970275878906,
          2.369910478591919,
          2.3705267906188965,
          2.3711459636688232,
          2.3717687129974365,
          2.372394561767578,
          2.37302303314209,
          2.37365460395813,
          2.3742895126342773,
          2.3749277591705322,
          2.3755688667297363,
          2.376213788986206,
          2.376861810684204,
          2.3775129318237305,
          2.378167152404785,
          2.3788254261016846,
          2.379486560821533,
          2.3801510334014893,
          2.380819320678711,
          2.381491184234619,
          2.382166624069214,
          2.382845401763916,
          2.3835272789001465,
          2.384213924407959,
          2.3849029541015625,
          2.385596752166748,
          2.386293411254883,
          2.3869943618774414,
          2.3876991271972656,
          2.3884077072143555,
          2.389120101928711,
          2.389836311340332,
          2.3905560970306396,
          2.391280174255371,
          2.3920083045959473,
          2.3927407264709473,
          2.393477201461792,
          2.3942179679870605,
          2.3949623107910156,
          2.3957114219665527,
          2.3964643478393555,
          2.3972220420837402,
          2.3979837894439697,
          2.398749828338623,
          2.3995203971862793,
          2.4002952575683594,
          2.4010748863220215,
          2.4018590450286865,
          2.4026479721069336,
          2.4034416675567627,
          2.4042396545410156,
          2.4050426483154297,
          2.405850410461426,
          2.406662940979004,
          2.407480239868164,
          2.4083023071289062,
          2.4091298580169678,
          2.4099621772766113,
          2.410799980163574,
          2.4116427898406982,
          2.4124908447265625,
          2.413343667984009,
          2.4142019748687744,
          2.4150660037994385,
          2.4159350395202637,
          2.4168100357055664,
          2.4176907539367676,
          2.418576240539551,
          2.4194676876068115,
          2.42036509513855,
          2.4212679862976074,
          2.4221768379211426,
          2.4230918884277344,
          2.4240121841430664,
          2.4249391555786133,
          2.4258720874786377,
          2.4268107414245605,
          2.427755832672119,
          2.4287071228027344,
          2.4296650886535645,
          2.4306297302246094,
          2.4316000938415527,
          2.432577133178711,
          2.433560848236084,
          2.434551239013672,
          2.435548782348633,
          2.4365525245666504,
          2.437563419342041,
          2.4385812282562256,
          2.439606189727783,
          2.4406380653381348,
          2.4416770935058594,
          2.4427237510681152,
          2.443777561187744,
          2.444838523864746,
          2.4459071159362793,
          2.4469828605651855,
          2.448066473007202,
          2.44915771484375,
          2.450256824493408,
          2.451364040374756,
          2.4524788856506348,
          2.453601360321045,
          2.4547319412231445,
          2.4558708667755127,
          2.457017660140991,
          2.4581727981567383,
          2.459336519241333,
          2.460508346557617,
          2.46168851852417,
          2.4628772735595703,
          2.4640746116638184,
          2.465280532836914,
          2.4664950370788574,
          2.4677181243896484,
          2.4689502716064453,
          2.470191478729248,
          2.4714410305023193,
          2.4726996421813965,
          2.4739670753479004,
          2.475243091583252,
          2.4765286445617676,
          2.47782301902771,
          2.479126214981079,
          2.480438709259033,
          2.481759786605835,
          2.4830899238586426,
          2.484428882598877,
          2.485776662826538,
          2.487133502960205,
          2.4884986877441406,
          2.489872932434082,
          2.491255760192871,
          2.4926466941833496,
          2.494046211242676,
          2.4954538345336914,
          2.496868848800659,
          2.4982919692993164,
          2.4997222423553467,
          2.50115966796875,
          2.5026044845581055,
          2.5040552616119385,
          2.5055127143859863,
          2.5069751739501953,
          2.5084428787231445,
          2.5099148750305176,
          2.5113914012908936,
          2.5128707885742188,
          2.514352798461914,
          2.515836238861084,
          2.517320156097412,
          2.518803834915161,
          2.5202860832214355,
          2.5217649936676025,
          2.5232396125793457,
          2.524707794189453,
          2.5261683464050293,
          2.527618646621704,
          2.529057025909424,
          2.530480146408081,
          2.531886100769043,
          2.533271312713623,
          2.534632444381714,
          2.5359654426574707,
          2.5372657775878906,
          2.5385289192199707,
          2.5397493839263916,
          2.5409204959869385,
          2.5420358180999756,
          2.5430874824523926,
          2.5440661907196045,
          2.5449624061584473,
          2.545764446258545,
          2.546459674835205,
          2.5470330715179443,
          2.5474681854248047,
          2.547746181488037,
          2.5478439331054688,
          2.547736644744873,
          2.5473947525024414,
          2.546783924102783,
          2.5458643436431885,
          2.5445895195007324,
          2.5429039001464844,
          2.540743827819824,
          2.5380311012268066,
          2.5346736907958984,
          2.5305609703063965,
          2.5255589485168457,
          2.5195038318634033,
          2.5121941566467285,
          2.50338077545166,
          2.4927523136138916,
          2.479915142059326,
          2.464369297027588,
          2.4454731941223145,
          2.422398567199707,
          2.394073963165283,
          2.359126567840576,
          2.315840244293213,
          2.2622241973876953,
          2.1963627338409424,
          2.1174280643463135,
          2.0276012420654297,
          1.9337763786315918,
          1.8450111150741577,
          1.7641056776046753,
          1.6840972900390625,
          1.5974645614624023,
          1.505130410194397,
          1.4166035652160645,
          1.343765377998352,
          1.2908068895339966,
          1.2486692667007446,
          1.2026854753494263,
          1.142427921295166,
          1.0604233741760254,
          0.9487910866737366,
          0.8051896095275879,
          0.6602105498313904,
          0.5268540978431702,
          0.34998390078544617,
          0.2587970793247223,
          0.21478575468063354,
          0.18447616696357727,
          0.1587609499692917,
          0.13351485133171082,
          0.10525932908058167,
          0.07328709214925766,
          0.05488540977239609,
          0.030894670635461807,
          0.002235337160527706,
          0,
          0,
          0,
          0,
          0,
          0,
          0,
          0,
          0,
          0,
          0,
          0,
          0,
          0,
          0,
          0,
          0,
          0,
          0,
          0,
          0,
          0,
          0,
          0,
          0,
          0,
          0,
          0,
          0,
          0,
          0,
          0,
          0,
          0,
          0,
          0,
          0,
          0,
          0,
          0,
          0,
          0,
          0,
          0,
          0,
          0,
          0,
          0,
          0,
          0,
          0,
          0,
          0,
          0,
          0,
          0,
          0,
          0,
          0,
          0,
          0,
          0,
          0,
          0,
          0,
          0,
          0,
          0,
          0,
          0,
          0,
          0,
          0,
          0,
          0,
          0,
          0,
          0,
          0,
          0,
          0,
          0,
          0,
          0,
          0,
          0,
          0,
          0,
          0,
          0,
          0,
          0,
          0,
          0,
          0,
          0,
          0,
          0,
          0,
          0,
          0,
          0,
          0,
          0,
          0,
          0,
          0,
          0,
          0,
          0,
          0,
          0,
          0,
          0,
          0,
          0,
          0,
          0,
          0,
          0,
          0,
          0,
          0,
          0,
          0,
          0,
          0,
          0,
          0,
          0,
          0,
          0,
          0,
          0,
          0,
          0,
          0,
          0,
          0,
          0,
          0,
          0,
          0,
          0,
          0,
          0,
          0,
          0,
          0,
          0,
          0,
          0,
          0,
          0,
          0,
          0,
          0,
          0,
          0,
          0,
          0,
          0,
          0
         ],
         "yaxis": "y"
        },
        {
         "hovertemplate": "variable=Temperature<br>index=%{x}<br>value=%{y}<extra></extra>",
         "legendgroup": "Temperature",
         "line": {
          "color": "#EF553B",
          "dash": "solid"
         },
         "marker": {
          "symbol": "circle"
         },
         "mode": "lines",
         "name": "Temperature",
         "orientation": "v",
         "showlegend": true,
         "type": "scatter",
         "x": [
          0,
          1,
          2,
          3,
          4,
          5,
          6,
          7,
          8,
          9,
          10,
          11,
          12,
          13,
          14,
          15,
          16,
          17,
          18,
          19,
          20,
          21,
          22,
          23,
          24,
          25,
          26,
          27,
          28,
          29,
          30,
          31,
          32,
          33,
          34,
          35,
          36,
          37,
          38,
          39,
          40,
          41,
          42,
          43,
          44,
          45,
          46,
          47,
          48,
          49,
          50,
          51,
          52,
          53,
          54,
          55,
          56,
          57,
          58,
          59,
          60,
          61,
          62,
          63,
          64,
          65,
          66,
          67,
          68,
          69,
          70,
          71,
          72,
          73,
          74,
          75,
          76,
          77,
          78,
          79,
          80,
          81,
          82,
          83,
          84,
          85,
          86,
          87,
          88,
          89,
          90,
          91,
          92,
          93,
          94,
          95,
          96,
          97,
          98,
          99,
          100,
          101,
          102,
          103,
          104,
          105,
          106,
          107,
          108,
          109,
          110,
          111,
          112,
          113,
          114,
          115,
          116,
          117,
          118,
          119,
          120,
          121,
          122,
          123,
          124,
          125,
          126,
          127,
          128,
          129,
          130,
          131,
          132,
          133,
          134,
          135,
          136,
          137,
          138,
          139,
          140,
          141,
          142,
          143,
          144,
          145,
          146,
          147,
          148,
          149,
          150,
          151,
          152,
          153,
          154,
          155,
          156,
          157,
          158,
          159,
          160,
          161,
          162,
          163,
          164,
          165,
          166,
          167,
          168,
          169,
          170,
          171,
          172,
          173,
          174,
          175,
          176,
          177,
          178,
          179,
          180,
          181,
          182,
          183,
          184,
          185,
          186,
          187,
          188,
          189,
          190,
          191,
          192,
          193,
          194,
          195,
          196,
          197,
          198,
          199,
          200,
          201,
          202,
          203,
          204,
          205,
          206,
          207,
          208,
          209,
          210,
          211,
          212,
          213,
          214,
          215,
          216,
          217,
          218,
          219,
          220,
          221,
          222,
          223,
          224,
          225,
          226,
          227,
          228,
          229,
          230,
          231,
          232,
          233,
          234,
          235,
          236,
          237,
          238,
          239,
          240,
          241,
          242,
          243,
          244,
          245,
          246,
          247,
          248,
          249,
          250,
          251,
          252,
          253,
          254,
          255,
          256,
          257,
          258,
          259,
          260,
          261,
          262,
          263,
          264,
          265,
          266,
          267,
          268,
          269,
          270,
          271,
          272,
          273,
          274,
          275,
          276,
          277,
          278,
          279,
          280,
          281,
          282,
          283,
          284,
          285,
          286,
          287,
          288,
          289,
          290,
          291,
          292,
          293,
          294,
          295,
          296,
          297,
          298,
          299,
          300,
          301,
          302,
          303,
          304,
          305,
          306,
          307,
          308,
          309,
          310,
          311,
          312,
          313,
          314,
          315,
          316,
          317,
          318,
          319,
          320,
          321,
          322,
          323,
          324,
          325,
          326,
          327,
          328,
          329,
          330,
          331,
          332,
          333,
          334,
          335,
          336,
          337,
          338,
          339,
          340,
          341,
          342,
          343,
          344,
          345,
          346,
          347,
          348,
          349,
          350,
          351,
          352,
          353,
          354,
          355,
          356,
          357,
          358,
          359,
          360,
          361,
          362,
          363,
          364,
          365,
          366,
          367,
          368,
          369,
          370,
          371,
          372,
          373,
          374,
          375,
          376,
          377,
          378,
          379,
          380,
          381,
          382,
          383,
          384,
          385,
          386,
          387,
          388,
          389,
          390,
          391,
          392,
          393,
          394,
          395,
          396,
          397,
          398,
          399,
          400,
          401,
          402,
          403,
          404,
          405,
          406,
          407,
          408,
          409,
          410,
          411,
          412,
          413,
          414,
          415,
          416,
          417,
          418,
          419,
          420,
          421,
          422,
          423,
          424,
          425,
          426,
          427,
          428,
          429,
          430,
          431,
          432,
          433,
          434,
          435,
          436,
          437,
          438,
          439,
          440,
          441,
          442,
          443,
          444,
          445,
          446,
          447,
          448,
          449,
          450,
          451,
          452,
          453,
          454,
          455,
          456,
          457,
          458,
          459,
          460,
          461,
          462,
          463,
          464,
          465,
          466,
          467,
          468,
          469,
          470,
          471,
          472,
          473,
          474,
          475,
          476,
          477,
          478,
          479,
          480,
          481,
          482,
          483,
          484,
          485,
          486,
          487,
          488,
          489,
          490,
          491,
          492,
          493,
          494,
          495,
          496,
          497,
          498,
          499
         ],
         "xaxis": "x",
         "y": [
          0.1433590054512024,
          0.32909494638442993,
          0.5909063816070557,
          0.683012068271637,
          0.696816086769104,
          0.698555052280426,
          0.6987746953964233,
          0.6988400816917419,
          0.6988774538040161,
          0.6989160776138306,
          0.6989529132843018,
          0.6989906430244446,
          0.6990281343460083,
          0.6990658640861511,
          0.6991037130355835,
          0.6991416811943054,
          0.6991797685623169,
          0.6992179751396179,
          0.6992563009262085,
          0.6992948055267334,
          0.6993334293365479,
          0.6993722319602966,
          0.6994110345840454,
          0.6994500160217285,
          0.6994892358779907,
          0.6995285153388977,
          0.6995679140090942,
          0.6996074914932251,
          0.6996471881866455,
          0.6996870040893555,
          0.699726939201355,
          0.6997670531272888,
          0.6998072862625122,
          0.6998476982116699,
          0.6998882293701172,
          0.6999289393424988,
          0.6999697685241699,
          0.7000106573104858,
          0.7000517845153809,
          0.7000930905342102,
          0.7001345157623291,
          0.7001761198043823,
          0.7002178430557251,
          0.7002596855163574,
          0.7003016471862793,
          0.7003438472747803,
          0.7003861665725708,
          0.7004286050796509,
          0.7004712820053101,
          0.7005140781402588,
          0.7005569934844971,
          0.7006001472473145,
          0.7006434202194214,
          0.7006868124008179,
          0.7007304430007935,
          0.7007741928100586,
          0.7008181810379028,
          0.7008622884750366,
          0.70090651512146,
          0.7009510397911072,
          0.7009955644607544,
          0.7010403871536255,
          0.7010853290557861,
          0.7011305093765259,
          0.7011758089065552,
          0.701221227645874,
          0.7012669444084167,
          0.701312780380249,
          0.7013587951660156,
          0.7014050483703613,
          0.7014514207839966,
          0.7014980316162109,
          0.7015447616577148,
          0.7015916705131531,
          0.7016388177871704,
          0.7016861438751221,
          0.7017337083816528,
          0.7017813324928284,
          0.7018292546272278,
          0.7018774151802063,
          0.7019256949424744,
          0.7019741535186768,
          0.702022910118103,
          0.7020717859268188,
          0.7021209001541138,
          0.7021702527999878,
          0.7022197246551514,
          0.7022694945335388,
          0.7023193836212158,
          0.7023695707321167,
          0.7024199366569519,
          0.7024705410003662,
          0.7025213241577148,
          0.7025722861289978,
          0.7026235461235046,
          0.7026749849319458,
          0.7027267217636108,
          0.7027785778045654,
          0.7028307318687439,
          0.7028831243515015,
          0.7029356956481934,
          0.7029885053634644,
          0.7030415534973145,
          0.7030948400497437,
          0.703148365020752,
          0.7032021880149841,
          0.7032562494277954,
          0.703310489654541,
          0.7033649682998657,
          0.7034197449684143,
          0.703474760055542,
          0.7035300731658936,
          0.7035855054855347,
          0.7036412954330444,
          0.7036973237991333,
          0.703753650188446,
          0.7038102149963379,
          0.7038670778274536,
          0.7039241790771484,
          0.7039815187454224,
          0.7040391564369202,
          0.7040970325469971,
          0.7041552066802979,
          0.7042137384414673,
          0.7042725086212158,
          0.7043315172195435,
          0.7043908834457397,
          0.7044504284858704,
          0.7045103907585144,
          0.7045705318450928,
          0.7046310901641846,
          0.7046918869018555,
          0.7047529816627502,
          0.7048144340515137,
          0.7048761248588562,
          0.7049381732940674,
          0.7050005197525024,
          0.7050631046295166,
          0.7051261067390442,
          0.7051894068717957,
          0.705253005027771,
          0.7053170204162598,
          0.7053813338279724,
          0.7054458856582642,
          0.7055109143257141,
          0.7055761814117432,
          0.7056418657302856,
          0.705707848072052,
          0.705774188041687,
          0.7058408260345459,
          0.7059078812599182,
          0.7059752941131592,
          0.7060431241989136,
          0.7061112523078918,
          0.7061797380447388,
          0.7062486410140991,
          0.7063179016113281,
          0.7063875794410706,
          0.7064576148986816,
          0.7065280079841614,
          0.7065987586975098,
          0.7066700458526611,
          0.7067415714263916,
          0.7068136930465698,
          0.7068860530853271,
          0.7069588899612427,
          0.7070321440696716,
          0.7071057558059692,
          0.7071799039840698,
          0.7072544097900391,
          0.7073293924331665,
          0.7074047327041626,
          0.7074805498123169,
          0.7075568437576294,
          0.7076335549354553,
          0.7077107429504395,
          0.707788348197937,
          0.7078664302825928,
          0.7079449892044067,
          0.7080240249633789,
          0.7081035375595093,
          0.7081834673881531,
          0.7082639336585999,
          0.7083448767662048,
          0.7084263563156128,
          0.708508312702179,
          0.7085907459259033,
          0.7086737155914307,
          0.7087571620941162,
          0.7088411450386047,
          0.708925724029541,
          0.7090107202529907,
          0.7090963125228882,
          0.7091823816299438,
          0.7092690467834473,
          0.7093562483787537,
          0.709443986415863,
          0.7095323204994202,
          0.7096211910247803,
          0.7097105979919434,
          0.709800660610199,
          0.7098912000656128,
          0.7099823951721191,
          0.7100741863250732,
          0.7101665139198303,
          0.7102594971656799,
          0.7103530168533325,
          0.7104471921920776,
          0.7105419635772705,
          0.7106373310089111,
          0.7107332944869995,
          0.7108299732208252,
          0.7109272480010986,
          0.7110251188278198,
          0.7111236453056335,
          0.711222767829895,
          0.7113226056098938,
          0.7114230394363403,
          0.7115241885185242,
          0.7116259336471558,
          0.7117283344268799,
          0.7118314504623413,
          0.7119351625442505,
          0.712039589881897,
          0.7121446132659912,
          0.7122503519058228,
          0.7123567461967468,
          0.7124637961387634,
          0.7125715017318726,
          0.7126798629760742,
          0.7127889394760132,
          0.7128986120223999,
          0.7130088806152344,
          0.7131198644638062,
          0.7132315039634705,
          0.7133437395095825,
          0.7134566307067871,
          0.7135701179504395,
          0.7136842012405396,
          0.7137988805770874,
          0.713914155960083,
          0.7140299081802368,
          0.7141462564468384,
          0.7142630815505981,
          0.7143803834915161,
          0.7144981622695923,
          0.7146163582801819,
          0.7147350311279297,
          0.7148540019989014,
          0.7149732708930969,
          0.7150927782058716,
          0.7152125835418701,
          0.7153325080871582,
          0.7154525518417358,
          0.7155726552009583,
          0.7156926393508911,
          0.7158125042915344,
          0.7159321904182434,
          0.716051459312439,
          0.7161703109741211,
          0.7162885665893555,
          0.7164060473442078,
          0.7165226340293884,
          0.7166382074356079,
          0.7167524099349976,
          0.7168651819229126,
          0.7169761657714844,
          0.7170851230621338,
          0.7171918153762817,
          0.71729576587677,
          0.7173966765403748,
          0.7174941301345825,
          0.7175875902175903,
          0.7176765203475952,
          0.7177603244781494,
          0.7178382277488708,
          0.717909574508667,
          0.7179733514785767,
          0.7180286645889282,
          0.7180742025375366,
          0.7181088328361511,
          0.7181309461593628,
          0.7181386947631836,
          0.7181301116943359,
          0.7181029915809631,
          0.7180544137954712,
          0.7179813385009766,
          0.7178798913955688,
          0.7177456617355347,
          0.7175734639167786,
          0.7173569202423096,
          0.7170884609222412,
          0.7167589068412781,
          0.7163569927215576,
          0.7158690690994263,
          0.7152776718139648,
          0.7145614624023438,
          0.713692843914032,
          0.7126367092132568,
          0.7113471627235413,
          0.7097641229629517,
          0.7078073024749756,
          0.7053688168525696,
          0.7023035287857056,
          0.6984173059463501,
          0.6934607028961182,
          0.68714439868927,
          0.6792227625846863,
          0.6697055101394653,
          0.6591423749923706,
          0.6485075354576111,
          0.6382193565368652,
          0.6274352669715881,
          0.6150091886520386,
          0.6008191704750061,
          0.5861960649490356,
          0.573336124420166,
          0.5634725689888,
          0.5552924871444702,
          0.5460087060928345,
          0.5332398414611816,
          0.5146628618240356,
          0.48686134815216064,
          0.4460415840148926,
          0.3976667523384094,
          0.3450585603713989,
          0.2592504620552063,
          0.20559078454971313,
          0.17680960893630981,
          0.15574491024017334,
          0.13700920343399048,
          0.11778837442398071,
          0.0952349305152893,
          0.06828290224075317,
          0.05202972888946533,
          0.029968738555908203,
          0.0022302865982055664,
          0,
          0,
          0,
          0,
          0,
          0,
          0,
          0,
          0,
          0,
          0,
          0,
          0,
          0,
          0,
          0,
          0,
          0,
          0,
          0,
          0,
          0,
          0,
          0,
          0,
          0,
          0,
          0,
          0,
          0,
          0,
          0,
          0,
          0,
          0,
          0,
          0,
          0,
          0,
          0,
          0,
          0,
          0,
          0,
          0,
          0,
          0,
          0,
          0,
          0,
          0,
          0,
          0,
          0,
          0,
          0,
          0,
          0,
          0,
          0,
          0,
          0,
          0,
          0,
          0,
          0,
          0,
          0,
          0,
          0,
          0,
          0,
          0,
          0,
          0,
          0,
          0,
          0,
          0,
          0,
          0,
          0,
          0,
          0,
          0,
          0,
          0,
          0,
          0,
          0,
          0,
          0,
          0,
          0,
          0,
          0,
          0,
          0,
          0,
          0,
          0,
          0,
          0,
          0,
          0,
          0,
          0,
          0,
          0,
          0,
          0,
          0,
          0,
          0,
          0,
          0,
          0,
          0,
          0,
          0,
          0,
          0,
          0,
          0,
          0,
          0,
          0,
          0,
          0,
          0,
          0,
          0,
          0,
          0,
          0,
          0,
          0,
          0,
          0,
          0,
          0,
          0,
          0,
          0,
          0,
          0,
          0,
          0,
          0,
          0,
          0,
          0,
          0,
          0,
          0,
          0,
          0,
          0,
          0,
          0,
          0,
          0,
          0
         ],
         "yaxis": "y"
        }
       ],
       "layout": {
        "hovermode": "x unified",
        "legend": {
         "title": {
          "text": "variable"
         },
         "tracegroupgap": 0
        },
        "margin": {
         "t": 60
        },
        "template": {
         "data": {
          "bar": [
           {
            "error_x": {
             "color": "#2a3f5f"
            },
            "error_y": {
             "color": "#2a3f5f"
            },
            "marker": {
             "line": {
              "color": "#E5ECF6",
              "width": 0.5
             },
             "pattern": {
              "fillmode": "overlay",
              "size": 10,
              "solidity": 0.2
             }
            },
            "type": "bar"
           }
          ],
          "barpolar": [
           {
            "marker": {
             "line": {
              "color": "#E5ECF6",
              "width": 0.5
             },
             "pattern": {
              "fillmode": "overlay",
              "size": 10,
              "solidity": 0.2
             }
            },
            "type": "barpolar"
           }
          ],
          "carpet": [
           {
            "aaxis": {
             "endlinecolor": "#2a3f5f",
             "gridcolor": "white",
             "linecolor": "white",
             "minorgridcolor": "white",
             "startlinecolor": "#2a3f5f"
            },
            "baxis": {
             "endlinecolor": "#2a3f5f",
             "gridcolor": "white",
             "linecolor": "white",
             "minorgridcolor": "white",
             "startlinecolor": "#2a3f5f"
            },
            "type": "carpet"
           }
          ],
          "choropleth": [
           {
            "colorbar": {
             "outlinewidth": 0,
             "ticks": ""
            },
            "type": "choropleth"
           }
          ],
          "contour": [
           {
            "colorbar": {
             "outlinewidth": 0,
             "ticks": ""
            },
            "colorscale": [
             [
              0,
              "#0d0887"
             ],
             [
              0.1111111111111111,
              "#46039f"
             ],
             [
              0.2222222222222222,
              "#7201a8"
             ],
             [
              0.3333333333333333,
              "#9c179e"
             ],
             [
              0.4444444444444444,
              "#bd3786"
             ],
             [
              0.5555555555555556,
              "#d8576b"
             ],
             [
              0.6666666666666666,
              "#ed7953"
             ],
             [
              0.7777777777777778,
              "#fb9f3a"
             ],
             [
              0.8888888888888888,
              "#fdca26"
             ],
             [
              1,
              "#f0f921"
             ]
            ],
            "type": "contour"
           }
          ],
          "contourcarpet": [
           {
            "colorbar": {
             "outlinewidth": 0,
             "ticks": ""
            },
            "type": "contourcarpet"
           }
          ],
          "heatmap": [
           {
            "colorbar": {
             "outlinewidth": 0,
             "ticks": ""
            },
            "colorscale": [
             [
              0,
              "#0d0887"
             ],
             [
              0.1111111111111111,
              "#46039f"
             ],
             [
              0.2222222222222222,
              "#7201a8"
             ],
             [
              0.3333333333333333,
              "#9c179e"
             ],
             [
              0.4444444444444444,
              "#bd3786"
             ],
             [
              0.5555555555555556,
              "#d8576b"
             ],
             [
              0.6666666666666666,
              "#ed7953"
             ],
             [
              0.7777777777777778,
              "#fb9f3a"
             ],
             [
              0.8888888888888888,
              "#fdca26"
             ],
             [
              1,
              "#f0f921"
             ]
            ],
            "type": "heatmap"
           }
          ],
          "heatmapgl": [
           {
            "colorbar": {
             "outlinewidth": 0,
             "ticks": ""
            },
            "colorscale": [
             [
              0,
              "#0d0887"
             ],
             [
              0.1111111111111111,
              "#46039f"
             ],
             [
              0.2222222222222222,
              "#7201a8"
             ],
             [
              0.3333333333333333,
              "#9c179e"
             ],
             [
              0.4444444444444444,
              "#bd3786"
             ],
             [
              0.5555555555555556,
              "#d8576b"
             ],
             [
              0.6666666666666666,
              "#ed7953"
             ],
             [
              0.7777777777777778,
              "#fb9f3a"
             ],
             [
              0.8888888888888888,
              "#fdca26"
             ],
             [
              1,
              "#f0f921"
             ]
            ],
            "type": "heatmapgl"
           }
          ],
          "histogram": [
           {
            "marker": {
             "pattern": {
              "fillmode": "overlay",
              "size": 10,
              "solidity": 0.2
             }
            },
            "type": "histogram"
           }
          ],
          "histogram2d": [
           {
            "colorbar": {
             "outlinewidth": 0,
             "ticks": ""
            },
            "colorscale": [
             [
              0,
              "#0d0887"
             ],
             [
              0.1111111111111111,
              "#46039f"
             ],
             [
              0.2222222222222222,
              "#7201a8"
             ],
             [
              0.3333333333333333,
              "#9c179e"
             ],
             [
              0.4444444444444444,
              "#bd3786"
             ],
             [
              0.5555555555555556,
              "#d8576b"
             ],
             [
              0.6666666666666666,
              "#ed7953"
             ],
             [
              0.7777777777777778,
              "#fb9f3a"
             ],
             [
              0.8888888888888888,
              "#fdca26"
             ],
             [
              1,
              "#f0f921"
             ]
            ],
            "type": "histogram2d"
           }
          ],
          "histogram2dcontour": [
           {
            "colorbar": {
             "outlinewidth": 0,
             "ticks": ""
            },
            "colorscale": [
             [
              0,
              "#0d0887"
             ],
             [
              0.1111111111111111,
              "#46039f"
             ],
             [
              0.2222222222222222,
              "#7201a8"
             ],
             [
              0.3333333333333333,
              "#9c179e"
             ],
             [
              0.4444444444444444,
              "#bd3786"
             ],
             [
              0.5555555555555556,
              "#d8576b"
             ],
             [
              0.6666666666666666,
              "#ed7953"
             ],
             [
              0.7777777777777778,
              "#fb9f3a"
             ],
             [
              0.8888888888888888,
              "#fdca26"
             ],
             [
              1,
              "#f0f921"
             ]
            ],
            "type": "histogram2dcontour"
           }
          ],
          "mesh3d": [
           {
            "colorbar": {
             "outlinewidth": 0,
             "ticks": ""
            },
            "type": "mesh3d"
           }
          ],
          "parcoords": [
           {
            "line": {
             "colorbar": {
              "outlinewidth": 0,
              "ticks": ""
             }
            },
            "type": "parcoords"
           }
          ],
          "pie": [
           {
            "automargin": true,
            "type": "pie"
           }
          ],
          "scatter": [
           {
            "marker": {
             "colorbar": {
              "outlinewidth": 0,
              "ticks": ""
             }
            },
            "type": "scatter"
           }
          ],
          "scatter3d": [
           {
            "line": {
             "colorbar": {
              "outlinewidth": 0,
              "ticks": ""
             }
            },
            "marker": {
             "colorbar": {
              "outlinewidth": 0,
              "ticks": ""
             }
            },
            "type": "scatter3d"
           }
          ],
          "scattercarpet": [
           {
            "marker": {
             "colorbar": {
              "outlinewidth": 0,
              "ticks": ""
             }
            },
            "type": "scattercarpet"
           }
          ],
          "scattergeo": [
           {
            "marker": {
             "colorbar": {
              "outlinewidth": 0,
              "ticks": ""
             }
            },
            "type": "scattergeo"
           }
          ],
          "scattergl": [
           {
            "marker": {
             "colorbar": {
              "outlinewidth": 0,
              "ticks": ""
             }
            },
            "type": "scattergl"
           }
          ],
          "scattermapbox": [
           {
            "marker": {
             "colorbar": {
              "outlinewidth": 0,
              "ticks": ""
             }
            },
            "type": "scattermapbox"
           }
          ],
          "scatterpolar": [
           {
            "marker": {
             "colorbar": {
              "outlinewidth": 0,
              "ticks": ""
             }
            },
            "type": "scatterpolar"
           }
          ],
          "scatterpolargl": [
           {
            "marker": {
             "colorbar": {
              "outlinewidth": 0,
              "ticks": ""
             }
            },
            "type": "scatterpolargl"
           }
          ],
          "scatterternary": [
           {
            "marker": {
             "colorbar": {
              "outlinewidth": 0,
              "ticks": ""
             }
            },
            "type": "scatterternary"
           }
          ],
          "surface": [
           {
            "colorbar": {
             "outlinewidth": 0,
             "ticks": ""
            },
            "colorscale": [
             [
              0,
              "#0d0887"
             ],
             [
              0.1111111111111111,
              "#46039f"
             ],
             [
              0.2222222222222222,
              "#7201a8"
             ],
             [
              0.3333333333333333,
              "#9c179e"
             ],
             [
              0.4444444444444444,
              "#bd3786"
             ],
             [
              0.5555555555555556,
              "#d8576b"
             ],
             [
              0.6666666666666666,
              "#ed7953"
             ],
             [
              0.7777777777777778,
              "#fb9f3a"
             ],
             [
              0.8888888888888888,
              "#fdca26"
             ],
             [
              1,
              "#f0f921"
             ]
            ],
            "type": "surface"
           }
          ],
          "table": [
           {
            "cells": {
             "fill": {
              "color": "#EBF0F8"
             },
             "line": {
              "color": "white"
             }
            },
            "header": {
             "fill": {
              "color": "#C8D4E3"
             },
             "line": {
              "color": "white"
             }
            },
            "type": "table"
           }
          ]
         },
         "layout": {
          "annotationdefaults": {
           "arrowcolor": "#2a3f5f",
           "arrowhead": 0,
           "arrowwidth": 1
          },
          "autotypenumbers": "strict",
          "coloraxis": {
           "colorbar": {
            "outlinewidth": 0,
            "ticks": ""
           }
          },
          "colorscale": {
           "diverging": [
            [
             0,
             "#8e0152"
            ],
            [
             0.1,
             "#c51b7d"
            ],
            [
             0.2,
             "#de77ae"
            ],
            [
             0.3,
             "#f1b6da"
            ],
            [
             0.4,
             "#fde0ef"
            ],
            [
             0.5,
             "#f7f7f7"
            ],
            [
             0.6,
             "#e6f5d0"
            ],
            [
             0.7,
             "#b8e186"
            ],
            [
             0.8,
             "#7fbc41"
            ],
            [
             0.9,
             "#4d9221"
            ],
            [
             1,
             "#276419"
            ]
           ],
           "sequential": [
            [
             0,
             "#0d0887"
            ],
            [
             0.1111111111111111,
             "#46039f"
            ],
            [
             0.2222222222222222,
             "#7201a8"
            ],
            [
             0.3333333333333333,
             "#9c179e"
            ],
            [
             0.4444444444444444,
             "#bd3786"
            ],
            [
             0.5555555555555556,
             "#d8576b"
            ],
            [
             0.6666666666666666,
             "#ed7953"
            ],
            [
             0.7777777777777778,
             "#fb9f3a"
            ],
            [
             0.8888888888888888,
             "#fdca26"
            ],
            [
             1,
             "#f0f921"
            ]
           ],
           "sequentialminus": [
            [
             0,
             "#0d0887"
            ],
            [
             0.1111111111111111,
             "#46039f"
            ],
            [
             0.2222222222222222,
             "#7201a8"
            ],
            [
             0.3333333333333333,
             "#9c179e"
            ],
            [
             0.4444444444444444,
             "#bd3786"
            ],
            [
             0.5555555555555556,
             "#d8576b"
            ],
            [
             0.6666666666666666,
             "#ed7953"
            ],
            [
             0.7777777777777778,
             "#fb9f3a"
            ],
            [
             0.8888888888888888,
             "#fdca26"
            ],
            [
             1,
             "#f0f921"
            ]
           ]
          },
          "colorway": [
           "#636efa",
           "#EF553B",
           "#00cc96",
           "#ab63fa",
           "#FFA15A",
           "#19d3f3",
           "#FF6692",
           "#B6E880",
           "#FF97FF",
           "#FECB52"
          ],
          "font": {
           "color": "#2a3f5f"
          },
          "geo": {
           "bgcolor": "white",
           "lakecolor": "white",
           "landcolor": "#E5ECF6",
           "showlakes": true,
           "showland": true,
           "subunitcolor": "white"
          },
          "hoverlabel": {
           "align": "left"
          },
          "hovermode": "closest",
          "mapbox": {
           "style": "light"
          },
          "paper_bgcolor": "white",
          "plot_bgcolor": "#E5ECF6",
          "polar": {
           "angularaxis": {
            "gridcolor": "white",
            "linecolor": "white",
            "ticks": ""
           },
           "bgcolor": "#E5ECF6",
           "radialaxis": {
            "gridcolor": "white",
            "linecolor": "white",
            "ticks": ""
           }
          },
          "scene": {
           "xaxis": {
            "backgroundcolor": "#E5ECF6",
            "gridcolor": "white",
            "gridwidth": 2,
            "linecolor": "white",
            "showbackground": true,
            "ticks": "",
            "zerolinecolor": "white"
           },
           "yaxis": {
            "backgroundcolor": "#E5ECF6",
            "gridcolor": "white",
            "gridwidth": 2,
            "linecolor": "white",
            "showbackground": true,
            "ticks": "",
            "zerolinecolor": "white"
           },
           "zaxis": {
            "backgroundcolor": "#E5ECF6",
            "gridcolor": "white",
            "gridwidth": 2,
            "linecolor": "white",
            "showbackground": true,
            "ticks": "",
            "zerolinecolor": "white"
           }
          },
          "shapedefaults": {
           "line": {
            "color": "#2a3f5f"
           }
          },
          "ternary": {
           "aaxis": {
            "gridcolor": "white",
            "linecolor": "white",
            "ticks": ""
           },
           "baxis": {
            "gridcolor": "white",
            "linecolor": "white",
            "ticks": ""
           },
           "bgcolor": "#E5ECF6",
           "caxis": {
            "gridcolor": "white",
            "linecolor": "white",
            "ticks": ""
           }
          },
          "title": {
           "x": 0.05
          },
          "xaxis": {
           "automargin": true,
           "gridcolor": "white",
           "linecolor": "white",
           "ticks": "",
           "title": {
            "standoff": 15
           },
           "zerolinecolor": "white",
           "zerolinewidth": 2
          },
          "yaxis": {
           "automargin": true,
           "gridcolor": "white",
           "linecolor": "white",
           "ticks": "",
           "title": {
            "standoff": 15
           },
           "zerolinecolor": "white",
           "zerolinewidth": 2
          }
         }
        },
        "title": {
         "text": "Monitored variables"
        },
        "xaxis": {
         "anchor": "y",
         "domain": [
          0,
          1
         ],
         "title": {
          "text": "Epoch"
         }
        },
        "yaxis": {
         "anchor": "x",
         "domain": [
          0,
          1
         ],
         "title": {
          "text": ""
         }
        }
       }
      }
     },
     "metadata": {},
     "output_type": "display_data"
    }
   ],
   "source": [
    "fig = px.line(df_model_history[[\"Error\",\"Temperature\"]])\n",
    "fig.update_layout(title=\"Monitored variables\",\n",
    "                   xaxis_title='Epoch',\n",
    "                   yaxis_title='',\n",
    "                   hovermode='x unified')\n",
    "fig.show()"
   ]
  },
  {
   "cell_type": "markdown",
   "metadata": {},
   "source": [
    "---"
   ]
  }
 ],
 "metadata": {
  "kernelspec": {
   "display_name": "Python 3.8.10 64-bit",
   "language": "python",
   "name": "python3"
  },
  "language_info": {
   "codemirror_mode": {
    "name": "ipython",
    "version": 3
   },
   "file_extension": ".py",
   "mimetype": "text/x-python",
   "name": "python",
   "nbconvert_exporter": "python",
   "pygments_lexer": "ipython3",
   "version": "3.8.10"
  },
  "orig_nbformat": 4,
  "vscode": {
   "interpreter": {
    "hash": "916dbcbb3f70747c44a77c7bcd40155683ae19c65e1c03b4aa3499c5328201f1"
   }
  }
 },
 "nbformat": 4,
 "nbformat_minor": 2
}
