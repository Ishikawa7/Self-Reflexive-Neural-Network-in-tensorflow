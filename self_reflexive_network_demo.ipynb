{
 "cells": [
  {
   "cell_type": "code",
   "execution_count": 162,
   "metadata": {},
   "outputs": [],
   "source": [
    "import tensorflow as tf\n",
    "from tensorflow import keras\n",
    "from tensorflow.keras import layers\n",
    "import numpy as np\n",
    "import pandas as pd"
   ]
  },
  {
   "cell_type": "code",
   "execution_count": 163,
   "metadata": {},
   "outputs": [],
   "source": [
    "import matplotlib.pyplot as plt\n",
    "import seaborn as sns\n",
    "import plotly.express as px\n",
    "import plotly.graph_objects as go\n",
    "sns.set()"
   ]
  },
  {
   "cell_type": "markdown",
   "metadata": {},
   "source": [
    "# CUSTOM LAYERS"
   ]
  },
  {
   "cell_type": "code",
   "execution_count": 164,
   "metadata": {},
   "outputs": [],
   "source": [
    "class InputLayer(tf.keras.layers.Layer):\n",
    "  def __init__(self, name):\n",
    "    super(InputLayer, self).__init__(name=name)\n",
    "    self.a = tf.Variable(initial_value=tf.zeros(shape=[2,14]), trainable=False, name= self.name + \"_activation\")\n",
    "    \n",
    "  def call(self, inputs):\n",
    "    a1a1 = tf.reshape(inputs[0],shape=(1,1))   #1\n",
    "    a1a2 = tf.reshape(inputs[1],shape=(1,1))   #2 \n",
    "    a1a2a2 = tf.reshape(inputs[2],shape=(1,1)) #3\n",
    "    a1a2a1 = tf.reshape(inputs[3],shape=(1,1)) #4\n",
    "    a2a2 = tf.reshape(inputs[4],shape=(1,1))   #5\n",
    "    a2a1 = tf.reshape(inputs[5],shape=(1,1))   #6\n",
    "    a2a1a1 = tf.reshape(inputs[6],shape=(1,1)) #7\n",
    "    a2a1a2 = tf.reshape(inputs[7],shape=(1,1)) #8\n",
    "\n",
    "    to_hidden = []\n",
    "    to_hidden.append((tf.concat([a1a2a2, a2a2], axis = 1)))   #[\"TrRi\"] [3,5]\n",
    "    to_hidden.append((tf.concat([a1a2a1, a2a1], axis = 1)))   #[\"RiTr\"] [4,6] \n",
    "    to_hidden.append((tf.concat([a1a1, a2a1], axis = 1)))     #[\"Plu\"]  [1,6] \n",
    "    to_hidden.append((tf.concat([a1a2, a1a2a2], axis = 1)))   #[\"TTra\"] [2,3] \n",
    "    to_hidden.append((tf.concat([a2a1, a2a1a1], axis = 1)))   #[\"TTrb\"] [6,7] \n",
    "    to_hidden.append((tf.concat([a1a2, a2a1], axis = 1)))     #[\"Tr\"]   [2,6]\n",
    "    to_hidden.append((tf.concat([a1a2a1, a2a1a2], axis = 1))) #[\"MeTr\"] [4,8] \n",
    "    to_hidden.append((tf.concat([a1a2a1, a1a2], axis = 1)))   #[\"MoTr\"] [4,2] \n",
    "    to_hidden.append((tf.concat([a1a1, a1a2a1], axis = 1)))   #[\"RiRi\"] [1,4] \n",
    "    to_hidden.append((tf.concat([a1a1, a1a2], axis = 1)))     #[\"MoFo\"] [1,2] \n",
    "    to_hidden.append((tf.concat([a1a2a2, a1a2a1], axis = 1))) #[\"MMof\"] [3,4] \n",
    "    to_hidden.append((tf.concat([a1a1, a1a2a2], axis = 1)))   #[\"MoRi\"] [1,3] \n",
    "    to_hidden.append((tf.concat([a1a2a2, a2a1a1], axis = 1))) #[\"MeRi\"] [3,7] \n",
    "    to_hidden.append((tf.concat([a1a1, a2a2], axis = 1)))     #[\"Ri\"]   [1,5] \n",
    "\n",
    "    output = tf.concat(to_hidden,axis = 0)\n",
    "    output = tf.transpose(output)\n",
    "    self.a.assign(output)\n",
    "    return self.a.value()"
   ]
  },
  {
   "cell_type": "code",
   "execution_count": 165,
   "metadata": {},
   "outputs": [],
   "source": [
    "class HiddenLayer(tf.keras.layers.Layer):\n",
    "  def __init__(self, name, weights_init_val, bias_init_val):\n",
    "    super(HiddenLayer, self).__init__(name = name)\n",
    "    self.units = 14\n",
    "    self.weights_init_val = weights_init_val\n",
    "    self.bias_init_val = bias_init_val\n",
    "\n",
    "  def build(self, input_shape):\n",
    "    shape = [int(input_shape[0]), self.units]\n",
    "    self.w = self.add_weight(initializer = tf.initializers.Constant(self.weights_init_val) ,\n",
    "                              shape= shape,\n",
    "                              name = self.name + \"_weights\")\n",
    "    self.b = self.add_weight(initializer = tf.initializers.Constant(self.bias_init_val) ,\n",
    "                              shape= [1, self.units],\n",
    "                              name = self.name + \"_biases\")\n",
    "\n",
    "    self.deltaA = tf.Variable(initial_value=tf.zeros(shape = [1, self.units]),trainable=False, name= self.name + \"_adjustements\")\n",
    "    self.a = tf.Variable(initial_value=tf.zeros(shape = [1, self.units]),trainable=False, name= self.name + \"_activation\")\n",
    "\n",
    "  def call(self, inputs, temperature):\n",
    "     # i pesi dei neuroni sono considerati in colonna\n",
    "    net = tf.math.reduce_sum(inputs * self.w, axis=0) \n",
    "    self.a.assign( 1/( 1 + tf.exp( -( (net + self.b)/temperature)) ) )\n",
    "    return self.a.value()\n"
   ]
  },
  {
   "cell_type": "code",
   "execution_count": 166,
   "metadata": {},
   "outputs": [],
   "source": [
    "class OutputLayer(tf.keras.layers.Layer):\n",
    "  def __init__(self, name, weights_init_val, bias_init_val):\n",
    "    super(OutputLayer, self).__init__(name = name)\n",
    "    self.units = 14\n",
    "    self.weights_init_val = weights_init_val\n",
    "    self.bias_init_val = bias_init_val\n",
    "\n",
    "  def build(self, input_shape):\n",
    "    shape = [int(input_shape[-1]), self.units]\n",
    "    self.w = self.add_weight(initializer = tf.initializers.Constant(self.weights_init_val) ,\n",
    "                              shape= shape,\n",
    "                              name = self.name + \"_weights\")\n",
    "    self.b = self.add_weight(initializer = tf.initializers.Constant(self.bias_init_val) ,\n",
    "                              shape= [1, self.units],\n",
    "                              name = self.name + \"_biases\")\n",
    "\n",
    "    self.deltaA = tf.Variable(initial_value=tf.zeros(shape = [1, self.units]),trainable=False, name= self.name + \"_adjustements\")\n",
    "    self.a = tf.Variable(initial_value=tf.zeros(shape = [1, self.units]),trainable=False, name= self.name + \"_activation\")\n",
    "\n",
    "  def call(self, inputs, temperature):\n",
    "     # i pesi dei neuroni sono considerati in colonna\n",
    "     \n",
    "    net = tf.matmul(inputs,self.w) \n",
    "    self.a.assign( 1/( 1 + tf.exp( -( (net + self.b)/temperature)) ) )\n",
    "    return self.a.value()"
   ]
  },
  {
   "cell_type": "markdown",
   "metadata": {},
   "source": [
    "---"
   ]
  },
  {
   "cell_type": "markdown",
   "metadata": {},
   "source": [
    "# CUSTOM MODEL"
   ]
  },
  {
   "cell_type": "code",
   "execution_count": 167,
   "metadata": {},
   "outputs": [],
   "source": [
    "class MQSelfReflexiveNetwork(tf.keras.Model):\n",
    "  def __init__(self, learning_rate, initial_temperature, bias_value):\n",
    "    super(MQSelfReflexiveNetwork, self).__init__(name='MQSelfReflexiveNetwork')\n",
    "\n",
    "    self.input_layer = InputLayer(name = \"InputLayer\")\n",
    "    self.h = HiddenLayer(name = \"HiddenLayer\",weights_init_val=0.5, bias_init_val=bias_value)\n",
    "    self.o = OutputLayer(name = \"OutputLayer\",weights_init_val=0.59, bias_init_val=bias_value)\n",
    "    self.temperature = tf.Variable(initial_value = initial_temperature,trainable=False, name = \"Temperature\")\n",
    "    self.error = tf.Variable(initial_value=0.0,trainable=False, name = \"Error\")\n",
    "    self.alpha = learning_rate\n",
    "\n",
    "  def call(self, input):\n",
    "    ### FOWARD PASS\n",
    "    res_input = self.input_layer(input)\n",
    "    res_hidden = self.h(res_input, self.temperature)\n",
    "    res_output = self.o(res_hidden, self.temperature)\n",
    "    return tf.math.reduce_sum(tf.math.square(res_hidden - res_output))\n",
    "  \n",
    "  def train_step(self, input):\n",
    "    ### CALL FOWARD PASS\n",
    "    self.error.assign(self(input, training = True))\n",
    "\n",
    "    ### BACK PROPAGATION\n",
    "    \n",
    "    # Compute temperature\n",
    "    #self.temperature.assign(1 - (1 / (1 + self.error) ))\n",
    "\n",
    "    # Update outputs weights\n",
    "    delta_Ao = self.o.a * (self.h.a - self.o.a) * (1 - self.o.a) + (self.o.deltaA * ((self.h.a - self.o.a)) )\n",
    "    delta_Wo = self.alpha * tf.matmul(tf.transpose(self.h.a),delta_Ao)\n",
    "    self.o.deltaA.assign(delta_Ao)\n",
    "\n",
    "    ## Update hidden weights\n",
    "    delta_Ah = self.h.a * (1 - self.h.a) * tf.matmul(self.o.deltaA, self.o.w)\n",
    "    delta_Wh = self.alpha * delta_Ah * self.input_layer.a\n",
    "    self.h.deltaA.assign(delta_Ah)\n",
    "\n",
    "    self.o.w.assign_add(delta_Wo) # DA AGGIORNARE DOPO INSIEME\n",
    "    self.h.w.assign_add(delta_Wh)\n",
    "    \n",
    "    return {\n",
    "        \"Error\": tf.squeeze(self.error.value()),\n",
    "        \"Temperature\": tf.squeeze(self.temperature.value()),\n",
    "        \"Hidden weights\": tf.squeeze(self.h.w.value()),\n",
    "        \"Output weights\": tf.squeeze(self.o.w.value())\n",
    "        }"
   ]
  },
  {
   "cell_type": "code",
   "execution_count": 168,
   "metadata": {},
   "outputs": [],
   "source": [
    "# Construct an instance of CustomModel\n",
    "input = tf.constant([0.01, 0.00, 0.03, 0.22, 0.87, 0.26, 0.42, 0.16])\n",
    "model = MQSelfReflexiveNetwork(learning_rate=0.1, initial_temperature=1.0, bias_value=0.0001)"
   ]
  },
  {
   "cell_type": "code",
   "execution_count": 169,
   "metadata": {},
   "outputs": [],
   "source": [
    "model.compile()\n",
    "model_history = model.fit(x = input, epochs=1000, shuffle=False, verbose = 0)"
   ]
  },
  {
   "cell_type": "code",
   "execution_count": 170,
   "metadata": {},
   "outputs": [
    {
     "data": {
      "text/html": [
       "<div>\n",
       "<style scoped>\n",
       "    .dataframe tbody tr th:only-of-type {\n",
       "        vertical-align: middle;\n",
       "    }\n",
       "\n",
       "    .dataframe tbody tr th {\n",
       "        vertical-align: top;\n",
       "    }\n",
       "\n",
       "    .dataframe thead th {\n",
       "        text-align: right;\n",
       "    }\n",
       "</style>\n",
       "<table border=\"1\" class=\"dataframe\">\n",
       "  <thead>\n",
       "    <tr style=\"text-align: right;\">\n",
       "      <th></th>\n",
       "      <th>Error</th>\n",
       "      <th>Temperature</th>\n",
       "      <th>Hidden weights</th>\n",
       "      <th>Output weights</th>\n",
       "    </tr>\n",
       "  </thead>\n",
       "  <tbody>\n",
       "    <tr>\n",
       "      <th>0</th>\n",
       "      <td>2.776704</td>\n",
       "      <td>1.0</td>\n",
       "      <td>[[0.49997163, 0.49978432, 0.4999901, 0.5, 0.49...</td>\n",
       "      <td>[[0.58974934, 0.5897156, 0.5896984, 0.5896786,...</td>\n",
       "    </tr>\n",
       "    <tr>\n",
       "      <th>1</th>\n",
       "      <td>2.776832</td>\n",
       "      <td>1.0</td>\n",
       "      <td>[[0.49995586, 0.49966452, 0.4999846, 0.5, 0.49...</td>\n",
       "      <td>[[0.58959305, 0.58955276, 0.58953345, 0.589512...</td>\n",
       "    </tr>\n",
       "    <tr>\n",
       "      <th>2</th>\n",
       "      <td>2.776905</td>\n",
       "      <td>1.0</td>\n",
       "      <td>[[0.4999344, 0.49950147, 0.4999771, 0.5, 0.499...</td>\n",
       "      <td>[[0.58940077, 0.58933747, 0.589306, 0.5892706,...</td>\n",
       "    </tr>\n",
       "    <tr>\n",
       "      <th>3</th>\n",
       "      <td>2.777002</td>\n",
       "      <td>1.0</td>\n",
       "      <td>[[0.49991548, 0.4993576, 0.4999705, 0.5, 0.499...</td>\n",
       "      <td>[[0.5892217, 0.58914423, 0.58910656, 0.5890649...</td>\n",
       "    </tr>\n",
       "    <tr>\n",
       "      <th>4</th>\n",
       "      <td>2.777088</td>\n",
       "      <td>1.0</td>\n",
       "      <td>[[0.49989536, 0.49920478, 0.4999635, 0.5, 0.49...</td>\n",
       "      <td>[[0.5890373, 0.58894116, 0.58889395, 0.5888412...</td>\n",
       "    </tr>\n",
       "    <tr>\n",
       "      <th>...</th>\n",
       "      <td>...</td>\n",
       "      <td>...</td>\n",
       "      <td>...</td>\n",
       "      <td>...</td>\n",
       "    </tr>\n",
       "    <tr>\n",
       "      <th>995</th>\n",
       "      <td>0.000029</td>\n",
       "      <td>1.0</td>\n",
       "      <td>[[0.46506232, 0.22363521, 0.488263, 0.5, 0.163...</td>\n",
       "      <td>[[0.013133439, 0.07404508, 0.063823335, 0.0525...</td>\n",
       "    </tr>\n",
       "    <tr>\n",
       "      <th>996</th>\n",
       "      <td>0.000028</td>\n",
       "      <td>1.0</td>\n",
       "      <td>[[0.4650625, 0.2236348, 0.488263, 0.5, 0.16307...</td>\n",
       "      <td>[[0.013115493, 0.07402704, 0.063812345, 0.0525...</td>\n",
       "    </tr>\n",
       "    <tr>\n",
       "      <th>997</th>\n",
       "      <td>0.000026</td>\n",
       "      <td>1.0</td>\n",
       "      <td>[[0.46506268, 0.22363438, 0.488263, 0.5, 0.163...</td>\n",
       "      <td>[[0.013097909, 0.07400939, 0.063801594, 0.0525...</td>\n",
       "    </tr>\n",
       "    <tr>\n",
       "      <th>998</th>\n",
       "      <td>0.000025</td>\n",
       "      <td>1.0</td>\n",
       "      <td>[[0.46506286, 0.22363397, 0.488263, 0.5, 0.163...</td>\n",
       "      <td>[[0.013080682, 0.07399211, 0.063791074, 0.0525...</td>\n",
       "    </tr>\n",
       "    <tr>\n",
       "      <th>999</th>\n",
       "      <td>0.000024</td>\n",
       "      <td>1.0</td>\n",
       "      <td>[[0.46506304, 0.22363359, 0.488263, 0.5, 0.163...</td>\n",
       "      <td>[[0.013063803, 0.073975205, 0.06378078, 0.0524...</td>\n",
       "    </tr>\n",
       "  </tbody>\n",
       "</table>\n",
       "<p>1000 rows × 4 columns</p>\n",
       "</div>"
      ],
      "text/plain": [
       "        Error  Temperature                                     Hidden weights  \\\n",
       "0    2.776704          1.0  [[0.49997163, 0.49978432, 0.4999901, 0.5, 0.49...   \n",
       "1    2.776832          1.0  [[0.49995586, 0.49966452, 0.4999846, 0.5, 0.49...   \n",
       "2    2.776905          1.0  [[0.4999344, 0.49950147, 0.4999771, 0.5, 0.499...   \n",
       "3    2.777002          1.0  [[0.49991548, 0.4993576, 0.4999705, 0.5, 0.499...   \n",
       "4    2.777088          1.0  [[0.49989536, 0.49920478, 0.4999635, 0.5, 0.49...   \n",
       "..        ...          ...                                                ...   \n",
       "995  0.000029          1.0  [[0.46506232, 0.22363521, 0.488263, 0.5, 0.163...   \n",
       "996  0.000028          1.0  [[0.4650625, 0.2236348, 0.488263, 0.5, 0.16307...   \n",
       "997  0.000026          1.0  [[0.46506268, 0.22363438, 0.488263, 0.5, 0.163...   \n",
       "998  0.000025          1.0  [[0.46506286, 0.22363397, 0.488263, 0.5, 0.163...   \n",
       "999  0.000024          1.0  [[0.46506304, 0.22363359, 0.488263, 0.5, 0.163...   \n",
       "\n",
       "                                        Output weights  \n",
       "0    [[0.58974934, 0.5897156, 0.5896984, 0.5896786,...  \n",
       "1    [[0.58959305, 0.58955276, 0.58953345, 0.589512...  \n",
       "2    [[0.58940077, 0.58933747, 0.589306, 0.5892706,...  \n",
       "3    [[0.5892217, 0.58914423, 0.58910656, 0.5890649...  \n",
       "4    [[0.5890373, 0.58894116, 0.58889395, 0.5888412...  \n",
       "..                                                 ...  \n",
       "995  [[0.013133439, 0.07404508, 0.063823335, 0.0525...  \n",
       "996  [[0.013115493, 0.07402704, 0.063812345, 0.0525...  \n",
       "997  [[0.013097909, 0.07400939, 0.063801594, 0.0525...  \n",
       "998  [[0.013080682, 0.07399211, 0.063791074, 0.0525...  \n",
       "999  [[0.013063803, 0.073975205, 0.06378078, 0.0524...  \n",
       "\n",
       "[1000 rows x 4 columns]"
      ]
     },
     "execution_count": 170,
     "metadata": {},
     "output_type": "execute_result"
    }
   ],
   "source": [
    "df_model_history = pd.DataFrame(model_history.history)\n",
    "df_model_history"
   ]
  },
  {
   "cell_type": "code",
   "execution_count": 171,
   "metadata": {},
   "outputs": [],
   "source": [
    "# Final error book : 0.00000724"
   ]
  },
  {
   "cell_type": "code",
   "execution_count": 172,
   "metadata": {},
   "outputs": [],
   "source": [
    "df_model_history.to_csv(\"model_history.csv\")"
   ]
  },
  {
   "cell_type": "code",
   "execution_count": 173,
   "metadata": {},
   "outputs": [
    {
     "data": {
      "text/plain": [
       "array([0.97823143, 0.05024862, 0.29341382, 0.0324029 , 0.20733826,\n",
       "       0.30383378, 0.07355888, 0.25453845, 0.2440373 , 0.01069883,\n",
       "       0.2226714 , 0.02170748, 0.47348464, 0.99333036], dtype=float32)"
      ]
     },
     "execution_count": 173,
     "metadata": {},
     "output_type": "execute_result"
    }
   ],
   "source": [
    "dvf = abs(model.get_weights()[1][0] - model.get_weights()[1][1])\n",
    "dvf"
   ]
  },
  {
   "cell_type": "code",
   "execution_count": 174,
   "metadata": {},
   "outputs": [
    {
     "data": {
      "text/plain": [
       "array([0.84000003, 0.03999999, 0.24999999, 0.03      , 0.16      ,\n",
       "       0.26      , 0.06      , 0.22      , 0.21      , 0.01      ,\n",
       "       0.19      , 0.02      , 0.39      , 0.86      ], dtype=float32)"
      ]
     },
     "execution_count": 174,
     "metadata": {},
     "output_type": "execute_result"
    }
   ],
   "source": [
    "dva = abs(model.get_weights()[0][0,:] - model.get_weights()[0][1,:])\n",
    "dva"
   ]
  },
  {
   "cell_type": "code",
   "execution_count": 175,
   "metadata": {},
   "outputs": [
    {
     "data": {
      "text/plain": [
       "array([0.97823143, 0.05024862, 0.29341382, 0.0324029 , 0.20733826,\n",
       "       0.30383378, 0.07355888, 0.25453845, 0.2440373 , 0.01069883,\n",
       "       0.2226714 , 0.02170748, 0.47348464, 0.99333036], dtype=float32)"
      ]
     },
     "execution_count": 175,
     "metadata": {},
     "output_type": "execute_result"
    }
   ],
   "source": [
    "dvf"
   ]
  },
  {
   "cell_type": "code",
   "execution_count": 176,
   "metadata": {},
   "outputs": [],
   "source": [
    "dvf = [round(x, 3) for x in dvf]"
   ]
  },
  {
   "cell_type": "code",
   "execution_count": 177,
   "metadata": {},
   "outputs": [],
   "source": [
    "dvf_book = [0.97, 0.05, 0.29, 0.03, 0.17, 0.3, 0.06, 0.24, 0.24, 0.01, 0.21, 0.03, 0.43, 1.00]"
   ]
  },
  {
   "cell_type": "code",
   "execution_count": 178,
   "metadata": {},
   "outputs": [
    {
     "data": {
      "text/html": [
       "<div>\n",
       "<style scoped>\n",
       "    .dataframe tbody tr th:only-of-type {\n",
       "        vertical-align: middle;\n",
       "    }\n",
       "\n",
       "    .dataframe tbody tr th {\n",
       "        vertical-align: top;\n",
       "    }\n",
       "\n",
       "    .dataframe thead th {\n",
       "        text-align: right;\n",
       "    }\n",
       "</style>\n",
       "<table border=\"1\" class=\"dataframe\">\n",
       "  <thead>\n",
       "    <tr style=\"text-align: right;\">\n",
       "      <th></th>\n",
       "      <th>dva</th>\n",
       "      <th>dvf</th>\n",
       "      <th>dvf_book</th>\n",
       "    </tr>\n",
       "  </thead>\n",
       "  <tbody>\n",
       "    <tr>\n",
       "      <th>0</th>\n",
       "      <td>0.84</td>\n",
       "      <td>0.978</td>\n",
       "      <td>0.97</td>\n",
       "    </tr>\n",
       "    <tr>\n",
       "      <th>1</th>\n",
       "      <td>0.04</td>\n",
       "      <td>0.050</td>\n",
       "      <td>0.05</td>\n",
       "    </tr>\n",
       "    <tr>\n",
       "      <th>2</th>\n",
       "      <td>0.25</td>\n",
       "      <td>0.293</td>\n",
       "      <td>0.29</td>\n",
       "    </tr>\n",
       "    <tr>\n",
       "      <th>3</th>\n",
       "      <td>0.03</td>\n",
       "      <td>0.032</td>\n",
       "      <td>0.03</td>\n",
       "    </tr>\n",
       "    <tr>\n",
       "      <th>4</th>\n",
       "      <td>0.16</td>\n",
       "      <td>0.207</td>\n",
       "      <td>0.17</td>\n",
       "    </tr>\n",
       "    <tr>\n",
       "      <th>5</th>\n",
       "      <td>0.26</td>\n",
       "      <td>0.304</td>\n",
       "      <td>0.30</td>\n",
       "    </tr>\n",
       "    <tr>\n",
       "      <th>6</th>\n",
       "      <td>0.06</td>\n",
       "      <td>0.074</td>\n",
       "      <td>0.06</td>\n",
       "    </tr>\n",
       "    <tr>\n",
       "      <th>7</th>\n",
       "      <td>0.22</td>\n",
       "      <td>0.255</td>\n",
       "      <td>0.24</td>\n",
       "    </tr>\n",
       "    <tr>\n",
       "      <th>8</th>\n",
       "      <td>0.21</td>\n",
       "      <td>0.244</td>\n",
       "      <td>0.24</td>\n",
       "    </tr>\n",
       "    <tr>\n",
       "      <th>9</th>\n",
       "      <td>0.01</td>\n",
       "      <td>0.011</td>\n",
       "      <td>0.01</td>\n",
       "    </tr>\n",
       "    <tr>\n",
       "      <th>10</th>\n",
       "      <td>0.19</td>\n",
       "      <td>0.223</td>\n",
       "      <td>0.21</td>\n",
       "    </tr>\n",
       "    <tr>\n",
       "      <th>11</th>\n",
       "      <td>0.02</td>\n",
       "      <td>0.022</td>\n",
       "      <td>0.03</td>\n",
       "    </tr>\n",
       "    <tr>\n",
       "      <th>12</th>\n",
       "      <td>0.39</td>\n",
       "      <td>0.473</td>\n",
       "      <td>0.43</td>\n",
       "    </tr>\n",
       "    <tr>\n",
       "      <th>13</th>\n",
       "      <td>0.86</td>\n",
       "      <td>0.993</td>\n",
       "      <td>1.00</td>\n",
       "    </tr>\n",
       "  </tbody>\n",
       "</table>\n",
       "</div>"
      ],
      "text/plain": [
       "     dva    dvf  dvf_book\n",
       "0   0.84  0.978      0.97\n",
       "1   0.04  0.050      0.05\n",
       "2   0.25  0.293      0.29\n",
       "3   0.03  0.032      0.03\n",
       "4   0.16  0.207      0.17\n",
       "5   0.26  0.304      0.30\n",
       "6   0.06  0.074      0.06\n",
       "7   0.22  0.255      0.24\n",
       "8   0.21  0.244      0.24\n",
       "9   0.01  0.011      0.01\n",
       "10  0.19  0.223      0.21\n",
       "11  0.02  0.022      0.03\n",
       "12  0.39  0.473      0.43\n",
       "13  0.86  0.993      1.00"
      ]
     },
     "execution_count": 178,
     "metadata": {},
     "output_type": "execute_result"
    }
   ],
   "source": [
    "# with 3 digits\n",
    "df_diff = pd.DataFrame({\"dva\":dva, \"dvf\":dvf, \"dvf_book\":dvf_book})\n",
    "df_diff"
   ]
  },
  {
   "cell_type": "code",
   "execution_count": 179,
   "metadata": {},
   "outputs": [],
   "source": [
    "df_diff.to_csv(\"results.csv\")"
   ]
  },
  {
   "cell_type": "code",
   "execution_count": 180,
   "metadata": {},
   "outputs": [
    {
     "data": {
      "text/plain": [
       "dva         0.276390\n",
       "dvf         0.320547\n",
       "dvf_book    0.320581\n",
       "dtype: float64"
      ]
     },
     "execution_count": 180,
     "metadata": {},
     "output_type": "execute_result"
    }
   ],
   "source": [
    "# standard deviation\n",
    "df_diff.std()"
   ]
  },
  {
   "cell_type": "code",
   "execution_count": 181,
   "metadata": {},
   "outputs": [
    {
     "data": {
      "text/plain": [
       "0.010759266647686935"
      ]
     },
     "execution_count": 181,
     "metadata": {},
     "output_type": "execute_result"
    }
   ],
   "source": [
    "# abs % error std\n",
    "(abs(df_diff.std().iloc[1] - 0.320581) / 0.320581 ) * 100"
   ]
  },
  {
   "cell_type": "code",
   "execution_count": 182,
   "metadata": {},
   "outputs": [],
   "source": [
    "dvf = [round(x, 2) for x in dvf]"
   ]
  },
  {
   "cell_type": "code",
   "execution_count": 183,
   "metadata": {},
   "outputs": [
    {
     "data": {
      "text/html": [
       "<div>\n",
       "<style scoped>\n",
       "    .dataframe tbody tr th:only-of-type {\n",
       "        vertical-align: middle;\n",
       "    }\n",
       "\n",
       "    .dataframe tbody tr th {\n",
       "        vertical-align: top;\n",
       "    }\n",
       "\n",
       "    .dataframe thead th {\n",
       "        text-align: right;\n",
       "    }\n",
       "</style>\n",
       "<table border=\"1\" class=\"dataframe\">\n",
       "  <thead>\n",
       "    <tr style=\"text-align: right;\">\n",
       "      <th></th>\n",
       "      <th>dva</th>\n",
       "      <th>dvf</th>\n",
       "      <th>dvf_book</th>\n",
       "    </tr>\n",
       "  </thead>\n",
       "  <tbody>\n",
       "    <tr>\n",
       "      <th>0</th>\n",
       "      <td>0.84</td>\n",
       "      <td>0.98</td>\n",
       "      <td>0.97</td>\n",
       "    </tr>\n",
       "    <tr>\n",
       "      <th>1</th>\n",
       "      <td>0.04</td>\n",
       "      <td>0.05</td>\n",
       "      <td>0.05</td>\n",
       "    </tr>\n",
       "    <tr>\n",
       "      <th>2</th>\n",
       "      <td>0.25</td>\n",
       "      <td>0.29</td>\n",
       "      <td>0.29</td>\n",
       "    </tr>\n",
       "    <tr>\n",
       "      <th>3</th>\n",
       "      <td>0.03</td>\n",
       "      <td>0.03</td>\n",
       "      <td>0.03</td>\n",
       "    </tr>\n",
       "    <tr>\n",
       "      <th>4</th>\n",
       "      <td>0.16</td>\n",
       "      <td>0.21</td>\n",
       "      <td>0.17</td>\n",
       "    </tr>\n",
       "    <tr>\n",
       "      <th>5</th>\n",
       "      <td>0.26</td>\n",
       "      <td>0.30</td>\n",
       "      <td>0.30</td>\n",
       "    </tr>\n",
       "    <tr>\n",
       "      <th>6</th>\n",
       "      <td>0.06</td>\n",
       "      <td>0.07</td>\n",
       "      <td>0.06</td>\n",
       "    </tr>\n",
       "    <tr>\n",
       "      <th>7</th>\n",
       "      <td>0.22</td>\n",
       "      <td>0.26</td>\n",
       "      <td>0.24</td>\n",
       "    </tr>\n",
       "    <tr>\n",
       "      <th>8</th>\n",
       "      <td>0.21</td>\n",
       "      <td>0.24</td>\n",
       "      <td>0.24</td>\n",
       "    </tr>\n",
       "    <tr>\n",
       "      <th>9</th>\n",
       "      <td>0.01</td>\n",
       "      <td>0.01</td>\n",
       "      <td>0.01</td>\n",
       "    </tr>\n",
       "    <tr>\n",
       "      <th>10</th>\n",
       "      <td>0.19</td>\n",
       "      <td>0.22</td>\n",
       "      <td>0.21</td>\n",
       "    </tr>\n",
       "    <tr>\n",
       "      <th>11</th>\n",
       "      <td>0.02</td>\n",
       "      <td>0.02</td>\n",
       "      <td>0.03</td>\n",
       "    </tr>\n",
       "    <tr>\n",
       "      <th>12</th>\n",
       "      <td>0.39</td>\n",
       "      <td>0.47</td>\n",
       "      <td>0.43</td>\n",
       "    </tr>\n",
       "    <tr>\n",
       "      <th>13</th>\n",
       "      <td>0.86</td>\n",
       "      <td>0.99</td>\n",
       "      <td>1.00</td>\n",
       "    </tr>\n",
       "  </tbody>\n",
       "</table>\n",
       "</div>"
      ],
      "text/plain": [
       "     dva   dvf  dvf_book\n",
       "0   0.84  0.98      0.97\n",
       "1   0.04  0.05      0.05\n",
       "2   0.25  0.29      0.29\n",
       "3   0.03  0.03      0.03\n",
       "4   0.16  0.21      0.17\n",
       "5   0.26  0.30      0.30\n",
       "6   0.06  0.07      0.06\n",
       "7   0.22  0.26      0.24\n",
       "8   0.21  0.24      0.24\n",
       "9   0.01  0.01      0.01\n",
       "10  0.19  0.22      0.21\n",
       "11  0.02  0.02      0.03\n",
       "12  0.39  0.47      0.43\n",
       "13  0.86  0.99      1.00"
      ]
     },
     "execution_count": 183,
     "metadata": {},
     "output_type": "execute_result"
    }
   ],
   "source": [
    "# with 2 digits\n",
    "df_diff = pd.DataFrame({\"dva\":dva, \"dvf\":dvf, \"dvf_book\":dvf_book})\n",
    "df_diff"
   ]
  },
  {
   "cell_type": "code",
   "execution_count": 184,
   "metadata": {},
   "outputs": [
    {
     "data": {
      "application/vnd.plotly.v1+json": {
       "config": {
        "plotlyServerURL": "https://plot.ly"
       },
       "data": [
        {
         "alignmentgroup": "True",
         "hovertemplate": "variable=dva<br>index=%{x}<br>value=%{y}<extra></extra>",
         "legendgroup": "dva",
         "marker": {
          "color": "#636efa",
          "pattern": {
           "shape": ""
          }
         },
         "name": "dva",
         "offsetgroup": "dva",
         "orientation": "v",
         "showlegend": true,
         "textposition": "auto",
         "type": "bar",
         "x": [
          0,
          1,
          2,
          3,
          4,
          5,
          6,
          7,
          8,
          9,
          10,
          11,
          12,
          13
         ],
         "xaxis": "x",
         "y": [
          0.8400000333786011,
          0.03999999165534973,
          0.2499999850988388,
          0.029999999329447746,
          0.1599999964237213,
          0.25999999046325684,
          0.06000000238418579,
          0.2199999988079071,
          0.20999999344348907,
          0.009999999776482582,
          0.1899999976158142,
          0.019999999552965164,
          0.38999998569488525,
          0.8600000143051147
         ],
         "yaxis": "y"
        },
        {
         "alignmentgroup": "True",
         "hovertemplate": "variable=dvf<br>index=%{x}<br>value=%{y}<extra></extra>",
         "legendgroup": "dvf",
         "marker": {
          "color": "#EF553B",
          "pattern": {
           "shape": ""
          }
         },
         "name": "dvf",
         "offsetgroup": "dvf",
         "orientation": "v",
         "showlegend": true,
         "textposition": "auto",
         "type": "bar",
         "x": [
          0,
          1,
          2,
          3,
          4,
          5,
          6,
          7,
          8,
          9,
          10,
          11,
          12,
          13
         ],
         "xaxis": "x",
         "y": [
          0.9800000190734863,
          0.05000000074505806,
          0.28999999165534973,
          0.029999999329447746,
          0.20999999344348907,
          0.30000001192092896,
          0.07000000029802322,
          0.25999999046325684,
          0.23999999463558197,
          0.009999999776482582,
          0.2199999988079071,
          0.019999999552965164,
          0.4699999988079071,
          0.9900000095367432
         ],
         "yaxis": "y"
        },
        {
         "alignmentgroup": "True",
         "hovertemplate": "variable=dvf_book<br>index=%{x}<br>value=%{y}<extra></extra>",
         "legendgroup": "dvf_book",
         "marker": {
          "color": "#00cc96",
          "pattern": {
           "shape": ""
          }
         },
         "name": "dvf_book",
         "offsetgroup": "dvf_book",
         "orientation": "v",
         "showlegend": true,
         "textposition": "auto",
         "type": "bar",
         "x": [
          0,
          1,
          2,
          3,
          4,
          5,
          6,
          7,
          8,
          9,
          10,
          11,
          12,
          13
         ],
         "xaxis": "x",
         "y": [
          0.97,
          0.05,
          0.29,
          0.03,
          0.17,
          0.3,
          0.06,
          0.24,
          0.24,
          0.01,
          0.21,
          0.03,
          0.43,
          1
         ],
         "yaxis": "y"
        }
       ],
       "layout": {
        "barmode": "group",
        "legend": {
         "title": {
          "text": "variable"
         },
         "tracegroupgap": 0
        },
        "template": {
         "data": {
          "bar": [
           {
            "error_x": {
             "color": "#2a3f5f"
            },
            "error_y": {
             "color": "#2a3f5f"
            },
            "marker": {
             "line": {
              "color": "#E5ECF6",
              "width": 0.5
             },
             "pattern": {
              "fillmode": "overlay",
              "size": 10,
              "solidity": 0.2
             }
            },
            "type": "bar"
           }
          ],
          "barpolar": [
           {
            "marker": {
             "line": {
              "color": "#E5ECF6",
              "width": 0.5
             },
             "pattern": {
              "fillmode": "overlay",
              "size": 10,
              "solidity": 0.2
             }
            },
            "type": "barpolar"
           }
          ],
          "carpet": [
           {
            "aaxis": {
             "endlinecolor": "#2a3f5f",
             "gridcolor": "white",
             "linecolor": "white",
             "minorgridcolor": "white",
             "startlinecolor": "#2a3f5f"
            },
            "baxis": {
             "endlinecolor": "#2a3f5f",
             "gridcolor": "white",
             "linecolor": "white",
             "minorgridcolor": "white",
             "startlinecolor": "#2a3f5f"
            },
            "type": "carpet"
           }
          ],
          "choropleth": [
           {
            "colorbar": {
             "outlinewidth": 0,
             "ticks": ""
            },
            "type": "choropleth"
           }
          ],
          "contour": [
           {
            "colorbar": {
             "outlinewidth": 0,
             "ticks": ""
            },
            "colorscale": [
             [
              0,
              "#0d0887"
             ],
             [
              0.1111111111111111,
              "#46039f"
             ],
             [
              0.2222222222222222,
              "#7201a8"
             ],
             [
              0.3333333333333333,
              "#9c179e"
             ],
             [
              0.4444444444444444,
              "#bd3786"
             ],
             [
              0.5555555555555556,
              "#d8576b"
             ],
             [
              0.6666666666666666,
              "#ed7953"
             ],
             [
              0.7777777777777778,
              "#fb9f3a"
             ],
             [
              0.8888888888888888,
              "#fdca26"
             ],
             [
              1,
              "#f0f921"
             ]
            ],
            "type": "contour"
           }
          ],
          "contourcarpet": [
           {
            "colorbar": {
             "outlinewidth": 0,
             "ticks": ""
            },
            "type": "contourcarpet"
           }
          ],
          "heatmap": [
           {
            "colorbar": {
             "outlinewidth": 0,
             "ticks": ""
            },
            "colorscale": [
             [
              0,
              "#0d0887"
             ],
             [
              0.1111111111111111,
              "#46039f"
             ],
             [
              0.2222222222222222,
              "#7201a8"
             ],
             [
              0.3333333333333333,
              "#9c179e"
             ],
             [
              0.4444444444444444,
              "#bd3786"
             ],
             [
              0.5555555555555556,
              "#d8576b"
             ],
             [
              0.6666666666666666,
              "#ed7953"
             ],
             [
              0.7777777777777778,
              "#fb9f3a"
             ],
             [
              0.8888888888888888,
              "#fdca26"
             ],
             [
              1,
              "#f0f921"
             ]
            ],
            "type": "heatmap"
           }
          ],
          "heatmapgl": [
           {
            "colorbar": {
             "outlinewidth": 0,
             "ticks": ""
            },
            "colorscale": [
             [
              0,
              "#0d0887"
             ],
             [
              0.1111111111111111,
              "#46039f"
             ],
             [
              0.2222222222222222,
              "#7201a8"
             ],
             [
              0.3333333333333333,
              "#9c179e"
             ],
             [
              0.4444444444444444,
              "#bd3786"
             ],
             [
              0.5555555555555556,
              "#d8576b"
             ],
             [
              0.6666666666666666,
              "#ed7953"
             ],
             [
              0.7777777777777778,
              "#fb9f3a"
             ],
             [
              0.8888888888888888,
              "#fdca26"
             ],
             [
              1,
              "#f0f921"
             ]
            ],
            "type": "heatmapgl"
           }
          ],
          "histogram": [
           {
            "marker": {
             "pattern": {
              "fillmode": "overlay",
              "size": 10,
              "solidity": 0.2
             }
            },
            "type": "histogram"
           }
          ],
          "histogram2d": [
           {
            "colorbar": {
             "outlinewidth": 0,
             "ticks": ""
            },
            "colorscale": [
             [
              0,
              "#0d0887"
             ],
             [
              0.1111111111111111,
              "#46039f"
             ],
             [
              0.2222222222222222,
              "#7201a8"
             ],
             [
              0.3333333333333333,
              "#9c179e"
             ],
             [
              0.4444444444444444,
              "#bd3786"
             ],
             [
              0.5555555555555556,
              "#d8576b"
             ],
             [
              0.6666666666666666,
              "#ed7953"
             ],
             [
              0.7777777777777778,
              "#fb9f3a"
             ],
             [
              0.8888888888888888,
              "#fdca26"
             ],
             [
              1,
              "#f0f921"
             ]
            ],
            "type": "histogram2d"
           }
          ],
          "histogram2dcontour": [
           {
            "colorbar": {
             "outlinewidth": 0,
             "ticks": ""
            },
            "colorscale": [
             [
              0,
              "#0d0887"
             ],
             [
              0.1111111111111111,
              "#46039f"
             ],
             [
              0.2222222222222222,
              "#7201a8"
             ],
             [
              0.3333333333333333,
              "#9c179e"
             ],
             [
              0.4444444444444444,
              "#bd3786"
             ],
             [
              0.5555555555555556,
              "#d8576b"
             ],
             [
              0.6666666666666666,
              "#ed7953"
             ],
             [
              0.7777777777777778,
              "#fb9f3a"
             ],
             [
              0.8888888888888888,
              "#fdca26"
             ],
             [
              1,
              "#f0f921"
             ]
            ],
            "type": "histogram2dcontour"
           }
          ],
          "mesh3d": [
           {
            "colorbar": {
             "outlinewidth": 0,
             "ticks": ""
            },
            "type": "mesh3d"
           }
          ],
          "parcoords": [
           {
            "line": {
             "colorbar": {
              "outlinewidth": 0,
              "ticks": ""
             }
            },
            "type": "parcoords"
           }
          ],
          "pie": [
           {
            "automargin": true,
            "type": "pie"
           }
          ],
          "scatter": [
           {
            "marker": {
             "colorbar": {
              "outlinewidth": 0,
              "ticks": ""
             }
            },
            "type": "scatter"
           }
          ],
          "scatter3d": [
           {
            "line": {
             "colorbar": {
              "outlinewidth": 0,
              "ticks": ""
             }
            },
            "marker": {
             "colorbar": {
              "outlinewidth": 0,
              "ticks": ""
             }
            },
            "type": "scatter3d"
           }
          ],
          "scattercarpet": [
           {
            "marker": {
             "colorbar": {
              "outlinewidth": 0,
              "ticks": ""
             }
            },
            "type": "scattercarpet"
           }
          ],
          "scattergeo": [
           {
            "marker": {
             "colorbar": {
              "outlinewidth": 0,
              "ticks": ""
             }
            },
            "type": "scattergeo"
           }
          ],
          "scattergl": [
           {
            "marker": {
             "colorbar": {
              "outlinewidth": 0,
              "ticks": ""
             }
            },
            "type": "scattergl"
           }
          ],
          "scattermapbox": [
           {
            "marker": {
             "colorbar": {
              "outlinewidth": 0,
              "ticks": ""
             }
            },
            "type": "scattermapbox"
           }
          ],
          "scatterpolar": [
           {
            "marker": {
             "colorbar": {
              "outlinewidth": 0,
              "ticks": ""
             }
            },
            "type": "scatterpolar"
           }
          ],
          "scatterpolargl": [
           {
            "marker": {
             "colorbar": {
              "outlinewidth": 0,
              "ticks": ""
             }
            },
            "type": "scatterpolargl"
           }
          ],
          "scatterternary": [
           {
            "marker": {
             "colorbar": {
              "outlinewidth": 0,
              "ticks": ""
             }
            },
            "type": "scatterternary"
           }
          ],
          "surface": [
           {
            "colorbar": {
             "outlinewidth": 0,
             "ticks": ""
            },
            "colorscale": [
             [
              0,
              "#0d0887"
             ],
             [
              0.1111111111111111,
              "#46039f"
             ],
             [
              0.2222222222222222,
              "#7201a8"
             ],
             [
              0.3333333333333333,
              "#9c179e"
             ],
             [
              0.4444444444444444,
              "#bd3786"
             ],
             [
              0.5555555555555556,
              "#d8576b"
             ],
             [
              0.6666666666666666,
              "#ed7953"
             ],
             [
              0.7777777777777778,
              "#fb9f3a"
             ],
             [
              0.8888888888888888,
              "#fdca26"
             ],
             [
              1,
              "#f0f921"
             ]
            ],
            "type": "surface"
           }
          ],
          "table": [
           {
            "cells": {
             "fill": {
              "color": "#EBF0F8"
             },
             "line": {
              "color": "white"
             }
            },
            "header": {
             "fill": {
              "color": "#C8D4E3"
             },
             "line": {
              "color": "white"
             }
            },
            "type": "table"
           }
          ]
         },
         "layout": {
          "annotationdefaults": {
           "arrowcolor": "#2a3f5f",
           "arrowhead": 0,
           "arrowwidth": 1
          },
          "autotypenumbers": "strict",
          "coloraxis": {
           "colorbar": {
            "outlinewidth": 0,
            "ticks": ""
           }
          },
          "colorscale": {
           "diverging": [
            [
             0,
             "#8e0152"
            ],
            [
             0.1,
             "#c51b7d"
            ],
            [
             0.2,
             "#de77ae"
            ],
            [
             0.3,
             "#f1b6da"
            ],
            [
             0.4,
             "#fde0ef"
            ],
            [
             0.5,
             "#f7f7f7"
            ],
            [
             0.6,
             "#e6f5d0"
            ],
            [
             0.7,
             "#b8e186"
            ],
            [
             0.8,
             "#7fbc41"
            ],
            [
             0.9,
             "#4d9221"
            ],
            [
             1,
             "#276419"
            ]
           ],
           "sequential": [
            [
             0,
             "#0d0887"
            ],
            [
             0.1111111111111111,
             "#46039f"
            ],
            [
             0.2222222222222222,
             "#7201a8"
            ],
            [
             0.3333333333333333,
             "#9c179e"
            ],
            [
             0.4444444444444444,
             "#bd3786"
            ],
            [
             0.5555555555555556,
             "#d8576b"
            ],
            [
             0.6666666666666666,
             "#ed7953"
            ],
            [
             0.7777777777777778,
             "#fb9f3a"
            ],
            [
             0.8888888888888888,
             "#fdca26"
            ],
            [
             1,
             "#f0f921"
            ]
           ],
           "sequentialminus": [
            [
             0,
             "#0d0887"
            ],
            [
             0.1111111111111111,
             "#46039f"
            ],
            [
             0.2222222222222222,
             "#7201a8"
            ],
            [
             0.3333333333333333,
             "#9c179e"
            ],
            [
             0.4444444444444444,
             "#bd3786"
            ],
            [
             0.5555555555555556,
             "#d8576b"
            ],
            [
             0.6666666666666666,
             "#ed7953"
            ],
            [
             0.7777777777777778,
             "#fb9f3a"
            ],
            [
             0.8888888888888888,
             "#fdca26"
            ],
            [
             1,
             "#f0f921"
            ]
           ]
          },
          "colorway": [
           "#636efa",
           "#EF553B",
           "#00cc96",
           "#ab63fa",
           "#FFA15A",
           "#19d3f3",
           "#FF6692",
           "#B6E880",
           "#FF97FF",
           "#FECB52"
          ],
          "font": {
           "color": "#2a3f5f"
          },
          "geo": {
           "bgcolor": "white",
           "lakecolor": "white",
           "landcolor": "#E5ECF6",
           "showlakes": true,
           "showland": true,
           "subunitcolor": "white"
          },
          "hoverlabel": {
           "align": "left"
          },
          "hovermode": "closest",
          "mapbox": {
           "style": "light"
          },
          "paper_bgcolor": "white",
          "plot_bgcolor": "#E5ECF6",
          "polar": {
           "angularaxis": {
            "gridcolor": "white",
            "linecolor": "white",
            "ticks": ""
           },
           "bgcolor": "#E5ECF6",
           "radialaxis": {
            "gridcolor": "white",
            "linecolor": "white",
            "ticks": ""
           }
          },
          "scene": {
           "xaxis": {
            "backgroundcolor": "#E5ECF6",
            "gridcolor": "white",
            "gridwidth": 2,
            "linecolor": "white",
            "showbackground": true,
            "ticks": "",
            "zerolinecolor": "white"
           },
           "yaxis": {
            "backgroundcolor": "#E5ECF6",
            "gridcolor": "white",
            "gridwidth": 2,
            "linecolor": "white",
            "showbackground": true,
            "ticks": "",
            "zerolinecolor": "white"
           },
           "zaxis": {
            "backgroundcolor": "#E5ECF6",
            "gridcolor": "white",
            "gridwidth": 2,
            "linecolor": "white",
            "showbackground": true,
            "ticks": "",
            "zerolinecolor": "white"
           }
          },
          "shapedefaults": {
           "line": {
            "color": "#2a3f5f"
           }
          },
          "ternary": {
           "aaxis": {
            "gridcolor": "white",
            "linecolor": "white",
            "ticks": ""
           },
           "baxis": {
            "gridcolor": "white",
            "linecolor": "white",
            "ticks": ""
           },
           "bgcolor": "#E5ECF6",
           "caxis": {
            "gridcolor": "white",
            "linecolor": "white",
            "ticks": ""
           }
          },
          "title": {
           "x": 0.05
          },
          "xaxis": {
           "automargin": true,
           "gridcolor": "white",
           "linecolor": "white",
           "ticks": "",
           "title": {
            "standoff": 15
           },
           "zerolinecolor": "white",
           "zerolinewidth": 2
          },
          "yaxis": {
           "automargin": true,
           "gridcolor": "white",
           "linecolor": "white",
           "ticks": "",
           "title": {
            "standoff": 15
           },
           "zerolinecolor": "white",
           "zerolinewidth": 2
          }
         }
        },
        "title": {
         "text": "dva - dvf - dvf_book"
        },
        "xaxis": {
         "anchor": "y",
         "domain": [
          0,
          1
         ],
         "title": {
          "text": "dimension"
         }
        },
        "yaxis": {
         "anchor": "x",
         "domain": [
          0,
          1
         ],
         "title": {
          "text": "value"
         }
        }
       }
      }
     },
     "metadata": {},
     "output_type": "display_data"
    }
   ],
   "source": [
    "fig = px.bar(df_diff,title=\"dva - dvf - dvf_book\", barmode=\"group\")\n",
    "fig.update_layout( xaxis_title='dimension', yaxis_title='value')\n",
    "fig.write_html(\"dva - dvf - dvf_book.html\")\n",
    "fig.write_image(\"barplot.png\")\n",
    "fig.show()"
   ]
  },
  {
   "cell_type": "code",
   "execution_count": 185,
   "metadata": {},
   "outputs": [
    {
     "data": {
      "application/vnd.plotly.v1+json": {
       "config": {
        "plotlyServerURL": "https://plot.ly"
       },
       "data": [
        {
         "alignmentgroup": "True",
         "hovertemplate": "index=%{x}<br>value=%{y}<br>color=%{marker.color}<extra></extra>",
         "legendgroup": "",
         "marker": {
          "color": [
           0.010204100896794466,
           1.4901160916291903e-8,
           -2.87746568575349e-8,
           -2.235174225336442e-8,
           0.19047616520165772,
           3.973642830828406e-8,
           0.14285714650640685,
           0.07692304306481595,
           -2.235174225336442e-8,
           -2.235174231118854e-8,
           0.04545454028224158,
           -0.5000000335276134,
           0.08510638065821664,
           -0.010101000370632515
          ],
          "coloraxis": "coloraxis",
          "pattern": {
           "shape": ""
          }
         },
         "name": "",
         "offsetgroup": "",
         "orientation": "v",
         "showlegend": false,
         "textposition": "auto",
         "texttemplate": "%{y:.2}",
         "type": "bar",
         "x": [
          0,
          1,
          2,
          3,
          4,
          5,
          6,
          7,
          8,
          9,
          10,
          11,
          12,
          13
         ],
         "xaxis": "x",
         "y": [
          0.010204100896794466,
          1.4901160916291903e-8,
          -2.87746568575349e-8,
          -2.235174225336442e-8,
          0.19047616520165772,
          3.973642830828406e-8,
          0.14285714650640685,
          0.07692304306481595,
          -2.235174225336442e-8,
          -2.235174231118854e-8,
          0.04545454028224158,
          -0.5000000335276134,
          0.08510638065821664,
          -0.010101000370632515
         ],
         "yaxis": "y"
        }
       ],
       "layout": {
        "barmode": "group",
        "coloraxis": {
         "colorbar": {
          "title": {
           "text": "color"
          }
         },
         "colorscale": [
          [
           0,
           "rgb(5,48,97)"
          ],
          [
           0.1,
           "rgb(33,102,172)"
          ],
          [
           0.2,
           "rgb(67,147,195)"
          ],
          [
           0.3,
           "rgb(146,197,222)"
          ],
          [
           0.4,
           "rgb(209,229,240)"
          ],
          [
           0.5,
           "rgb(247,247,247)"
          ],
          [
           0.6,
           "rgb(253,219,199)"
          ],
          [
           0.7,
           "rgb(244,165,130)"
          ],
          [
           0.8,
           "rgb(214,96,77)"
          ],
          [
           0.9,
           "rgb(178,24,43)"
          ],
          [
           1,
           "rgb(103,0,31)"
          ]
         ]
        },
        "legend": {
         "tracegroupgap": 0
        },
        "template": {
         "data": {
          "bar": [
           {
            "error_x": {
             "color": "#2a3f5f"
            },
            "error_y": {
             "color": "#2a3f5f"
            },
            "marker": {
             "line": {
              "color": "#E5ECF6",
              "width": 0.5
             },
             "pattern": {
              "fillmode": "overlay",
              "size": 10,
              "solidity": 0.2
             }
            },
            "type": "bar"
           }
          ],
          "barpolar": [
           {
            "marker": {
             "line": {
              "color": "#E5ECF6",
              "width": 0.5
             },
             "pattern": {
              "fillmode": "overlay",
              "size": 10,
              "solidity": 0.2
             }
            },
            "type": "barpolar"
           }
          ],
          "carpet": [
           {
            "aaxis": {
             "endlinecolor": "#2a3f5f",
             "gridcolor": "white",
             "linecolor": "white",
             "minorgridcolor": "white",
             "startlinecolor": "#2a3f5f"
            },
            "baxis": {
             "endlinecolor": "#2a3f5f",
             "gridcolor": "white",
             "linecolor": "white",
             "minorgridcolor": "white",
             "startlinecolor": "#2a3f5f"
            },
            "type": "carpet"
           }
          ],
          "choropleth": [
           {
            "colorbar": {
             "outlinewidth": 0,
             "ticks": ""
            },
            "type": "choropleth"
           }
          ],
          "contour": [
           {
            "colorbar": {
             "outlinewidth": 0,
             "ticks": ""
            },
            "colorscale": [
             [
              0,
              "#0d0887"
             ],
             [
              0.1111111111111111,
              "#46039f"
             ],
             [
              0.2222222222222222,
              "#7201a8"
             ],
             [
              0.3333333333333333,
              "#9c179e"
             ],
             [
              0.4444444444444444,
              "#bd3786"
             ],
             [
              0.5555555555555556,
              "#d8576b"
             ],
             [
              0.6666666666666666,
              "#ed7953"
             ],
             [
              0.7777777777777778,
              "#fb9f3a"
             ],
             [
              0.8888888888888888,
              "#fdca26"
             ],
             [
              1,
              "#f0f921"
             ]
            ],
            "type": "contour"
           }
          ],
          "contourcarpet": [
           {
            "colorbar": {
             "outlinewidth": 0,
             "ticks": ""
            },
            "type": "contourcarpet"
           }
          ],
          "heatmap": [
           {
            "colorbar": {
             "outlinewidth": 0,
             "ticks": ""
            },
            "colorscale": [
             [
              0,
              "#0d0887"
             ],
             [
              0.1111111111111111,
              "#46039f"
             ],
             [
              0.2222222222222222,
              "#7201a8"
             ],
             [
              0.3333333333333333,
              "#9c179e"
             ],
             [
              0.4444444444444444,
              "#bd3786"
             ],
             [
              0.5555555555555556,
              "#d8576b"
             ],
             [
              0.6666666666666666,
              "#ed7953"
             ],
             [
              0.7777777777777778,
              "#fb9f3a"
             ],
             [
              0.8888888888888888,
              "#fdca26"
             ],
             [
              1,
              "#f0f921"
             ]
            ],
            "type": "heatmap"
           }
          ],
          "heatmapgl": [
           {
            "colorbar": {
             "outlinewidth": 0,
             "ticks": ""
            },
            "colorscale": [
             [
              0,
              "#0d0887"
             ],
             [
              0.1111111111111111,
              "#46039f"
             ],
             [
              0.2222222222222222,
              "#7201a8"
             ],
             [
              0.3333333333333333,
              "#9c179e"
             ],
             [
              0.4444444444444444,
              "#bd3786"
             ],
             [
              0.5555555555555556,
              "#d8576b"
             ],
             [
              0.6666666666666666,
              "#ed7953"
             ],
             [
              0.7777777777777778,
              "#fb9f3a"
             ],
             [
              0.8888888888888888,
              "#fdca26"
             ],
             [
              1,
              "#f0f921"
             ]
            ],
            "type": "heatmapgl"
           }
          ],
          "histogram": [
           {
            "marker": {
             "pattern": {
              "fillmode": "overlay",
              "size": 10,
              "solidity": 0.2
             }
            },
            "type": "histogram"
           }
          ],
          "histogram2d": [
           {
            "colorbar": {
             "outlinewidth": 0,
             "ticks": ""
            },
            "colorscale": [
             [
              0,
              "#0d0887"
             ],
             [
              0.1111111111111111,
              "#46039f"
             ],
             [
              0.2222222222222222,
              "#7201a8"
             ],
             [
              0.3333333333333333,
              "#9c179e"
             ],
             [
              0.4444444444444444,
              "#bd3786"
             ],
             [
              0.5555555555555556,
              "#d8576b"
             ],
             [
              0.6666666666666666,
              "#ed7953"
             ],
             [
              0.7777777777777778,
              "#fb9f3a"
             ],
             [
              0.8888888888888888,
              "#fdca26"
             ],
             [
              1,
              "#f0f921"
             ]
            ],
            "type": "histogram2d"
           }
          ],
          "histogram2dcontour": [
           {
            "colorbar": {
             "outlinewidth": 0,
             "ticks": ""
            },
            "colorscale": [
             [
              0,
              "#0d0887"
             ],
             [
              0.1111111111111111,
              "#46039f"
             ],
             [
              0.2222222222222222,
              "#7201a8"
             ],
             [
              0.3333333333333333,
              "#9c179e"
             ],
             [
              0.4444444444444444,
              "#bd3786"
             ],
             [
              0.5555555555555556,
              "#d8576b"
             ],
             [
              0.6666666666666666,
              "#ed7953"
             ],
             [
              0.7777777777777778,
              "#fb9f3a"
             ],
             [
              0.8888888888888888,
              "#fdca26"
             ],
             [
              1,
              "#f0f921"
             ]
            ],
            "type": "histogram2dcontour"
           }
          ],
          "mesh3d": [
           {
            "colorbar": {
             "outlinewidth": 0,
             "ticks": ""
            },
            "type": "mesh3d"
           }
          ],
          "parcoords": [
           {
            "line": {
             "colorbar": {
              "outlinewidth": 0,
              "ticks": ""
             }
            },
            "type": "parcoords"
           }
          ],
          "pie": [
           {
            "automargin": true,
            "type": "pie"
           }
          ],
          "scatter": [
           {
            "marker": {
             "colorbar": {
              "outlinewidth": 0,
              "ticks": ""
             }
            },
            "type": "scatter"
           }
          ],
          "scatter3d": [
           {
            "line": {
             "colorbar": {
              "outlinewidth": 0,
              "ticks": ""
             }
            },
            "marker": {
             "colorbar": {
              "outlinewidth": 0,
              "ticks": ""
             }
            },
            "type": "scatter3d"
           }
          ],
          "scattercarpet": [
           {
            "marker": {
             "colorbar": {
              "outlinewidth": 0,
              "ticks": ""
             }
            },
            "type": "scattercarpet"
           }
          ],
          "scattergeo": [
           {
            "marker": {
             "colorbar": {
              "outlinewidth": 0,
              "ticks": ""
             }
            },
            "type": "scattergeo"
           }
          ],
          "scattergl": [
           {
            "marker": {
             "colorbar": {
              "outlinewidth": 0,
              "ticks": ""
             }
            },
            "type": "scattergl"
           }
          ],
          "scattermapbox": [
           {
            "marker": {
             "colorbar": {
              "outlinewidth": 0,
              "ticks": ""
             }
            },
            "type": "scattermapbox"
           }
          ],
          "scatterpolar": [
           {
            "marker": {
             "colorbar": {
              "outlinewidth": 0,
              "ticks": ""
             }
            },
            "type": "scatterpolar"
           }
          ],
          "scatterpolargl": [
           {
            "marker": {
             "colorbar": {
              "outlinewidth": 0,
              "ticks": ""
             }
            },
            "type": "scatterpolargl"
           }
          ],
          "scatterternary": [
           {
            "marker": {
             "colorbar": {
              "outlinewidth": 0,
              "ticks": ""
             }
            },
            "type": "scatterternary"
           }
          ],
          "surface": [
           {
            "colorbar": {
             "outlinewidth": 0,
             "ticks": ""
            },
            "colorscale": [
             [
              0,
              "#0d0887"
             ],
             [
              0.1111111111111111,
              "#46039f"
             ],
             [
              0.2222222222222222,
              "#7201a8"
             ],
             [
              0.3333333333333333,
              "#9c179e"
             ],
             [
              0.4444444444444444,
              "#bd3786"
             ],
             [
              0.5555555555555556,
              "#d8576b"
             ],
             [
              0.6666666666666666,
              "#ed7953"
             ],
             [
              0.7777777777777778,
              "#fb9f3a"
             ],
             [
              0.8888888888888888,
              "#fdca26"
             ],
             [
              1,
              "#f0f921"
             ]
            ],
            "type": "surface"
           }
          ],
          "table": [
           {
            "cells": {
             "fill": {
              "color": "#EBF0F8"
             },
             "line": {
              "color": "white"
             }
            },
            "header": {
             "fill": {
              "color": "#C8D4E3"
             },
             "line": {
              "color": "white"
             }
            },
            "type": "table"
           }
          ]
         },
         "layout": {
          "annotationdefaults": {
           "arrowcolor": "#2a3f5f",
           "arrowhead": 0,
           "arrowwidth": 1
          },
          "autotypenumbers": "strict",
          "coloraxis": {
           "colorbar": {
            "outlinewidth": 0,
            "ticks": ""
           }
          },
          "colorscale": {
           "diverging": [
            [
             0,
             "#8e0152"
            ],
            [
             0.1,
             "#c51b7d"
            ],
            [
             0.2,
             "#de77ae"
            ],
            [
             0.3,
             "#f1b6da"
            ],
            [
             0.4,
             "#fde0ef"
            ],
            [
             0.5,
             "#f7f7f7"
            ],
            [
             0.6,
             "#e6f5d0"
            ],
            [
             0.7,
             "#b8e186"
            ],
            [
             0.8,
             "#7fbc41"
            ],
            [
             0.9,
             "#4d9221"
            ],
            [
             1,
             "#276419"
            ]
           ],
           "sequential": [
            [
             0,
             "#0d0887"
            ],
            [
             0.1111111111111111,
             "#46039f"
            ],
            [
             0.2222222222222222,
             "#7201a8"
            ],
            [
             0.3333333333333333,
             "#9c179e"
            ],
            [
             0.4444444444444444,
             "#bd3786"
            ],
            [
             0.5555555555555556,
             "#d8576b"
            ],
            [
             0.6666666666666666,
             "#ed7953"
            ],
            [
             0.7777777777777778,
             "#fb9f3a"
            ],
            [
             0.8888888888888888,
             "#fdca26"
            ],
            [
             1,
             "#f0f921"
            ]
           ],
           "sequentialminus": [
            [
             0,
             "#0d0887"
            ],
            [
             0.1111111111111111,
             "#46039f"
            ],
            [
             0.2222222222222222,
             "#7201a8"
            ],
            [
             0.3333333333333333,
             "#9c179e"
            ],
            [
             0.4444444444444444,
             "#bd3786"
            ],
            [
             0.5555555555555556,
             "#d8576b"
            ],
            [
             0.6666666666666666,
             "#ed7953"
            ],
            [
             0.7777777777777778,
             "#fb9f3a"
            ],
            [
             0.8888888888888888,
             "#fdca26"
            ],
            [
             1,
             "#f0f921"
            ]
           ]
          },
          "colorway": [
           "#636efa",
           "#EF553B",
           "#00cc96",
           "#ab63fa",
           "#FFA15A",
           "#19d3f3",
           "#FF6692",
           "#B6E880",
           "#FF97FF",
           "#FECB52"
          ],
          "font": {
           "color": "#2a3f5f"
          },
          "geo": {
           "bgcolor": "white",
           "lakecolor": "white",
           "landcolor": "#E5ECF6",
           "showlakes": true,
           "showland": true,
           "subunitcolor": "white"
          },
          "hoverlabel": {
           "align": "left"
          },
          "hovermode": "closest",
          "mapbox": {
           "style": "light"
          },
          "paper_bgcolor": "white",
          "plot_bgcolor": "#E5ECF6",
          "polar": {
           "angularaxis": {
            "gridcolor": "white",
            "linecolor": "white",
            "ticks": ""
           },
           "bgcolor": "#E5ECF6",
           "radialaxis": {
            "gridcolor": "white",
            "linecolor": "white",
            "ticks": ""
           }
          },
          "scene": {
           "xaxis": {
            "backgroundcolor": "#E5ECF6",
            "gridcolor": "white",
            "gridwidth": 2,
            "linecolor": "white",
            "showbackground": true,
            "ticks": "",
            "zerolinecolor": "white"
           },
           "yaxis": {
            "backgroundcolor": "#E5ECF6",
            "gridcolor": "white",
            "gridwidth": 2,
            "linecolor": "white",
            "showbackground": true,
            "ticks": "",
            "zerolinecolor": "white"
           },
           "zaxis": {
            "backgroundcolor": "#E5ECF6",
            "gridcolor": "white",
            "gridwidth": 2,
            "linecolor": "white",
            "showbackground": true,
            "ticks": "",
            "zerolinecolor": "white"
           }
          },
          "shapedefaults": {
           "line": {
            "color": "#2a3f5f"
           }
          },
          "ternary": {
           "aaxis": {
            "gridcolor": "white",
            "linecolor": "white",
            "ticks": ""
           },
           "baxis": {
            "gridcolor": "white",
            "linecolor": "white",
            "ticks": ""
           },
           "bgcolor": "#E5ECF6",
           "caxis": {
            "gridcolor": "white",
            "linecolor": "white",
            "ticks": ""
           }
          },
          "title": {
           "x": 0.05
          },
          "xaxis": {
           "automargin": true,
           "gridcolor": "white",
           "linecolor": "white",
           "ticks": "",
           "title": {
            "standoff": 15
           },
           "zerolinecolor": "white",
           "zerolinewidth": 2
          },
          "yaxis": {
           "automargin": true,
           "gridcolor": "white",
           "linecolor": "white",
           "ticks": "",
           "title": {
            "standoff": 15
           },
           "zerolinecolor": "white",
           "zerolinewidth": 2
          }
         }
        },
        "title": {
         "text": "% differences between dvf and dvafbook"
        },
        "xaxis": {
         "anchor": "y",
         "domain": [
          0,
          1
         ],
         "title": {
          "text": "dimension"
         }
        },
        "yaxis": {
         "anchor": "x",
         "domain": [
          0,
          1
         ],
         "title": {
          "text": "% error"
         }
        }
       }
      }
     },
     "metadata": {},
     "output_type": "display_data"
    }
   ],
   "source": [
    "fig = px.bar(\n",
    "    (df_diff[\"dvf\"]-df_diff[\"dvf_book\"]) / df_diff[\"dvf\"],\n",
    "    title=\"% differences between dvf and dvafbook\",\n",
    "    barmode=\"group\",\n",
    "    text_auto=\".2\",\n",
    "    color = (df_diff[\"dvf\"]-df_diff[\"dvf_book\"])/df_diff[\"dvf\"],\n",
    "    color_continuous_scale=\"RdBu_r\"\n",
    "    )\n",
    "fig.update_layout( xaxis_title='dimension', yaxis_title='% error')\n",
    "fig.write_html(\"% differences between dvf and dvafbook.html\")\n",
    "fig.write_image(\"barplot2.png\")\n",
    "fig.show()"
   ]
  },
  {
   "cell_type": "code",
   "execution_count": 186,
   "metadata": {},
   "outputs": [
    {
     "data": {
      "application/vnd.plotly.v1+json": {
       "config": {
        "plotlyServerURL": "https://plot.ly"
       },
       "data": [
        {
         "autobinx": false,
         "histnorm": "probability density",
         "legendgroup": "distplot",
         "marker": {
          "color": "rgb(31, 119, 180)"
         },
         "name": "distplot",
         "opacity": 0.7,
         "type": "histogram",
         "x": [
          0.010204100896794466,
          1.4901160916291903e-8,
          -2.87746568575349e-8,
          -2.235174225336442e-8,
          0.19047616520165772,
          3.973642830828406e-8,
          0.14285714650640685,
          0.07692304306481595,
          -2.235174225336442e-8,
          -2.235174231118854e-8,
          0.04545454028224158,
          -0.5000000335276134,
          0.08510638065821664,
          -0.010101000370632515
         ],
         "xaxis": "x",
         "xbins": {
          "end": 0.19047616520165772,
          "size": 0.2,
          "start": -0.5000000335276134
         },
         "yaxis": "y"
        },
        {
         "legendgroup": "distplot",
         "marker": {
          "color": "rgb(31, 119, 180)"
         },
         "mode": "lines",
         "name": "distplot",
         "showlegend": false,
         "type": "scatter",
         "x": [
          -0.5000000335276134,
          -0.4986190811301548,
          -0.4972381287326963,
          -0.49585717633523774,
          -0.4944762239377792,
          -0.4930952715403206,
          -0.4917143191428621,
          -0.49033336674540356,
          -0.488952414347945,
          -0.48757146195048645,
          -0.48619050955302795,
          -0.4848095571555694,
          -0.48342860475811084,
          -0.4820476523606523,
          -0.4806666999631938,
          -0.4792857475657352,
          -0.47790479516827666,
          -0.47652384277081816,
          -0.4751428903733596,
          -0.47376193797590105,
          -0.4723809855784425,
          -0.47100003318098393,
          -0.46961908078352543,
          -0.4682381283860669,
          -0.4668571759886083,
          -0.4654762235911498,
          -0.46409527119369126,
          -0.4627143187962327,
          -0.4613333663987742,
          -0.45995241400131565,
          -0.4585714616038571,
          -0.45719050920639853,
          -0.45580955680894,
          -0.4544286044114815,
          -0.4530476520140229,
          -0.45166669961656436,
          -0.45028574721910586,
          -0.4489047948216473,
          -0.44752384242418874,
          -0.4461428900267302,
          -0.44476193762927163,
          -0.44338098523181313,
          -0.4420000328343546,
          -0.440619080436896,
          -0.4392381280394375,
          -0.43785717564197896,
          -0.4364762232445204,
          -0.4350952708470619,
          -0.43371431844960334,
          -0.4323333660521448,
          -0.43095241365468623,
          -0.42957146125722767,
          -0.42819050885976917,
          -0.4268095564623106,
          -0.42542860406485206,
          -0.42404765166739355,
          -0.422666699269935,
          -0.42128574687247644,
          -0.41990479447501794,
          -0.4185238420775594,
          -0.4171428896801008,
          -0.41576193728264227,
          -0.4143809848851837,
          -0.4130000324877252,
          -0.41161908009026665,
          -0.4102381276928081,
          -0.4088571752953496,
          -0.40747622289789104,
          -0.4060952705004325,
          -0.4047143181029739,
          -0.40333336570551537,
          -0.40195241330805687,
          -0.4005714609105983,
          -0.39919050851313975,
          -0.39780955611568125,
          -0.3964286037182227,
          -0.39504765132076414,
          -0.39366669892330564,
          -0.392285746525847,
          -0.3909047941283885,
          -0.38952384173092996,
          -0.3881428893334714,
          -0.3867619369360129,
          -0.38538098453855435,
          -0.3840000321410958,
          -0.38261907974363724,
          -0.3812381273461787,
          -0.3798571749487202,
          -0.3784762225512616,
          -0.37709527015380306,
          -0.37571431775634456,
          -0.374333365358886,
          -0.37295241296142745,
          -0.37157146056396895,
          -0.3701905081665104,
          -0.36880955576905183,
          -0.36742860337159333,
          -0.3660476509741347,
          -0.3646666985766762,
          -0.36328574617921766,
          -0.3619047937817591,
          -0.3605238413843006,
          -0.35914288898684205,
          -0.3577619365893835,
          -0.356380984191925,
          -0.3550000317944664,
          -0.3536190793970079,
          -0.3522381269995493,
          -0.35085717460209076,
          -0.34947622220463226,
          -0.3480952698071737,
          -0.34671431740971514,
          -0.34533336501225664,
          -0.3439524126147981,
          -0.34257146021733953,
          -0.34119050781988103,
          -0.33980955542242247,
          -0.3384286030249639,
          -0.3370476506275054,
          -0.3356666982300468,
          -0.3342857458325883,
          -0.33290479343512974,
          -0.3315238410376712,
          -0.3301428886402127,
          -0.3287619362427541,
          -0.32738098384529557,
          -0.32600003144783707,
          -0.32461907905037846,
          -0.32323812665291995,
          -0.3218571742554614,
          -0.32047622185800284,
          -0.31909526946054434,
          -0.3177143170630858,
          -0.3163333646656272,
          -0.3149524122681687,
          -0.3135714598707101,
          -0.3121905074732516,
          -0.31080955507579305,
          -0.3094286026783345,
          -0.308047650280876,
          -0.30666669788341744,
          -0.3052857454859589,
          -0.3039047930885004,
          -0.30252384069104177,
          -0.30114288829358327,
          -0.29976193589612476,
          -0.2983809834986662,
          -0.29700003110120765,
          -0.29561907870374915,
          -0.29423812630629054,
          -0.29285717390883204,
          -0.2914762215113735,
          -0.2900952691139149,
          -0.2887143167164564,
          -0.28733336431899786,
          -0.2859524119215393,
          -0.28457145952408075,
          -0.2831905071266222,
          -0.2818095547291637,
          -0.28042860233170513,
          -0.2790476499342466,
          -0.2776666975367881,
          -0.27628574513932946,
          -0.27490479274187096,
          -0.2735238403444124,
          -0.27214288794695385,
          -0.27076193554949535,
          -0.2693809831520368,
          -0.26800003075457823,
          -0.26661907835711973,
          -0.2652381259596611,
          -0.2638571735622026,
          -0.26247622116474406,
          -0.2610952687672855,
          -0.259714316369827,
          -0.25833336397236845,
          -0.2569524115749099,
          -0.2555714591774514,
          -0.25419050677999283,
          -0.2528095543825343,
          -0.2514286019850758,
          -0.2500476495876172,
          -0.24866669719015866,
          -0.2472857447927001,
          -0.2459047923952416,
          -0.24452383999778304,
          -0.2431428876003245,
          -0.24176193520286593,
          -0.24038098280540743,
          -0.23900003040794887,
          -0.23761907801049031,
          -0.23623812561303176,
          -0.23485717321557326,
          -0.2334762208181147,
          -0.23209526842065614,
          -0.23071431602319759,
          -0.22933336362573908,
          -0.22795241122828053,
          -0.22657145883082197,
          -0.2251905064333634,
          -0.2238095540359049,
          -0.22242860163844635,
          -0.2210476492409878,
          -0.21966669684352924,
          -0.21828574444607074,
          -0.21690479204861218,
          -0.21552383965115363,
          -0.21414288725369507,
          -0.21276193485623657,
          -0.211380982458778,
          -0.21000003006131945,
          -0.2086190776638609,
          -0.2072381252664024,
          -0.20585717286894384,
          -0.20447622047148528,
          -0.20309526807402672,
          -0.20171431567656822,
          -0.20033336327910967,
          -0.1989524108816511,
          -0.19757145848419255,
          -0.19619050608673405,
          -0.1948095536892755,
          -0.19342860129181694,
          -0.19204764889435838,
          -0.19066669649689993,
          -0.18928574409944138,
          -0.18790479170198282,
          -0.18652383930452426,
          -0.18514288690706576,
          -0.1837619345096072,
          -0.18238098211214865,
          -0.1810000297146901,
          -0.1796190773172316,
          -0.17823812491977303,
          -0.17685717252231448,
          -0.17547622012485592,
          -0.17409526772739742,
          -0.17271431532993886,
          -0.1713333629324803,
          -0.16995241053502175,
          -0.16857145813756325,
          -0.1671905057401047,
          -0.16580955334264613,
          -0.16442860094518758,
          -0.16304764854772907,
          -0.16166669615027052,
          -0.16028574375281196,
          -0.1589047913553534,
          -0.1575238389578949,
          -0.15614288656043634,
          -0.1547619341629778,
          -0.15338098176551923,
          -0.15200002936806073,
          -0.15061907697060217,
          -0.14923812457314362,
          -0.14785717217568506,
          -0.14647621977822656,
          -0.145095267380768,
          -0.14371431498330944,
          -0.1423333625858509,
          -0.14095241018839239,
          -0.13957145779093383,
          -0.13819050539347527,
          -0.13680955299601671,
          -0.1354286005985582,
          -0.13404764820109966,
          -0.1326666958036411,
          -0.13128574340618254,
          -0.12990479100872404,
          -0.12852383861126548,
          -0.12714288621380693,
          -0.12576193381634837,
          -0.12438098141888987,
          -0.12300002902143131,
          -0.12161907662397275,
          -0.1202381242265142,
          -0.1188571718290557,
          -0.11747621943159714,
          -0.11609526703413858,
          -0.11471431463668003,
          -0.11333336223922152,
          -0.11195240984176297,
          -0.11057145744430441,
          -0.10919050504684585,
          -0.10780955264938735,
          -0.1064286002519288,
          -0.10504764785447024,
          -0.10366669545701168,
          -0.10228574305955318,
          -0.10090479066209468,
          -0.09952383826463612,
          -0.09814288586717757,
          -0.09676193346971906,
          -0.0953809810722605,
          -0.09400002867480195,
          -0.09261907627734339,
          -0.09123812387988489,
          -0.08985717148242633,
          -0.08847621908496778,
          -0.08709526668750922,
          -0.08571431429005072,
          -0.08433336189259216,
          -0.0829524094951336,
          -0.08157145709767505,
          -0.08019050470021655,
          -0.07880955230275799,
          -0.07742859990529943,
          -0.07604764750784088,
          -0.07466669511038238,
          -0.07328574271292382,
          -0.07190479031546526,
          -0.0705238379180067,
          -0.06914288552054815,
          -0.06776193312308965,
          -0.06638098072563109,
          -0.06500002832817253,
          -0.06361907593071398,
          -0.062238123533255474,
          -0.06085717113579692,
          -0.05947621873833836,
          -0.0580952663408798,
          -0.0567143139434213,
          -0.055333361545962745,
          -0.05395240914850419,
          -0.05257145675104563,
          -0.05119050435358713,
          -0.04980955195612857,
          -0.048428599558670016,
          -0.04704764716121146,
          -0.04566669476375296,
          -0.0442857423662944,
          -0.042904789968835844,
          -0.04152383757137729,
          -0.040142885173918785,
          -0.03876193277646023,
          -0.03738098037900167,
          -0.036000027981543115,
          -0.03461907558408461,
          -0.033238123186626056,
          -0.0318571707891675,
          -0.030476218391708942,
          -0.02909526599425044,
          -0.027714313596791884,
          -0.026333361199333327,
          -0.02495240880187477,
          -0.02357145640441627,
          -0.022190504006957712,
          -0.020809551609499155,
          -0.019428599212040598,
          -0.018047646814582097,
          -0.01666669441712354,
          -0.015285742019664983,
          -0.013904789622206482,
          -0.01252383722474798,
          -0.011142884827289423,
          -0.009761932429830866,
          -0.00838098003237231,
          -0.007000027634913808,
          -0.005619075237455251,
          -0.004238122839996694,
          -0.0028571704425381372,
          -0.0014762180450796358,
          -0.00009526564762107892,
          0.0012856867498374225,
          0.002666639147296035,
          0.004047591544754536,
          0.005428543942213149,
          0.00680949633967165,
          0.008190448737130152,
          0.009571401134588764,
          0.010952353532047265,
          0.012333305929505878,
          0.01371425832696438,
          0.015095210724422992,
          0.016476163121881493,
          0.017857115519339994,
          0.019238067916798496,
          0.020619020314257108,
          0.02199997271171561,
          0.023380925109174222,
          0.024761877506632723,
          0.026142829904091336,
          0.027523782301549837,
          0.02890473469900834,
          0.03028568709646684,
          0.03166663949392534,
          0.033047591891383954,
          0.034428544288842455,
          0.03580949668630107,
          0.03719044908375957,
          0.03857140148121818,
          0.03995235387867657,
          0.041333306276135184,
          0.042714258673593686,
          0.0440952110710523,
          0.0454761634685108,
          0.04685711586596941,
          0.04823806826342791,
          0.049619020660886526,
          0.050999973058344916,
          0.05238092545580353,
          0.05376187785326203,
          0.05514283025072064,
          0.056523782648179144,
          0.057904735045637756,
          0.05928568744309626,
          0.06066663984055487,
          0.06204759223801326,
          0.06342854463547187,
          0.06480949703293037,
          0.06619044943038899,
          0.06757140182784749,
          0.0689523542253061,
          0.0703333066227646,
          0.07171425902022321,
          0.0730952114176816,
          0.07447616381514022,
          0.07585711621259872,
          0.07723806861005733,
          0.07861902100751583,
          0.07999997340497444,
          0.08138092580243295,
          0.08276187819989156,
          0.08414283059734995,
          0.08552378299480856,
          0.08690473539226706,
          0.08828568778972568,
          0.08966664018718418,
          0.09104759258464279,
          0.09242854498210129,
          0.0938094973795599,
          0.0951904497770183,
          0.0965714021744769,
          0.09795235457193541,
          0.09933330696939402,
          0.10071425936685252,
          0.10209521176431113,
          0.10347616416176963,
          0.10485711655922825,
          0.10623806895668664,
          0.10761902135414525,
          0.10899997375160375,
          0.11038092614906236,
          0.11176187854652087,
          0.11314283094397948,
          0.11452378334143798,
          0.11590473573889659,
          0.11728568813635498,
          0.11866664053381348,
          0.1200475929312721,
          0.1214285453287306,
          0.12280949772618921,
          0.12419045012364771,
          0.12557140252110632,
          0.12695235491856482,
          0.12833330731602333,
          0.12971425971348183,
          0.13109521211094044,
          0.13247616450839894,
          0.13385711690585755,
          0.13523806930331606,
          0.13661902170077467,
          0.13799997409823317,
          0.13938092649569178,
          0.14076187889315017,
          0.14214283129060878,
          0.14352378368806729,
          0.1449047360855259,
          0.1462856884829844,
          0.147666640880443,
          0.1490475932779015,
          0.15042854567536013,
          0.15180949807281852,
          0.15319045047027713,
          0.15457140286773563,
          0.15595235526519424,
          0.15733330766265274,
          0.15871426006011136,
          0.16009521245756986,
          0.16147616485502847,
          0.16285711725248686,
          0.16423806964994547,
          0.16561902204740397,
          0.1669999744448626,
          0.1683809268423211,
          0.1697618792397797,
          0.1711428316372382,
          0.17252378403469681,
          0.1739047364321552,
          0.17528568882961382,
          0.17666664122707232,
          0.17804759362453093,
          0.17942854602198943,
          0.18080949841944804,
          0.18219045081690655,
          0.18357140321436516,
          0.18495235561182355,
          0.18633330800928216,
          0.18771426040674066,
          0.18909521280419928
         ],
         "xaxis": "x",
         "y": [
          0.30693871920507715,
          0.30690487332255356,
          0.30680315093841587,
          0.30663362029351804,
          0.30639639464640156,
          0.3060916321522188,
          0.305719535692372,
          0.3052803526551503,
          0.30477437466772367,
          0.30420193727992734,
          0.3035634196003477,
          0.3028592438852949,
          0.3020898750813163,
          0.3012558203219837,
          0.3003576283797525,
          0.2993958890737606,
          0.29837123263450677,
          0.2972843290264072,
          0.29613588722929796,
          0.2949266544800099,
          0.2936574154752052,
          0.2923289915367185,
          0.290942239740703,
          0.28949805201193446,
          0.2879973541846775,
          0.2864411050315607,
          0.2848302952619615,
          0.28316594649143323,
          0.28144911018375596,
          0.2796808665672205,
          0.27786232352679824,
          0.2759946154738688,
          0.27407890219521575,
          0.2721163676830185,
          0.2701082189475919,
          0.26805568481464714,
          0.26596001470885333,
          0.2638224774255047,
          0.2616443598920962,
          0.25942696592162334,
          0.2571716149594203,
          0.254879640825356,
          0.25255239045319827,
          0.25019122262895765,
          0.24779750673000775,
          0.2453726214667655,
          0.24291795362871335,
          0.24043489683650907,
          0.23792485030192265,
          0.23538921759731465,
          0.23282940543633893,
          0.2302468224675334,
          0.22764287808242623,
          0.225018981239756,
          0.22237653930736767,
          0.21971695692331178,
          0.21704163487763165,
          0.21435196901629,
          0.21164934916863382,
          0.20893515809976243,
          0.20621077048911113,
          0.20347755193651854,
          0.20073685799699698,
          0.19799003324537515,
          0.1952384103719308,
          0.19248330931008234,
          0.18972603639715058,
          0.18696788356915242,
          0.18421012759053249,
          0.18145402931968455,
          0.17870083301105774,
          0.17595176565458995,
          0.17320803635315118,
          0.17047083573862984,
          0.1677413354272301,
          0.16502068751450305,
          0.16231002411057005,
          0.15961045691594808,
          0.15692307683832588,
          0.15424895365059363,
          0.15158913569036353,
          0.14894464960117884,
          0.1463165001155462,
          0.1437056698798782,
          0.14111311932138515,
          0.13853978655690008,
          0.13598658734357688,
          0.13345441507135133,
          0.1309441407970082,
          0.12845661331965536,
          0.1259926592973568,
          0.12355308340463796,
          0.12113866853053293,
          0.11875017601680365,
          0.1163883459359212,
          0.1140538974083647,
          0.11174752895875226,
          0.10946991891028764,
          0.10722172581697259,
          0.10500358893299865,
          0.10281612871870757,
          0.1006599473824747,
          0.09853562945784439,
          0.09644374241522014,
          0.09438483730738369,
          0.09235944944809667,
          0.09036809912301383,
          0.0884112923321128,
          0.08648952156282998,
          0.08460326659306659,
          0.08275299532321458,
          0.08093916463633297,
          0.07916222128558803,
          0.07742260280805602,
          0.07572073846397229,
          0.07405705020049513,
          0.07243195363904092,
          0.0708458590852335,
          0.0692991725604982,
          0.06779229685432006,
          0.06632563259617438,
          0.06489957934612522,
          0.06351453670308047,
          0.062170905429677396,
          0.06086908859276595,
          0.05960949271844549,
          0.05839252896060047,
          0.05721861428187096,
          0.05608817264598526,
          0.05500163622036733,
          0.05395944658792752,
          0.05296205596692863,
          0.05200992843781216,
          0.05110354117585667,
          0.050243385688528604,
          0.04942996905637389,
          0.048663815176287026,
          0.047945466005978245,
          0.04727548280844981,
          0.04665444739527457,
          0.046082963367456896,
          0.04556165735264057,
          0.04509118023741123,
          0.04467220839342488,
          0.044305444896077,
          0.04399162073440702,
          0.04373149601091704,
          0.043525861129961645,
          0.043375537973347596,
          0.043281381061761326,
          0.04324427870062119,
          0.043265154108929546,
          0.043344966529679146,
          0.0434847123203446,
          0.04368542602196799,
          0.04394818140532464,
          0.044274092492631895,
          0.04466431455324049,
          0.045120045071724915,
          0.045642524686766196,
          0.046233038099196676,
          0.04689291494755443,
          0.04762353064947175,
          0.0484263072071998,
          0.04930271397555139,
          0.05025426839052049,
          0.05128253665681942,
          0.05238913439255424,
          0.05357572722924009,
          0.05484403136534316,
          0.05619581407151874,
          0.057632894145700345,
          0.05915714231618499,
          0.06077048159084494,
          0.06247488755059091,
          0.06427238858520325,
          0.06616506606964243,
          0.06815505447895,
          0.07024454143984976,
          0.07243576771716202,
          0.07473102713315107,
          0.07713266641793366,
          0.07964308498908756,
          0.0822647346586177,
          0.08500011926545192,
          0.08785179423166523,
          0.09082236604065301,
          0.09391449163550816,
          0.09713087773588813,
          0.1004742800716974,
          0.10394750253195251,
          0.10755339622724558,
          0.11129485846427126,
          0.1151748316309408,
          0.11919630199066428,
          0.1233622983844516,
          0.1276758908395511,
          0.1321401890834202,
          0.13675834096190234,
          0.14153353076057418,
          0.14646897742831136,
          0.1515679327022232,
          0.15683367913320242,
          0.16226952801144734,
          0.16787881719142184,
          0.17366490881583643,
          0.17963118693835398,
          0.1857810550448548,
          0.19211793347322126,
          0.19864525673174535,
          0.2053664707163978,
          0.2122850298273507,
          0.2194043939852908,
          0.22672802554822008,
          0.23425938612959601,
          0.24200193331883435,
          0.24995911730535747,
          0.25813437740755296,
          0.26653113850816684,
          0.27515280739785875,
          0.28400276902880095,
          0.2930843826804126,
          0.30240097803948346,
          0.3119558511971614,
          0.3217522605654347,
          0.3317934227159685,
          0.34208250814431235,
          0.35262263696273155,
          0.36341687452507715,
          0.3744682269873252,
          0.38577963680760374,
          0.3973539781897284,
          0.40919405247445445,
          0.4213025834828572,
          0.4336822128164261,
          0.4463354951186741,
          0.4592648933032232,
          0.47247277375353236,
          0.48596140149959527,
          0.49973293537713104,
          0.5137894231749448,
          0.5281327967763151,
          0.5427648673004121,
          0.5576873202499243,
          0.5729017106711999,
          0.5884094583333686,
          0.6042118429330285,
          0.6203099993312232,
          0.6367049128295447,
          0.653397414492309,
          0.6703881765218493,
          0.6876777076940725,
          0.7052663488614923,
          0.7231542685310376,
          0.7413414585239712,
          0.7598277297253377,
          0.7786127079303615,
          0.7976958297952654,
          0.8170763388999727,
          0.8367532819301818,
          0.8567255049862617,
          0.8769916500264174,
          0.8975501514515047,
          0.9183992328388564,
          0.9395369038323902,
          0.9609609571961959,
          0.982668966038697,
          1.0046582812144011,
          1.026926028910086,
          1.0494691084221766,
          1.0722841901318685,
          1.0953677136844435,
          1.1187158863789843,
          1.1423246817745452,
          1.1661898385185938,
          1.1903068594033428,
          1.2146710106553338,
          1.2392773214633956,
          1.2641205837498128,
          1.2891953521893085,
          1.3144959444801025,
          1.3400164418710374,
          1.365750689948425,
          1.391692299685972,
          1.417834648760761,
          1.4441708831379614,
          1.4706939189265287,
          1.4973964445078412,
          1.5242709229387952,
          1.5513095946305235,
          1.5785044803034793,
          1.6058473842192442,
          1.6333298976890083,
          1.6609434028582466,
          1.6886790767666735,
          1.7165278956821837,
          1.7444806397070103,
          1.7725278976539112,
          1.8006600721897623,
          1.8288673852435078,
          1.8571398836749564,
          1.8854674452005031,
          1.9138397845713868,
          1.9422464599996987,
          1.9706768798268892,
          1.999120309429125,
          2.0275658783533816,
          2.0560025876777965,
          2.084419317589348,
          2.11280483517155,
          2.1411478023944213,
          2.169436784298672,
          2.1976602573655772,
          2.2258066180637295,
          2.2538641915634487,
          2.2818212406093075,
          2.3096659745409096,
          2.3373865584517244,
          2.3649711224754997,
          2.3924077711894585,
          2.4196845931232587,
          2.4467896703624157,
          2.4737110882346527,
          2.500436945067425,
          2.526955362004704,
          2.5532544928708565,
          2.5793225340693673,
          2.6051477345039644,
          2.6307184055096187,
          2.6560229307807646,
          2.68104977628404,
          2.705787500142762,
          2.7302247624803373,
          2.7543503352097995,
          2.7781531117566653,
          2.801622116702319,
          2.8247465153352334,
          2.847515623097387,
          2.8699189149133177,
          2.8919460343894134,
          2.913586802871166,
          2.934831228346278,
          2.95566951418171,
          2.9760920676829463,
          2.996089508464021,
          3.0156526766170644,
          3.034772640670406,
          3.053440705324596,
          3.0716484189559603,
          3.0893875808776836,
          3.1066502483487404,
          3.123428743321353,
          3.13971565891805,
          3.1555038656298033,
          3.1707865172270995,
          3.185557056376276,
          3.199809219953865,
          3.2135370440521407,
          3.2267348686695576,
          3.2393973420802062,
          3.2515194248769497,
          3.2630963936833486,
          3.2741238445300356,
          3.284597695891675,
          3.294514191381194,
          3.303869902098458,
          3.3126617286311526,
          3.3208869027060848,
          3.328542988489722,
          3.3356278835372954,
          3.3421398193902947,
          3.3480773618228037,
          3.353439410737548,
          3.358225199713144,
          3.362434295204525,
          3.36606659539903,
          3.369122328731189,
          3.371602052059706,
          3.373506648510678,
          3.374837324991538,
          3.3755956093807282,
          3.375783347398543,
          3.375402699165075,
          3.3744561354515947,
          3.3729464336321815,
          3.370876673342781,
          3.3682502318553267,
          3.365070779174893,
          3.36134227286825,
          3.3570689526325497,
          3.3522553346131683,
          3.3469062054800975,
          3.341026616272532,
          3.3346218760216204,
          3.3276975451615654,
          3.320259428739533,
          3.312313569435029,
          3.3038662403996275,
          3.2949239379280626,
          3.2854933739719328,
          3.275581468507304,
          3.265195341767729,
          3.254342306354173,
          3.2430298592335154,
          3.231265673637272,
          3.219057590872274,
          3.2064136120549898,
          3.193341889781226,
          3.179850719742853,
          3.1659485323032115,
          3.1516438840427208,
          3.1369454492861752,
          3.1218620116230564,
          3.106402455432108,
          3.090575757421219,
          3.0743909781935552,
          3.057857253850618,
          3.0409837876428214,
          3.02377984167782,
          3.0062547286967365,
          2.9884178039280607,
          2.9702784570288423,
          2.951846104122421,
          2.9331301799417577,
          2.9141401300870107,
          2.8948854034058327,
          2.875375444504383,
          2.8556196863968712,
          2.8356275433009746,
          2.8154084035862494,
          2.7949716228821617,
          2.774326517352157,
          2.7534823571396467,
          2.7324483599915994,
          2.71123368506486,
          2.6898474269201227,
          2.668298609707919,
          2.646596181550775,
          2.6247490091251366,
          2.602765872446424,
          2.5806554598600573,
          2.5584263632410478,
          2.536087073404218,
          2.5136459757268694,
          2.4911113459852494,
          2.468491346405839,
          2.4457940219321035,
          2.423027296707003,
          2.400198970771148,
          2.377316716976244,
          2.3543880781130175,
          2.3314204642525254,
          2.3084211502994716,
          2.285397273755746,
          2.262355832692195,
          2.2393036839262357,
          2.2162475414027387,
          2.1931939747752542,
          2.1701494081844364,
          2.1471201192302267,
          2.12411223813419,
          2.101131747088057,
          2.07818447978444,
          2.055276121125351,
          2.032412207104098,
          2.0095981248557964,
          1.9868391128717586,
          1.9641402613726626,
          1.9415065128354456,
          1.9189426626685995,
          1.8964533600305438,
          1.8740431087855371,
          1.8517162685916249,
          1.8294770561148979,
          1.8073295463644503,
          1.7852776741421699,
          1.7633252356016575,
          1.7414758899103728,
          1.7197331610092246,
          1.6981004394637114,
          1.6765809844008237,
          1.6551779255258285,
          1.63389426521323,
          1.6127328806660712,
          1.5916965261379517,
          1.5707878352120668,
          1.55000932313176,
          1.5293633891770368,
          1.5088523190816991,
          1.4884782874857383,
          1.468243360417851,
          1.4481494978029155,
          1.4281985559895183,
          1.408392290292638,
          1.388732357546816,
          1.3692203186651788,
          1.3498576411999366,
          1.3306457019000044,
          1.31158578926168,
          1.2926791060683107
         ],
         "yaxis": "y"
        },
        {
         "legendgroup": "distplot",
         "marker": {
          "color": "rgb(31, 119, 180)",
          "symbol": "line-ns-open"
         },
         "mode": "markers",
         "name": "distplot",
         "showlegend": false,
         "type": "scatter",
         "x": [
          0.010204100896794466,
          1.4901160916291903e-8,
          -2.87746568575349e-8,
          -2.235174225336442e-8,
          0.19047616520165772,
          3.973642830828406e-8,
          0.14285714650640685,
          0.07692304306481595,
          -2.235174225336442e-8,
          -2.235174231118854e-8,
          0.04545454028224158,
          -0.5000000335276134,
          0.08510638065821664,
          -0.010101000370632515
         ],
         "xaxis": "x",
         "y": [
          "distplot",
          "distplot",
          "distplot",
          "distplot",
          "distplot",
          "distplot",
          "distplot",
          "distplot",
          "distplot",
          "distplot",
          "distplot",
          "distplot",
          "distplot",
          "distplot"
         ],
         "yaxis": "y2"
        }
       ],
       "layout": {
        "barmode": "overlay",
        "hovermode": "closest",
        "legend": {
         "traceorder": "reversed"
        },
        "template": {
         "data": {
          "bar": [
           {
            "error_x": {
             "color": "#2a3f5f"
            },
            "error_y": {
             "color": "#2a3f5f"
            },
            "marker": {
             "line": {
              "color": "#E5ECF6",
              "width": 0.5
             },
             "pattern": {
              "fillmode": "overlay",
              "size": 10,
              "solidity": 0.2
             }
            },
            "type": "bar"
           }
          ],
          "barpolar": [
           {
            "marker": {
             "line": {
              "color": "#E5ECF6",
              "width": 0.5
             },
             "pattern": {
              "fillmode": "overlay",
              "size": 10,
              "solidity": 0.2
             }
            },
            "type": "barpolar"
           }
          ],
          "carpet": [
           {
            "aaxis": {
             "endlinecolor": "#2a3f5f",
             "gridcolor": "white",
             "linecolor": "white",
             "minorgridcolor": "white",
             "startlinecolor": "#2a3f5f"
            },
            "baxis": {
             "endlinecolor": "#2a3f5f",
             "gridcolor": "white",
             "linecolor": "white",
             "minorgridcolor": "white",
             "startlinecolor": "#2a3f5f"
            },
            "type": "carpet"
           }
          ],
          "choropleth": [
           {
            "colorbar": {
             "outlinewidth": 0,
             "ticks": ""
            },
            "type": "choropleth"
           }
          ],
          "contour": [
           {
            "colorbar": {
             "outlinewidth": 0,
             "ticks": ""
            },
            "colorscale": [
             [
              0,
              "#0d0887"
             ],
             [
              0.1111111111111111,
              "#46039f"
             ],
             [
              0.2222222222222222,
              "#7201a8"
             ],
             [
              0.3333333333333333,
              "#9c179e"
             ],
             [
              0.4444444444444444,
              "#bd3786"
             ],
             [
              0.5555555555555556,
              "#d8576b"
             ],
             [
              0.6666666666666666,
              "#ed7953"
             ],
             [
              0.7777777777777778,
              "#fb9f3a"
             ],
             [
              0.8888888888888888,
              "#fdca26"
             ],
             [
              1,
              "#f0f921"
             ]
            ],
            "type": "contour"
           }
          ],
          "contourcarpet": [
           {
            "colorbar": {
             "outlinewidth": 0,
             "ticks": ""
            },
            "type": "contourcarpet"
           }
          ],
          "heatmap": [
           {
            "colorbar": {
             "outlinewidth": 0,
             "ticks": ""
            },
            "colorscale": [
             [
              0,
              "#0d0887"
             ],
             [
              0.1111111111111111,
              "#46039f"
             ],
             [
              0.2222222222222222,
              "#7201a8"
             ],
             [
              0.3333333333333333,
              "#9c179e"
             ],
             [
              0.4444444444444444,
              "#bd3786"
             ],
             [
              0.5555555555555556,
              "#d8576b"
             ],
             [
              0.6666666666666666,
              "#ed7953"
             ],
             [
              0.7777777777777778,
              "#fb9f3a"
             ],
             [
              0.8888888888888888,
              "#fdca26"
             ],
             [
              1,
              "#f0f921"
             ]
            ],
            "type": "heatmap"
           }
          ],
          "heatmapgl": [
           {
            "colorbar": {
             "outlinewidth": 0,
             "ticks": ""
            },
            "colorscale": [
             [
              0,
              "#0d0887"
             ],
             [
              0.1111111111111111,
              "#46039f"
             ],
             [
              0.2222222222222222,
              "#7201a8"
             ],
             [
              0.3333333333333333,
              "#9c179e"
             ],
             [
              0.4444444444444444,
              "#bd3786"
             ],
             [
              0.5555555555555556,
              "#d8576b"
             ],
             [
              0.6666666666666666,
              "#ed7953"
             ],
             [
              0.7777777777777778,
              "#fb9f3a"
             ],
             [
              0.8888888888888888,
              "#fdca26"
             ],
             [
              1,
              "#f0f921"
             ]
            ],
            "type": "heatmapgl"
           }
          ],
          "histogram": [
           {
            "marker": {
             "pattern": {
              "fillmode": "overlay",
              "size": 10,
              "solidity": 0.2
             }
            },
            "type": "histogram"
           }
          ],
          "histogram2d": [
           {
            "colorbar": {
             "outlinewidth": 0,
             "ticks": ""
            },
            "colorscale": [
             [
              0,
              "#0d0887"
             ],
             [
              0.1111111111111111,
              "#46039f"
             ],
             [
              0.2222222222222222,
              "#7201a8"
             ],
             [
              0.3333333333333333,
              "#9c179e"
             ],
             [
              0.4444444444444444,
              "#bd3786"
             ],
             [
              0.5555555555555556,
              "#d8576b"
             ],
             [
              0.6666666666666666,
              "#ed7953"
             ],
             [
              0.7777777777777778,
              "#fb9f3a"
             ],
             [
              0.8888888888888888,
              "#fdca26"
             ],
             [
              1,
              "#f0f921"
             ]
            ],
            "type": "histogram2d"
           }
          ],
          "histogram2dcontour": [
           {
            "colorbar": {
             "outlinewidth": 0,
             "ticks": ""
            },
            "colorscale": [
             [
              0,
              "#0d0887"
             ],
             [
              0.1111111111111111,
              "#46039f"
             ],
             [
              0.2222222222222222,
              "#7201a8"
             ],
             [
              0.3333333333333333,
              "#9c179e"
             ],
             [
              0.4444444444444444,
              "#bd3786"
             ],
             [
              0.5555555555555556,
              "#d8576b"
             ],
             [
              0.6666666666666666,
              "#ed7953"
             ],
             [
              0.7777777777777778,
              "#fb9f3a"
             ],
             [
              0.8888888888888888,
              "#fdca26"
             ],
             [
              1,
              "#f0f921"
             ]
            ],
            "type": "histogram2dcontour"
           }
          ],
          "mesh3d": [
           {
            "colorbar": {
             "outlinewidth": 0,
             "ticks": ""
            },
            "type": "mesh3d"
           }
          ],
          "parcoords": [
           {
            "line": {
             "colorbar": {
              "outlinewidth": 0,
              "ticks": ""
             }
            },
            "type": "parcoords"
           }
          ],
          "pie": [
           {
            "automargin": true,
            "type": "pie"
           }
          ],
          "scatter": [
           {
            "marker": {
             "colorbar": {
              "outlinewidth": 0,
              "ticks": ""
             }
            },
            "type": "scatter"
           }
          ],
          "scatter3d": [
           {
            "line": {
             "colorbar": {
              "outlinewidth": 0,
              "ticks": ""
             }
            },
            "marker": {
             "colorbar": {
              "outlinewidth": 0,
              "ticks": ""
             }
            },
            "type": "scatter3d"
           }
          ],
          "scattercarpet": [
           {
            "marker": {
             "colorbar": {
              "outlinewidth": 0,
              "ticks": ""
             }
            },
            "type": "scattercarpet"
           }
          ],
          "scattergeo": [
           {
            "marker": {
             "colorbar": {
              "outlinewidth": 0,
              "ticks": ""
             }
            },
            "type": "scattergeo"
           }
          ],
          "scattergl": [
           {
            "marker": {
             "colorbar": {
              "outlinewidth": 0,
              "ticks": ""
             }
            },
            "type": "scattergl"
           }
          ],
          "scattermapbox": [
           {
            "marker": {
             "colorbar": {
              "outlinewidth": 0,
              "ticks": ""
             }
            },
            "type": "scattermapbox"
           }
          ],
          "scatterpolar": [
           {
            "marker": {
             "colorbar": {
              "outlinewidth": 0,
              "ticks": ""
             }
            },
            "type": "scatterpolar"
           }
          ],
          "scatterpolargl": [
           {
            "marker": {
             "colorbar": {
              "outlinewidth": 0,
              "ticks": ""
             }
            },
            "type": "scatterpolargl"
           }
          ],
          "scatterternary": [
           {
            "marker": {
             "colorbar": {
              "outlinewidth": 0,
              "ticks": ""
             }
            },
            "type": "scatterternary"
           }
          ],
          "surface": [
           {
            "colorbar": {
             "outlinewidth": 0,
             "ticks": ""
            },
            "colorscale": [
             [
              0,
              "#0d0887"
             ],
             [
              0.1111111111111111,
              "#46039f"
             ],
             [
              0.2222222222222222,
              "#7201a8"
             ],
             [
              0.3333333333333333,
              "#9c179e"
             ],
             [
              0.4444444444444444,
              "#bd3786"
             ],
             [
              0.5555555555555556,
              "#d8576b"
             ],
             [
              0.6666666666666666,
              "#ed7953"
             ],
             [
              0.7777777777777778,
              "#fb9f3a"
             ],
             [
              0.8888888888888888,
              "#fdca26"
             ],
             [
              1,
              "#f0f921"
             ]
            ],
            "type": "surface"
           }
          ],
          "table": [
           {
            "cells": {
             "fill": {
              "color": "#EBF0F8"
             },
             "line": {
              "color": "white"
             }
            },
            "header": {
             "fill": {
              "color": "#C8D4E3"
             },
             "line": {
              "color": "white"
             }
            },
            "type": "table"
           }
          ]
         },
         "layout": {
          "annotationdefaults": {
           "arrowcolor": "#2a3f5f",
           "arrowhead": 0,
           "arrowwidth": 1
          },
          "autotypenumbers": "strict",
          "coloraxis": {
           "colorbar": {
            "outlinewidth": 0,
            "ticks": ""
           }
          },
          "colorscale": {
           "diverging": [
            [
             0,
             "#8e0152"
            ],
            [
             0.1,
             "#c51b7d"
            ],
            [
             0.2,
             "#de77ae"
            ],
            [
             0.3,
             "#f1b6da"
            ],
            [
             0.4,
             "#fde0ef"
            ],
            [
             0.5,
             "#f7f7f7"
            ],
            [
             0.6,
             "#e6f5d0"
            ],
            [
             0.7,
             "#b8e186"
            ],
            [
             0.8,
             "#7fbc41"
            ],
            [
             0.9,
             "#4d9221"
            ],
            [
             1,
             "#276419"
            ]
           ],
           "sequential": [
            [
             0,
             "#0d0887"
            ],
            [
             0.1111111111111111,
             "#46039f"
            ],
            [
             0.2222222222222222,
             "#7201a8"
            ],
            [
             0.3333333333333333,
             "#9c179e"
            ],
            [
             0.4444444444444444,
             "#bd3786"
            ],
            [
             0.5555555555555556,
             "#d8576b"
            ],
            [
             0.6666666666666666,
             "#ed7953"
            ],
            [
             0.7777777777777778,
             "#fb9f3a"
            ],
            [
             0.8888888888888888,
             "#fdca26"
            ],
            [
             1,
             "#f0f921"
            ]
           ],
           "sequentialminus": [
            [
             0,
             "#0d0887"
            ],
            [
             0.1111111111111111,
             "#46039f"
            ],
            [
             0.2222222222222222,
             "#7201a8"
            ],
            [
             0.3333333333333333,
             "#9c179e"
            ],
            [
             0.4444444444444444,
             "#bd3786"
            ],
            [
             0.5555555555555556,
             "#d8576b"
            ],
            [
             0.6666666666666666,
             "#ed7953"
            ],
            [
             0.7777777777777778,
             "#fb9f3a"
            ],
            [
             0.8888888888888888,
             "#fdca26"
            ],
            [
             1,
             "#f0f921"
            ]
           ]
          },
          "colorway": [
           "#636efa",
           "#EF553B",
           "#00cc96",
           "#ab63fa",
           "#FFA15A",
           "#19d3f3",
           "#FF6692",
           "#B6E880",
           "#FF97FF",
           "#FECB52"
          ],
          "font": {
           "color": "#2a3f5f"
          },
          "geo": {
           "bgcolor": "white",
           "lakecolor": "white",
           "landcolor": "#E5ECF6",
           "showlakes": true,
           "showland": true,
           "subunitcolor": "white"
          },
          "hoverlabel": {
           "align": "left"
          },
          "hovermode": "closest",
          "mapbox": {
           "style": "light"
          },
          "paper_bgcolor": "white",
          "plot_bgcolor": "#E5ECF6",
          "polar": {
           "angularaxis": {
            "gridcolor": "white",
            "linecolor": "white",
            "ticks": ""
           },
           "bgcolor": "#E5ECF6",
           "radialaxis": {
            "gridcolor": "white",
            "linecolor": "white",
            "ticks": ""
           }
          },
          "scene": {
           "xaxis": {
            "backgroundcolor": "#E5ECF6",
            "gridcolor": "white",
            "gridwidth": 2,
            "linecolor": "white",
            "showbackground": true,
            "ticks": "",
            "zerolinecolor": "white"
           },
           "yaxis": {
            "backgroundcolor": "#E5ECF6",
            "gridcolor": "white",
            "gridwidth": 2,
            "linecolor": "white",
            "showbackground": true,
            "ticks": "",
            "zerolinecolor": "white"
           },
           "zaxis": {
            "backgroundcolor": "#E5ECF6",
            "gridcolor": "white",
            "gridwidth": 2,
            "linecolor": "white",
            "showbackground": true,
            "ticks": "",
            "zerolinecolor": "white"
           }
          },
          "shapedefaults": {
           "line": {
            "color": "#2a3f5f"
           }
          },
          "ternary": {
           "aaxis": {
            "gridcolor": "white",
            "linecolor": "white",
            "ticks": ""
           },
           "baxis": {
            "gridcolor": "white",
            "linecolor": "white",
            "ticks": ""
           },
           "bgcolor": "#E5ECF6",
           "caxis": {
            "gridcolor": "white",
            "linecolor": "white",
            "ticks": ""
           }
          },
          "title": {
           "x": 0.05
          },
          "xaxis": {
           "automargin": true,
           "gridcolor": "white",
           "linecolor": "white",
           "ticks": "",
           "title": {
            "standoff": 15
           },
           "zerolinecolor": "white",
           "zerolinewidth": 2
          },
          "yaxis": {
           "automargin": true,
           "gridcolor": "white",
           "linecolor": "white",
           "ticks": "",
           "title": {
            "standoff": 15
           },
           "zerolinecolor": "white",
           "zerolinewidth": 2
          }
         }
        },
        "title": {
         "text": "distribution of the % differences"
        },
        "xaxis": {
         "anchor": "y2",
         "domain": [
          0,
          1
         ],
         "zeroline": false
        },
        "yaxis": {
         "anchor": "free",
         "domain": [
          0.35,
          1
         ],
         "position": 0
        },
        "yaxis2": {
         "anchor": "x",
         "domain": [
          0,
          0.25
         ],
         "dtick": 1,
         "showticklabels": false
        }
       }
      }
     },
     "metadata": {},
     "output_type": "display_data"
    }
   ],
   "source": [
    "import plotly.figure_factory as ff\n",
    "hist_data = [((df_diff[\"dvf\"]-df_diff[\"dvf_book\"])/df_diff[\"dvf\"]).to_list()]\n",
    "group_labels = ['distplot'] # name of the dataset\n",
    "\n",
    "fig = ff.create_distplot(hist_data, group_labels,bin_size=0.2)\n",
    "fig.update_layout(title_text=\"distribution of the % differences\")\n",
    "fig.write_html(\"Error and temperature.html\")\n",
    "fig.write_image(\"distplot.png\")\n",
    "fig.show()"
   ]
  },
  {
   "cell_type": "code",
   "execution_count": 187,
   "metadata": {},
   "outputs": [
    {
     "data": {
      "application/vnd.plotly.v1+json": {
       "config": {
        "plotlyServerURL": "https://plot.ly"
       },
       "data": [
        {
         "hovertemplate": "variable=Error<br>index=%{x}<br>value=%{y}<extra></extra>",
         "legendgroup": "Error",
         "line": {
          "color": "#636efa",
          "dash": "solid"
         },
         "marker": {
          "symbol": "circle"
         },
         "mode": "lines",
         "name": "Error",
         "showlegend": true,
         "type": "scattergl",
         "x": [
          0,
          1,
          2,
          3,
          4,
          5,
          6,
          7,
          8,
          9,
          10,
          11,
          12,
          13,
          14,
          15,
          16,
          17,
          18,
          19,
          20,
          21,
          22,
          23,
          24,
          25,
          26,
          27,
          28,
          29,
          30,
          31,
          32,
          33,
          34,
          35,
          36,
          37,
          38,
          39,
          40,
          41,
          42,
          43,
          44,
          45,
          46,
          47,
          48,
          49,
          50,
          51,
          52,
          53,
          54,
          55,
          56,
          57,
          58,
          59,
          60,
          61,
          62,
          63,
          64,
          65,
          66,
          67,
          68,
          69,
          70,
          71,
          72,
          73,
          74,
          75,
          76,
          77,
          78,
          79,
          80,
          81,
          82,
          83,
          84,
          85,
          86,
          87,
          88,
          89,
          90,
          91,
          92,
          93,
          94,
          95,
          96,
          97,
          98,
          99,
          100,
          101,
          102,
          103,
          104,
          105,
          106,
          107,
          108,
          109,
          110,
          111,
          112,
          113,
          114,
          115,
          116,
          117,
          118,
          119,
          120,
          121,
          122,
          123,
          124,
          125,
          126,
          127,
          128,
          129,
          130,
          131,
          132,
          133,
          134,
          135,
          136,
          137,
          138,
          139,
          140,
          141,
          142,
          143,
          144,
          145,
          146,
          147,
          148,
          149,
          150,
          151,
          152,
          153,
          154,
          155,
          156,
          157,
          158,
          159,
          160,
          161,
          162,
          163,
          164,
          165,
          166,
          167,
          168,
          169,
          170,
          171,
          172,
          173,
          174,
          175,
          176,
          177,
          178,
          179,
          180,
          181,
          182,
          183,
          184,
          185,
          186,
          187,
          188,
          189,
          190,
          191,
          192,
          193,
          194,
          195,
          196,
          197,
          198,
          199,
          200,
          201,
          202,
          203,
          204,
          205,
          206,
          207,
          208,
          209,
          210,
          211,
          212,
          213,
          214,
          215,
          216,
          217,
          218,
          219,
          220,
          221,
          222,
          223,
          224,
          225,
          226,
          227,
          228,
          229,
          230,
          231,
          232,
          233,
          234,
          235,
          236,
          237,
          238,
          239,
          240,
          241,
          242,
          243,
          244,
          245,
          246,
          247,
          248,
          249,
          250,
          251,
          252,
          253,
          254,
          255,
          256,
          257,
          258,
          259,
          260,
          261,
          262,
          263,
          264,
          265,
          266,
          267,
          268,
          269,
          270,
          271,
          272,
          273,
          274,
          275,
          276,
          277,
          278,
          279,
          280,
          281,
          282,
          283,
          284,
          285,
          286,
          287,
          288,
          289,
          290,
          291,
          292,
          293,
          294,
          295,
          296,
          297,
          298,
          299,
          300,
          301,
          302,
          303,
          304,
          305,
          306,
          307,
          308,
          309,
          310,
          311,
          312,
          313,
          314,
          315,
          316,
          317,
          318,
          319,
          320,
          321,
          322,
          323,
          324,
          325,
          326,
          327,
          328,
          329,
          330,
          331,
          332,
          333,
          334,
          335,
          336,
          337,
          338,
          339,
          340,
          341,
          342,
          343,
          344,
          345,
          346,
          347,
          348,
          349,
          350,
          351,
          352,
          353,
          354,
          355,
          356,
          357,
          358,
          359,
          360,
          361,
          362,
          363,
          364,
          365,
          366,
          367,
          368,
          369,
          370,
          371,
          372,
          373,
          374,
          375,
          376,
          377,
          378,
          379,
          380,
          381,
          382,
          383,
          384,
          385,
          386,
          387,
          388,
          389,
          390,
          391,
          392,
          393,
          394,
          395,
          396,
          397,
          398,
          399,
          400,
          401,
          402,
          403,
          404,
          405,
          406,
          407,
          408,
          409,
          410,
          411,
          412,
          413,
          414,
          415,
          416,
          417,
          418,
          419,
          420,
          421,
          422,
          423,
          424,
          425,
          426,
          427,
          428,
          429,
          430,
          431,
          432,
          433,
          434,
          435,
          436,
          437,
          438,
          439,
          440,
          441,
          442,
          443,
          444,
          445,
          446,
          447,
          448,
          449,
          450,
          451,
          452,
          453,
          454,
          455,
          456,
          457,
          458,
          459,
          460,
          461,
          462,
          463,
          464,
          465,
          466,
          467,
          468,
          469,
          470,
          471,
          472,
          473,
          474,
          475,
          476,
          477,
          478,
          479,
          480,
          481,
          482,
          483,
          484,
          485,
          486,
          487,
          488,
          489,
          490,
          491,
          492,
          493,
          494,
          495,
          496,
          497,
          498,
          499,
          500,
          501,
          502,
          503,
          504,
          505,
          506,
          507,
          508,
          509,
          510,
          511,
          512,
          513,
          514,
          515,
          516,
          517,
          518,
          519,
          520,
          521,
          522,
          523,
          524,
          525,
          526,
          527,
          528,
          529,
          530,
          531,
          532,
          533,
          534,
          535,
          536,
          537,
          538,
          539,
          540,
          541,
          542,
          543,
          544,
          545,
          546,
          547,
          548,
          549,
          550,
          551,
          552,
          553,
          554,
          555,
          556,
          557,
          558,
          559,
          560,
          561,
          562,
          563,
          564,
          565,
          566,
          567,
          568,
          569,
          570,
          571,
          572,
          573,
          574,
          575,
          576,
          577,
          578,
          579,
          580,
          581,
          582,
          583,
          584,
          585,
          586,
          587,
          588,
          589,
          590,
          591,
          592,
          593,
          594,
          595,
          596,
          597,
          598,
          599,
          600,
          601,
          602,
          603,
          604,
          605,
          606,
          607,
          608,
          609,
          610,
          611,
          612,
          613,
          614,
          615,
          616,
          617,
          618,
          619,
          620,
          621,
          622,
          623,
          624,
          625,
          626,
          627,
          628,
          629,
          630,
          631,
          632,
          633,
          634,
          635,
          636,
          637,
          638,
          639,
          640,
          641,
          642,
          643,
          644,
          645,
          646,
          647,
          648,
          649,
          650,
          651,
          652,
          653,
          654,
          655,
          656,
          657,
          658,
          659,
          660,
          661,
          662,
          663,
          664,
          665,
          666,
          667,
          668,
          669,
          670,
          671,
          672,
          673,
          674,
          675,
          676,
          677,
          678,
          679,
          680,
          681,
          682,
          683,
          684,
          685,
          686,
          687,
          688,
          689,
          690,
          691,
          692,
          693,
          694,
          695,
          696,
          697,
          698,
          699,
          700,
          701,
          702,
          703,
          704,
          705,
          706,
          707,
          708,
          709,
          710,
          711,
          712,
          713,
          714,
          715,
          716,
          717,
          718,
          719,
          720,
          721,
          722,
          723,
          724,
          725,
          726,
          727,
          728,
          729,
          730,
          731,
          732,
          733,
          734,
          735,
          736,
          737,
          738,
          739,
          740,
          741,
          742,
          743,
          744,
          745,
          746,
          747,
          748,
          749,
          750,
          751,
          752,
          753,
          754,
          755,
          756,
          757,
          758,
          759,
          760,
          761,
          762,
          763,
          764,
          765,
          766,
          767,
          768,
          769,
          770,
          771,
          772,
          773,
          774,
          775,
          776,
          777,
          778,
          779,
          780,
          781,
          782,
          783,
          784,
          785,
          786,
          787,
          788,
          789,
          790,
          791,
          792,
          793,
          794,
          795,
          796,
          797,
          798,
          799,
          800,
          801,
          802,
          803,
          804,
          805,
          806,
          807,
          808,
          809,
          810,
          811,
          812,
          813,
          814,
          815,
          816,
          817,
          818,
          819,
          820,
          821,
          822,
          823,
          824,
          825,
          826,
          827,
          828,
          829,
          830,
          831,
          832,
          833,
          834,
          835,
          836,
          837,
          838,
          839,
          840,
          841,
          842,
          843,
          844,
          845,
          846,
          847,
          848,
          849,
          850,
          851,
          852,
          853,
          854,
          855,
          856,
          857,
          858,
          859,
          860,
          861,
          862,
          863,
          864,
          865,
          866,
          867,
          868,
          869,
          870,
          871,
          872,
          873,
          874,
          875,
          876,
          877,
          878,
          879,
          880,
          881,
          882,
          883,
          884,
          885,
          886,
          887,
          888,
          889,
          890,
          891,
          892,
          893,
          894,
          895,
          896,
          897,
          898,
          899,
          900,
          901,
          902,
          903,
          904,
          905,
          906,
          907,
          908,
          909,
          910,
          911,
          912,
          913,
          914,
          915,
          916,
          917,
          918,
          919,
          920,
          921,
          922,
          923,
          924,
          925,
          926,
          927,
          928,
          929,
          930,
          931,
          932,
          933,
          934,
          935,
          936,
          937,
          938,
          939,
          940,
          941,
          942,
          943,
          944,
          945,
          946,
          947,
          948,
          949,
          950,
          951,
          952,
          953,
          954,
          955,
          956,
          957,
          958,
          959,
          960,
          961,
          962,
          963,
          964,
          965,
          966,
          967,
          968,
          969,
          970,
          971,
          972,
          973,
          974,
          975,
          976,
          977,
          978,
          979,
          980,
          981,
          982,
          983,
          984,
          985,
          986,
          987,
          988,
          989,
          990,
          991,
          992,
          993,
          994,
          995,
          996,
          997,
          998,
          999
         ],
         "xaxis": "x",
         "y": [
          2.7767035961151123,
          2.776832342147827,
          2.776904582977295,
          2.7770020961761475,
          2.777087688446045,
          2.7771787643432617,
          2.7772672176361084,
          2.7773563861846924,
          2.777445077896118,
          2.777533531188965,
          2.7776217460632324,
          2.777709722518921,
          2.7777976989746094,
          2.7778854370117188,
          2.777973175048828,
          2.7780609130859375,
          2.7781476974487305,
          2.7782347202301025,
          2.7783212661743164,
          2.7784080505371094,
          2.778494358062744,
          2.778580665588379,
          2.7786664962768555,
          2.778752088546753,
          2.7788379192352295,
          2.7789230346679688,
          2.779007911682129,
          2.7790932655334473,
          2.7791779041290283,
          2.7792625427246094,
          2.7793469429016113,
          2.779430389404297,
          2.7795143127441406,
          2.7795979976654053,
          2.7796812057495117,
          2.779764413833618,
          2.7798471450805664,
          2.7799296379089355,
          2.7800121307373047,
          2.7800943851470947,
          2.7801766395568848,
          2.7802581787109375,
          2.7803397178649902,
          2.7804207801818848,
          2.7805018424987793,
          2.7805824279785156,
          2.780663013458252,
          2.78074312210083,
          2.780823230743408,
          2.780902862548828,
          2.780982494354248,
          2.7810616493225098,
          2.7811403274536133,
          2.781219005584717,
          2.781296730041504,
          2.7813754081726074,
          2.7814531326293945,
          2.7815308570861816,
          2.7816078662872314,
          2.7816848754882812,
          2.781761407852173,
          2.7818379402160645,
          2.7819137573242188,
          2.781989574432373,
          2.7820656299591064,
          2.7821407318115234,
          2.7822155952453613,
          2.782289981842041,
          2.7823643684387207,
          2.782438278198242,
          2.7825124263763428,
          2.782585620880127,
          2.782658576965332,
          2.782731533050537,
          2.782804012298584,
          2.7828757762908936,
          2.782947540283203,
          2.7830188274383545,
          2.783090353012085,
          2.783160924911499,
          2.783231496810913,
          2.783301591873169,
          2.7833709716796875,
          2.783440351486206,
          2.7835097312927246,
          2.783578395843506,
          2.783646821975708,
          2.78371524810791,
          2.783782720565796,
          2.7838497161865234,
          2.78391695022583,
          2.7839832305908203,
          2.7840495109558105,
          2.7841153144836426,
          2.7841806411743164,
          2.784245729446411,
          2.7843103408813477,
          2.784374713897705,
          2.7844386100769043,
          2.7845020294189453,
          2.784564971923828,
          2.784627914428711,
          2.7846899032592773,
          2.7847514152526855,
          2.784813404083252,
          2.784874439239502,
          2.7849347591400146,
          2.7849950790405273,
          2.7850546836853027,
          2.785114288330078,
          2.785172939300537,
          2.785231590270996,
          2.7852895259857178,
          2.7853469848632812,
          2.7854042053222656,
          2.785460948944092,
          2.7855172157287598,
          2.7855730056762695,
          2.785628318786621,
          2.7856831550598145,
          2.7857370376586914,
          2.7857913970947266,
          2.7858448028564453,
          2.785897731781006,
          2.785950183868408,
          2.7860021591186523,
          2.7860536575317383,
          2.786104202270508,
          2.7861547470092773,
          2.7862050533294678,
          2.7862541675567627,
          2.7863032817840576,
          2.7863516807556152,
          2.7863993644714355,
          2.7864468097686768,
          2.7864937782287598,
          2.7865400314331055,
          2.786585807800293,
          2.7866311073303223,
          2.7866759300231934,
          2.786719799041748,
          2.7867634296417236,
          2.786806583404541,
          2.786848306655884,
          2.7868905067443848,
          2.7869315147399902,
          2.7869722843170166,
          2.7870125770568848,
          2.7870521545410156,
          2.78709077835083,
          2.7871291637420654,
          2.7871670722961426,
          2.7872042655944824,
          2.787240505218506,
          2.787276268005371,
          2.7873117923736572,
          2.7873458862304688,
          2.787379741668701,
          2.7874131202697754,
          2.7874457836151123,
          2.787477970123291,
          2.7875094413757324,
          2.7875399589538574,
          2.787569999694824,
          2.7875990867614746,
          2.787627696990967,
          2.787655830383301,
          2.7876830101013184,
          2.7877097129821777,
          2.7877354621887207,
          2.7877607345581055,
          2.7877848148345947,
          2.787808418273926,
          2.7878315448760986,
          2.787853717803955,
          2.787875175476074,
          2.787896156311035,
          2.7879157066345215,
          2.787935256958008,
          2.7879538536071777,
          2.7879714965820312,
          2.7879881858825684,
          2.7880043983459473,
          2.788019895553589,
          2.788033962249756,
          2.788048028945923,
          2.7880609035491943,
          2.7880728244781494,
          2.788084030151367,
          2.7880947589874268,
          2.7881040573120117,
          2.7881131172180176,
          2.788120985031128,
          2.788127899169922,
          2.7881340980529785,
          2.788139581680298,
          2.7881438732147217,
          2.788147449493408,
          2.78814959526062,
          2.788151264190674,
          2.7881522178649902,
          2.788151979446411,
          2.788151264190674,
          2.788148880004883,
          2.788146495819092,
          2.788142681121826,
          2.788137435913086,
          2.7881317138671875,
          2.7881245613098145,
          2.788116931915283,
          2.7881083488464355,
          2.7880983352661133,
          2.7880873680114746,
          2.7880756855010986,
          2.7880630493164062,
          2.7880492210388184,
          2.788033962249756,
          2.7880184650421143,
          2.78800106048584,
          2.787982702255249,
          2.787963390350342,
          2.7879433631896973,
          2.7879221439361572,
          2.7878994941711426,
          2.7878761291503906,
          2.787851333618164,
          2.787825107574463,
          2.7877979278564453,
          2.7877700328826904,
          2.7877402305603027,
          2.787709951400757,
          2.787677764892578,
          2.7876453399658203,
          2.7876110076904297,
          2.7875757217407227,
          2.787539005279541,
          2.787501335144043,
          2.787461757659912,
          2.787421703338623,
          2.7873802185058594,
          2.787337303161621,
          2.787292957305908,
          2.7872474193573,
          2.7872002124786377,
          2.7871525287628174,
          2.7871029376983643,
          2.7870516777038574,
          2.7869997024536133,
          2.7869458198547363,
          2.786890983581543,
          2.786834478378296,
          2.7867767810821533,
          2.786717414855957,
          2.7866568565368652,
          2.7865943908691406,
          2.7865312099456787,
          2.786465644836426,
          2.7863993644714355,
          2.7863311767578125,
          2.786261558532715,
          2.7861905097961426,
          2.7861180305480957,
          2.786043167114258,
          2.785968065261841,
          2.785890579223633,
          2.785811424255371,
          2.785731077194214,
          2.785648822784424,
          2.78556489944458,
          2.7854790687561035,
          2.7853922843933105,
          2.7853031158447266,
          2.785212516784668,
          2.7851200103759766,
          2.7850263118743896,
          2.7849302291870117,
          2.7848329544067383,
          2.784733533859253,
          2.784632682800293,
          2.784529685974121,
          2.7844247817993164,
          2.784317970275879,
          2.784209728240967,
          2.784099578857422,
          2.783987522125244,
          2.7838730812072754,
          2.783756732940674,
          2.7836387157440186,
          2.7835192680358887,
          2.7833967208862305,
          2.7832727432250977,
          2.7831473350524902,
          2.7830190658569336,
          2.782888889312744,
          2.7827565670013428,
          2.7826225757598877,
          2.7824859619140625,
          2.7823476791381836,
          2.7822070121765137,
          2.782064437866211,
          2.781919479370117,
          2.7817721366882324,
          2.7816226482391357,
          2.781471014022827,
          2.7813165187835693,
          2.781160831451416,
          2.7810020446777344,
          2.780841112136841,
          2.7806777954101562,
          2.7805123329162598,
          2.7803444862365723,
          2.7801740169525146,
          2.780000925064087,
          2.7798256874084473,
          2.7796478271484375,
          2.7794673442840576,
          2.7792844772338867,
          2.7790989875793457,
          2.7789108753204346,
          2.778719902038574,
          2.778526782989502,
          2.7783308029174805,
          2.7781319618225098,
          2.777930736541748,
          2.777726411819458,
          2.777520179748535,
          2.7773098945617676,
          2.777097463607788,
          2.7768821716308594,
          2.7766640186309814,
          2.7764430046081543,
          2.776218891143799,
          2.775991439819336,
          2.775761842727661,
          2.775529146194458,
          2.7752928733825684,
          2.7750539779663086,
          2.7748115062713623,
          2.774566173553467,
          2.774317502975464,
          2.774066209793091,
          2.7738113403320312,
          2.773552894592285,
          2.77329158782959,
          2.773026943206787,
          2.772758960723877,
          2.7724874019622803,
          2.772212505340576,
          2.7719335556030273,
          2.7716524600982666,
          2.771366596221924,
          2.771078109741211,
          2.7707855701446533,
          2.77048921585083,
          2.7701897621154785,
          2.769886016845703,
          2.7695791721343994,
          2.7692675590515137,
          2.768953800201416,
          2.768634796142578,
          2.7683122158050537,
          2.7679858207702637,
          2.767655372619629,
          2.7673211097717285,
          2.7669827938079834,
          2.7666404247283936,
          2.766294002532959,
          2.7659430503845215,
          2.7655882835388184,
          2.765228748321533,
          2.7648658752441406,
          2.764497756958008,
          2.7641258239746094,
          2.763749361038208,
          2.7633681297302246,
          2.7629828453063965,
          2.7625925540924072,
          2.762197971343994,
          2.761798143386841,
          2.7613942623138428,
          2.7609853744506836,
          2.7605719566345215,
          2.760153293609619,
          2.7597298622131348,
          2.7593019008636475,
          2.758868455886841,
          2.758429765701294,
          2.757986545562744,
          2.757538318634033,
          2.7570841312408447,
          2.756624937057495,
          2.7561607360839844,
          2.7556910514831543,
          2.755216121673584,
          2.754735231399536,
          2.754249095916748,
          2.7537569999694824,
          2.7532598972320557,
          2.752756357192993,
          2.7522473335266113,
          2.75173282623291,
          2.7512121200561523,
          2.750684976577759,
          2.750152587890625,
          2.7496137619018555,
          2.749068260192871,
          2.7485172748565674,
          2.747959852218628,
          2.7473955154418945,
          2.746825695037842,
          2.746248722076416,
          2.7456655502319336,
          2.745075225830078,
          2.744478702545166,
          2.743875026702881,
          2.743264675140381,
          2.742647647857666,
          2.74202299118042,
          2.741391181945801,
          2.740752696990967,
          2.7401068210601807,
          2.7394533157348633,
          2.738792896270752,
          2.7381248474121094,
          2.7374489307403564,
          2.7367658615112305,
          2.736074447631836,
          2.73537540435791,
          2.7346689701080322,
          2.7339539527893066,
          2.7332305908203125,
          2.732499599456787,
          2.731760025024414,
          2.7310123443603516,
          2.7302560806274414,
          2.7294912338256836,
          2.728717803955078,
          2.7279350757598877,
          2.727144241333008,
          2.726344108581543,
          2.7255349159240723,
          2.7247166633605957,
          2.723888874053955,
          2.7230515480041504,
          2.722205400466919,
          2.7213494777679443,
          2.7204833030700684,
          2.7196078300476074,
          2.718721866607666,
          2.7178266048431396,
          2.7169206142425537,
          2.7160043716430664,
          2.715078115463257,
          2.7141411304473877,
          2.71319317817688,
          2.71223521232605,
          2.7112655639648438,
          2.710284948348999,
          2.7092933654785156,
          2.7082905769348145,
          2.7072763442993164,
          2.7062501907348633,
          2.7052133083343506,
          2.7041635513305664,
          2.7031021118164062,
          2.702028512954712,
          2.7009427547454834,
          2.6998443603515625,
          2.6987335681915283,
          2.6976101398468018,
          2.6964735984802246,
          2.695324420928955,
          2.6941614151000977,
          2.6929850578308105,
          2.691795825958252,
          2.6905925273895264,
          2.689375400543213,
          2.6881442070007324,
          2.686898946762085,
          2.6856391429901123,
          2.6843647956848145,
          2.6830759048461914,
          2.681771755218506,
          2.680452823638916,
          2.6791186332702637,
          2.677769184112549,
          2.676403522491455,
          2.6750221252441406,
          2.6736245155334473,
          2.672210931777954,
          2.670780897140503,
          2.6693341732025146,
          2.66787052154541,
          2.6663894653320312,
          2.664891481399536,
          2.6633758544921875,
          2.6618423461914062,
          2.6602907180786133,
          2.658721446990967,
          2.657133102416992,
          2.6555261611938477,
          2.653900384902954,
          2.652255058288574,
          2.6505908966064453,
          2.648906707763672,
          2.647202491760254,
          2.6454787254333496,
          2.6437339782714844,
          2.6419687271118164,
          2.6401820182800293,
          2.6383743286132812,
          2.636545181274414,
          2.6346943378448486,
          2.6328206062316895,
          2.630925416946411,
          2.62900710105896,
          2.627065658569336,
          2.625101089477539,
          2.623112678527832,
          2.621100902557373,
          2.6190643310546875,
          2.6170029640197754,
          2.614917278289795,
          2.6128058433532715,
          2.610668897628784,
          2.608506202697754,
          2.6063172817230225,
          2.6041016578674316,
          2.6018590927124023,
          2.5995888710021973,
          2.5972909927368164,
          2.5949654579162598,
          2.5926108360290527,
          2.5902276039123535,
          2.587815284729004,
          2.5853729248046875,
          2.5829005241394043,
          2.5803980827331543,
          2.577864408493042,
          2.5752992630004883,
          2.572702169418335,
          2.570073366165161,
          2.5674118995666504,
          2.5647168159484863,
          2.561988353729248,
          2.5592265129089355,
          2.556429147720337,
          2.5535972118377686,
          2.5507302284240723,
          2.5478270053863525,
          2.544887065887451,
          2.541910171508789,
          2.538896083831787,
          2.53584361076355,
          2.532752513885498,
          2.529623031616211,
          2.5264534950256348,
          2.5232436656951904,
          2.519993305206299,
          2.5167012214660645,
          2.513367176055908,
          2.509991407394409,
          2.5065720081329346,
          2.5031087398529053,
          2.499601364135742,
          2.496048927307129,
          2.4924511909484863,
          2.48880672454834,
          2.4851155281066895,
          2.4813764095306396,
          2.4775893688201904,
          2.4737534523010254,
          2.469867706298828,
          2.4659318923950195,
          2.4619452953338623,
          2.457906484603882,
          2.45381498336792,
          2.4496707916259766,
          2.445472240447998,
          2.4412193298339844,
          2.4369101524353027,
          2.4325454235076904,
          2.4281234741210938,
          2.423643112182617,
          2.4191040992736816,
          2.41450572013855,
          2.4098472595214844,
          2.4051270484924316,
          2.4003450870513916,
          2.3954997062683105,
          2.3905906677246094,
          2.3856167793273926,
          2.380577802658081,
          2.375471830368042,
          2.370297908782959,
          2.365056276321411,
          2.3597450256347656,
          2.354363441467285,
          2.348910331726074,
          2.3433852195739746,
          2.3377866744995117,
          2.3321139812469482,
          2.3263657093048096,
          2.3205413818359375,
          2.3146395683288574,
          2.308659076690674,
          2.3025999069213867,
          2.2964601516723633,
          2.290238380432129,
          2.2839345932006836,
          2.2775464057922363,
          2.271073818206787,
          2.2645153999328613,
          2.2578699588775635,
          2.251136302947998,
          2.2443132400512695,
          2.2374000549316406,
          2.230395555496216,
          2.2232980728149414,
          2.2161073684692383,
          2.2088208198547363,
          2.2014389038085938,
          2.193959951400757,
          2.186382293701172,
          2.1787054538726807,
          2.1709277629852295,
          2.163048028945923,
          2.1550652980804443,
          2.1469786167144775,
          2.138787031173706,
          2.130488872528076,
          2.1220831871032715,
          2.1135687828063965,
          2.1049444675445557,
          2.0962095260620117,
          2.08736252784729,
          2.078402042388916,
          2.0693278312683105,
          2.06013822555542,
          2.050832748413086,
          2.041409492492676,
          2.0318682193756104,
          2.022207736968994,
          2.0124266147613525,
          2.0025243759155273,
          1.9925003051757812,
          1.9823533296585083,
          1.972082257270813,
          1.9616868495941162,
          1.9511659145355225,
          1.9405186176300049,
          1.9297442436218262,
          1.9188425540924072,
          1.9078128337860107,
          1.8966541290283203,
          1.8853659629821777,
          1.8739482164382935,
          1.862400770187378,
          1.850722074508667,
          1.8389129638671875,
          1.8269726037979126,
          1.8149007558822632,
          1.8026978969573975,
          1.790363073348999,
          1.7778973579406738,
          1.7653002738952637,
          1.7525720596313477,
          1.7397129535675049,
          1.7267231941223145,
          1.7136034965515137,
          1.7003544569015503,
          1.6869761943817139,
          1.673470139503479,
          1.6598366498947144,
          1.6460766792297363,
          1.6321914196014404,
          1.6181817054748535,
          1.6040492057800293,
          1.5897951126098633,
          1.5754204988479614,
          1.5609275102615356,
          1.546317458152771,
          1.5315923690795898,
          1.5167540311813354,
          1.5018045902252197,
          1.4867463111877441,
          1.4715815782546997,
          1.4563127756118774,
          1.4409420490264893,
          1.4254727363586426,
          1.4099072217941284,
          1.3942489624023438,
          1.3785004615783691,
          1.3626656532287598,
          1.3467471599578857,
          1.3307489156723022,
          1.314674735069275,
          1.2985279560089111,
          1.2823128700256348,
          1.2660329341888428,
          1.2496930360794067,
          1.2332971096038818,
          1.2168495655059814,
          1.200355052947998,
          1.183817982673645,
          1.167243480682373,
          1.1506361961364746,
          1.1340012550354004,
          1.1173436641693115,
          1.1006686687469482,
          1.0839818716049194,
          1.0672883987426758,
          1.050593614578247,
          1.0339034795761108,
          1.0172237157821655,
          1.000559687614441,
          0.9839173555374146,
          0.9673029184341431,
          0.9507217407226562,
          0.9341802597045898,
          0.9176843166351318,
          0.9012397527694702,
          0.884853184223175,
          0.8685302138328552,
          0.8522769212722778,
          0.8360998034477234,
          0.820004403591156,
          0.8039971590042114,
          0.7880837917327881,
          0.7722705602645874,
          0.7565629482269287,
          0.7409670948982239,
          0.7254884243011475,
          0.7101330757141113,
          0.6949061155319214,
          0.6798132658004761,
          0.6648597717285156,
          0.6500508189201355,
          0.6353914737701416,
          0.6208866238594055,
          0.6065409183502197,
          0.5923590064048767,
          0.5783451795578003,
          0.5645037293434143,
          0.5508386492729187,
          0.5373536348342896,
          0.5240523219108582,
          0.5109380483627319,
          0.49801406264305115,
          0.4852830767631531,
          0.47274792194366455,
          0.460411012172699,
          0.4482746720314026,
          0.43634092807769775,
          0.42461147904396057,
          0.4130876064300537,
          0.40177080035209656,
          0.3906623423099518,
          0.3797626793384552,
          0.36907249689102173,
          0.35859236121177673,
          0.34832215309143066,
          0.33826202154159546,
          0.3284115791320801,
          0.3187704384326935,
          0.3093377351760864,
          0.30011284351348877,
          0.29109442234039307,
          0.28228145837783813,
          0.27367258071899414,
          0.26526597142219543,
          0.257060170173645,
          0.2490532100200653,
          0.24124309420585632,
          0.233627587556839,
          0.22620460391044617,
          0.21897168457508087,
          0.2119264006614685,
          0.20506608486175537,
          0.1983882486820221,
          0.1918899118900299,
          0.18556851148605347,
          0.17942094802856445,
          0.17344439029693604,
          0.16763588786125183,
          0.16199231147766113,
          0.15651065111160278,
          0.15118783712387085,
          0.14602062106132507,
          0.14100590348243713,
          0.13614054024219513,
          0.13142129778862,
          0.12684506177902222,
          0.1224086731672287,
          0.11810886859893799,
          0.11394254863262177,
          0.10990650206804276,
          0.10599775612354279,
          0.10221297293901443,
          0.09854929149150848,
          0.09500347077846527,
          0.09157261997461319,
          0.08825370669364929,
          0.08504368364810944,
          0.08193977177143097,
          0.07893900573253632,
          0.07603856921195984,
          0.07323569059371948,
          0.07052761316299438,
          0.06791165471076965,
          0.06538509577512741,
          0.06294537335634232,
          0.06058987230062485,
          0.058316223323345184,
          0.05612185597419739,
          0.054004423320293427,
          0.0519615039229393,
          0.04999084398150444,
          0.048090171068906784,
          0.04625732824206352,
          0.04449015483260155,
          0.042786531150341034,
          0.04114440456032753,
          0.03956182301044464,
          0.03803679719567299,
          0.03656751662492752,
          0.03515206649899483,
          0.033788640052080154,
          0.032475546002388,
          0.031211046501994133,
          0.02999354526400566,
          0.02882138267159462,
          0.027693046256899834,
          0.0266069658100605,
          0.025561749935150146,
          0.024555925279855728,
          0.0235881544649601,
          0.022657005116343498,
          0.021761301904916763,
          0.020899701863527298,
          0.020070988684892654,
          0.01927402801811695,
          0.01850765012204647,
          0.017770759761333466,
          0.017062271013855934,
          0.01638115383684635,
          0.015726406127214432,
          0.015097063034772873,
          0.014492183923721313,
          0.013910870999097824,
          0.013352252542972565,
          0.012815464287996292,
          0.012299718335270882,
          0.011804193258285522,
          0.011328152380883694,
          0.010870849713683128,
          0.010431607253849506,
          0.010009678080677986,
          0.00960446149110794,
          0.00921529158949852,
          0.00884157232940197,
          0.008482694625854492,
          0.008138117380440235,
          0.007807242684066296,
          0.007489589974284172,
          0.007184627465903759,
          0.0068918438628315926,
          0.006610798183828592,
          0.006341025233268738,
          0.006082076579332352,
          0.005833524279296398,
          0.005594996269792318,
          0.005366065073758364,
          0.005146367941051722,
          0.004935529548674822,
          0.004733209032565355,
          0.004539073910564184,
          0.004352796357125044,
          0.0041740513406693935,
          0.0040025729686021805,
          0.0038380471523851156,
          0.0036802098620682955,
          0.0035287768114358187,
          0.0033835184294730425,
          0.0032441667281091213,
          0.003110487014055252,
          0.0029822676442563534,
          0.002859277417883277,
          0.0027413074858486652,
          0.0026281671598553658,
          0.0025196410715579987,
          0.002415567636489868,
          0.002315743826329708,
          0.0022200122475624084,
          0.00212821364402771,
          0.0020401699002832174,
          0.0019557501655071974,
          0.0018747840076684952,
          0.0017971498891711235,
          0.0017227082280442119,
          0.0016513256123289466,
          0.0015828846953809261,
          0.0015172583516687155,
          0.00145433540455997,
          0.0013940052594989538,
          0.0013361643068492413,
          0.0012807035818696022,
          0.001227537402883172,
          0.0011765608796849847,
          0.0011276958975940943,
          0.0010808426886796951,
          0.0010359282605350018,
          0.000992868561297655,
          0.0009515957208350301,
          0.0009120272588916123,
          0.0008740965276956558,
          0.0008377324556931853,
          0.000802879745606333,
          0.0007694673840887845,
          0.0007374383858405054,
          0.0007067384431138635,
          0.0006773147615604103,
          0.0006491066887974739,
          0.0006220715004019439,
          0.0005961580900475383,
          0.0005713184364140034,
          0.0005475144716911018,
          0.0005246971850283444,
          0.0005028225714340806,
          0.0004818621091544628,
          0.0004617765371222049,
          0.0004425168444868177,
          0.0004240643756929785,
          0.0004063766682520509,
          0.00038942572427913547,
          0.00037317932583391666,
          0.0003576104645617306,
          0.0003426873590797186,
          0.0003283873084001243,
          0.00031468120869249105,
          0.000301547406706959,
          0.00028895860305055976,
          0.0002768936101347208,
          0.00026533339405432343,
          0.00025425542844459414,
          0.0002436388749629259,
          0.0002334644814254716,
          0.00022371255909092724,
          0.0002143677556887269,
          0.00020541329286061227,
          0.00019683237769640982,
          0.00018861141870729625,
          0.00018073079991154373,
          0.00017317802121397108,
          0.0001659425179241225,
          0.0001590079045854509,
          0.00015236213221214712,
          0.00014599542191717774,
          0.00013989290164317936,
          0.00013404763012658805,
          0.0001284433383261785,
          0.0001230750058311969,
          0.0001179301252705045,
          0.00011300014739390463,
          0.0001082761591533199,
          0.0001037489710142836,
          0.00009941165626514703,
          0.00009525541099719703,
          0.00009127370140049607,
          0.00008745593368075788,
          0.00008380074723390862,
          0.00008029599848669022,
          0.0000769377511460334,
          0.00007372054096776992,
          0.00007063793600536883,
          0.00006768408638890833,
          0.00006485330959549174,
          0.00006214149470906705,
          0.00005954305379418656,
          0.000057051995099755004,
          0.00005466665606945753,
          0.00005237968434812501,
          0.00005018938099965453,
          0.000048090241762110963,
          0.000046078392188064754,
          0.00004415105649968609,
          0.000042304724047426134,
          0.000040535123844165355,
          0.00003883920726366341,
          0.00003721491520991549,
          0.00003565905353752896,
          0.000034167751437053084,
          0.00003273797483416274,
          0.000031369334465125576,
          0.000030056387913646176,
          0.000028799633582821116,
          0.000027594778657658026,
          0.00002644006599439308,
          0.000025335117243230343,
          0.00002427495928714052
         ],
         "yaxis": "y"
        },
        {
         "hovertemplate": "variable=Temperature<br>index=%{x}<br>value=%{y}<extra></extra>",
         "legendgroup": "Temperature",
         "line": {
          "color": "#EF553B",
          "dash": "solid"
         },
         "marker": {
          "symbol": "circle"
         },
         "mode": "lines",
         "name": "Temperature",
         "showlegend": true,
         "type": "scattergl",
         "x": [
          0,
          1,
          2,
          3,
          4,
          5,
          6,
          7,
          8,
          9,
          10,
          11,
          12,
          13,
          14,
          15,
          16,
          17,
          18,
          19,
          20,
          21,
          22,
          23,
          24,
          25,
          26,
          27,
          28,
          29,
          30,
          31,
          32,
          33,
          34,
          35,
          36,
          37,
          38,
          39,
          40,
          41,
          42,
          43,
          44,
          45,
          46,
          47,
          48,
          49,
          50,
          51,
          52,
          53,
          54,
          55,
          56,
          57,
          58,
          59,
          60,
          61,
          62,
          63,
          64,
          65,
          66,
          67,
          68,
          69,
          70,
          71,
          72,
          73,
          74,
          75,
          76,
          77,
          78,
          79,
          80,
          81,
          82,
          83,
          84,
          85,
          86,
          87,
          88,
          89,
          90,
          91,
          92,
          93,
          94,
          95,
          96,
          97,
          98,
          99,
          100,
          101,
          102,
          103,
          104,
          105,
          106,
          107,
          108,
          109,
          110,
          111,
          112,
          113,
          114,
          115,
          116,
          117,
          118,
          119,
          120,
          121,
          122,
          123,
          124,
          125,
          126,
          127,
          128,
          129,
          130,
          131,
          132,
          133,
          134,
          135,
          136,
          137,
          138,
          139,
          140,
          141,
          142,
          143,
          144,
          145,
          146,
          147,
          148,
          149,
          150,
          151,
          152,
          153,
          154,
          155,
          156,
          157,
          158,
          159,
          160,
          161,
          162,
          163,
          164,
          165,
          166,
          167,
          168,
          169,
          170,
          171,
          172,
          173,
          174,
          175,
          176,
          177,
          178,
          179,
          180,
          181,
          182,
          183,
          184,
          185,
          186,
          187,
          188,
          189,
          190,
          191,
          192,
          193,
          194,
          195,
          196,
          197,
          198,
          199,
          200,
          201,
          202,
          203,
          204,
          205,
          206,
          207,
          208,
          209,
          210,
          211,
          212,
          213,
          214,
          215,
          216,
          217,
          218,
          219,
          220,
          221,
          222,
          223,
          224,
          225,
          226,
          227,
          228,
          229,
          230,
          231,
          232,
          233,
          234,
          235,
          236,
          237,
          238,
          239,
          240,
          241,
          242,
          243,
          244,
          245,
          246,
          247,
          248,
          249,
          250,
          251,
          252,
          253,
          254,
          255,
          256,
          257,
          258,
          259,
          260,
          261,
          262,
          263,
          264,
          265,
          266,
          267,
          268,
          269,
          270,
          271,
          272,
          273,
          274,
          275,
          276,
          277,
          278,
          279,
          280,
          281,
          282,
          283,
          284,
          285,
          286,
          287,
          288,
          289,
          290,
          291,
          292,
          293,
          294,
          295,
          296,
          297,
          298,
          299,
          300,
          301,
          302,
          303,
          304,
          305,
          306,
          307,
          308,
          309,
          310,
          311,
          312,
          313,
          314,
          315,
          316,
          317,
          318,
          319,
          320,
          321,
          322,
          323,
          324,
          325,
          326,
          327,
          328,
          329,
          330,
          331,
          332,
          333,
          334,
          335,
          336,
          337,
          338,
          339,
          340,
          341,
          342,
          343,
          344,
          345,
          346,
          347,
          348,
          349,
          350,
          351,
          352,
          353,
          354,
          355,
          356,
          357,
          358,
          359,
          360,
          361,
          362,
          363,
          364,
          365,
          366,
          367,
          368,
          369,
          370,
          371,
          372,
          373,
          374,
          375,
          376,
          377,
          378,
          379,
          380,
          381,
          382,
          383,
          384,
          385,
          386,
          387,
          388,
          389,
          390,
          391,
          392,
          393,
          394,
          395,
          396,
          397,
          398,
          399,
          400,
          401,
          402,
          403,
          404,
          405,
          406,
          407,
          408,
          409,
          410,
          411,
          412,
          413,
          414,
          415,
          416,
          417,
          418,
          419,
          420,
          421,
          422,
          423,
          424,
          425,
          426,
          427,
          428,
          429,
          430,
          431,
          432,
          433,
          434,
          435,
          436,
          437,
          438,
          439,
          440,
          441,
          442,
          443,
          444,
          445,
          446,
          447,
          448,
          449,
          450,
          451,
          452,
          453,
          454,
          455,
          456,
          457,
          458,
          459,
          460,
          461,
          462,
          463,
          464,
          465,
          466,
          467,
          468,
          469,
          470,
          471,
          472,
          473,
          474,
          475,
          476,
          477,
          478,
          479,
          480,
          481,
          482,
          483,
          484,
          485,
          486,
          487,
          488,
          489,
          490,
          491,
          492,
          493,
          494,
          495,
          496,
          497,
          498,
          499,
          500,
          501,
          502,
          503,
          504,
          505,
          506,
          507,
          508,
          509,
          510,
          511,
          512,
          513,
          514,
          515,
          516,
          517,
          518,
          519,
          520,
          521,
          522,
          523,
          524,
          525,
          526,
          527,
          528,
          529,
          530,
          531,
          532,
          533,
          534,
          535,
          536,
          537,
          538,
          539,
          540,
          541,
          542,
          543,
          544,
          545,
          546,
          547,
          548,
          549,
          550,
          551,
          552,
          553,
          554,
          555,
          556,
          557,
          558,
          559,
          560,
          561,
          562,
          563,
          564,
          565,
          566,
          567,
          568,
          569,
          570,
          571,
          572,
          573,
          574,
          575,
          576,
          577,
          578,
          579,
          580,
          581,
          582,
          583,
          584,
          585,
          586,
          587,
          588,
          589,
          590,
          591,
          592,
          593,
          594,
          595,
          596,
          597,
          598,
          599,
          600,
          601,
          602,
          603,
          604,
          605,
          606,
          607,
          608,
          609,
          610,
          611,
          612,
          613,
          614,
          615,
          616,
          617,
          618,
          619,
          620,
          621,
          622,
          623,
          624,
          625,
          626,
          627,
          628,
          629,
          630,
          631,
          632,
          633,
          634,
          635,
          636,
          637,
          638,
          639,
          640,
          641,
          642,
          643,
          644,
          645,
          646,
          647,
          648,
          649,
          650,
          651,
          652,
          653,
          654,
          655,
          656,
          657,
          658,
          659,
          660,
          661,
          662,
          663,
          664,
          665,
          666,
          667,
          668,
          669,
          670,
          671,
          672,
          673,
          674,
          675,
          676,
          677,
          678,
          679,
          680,
          681,
          682,
          683,
          684,
          685,
          686,
          687,
          688,
          689,
          690,
          691,
          692,
          693,
          694,
          695,
          696,
          697,
          698,
          699,
          700,
          701,
          702,
          703,
          704,
          705,
          706,
          707,
          708,
          709,
          710,
          711,
          712,
          713,
          714,
          715,
          716,
          717,
          718,
          719,
          720,
          721,
          722,
          723,
          724,
          725,
          726,
          727,
          728,
          729,
          730,
          731,
          732,
          733,
          734,
          735,
          736,
          737,
          738,
          739,
          740,
          741,
          742,
          743,
          744,
          745,
          746,
          747,
          748,
          749,
          750,
          751,
          752,
          753,
          754,
          755,
          756,
          757,
          758,
          759,
          760,
          761,
          762,
          763,
          764,
          765,
          766,
          767,
          768,
          769,
          770,
          771,
          772,
          773,
          774,
          775,
          776,
          777,
          778,
          779,
          780,
          781,
          782,
          783,
          784,
          785,
          786,
          787,
          788,
          789,
          790,
          791,
          792,
          793,
          794,
          795,
          796,
          797,
          798,
          799,
          800,
          801,
          802,
          803,
          804,
          805,
          806,
          807,
          808,
          809,
          810,
          811,
          812,
          813,
          814,
          815,
          816,
          817,
          818,
          819,
          820,
          821,
          822,
          823,
          824,
          825,
          826,
          827,
          828,
          829,
          830,
          831,
          832,
          833,
          834,
          835,
          836,
          837,
          838,
          839,
          840,
          841,
          842,
          843,
          844,
          845,
          846,
          847,
          848,
          849,
          850,
          851,
          852,
          853,
          854,
          855,
          856,
          857,
          858,
          859,
          860,
          861,
          862,
          863,
          864,
          865,
          866,
          867,
          868,
          869,
          870,
          871,
          872,
          873,
          874,
          875,
          876,
          877,
          878,
          879,
          880,
          881,
          882,
          883,
          884,
          885,
          886,
          887,
          888,
          889,
          890,
          891,
          892,
          893,
          894,
          895,
          896,
          897,
          898,
          899,
          900,
          901,
          902,
          903,
          904,
          905,
          906,
          907,
          908,
          909,
          910,
          911,
          912,
          913,
          914,
          915,
          916,
          917,
          918,
          919,
          920,
          921,
          922,
          923,
          924,
          925,
          926,
          927,
          928,
          929,
          930,
          931,
          932,
          933,
          934,
          935,
          936,
          937,
          938,
          939,
          940,
          941,
          942,
          943,
          944,
          945,
          946,
          947,
          948,
          949,
          950,
          951,
          952,
          953,
          954,
          955,
          956,
          957,
          958,
          959,
          960,
          961,
          962,
          963,
          964,
          965,
          966,
          967,
          968,
          969,
          970,
          971,
          972,
          973,
          974,
          975,
          976,
          977,
          978,
          979,
          980,
          981,
          982,
          983,
          984,
          985,
          986,
          987,
          988,
          989,
          990,
          991,
          992,
          993,
          994,
          995,
          996,
          997,
          998,
          999
         ],
         "xaxis": "x",
         "y": [
          1,
          1,
          1,
          1,
          1,
          1,
          1,
          1,
          1,
          1,
          1,
          1,
          1,
          1,
          1,
          1,
          1,
          1,
          1,
          1,
          1,
          1,
          1,
          1,
          1,
          1,
          1,
          1,
          1,
          1,
          1,
          1,
          1,
          1,
          1,
          1,
          1,
          1,
          1,
          1,
          1,
          1,
          1,
          1,
          1,
          1,
          1,
          1,
          1,
          1,
          1,
          1,
          1,
          1,
          1,
          1,
          1,
          1,
          1,
          1,
          1,
          1,
          1,
          1,
          1,
          1,
          1,
          1,
          1,
          1,
          1,
          1,
          1,
          1,
          1,
          1,
          1,
          1,
          1,
          1,
          1,
          1,
          1,
          1,
          1,
          1,
          1,
          1,
          1,
          1,
          1,
          1,
          1,
          1,
          1,
          1,
          1,
          1,
          1,
          1,
          1,
          1,
          1,
          1,
          1,
          1,
          1,
          1,
          1,
          1,
          1,
          1,
          1,
          1,
          1,
          1,
          1,
          1,
          1,
          1,
          1,
          1,
          1,
          1,
          1,
          1,
          1,
          1,
          1,
          1,
          1,
          1,
          1,
          1,
          1,
          1,
          1,
          1,
          1,
          1,
          1,
          1,
          1,
          1,
          1,
          1,
          1,
          1,
          1,
          1,
          1,
          1,
          1,
          1,
          1,
          1,
          1,
          1,
          1,
          1,
          1,
          1,
          1,
          1,
          1,
          1,
          1,
          1,
          1,
          1,
          1,
          1,
          1,
          1,
          1,
          1,
          1,
          1,
          1,
          1,
          1,
          1,
          1,
          1,
          1,
          1,
          1,
          1,
          1,
          1,
          1,
          1,
          1,
          1,
          1,
          1,
          1,
          1,
          1,
          1,
          1,
          1,
          1,
          1,
          1,
          1,
          1,
          1,
          1,
          1,
          1,
          1,
          1,
          1,
          1,
          1,
          1,
          1,
          1,
          1,
          1,
          1,
          1,
          1,
          1,
          1,
          1,
          1,
          1,
          1,
          1,
          1,
          1,
          1,
          1,
          1,
          1,
          1,
          1,
          1,
          1,
          1,
          1,
          1,
          1,
          1,
          1,
          1,
          1,
          1,
          1,
          1,
          1,
          1,
          1,
          1,
          1,
          1,
          1,
          1,
          1,
          1,
          1,
          1,
          1,
          1,
          1,
          1,
          1,
          1,
          1,
          1,
          1,
          1,
          1,
          1,
          1,
          1,
          1,
          1,
          1,
          1,
          1,
          1,
          1,
          1,
          1,
          1,
          1,
          1,
          1,
          1,
          1,
          1,
          1,
          1,
          1,
          1,
          1,
          1,
          1,
          1,
          1,
          1,
          1,
          1,
          1,
          1,
          1,
          1,
          1,
          1,
          1,
          1,
          1,
          1,
          1,
          1,
          1,
          1,
          1,
          1,
          1,
          1,
          1,
          1,
          1,
          1,
          1,
          1,
          1,
          1,
          1,
          1,
          1,
          1,
          1,
          1,
          1,
          1,
          1,
          1,
          1,
          1,
          1,
          1,
          1,
          1,
          1,
          1,
          1,
          1,
          1,
          1,
          1,
          1,
          1,
          1,
          1,
          1,
          1,
          1,
          1,
          1,
          1,
          1,
          1,
          1,
          1,
          1,
          1,
          1,
          1,
          1,
          1,
          1,
          1,
          1,
          1,
          1,
          1,
          1,
          1,
          1,
          1,
          1,
          1,
          1,
          1,
          1,
          1,
          1,
          1,
          1,
          1,
          1,
          1,
          1,
          1,
          1,
          1,
          1,
          1,
          1,
          1,
          1,
          1,
          1,
          1,
          1,
          1,
          1,
          1,
          1,
          1,
          1,
          1,
          1,
          1,
          1,
          1,
          1,
          1,
          1,
          1,
          1,
          1,
          1,
          1,
          1,
          1,
          1,
          1,
          1,
          1,
          1,
          1,
          1,
          1,
          1,
          1,
          1,
          1,
          1,
          1,
          1,
          1,
          1,
          1,
          1,
          1,
          1,
          1,
          1,
          1,
          1,
          1,
          1,
          1,
          1,
          1,
          1,
          1,
          1,
          1,
          1,
          1,
          1,
          1,
          1,
          1,
          1,
          1,
          1,
          1,
          1,
          1,
          1,
          1,
          1,
          1,
          1,
          1,
          1,
          1,
          1,
          1,
          1,
          1,
          1,
          1,
          1,
          1,
          1,
          1,
          1,
          1,
          1,
          1,
          1,
          1,
          1,
          1,
          1,
          1,
          1,
          1,
          1,
          1,
          1,
          1,
          1,
          1,
          1,
          1,
          1,
          1,
          1,
          1,
          1,
          1,
          1,
          1,
          1,
          1,
          1,
          1,
          1,
          1,
          1,
          1,
          1,
          1,
          1,
          1,
          1,
          1,
          1,
          1,
          1,
          1,
          1,
          1,
          1,
          1,
          1,
          1,
          1,
          1,
          1,
          1,
          1,
          1,
          1,
          1,
          1,
          1,
          1,
          1,
          1,
          1,
          1,
          1,
          1,
          1,
          1,
          1,
          1,
          1,
          1,
          1,
          1,
          1,
          1,
          1,
          1,
          1,
          1,
          1,
          1,
          1,
          1,
          1,
          1,
          1,
          1,
          1,
          1,
          1,
          1,
          1,
          1,
          1,
          1,
          1,
          1,
          1,
          1,
          1,
          1,
          1,
          1,
          1,
          1,
          1,
          1,
          1,
          1,
          1,
          1,
          1,
          1,
          1,
          1,
          1,
          1,
          1,
          1,
          1,
          1,
          1,
          1,
          1,
          1,
          1,
          1,
          1,
          1,
          1,
          1,
          1,
          1,
          1,
          1,
          1,
          1,
          1,
          1,
          1,
          1,
          1,
          1,
          1,
          1,
          1,
          1,
          1,
          1,
          1,
          1,
          1,
          1,
          1,
          1,
          1,
          1,
          1,
          1,
          1,
          1,
          1,
          1,
          1,
          1,
          1,
          1,
          1,
          1,
          1,
          1,
          1,
          1,
          1,
          1,
          1,
          1,
          1,
          1,
          1,
          1,
          1,
          1,
          1,
          1,
          1,
          1,
          1,
          1,
          1,
          1,
          1,
          1,
          1,
          1,
          1,
          1,
          1,
          1,
          1,
          1,
          1,
          1,
          1,
          1,
          1,
          1,
          1,
          1,
          1,
          1,
          1,
          1,
          1,
          1,
          1,
          1,
          1,
          1,
          1,
          1,
          1,
          1,
          1,
          1,
          1,
          1,
          1,
          1,
          1,
          1,
          1,
          1,
          1,
          1,
          1,
          1,
          1,
          1,
          1,
          1,
          1,
          1,
          1,
          1,
          1,
          1,
          1,
          1,
          1,
          1,
          1,
          1,
          1,
          1,
          1,
          1,
          1,
          1,
          1,
          1,
          1,
          1,
          1,
          1,
          1,
          1,
          1,
          1,
          1,
          1,
          1,
          1,
          1,
          1,
          1,
          1,
          1,
          1,
          1,
          1,
          1,
          1,
          1,
          1,
          1,
          1,
          1,
          1,
          1,
          1,
          1,
          1,
          1,
          1,
          1,
          1,
          1,
          1,
          1,
          1,
          1,
          1,
          1,
          1,
          1,
          1,
          1,
          1,
          1,
          1,
          1,
          1,
          1,
          1,
          1,
          1,
          1,
          1,
          1,
          1,
          1,
          1,
          1,
          1,
          1,
          1,
          1,
          1,
          1,
          1,
          1,
          1,
          1,
          1,
          1,
          1,
          1,
          1,
          1,
          1,
          1,
          1,
          1,
          1,
          1,
          1,
          1,
          1,
          1,
          1,
          1,
          1,
          1,
          1,
          1,
          1,
          1,
          1,
          1,
          1,
          1,
          1,
          1,
          1,
          1,
          1,
          1,
          1,
          1,
          1,
          1,
          1,
          1,
          1,
          1,
          1,
          1,
          1,
          1,
          1,
          1,
          1,
          1,
          1,
          1,
          1,
          1,
          1,
          1,
          1,
          1,
          1,
          1,
          1,
          1,
          1,
          1,
          1,
          1,
          1,
          1,
          1,
          1,
          1,
          1,
          1,
          1,
          1,
          1,
          1,
          1,
          1,
          1,
          1,
          1,
          1,
          1,
          1,
          1,
          1,
          1,
          1,
          1,
          1,
          1,
          1,
          1,
          1,
          1,
          1,
          1,
          1,
          1,
          1,
          1,
          1,
          1,
          1,
          1,
          1,
          1,
          1,
          1,
          1,
          1,
          1,
          1,
          1,
          1,
          1,
          1,
          1,
          1,
          1,
          1,
          1,
          1,
          1,
          1,
          1,
          1,
          1,
          1,
          1,
          1,
          1,
          1,
          1,
          1,
          1,
          1,
          1,
          1,
          1,
          1,
          1,
          1,
          1,
          1,
          1,
          1,
          1,
          1,
          1,
          1,
          1,
          1,
          1,
          1,
          1,
          1,
          1,
          1,
          1,
          1,
          1,
          1,
          1,
          1,
          1
         ],
         "yaxis": "y"
        }
       ],
       "layout": {
        "hovermode": "x unified",
        "legend": {
         "title": {
          "text": "variable"
         },
         "tracegroupgap": 0
        },
        "margin": {
         "t": 60
        },
        "template": {
         "data": {
          "bar": [
           {
            "error_x": {
             "color": "#2a3f5f"
            },
            "error_y": {
             "color": "#2a3f5f"
            },
            "marker": {
             "line": {
              "color": "#E5ECF6",
              "width": 0.5
             },
             "pattern": {
              "fillmode": "overlay",
              "size": 10,
              "solidity": 0.2
             }
            },
            "type": "bar"
           }
          ],
          "barpolar": [
           {
            "marker": {
             "line": {
              "color": "#E5ECF6",
              "width": 0.5
             },
             "pattern": {
              "fillmode": "overlay",
              "size": 10,
              "solidity": 0.2
             }
            },
            "type": "barpolar"
           }
          ],
          "carpet": [
           {
            "aaxis": {
             "endlinecolor": "#2a3f5f",
             "gridcolor": "white",
             "linecolor": "white",
             "minorgridcolor": "white",
             "startlinecolor": "#2a3f5f"
            },
            "baxis": {
             "endlinecolor": "#2a3f5f",
             "gridcolor": "white",
             "linecolor": "white",
             "minorgridcolor": "white",
             "startlinecolor": "#2a3f5f"
            },
            "type": "carpet"
           }
          ],
          "choropleth": [
           {
            "colorbar": {
             "outlinewidth": 0,
             "ticks": ""
            },
            "type": "choropleth"
           }
          ],
          "contour": [
           {
            "colorbar": {
             "outlinewidth": 0,
             "ticks": ""
            },
            "colorscale": [
             [
              0,
              "#0d0887"
             ],
             [
              0.1111111111111111,
              "#46039f"
             ],
             [
              0.2222222222222222,
              "#7201a8"
             ],
             [
              0.3333333333333333,
              "#9c179e"
             ],
             [
              0.4444444444444444,
              "#bd3786"
             ],
             [
              0.5555555555555556,
              "#d8576b"
             ],
             [
              0.6666666666666666,
              "#ed7953"
             ],
             [
              0.7777777777777778,
              "#fb9f3a"
             ],
             [
              0.8888888888888888,
              "#fdca26"
             ],
             [
              1,
              "#f0f921"
             ]
            ],
            "type": "contour"
           }
          ],
          "contourcarpet": [
           {
            "colorbar": {
             "outlinewidth": 0,
             "ticks": ""
            },
            "type": "contourcarpet"
           }
          ],
          "heatmap": [
           {
            "colorbar": {
             "outlinewidth": 0,
             "ticks": ""
            },
            "colorscale": [
             [
              0,
              "#0d0887"
             ],
             [
              0.1111111111111111,
              "#46039f"
             ],
             [
              0.2222222222222222,
              "#7201a8"
             ],
             [
              0.3333333333333333,
              "#9c179e"
             ],
             [
              0.4444444444444444,
              "#bd3786"
             ],
             [
              0.5555555555555556,
              "#d8576b"
             ],
             [
              0.6666666666666666,
              "#ed7953"
             ],
             [
              0.7777777777777778,
              "#fb9f3a"
             ],
             [
              0.8888888888888888,
              "#fdca26"
             ],
             [
              1,
              "#f0f921"
             ]
            ],
            "type": "heatmap"
           }
          ],
          "heatmapgl": [
           {
            "colorbar": {
             "outlinewidth": 0,
             "ticks": ""
            },
            "colorscale": [
             [
              0,
              "#0d0887"
             ],
             [
              0.1111111111111111,
              "#46039f"
             ],
             [
              0.2222222222222222,
              "#7201a8"
             ],
             [
              0.3333333333333333,
              "#9c179e"
             ],
             [
              0.4444444444444444,
              "#bd3786"
             ],
             [
              0.5555555555555556,
              "#d8576b"
             ],
             [
              0.6666666666666666,
              "#ed7953"
             ],
             [
              0.7777777777777778,
              "#fb9f3a"
             ],
             [
              0.8888888888888888,
              "#fdca26"
             ],
             [
              1,
              "#f0f921"
             ]
            ],
            "type": "heatmapgl"
           }
          ],
          "histogram": [
           {
            "marker": {
             "pattern": {
              "fillmode": "overlay",
              "size": 10,
              "solidity": 0.2
             }
            },
            "type": "histogram"
           }
          ],
          "histogram2d": [
           {
            "colorbar": {
             "outlinewidth": 0,
             "ticks": ""
            },
            "colorscale": [
             [
              0,
              "#0d0887"
             ],
             [
              0.1111111111111111,
              "#46039f"
             ],
             [
              0.2222222222222222,
              "#7201a8"
             ],
             [
              0.3333333333333333,
              "#9c179e"
             ],
             [
              0.4444444444444444,
              "#bd3786"
             ],
             [
              0.5555555555555556,
              "#d8576b"
             ],
             [
              0.6666666666666666,
              "#ed7953"
             ],
             [
              0.7777777777777778,
              "#fb9f3a"
             ],
             [
              0.8888888888888888,
              "#fdca26"
             ],
             [
              1,
              "#f0f921"
             ]
            ],
            "type": "histogram2d"
           }
          ],
          "histogram2dcontour": [
           {
            "colorbar": {
             "outlinewidth": 0,
             "ticks": ""
            },
            "colorscale": [
             [
              0,
              "#0d0887"
             ],
             [
              0.1111111111111111,
              "#46039f"
             ],
             [
              0.2222222222222222,
              "#7201a8"
             ],
             [
              0.3333333333333333,
              "#9c179e"
             ],
             [
              0.4444444444444444,
              "#bd3786"
             ],
             [
              0.5555555555555556,
              "#d8576b"
             ],
             [
              0.6666666666666666,
              "#ed7953"
             ],
             [
              0.7777777777777778,
              "#fb9f3a"
             ],
             [
              0.8888888888888888,
              "#fdca26"
             ],
             [
              1,
              "#f0f921"
             ]
            ],
            "type": "histogram2dcontour"
           }
          ],
          "mesh3d": [
           {
            "colorbar": {
             "outlinewidth": 0,
             "ticks": ""
            },
            "type": "mesh3d"
           }
          ],
          "parcoords": [
           {
            "line": {
             "colorbar": {
              "outlinewidth": 0,
              "ticks": ""
             }
            },
            "type": "parcoords"
           }
          ],
          "pie": [
           {
            "automargin": true,
            "type": "pie"
           }
          ],
          "scatter": [
           {
            "marker": {
             "colorbar": {
              "outlinewidth": 0,
              "ticks": ""
             }
            },
            "type": "scatter"
           }
          ],
          "scatter3d": [
           {
            "line": {
             "colorbar": {
              "outlinewidth": 0,
              "ticks": ""
             }
            },
            "marker": {
             "colorbar": {
              "outlinewidth": 0,
              "ticks": ""
             }
            },
            "type": "scatter3d"
           }
          ],
          "scattercarpet": [
           {
            "marker": {
             "colorbar": {
              "outlinewidth": 0,
              "ticks": ""
             }
            },
            "type": "scattercarpet"
           }
          ],
          "scattergeo": [
           {
            "marker": {
             "colorbar": {
              "outlinewidth": 0,
              "ticks": ""
             }
            },
            "type": "scattergeo"
           }
          ],
          "scattergl": [
           {
            "marker": {
             "colorbar": {
              "outlinewidth": 0,
              "ticks": ""
             }
            },
            "type": "scattergl"
           }
          ],
          "scattermapbox": [
           {
            "marker": {
             "colorbar": {
              "outlinewidth": 0,
              "ticks": ""
             }
            },
            "type": "scattermapbox"
           }
          ],
          "scatterpolar": [
           {
            "marker": {
             "colorbar": {
              "outlinewidth": 0,
              "ticks": ""
             }
            },
            "type": "scatterpolar"
           }
          ],
          "scatterpolargl": [
           {
            "marker": {
             "colorbar": {
              "outlinewidth": 0,
              "ticks": ""
             }
            },
            "type": "scatterpolargl"
           }
          ],
          "scatterternary": [
           {
            "marker": {
             "colorbar": {
              "outlinewidth": 0,
              "ticks": ""
             }
            },
            "type": "scatterternary"
           }
          ],
          "surface": [
           {
            "colorbar": {
             "outlinewidth": 0,
             "ticks": ""
            },
            "colorscale": [
             [
              0,
              "#0d0887"
             ],
             [
              0.1111111111111111,
              "#46039f"
             ],
             [
              0.2222222222222222,
              "#7201a8"
             ],
             [
              0.3333333333333333,
              "#9c179e"
             ],
             [
              0.4444444444444444,
              "#bd3786"
             ],
             [
              0.5555555555555556,
              "#d8576b"
             ],
             [
              0.6666666666666666,
              "#ed7953"
             ],
             [
              0.7777777777777778,
              "#fb9f3a"
             ],
             [
              0.8888888888888888,
              "#fdca26"
             ],
             [
              1,
              "#f0f921"
             ]
            ],
            "type": "surface"
           }
          ],
          "table": [
           {
            "cells": {
             "fill": {
              "color": "#EBF0F8"
             },
             "line": {
              "color": "white"
             }
            },
            "header": {
             "fill": {
              "color": "#C8D4E3"
             },
             "line": {
              "color": "white"
             }
            },
            "type": "table"
           }
          ]
         },
         "layout": {
          "annotationdefaults": {
           "arrowcolor": "#2a3f5f",
           "arrowhead": 0,
           "arrowwidth": 1
          },
          "autotypenumbers": "strict",
          "coloraxis": {
           "colorbar": {
            "outlinewidth": 0,
            "ticks": ""
           }
          },
          "colorscale": {
           "diverging": [
            [
             0,
             "#8e0152"
            ],
            [
             0.1,
             "#c51b7d"
            ],
            [
             0.2,
             "#de77ae"
            ],
            [
             0.3,
             "#f1b6da"
            ],
            [
             0.4,
             "#fde0ef"
            ],
            [
             0.5,
             "#f7f7f7"
            ],
            [
             0.6,
             "#e6f5d0"
            ],
            [
             0.7,
             "#b8e186"
            ],
            [
             0.8,
             "#7fbc41"
            ],
            [
             0.9,
             "#4d9221"
            ],
            [
             1,
             "#276419"
            ]
           ],
           "sequential": [
            [
             0,
             "#0d0887"
            ],
            [
             0.1111111111111111,
             "#46039f"
            ],
            [
             0.2222222222222222,
             "#7201a8"
            ],
            [
             0.3333333333333333,
             "#9c179e"
            ],
            [
             0.4444444444444444,
             "#bd3786"
            ],
            [
             0.5555555555555556,
             "#d8576b"
            ],
            [
             0.6666666666666666,
             "#ed7953"
            ],
            [
             0.7777777777777778,
             "#fb9f3a"
            ],
            [
             0.8888888888888888,
             "#fdca26"
            ],
            [
             1,
             "#f0f921"
            ]
           ],
           "sequentialminus": [
            [
             0,
             "#0d0887"
            ],
            [
             0.1111111111111111,
             "#46039f"
            ],
            [
             0.2222222222222222,
             "#7201a8"
            ],
            [
             0.3333333333333333,
             "#9c179e"
            ],
            [
             0.4444444444444444,
             "#bd3786"
            ],
            [
             0.5555555555555556,
             "#d8576b"
            ],
            [
             0.6666666666666666,
             "#ed7953"
            ],
            [
             0.7777777777777778,
             "#fb9f3a"
            ],
            [
             0.8888888888888888,
             "#fdca26"
            ],
            [
             1,
             "#f0f921"
            ]
           ]
          },
          "colorway": [
           "#636efa",
           "#EF553B",
           "#00cc96",
           "#ab63fa",
           "#FFA15A",
           "#19d3f3",
           "#FF6692",
           "#B6E880",
           "#FF97FF",
           "#FECB52"
          ],
          "font": {
           "color": "#2a3f5f"
          },
          "geo": {
           "bgcolor": "white",
           "lakecolor": "white",
           "landcolor": "#E5ECF6",
           "showlakes": true,
           "showland": true,
           "subunitcolor": "white"
          },
          "hoverlabel": {
           "align": "left"
          },
          "hovermode": "closest",
          "mapbox": {
           "style": "light"
          },
          "paper_bgcolor": "white",
          "plot_bgcolor": "#E5ECF6",
          "polar": {
           "angularaxis": {
            "gridcolor": "white",
            "linecolor": "white",
            "ticks": ""
           },
           "bgcolor": "#E5ECF6",
           "radialaxis": {
            "gridcolor": "white",
            "linecolor": "white",
            "ticks": ""
           }
          },
          "scene": {
           "xaxis": {
            "backgroundcolor": "#E5ECF6",
            "gridcolor": "white",
            "gridwidth": 2,
            "linecolor": "white",
            "showbackground": true,
            "ticks": "",
            "zerolinecolor": "white"
           },
           "yaxis": {
            "backgroundcolor": "#E5ECF6",
            "gridcolor": "white",
            "gridwidth": 2,
            "linecolor": "white",
            "showbackground": true,
            "ticks": "",
            "zerolinecolor": "white"
           },
           "zaxis": {
            "backgroundcolor": "#E5ECF6",
            "gridcolor": "white",
            "gridwidth": 2,
            "linecolor": "white",
            "showbackground": true,
            "ticks": "",
            "zerolinecolor": "white"
           }
          },
          "shapedefaults": {
           "line": {
            "color": "#2a3f5f"
           }
          },
          "ternary": {
           "aaxis": {
            "gridcolor": "white",
            "linecolor": "white",
            "ticks": ""
           },
           "baxis": {
            "gridcolor": "white",
            "linecolor": "white",
            "ticks": ""
           },
           "bgcolor": "#E5ECF6",
           "caxis": {
            "gridcolor": "white",
            "linecolor": "white",
            "ticks": ""
           }
          },
          "title": {
           "x": 0.05
          },
          "xaxis": {
           "automargin": true,
           "gridcolor": "white",
           "linecolor": "white",
           "ticks": "",
           "title": {
            "standoff": 15
           },
           "zerolinecolor": "white",
           "zerolinewidth": 2
          },
          "yaxis": {
           "automargin": true,
           "gridcolor": "white",
           "linecolor": "white",
           "ticks": "",
           "title": {
            "standoff": 15
           },
           "zerolinecolor": "white",
           "zerolinewidth": 2
          }
         }
        },
        "title": {
         "text": "Error and temperature"
        },
        "xaxis": {
         "anchor": "y",
         "domain": [
          0,
          1
         ],
         "title": {
          "text": "Epoch"
         }
        },
        "yaxis": {
         "anchor": "x",
         "domain": [
          0,
          1
         ],
         "title": {
          "text": ""
         }
        }
       }
      }
     },
     "metadata": {},
     "output_type": "display_data"
    }
   ],
   "source": [
    "fig = px.line(df_model_history[[\"Error\",\"Temperature\"]])\n",
    "fig.update_layout(title=\"Error and temperature\",\n",
    "                   xaxis_title='Epoch',\n",
    "                   yaxis_title='',\n",
    "                   hovermode='x unified')\n",
    "fig.write_html(\"Error and temperature.html\")\n",
    "fig.write_image(\"error_temperature.png\")\n",
    "fig.show()"
   ]
  },
  {
   "cell_type": "markdown",
   "metadata": {},
   "source": [
    "---"
   ]
  }
 ],
 "metadata": {
  "kernelspec": {
   "display_name": "Python 3.8.10 64-bit",
   "language": "python",
   "name": "python3"
  },
  "language_info": {
   "codemirror_mode": {
    "name": "ipython",
    "version": 3
   },
   "file_extension": ".py",
   "mimetype": "text/x-python",
   "name": "python",
   "nbconvert_exporter": "python",
   "pygments_lexer": "ipython3",
   "version": "3.8.10"
  },
  "orig_nbformat": 4,
  "vscode": {
   "interpreter": {
    "hash": "916dbcbb3f70747c44a77c7bcd40155683ae19c65e1c03b4aa3499c5328201f1"
   }
  }
 },
 "nbformat": 4,
 "nbformat_minor": 2
}
